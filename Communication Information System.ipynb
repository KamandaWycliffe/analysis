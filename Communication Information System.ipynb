{
 "cells": [
  {
   "cell_type": "markdown",
   "id": "4eeba0b1",
   "metadata": {},
   "source": [
    "#### Import packages\n",
    "\n",
    ">  Import all the packages that will be used in this analysis."
   ]
  },
  {
   "cell_type": "code",
   "execution_count": 803,
   "id": "b62c98ba",
   "metadata": {},
   "outputs": [],
   "source": [
    "import pandas as pd\n",
    "import numpy as np\n",
    "import matplotlib.pyplot as plt"
   ]
  },
  {
   "cell_type": "markdown",
   "id": "40142b9b",
   "metadata": {},
   "source": [
    "#### Import data\n",
    "\n",
    "> a) Load the dataset in Jupyter Notebook."
   ]
  },
  {
   "cell_type": "code",
   "execution_count": 750,
   "id": "e3512b7d",
   "metadata": {},
   "outputs": [],
   "source": [
    "#Load the data\n",
    "data = pd.read_csv('patients.csv')"
   ]
  },
  {
   "cell_type": "markdown",
   "id": "7b290e9c",
   "metadata": {},
   "source": [
    "> b) Using head(), examine the data. Explain your findings. Did you notice anything\n",
    "abnormal or interesting?"
   ]
  },
  {
   "cell_type": "code",
   "execution_count": 751,
   "id": "59fba715",
   "metadata": {},
   "outputs": [
    {
     "data": {
      "text/html": [
       "<div>\n",
       "<style scoped>\n",
       "    .dataframe tbody tr th:only-of-type {\n",
       "        vertical-align: middle;\n",
       "    }\n",
       "\n",
       "    .dataframe tbody tr th {\n",
       "        vertical-align: top;\n",
       "    }\n",
       "\n",
       "    .dataframe thead th {\n",
       "        text-align: right;\n",
       "    }\n",
       "</style>\n",
       "<table border=\"1\" class=\"dataframe\">\n",
       "  <thead>\n",
       "    <tr style=\"text-align: right;\">\n",
       "      <th></th>\n",
       "      <th>Pregnancies</th>\n",
       "      <th>Glucose</th>\n",
       "      <th>BloodPressure</th>\n",
       "      <th>SkinThickness</th>\n",
       "      <th>Insulin</th>\n",
       "      <th>BMI</th>\n",
       "      <th>Pedigree</th>\n",
       "      <th>Age</th>\n",
       "      <th>Diagnosis</th>\n",
       "    </tr>\n",
       "  </thead>\n",
       "  <tbody>\n",
       "    <tr>\n",
       "      <th>0</th>\n",
       "      <td>6</td>\n",
       "      <td>148</td>\n",
       "      <td>72</td>\n",
       "      <td>35</td>\n",
       "      <td>0</td>\n",
       "      <td>33.6</td>\n",
       "      <td>0.627</td>\n",
       "      <td>50</td>\n",
       "      <td>1</td>\n",
       "    </tr>\n",
       "    <tr>\n",
       "      <th>1</th>\n",
       "      <td>1</td>\n",
       "      <td>85</td>\n",
       "      <td>66</td>\n",
       "      <td>29</td>\n",
       "      <td>0</td>\n",
       "      <td>26.6</td>\n",
       "      <td>0.351</td>\n",
       "      <td>31</td>\n",
       "      <td>0</td>\n",
       "    </tr>\n",
       "    <tr>\n",
       "      <th>2</th>\n",
       "      <td>8</td>\n",
       "      <td>183</td>\n",
       "      <td>64</td>\n",
       "      <td>0</td>\n",
       "      <td>0</td>\n",
       "      <td>23.3</td>\n",
       "      <td>0.672</td>\n",
       "      <td>32</td>\n",
       "      <td>1</td>\n",
       "    </tr>\n",
       "    <tr>\n",
       "      <th>3</th>\n",
       "      <td>1</td>\n",
       "      <td>89</td>\n",
       "      <td>66</td>\n",
       "      <td>23</td>\n",
       "      <td>94</td>\n",
       "      <td>28.1</td>\n",
       "      <td>0.167</td>\n",
       "      <td>21</td>\n",
       "      <td>0</td>\n",
       "    </tr>\n",
       "    <tr>\n",
       "      <th>4</th>\n",
       "      <td>0</td>\n",
       "      <td>137</td>\n",
       "      <td>40</td>\n",
       "      <td>35</td>\n",
       "      <td>168</td>\n",
       "      <td>43.1</td>\n",
       "      <td>2.288</td>\n",
       "      <td>33</td>\n",
       "      <td>1</td>\n",
       "    </tr>\n",
       "  </tbody>\n",
       "</table>\n",
       "</div>"
      ],
      "text/plain": [
       "   Pregnancies  Glucose  BloodPressure  SkinThickness  Insulin   BMI  \\\n",
       "0            6      148             72             35        0  33.6   \n",
       "1            1       85             66             29        0  26.6   \n",
       "2            8      183             64              0        0  23.3   \n",
       "3            1       89             66             23       94  28.1   \n",
       "4            0      137             40             35      168  43.1   \n",
       "\n",
       "   Pedigree  Age  Diagnosis  \n",
       "0     0.627   50          1  \n",
       "1     0.351   31          0  \n",
       "2     0.672   32          1  \n",
       "3     0.167   21          0  \n",
       "4     2.288   33          1  "
      ]
     },
     "execution_count": 751,
     "metadata": {},
     "output_type": "execute_result"
    }
   ],
   "source": [
    "#Overview of the data\n",
    "data.head()"
   ]
  },
  {
   "cell_type": "markdown",
   "id": "8ab17dfa",
   "metadata": {},
   "source": [
    ">From the preceeding table, we note that the data has 9 variables. One interesting observation noted is that in the insulin and SkinThickness attributes, there observations whose entries are zero. Ideally, it would not be possible to have a skinthickness of zero making these observations interesting in this case."
   ]
  },
  {
   "cell_type": "markdown",
   "id": "68aa44af",
   "metadata": {},
   "source": [
    "> c) Calculate the mean, median, standard deviation, and quartiles for each independent variable. Explain your results. "
   ]
  },
  {
   "cell_type": "code",
   "execution_count": 752,
   "id": "4714f841",
   "metadata": {},
   "outputs": [
    {
     "data": {
      "text/html": [
       "<div>\n",
       "<style scoped>\n",
       "    .dataframe tbody tr th:only-of-type {\n",
       "        vertical-align: middle;\n",
       "    }\n",
       "\n",
       "    .dataframe tbody tr th {\n",
       "        vertical-align: top;\n",
       "    }\n",
       "\n",
       "    .dataframe thead th {\n",
       "        text-align: right;\n",
       "    }\n",
       "</style>\n",
       "<table border=\"1\" class=\"dataframe\">\n",
       "  <thead>\n",
       "    <tr style=\"text-align: right;\">\n",
       "      <th></th>\n",
       "      <th>0.25</th>\n",
       "      <th>0.75</th>\n",
       "      <th>Mean</th>\n",
       "      <th>Median</th>\n",
       "      <th>Standard Deviation</th>\n",
       "    </tr>\n",
       "  </thead>\n",
       "  <tbody>\n",
       "    <tr>\n",
       "      <th>Pregnancies</th>\n",
       "      <td>1.00000</td>\n",
       "      <td>6.00000</td>\n",
       "      <td>3.845052</td>\n",
       "      <td>3.0000</td>\n",
       "      <td>3.369578</td>\n",
       "    </tr>\n",
       "    <tr>\n",
       "      <th>Glucose</th>\n",
       "      <td>99.00000</td>\n",
       "      <td>140.25000</td>\n",
       "      <td>120.894531</td>\n",
       "      <td>117.0000</td>\n",
       "      <td>31.972618</td>\n",
       "    </tr>\n",
       "    <tr>\n",
       "      <th>BloodPressure</th>\n",
       "      <td>62.00000</td>\n",
       "      <td>80.00000</td>\n",
       "      <td>69.105469</td>\n",
       "      <td>72.0000</td>\n",
       "      <td>19.355807</td>\n",
       "    </tr>\n",
       "    <tr>\n",
       "      <th>SkinThickness</th>\n",
       "      <td>0.00000</td>\n",
       "      <td>32.00000</td>\n",
       "      <td>20.536458</td>\n",
       "      <td>23.0000</td>\n",
       "      <td>15.952218</td>\n",
       "    </tr>\n",
       "    <tr>\n",
       "      <th>Insulin</th>\n",
       "      <td>0.00000</td>\n",
       "      <td>127.25000</td>\n",
       "      <td>79.799479</td>\n",
       "      <td>30.5000</td>\n",
       "      <td>115.244002</td>\n",
       "    </tr>\n",
       "    <tr>\n",
       "      <th>BMI</th>\n",
       "      <td>27.30000</td>\n",
       "      <td>36.60000</td>\n",
       "      <td>31.992578</td>\n",
       "      <td>32.0000</td>\n",
       "      <td>7.884160</td>\n",
       "    </tr>\n",
       "    <tr>\n",
       "      <th>Pedigree</th>\n",
       "      <td>0.24375</td>\n",
       "      <td>0.62625</td>\n",
       "      <td>0.471876</td>\n",
       "      <td>0.3725</td>\n",
       "      <td>0.331329</td>\n",
       "    </tr>\n",
       "    <tr>\n",
       "      <th>Age</th>\n",
       "      <td>24.00000</td>\n",
       "      <td>41.00000</td>\n",
       "      <td>33.240885</td>\n",
       "      <td>29.0000</td>\n",
       "      <td>11.760232</td>\n",
       "    </tr>\n",
       "  </tbody>\n",
       "</table>\n",
       "</div>"
      ],
      "text/plain": [
       "                   0.25       0.75        Mean    Median  Standard Deviation\n",
       "Pregnancies     1.00000    6.00000    3.845052    3.0000            3.369578\n",
       "Glucose        99.00000  140.25000  120.894531  117.0000           31.972618\n",
       "BloodPressure  62.00000   80.00000   69.105469   72.0000           19.355807\n",
       "SkinThickness   0.00000   32.00000   20.536458   23.0000           15.952218\n",
       "Insulin         0.00000  127.25000   79.799479   30.5000          115.244002\n",
       "BMI            27.30000   36.60000   31.992578   32.0000            7.884160\n",
       "Pedigree        0.24375    0.62625    0.471876    0.3725            0.331329\n",
       "Age            24.00000   41.00000   33.240885   29.0000           11.760232"
      ]
     },
     "execution_count": 752,
     "metadata": {},
     "output_type": "execute_result"
    }
   ],
   "source": [
    "#Exclude the target attribute\n",
    "data1 = data.drop('Diagnosis', axis = 1)\n",
    "#Compute the mean of the attributes\n",
    "menn = data1.mean()\n",
    "#Compute the standard deviation\n",
    "stdd = data1.std()\n",
    "#Compute the 25th and 75th quartiles\n",
    "quart = data1.quantile([0.25,0.75]).T\n",
    "#Compute the median\n",
    "med = data1.median()\n",
    "#Store the results in a single dataframe\n",
    "#Add mean to dataframe\n",
    "quart['Mean'] = menn\n",
    "#Add Median\n",
    "quart['Median'] = med\n",
    "#Standard deviation\n",
    "quart['Standard Deviation'] = stdd\n",
    "quart"
   ]
  },
  {
   "cell_type": "markdown",
   "id": "cc0e728f",
   "metadata": {},
   "source": [
    "> It is observed from the preceding table that most of the individuals were aged 33 years with an average of 4 pregnacies."
   ]
  },
  {
   "cell_type": "markdown",
   "id": "072eaa51",
   "metadata": {},
   "source": [
    "> d) Find missing values for each independent variable and fill them with median values. The missing values for independent variables in the dataset are coded 0."
   ]
  },
  {
   "cell_type": "code",
   "execution_count": 753,
   "id": "434616ed",
   "metadata": {},
   "outputs": [],
   "source": [
    "#replace zeros with nan to allow easy examination of missing observations\n",
    "data2 = data1.replace(0,np.nan)"
   ]
  },
  {
   "cell_type": "code",
   "execution_count": 754,
   "id": "9170ae35",
   "metadata": {},
   "outputs": [
    {
     "data": {
      "text/html": [
       "<div>\n",
       "<style scoped>\n",
       "    .dataframe tbody tr th:only-of-type {\n",
       "        vertical-align: middle;\n",
       "    }\n",
       "\n",
       "    .dataframe tbody tr th {\n",
       "        vertical-align: top;\n",
       "    }\n",
       "\n",
       "    .dataframe thead th {\n",
       "        text-align: right;\n",
       "    }\n",
       "</style>\n",
       "<table border=\"1\" class=\"dataframe\">\n",
       "  <thead>\n",
       "    <tr style=\"text-align: right;\">\n",
       "      <th></th>\n",
       "      <th>Variable</th>\n",
       "      <th>Count of missing</th>\n",
       "    </tr>\n",
       "  </thead>\n",
       "  <tbody>\n",
       "    <tr>\n",
       "      <th>0</th>\n",
       "      <td>Pregnancies</td>\n",
       "      <td>111</td>\n",
       "    </tr>\n",
       "    <tr>\n",
       "      <th>1</th>\n",
       "      <td>Glucose</td>\n",
       "      <td>5</td>\n",
       "    </tr>\n",
       "    <tr>\n",
       "      <th>2</th>\n",
       "      <td>BloodPressure</td>\n",
       "      <td>35</td>\n",
       "    </tr>\n",
       "    <tr>\n",
       "      <th>3</th>\n",
       "      <td>SkinThickness</td>\n",
       "      <td>227</td>\n",
       "    </tr>\n",
       "    <tr>\n",
       "      <th>4</th>\n",
       "      <td>Insulin</td>\n",
       "      <td>374</td>\n",
       "    </tr>\n",
       "    <tr>\n",
       "      <th>5</th>\n",
       "      <td>BMI</td>\n",
       "      <td>11</td>\n",
       "    </tr>\n",
       "    <tr>\n",
       "      <th>6</th>\n",
       "      <td>Pedigree</td>\n",
       "      <td>0</td>\n",
       "    </tr>\n",
       "    <tr>\n",
       "      <th>7</th>\n",
       "      <td>Age</td>\n",
       "      <td>0</td>\n",
       "    </tr>\n",
       "  </tbody>\n",
       "</table>\n",
       "</div>"
      ],
      "text/plain": [
       "        Variable  Count of missing\n",
       "0    Pregnancies               111\n",
       "1        Glucose                 5\n",
       "2  BloodPressure                35\n",
       "3  SkinThickness               227\n",
       "4        Insulin               374\n",
       "5            BMI                11\n",
       "6       Pedigree                 0\n",
       "7            Age                 0"
      ]
     },
     "execution_count": 754,
     "metadata": {},
     "output_type": "execute_result"
    }
   ],
   "source": [
    "cnt = data2.isna().sum()\n",
    "cnt = pd.DataFrame(cnt)\n",
    "cnt = cnt.reset_index()\n",
    "cnt.columns = ['Variable','Count of missing']\n",
    "cnt"
   ]
  },
  {
   "cell_type": "code",
   "execution_count": 755,
   "id": "da47c106",
   "metadata": {},
   "outputs": [],
   "source": [
    "#Fill missing observations with median\n",
    "data_f = data2.fillna(data2.median())"
   ]
  },
  {
   "cell_type": "code",
   "execution_count": 756,
   "id": "d5884786",
   "metadata": {},
   "outputs": [
    {
     "data": {
      "text/html": [
       "<div>\n",
       "<style scoped>\n",
       "    .dataframe tbody tr th:only-of-type {\n",
       "        vertical-align: middle;\n",
       "    }\n",
       "\n",
       "    .dataframe tbody tr th {\n",
       "        vertical-align: top;\n",
       "    }\n",
       "\n",
       "    .dataframe thead th {\n",
       "        text-align: right;\n",
       "    }\n",
       "</style>\n",
       "<table border=\"1\" class=\"dataframe\">\n",
       "  <thead>\n",
       "    <tr style=\"text-align: right;\">\n",
       "      <th></th>\n",
       "      <th>Variable</th>\n",
       "      <th>Count of missing</th>\n",
       "    </tr>\n",
       "  </thead>\n",
       "  <tbody>\n",
       "    <tr>\n",
       "      <th>0</th>\n",
       "      <td>Pregnancies</td>\n",
       "      <td>0</td>\n",
       "    </tr>\n",
       "    <tr>\n",
       "      <th>1</th>\n",
       "      <td>Glucose</td>\n",
       "      <td>0</td>\n",
       "    </tr>\n",
       "    <tr>\n",
       "      <th>2</th>\n",
       "      <td>BloodPressure</td>\n",
       "      <td>0</td>\n",
       "    </tr>\n",
       "    <tr>\n",
       "      <th>3</th>\n",
       "      <td>SkinThickness</td>\n",
       "      <td>0</td>\n",
       "    </tr>\n",
       "    <tr>\n",
       "      <th>4</th>\n",
       "      <td>Insulin</td>\n",
       "      <td>0</td>\n",
       "    </tr>\n",
       "    <tr>\n",
       "      <th>5</th>\n",
       "      <td>BMI</td>\n",
       "      <td>0</td>\n",
       "    </tr>\n",
       "    <tr>\n",
       "      <th>6</th>\n",
       "      <td>Pedigree</td>\n",
       "      <td>0</td>\n",
       "    </tr>\n",
       "    <tr>\n",
       "      <th>7</th>\n",
       "      <td>Age</td>\n",
       "      <td>0</td>\n",
       "    </tr>\n",
       "  </tbody>\n",
       "</table>\n",
       "</div>"
      ],
      "text/plain": [
       "        Variable  Count of missing\n",
       "0    Pregnancies                 0\n",
       "1        Glucose                 0\n",
       "2  BloodPressure                 0\n",
       "3  SkinThickness                 0\n",
       "4        Insulin                 0\n",
       "5            BMI                 0\n",
       "6       Pedigree                 0\n",
       "7            Age                 0"
      ]
     },
     "execution_count": 756,
     "metadata": {},
     "output_type": "execute_result"
    }
   ],
   "source": [
    "#Count number of missing observations in the new dataframe\n",
    "cnt = data_f.isna().sum()\n",
    "cnt = pd.DataFrame(cnt)\n",
    "cnt = cnt.reset_index()\n",
    "cnt.columns = ['Variable','Count of missing']\n",
    "cnt"
   ]
  },
  {
   "cell_type": "markdown",
   "id": "858ba595",
   "metadata": {},
   "source": [
    "> e) Find outliers for each independent variable using the IQR rule. "
   ]
  },
  {
   "cell_type": "code",
   "execution_count": 757,
   "id": "53d3f72f",
   "metadata": {},
   "outputs": [],
   "source": [
    "#Define a function to detect outliers of a given column using the IQR approach\n",
    "def outlier_det(dataset):\n",
    "    outliers=[]\n",
    "    #Finding first quartile and third quartile of the given variable\n",
    "    q1, q3= np.percentile(dataset,[25,75])\n",
    "    #Find the IQR which is the difference between third and first quartile\n",
    "    iqr = q3 - q1\n",
    "    #Find lower and upper bound\n",
    "    lower_bound = q1 -(1.5 * iqr) \n",
    "    upper_bound = q3 +(1.5 * iqr)\n",
    "    #Find values that lie beyond the bounds\n",
    "    for y in dataset:\n",
    "        if y < lower_bound:\n",
    "            outliers.append(y)\n",
    "        elif y > upper_bound:\n",
    "            outliers.append(y)\n",
    "        else:\n",
    "            pass\n",
    "    #Fill values that are less than the lower and upper bounds with median\n",
    "    print('Top 20 Outliers for',dataset.name)\n",
    "    return outliers"
   ]
  },
  {
   "cell_type": "code",
   "execution_count": 758,
   "id": "1c2572f2",
   "metadata": {},
   "outputs": [
    {
     "data": {
      "text/plain": [
       "'Pregnancies'"
      ]
     },
     "execution_count": 758,
     "metadata": {},
     "output_type": "execute_result"
    }
   ],
   "source": [
    "data_f[data_f.columns[0]].name"
   ]
  },
  {
   "cell_type": "code",
   "execution_count": 759,
   "id": "be1a9c0b",
   "metadata": {},
   "outputs": [
    {
     "name": "stdout",
     "output_type": "stream",
     "text": [
      "Top 20 Outliers for Pregnancies\n"
     ]
    },
    {
     "data": {
      "text/plain": [
       "[13.0,\n",
       " 13.0,\n",
       " 13.0,\n",
       " 15.0,\n",
       " 17.0,\n",
       " 13.0,\n",
       " 14.0,\n",
       " 13.0,\n",
       " 13.0,\n",
       " 14.0,\n",
       " 13.0,\n",
       " 13.0,\n",
       " 13.0,\n",
       " 13.0]"
      ]
     },
     "execution_count": 759,
     "metadata": {},
     "output_type": "execute_result"
    }
   ],
   "source": [
    "outlier_datapoints = outlier_det(data_f[data_f.columns[0]])\n",
    "outlier_datapoints[0:20]"
   ]
  },
  {
   "cell_type": "code",
   "execution_count": 760,
   "id": "0024fb19",
   "metadata": {},
   "outputs": [
    {
     "name": "stdout",
     "output_type": "stream",
     "text": [
      "Top 20 Outliers for Glucose\n"
     ]
    },
    {
     "data": {
      "text/plain": [
       "[]"
      ]
     },
     "execution_count": 760,
     "metadata": {},
     "output_type": "execute_result"
    }
   ],
   "source": [
    "outlier_datapoints = outlier_det(data_f[data_f.columns[1]])\n",
    "outlier_datapoints[0:20]"
   ]
  },
  {
   "cell_type": "code",
   "execution_count": 761,
   "id": "b76a3b32",
   "metadata": {},
   "outputs": [
    {
     "name": "stdout",
     "output_type": "stream",
     "text": [
      "Top 20 Outliers for SkinThickness\n"
     ]
    },
    {
     "data": {
      "text/plain": [
       "[45.0,\n",
       " 47.0,\n",
       " 11.0,\n",
       " 47.0,\n",
       " 11.0,\n",
       " 10.0,\n",
       " 60.0,\n",
       " 13.0,\n",
       " 13.0,\n",
       " 54.0,\n",
       " 51.0,\n",
       " 56.0,\n",
       " 14.0,\n",
       " 13.0,\n",
       " 50.0,\n",
       " 44.0,\n",
       " 12.0,\n",
       " 46.0,\n",
       " 44.0,\n",
       " 13.0]"
      ]
     },
     "execution_count": 761,
     "metadata": {},
     "output_type": "execute_result"
    }
   ],
   "source": [
    "outlier_datapoints = outlier_det(data_f[data_f.columns[3]])\n",
    "outlier_datapoints[0:20]"
   ]
  },
  {
   "cell_type": "code",
   "execution_count": 762,
   "id": "39f06177",
   "metadata": {},
   "outputs": [
    {
     "name": "stdout",
     "output_type": "stream",
     "text": [
      "Top 20 Outliers for Insulin\n"
     ]
    },
    {
     "data": {
      "text/plain": [
       "[94.0,\n",
       " 168.0,\n",
       " 88.0,\n",
       " 543.0,\n",
       " 846.0,\n",
       " 175.0,\n",
       " 230.0,\n",
       " 83.0,\n",
       " 96.0,\n",
       " 235.0,\n",
       " 146.0,\n",
       " 140.0,\n",
       " 110.0,\n",
       " 245.0,\n",
       " 54.0,\n",
       " 192.0,\n",
       " 207.0,\n",
       " 70.0,\n",
       " 240.0,\n",
       " 82.0]"
      ]
     },
     "execution_count": 762,
     "metadata": {},
     "output_type": "execute_result"
    }
   ],
   "source": [
    "outlier_datapoints = outlier_det(data_f[data_f.columns[4]])\n",
    "outlier_datapoints[0:20]"
   ]
  },
  {
   "cell_type": "code",
   "execution_count": 763,
   "id": "07a861af",
   "metadata": {
    "scrolled": false
   },
   "outputs": [
    {
     "name": "stdout",
     "output_type": "stream",
     "text": [
      "Top 20 Outliers for BMI\n"
     ]
    },
    {
     "data": {
      "text/plain": [
       "[53.2, 55.0, 67.1, 52.3, 52.3, 52.9, 59.4, 57.3]"
      ]
     },
     "execution_count": 763,
     "metadata": {},
     "output_type": "execute_result"
    }
   ],
   "source": [
    "outlier_datapoints = outlier_det(data_f[data_f.columns[5]])\n",
    "outlier_datapoints[0:20]"
   ]
  },
  {
   "cell_type": "code",
   "execution_count": 764,
   "id": "1a6bf59d",
   "metadata": {},
   "outputs": [
    {
     "name": "stdout",
     "output_type": "stream",
     "text": [
      "Top 20 Outliers for Pedigree\n"
     ]
    },
    {
     "data": {
      "text/plain": [
       "[2.288,\n",
       " 1.441,\n",
       " 1.39,\n",
       " 1.893,\n",
       " 1.781,\n",
       " 1.222,\n",
       " 1.4,\n",
       " 1.321,\n",
       " 1.224,\n",
       " 2.329,\n",
       " 1.318,\n",
       " 1.213,\n",
       " 1.353,\n",
       " 1.224,\n",
       " 1.391,\n",
       " 1.476,\n",
       " 2.137,\n",
       " 1.731,\n",
       " 1.268,\n",
       " 1.6]"
      ]
     },
     "execution_count": 764,
     "metadata": {},
     "output_type": "execute_result"
    }
   ],
   "source": [
    "outlier_datapoints = outlier_det(data_f[data_f.columns[6]])\n",
    "outlier_datapoints[0:20]"
   ]
  },
  {
   "cell_type": "code",
   "execution_count": 765,
   "id": "02da735f",
   "metadata": {},
   "outputs": [
    {
     "name": "stdout",
     "output_type": "stream",
     "text": [
      "Top 20 Outliers for Age\n"
     ]
    },
    {
     "data": {
      "text/plain": [
       "[69, 67, 72, 81, 67, 67, 70, 68, 69]"
      ]
     },
     "execution_count": 765,
     "metadata": {},
     "output_type": "execute_result"
    }
   ],
   "source": [
    "outlier_datapoints = outlier_det(data_f[data_f.columns[7]])\n",
    "outlier_datapoints[0:20]"
   ]
  },
  {
   "cell_type": "markdown",
   "id": "64b28f61",
   "metadata": {},
   "source": [
    "> Replace outliers with median values."
   ]
  },
  {
   "cell_type": "code",
   "execution_count": 766,
   "id": "57bd19d2",
   "metadata": {},
   "outputs": [],
   "source": [
    "q1, q3= np.percentile(data_f[data_f.columns[7]],[25,75])\n",
    "#Find the IQR which is the difference between third and first quartile\n",
    "iqr = q3 - q1\n",
    "#Find lower and upper bound\n",
    "lower_bound = q1 -(1.5 * iqr) \n",
    "upper_bound = q3 +(1.5 * iqr)\n",
    "#Replace values below and above the lower and upper bounds respectively with the median of the corresponding variable\n",
    "data1 = data_f.replace(data_f[data_f.columns[7]]<lower_bound, data_f[data_f.columns[7]].median())"
   ]
  },
  {
   "cell_type": "code",
   "execution_count": 767,
   "id": "2b0abfed",
   "metadata": {},
   "outputs": [
    {
     "data": {
      "text/html": [
       "<div>\n",
       "<style scoped>\n",
       "    .dataframe tbody tr th:only-of-type {\n",
       "        vertical-align: middle;\n",
       "    }\n",
       "\n",
       "    .dataframe tbody tr th {\n",
       "        vertical-align: top;\n",
       "    }\n",
       "\n",
       "    .dataframe thead th {\n",
       "        text-align: right;\n",
       "    }\n",
       "</style>\n",
       "<table border=\"1\" class=\"dataframe\">\n",
       "  <thead>\n",
       "    <tr style=\"text-align: right;\">\n",
       "      <th></th>\n",
       "      <th>Pregnancies</th>\n",
       "      <th>Glucose</th>\n",
       "      <th>BloodPressure</th>\n",
       "      <th>SkinThickness</th>\n",
       "      <th>Insulin</th>\n",
       "      <th>BMI</th>\n",
       "      <th>Pedigree</th>\n",
       "      <th>Age</th>\n",
       "    </tr>\n",
       "  </thead>\n",
       "  <tbody>\n",
       "    <tr>\n",
       "      <th>count</th>\n",
       "      <td>768.000000</td>\n",
       "      <td>768.000000</td>\n",
       "      <td>768.000000</td>\n",
       "      <td>768.000000</td>\n",
       "      <td>768.000000</td>\n",
       "      <td>768.000000</td>\n",
       "      <td>768.000000</td>\n",
       "      <td>768.000000</td>\n",
       "    </tr>\n",
       "    <tr>\n",
       "      <th>mean</th>\n",
       "      <td>4.423177</td>\n",
       "      <td>121.656250</td>\n",
       "      <td>72.386719</td>\n",
       "      <td>29.108073</td>\n",
       "      <td>140.671875</td>\n",
       "      <td>32.455208</td>\n",
       "      <td>0.471876</td>\n",
       "      <td>33.240885</td>\n",
       "    </tr>\n",
       "    <tr>\n",
       "      <th>std</th>\n",
       "      <td>2.980481</td>\n",
       "      <td>30.438286</td>\n",
       "      <td>12.096642</td>\n",
       "      <td>8.791221</td>\n",
       "      <td>86.383060</td>\n",
       "      <td>6.875177</td>\n",
       "      <td>0.331329</td>\n",
       "      <td>11.760232</td>\n",
       "    </tr>\n",
       "    <tr>\n",
       "      <th>min</th>\n",
       "      <td>1.000000</td>\n",
       "      <td>44.000000</td>\n",
       "      <td>24.000000</td>\n",
       "      <td>7.000000</td>\n",
       "      <td>14.000000</td>\n",
       "      <td>18.200000</td>\n",
       "      <td>0.078000</td>\n",
       "      <td>21.000000</td>\n",
       "    </tr>\n",
       "    <tr>\n",
       "      <th>25%</th>\n",
       "      <td>2.000000</td>\n",
       "      <td>99.750000</td>\n",
       "      <td>64.000000</td>\n",
       "      <td>25.000000</td>\n",
       "      <td>121.500000</td>\n",
       "      <td>27.500000</td>\n",
       "      <td>0.243750</td>\n",
       "      <td>24.000000</td>\n",
       "    </tr>\n",
       "    <tr>\n",
       "      <th>50%</th>\n",
       "      <td>4.000000</td>\n",
       "      <td>117.000000</td>\n",
       "      <td>72.000000</td>\n",
       "      <td>29.000000</td>\n",
       "      <td>125.000000</td>\n",
       "      <td>32.300000</td>\n",
       "      <td>0.372500</td>\n",
       "      <td>29.000000</td>\n",
       "    </tr>\n",
       "    <tr>\n",
       "      <th>75%</th>\n",
       "      <td>6.000000</td>\n",
       "      <td>140.250000</td>\n",
       "      <td>80.000000</td>\n",
       "      <td>32.000000</td>\n",
       "      <td>127.250000</td>\n",
       "      <td>36.600000</td>\n",
       "      <td>0.626250</td>\n",
       "      <td>41.000000</td>\n",
       "    </tr>\n",
       "    <tr>\n",
       "      <th>max</th>\n",
       "      <td>17.000000</td>\n",
       "      <td>199.000000</td>\n",
       "      <td>122.000000</td>\n",
       "      <td>99.000000</td>\n",
       "      <td>846.000000</td>\n",
       "      <td>67.100000</td>\n",
       "      <td>2.420000</td>\n",
       "      <td>81.000000</td>\n",
       "    </tr>\n",
       "  </tbody>\n",
       "</table>\n",
       "</div>"
      ],
      "text/plain": [
       "       Pregnancies     Glucose  BloodPressure  SkinThickness     Insulin  \\\n",
       "count   768.000000  768.000000     768.000000     768.000000  768.000000   \n",
       "mean      4.423177  121.656250      72.386719      29.108073  140.671875   \n",
       "std       2.980481   30.438286      12.096642       8.791221   86.383060   \n",
       "min       1.000000   44.000000      24.000000       7.000000   14.000000   \n",
       "25%       2.000000   99.750000      64.000000      25.000000  121.500000   \n",
       "50%       4.000000  117.000000      72.000000      29.000000  125.000000   \n",
       "75%       6.000000  140.250000      80.000000      32.000000  127.250000   \n",
       "max      17.000000  199.000000     122.000000      99.000000  846.000000   \n",
       "\n",
       "              BMI    Pedigree         Age  \n",
       "count  768.000000  768.000000  768.000000  \n",
       "mean    32.455208    0.471876   33.240885  \n",
       "std      6.875177    0.331329   11.760232  \n",
       "min     18.200000    0.078000   21.000000  \n",
       "25%     27.500000    0.243750   24.000000  \n",
       "50%     32.300000    0.372500   29.000000  \n",
       "75%     36.600000    0.626250   41.000000  \n",
       "max     67.100000    2.420000   81.000000  "
      ]
     },
     "execution_count": 767,
     "metadata": {},
     "output_type": "execute_result"
    }
   ],
   "source": [
    "data_f.describe()"
   ]
  },
  {
   "cell_type": "code",
   "execution_count": 768,
   "id": "5382db19",
   "metadata": {},
   "outputs": [],
   "source": [
    "#Define a function to detect outliers of a given column using the IQR approach\n",
    "def outlier_det(variable):\n",
    "    sorted(variable)\n",
    "    #Finding first quartile and third quartile of the given variable\n",
    "    Q1, Q3 = np.percentile(variable , [25,75])\n",
    "    #Find the IQR which is the difference between third and first quartile\n",
    "    IQR = Q3 - Q1\n",
    "    #Find lower and upper bound\n",
    "    lower_bound = Q1 - (1.5 * IQR) #Use (3* IQR for extreme outliers)\n",
    "    upper_bound = Q3 + (1.5 * IQR) #Use (3* IQR for extreme outliers)\n",
    "    print(\"Outliers for\", variable.name)\n",
    "    return lower_bound,upper_bound"
   ]
  },
  {
   "cell_type": "code",
   "execution_count": 786,
   "id": "41d9a9bb",
   "metadata": {},
   "outputs": [
    {
     "name": "stdout",
     "output_type": "stream",
     "text": [
      "Outliers for Pregnancies\n"
     ]
    },
    {
     "data": {
      "text/plain": [
       "array([13., 15., 17., 14.])"
      ]
     },
     "execution_count": 786,
     "metadata": {},
     "output_type": "execute_result"
    }
   ],
   "source": [
    "l,u = outlier_det(data_f[data_f.columns[0]])\n",
    "data_f[data_f.columns[0]][ (data_f[data_f.columns[0]] > u) | (data_f[data_f.columns[0]] < l) ].unique()"
   ]
  },
  {
   "cell_type": "code",
   "execution_count": 789,
   "id": "ce13695f",
   "metadata": {},
   "outputs": [
    {
     "name": "stdout",
     "output_type": "stream",
     "text": [
      "Outliers for Glucose\n"
     ]
    },
    {
     "data": {
      "text/plain": [
       "[]"
      ]
     },
     "execution_count": 789,
     "metadata": {},
     "output_type": "execute_result"
    }
   ],
   "source": [
    "l,u = outlier_det(data_f[data_f.columns[1]])\n",
    "list(data_f[data_f.columns[1]][ (data_f[data_f.columns[1]] > u) | (data_f[data_f.columns[1]] < l) ].unique())"
   ]
  },
  {
   "cell_type": "code",
   "execution_count": 790,
   "id": "336069b4",
   "metadata": {},
   "outputs": [
    {
     "name": "stdout",
     "output_type": "stream",
     "text": [
      "Outliers for BloodPressure\n"
     ]
    },
    {
     "data": {
      "text/plain": [
       "[30.0, 110.0, 108.0, 122.0, 24.0, 38.0, 106.0, 114.0]"
      ]
     },
     "execution_count": 790,
     "metadata": {},
     "output_type": "execute_result"
    }
   ],
   "source": [
    "l,u = outlier_det(data_f[data_f.columns[2]])\n",
    "list(data_f[data_f.columns[2]][ (data_f[data_f.columns[2]] > u) | (data_f[data_f.columns[2]] < l) ].unique())"
   ]
  },
  {
   "cell_type": "code",
   "execution_count": 791,
   "id": "7c40928b",
   "metadata": {},
   "outputs": [
    {
     "name": "stdout",
     "output_type": "stream",
     "text": [
      "Outliers for SkinThickness\n"
     ]
    },
    {
     "data": {
      "text/plain": [
       "[45.0,\n",
       " 47.0,\n",
       " 11.0,\n",
       " 10.0,\n",
       " 60.0,\n",
       " 13.0,\n",
       " 54.0,\n",
       " 51.0,\n",
       " 56.0,\n",
       " 14.0,\n",
       " 50.0,\n",
       " 44.0,\n",
       " 12.0,\n",
       " 46.0,\n",
       " 7.0,\n",
       " 52.0,\n",
       " 43.0,\n",
       " 48.0,\n",
       " 8.0,\n",
       " 49.0,\n",
       " 63.0,\n",
       " 99.0]"
      ]
     },
     "execution_count": 791,
     "metadata": {},
     "output_type": "execute_result"
    }
   ],
   "source": [
    "l,u = outlier_det(data_f[data_f.columns[3]])\n",
    "list(data_f[data_f.columns[3]][ (data_f[data_f.columns[3]] > u) | (data_f[data_f.columns[3]] < l) ].unique())"
   ]
  },
  {
   "cell_type": "code",
   "execution_count": 795,
   "id": "44503f28",
   "metadata": {},
   "outputs": [
    {
     "name": "stdout",
     "output_type": "stream",
     "text": [
      "Outliers for Insulin\n"
     ]
    },
    {
     "data": {
      "text/plain": [
       "array([ 94., 168.,  88., 543., 846., 175., 230.,  83.,  96., 235., 146.,\n",
       "       140., 110., 245.,  54., 192., 207.,  70., 240.,  82.,  36.,  23.,\n",
       "       300., 342., 304., 142.,  38., 100.,  90., 270.,  71., 176.,  48.,\n",
       "        64., 228.,  76., 220.,  40., 152.,  18., 495.,  37.,  51.,  99.,\n",
       "       145., 225.,  49.,  50.,  92., 325.,  63., 284., 204., 155., 485.,\n",
       "        53., 105., 285., 156.,  78.,  55.,  58., 160., 210., 318.,  44.,\n",
       "       190., 280.,  87., 271., 478.,  56.,  32., 744., 370.,  45., 194.,\n",
       "       680., 402., 258., 375., 150.,  67.,  57., 278., 545.,  75.,  74.,\n",
       "       182., 360., 215., 184.,  42., 148., 180., 205.,  85., 231.,  29.,\n",
       "        68.,  52., 255., 171.,  73., 108.,  43., 167., 249., 293.,  66.,\n",
       "       465.,  89., 158.,  84.,  72.,  59.,  81., 196., 415., 275., 165.,\n",
       "       579., 310.,  61., 474., 170., 277.,  60.,  14.,  95., 237., 191.,\n",
       "       328., 250., 480., 265., 193.,  79.,  86., 326., 188., 106.,  65.,\n",
       "       166., 274.,  77., 330., 600., 185.,  25.,  41., 272., 321., 144.,\n",
       "        15., 183.,  91.,  46., 440., 159., 540., 200., 335., 387.,  22.,\n",
       "       291., 392., 178., 510.,  16., 112.])"
      ]
     },
     "execution_count": 795,
     "metadata": {},
     "output_type": "execute_result"
    }
   ],
   "source": [
    "l,u = outlier_det(data_f[data_f.columns[4]])\n",
    "data_f[data_f.columns[4]][ (data_f[data_f.columns[4]] > u) | (data_f[data_f.columns[4]] < l) ].unique()"
   ]
  },
  {
   "cell_type": "code",
   "execution_count": 796,
   "id": "189bf930",
   "metadata": {},
   "outputs": [
    {
     "name": "stdout",
     "output_type": "stream",
     "text": [
      "Outliers for BMI\n"
     ]
    },
    {
     "data": {
      "text/plain": [
       "[53.2, 55.0, 67.1, 52.3, 52.9, 59.4, 57.3]"
      ]
     },
     "execution_count": 796,
     "metadata": {},
     "output_type": "execute_result"
    }
   ],
   "source": [
    "l,u = outlier_det(data_f[data_f.columns[5]])\n",
    "list(data_f[data_f.columns[5]][ (data_f[data_f.columns[5]] > u) | (data_f[data_f.columns[5]] < l)].unique())"
   ]
  },
  {
   "cell_type": "code",
   "execution_count": 797,
   "id": "eb58e831",
   "metadata": {},
   "outputs": [
    {
     "name": "stdout",
     "output_type": "stream",
     "text": [
      "Outliers for Pedigree\n"
     ]
    },
    {
     "data": {
      "text/plain": [
       "[2.288,\n",
       " 1.441,\n",
       " 1.39,\n",
       " 1.893,\n",
       " 1.781,\n",
       " 1.222,\n",
       " 1.4,\n",
       " 1.321,\n",
       " 1.224,\n",
       " 2.329,\n",
       " 1.318,\n",
       " 1.213,\n",
       " 1.353,\n",
       " 1.391,\n",
       " 1.476,\n",
       " 2.137,\n",
       " 1.731,\n",
       " 1.268,\n",
       " 1.6,\n",
       " 2.42,\n",
       " 1.251,\n",
       " 1.699,\n",
       " 1.258,\n",
       " 1.282,\n",
       " 1.698,\n",
       " 1.461,\n",
       " 1.292,\n",
       " 1.394]"
      ]
     },
     "execution_count": 797,
     "metadata": {},
     "output_type": "execute_result"
    }
   ],
   "source": [
    "l,u = outlier_det(data_f[data_f.columns[6]])\n",
    "list(data_f[data_f.columns[6]][ (data_f[data_f.columns[6]] > u) | (data_f[data_f.columns[6]] < l) ].unique())"
   ]
  },
  {
   "cell_type": "code",
   "execution_count": 798,
   "id": "5328f5a4",
   "metadata": {},
   "outputs": [
    {
     "name": "stdout",
     "output_type": "stream",
     "text": [
      "Outliers for Age\n"
     ]
    },
    {
     "data": {
      "text/plain": [
       "[69, 67, 72, 81, 70, 68]"
      ]
     },
     "execution_count": 798,
     "metadata": {},
     "output_type": "execute_result"
    }
   ],
   "source": [
    "l,u = outlier_det(data_f[data_f.columns[7]])\n",
    "list(data_f[data_f.columns[7]][ (data_f[data_f.columns[7]] > u) | (data_f[data_f.columns[7]] < l) ].unique())"
   ]
  },
  {
   "cell_type": "markdown",
   "id": "691afc45",
   "metadata": {},
   "source": [
    "> Replace the outliers with median"
   ]
  },
  {
   "cell_type": "markdown",
   "id": "44a3a95d",
   "metadata": {},
   "source": [
    "##### Pregnancies"
   ]
  },
  {
   "cell_type": "code",
   "execution_count": 778,
   "id": "718ce1cb",
   "metadata": {},
   "outputs": [
    {
     "name": "stdout",
     "output_type": "stream",
     "text": [
      "Outliers for Pregnancies\n"
     ]
    }
   ],
   "source": [
    "#Get upper and lower bound\n",
    "l,u = outlier_det(data_f[data_f.columns[0]])\n",
    "data_f[data_f.columns[0]][ (data_f[data_f.columns[0]] > u) | (data_f[data_f.columns[0]] < l) ]\n",
    "#Get copy of the independent variables\n",
    "df = data_f.copy()\n",
    "#Compute median\n",
    "median = df['Pregnancies'].median()\n",
    "#Replace values greater than the upper limit with nan\n",
    "df.loc[df.Pregnancies > u, 'Pregnancies'] = np.nan\n",
    "#Replace values less than the lower limit with nan\n",
    "df.loc[df.Pregnancies <l, 'Pregnancies'] = np.nan\n",
    "df.fillna(median,inplace=True)"
   ]
  },
  {
   "cell_type": "markdown",
   "id": "88fb92f2",
   "metadata": {},
   "source": [
    "##### Glucose"
   ]
  },
  {
   "cell_type": "code",
   "execution_count": 779,
   "id": "2cba3ef7",
   "metadata": {},
   "outputs": [
    {
     "name": "stdout",
     "output_type": "stream",
     "text": [
      "Outliers for Glucose\n"
     ]
    }
   ],
   "source": [
    "#Get upper and lower bound\n",
    "l,u = outlier_det(data_f[data_f.columns[1]])\n",
    "data_f[data_f.columns[1]][ (data_f[data_f.columns[1]] > u) | (data_f[data_f.columns[1]] < l) ]\n",
    "#Compute median\n",
    "median = df['Glucose'].median()\n",
    "#Replace values greater than the upper limit with nan\n",
    "df.loc[df.Glucose > u, 'Glucose'] = np.nan\n",
    "#Replace values less than the lower limit with nan\n",
    "df.loc[df.Glucose <l, 'Glucose'] = np.nan\n",
    "df.fillna(median,inplace=True)"
   ]
  },
  {
   "cell_type": "markdown",
   "id": "16d6a77d",
   "metadata": {},
   "source": [
    "##### BloodPressure"
   ]
  },
  {
   "cell_type": "code",
   "execution_count": 780,
   "id": "baf3391b",
   "metadata": {},
   "outputs": [
    {
     "name": "stdout",
     "output_type": "stream",
     "text": [
      "Outliers for BloodPressure\n"
     ]
    }
   ],
   "source": [
    "#Get upper and lower bound\n",
    "l,u = outlier_det(data_f[data_f.columns[2]])\n",
    "data_f[data_f.columns[2]][ (data_f[data_f.columns[2]] > u) | (data_f[data_f.columns[2]] < l) ]\n",
    "#Compute median\n",
    "median = df['BloodPressure'].median()\n",
    "#Replace values greater than the upper limit with nan\n",
    "df.loc[df.BloodPressure > u, 'BloodPressure'] = np.nan\n",
    "#Replace values less than the lower limit with nan\n",
    "df.loc[df.BloodPressure <l, 'BloodPressure'] = np.nan\n",
    "df.fillna(median,inplace=True)"
   ]
  },
  {
   "cell_type": "markdown",
   "id": "b617b768",
   "metadata": {},
   "source": [
    "##### SkinThickness"
   ]
  },
  {
   "cell_type": "code",
   "execution_count": 781,
   "id": "43ccb46d",
   "metadata": {},
   "outputs": [
    {
     "name": "stdout",
     "output_type": "stream",
     "text": [
      "Outliers for SkinThickness\n"
     ]
    }
   ],
   "source": [
    "#Get upper and lower bound\n",
    "l,u = outlier_det(data_f[data_f.columns[3]])\n",
    "data_f[data_f.columns[3]][ (data_f[data_f.columns[3]] > u) | (data_f[data_f.columns[3]] < l) ]\n",
    "#Compute median\n",
    "median = df['SkinThickness'].median()\n",
    "#Replace values greater than the upper limit with nan\n",
    "df.loc[df.SkinThickness > u, 'SkinThickness'] = np.nan\n",
    "#Replace values less than the lower limit with nan\n",
    "df.loc[df.SkinThickness <l, 'SkinThickness'] = np.nan\n",
    "df.fillna(median,inplace=True)"
   ]
  },
  {
   "cell_type": "markdown",
   "id": "596d2e60",
   "metadata": {},
   "source": [
    "##### Insulin"
   ]
  },
  {
   "cell_type": "code",
   "execution_count": 782,
   "id": "78e0436e",
   "metadata": {},
   "outputs": [
    {
     "name": "stdout",
     "output_type": "stream",
     "text": [
      "Outliers for Insulin\n"
     ]
    }
   ],
   "source": [
    "#Get upper and lower bound\n",
    "l,u = outlier_det(data_f[data_f.columns[4]])\n",
    "data_f[data_f.columns[4]][ (data_f[data_f.columns[4]] > u) | (data_f[data_f.columns[4]] < l) ]\n",
    "#Compute median\n",
    "median = df['Insulin'].median()\n",
    "#Replace values greater than the upper limit with nan\n",
    "df.loc[df.Insulin > u, 'Insulin'] = np.nan\n",
    "#Replace values less than the lower limit with nan\n",
    "df.loc[df.Insulin <l, 'Insulin'] = np.nan\n",
    "df.fillna(median,inplace=True)"
   ]
  },
  {
   "cell_type": "markdown",
   "id": "4ac51f5c",
   "metadata": {},
   "source": [
    "##### BMI"
   ]
  },
  {
   "cell_type": "code",
   "execution_count": 783,
   "id": "f7307f78",
   "metadata": {},
   "outputs": [
    {
     "name": "stdout",
     "output_type": "stream",
     "text": [
      "Outliers for BMI\n"
     ]
    }
   ],
   "source": [
    "#Get upper and lower bound\n",
    "l,u = outlier_det(data_f[data_f.columns[5]])\n",
    "data_f[data_f.columns[5]][ (data_f[data_f.columns[5]] > u) | (data_f[data_f.columns[5]] < l) ]\n",
    "#Compute median\n",
    "median = df['BMI'].median()\n",
    "#Replace values greater than the upper limit with nan\n",
    "df.loc[df.BMI > u, 'BMI'] = np.nan\n",
    "#Replace values less than the lower limit with nan\n",
    "df.loc[df.BMI <l, 'BMI'] = np.nan\n",
    "df.fillna(median,inplace=True)"
   ]
  },
  {
   "cell_type": "markdown",
   "id": "d9c38485",
   "metadata": {},
   "source": [
    "##### Pedigree"
   ]
  },
  {
   "cell_type": "code",
   "execution_count": 784,
   "id": "e85fd03d",
   "metadata": {},
   "outputs": [
    {
     "name": "stdout",
     "output_type": "stream",
     "text": [
      "Outliers for Pedigree\n"
     ]
    }
   ],
   "source": [
    "#Get upper and lower bound\n",
    "l,u = outlier_det(data_f[data_f.columns[6]])\n",
    "data_f[data_f.columns[6]][ (data_f[data_f.columns[6]] > u) | (data_f[data_f.columns[6]] < l) ]\n",
    "#Compute median\n",
    "median = df['Pedigree'].median()\n",
    "#Replace values greater than the upper limit with nan\n",
    "df.loc[df.Pedigree > u, 'Pedigree'] = np.nan\n",
    "#Replace values less than the lower limit with nan\n",
    "df.loc[df.Pedigree <l, 'Pedigree'] = np.nan\n",
    "df.fillna(median,inplace=True)"
   ]
  },
  {
   "cell_type": "code",
   "execution_count": null,
   "id": "3d8be0fc",
   "metadata": {},
   "outputs": [],
   "source": []
  },
  {
   "cell_type": "markdown",
   "id": "6e26bdeb",
   "metadata": {},
   "source": [
    "##### Age"
   ]
  },
  {
   "cell_type": "code",
   "execution_count": 785,
   "id": "f811e415",
   "metadata": {},
   "outputs": [
    {
     "name": "stdout",
     "output_type": "stream",
     "text": [
      "Outliers for Age\n"
     ]
    }
   ],
   "source": [
    "\n",
    "l,u = outlier_det(data_f[data_f.columns[7]])\n",
    "data_f[data_f.columns[7]][ (data_f[data_f.columns[7]] > u) | (data_f[data_f.columns[7]] < l) ]\n",
    "#Compute median\n",
    "median = df['Age'].median()\n",
    "#Replace values greater than the upper limit with nan\n",
    "df.loc[df.Age > u, 'Age'] = np.nan\n",
    "#Replace values less than the lower limit with nan\n",
    "df.loc[df.Age <l, 'Age'] = np.nan\n",
    "df.fillna(median,inplace=True)"
   ]
  },
  {
   "cell_type": "code",
   "execution_count": 807,
   "id": "24f11d6c",
   "metadata": {},
   "outputs": [
    {
     "data": {
      "image/png": "[encoded data removed]",
      "text/plain": [
       "<Figure size 432x288 with 1 Axes>"
      ]
     },
     "metadata": {
      "needs_background": "light"
     },
     "output_type": "display_data"
    }
   ],
   "source": [
    "data_f.boxplot()\n",
    "plt.title('Before removal of outliers')\n",
    "plt.xticks(rotation=45) \n",
    "plt.show()"
   ]
  },
  {
   "cell_type": "code",
   "execution_count": 809,
   "id": "88bbc340",
   "metadata": {},
   "outputs": [
    {
     "data": {
      "image/png": "[encoded data removed]",
      "text/plain": [
       "<Figure size 432x288 with 1 Axes>"
      ]
     },
     "metadata": {
      "needs_background": "light"
     },
     "output_type": "display_data"
    }
   ],
   "source": [
    "df.boxplot()\n",
    "plt.title('After removal of outliers')\n",
    "plt.xticks(rotation=45) \n",
    "plt.show()"
   ]
  },
  {
   "cell_type": "markdown",
   "id": "2517c4a0",
   "metadata": {},
   "source": [
    ">We note that replacing the detected outliers with the median reduces the number of outliers significantly as shown the preceding two graphs"
   ]
  }
 ],
 "metadata": {
  "kernelspec": {
   "display_name": "Python 3",
   "language": "python",
   "name": "python3"
  },
  "language_info": {
   "codemirror_mode": {
    "name": "ipython",
    "version": 3
   },
   "file_extension": ".py",
   "mimetype": "text/x-python",
   "name": "python",
   "nbconvert_exporter": "python",
   "pygments_lexer": "ipython3",
   "version": "3.8.8"
  }
 },
 "nbformat": 4,
 "nbformat_minor": 5
}
