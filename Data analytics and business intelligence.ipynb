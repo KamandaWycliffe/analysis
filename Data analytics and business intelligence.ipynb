{
 "cells": [
  {
   "cell_type": "markdown",
   "id": "f448f70e",
   "metadata": {},
   "source": [
    "#### Import Packages"
   ]
  },
  {
   "cell_type": "code",
   "execution_count": 68,
   "id": "b68657f0",
   "metadata": {},
   "outputs": [],
   "source": [
    "import pandas as pd\n",
    "import numpy as np\n",
    "from tableone import TableOne, load_dataset\n",
    "import seaborn as sns\n",
    "import matplotlib.pyplot as plt\n",
    "from datetime import datetime"
   ]
  },
  {
   "cell_type": "markdown",
   "id": "461b4d52",
   "metadata": {},
   "source": [
    "#### Import Data"
   ]
  },
  {
   "cell_type": "code",
   "execution_count": 69,
   "id": "d542606f",
   "metadata": {},
   "outputs": [],
   "source": [
    "df = pd.read_excel('SeniorDataAnalystChallenge2.xlsx', sheet_name = 1)"
   ]
  },
  {
   "cell_type": "markdown",
   "id": "c5e5dab5",
   "metadata": {},
   "source": [
    "#### Overview of the data"
   ]
  },
  {
   "cell_type": "code",
   "execution_count": 70,
   "id": "ba75bb44",
   "metadata": {},
   "outputs": [
    {
     "data": {
      "text/html": [
       "<div>\n",
       "<style scoped>\n",
       "    .dataframe tbody tr th:only-of-type {\n",
       "        vertical-align: middle;\n",
       "    }\n",
       "\n",
       "    .dataframe tbody tr th {\n",
       "        vertical-align: top;\n",
       "    }\n",
       "\n",
       "    .dataframe thead th {\n",
       "        text-align: right;\n",
       "    }\n",
       "</style>\n",
       "<table border=\"1\" class=\"dataframe\">\n",
       "  <thead>\n",
       "    <tr style=\"text-align: right;\">\n",
       "      <th></th>\n",
       "      <th>order delivery time</th>\n",
       "      <th>order id</th>\n",
       "      <th>customer order rating</th>\n",
       "      <th>type of issue reported</th>\n",
       "      <th>region</th>\n",
       "      <th>Unnamed: 5</th>\n",
       "    </tr>\n",
       "  </thead>\n",
       "  <tbody>\n",
       "    <tr>\n",
       "      <th>0</th>\n",
       "      <td>2014-06-02 04:23:16 UTC</td>\n",
       "      <td>233599337</td>\n",
       "      <td>5</td>\n",
       "      <td>NaN</td>\n",
       "      <td>chi</td>\n",
       "      <td>NaN</td>\n",
       "    </tr>\n",
       "    <tr>\n",
       "      <th>1</th>\n",
       "      <td>2014-06-02 03:57:50 UTC</td>\n",
       "      <td>233599376</td>\n",
       "      <td>5</td>\n",
       "      <td>NaN</td>\n",
       "      <td>chi</td>\n",
       "      <td>NaN</td>\n",
       "    </tr>\n",
       "    <tr>\n",
       "      <th>2</th>\n",
       "      <td>2014-06-02 02:52:38 UTC</td>\n",
       "      <td>233599328</td>\n",
       "      <td>5</td>\n",
       "      <td>NaN</td>\n",
       "      <td>chi</td>\n",
       "      <td>NaN</td>\n",
       "    </tr>\n",
       "    <tr>\n",
       "      <th>3</th>\n",
       "      <td>2014-06-02 02:52:04 UTC</td>\n",
       "      <td>233599070</td>\n",
       "      <td>5</td>\n",
       "      <td>NaN</td>\n",
       "      <td>chi</td>\n",
       "      <td>NaN</td>\n",
       "    </tr>\n",
       "    <tr>\n",
       "      <th>4</th>\n",
       "      <td>2014-06-02 02:41:43 UTC</td>\n",
       "      <td>233599100</td>\n",
       "      <td>5</td>\n",
       "      <td>NaN</td>\n",
       "      <td>chi</td>\n",
       "      <td>NaN</td>\n",
       "    </tr>\n",
       "    <tr>\n",
       "      <th>5</th>\n",
       "      <td>2014-06-02 02:21:17 UTC</td>\n",
       "      <td>233599256</td>\n",
       "      <td>5</td>\n",
       "      <td>NaN</td>\n",
       "      <td>chi</td>\n",
       "      <td>NaN</td>\n",
       "    </tr>\n",
       "    <tr>\n",
       "      <th>6</th>\n",
       "      <td>2014-06-02 02:19:38 UTC</td>\n",
       "      <td>233599234</td>\n",
       "      <td>5</td>\n",
       "      <td>NaN</td>\n",
       "      <td>chi</td>\n",
       "      <td>NaN</td>\n",
       "    </tr>\n",
       "    <tr>\n",
       "      <th>7</th>\n",
       "      <td>2014-06-02 02:11:52 UTC</td>\n",
       "      <td>233599182</td>\n",
       "      <td>5</td>\n",
       "      <td>NaN</td>\n",
       "      <td>chi</td>\n",
       "      <td>NaN</td>\n",
       "    </tr>\n",
       "    <tr>\n",
       "      <th>8</th>\n",
       "      <td>2014-06-02 02:10:30 UTC</td>\n",
       "      <td>233599154</td>\n",
       "      <td>5</td>\n",
       "      <td>NaN</td>\n",
       "      <td>chi</td>\n",
       "      <td>NaN</td>\n",
       "    </tr>\n",
       "    <tr>\n",
       "      <th>9</th>\n",
       "      <td>2014-06-02 02:08:17 UTC</td>\n",
       "      <td>233599142</td>\n",
       "      <td>5</td>\n",
       "      <td>NaN</td>\n",
       "      <td>chi</td>\n",
       "      <td>NaN</td>\n",
       "    </tr>\n",
       "  </tbody>\n",
       "</table>\n",
       "</div>"
      ],
      "text/plain": [
       "       order delivery time   order id  customer order rating  \\\n",
       "0  2014-06-02 04:23:16 UTC  233599337                      5   \n",
       "1  2014-06-02 03:57:50 UTC  233599376                      5   \n",
       "2  2014-06-02 02:52:38 UTC  233599328                      5   \n",
       "3  2014-06-02 02:52:04 UTC  233599070                      5   \n",
       "4  2014-06-02 02:41:43 UTC  233599100                      5   \n",
       "5  2014-06-02 02:21:17 UTC  233599256                      5   \n",
       "6  2014-06-02 02:19:38 UTC  233599234                      5   \n",
       "7  2014-06-02 02:11:52 UTC  233599182                      5   \n",
       "8  2014-06-02 02:10:30 UTC  233599154                      5   \n",
       "9  2014-06-02 02:08:17 UTC  233599142                      5   \n",
       "\n",
       "  type of issue reported region  Unnamed: 5  \n",
       "0                    NaN    chi         NaN  \n",
       "1                    NaN    chi         NaN  \n",
       "2                    NaN    chi         NaN  \n",
       "3                    NaN    chi         NaN  \n",
       "4                    NaN    chi         NaN  \n",
       "5                    NaN    chi         NaN  \n",
       "6                    NaN    chi         NaN  \n",
       "7                    NaN    chi         NaN  \n",
       "8                    NaN    chi         NaN  \n",
       "9                    NaN    chi         NaN  "
      ]
     },
     "execution_count": 70,
     "metadata": {},
     "output_type": "execute_result"
    }
   ],
   "source": [
    "df.head(10)"
   ]
  },
  {
   "cell_type": "code",
   "execution_count": 71,
   "id": "8b0064e4",
   "metadata": {},
   "outputs": [],
   "source": [
    "##Select only the required columns\n",
    "df = df.iloc[0:,0:5]"
   ]
  },
  {
   "cell_type": "code",
   "execution_count": 72,
   "id": "40b30d98",
   "metadata": {},
   "outputs": [],
   "source": [
    "#Convert delivery time to datetime (to remove the UTC and use a ISO-8601 format)\n",
    "df['order delivery time'] = pd.to_datetime(df['order delivery time'])\n",
    "#Collect month\n",
    "df['month'] = df['order delivery time'].dt.month\n",
    "#Collect week\n",
    "df['week'] = df['order delivery time'].dt.isocalendar().week\n",
    "#collect hour\n",
    "df['hour'] = df['order delivery time'].dt.hour\n",
    "\n",
    "#Fill the type of issue column eiyh \"no-issue\" for non issue purchases\n",
    "df['type of issue reported'] = df['type of issue reported'].fillna('No-Issue')\n",
    "#Get day of the week\n",
    "df['day'] = df['order delivery time'].dt.day_name()"
   ]
  },
  {
   "cell_type": "code",
   "execution_count": 73,
   "id": "cdff6dc5",
   "metadata": {},
   "outputs": [
    {
     "data": {
      "text/html": [
       "<div>\n",
       "<style scoped>\n",
       "    .dataframe tbody tr th:only-of-type {\n",
       "        vertical-align: middle;\n",
       "    }\n",
       "\n",
       "    .dataframe tbody tr th {\n",
       "        vertical-align: top;\n",
       "    }\n",
       "\n",
       "    .dataframe thead th {\n",
       "        text-align: right;\n",
       "    }\n",
       "</style>\n",
       "<table border=\"1\" class=\"dataframe\">\n",
       "  <thead>\n",
       "    <tr style=\"text-align: right;\">\n",
       "      <th></th>\n",
       "      <th>order delivery time</th>\n",
       "      <th>order id</th>\n",
       "      <th>customer order rating</th>\n",
       "      <th>type of issue reported</th>\n",
       "      <th>region</th>\n",
       "      <th>month</th>\n",
       "      <th>week</th>\n",
       "      <th>hour</th>\n",
       "      <th>day</th>\n",
       "    </tr>\n",
       "  </thead>\n",
       "  <tbody>\n",
       "    <tr>\n",
       "      <th>0</th>\n",
       "      <td>2014-06-02 04:23:16+00:00</td>\n",
       "      <td>233599337</td>\n",
       "      <td>5</td>\n",
       "      <td>No-Issue</td>\n",
       "      <td>chi</td>\n",
       "      <td>6</td>\n",
       "      <td>23</td>\n",
       "      <td>4</td>\n",
       "      <td>Monday</td>\n",
       "    </tr>\n",
       "    <tr>\n",
       "      <th>1</th>\n",
       "      <td>2014-06-02 03:57:50+00:00</td>\n",
       "      <td>233599376</td>\n",
       "      <td>5</td>\n",
       "      <td>No-Issue</td>\n",
       "      <td>chi</td>\n",
       "      <td>6</td>\n",
       "      <td>23</td>\n",
       "      <td>3</td>\n",
       "      <td>Monday</td>\n",
       "    </tr>\n",
       "    <tr>\n",
       "      <th>2</th>\n",
       "      <td>2014-06-02 02:52:38+00:00</td>\n",
       "      <td>233599328</td>\n",
       "      <td>5</td>\n",
       "      <td>No-Issue</td>\n",
       "      <td>chi</td>\n",
       "      <td>6</td>\n",
       "      <td>23</td>\n",
       "      <td>2</td>\n",
       "      <td>Monday</td>\n",
       "    </tr>\n",
       "    <tr>\n",
       "      <th>3</th>\n",
       "      <td>2014-06-02 02:52:04+00:00</td>\n",
       "      <td>233599070</td>\n",
       "      <td>5</td>\n",
       "      <td>No-Issue</td>\n",
       "      <td>chi</td>\n",
       "      <td>6</td>\n",
       "      <td>23</td>\n",
       "      <td>2</td>\n",
       "      <td>Monday</td>\n",
       "    </tr>\n",
       "    <tr>\n",
       "      <th>4</th>\n",
       "      <td>2014-06-02 02:41:43+00:00</td>\n",
       "      <td>233599100</td>\n",
       "      <td>5</td>\n",
       "      <td>No-Issue</td>\n",
       "      <td>chi</td>\n",
       "      <td>6</td>\n",
       "      <td>23</td>\n",
       "      <td>2</td>\n",
       "      <td>Monday</td>\n",
       "    </tr>\n",
       "  </tbody>\n",
       "</table>\n",
       "</div>"
      ],
      "text/plain": [
       "        order delivery time   order id  customer order rating  \\\n",
       "0 2014-06-02 04:23:16+00:00  233599337                      5   \n",
       "1 2014-06-02 03:57:50+00:00  233599376                      5   \n",
       "2 2014-06-02 02:52:38+00:00  233599328                      5   \n",
       "3 2014-06-02 02:52:04+00:00  233599070                      5   \n",
       "4 2014-06-02 02:41:43+00:00  233599100                      5   \n",
       "\n",
       "  type of issue reported region  month  week  hour     day  \n",
       "0               No-Issue    chi      6    23     4  Monday  \n",
       "1               No-Issue    chi      6    23     3  Monday  \n",
       "2               No-Issue    chi      6    23     2  Monday  \n",
       "3               No-Issue    chi      6    23     2  Monday  \n",
       "4               No-Issue    chi      6    23     2  Monday  "
      ]
     },
     "execution_count": 73,
     "metadata": {},
     "output_type": "execute_result"
    }
   ],
   "source": [
    "df.head()"
   ]
  },
  {
   "cell_type": "code",
   "execution_count": 74,
   "id": "f034e1bc",
   "metadata": {},
   "outputs": [],
   "source": [
    "groupby = ['type of issue reported']\n",
    "nonnormal = ['order id']\n",
    "\n",
    "stats_table = TableOne(df,columns = ['type of issue reported', 'customer order rating'],\n",
    "                   groupby=groupby, pval=True, tukey_test=True)\n",
    "stats_table.to_excel('issues and ratings.xlsx')"
   ]
  },
  {
   "cell_type": "code",
   "execution_count": 75,
   "id": "fb5a0012",
   "metadata": {},
   "outputs": [
    {
     "data": {
      "text/html": [
       "<div>\n",
       "<style scoped>\n",
       "    .dataframe tbody tr th:only-of-type {\n",
       "        vertical-align: middle;\n",
       "    }\n",
       "\n",
       "    .dataframe tbody tr th {\n",
       "        vertical-align: top;\n",
       "    }\n",
       "\n",
       "    .dataframe thead tr th {\n",
       "        text-align: left;\n",
       "    }\n",
       "</style>\n",
       "<table border=\"1\" class=\"dataframe\">\n",
       "  <thead>\n",
       "    <tr>\n",
       "      <th></th>\n",
       "      <th></th>\n",
       "      <th colspan=\"11\" halign=\"left\">Grouped by type of issue reported</th>\n",
       "    </tr>\n",
       "    <tr>\n",
       "      <th></th>\n",
       "      <th></th>\n",
       "      <th>Missing</th>\n",
       "      <th>Overall</th>\n",
       "      <th>Damaged or spoiled</th>\n",
       "      <th>Item charged incorrectly</th>\n",
       "      <th>Item missing</th>\n",
       "      <th>No-Issue</th>\n",
       "      <th>Other Order Issue</th>\n",
       "      <th>Poor replacement</th>\n",
       "      <th>Poor service</th>\n",
       "      <th>Wrong item</th>\n",
       "      <th>P-Value</th>\n",
       "    </tr>\n",
       "  </thead>\n",
       "  <tbody>\n",
       "    <tr>\n",
       "      <th>n</th>\n",
       "      <th></th>\n",
       "      <td></td>\n",
       "      <td>14957</td>\n",
       "      <td>310</td>\n",
       "      <td>21</td>\n",
       "      <td>178</td>\n",
       "      <td>13870</td>\n",
       "      <td>21</td>\n",
       "      <td>54</td>\n",
       "      <td>129</td>\n",
       "      <td>374</td>\n",
       "      <td></td>\n",
       "    </tr>\n",
       "    <tr>\n",
       "      <th rowspan=\"6\" valign=\"top\">customer order rating, n (%)</th>\n",
       "      <th>0</th>\n",
       "      <td>0</td>\n",
       "      <td>154 (1.0)</td>\n",
       "      <td>2 (0.6)</td>\n",
       "      <td></td>\n",
       "      <td></td>\n",
       "      <td>151 (1.1)</td>\n",
       "      <td></td>\n",
       "      <td>1 (1.9)</td>\n",
       "      <td></td>\n",
       "      <td></td>\n",
       "      <td>&lt;0.001</td>\n",
       "    </tr>\n",
       "    <tr>\n",
       "      <th>1</th>\n",
       "      <td></td>\n",
       "      <td>373 (2.5)</td>\n",
       "      <td>49 (15.8)</td>\n",
       "      <td>1 (4.8)</td>\n",
       "      <td>32 (18.0)</td>\n",
       "      <td>204 (1.5)</td>\n",
       "      <td>3 (14.3)</td>\n",
       "      <td>15 (27.8)</td>\n",
       "      <td>39 (30.2)</td>\n",
       "      <td>30 (8.0)</td>\n",
       "      <td></td>\n",
       "    </tr>\n",
       "    <tr>\n",
       "      <th>2</th>\n",
       "      <td></td>\n",
       "      <td>370 (2.5)</td>\n",
       "      <td>52 (16.8)</td>\n",
       "      <td>1 (4.8)</td>\n",
       "      <td>41 (23.0)</td>\n",
       "      <td>176 (1.3)</td>\n",
       "      <td>2 (9.5)</td>\n",
       "      <td>7 (13.0)</td>\n",
       "      <td>23 (17.8)</td>\n",
       "      <td>68 (18.2)</td>\n",
       "      <td></td>\n",
       "    </tr>\n",
       "    <tr>\n",
       "      <th>3</th>\n",
       "      <td></td>\n",
       "      <td>778 (5.2)</td>\n",
       "      <td>103 (33.2)</td>\n",
       "      <td></td>\n",
       "      <td>40 (22.5)</td>\n",
       "      <td>449 (3.2)</td>\n",
       "      <td>7 (33.3)</td>\n",
       "      <td>21 (38.9)</td>\n",
       "      <td>33 (25.6)</td>\n",
       "      <td>125 (33.4)</td>\n",
       "      <td></td>\n",
       "    </tr>\n",
       "    <tr>\n",
       "      <th>4</th>\n",
       "      <td></td>\n",
       "      <td>1680 (11.2)</td>\n",
       "      <td>75 (24.2)</td>\n",
       "      <td>10 (47.6)</td>\n",
       "      <td>40 (22.5)</td>\n",
       "      <td>1395 (10.1)</td>\n",
       "      <td>6 (28.6)</td>\n",
       "      <td>8 (14.8)</td>\n",
       "      <td>26 (20.2)</td>\n",
       "      <td>120 (32.1)</td>\n",
       "      <td></td>\n",
       "    </tr>\n",
       "    <tr>\n",
       "      <th>5</th>\n",
       "      <td></td>\n",
       "      <td>11602 (77.6)</td>\n",
       "      <td>29 (9.4)</td>\n",
       "      <td>9 (42.9)</td>\n",
       "      <td>25 (14.0)</td>\n",
       "      <td>11495 (82.9)</td>\n",
       "      <td>3 (14.3)</td>\n",
       "      <td>2 (3.7)</td>\n",
       "      <td>8 (6.2)</td>\n",
       "      <td>31 (8.3)</td>\n",
       "      <td></td>\n",
       "    </tr>\n",
       "  </tbody>\n",
       "</table>\n",
       "</div><br />[1] Chi-squared tests for the following variables may be invalid due to the low number of observations: customer order rating.<br />"
      ],
      "text/plain": [
       "                               Grouped by type of issue reported                                                                                                                                                         \n",
       "                                                         Missing       Overall Damaged or spoiled Item charged incorrectly Item missing      No-Issue Other Order Issue Poor replacement Poor service  Wrong item P-Value\n",
       "n                                                                        14957                310                       21          178         13870                21               54          129         374        \n",
       "customer order rating, n (%) 0                                 0     154 (1.0)            2 (0.6)                                           151 (1.1)                            1 (1.9)                           <0.001\n",
       "                             1                                       373 (2.5)          49 (15.8)                  1 (4.8)    32 (18.0)     204 (1.5)          3 (14.3)        15 (27.8)    39 (30.2)    30 (8.0)        \n",
       "                             2                                       370 (2.5)          52 (16.8)                  1 (4.8)    41 (23.0)     176 (1.3)           2 (9.5)         7 (13.0)    23 (17.8)   68 (18.2)        \n",
       "                             3                                       778 (5.2)         103 (33.2)                             40 (22.5)     449 (3.2)          7 (33.3)        21 (38.9)    33 (25.6)  125 (33.4)        \n",
       "                             4                                     1680 (11.2)          75 (24.2)                10 (47.6)    40 (22.5)   1395 (10.1)          6 (28.6)         8 (14.8)    26 (20.2)  120 (32.1)        \n",
       "                             5                                    11602 (77.6)           29 (9.4)                 9 (42.9)    25 (14.0)  11495 (82.9)          3 (14.3)          2 (3.7)      8 (6.2)    31 (8.3)        \n",
       "[1] Chi-squared tests for the following variables may be invalid due to the low number of observations: customer order rating."
      ]
     },
     "execution_count": 75,
     "metadata": {},
     "output_type": "execute_result"
    }
   ],
   "source": [
    "stats_table"
   ]
  },
  {
   "cell_type": "markdown",
   "id": "c634b44a",
   "metadata": {},
   "source": [
    "##### Number of items per customer rating"
   ]
  },
  {
   "cell_type": "code",
   "execution_count": 76,
   "id": "79a93d72",
   "metadata": {},
   "outputs": [
    {
     "data": {
      "image/png": "[encoded data removed]",
      "text/plain": [
       "<Figure size 864x432 with 1 Axes>"
      ]
     },
     "metadata": {
      "needs_background": "light"
     },
     "output_type": "display_data"
    }
   ],
   "source": [
    "fig = plt.figure(figsize=(12,6))\n",
    "ax = sns.countplot(x=\"customer order rating\",  data=df)\n",
    "plt.title('Number of items per customer rating')\n",
    "plt.ylabel('Number of items')\n",
    "plt.grid()\n",
    "plt.show()"
   ]
  },
  {
   "cell_type": "markdown",
   "id": "ccae0904",
   "metadata": {},
   "source": [
    "#### Number of items per issue type"
   ]
  },
  {
   "cell_type": "code",
   "execution_count": 77,
   "id": "097ba0cb",
   "metadata": {},
   "outputs": [
    {
     "data": {
      "image/png": "[encoded data removed]",
      "text/plain": [
       "<Figure size 864x432 with 1 Axes>"
      ]
     },
     "metadata": {
      "needs_background": "light"
     },
     "output_type": "display_data"
    }
   ],
   "source": [
    "fig = plt.figure(figsize=(12,6))\n",
    "ax = sns.countplot(x=\"type of issue reported\",  data=df)\n",
    "plt.title('Number of items per issue type')\n",
    "plt.ylabel('Number of items')\n",
    "plt.xticks(rotation = 90)\n",
    "plt.grid()\n",
    "plt.show()"
   ]
  },
  {
   "cell_type": "markdown",
   "id": "d5cb0a8b",
   "metadata": {},
   "source": [
    "##### Distribution of issues"
   ]
  },
  {
   "cell_type": "code",
   "execution_count": 78,
   "id": "5ee12fff",
   "metadata": {},
   "outputs": [],
   "source": [
    "data = df['type of issue reported'].value_counts()"
   ]
  },
  {
   "cell_type": "code",
   "execution_count": 79,
   "id": "51205739",
   "metadata": {},
   "outputs": [
    {
     "data": {
      "image/png": "[encoded data removed]",
      "text/plain": [
       "<Figure size 864x1440 with 1 Axes>"
      ]
     },
     "metadata": {},
     "output_type": "display_data"
    }
   ],
   "source": [
    "fig = plt.figure(figsize=(12,20))\n",
    "data.plot.pie(autopct=\"%.1f%%\");\n",
    "plt.title('Distribution of issues')\n",
    "plt.show()"
   ]
  },
  {
   "cell_type": "markdown",
   "id": "50b368fd",
   "metadata": {},
   "source": [
    "#### Explore ratings by region and issues"
   ]
  },
  {
   "cell_type": "code",
   "execution_count": 80,
   "id": "abc1a854",
   "metadata": {},
   "outputs": [
    {
     "data": {
      "text/plain": [
       "array(['chi', 'nyc', 'sf', 'sf '], dtype=object)"
      ]
     },
     "execution_count": 80,
     "metadata": {},
     "output_type": "execute_result"
    }
   ],
   "source": [
    "df.region.unique()"
   ]
  },
  {
   "cell_type": "code",
   "execution_count": 81,
   "id": "8cb1b5ca",
   "metadata": {},
   "outputs": [],
   "source": [
    "#Remove whitespace from region name\n",
    "df['region'] = df.region.replace('sf ', 'sf')"
   ]
  },
  {
   "cell_type": "code",
   "execution_count": 82,
   "id": "2bd7e806",
   "metadata": {},
   "outputs": [
    {
     "data": {
      "text/plain": [
       "array(['chi', 'nyc', 'sf'], dtype=object)"
      ]
     },
     "execution_count": 82,
     "metadata": {},
     "output_type": "execute_result"
    }
   ],
   "source": [
    "df.region.unique()"
   ]
  },
  {
   "cell_type": "code",
   "execution_count": 83,
   "id": "3c57e92e",
   "metadata": {},
   "outputs": [
    {
     "data": {
      "image/png": "[encoded data removed]",
      "text/plain": [
       "<Figure size 864x432 with 1 Axes>"
      ]
     },
     "metadata": {
      "needs_background": "light"
     },
     "output_type": "display_data"
    }
   ],
   "source": [
    "fig = plt.figure(figsize=(12,6))\n",
    "ax = sns.countplot(x=\"region\",  data=df)\n",
    "plt.title('Number of items per region')\n",
    "plt.ylabel('Number of items')\n",
    "plt.xticks(rotation = 90)\n",
    "plt.grid()\n",
    "plt.show()"
   ]
  },
  {
   "cell_type": "code",
   "execution_count": 84,
   "id": "522211dd",
   "metadata": {},
   "outputs": [
    {
     "data": {
      "text/html": [
       "<div>\n",
       "<style scoped>\n",
       "    .dataframe tbody tr th:only-of-type {\n",
       "        vertical-align: middle;\n",
       "    }\n",
       "\n",
       "    .dataframe tbody tr th {\n",
       "        vertical-align: top;\n",
       "    }\n",
       "\n",
       "    .dataframe thead tr th {\n",
       "        text-align: left;\n",
       "    }\n",
       "</style>\n",
       "<table border=\"1\" class=\"dataframe\">\n",
       "  <thead>\n",
       "    <tr>\n",
       "      <th></th>\n",
       "      <th></th>\n",
       "      <th colspan=\"11\" halign=\"left\">Grouped by type of issue reported</th>\n",
       "    </tr>\n",
       "    <tr>\n",
       "      <th></th>\n",
       "      <th></th>\n",
       "      <th>Missing</th>\n",
       "      <th>Overall</th>\n",
       "      <th>Damaged or spoiled</th>\n",
       "      <th>Item charged incorrectly</th>\n",
       "      <th>Item missing</th>\n",
       "      <th>No-Issue</th>\n",
       "      <th>Other Order Issue</th>\n",
       "      <th>Poor replacement</th>\n",
       "      <th>Poor service</th>\n",
       "      <th>Wrong item</th>\n",
       "      <th>P-Value</th>\n",
       "    </tr>\n",
       "  </thead>\n",
       "  <tbody>\n",
       "    <tr>\n",
       "      <th>n</th>\n",
       "      <th></th>\n",
       "      <td></td>\n",
       "      <td>14957</td>\n",
       "      <td>310</td>\n",
       "      <td>21</td>\n",
       "      <td>178</td>\n",
       "      <td>13870</td>\n",
       "      <td>21</td>\n",
       "      <td>54</td>\n",
       "      <td>129</td>\n",
       "      <td>374</td>\n",
       "      <td></td>\n",
       "    </tr>\n",
       "    <tr>\n",
       "      <th rowspan=\"3\" valign=\"top\">region, n (%)</th>\n",
       "      <th>chi</th>\n",
       "      <td>0</td>\n",
       "      <td>6430 (43.0)</td>\n",
       "      <td>102 (32.9)</td>\n",
       "      <td>13 (61.9)</td>\n",
       "      <td>49 (27.5)</td>\n",
       "      <td>6158 (44.4)</td>\n",
       "      <td>7 (33.3)</td>\n",
       "      <td>4 (7.4)</td>\n",
       "      <td>15 (11.6)</td>\n",
       "      <td>82 (21.9)</td>\n",
       "      <td>&lt;0.001</td>\n",
       "    </tr>\n",
       "    <tr>\n",
       "      <th>nyc</th>\n",
       "      <td></td>\n",
       "      <td>1290 (8.6)</td>\n",
       "      <td>53 (17.1)</td>\n",
       "      <td>3 (14.3)</td>\n",
       "      <td>10 (5.6)</td>\n",
       "      <td>1168 (8.4)</td>\n",
       "      <td>4 (19.0)</td>\n",
       "      <td>9 (16.7)</td>\n",
       "      <td>15 (11.6)</td>\n",
       "      <td>28 (7.5)</td>\n",
       "      <td></td>\n",
       "    </tr>\n",
       "    <tr>\n",
       "      <th>sf</th>\n",
       "      <td></td>\n",
       "      <td>7237 (48.4)</td>\n",
       "      <td>155 (50.0)</td>\n",
       "      <td>5 (23.8)</td>\n",
       "      <td>119 (66.9)</td>\n",
       "      <td>6544 (47.2)</td>\n",
       "      <td>10 (47.6)</td>\n",
       "      <td>41 (75.9)</td>\n",
       "      <td>99 (76.7)</td>\n",
       "      <td>264 (70.6)</td>\n",
       "      <td></td>\n",
       "    </tr>\n",
       "    <tr>\n",
       "      <th rowspan=\"6\" valign=\"top\">customer order rating, n (%)</th>\n",
       "      <th>0</th>\n",
       "      <td>0</td>\n",
       "      <td>154 (1.0)</td>\n",
       "      <td>2 (0.6)</td>\n",
       "      <td></td>\n",
       "      <td></td>\n",
       "      <td>151 (1.1)</td>\n",
       "      <td></td>\n",
       "      <td>1 (1.9)</td>\n",
       "      <td></td>\n",
       "      <td></td>\n",
       "      <td>&lt;0.001</td>\n",
       "    </tr>\n",
       "    <tr>\n",
       "      <th>1</th>\n",
       "      <td></td>\n",
       "      <td>373 (2.5)</td>\n",
       "      <td>49 (15.8)</td>\n",
       "      <td>1 (4.8)</td>\n",
       "      <td>32 (18.0)</td>\n",
       "      <td>204 (1.5)</td>\n",
       "      <td>3 (14.3)</td>\n",
       "      <td>15 (27.8)</td>\n",
       "      <td>39 (30.2)</td>\n",
       "      <td>30 (8.0)</td>\n",
       "      <td></td>\n",
       "    </tr>\n",
       "    <tr>\n",
       "      <th>2</th>\n",
       "      <td></td>\n",
       "      <td>370 (2.5)</td>\n",
       "      <td>52 (16.8)</td>\n",
       "      <td>1 (4.8)</td>\n",
       "      <td>41 (23.0)</td>\n",
       "      <td>176 (1.3)</td>\n",
       "      <td>2 (9.5)</td>\n",
       "      <td>7 (13.0)</td>\n",
       "      <td>23 (17.8)</td>\n",
       "      <td>68 (18.2)</td>\n",
       "      <td></td>\n",
       "    </tr>\n",
       "    <tr>\n",
       "      <th>3</th>\n",
       "      <td></td>\n",
       "      <td>778 (5.2)</td>\n",
       "      <td>103 (33.2)</td>\n",
       "      <td></td>\n",
       "      <td>40 (22.5)</td>\n",
       "      <td>449 (3.2)</td>\n",
       "      <td>7 (33.3)</td>\n",
       "      <td>21 (38.9)</td>\n",
       "      <td>33 (25.6)</td>\n",
       "      <td>125 (33.4)</td>\n",
       "      <td></td>\n",
       "    </tr>\n",
       "    <tr>\n",
       "      <th>4</th>\n",
       "      <td></td>\n",
       "      <td>1680 (11.2)</td>\n",
       "      <td>75 (24.2)</td>\n",
       "      <td>10 (47.6)</td>\n",
       "      <td>40 (22.5)</td>\n",
       "      <td>1395 (10.1)</td>\n",
       "      <td>6 (28.6)</td>\n",
       "      <td>8 (14.8)</td>\n",
       "      <td>26 (20.2)</td>\n",
       "      <td>120 (32.1)</td>\n",
       "      <td></td>\n",
       "    </tr>\n",
       "    <tr>\n",
       "      <th>5</th>\n",
       "      <td></td>\n",
       "      <td>11602 (77.6)</td>\n",
       "      <td>29 (9.4)</td>\n",
       "      <td>9 (42.9)</td>\n",
       "      <td>25 (14.0)</td>\n",
       "      <td>11495 (82.9)</td>\n",
       "      <td>3 (14.3)</td>\n",
       "      <td>2 (3.7)</td>\n",
       "      <td>8 (6.2)</td>\n",
       "      <td>31 (8.3)</td>\n",
       "      <td></td>\n",
       "    </tr>\n",
       "  </tbody>\n",
       "</table>\n",
       "</div><br />[1] Chi-squared tests for the following variables may be invalid due to the low number of observations: region, customer order rating.<br />"
      ],
      "text/plain": [
       "                                 Grouped by type of issue reported                                                                                                                                                         \n",
       "                                                           Missing       Overall Damaged or spoiled Item charged incorrectly Item missing      No-Issue Other Order Issue Poor replacement Poor service  Wrong item P-Value\n",
       "n                                                                          14957                310                       21          178         13870                21               54          129         374        \n",
       "region, n (%)                chi                                 0   6430 (43.0)         102 (32.9)                13 (61.9)    49 (27.5)   6158 (44.4)          7 (33.3)          4 (7.4)    15 (11.6)   82 (21.9)  <0.001\n",
       "                             nyc                                      1290 (8.6)          53 (17.1)                 3 (14.3)     10 (5.6)    1168 (8.4)          4 (19.0)         9 (16.7)    15 (11.6)    28 (7.5)        \n",
       "                             sf                                      7237 (48.4)         155 (50.0)                 5 (23.8)   119 (66.9)   6544 (47.2)         10 (47.6)        41 (75.9)    99 (76.7)  264 (70.6)        \n",
       "customer order rating, n (%) 0                                   0     154 (1.0)            2 (0.6)                                           151 (1.1)                            1 (1.9)                           <0.001\n",
       "                             1                                         373 (2.5)          49 (15.8)                  1 (4.8)    32 (18.0)     204 (1.5)          3 (14.3)        15 (27.8)    39 (30.2)    30 (8.0)        \n",
       "                             2                                         370 (2.5)          52 (16.8)                  1 (4.8)    41 (23.0)     176 (1.3)           2 (9.5)         7 (13.0)    23 (17.8)   68 (18.2)        \n",
       "                             3                                         778 (5.2)         103 (33.2)                             40 (22.5)     449 (3.2)          7 (33.3)        21 (38.9)    33 (25.6)  125 (33.4)        \n",
       "                             4                                       1680 (11.2)          75 (24.2)                10 (47.6)    40 (22.5)   1395 (10.1)          6 (28.6)         8 (14.8)    26 (20.2)  120 (32.1)        \n",
       "                             5                                      11602 (77.6)           29 (9.4)                 9 (42.9)    25 (14.0)  11495 (82.9)          3 (14.3)          2 (3.7)      8 (6.2)    31 (8.3)        \n",
       "[1] Chi-squared tests for the following variables may be invalid due to the low number of observations: region, customer order rating."
      ]
     },
     "metadata": {},
     "output_type": "display_data"
    }
   ],
   "source": [
    "groupby = ['type of issue reported']\n",
    "stats_table = TableOne(df,columns = ['region', 'customer order rating'],\n",
    "                   groupby=groupby, pval=True, tukey_test=True)\n",
    "stats_table.to_excel('region, issues and ratings.xlsx')\n",
    "display(stats_table)"
   ]
  },
  {
   "cell_type": "markdown",
   "id": "feee7a53",
   "metadata": {},
   "source": [
    "#### Explore ratings by region"
   ]
  },
  {
   "cell_type": "code",
   "execution_count": 85,
   "id": "eedd9d34",
   "metadata": {},
   "outputs": [
    {
     "data": {
      "text/html": [
       "<div>\n",
       "<style scoped>\n",
       "    .dataframe tbody tr th:only-of-type {\n",
       "        vertical-align: middle;\n",
       "    }\n",
       "\n",
       "    .dataframe tbody tr th {\n",
       "        vertical-align: top;\n",
       "    }\n",
       "\n",
       "    .dataframe thead tr th {\n",
       "        text-align: left;\n",
       "    }\n",
       "</style>\n",
       "<table border=\"1\" class=\"dataframe\">\n",
       "  <thead>\n",
       "    <tr>\n",
       "      <th></th>\n",
       "      <th></th>\n",
       "      <th colspan=\"6\" halign=\"left\">Grouped by region</th>\n",
       "    </tr>\n",
       "    <tr>\n",
       "      <th></th>\n",
       "      <th></th>\n",
       "      <th>Missing</th>\n",
       "      <th>Overall</th>\n",
       "      <th>chi</th>\n",
       "      <th>nyc</th>\n",
       "      <th>sf</th>\n",
       "      <th>P-Value</th>\n",
       "    </tr>\n",
       "  </thead>\n",
       "  <tbody>\n",
       "    <tr>\n",
       "      <th>n</th>\n",
       "      <th></th>\n",
       "      <td></td>\n",
       "      <td>14957</td>\n",
       "      <td>6430</td>\n",
       "      <td>1290</td>\n",
       "      <td>7237</td>\n",
       "      <td></td>\n",
       "    </tr>\n",
       "    <tr>\n",
       "      <th rowspan=\"6\" valign=\"top\">customer order rating, n (%)</th>\n",
       "      <th>0</th>\n",
       "      <td>0</td>\n",
       "      <td>154 (1.0)</td>\n",
       "      <td>50 (0.8)</td>\n",
       "      <td>8 (0.6)</td>\n",
       "      <td>96 (1.3)</td>\n",
       "      <td>&lt;0.001</td>\n",
       "    </tr>\n",
       "    <tr>\n",
       "      <th>1</th>\n",
       "      <td></td>\n",
       "      <td>373 (2.5)</td>\n",
       "      <td>84 (1.3)</td>\n",
       "      <td>45 (3.5)</td>\n",
       "      <td>244 (3.4)</td>\n",
       "      <td></td>\n",
       "    </tr>\n",
       "    <tr>\n",
       "      <th>2</th>\n",
       "      <td></td>\n",
       "      <td>370 (2.5)</td>\n",
       "      <td>92 (1.4)</td>\n",
       "      <td>43 (3.3)</td>\n",
       "      <td>235 (3.2)</td>\n",
       "      <td></td>\n",
       "    </tr>\n",
       "    <tr>\n",
       "      <th>3</th>\n",
       "      <td></td>\n",
       "      <td>778 (5.2)</td>\n",
       "      <td>185 (2.9)</td>\n",
       "      <td>95 (7.4)</td>\n",
       "      <td>498 (6.9)</td>\n",
       "      <td></td>\n",
       "    </tr>\n",
       "    <tr>\n",
       "      <th>4</th>\n",
       "      <td></td>\n",
       "      <td>1680 (11.2)</td>\n",
       "      <td>621 (9.7)</td>\n",
       "      <td>195 (15.1)</td>\n",
       "      <td>864 (11.9)</td>\n",
       "      <td></td>\n",
       "    </tr>\n",
       "    <tr>\n",
       "      <th>5</th>\n",
       "      <td></td>\n",
       "      <td>11602 (77.6)</td>\n",
       "      <td>5398 (84.0)</td>\n",
       "      <td>904 (70.1)</td>\n",
       "      <td>5300 (73.2)</td>\n",
       "      <td></td>\n",
       "    </tr>\n",
       "  </tbody>\n",
       "</table>\n",
       "</div><br />"
      ],
      "text/plain": [
       "                               Grouped by region                                                            \n",
       "                                         Missing       Overall          chi         nyc           sf P-Value\n",
       "n                                                        14957         6430        1290         7237        \n",
       "customer order rating, n (%) 0                 0     154 (1.0)     50 (0.8)     8 (0.6)     96 (1.3)  <0.001\n",
       "                             1                       373 (2.5)     84 (1.3)    45 (3.5)    244 (3.4)        \n",
       "                             2                       370 (2.5)     92 (1.4)    43 (3.3)    235 (3.2)        \n",
       "                             3                       778 (5.2)    185 (2.9)    95 (7.4)    498 (6.9)        \n",
       "                             4                     1680 (11.2)    621 (9.7)  195 (15.1)   864 (11.9)        \n",
       "                             5                    11602 (77.6)  5398 (84.0)  904 (70.1)  5300 (73.2)        "
      ]
     },
     "metadata": {},
     "output_type": "display_data"
    }
   ],
   "source": [
    "groupby = ['region']\n",
    "stats_table = TableOne(df,columns = ['region', 'customer order rating'],\n",
    "                   groupby=groupby, pval=True, tukey_test=True)\n",
    "stats_table.to_excel('region and ratings.xlsx')\n",
    "display(stats_table)"
   ]
  },
  {
   "cell_type": "markdown",
   "id": "09c9f1fa",
   "metadata": {},
   "source": [
    "#### Explore number of items by hour of the day"
   ]
  },
  {
   "cell_type": "code",
   "execution_count": 86,
   "id": "8e044c3f",
   "metadata": {},
   "outputs": [
    {
     "data": {
      "image/png": "[encoded data removed]",
      "text/plain": [
       "<Figure size 864x432 with 1 Axes>"
      ]
     },
     "metadata": {
      "needs_background": "light"
     },
     "output_type": "display_data"
    }
   ],
   "source": [
    "fig = plt.figure(figsize=(12,6))\n",
    "ax = sns.countplot(x=\"hour\",  data=df)\n",
    "plt.title('Number of items by hour')\n",
    "plt.ylabel('Number of items')\n",
    "plt.show()"
   ]
  },
  {
   "cell_type": "markdown",
   "id": "ede1ae76",
   "metadata": {},
   "source": [
    "##### Number of items per week of the year"
   ]
  },
  {
   "cell_type": "code",
   "execution_count": 87,
   "id": "c0893c2b",
   "metadata": {},
   "outputs": [
    {
     "data": {
      "image/png": "[encoded data removed]",
      "text/plain": [
       "<Figure size 864x432 with 1 Axes>"
      ]
     },
     "metadata": {
      "needs_background": "light"
     },
     "output_type": "display_data"
    }
   ],
   "source": [
    "fig = plt.figure(figsize=(12,6))\n",
    "ax = sns.countplot(x=\"week\",  data=df)\n",
    "plt.grid()\n",
    "plt.title('Number of items by week')\n",
    "plt.ylabel('Number of items')\n",
    "plt.show()"
   ]
  },
  {
   "cell_type": "markdown",
   "id": "24d82035",
   "metadata": {},
   "source": [
    "##### Number of items per day of the week"
   ]
  },
  {
   "cell_type": "code",
   "execution_count": 88,
   "id": "e1c83367",
   "metadata": {},
   "outputs": [
    {
     "data": {
      "image/png": "[encoded data removed]",
      "text/plain": [
       "<Figure size 864x432 with 1 Axes>"
      ]
     },
     "metadata": {
      "needs_background": "light"
     },
     "output_type": "display_data"
    }
   ],
   "source": [
    "fig = plt.figure(figsize=(12,6))\n",
    "ax = sns.countplot(x=\"day\",  data=df)\n",
    "plt.title('Number of items by day of the week')\n",
    "plt.ylabel('Number of items')\n",
    "plt.show()"
   ]
  },
  {
   "cell_type": "code",
   "execution_count": 89,
   "id": "f98b32dc",
   "metadata": {},
   "outputs": [
    {
     "data": {
      "text/plain": [
       "Sunday       2588\n",
       "Monday       2381\n",
       "Saturday     2259\n",
       "Friday       2072\n",
       "Tuesday      2051\n",
       "Thursday     1877\n",
       "Wednesday    1729\n",
       "Name: day, dtype: int64"
      ]
     },
     "execution_count": 89,
     "metadata": {},
     "output_type": "execute_result"
    }
   ],
   "source": [
    "df['day'].value_counts()"
   ]
  },
  {
   "cell_type": "code",
   "execution_count": 90,
   "id": "399902b0",
   "metadata": {},
   "outputs": [
    {
     "data": {
      "text/plain": [
       "19    3382\n",
       "22    3298\n",
       "20    3296\n",
       "21    3048\n",
       "18    1694\n",
       "23     239\n",
       "Name: week, dtype: Int64"
      ]
     },
     "execution_count": 90,
     "metadata": {},
     "output_type": "execute_result"
    }
   ],
   "source": [
    "df['week'].value_counts()"
   ]
  },
  {
   "cell_type": "code",
   "execution_count": 91,
   "id": "8405e759",
   "metadata": {},
   "outputs": [
    {
     "data": {
      "image/png": "[encoded data removed]",
      "text/plain": [
       "<Figure size 864x432 with 1 Axes>"
      ]
     },
     "metadata": {
      "needs_background": "light"
     },
     "output_type": "display_data"
    }
   ],
   "source": [
    "fig = plt.figure(figsize=(12,6))\n",
    "ax = sns.countplot(x=\"month\",  data=df)\n",
    "plt.title('Number of items by month')\n",
    "plt.ylabel('Number of items')\n",
    "plt.grid()\n",
    "plt.show()"
   ]
  },
  {
   "cell_type": "code",
   "execution_count": 92,
   "id": "a184b2db",
   "metadata": {},
   "outputs": [
    {
     "data": {
      "text/html": [
       "<div>\n",
       "<style scoped>\n",
       "    .dataframe tbody tr th:only-of-type {\n",
       "        vertical-align: middle;\n",
       "    }\n",
       "\n",
       "    .dataframe tbody tr th {\n",
       "        vertical-align: top;\n",
       "    }\n",
       "\n",
       "    .dataframe thead tr th {\n",
       "        text-align: left;\n",
       "    }\n",
       "</style>\n",
       "<table border=\"1\" class=\"dataframe\">\n",
       "  <thead>\n",
       "    <tr>\n",
       "      <th></th>\n",
       "      <th></th>\n",
       "      <th colspan=\"5\" halign=\"left\">Grouped by month</th>\n",
       "    </tr>\n",
       "    <tr>\n",
       "      <th></th>\n",
       "      <th></th>\n",
       "      <th>Missing</th>\n",
       "      <th>Overall</th>\n",
       "      <th>5</th>\n",
       "      <th>6</th>\n",
       "      <th>P-Value</th>\n",
       "    </tr>\n",
       "  </thead>\n",
       "  <tbody>\n",
       "    <tr>\n",
       "      <th>n</th>\n",
       "      <th></th>\n",
       "      <td></td>\n",
       "      <td>14957</td>\n",
       "      <td>14119</td>\n",
       "      <td>838</td>\n",
       "      <td></td>\n",
       "    </tr>\n",
       "    <tr>\n",
       "      <th rowspan=\"3\" valign=\"top\">region, n (%)</th>\n",
       "      <th>chi</th>\n",
       "      <td>0</td>\n",
       "      <td>6430 (43.0)</td>\n",
       "      <td>6055 (42.9)</td>\n",
       "      <td>375 (44.7)</td>\n",
       "      <td>0.002</td>\n",
       "    </tr>\n",
       "    <tr>\n",
       "      <th>nyc</th>\n",
       "      <td></td>\n",
       "      <td>1290 (8.6)</td>\n",
       "      <td>1246 (8.8)</td>\n",
       "      <td>44 (5.3)</td>\n",
       "      <td></td>\n",
       "    </tr>\n",
       "    <tr>\n",
       "      <th>sf</th>\n",
       "      <td></td>\n",
       "      <td>7237 (48.4)</td>\n",
       "      <td>6818 (48.3)</td>\n",
       "      <td>419 (50.0)</td>\n",
       "      <td></td>\n",
       "    </tr>\n",
       "  </tbody>\n",
       "</table>\n",
       "</div><br />"
      ],
      "text/plain": [
       "                  Grouped by month                                              \n",
       "                           Missing      Overall            5           6 P-Value\n",
       "n                                         14957        14119         838        \n",
       "region, n (%) chi                0  6430 (43.0)  6055 (42.9)  375 (44.7)   0.002\n",
       "              nyc                    1290 (8.6)   1246 (8.8)    44 (5.3)        \n",
       "              sf                    7237 (48.4)  6818 (48.3)  419 (50.0)        "
      ]
     },
     "metadata": {},
     "output_type": "display_data"
    }
   ],
   "source": [
    "groupby = ['month']\n",
    "stats_table = TableOne(df,columns = ['region', 'month'],\n",
    "                   groupby=groupby, pval=True, tukey_test=True)\n",
    "stats_table.to_excel('month and region.xlsx')\n",
    "display(stats_table)"
   ]
  },
  {
   "cell_type": "markdown",
   "id": "3f2fc07e",
   "metadata": {},
   "source": [
    "##### Region and issues"
   ]
  },
  {
   "cell_type": "code",
   "execution_count": 93,
   "id": "bd319025",
   "metadata": {},
   "outputs": [
    {
     "data": {
      "text/html": [
       "<div>\n",
       "<style scoped>\n",
       "    .dataframe tbody tr th:only-of-type {\n",
       "        vertical-align: middle;\n",
       "    }\n",
       "\n",
       "    .dataframe tbody tr th {\n",
       "        vertical-align: top;\n",
       "    }\n",
       "\n",
       "    .dataframe thead tr th {\n",
       "        text-align: left;\n",
       "    }\n",
       "</style>\n",
       "<table border=\"1\" class=\"dataframe\">\n",
       "  <thead>\n",
       "    <tr>\n",
       "      <th></th>\n",
       "      <th></th>\n",
       "      <th colspan=\"6\" halign=\"left\">Grouped by region</th>\n",
       "    </tr>\n",
       "    <tr>\n",
       "      <th></th>\n",
       "      <th></th>\n",
       "      <th>Missing</th>\n",
       "      <th>Overall</th>\n",
       "      <th>chi</th>\n",
       "      <th>nyc</th>\n",
       "      <th>sf</th>\n",
       "      <th>P-Value</th>\n",
       "    </tr>\n",
       "  </thead>\n",
       "  <tbody>\n",
       "    <tr>\n",
       "      <th>n</th>\n",
       "      <th></th>\n",
       "      <td></td>\n",
       "      <td>14957</td>\n",
       "      <td>6430</td>\n",
       "      <td>1290</td>\n",
       "      <td>7237</td>\n",
       "      <td></td>\n",
       "    </tr>\n",
       "    <tr>\n",
       "      <th rowspan=\"8\" valign=\"top\">type of issue reported, n (%)</th>\n",
       "      <th>Damaged or spoiled</th>\n",
       "      <td>0</td>\n",
       "      <td>310 (2.1)</td>\n",
       "      <td>102 (1.6)</td>\n",
       "      <td>53 (4.1)</td>\n",
       "      <td>155 (2.1)</td>\n",
       "      <td>&lt;0.001</td>\n",
       "    </tr>\n",
       "    <tr>\n",
       "      <th>Item charged incorrectly</th>\n",
       "      <td></td>\n",
       "      <td>21 (0.1)</td>\n",
       "      <td>13 (0.2)</td>\n",
       "      <td>3 (0.2)</td>\n",
       "      <td>5 (0.1)</td>\n",
       "      <td></td>\n",
       "    </tr>\n",
       "    <tr>\n",
       "      <th>Item missing</th>\n",
       "      <td></td>\n",
       "      <td>178 (1.2)</td>\n",
       "      <td>49 (0.8)</td>\n",
       "      <td>10 (0.8)</td>\n",
       "      <td>119 (1.6)</td>\n",
       "      <td></td>\n",
       "    </tr>\n",
       "    <tr>\n",
       "      <th>No-Issue</th>\n",
       "      <td></td>\n",
       "      <td>13870 (92.7)</td>\n",
       "      <td>6158 (95.8)</td>\n",
       "      <td>1168 (90.5)</td>\n",
       "      <td>6544 (90.4)</td>\n",
       "      <td></td>\n",
       "    </tr>\n",
       "    <tr>\n",
       "      <th>Other Order Issue</th>\n",
       "      <td></td>\n",
       "      <td>21 (0.1)</td>\n",
       "      <td>7 (0.1)</td>\n",
       "      <td>4 (0.3)</td>\n",
       "      <td>10 (0.1)</td>\n",
       "      <td></td>\n",
       "    </tr>\n",
       "    <tr>\n",
       "      <th>Poor replacement</th>\n",
       "      <td></td>\n",
       "      <td>54 (0.4)</td>\n",
       "      <td>4 (0.1)</td>\n",
       "      <td>9 (0.7)</td>\n",
       "      <td>41 (0.6)</td>\n",
       "      <td></td>\n",
       "    </tr>\n",
       "    <tr>\n",
       "      <th>Poor service</th>\n",
       "      <td></td>\n",
       "      <td>129 (0.9)</td>\n",
       "      <td>15 (0.2)</td>\n",
       "      <td>15 (1.2)</td>\n",
       "      <td>99 (1.4)</td>\n",
       "      <td></td>\n",
       "    </tr>\n",
       "    <tr>\n",
       "      <th>Wrong item</th>\n",
       "      <td></td>\n",
       "      <td>374 (2.5)</td>\n",
       "      <td>82 (1.3)</td>\n",
       "      <td>28 (2.2)</td>\n",
       "      <td>264 (3.6)</td>\n",
       "      <td></td>\n",
       "    </tr>\n",
       "  </tbody>\n",
       "</table>\n",
       "</div><br />[1] Chi-squared tests for the following variables may be invalid due to the low number of observations: type of issue reported.<br />"
      ],
      "text/plain": [
       "                                                       Grouped by region                                                             \n",
       "                                                                 Missing       Overall          chi          nyc           sf P-Value\n",
       "n                                                                                14957         6430         1290         7237        \n",
       "type of issue reported, n (%) Damaged or spoiled                       0     310 (2.1)    102 (1.6)     53 (4.1)    155 (2.1)  <0.001\n",
       "                              Item charged incorrectly                        21 (0.1)     13 (0.2)      3 (0.2)      5 (0.1)        \n",
       "                              Item missing                                   178 (1.2)     49 (0.8)     10 (0.8)    119 (1.6)        \n",
       "                              No-Issue                                    13870 (92.7)  6158 (95.8)  1168 (90.5)  6544 (90.4)        \n",
       "                              Other Order Issue                               21 (0.1)      7 (0.1)      4 (0.3)     10 (0.1)        \n",
       "                              Poor replacement                                54 (0.4)      4 (0.1)      9 (0.7)     41 (0.6)        \n",
       "                              Poor service                                   129 (0.9)     15 (0.2)     15 (1.2)     99 (1.4)        \n",
       "                              Wrong item                                     374 (2.5)     82 (1.3)     28 (2.2)    264 (3.6)        \n",
       "[1] Chi-squared tests for the following variables may be invalid due to the low number of observations: type of issue reported."
      ]
     },
     "metadata": {},
     "output_type": "display_data"
    }
   ],
   "source": [
    "groupby = ['region']\n",
    "stats_table = TableOne(df,columns = ['region', 'type of issue reported'],\n",
    "                   groupby=groupby, pval=True, tukey_test=True)\n",
    "stats_table.to_excel('region and issues.xlsx')\n",
    "display(stats_table)"
   ]
  },
  {
   "cell_type": "markdown",
   "id": "043d9544",
   "metadata": {},
   "source": [
    "##### Region and day of the week"
   ]
  },
  {
   "cell_type": "code",
   "execution_count": 95,
   "id": "7bea404d",
   "metadata": {},
   "outputs": [
    {
     "data": {
      "text/html": [
       "<div>\n",
       "<style scoped>\n",
       "    .dataframe tbody tr th:only-of-type {\n",
       "        vertical-align: middle;\n",
       "    }\n",
       "\n",
       "    .dataframe tbody tr th {\n",
       "        vertical-align: top;\n",
       "    }\n",
       "\n",
       "    .dataframe thead tr th {\n",
       "        text-align: left;\n",
       "    }\n",
       "</style>\n",
       "<table border=\"1\" class=\"dataframe\">\n",
       "  <thead>\n",
       "    <tr>\n",
       "      <th></th>\n",
       "      <th></th>\n",
       "      <th colspan=\"6\" halign=\"left\">Grouped by region</th>\n",
       "    </tr>\n",
       "    <tr>\n",
       "      <th></th>\n",
       "      <th></th>\n",
       "      <th>Missing</th>\n",
       "      <th>Overall</th>\n",
       "      <th>chi</th>\n",
       "      <th>nyc</th>\n",
       "      <th>sf</th>\n",
       "      <th>P-Value</th>\n",
       "    </tr>\n",
       "  </thead>\n",
       "  <tbody>\n",
       "    <tr>\n",
       "      <th>n</th>\n",
       "      <th></th>\n",
       "      <td></td>\n",
       "      <td>14957</td>\n",
       "      <td>6430</td>\n",
       "      <td>1290</td>\n",
       "      <td>7237</td>\n",
       "      <td></td>\n",
       "    </tr>\n",
       "    <tr>\n",
       "      <th rowspan=\"7\" valign=\"top\">day, n (%)</th>\n",
       "      <th>Friday</th>\n",
       "      <td>0</td>\n",
       "      <td>2072 (13.9)</td>\n",
       "      <td>879 (13.7)</td>\n",
       "      <td>204 (15.8)</td>\n",
       "      <td>989 (13.7)</td>\n",
       "      <td>0.003</td>\n",
       "    </tr>\n",
       "    <tr>\n",
       "      <th>Monday</th>\n",
       "      <td></td>\n",
       "      <td>2381 (15.9)</td>\n",
       "      <td>996 (15.5)</td>\n",
       "      <td>204 (15.8)</td>\n",
       "      <td>1181 (16.3)</td>\n",
       "      <td></td>\n",
       "    </tr>\n",
       "    <tr>\n",
       "      <th>Saturday</th>\n",
       "      <td></td>\n",
       "      <td>2259 (15.1)</td>\n",
       "      <td>1028 (16.0)</td>\n",
       "      <td>188 (14.6)</td>\n",
       "      <td>1043 (14.4)</td>\n",
       "      <td></td>\n",
       "    </tr>\n",
       "    <tr>\n",
       "      <th>Sunday</th>\n",
       "      <td></td>\n",
       "      <td>2588 (17.3)</td>\n",
       "      <td>1172 (18.2)</td>\n",
       "      <td>183 (14.2)</td>\n",
       "      <td>1233 (17.0)</td>\n",
       "      <td></td>\n",
       "    </tr>\n",
       "    <tr>\n",
       "      <th>Thursday</th>\n",
       "      <td></td>\n",
       "      <td>1877 (12.5)</td>\n",
       "      <td>769 (12.0)</td>\n",
       "      <td>177 (13.7)</td>\n",
       "      <td>931 (12.9)</td>\n",
       "      <td></td>\n",
       "    </tr>\n",
       "    <tr>\n",
       "      <th>Tuesday</th>\n",
       "      <td></td>\n",
       "      <td>2051 (13.7)</td>\n",
       "      <td>882 (13.7)</td>\n",
       "      <td>172 (13.3)</td>\n",
       "      <td>997 (13.8)</td>\n",
       "      <td></td>\n",
       "    </tr>\n",
       "    <tr>\n",
       "      <th>Wednesday</th>\n",
       "      <td></td>\n",
       "      <td>1729 (11.6)</td>\n",
       "      <td>704 (10.9)</td>\n",
       "      <td>162 (12.6)</td>\n",
       "      <td>863 (11.9)</td>\n",
       "      <td></td>\n",
       "    </tr>\n",
       "  </tbody>\n",
       "</table>\n",
       "</div><br />"
      ],
      "text/plain": [
       "                     Grouped by region                                                           \n",
       "                               Missing      Overall          chi         nyc           sf P-Value\n",
       "n                                             14957         6430        1290         7237        \n",
       "day, n (%) Friday                    0  2072 (13.9)   879 (13.7)  204 (15.8)   989 (13.7)   0.003\n",
       "           Monday                       2381 (15.9)   996 (15.5)  204 (15.8)  1181 (16.3)        \n",
       "           Saturday                     2259 (15.1)  1028 (16.0)  188 (14.6)  1043 (14.4)        \n",
       "           Sunday                       2588 (17.3)  1172 (18.2)  183 (14.2)  1233 (17.0)        \n",
       "           Thursday                     1877 (12.5)   769 (12.0)  177 (13.7)   931 (12.9)        \n",
       "           Tuesday                      2051 (13.7)   882 (13.7)  172 (13.3)   997 (13.8)        \n",
       "           Wednesday                    1729 (11.6)   704 (10.9)  162 (12.6)   863 (11.9)        "
      ]
     },
     "metadata": {},
     "output_type": "display_data"
    }
   ],
   "source": [
    "groupby = ['region']\n",
    "stats_table = TableOne(df,columns = ['region', 'day'],\n",
    "                   groupby=groupby, pval=True, tukey_test=True)\n",
    "stats_table.to_excel('region and day.xlsx')\n",
    "display(stats_table)"
   ]
  },
  {
   "cell_type": "code",
   "execution_count": null,
   "id": "c4e02eb2",
   "metadata": {},
   "outputs": [],
   "source": []
  }
 ],
 "metadata": {
  "kernelspec": {
   "display_name": "Python 3 (ipykernel)",
   "language": "python",
   "name": "python3"
  },
  "language_info": {
   "codemirror_mode": {
    "name": "ipython",
    "version": 3
   },
   "file_extension": ".py",
   "mimetype": "text/x-python",
   "name": "python",
   "nbconvert_exporter": "python",
   "pygments_lexer": "ipython3",
   "version": "3.8.8"
  }
 },
 "nbformat": 4,
 "nbformat_minor": 5
}
