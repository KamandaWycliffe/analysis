{
 "cells": [
  {
   "cell_type": "markdown",
   "metadata": {
    "id": "Av_sK6JRQag5"
   },
   "source": [
    "# SIT742: Modern Data Science \n",
    "**(2021 Assessment Task 02 - Data Analytics)**\n",
    "\n",
    "---\n",
    "- Please refer to the CloudDeakin for the detailed assessment requirements.\n",
    "- Please submit to Clouddeakin before the due date.\n",
    "- It is a group assignment, and please form a group and self-enrol into the CloudDeakin groups.\n",
    "- Students with difficulty in meeting the deadline because of illness, etc. must apply for an assignment extension in CloudDeakin no later than *12:00pm on 21/05/2021 (Friday)*.\n",
    "\n",
    "\n",
    "Prepared by **SIT742 Teaching Team**\n",
    "\n",
    "\n",
    "---\n",
    "\n",
    "<div class=\"alert alert-block alert-info\">\n",
    "Enter your group information in the following cell.   \n",
    "</div>\n",
    "\n",
    "**Student Information:** Please fill your group information below\n",
    "\n",
    "- Group ID:\n",
    "- Names:  \n",
    "- Student IDs:  \n",
    "- Emails:  \n",
    "- Lab Session and Tutor (for on campus students): \n",
    "\n",
    "---\n",
    "\n",
    "\n",
    "# Part I - Web Log Data\n",
    "\n",
    "## Overview\n",
    "\n",
    "Hotel TULIP a five-star hotel located at Deakin University, and its CIO Dr Bear Guts has asked the Team-SIT742 team to analyse the weblogs files. Hence, Hotel TULIP would like you *Group-SIT742* (a hypothetical data analytics group with up to 3 data analysers) to analyse web log files and discover user accessing patterns of different web pages. \n",
    "\n",
    "In this part, you are required to use give dataset to finish some required analysis, with the exploreation data analytics skills as well as visuilization skill.\n",
    "\n",
    "\n",
    "You will be required to complete the coding to answer the questions with a neat and clean format, and you must keep outputs for code. Your commenting and adherence to code standards will also be considered when marking. Further information on Python standards, please visit https://www.python.org/dev/peps/pep-0008/ \n",
    "\n",
    "\n",
    "**Note**: You are not restricted to the partial code provided, and you can write your own code to implement the required tasks. But you should provide sufficient comments.\n"
   ]
  },
  {
   "cell_type": "markdown",
   "metadata": {
    "id": "gamCnd8GKEJ7"
   },
   "source": [
    "## 1.Data ETL"
   ]
  },
  {
   "cell_type": "markdown",
   "metadata": {
    "id": "z6Ro64a9KNWs"
   },
   "source": [
    "### 1.1 Load Data"
   ]
  },
  {
   "cell_type": "code",
   "execution_count": null,
   "metadata": {
    "colab": {
     "base_uri": "https://localhost:8080/"
    },
    "id": "37Nq2m64KP0N",
    "outputId": "d601aa2d-bbb1-4b48-c31f-ac32cb9ecfe2"
   },
   "outputs": [
    {
     "name": "stdout",
     "output_type": "stream",
     "text": [
      "Mounted at /content/drive\n"
     ]
    }
   ],
   "source": [
    "from google.colab import drive\n",
    "drive.mount('/content/drive')"
   ]
  },
  {
   "cell_type": "code",
   "execution_count": null,
   "metadata": {
    "colab": {
     "base_uri": "https://localhost:8080/",
     "height": 347
    },
    "id": "ImLQORwyFbje",
    "outputId": "01e3d6dd-1989-4be4-b040-47dae25aa936"
   },
   "outputs": [
    {
     "data": {
      "text/html": [
       "<div>\n",
       "<style scoped>\n",
       "    .dataframe tbody tr th:only-of-type {\n",
       "        vertical-align: middle;\n",
       "    }\n",
       "\n",
       "    .dataframe tbody tr th {\n",
       "        vertical-align: top;\n",
       "    }\n",
       "\n",
       "    .dataframe thead th {\n",
       "        text-align: right;\n",
       "    }\n",
       "</style>\n",
       "<table border=\"1\" class=\"dataframe\">\n",
       "  <thead>\n",
       "    <tr style=\"text-align: right;\">\n",
       "      <th></th>\n",
       "      <th>date</th>\n",
       "      <th>time</th>\n",
       "      <th>s_sitename</th>\n",
       "      <th>s_ip</th>\n",
       "      <th>cs_method</th>\n",
       "      <th>cs_uri_stem</th>\n",
       "      <th>cs_uri_query</th>\n",
       "      <th>s_port</th>\n",
       "      <th>cs_username</th>\n",
       "      <th>c_ip</th>\n",
       "      <th>cs(User_Agent)</th>\n",
       "      <th>cs(Referer)</th>\n",
       "      <th>sc_status</th>\n",
       "      <th>sc_substatus</th>\n",
       "      <th>sc_win32_status</th>\n",
       "    </tr>\n",
       "  </thead>\n",
       "  <tbody>\n",
       "    <tr>\n",
       "      <th>0</th>\n",
       "      <td>2006-11-01</td>\n",
       "      <td>00:00:08</td>\n",
       "      <td>W3SVC1</td>\n",
       "      <td>127.0.0.1</td>\n",
       "      <td>GET</td>\n",
       "      <td>/Default.aspx</td>\n",
       "      <td>-</td>\n",
       "      <td>80.0</td>\n",
       "      <td>-</td>\n",
       "      <td>70.80.84.76</td>\n",
       "      <td>Mozilla/4.0+(compatible;+MSIE+6.0;+Windows+NT+...</td>\n",
       "      <td>http://www.google.com/search?sourceid=navclien...</td>\n",
       "      <td>200.0</td>\n",
       "      <td>0.0</td>\n",
       "      <td>0.0</td>\n",
       "    </tr>\n",
       "    <tr>\n",
       "      <th>1</th>\n",
       "      <td>2006-11-01</td>\n",
       "      <td>00:00:08</td>\n",
       "      <td>W3SVC1</td>\n",
       "      <td>127.0.0.1</td>\n",
       "      <td>GET</td>\n",
       "      <td>/Tulip/home/en-us/home_index.aspx</td>\n",
       "      <td>-</td>\n",
       "      <td>80.0</td>\n",
       "      <td>-</td>\n",
       "      <td>70.80.84.76</td>\n",
       "      <td>Mozilla/4.0+(compatible;+MSIE+6.0;+Windows+NT+...</td>\n",
       "      <td>-</td>\n",
       "      <td>200.0</td>\n",
       "      <td>0.0</td>\n",
       "      <td>0.0</td>\n",
       "    </tr>\n",
       "    <tr>\n",
       "      <th>2</th>\n",
       "      <td>2006-11-01</td>\n",
       "      <td>00:00:08</td>\n",
       "      <td>W3SVC1</td>\n",
       "      <td>127.0.0.1</td>\n",
       "      <td>GET</td>\n",
       "      <td>/Tulip/includes/js/CommonUtil.js</td>\n",
       "      <td>-</td>\n",
       "      <td>80.0</td>\n",
       "      <td>-</td>\n",
       "      <td>70.80.84.76</td>\n",
       "      <td>Mozilla/4.0+(compatible;+MSIE+6.0;+Windows+NT+...</td>\n",
       "      <td>http://www.hotelTulip.com.hk/Tulip/home/en-us/...</td>\n",
       "      <td>200.0</td>\n",
       "      <td>0.0</td>\n",
       "      <td>0.0</td>\n",
       "    </tr>\n",
       "    <tr>\n",
       "      <th>3</th>\n",
       "      <td>2006-11-01</td>\n",
       "      <td>00:00:09</td>\n",
       "      <td>W3SVC1</td>\n",
       "      <td>127.0.0.1</td>\n",
       "      <td>GET</td>\n",
       "      <td>/Tulip/common/common_style.aspx</td>\n",
       "      <td>lang=en-us</td>\n",
       "      <td>80.0</td>\n",
       "      <td>-</td>\n",
       "      <td>70.80.84.76</td>\n",
       "      <td>Mozilla/4.0+(compatible;+MSIE+6.0;+Windows+NT+...</td>\n",
       "      <td>http://www.hotelTulip.com.hk/Tulip/home/en-us/...</td>\n",
       "      <td>200.0</td>\n",
       "      <td>0.0</td>\n",
       "      <td>0.0</td>\n",
       "    </tr>\n",
       "    <tr>\n",
       "      <th>4</th>\n",
       "      <td>2006-11-01</td>\n",
       "      <td>00:00:09</td>\n",
       "      <td>W3SVC1</td>\n",
       "      <td>127.0.0.1</td>\n",
       "      <td>GET</td>\n",
       "      <td>/Tulip/common/en-us/images/top_img.jpg</td>\n",
       "      <td>-</td>\n",
       "      <td>80.0</td>\n",
       "      <td>-</td>\n",
       "      <td>70.80.84.76</td>\n",
       "      <td>Mozilla/4.0+(compatible;+MSIE+6.0;+Windows+NT+...</td>\n",
       "      <td>http://www.hotelTulip.com.hk/Tulip/home/en-us/...</td>\n",
       "      <td>200.0</td>\n",
       "      <td>0.0</td>\n",
       "      <td>0.0</td>\n",
       "    </tr>\n",
       "    <tr>\n",
       "      <th>5</th>\n",
       "      <td>2006-11-01</td>\n",
       "      <td>00:00:09</td>\n",
       "      <td>W3SVC1</td>\n",
       "      <td>127.0.0.1</td>\n",
       "      <td>GET</td>\n",
       "      <td>/Tulip/common/en-us/images/top_logo.gif</td>\n",
       "      <td>-</td>\n",
       "      <td>80.0</td>\n",
       "      <td>-</td>\n",
       "      <td>70.80.84.76</td>\n",
       "      <td>Mozilla/4.0+(compatible;+MSIE+6.0;+Windows+NT+...</td>\n",
       "      <td>http://www.hotelTulip.com.hk/Tulip/home/en-us/...</td>\n",
       "      <td>200.0</td>\n",
       "      <td>0.0</td>\n",
       "      <td>0.0</td>\n",
       "    </tr>\n",
       "    <tr>\n",
       "      <th>6</th>\n",
       "      <td>2006-11-01</td>\n",
       "      <td>00:00:09</td>\n",
       "      <td>W3SVC1</td>\n",
       "      <td>127.0.0.1</td>\n",
       "      <td>GET</td>\n",
       "      <td>/Tulip/common/en-us/images/topmenu_reservation...</td>\n",
       "      <td>-</td>\n",
       "      <td>80.0</td>\n",
       "      <td>-</td>\n",
       "      <td>70.80.84.76</td>\n",
       "      <td>Mozilla/4.0+(compatible;+MSIE+6.0;+Windows+NT+...</td>\n",
       "      <td>http://www.hotelTulip.com.hk/Tulip/home/en-us/...</td>\n",
       "      <td>200.0</td>\n",
       "      <td>0.0</td>\n",
       "      <td>0.0</td>\n",
       "    </tr>\n",
       "    <tr>\n",
       "      <th>7</th>\n",
       "      <td>2006-11-01</td>\n",
       "      <td>00:00:09</td>\n",
       "      <td>W3SVC1</td>\n",
       "      <td>127.0.0.1</td>\n",
       "      <td>GET</td>\n",
       "      <td>/Tulip/common/en-us/images/topmenu_contactus.gif</td>\n",
       "      <td>-</td>\n",
       "      <td>80.0</td>\n",
       "      <td>-</td>\n",
       "      <td>70.80.84.76</td>\n",
       "      <td>Mozilla/4.0+(compatible;+MSIE+6.0;+Windows+NT+...</td>\n",
       "      <td>http://www.hotelTulip.com.hk/Tulip/home/en-us/...</td>\n",
       "      <td>200.0</td>\n",
       "      <td>0.0</td>\n",
       "      <td>0.0</td>\n",
       "    </tr>\n",
       "    <tr>\n",
       "      <th>8</th>\n",
       "      <td>2006-11-01</td>\n",
       "      <td>00:00:10</td>\n",
       "      <td>W3SVC1</td>\n",
       "      <td>127.0.0.1</td>\n",
       "      <td>GET</td>\n",
       "      <td>/Tulip/common/en-us/images/topmenu_ja.gif</td>\n",
       "      <td>-</td>\n",
       "      <td>80.0</td>\n",
       "      <td>-</td>\n",
       "      <td>70.80.84.76</td>\n",
       "      <td>Mozilla/4.0+(compatible;+MSIE+6.0;+Windows+NT+...</td>\n",
       "      <td>http://www.hotelTulip.com.hk/Tulip/home/en-us/...</td>\n",
       "      <td>200.0</td>\n",
       "      <td>0.0</td>\n",
       "      <td>0.0</td>\n",
       "    </tr>\n",
       "    <tr>\n",
       "      <th>9</th>\n",
       "      <td>2006-11-01</td>\n",
       "      <td>00:00:10</td>\n",
       "      <td>W3SVC1</td>\n",
       "      <td>127.0.0.1</td>\n",
       "      <td>GET</td>\n",
       "      <td>/Tulip/common/images/top_bar.jpg</td>\n",
       "      <td>-</td>\n",
       "      <td>80.0</td>\n",
       "      <td>-</td>\n",
       "      <td>70.80.84.76</td>\n",
       "      <td>Mozilla/4.0+(compatible;+MSIE+6.0;+Windows+NT+...</td>\n",
       "      <td>http://www.hotelTulip.com.hk/Tulip/home/en-us/...</td>\n",
       "      <td>200.0</td>\n",
       "      <td>0.0</td>\n",
       "      <td>0.0</td>\n",
       "    </tr>\n",
       "  </tbody>\n",
       "</table>\n",
       "</div>"
      ],
      "text/plain": [
       "         date      time s_sitename  ... sc_status sc_substatus sc_win32_status\n",
       "0  2006-11-01  00:00:08     W3SVC1  ...     200.0          0.0             0.0\n",
       "1  2006-11-01  00:00:08     W3SVC1  ...     200.0          0.0             0.0\n",
       "2  2006-11-01  00:00:08     W3SVC1  ...     200.0          0.0             0.0\n",
       "3  2006-11-01  00:00:09     W3SVC1  ...     200.0          0.0             0.0\n",
       "4  2006-11-01  00:00:09     W3SVC1  ...     200.0          0.0             0.0\n",
       "5  2006-11-01  00:00:09     W3SVC1  ...     200.0          0.0             0.0\n",
       "6  2006-11-01  00:00:09     W3SVC1  ...     200.0          0.0             0.0\n",
       "7  2006-11-01  00:00:09     W3SVC1  ...     200.0          0.0             0.0\n",
       "8  2006-11-01  00:00:10     W3SVC1  ...     200.0          0.0             0.0\n",
       "9  2006-11-01  00:00:10     W3SVC1  ...     200.0          0.0             0.0\n",
       "\n",
       "[10 rows x 15 columns]"
      ]
     },
     "execution_count": 4,
     "metadata": {
      "tags": []
     },
     "output_type": "execute_result"
    }
   ],
   "source": [
    "from ipywidgets import IntProgress\n",
    "import pandas as pd\n",
    "from IPython.display import display\n",
    "from zipfile import ZipFile\n",
    "from pathlib import Path\n",
    "\n",
    "\n",
    "# Your file might be in a different location, so you need to customize the path. If the files already exists athe loop passes\n",
    "\n",
    "##using Modern Data Science directory'''\n",
    "\n",
    "all_files = ZipFile('/content/drive/MyDrive/Modern Data Science/HTWebLog_p1.zip', 'r')\n",
    "files = all_files.namelist()\n",
    "#Define list to store data\n",
    "data = []\n",
    "##Extract the zipped log files to a directory\n",
    "import zipfile\n",
    "import os\n",
    "\n",
    "target_location = r'/content/drive/MyDrive/Modern Data Science/data science/data'\n",
    "target_zip = r'/content/drive/MyDrive/Modern Data Science/HTWebLog_p1.zip'\n",
    "\n",
    "with zipfile.ZipFile(target_zip) as zip_file:\n",
    "    for member in zip_file.namelist():\n",
    "        if os.path.exists(target_location + r'/' + member) or os.path.isfile(target_location + r'/' + member):\n",
    "            pass\n",
    "        else:\n",
    "            zip_file.extract(member, target_location)\n",
    "\n",
    "\n",
    "# Column names to be added later\n",
    "ColumnNames = ['date','time','s_sitename','s_ip','cs_method','cs_uri_stem','cs_uri_query','s_port','cs_username',\n",
    "             'c_ip','cs(User_Agent)','cs(Referer)','sc_status','sc_substatus','sc_win32_status']\n",
    "\n",
    "#Define data path\n",
    "folder = Path(\"/content/drive/MyDrive/Modern Data Science/data science/data\")\n",
    "#Import the data and join into a single dataframe\n",
    "df_ht = pd.concat([\n",
    "    pd.read_csv(files, header=None, delimiter= \" \", error_bad_lines=False, encoding='ISO-8859-1',warn_bad_lines=False, comment='#')\n",
    "    for files in folder.glob(\"*.log\")\n",
    "])\n",
    "\n",
    "##Include column names\n",
    "df_ht.columns = ColumnNames\n",
    "#Overview of the first 10 rows\n",
    "df_ht.head(10)"
   ]
  },
  {
   "cell_type": "markdown",
   "metadata": {
    "id": "SmbO0UE1KrvL"
   },
   "source": [
    "In order to reduce the processing time, we will remove all missing values for data and only select 30% of total data for classification. \n",
    "\n",
    "**Code**: \n",
    "    1. Remove all NAs, for the columns, if the column is with 15% NAs, you need to remove that column. Then, for the rows, if there are any NAs in that row, you need to remove that row (requests)  \n",
    "    2. select 30\\% of the total data in to a new dataframe weblog_df.\n",
    "    \n",
    "    *Keep the outputs for code in your notebook.\n",
    "\n",
    "**Report**:\n",
    "    The number of requests in weblog\\_df.\n"
   ]
  },
  {
   "cell_type": "code",
   "execution_count": null,
   "metadata": {
    "id": "YmQ-h7KZy4vR"
   },
   "outputs": [],
   "source": [
    "#Import seaborn and matplotlib for visualization\n",
    "import matplotlib.pyplot as plt\n",
    "import seaborn as sns"
   ]
  },
  {
   "cell_type": "code",
   "execution_count": null,
   "metadata": {
    "colab": {
     "base_uri": "https://localhost:8080/",
     "height": 352
    },
    "id": "ataOBOCryqvE",
    "outputId": "1c3993dc-4852-44c8-eb22-b003bdac4c04"
   },
   "outputs": [
    {
     "data": {
      "text/plain": [
       "<matplotlib.axes._subplots.AxesSubplot at 0x7fca07538690>"
      ]
     },
     "execution_count": 9,
     "metadata": {
      "tags": []
     },
     "output_type": "execute_result"
    },
    {
     "data": {
      "image/png": "[encoded data removed]",
      "text/plain": [
       "<Figure size 432x288 with 1 Axes>"
      ]
     },
     "metadata": {
      "tags": []
     },
     "output_type": "display_data"
    }
   ],
   "source": []
  },
  {
   "cell_type": "code",
   "execution_count": null,
   "metadata": {
    "colab": {
     "base_uri": "https://localhost:8080/",
     "height": 497
    },
    "id": "UYVa3vX1Altk",
    "outputId": "72990c21-d688-4a8d-ba39-66a1ec20a47b"
   },
   "outputs": [
    {
     "data": {
      "text/html": [
       "<div>\n",
       "<style scoped>\n",
       "    .dataframe tbody tr th:only-of-type {\n",
       "        vertical-align: middle;\n",
       "    }\n",
       "\n",
       "    .dataframe tbody tr th {\n",
       "        vertical-align: top;\n",
       "    }\n",
       "\n",
       "    .dataframe thead th {\n",
       "        text-align: right;\n",
       "    }\n",
       "</style>\n",
       "<table border=\"1\" class=\"dataframe\">\n",
       "  <thead>\n",
       "    <tr style=\"text-align: right;\">\n",
       "      <th></th>\n",
       "      <th>Attribute</th>\n",
       "      <th>Number of missing observations</th>\n",
       "      <th>% of missing</th>\n",
       "    </tr>\n",
       "  </thead>\n",
       "  <tbody>\n",
       "    <tr>\n",
       "      <th>0</th>\n",
       "      <td>date</td>\n",
       "      <td>2</td>\n",
       "      <td>0.000024</td>\n",
       "    </tr>\n",
       "    <tr>\n",
       "      <th>1</th>\n",
       "      <td>time</td>\n",
       "      <td>2</td>\n",
       "      <td>0.000024</td>\n",
       "    </tr>\n",
       "    <tr>\n",
       "      <th>2</th>\n",
       "      <td>s_sitename</td>\n",
       "      <td>2</td>\n",
       "      <td>0.000024</td>\n",
       "    </tr>\n",
       "    <tr>\n",
       "      <th>3</th>\n",
       "      <td>s_ip</td>\n",
       "      <td>2</td>\n",
       "      <td>0.000024</td>\n",
       "    </tr>\n",
       "    <tr>\n",
       "      <th>4</th>\n",
       "      <td>cs_method</td>\n",
       "      <td>2</td>\n",
       "      <td>0.000024</td>\n",
       "    </tr>\n",
       "    <tr>\n",
       "      <th>5</th>\n",
       "      <td>cs_uri_stem</td>\n",
       "      <td>2</td>\n",
       "      <td>0.000024</td>\n",
       "    </tr>\n",
       "    <tr>\n",
       "      <th>6</th>\n",
       "      <td>cs_uri_query</td>\n",
       "      <td>2</td>\n",
       "      <td>0.000024</td>\n",
       "    </tr>\n",
       "    <tr>\n",
       "      <th>7</th>\n",
       "      <td>s_port</td>\n",
       "      <td>2</td>\n",
       "      <td>0.000024</td>\n",
       "    </tr>\n",
       "    <tr>\n",
       "      <th>8</th>\n",
       "      <td>cs_username</td>\n",
       "      <td>2</td>\n",
       "      <td>0.000024</td>\n",
       "    </tr>\n",
       "    <tr>\n",
       "      <th>9</th>\n",
       "      <td>c_ip</td>\n",
       "      <td>2</td>\n",
       "      <td>0.000024</td>\n",
       "    </tr>\n",
       "    <tr>\n",
       "      <th>10</th>\n",
       "      <td>cs(User_Agent)</td>\n",
       "      <td>2</td>\n",
       "      <td>0.000024</td>\n",
       "    </tr>\n",
       "    <tr>\n",
       "      <th>11</th>\n",
       "      <td>cs(Referer)</td>\n",
       "      <td>751</td>\n",
       "      <td>0.009131</td>\n",
       "    </tr>\n",
       "    <tr>\n",
       "      <th>12</th>\n",
       "      <td>sc_status</td>\n",
       "      <td>758</td>\n",
       "      <td>0.009216</td>\n",
       "    </tr>\n",
       "    <tr>\n",
       "      <th>13</th>\n",
       "      <td>sc_substatus</td>\n",
       "      <td>758</td>\n",
       "      <td>0.009216</td>\n",
       "    </tr>\n",
       "    <tr>\n",
       "      <th>14</th>\n",
       "      <td>sc_win32_status</td>\n",
       "      <td>758</td>\n",
       "      <td>0.009216</td>\n",
       "    </tr>\n",
       "  </tbody>\n",
       "</table>\n",
       "</div>"
      ],
      "text/plain": [
       "          Attribute  Number of missing observations  % of missing\n",
       "0              date                               2      0.000024\n",
       "1              time                               2      0.000024\n",
       "2        s_sitename                               2      0.000024\n",
       "3              s_ip                               2      0.000024\n",
       "4         cs_method                               2      0.000024\n",
       "5       cs_uri_stem                               2      0.000024\n",
       "6      cs_uri_query                               2      0.000024\n",
       "7            s_port                               2      0.000024\n",
       "8       cs_username                               2      0.000024\n",
       "9              c_ip                               2      0.000024\n",
       "10   cs(User_Agent)                               2      0.000024\n",
       "11      cs(Referer)                             751      0.009131\n",
       "12        sc_status                             758      0.009216\n",
       "13     sc_substatus                             758      0.009216\n",
       "14  sc_win32_status                             758      0.009216"
      ]
     },
     "execution_count": 14,
     "metadata": {
      "tags": []
     },
     "output_type": "execute_result"
    }
   ],
   "source": [
    "#Your code to remove missing values as required.\n",
    "#Count the number of missing observations per column\n",
    "percent_missing = df_ht.isnull().sum() * 100 / len(df_ht)\n",
    "miss_df = pd.DataFrame({'Attribute': df_ht.columns,'Number of missing observations': df_ht.isnull().sum(),\n",
    "                                 '% of missing': percent_missing}, index = None)\n",
    "miss_df.sort_values('% of missing', inplace=True)\n",
    "miss_df = miss_df.reset_index()\n",
    "miss_df = miss_df.drop('index', axis = 1)\n",
    "miss_df"
   ]
  },
  {
   "cell_type": "code",
   "execution_count": null,
   "metadata": {
    "colab": {
     "base_uri": "https://localhost:8080/",
     "height": 334
    },
    "id": "kaHx_2CCz0LX",
    "outputId": "7dcece44-1dcc-474b-e970-4616f72bd876"
   },
   "outputs": [
    {
     "data": {
      "image/png": "[encoded data removed]",
      "text/plain": [
       "<Figure size 432x288 with 1 Axes>"
      ]
     },
     "metadata": {
      "tags": []
     },
     "output_type": "display_data"
    }
   ],
   "source": [
    "miss_df.plot.bar(x='Attribute', y='% of missing', rot=45)\n",
    "plt.grid()"
   ]
  },
  {
   "cell_type": "code",
   "execution_count": null,
   "metadata": {
    "id": "SVW9bM3rIYog"
   },
   "outputs": [],
   "source": [
    "#drop all missing observations and retain all the columns as no variable had more than 15% missing observations\n",
    "df_ht = df_ht.dropna()"
   ]
  },
  {
   "cell_type": "code",
   "execution_count": null,
   "metadata": {
    "colab": {
     "base_uri": "https://localhost:8080/"
    },
    "id": "_KzcKdcmKzMR",
    "outputId": "062897c3-d1e5-484d-bd6a-13329e03e407"
   },
   "outputs": [
    {
     "name": "stdout",
     "output_type": "stream",
     "text": [
      "TNumber of requests in weblog_df =  2467261\n"
     ]
    }
   ],
   "source": [
    "# select 30% of the data for further use\n",
    "weblog_df = df_ht.sample(frac = 0.3, random_state=1)\n",
    "\n",
    "#Your code to show the number of requests in weblog_df\n",
    "print(\"TNumber of requests in weblog_df = \", len(weblog_df))"
   ]
  },
  {
   "cell_type": "markdown",
   "metadata": {
    "id": "qaKs1Ic5Ln8F"
   },
   "source": [
    "### 1.2 Feature Selection\n",
    "\n",
    "**Code**: \n",
    "    You are required to select *'cs_method'*,*'c_ip'*,*'cs_uri_stem'*,*'cs(User_Agent)'* as input features  and 'sc_status' as class label into a new dataframe ml_df for following Machine Learning Tasks. \n",
    "\n",
    "*Keep the outputs for code in your notebook.\n",
    "\n",
    "**Report**:\n",
    "    1. Data Description of ml_df,  \n",
    "    2. Print top 5 rows of ml_df.\n",
    "\n"
   ]
  },
  {
   "cell_type": "code",
   "execution_count": null,
   "metadata": {
    "colab": {
     "base_uri": "https://localhost:8080/",
     "height": 286
    },
    "id": "begZOxggN2A8",
    "outputId": "2943fa2b-e63f-46f2-915c-6fb5d9a28bd3"
   },
   "outputs": [
    {
     "name": "stdout",
     "output_type": "stream",
     "text": [
      "\n",
      "\n",
      "Top 5 observations:\n",
      "\n",
      "\n"
     ]
    },
    {
     "data": {
      "text/html": [
       "<div>\n",
       "<style scoped>\n",
       "    .dataframe tbody tr th:only-of-type {\n",
       "        vertical-align: middle;\n",
       "    }\n",
       "\n",
       "    .dataframe tbody tr th {\n",
       "        vertical-align: top;\n",
       "    }\n",
       "\n",
       "    .dataframe thead th {\n",
       "        text-align: right;\n",
       "    }\n",
       "</style>\n",
       "<table border=\"1\" class=\"dataframe\">\n",
       "  <thead>\n",
       "    <tr style=\"text-align: right;\">\n",
       "      <th></th>\n",
       "      <th>cs_method</th>\n",
       "      <th>c_ip</th>\n",
       "      <th>cs_uri_stem</th>\n",
       "      <th>cs(User_Agent)</th>\n",
       "      <th>sc_status</th>\n",
       "    </tr>\n",
       "  </thead>\n",
       "  <tbody>\n",
       "    <tr>\n",
       "      <th>14999</th>\n",
       "      <td>GET</td>\n",
       "      <td>202.126.216.5</td>\n",
       "      <td>/Tulip/common/zh-hk/images/sidebanner_2.jpg</td>\n",
       "      <td>Mozilla/4.0+(compatible;+MSIE+6.0;+Windows+NT+...</td>\n",
       "      <td>200.0</td>\n",
       "    </tr>\n",
       "    <tr>\n",
       "      <th>14322</th>\n",
       "      <td>GET</td>\n",
       "      <td>218.103.20.6</td>\n",
       "      <td>/Tulip/common/zh-hk/images/sidebanner_1.jpg</td>\n",
       "      <td>Mozilla/4.0+(compatible;+MSIE+6.0;+Windows+NT+...</td>\n",
       "      <td>200.0</td>\n",
       "    </tr>\n",
       "    <tr>\n",
       "      <th>27231</th>\n",
       "      <td>GET</td>\n",
       "      <td>121.35.50.185</td>\n",
       "      <td>/Tulip/common/en-us/images/sidebanner_11.jpg</td>\n",
       "      <td>Mozilla/4.0+(compatible;+MSIE+6.0;+Windows+NT+...</td>\n",
       "      <td>304.0</td>\n",
       "    </tr>\n",
       "    <tr>\n",
       "      <th>15125</th>\n",
       "      <td>GET</td>\n",
       "      <td>219.78.68.194</td>\n",
       "      <td>/Tulip/common/common_style.aspx</td>\n",
       "      <td>Mozilla/4.0+(compatible;+MSIE+6.0;+Windows+NT+...</td>\n",
       "      <td>200.0</td>\n",
       "    </tr>\n",
       "    <tr>\n",
       "      <th>5991</th>\n",
       "      <td>GET</td>\n",
       "      <td>203.198.226.102</td>\n",
       "      <td>/promotion/FP00207_2.jpg</td>\n",
       "      <td>Mozilla/4.0+(compatible;+MSIE+6.0;+Windows+NT+...</td>\n",
       "      <td>200.0</td>\n",
       "    </tr>\n",
       "  </tbody>\n",
       "</table>\n",
       "</div>"
      ],
      "text/plain": [
       "      cs_method  ... sc_status\n",
       "14999       GET  ...     200.0\n",
       "14322       GET  ...     200.0\n",
       "27231       GET  ...     304.0\n",
       "15125       GET  ...     200.0\n",
       "5991        GET  ...     200.0\n",
       "\n",
       "[5 rows x 5 columns]"
      ]
     },
     "execution_count": 22,
     "metadata": {
      "tags": []
     },
     "output_type": "execute_result"
    }
   ],
   "source": [
    "# Your code for feature selection\n",
    "#Select the cs_method','c_ip','cs_uri_stem','cs(User_Agent)' as input features and 'sc_status' as class label features\n",
    "ml_df = weblog_df[['cs_method','c_ip','cs_uri_stem','cs(User_Agent)', 'sc_status']]\n",
    "\n",
    "#Your code to show the top 5 rows of ml_df\n",
    "print('\\n\\nTop 5 observations:\\n\\n')\n",
    "ml_df.head(5)"
   ]
  },
  {
   "cell_type": "markdown",
   "metadata": {
    "id": "1j3dndKNMgDO"
   },
   "source": [
    "## 2.Unsupervised Learning\n",
    " You are required to complete this part only using **sklearn**.\n",
    "\n",
    "\n",
    "**Code**: \n",
    "    1. Perform unsupervised learning on ml_df with K Means, with a varying K from 2 to 10;\n",
    "    2. Plot in the elbow plot. \n",
    "    \n",
    "    *Keep the outputs for code in your notebook.\n",
    "\n",
    "**Report**:\n",
    "    1. Figure 'KMeans' in the elbow plot, with a varying K from 2 to 10.\n",
    "\n"
   ]
  },
  {
   "cell_type": "code",
   "execution_count": null,
   "metadata": {
    "id": "o0m6R9R5N6Kq"
   },
   "outputs": [],
   "source": [
    "from sklearn import preprocessing\n",
    "from scipy.spatial.distance import cdist\n",
    "import numpy as np\n",
    "import matplotlib.pyplot as plt\n",
    "from sklearn.cluster import KMeans \n",
    "#label endocingencoding \n",
    "le_df = ml_df.apply(preprocessing.LabelEncoder().fit_transform)\n",
    "\n",
    "#Your code for Kmeans\n",
    "#Define a k means instance and train several models by varying k between 2 and 10. This might take a while ~10 mins\n",
    "# k means determine k\n",
    "wcss = []\n",
    "K = range(2,10)\n",
    "for k in K:\n",
    "    kmeanModel = KMeans(n_clusters=k).fit(le_df)\n",
    "    kmeanModel.fit(le_df)\n",
    "    wcss.append(kmeanModel.inertia_)\n",
    "\n"
   ]
  },
  {
   "cell_type": "code",
   "execution_count": null,
   "metadata": {
    "colab": {
     "base_uri": "https://localhost:8080/",
     "height": 404
    },
    "id": "nvukg5nOMniH",
    "outputId": "7f1e872e-9d5d-480d-d891-f952b522b763"
   },
   "outputs": [
    {
     "data": {
      "image/png": "[encoded data removed]",
      "text/plain": [
       "<Figure size 720x432 with 1 Axes>"
      ]
     },
     "metadata": {
      "tags": []
     },
     "output_type": "display_data"
    }
   ],
   "source": [
    "# Plot the elbow\n",
    "#Elbow plot\n",
    "plt.figure(figsize = (10,6))\n",
    "plt.plot(K, wcss, 'bx-', color = 'steelblue')\n",
    "plt.xlabel('k')\n",
    "plt.ylabel('WCSS')\n",
    "plt.title('The Elbow plot for K-Means Clustering')\n",
    "plt.grid()\n",
    "plt.show()"
   ]
  },
  {
   "cell_type": "markdown",
   "metadata": {
    "id": "dU6zSmu0OEHC"
   },
   "source": [
    "## 3.Supervised Learning\n",
    " You are required to complete this part only using **PySpark**.\n"
   ]
  },
  {
   "cell_type": "code",
   "execution_count": null,
   "metadata": {
    "colab": {
     "base_uri": "https://localhost:8080/"
    },
    "id": "fh8-pmiTQuza",
    "outputId": "9cb5ceeb-e1ab-4650-ee52-1c86cb258f04"
   },
   "outputs": [
    {
     "name": "stdout",
     "output_type": "stream",
     "text": [
      "Get:1 https://cloud.r-project.org/bin/linux/ubuntu bionic-cran40/ InRelease [3,626 B]\n",
      "Ign:2 https://developer.download.nvidia.com/compute/cuda/repos/ubuntu1804/x86_64  InRelease\n",
      "Ign:3 https://developer.download.nvidia.com/compute/machine-learning/repos/ubuntu1804/x86_64  InRelease\n",
      "Get:4 https://developer.download.nvidia.com/compute/cuda/repos/ubuntu1804/x86_64  Release [697 B]\n",
      "Hit:5 https://developer.download.nvidia.com/compute/machine-learning/repos/ubuntu1804/x86_64  Release\n",
      "Get:6 https://developer.download.nvidia.com/compute/cuda/repos/ubuntu1804/x86_64  Release.gpg [836 B]\n",
      "Get:7 http://ppa.launchpad.net/c2d4u.team/c2d4u4.0+/ubuntu bionic InRelease [15.9 kB]\n",
      "Get:8 http://security.ubuntu.com/ubuntu bionic-security InRelease [88.7 kB]\n",
      "Hit:9 http://archive.ubuntu.com/ubuntu bionic InRelease\n",
      "Get:10 https://cloud.r-project.org/bin/linux/ubuntu bionic-cran40/ Packages [60.9 kB]\n",
      "Get:11 http://archive.ubuntu.com/ubuntu bionic-updates InRelease [88.7 kB]\n",
      "Hit:13 http://ppa.launchpad.net/cran/libgit2/ubuntu bionic InRelease\n",
      "Ign:14 https://developer.download.nvidia.com/compute/cuda/repos/ubuntu1804/x86_64  Packages\n",
      "Get:14 https://developer.download.nvidia.com/compute/cuda/repos/ubuntu1804/x86_64  Packages [798 kB]\n",
      "Get:15 http://ppa.launchpad.net/deadsnakes/ppa/ubuntu bionic InRelease [15.9 kB]\n",
      "Get:16 http://archive.ubuntu.com/ubuntu bionic-backports InRelease [74.6 kB]\n",
      "Get:17 http://ppa.launchpad.net/graphics-drivers/ppa/ubuntu bionic InRelease [21.3 kB]\n",
      "Get:18 http://security.ubuntu.com/ubuntu bionic-security/main amd64 Packages [2,154 kB]\n",
      "Get:19 http://ppa.launchpad.net/c2d4u.team/c2d4u4.0+/ubuntu bionic/main Sources [1,770 kB]\n",
      "Get:20 http://security.ubuntu.com/ubuntu bionic-security/universe amd64 Packages [1,414 kB]\n",
      "Get:21 http://security.ubuntu.com/ubuntu bionic-security/restricted amd64 Packages [423 kB]\n",
      "Get:22 http://archive.ubuntu.com/ubuntu bionic-updates/main amd64 Packages [2,586 kB]\n",
      "Get:23 http://archive.ubuntu.com/ubuntu bionic-updates/universe amd64 Packages [2,184 kB]\n",
      "Get:24 http://archive.ubuntu.com/ubuntu bionic-updates/restricted amd64 Packages [452 kB]\n",
      "Get:25 http://ppa.launchpad.net/c2d4u.team/c2d4u4.0+/ubuntu bionic/main amd64 Packages [906 kB]\n",
      "Get:26 http://ppa.launchpad.net/deadsnakes/ppa/ubuntu bionic/main amd64 Packages [41.4 kB]\n",
      "Get:27 http://ppa.launchpad.net/graphics-drivers/ppa/ubuntu bionic/main amd64 Packages [41.5 kB]\n",
      "Fetched 13.1 MB in 5s (2,723 kB/s)\n",
      "Reading package lists... Done\n",
      "Building dependency tree       \n",
      "Reading state information... Done\n",
      "97 packages can be upgraded. Run 'apt list --upgradable' to see them.\n"
     ]
    }
   ],
   "source": [
    "#Update local version of the package catalog t enable installation of related packages.\n",
    "!apt update\n",
    "# install Java8\n",
    "!apt-get install openjdk-8-jdk-headless -qq > /dev/null\n",
    "# download spark 3.1.1\n",
    "!wget -q http://apache.osuosl.org/spark/spark-3.1.1/spark-3.1.1-bin-hadoop3.2.tgz\n",
    "# unzip it\n",
    "!tar xf spark-3.1.1-bin-hadoop3.2.tgz\n",
    "# install findspark \n",
    "!pip install -q findspark\n",
    "\n",
    "import os\n",
    "os.environ[\"JAVA_HOME\"] = \"/usr/lib/jvm/java-8-openjdk-amd64\"\n",
    "os.environ[\"SPARK_HOME\"] = \"/content/spark-3.1.1-bin-hadoop3.2\"\n",
    "\n",
    "import findspark \n",
    "findspark.init() "
   ]
  },
  {
   "cell_type": "code",
   "execution_count": null,
   "metadata": {
    "id": "HRzcbPF4Pskq"
   },
   "outputs": [],
   "source": [
    "from pyspark.sql import SparkSession \n",
    "from pyspark.sql.types import *\n",
    "#Create spark instance\n",
    "spark = SparkSession.builder.appName('Modern data science-App').getOrCreate()"
   ]
  },
  {
   "cell_type": "markdown",
   "metadata": {
    "id": "RncKyIESOMnJ"
   },
   "source": [
    "### 3.1 Data Preparation \n",
    "\n",
    "In order to reduce the processing time, we will select 10% of le_df."
   ]
  },
  {
   "cell_type": "code",
   "execution_count": null,
   "metadata": {
    "id": "DE23Ll_fOS5J"
   },
   "outputs": [],
   "source": [
    "schema = StructType([StructField(\"sc_status\", IntegerType(), True),\n",
    "                     StructField(\"cs_method\", IntegerType(), True),\n",
    "                     StructField(\"c_ip\", IntegerType(), True),\n",
    "                     StructField(\"cs_uri_stem\", IntegerType(), True),\n",
    "                     StructField(\"cs(User_Agent)\", IntegerType(), True)])\n",
    "\n",
    "sl_df = spark.createDataFrame(le_df, schema)"
   ]
  },
  {
   "cell_type": "code",
   "execution_count": null,
   "metadata": {
    "id": "dJdQe_8tPvlF"
   },
   "outputs": [],
   "source": [
    "#Only 10% of the data is used in this part.\n",
    "sl_df = sl_df.sample(fraction=0.1, seed=1)"
   ]
  },
  {
   "cell_type": "code",
   "execution_count": null,
   "metadata": {
    "colab": {
     "base_uri": "https://localhost:8080/"
    },
    "id": "Ut3zjBOyU2FU",
    "outputId": "15336ef9-1b9c-4a33-d291-482755230c8d"
   },
   "outputs": [
    {
     "name": "stdout",
     "output_type": "stream",
     "text": [
      "+---------+---------+----+-----------+--------------+--------------------+\n",
      "|sc_status|cs_method|c_ip|cs_uri_stem|cs(User_Agent)|            features|\n",
      "+---------+---------+----+-----------+--------------+--------------------+\n",
      "|        0|    41957|1298|       1382|             0|[41957.0,1298.0,1...|\n",
      "|        0|    20918|1873|       1525|             4|[20918.0,1873.0,1...|\n",
      "|        0|    56286|1567|       1525|             4|[56286.0,1567.0,1...|\n",
      "+---------+---------+----+-----------+--------------+--------------------+\n",
      "only showing top 3 rows\n",
      "\n"
     ]
    }
   ],
   "source": [
    "from pyspark.ml.linalg import Vectors\n",
    "from pyspark.ml.feature import VectorAssembler\n",
    "# Data transformer tranasformation\n",
    "vector_assembler = VectorAssembler(inputCols=['cs_method', 'c_ip', 'cs_uri_stem', 'cs(User_Agent)'],outputCol=\"features\")\n",
    "df_temp = vector_assembler.transform(sl_df)\n",
    "df_temp.show(3)"
   ]
  },
  {
   "cell_type": "code",
   "execution_count": null,
   "metadata": {
    "colab": {
     "base_uri": "https://localhost:8080/"
    },
    "id": "JBoKE5tYVdXj",
    "outputId": "faea0c97-8414-47d8-cc04-12515439df18"
   },
   "outputs": [
    {
     "name": "stdout",
     "output_type": "stream",
     "text": [
      "+---------+--------------------+\n",
      "|sc_status|            features|\n",
      "+---------+--------------------+\n",
      "|        0|[41957.0,1298.0,1...|\n",
      "|        0|[20918.0,1873.0,1...|\n",
      "|        0|[56286.0,1567.0,1...|\n",
      "+---------+--------------------+\n",
      "only showing top 3 rows\n",
      "\n"
     ]
    }
   ],
   "source": [
    "#Select the necessary attributes and output the top 3 rows of the resulting data\n",
    "df_sl = df_temp.drop('cs_method', 'c_ip', 'cs_uri_stem', 'cs(User_Agent)')\n",
    "df_sl.show(3)"
   ]
  },
  {
   "cell_type": "markdown",
   "metadata": {
    "id": "12YtMZE0OTOR"
   },
   "source": [
    "###  3.2 Decision Tree or Logistic Regression\n",
    "\n",
    " <div class=\"alert alert-block alert-info\">\n",
    "\n",
    "**Code**: \n",
    "    1. Perform supervised learning on ml\\_df with Decision Tree or Logistic Regression,  <br>\n",
    "    2. Evaluate the classification result using [confusion matrix ](https://en.wikipedia.org/wiki/Confusion_matrix) including TP, TN, FP, FN, <br>\n",
    "    3. Evaluate the classification result using Precision, Recall and F1 score.\n",
    "    <br>\n",
    "    *Keep the outputs for code in your notebook.\n",
    "\n",
    "**Report**:\n",
    "    1. Display the classification result using [confusion matrix ](https://en.wikipedia.org/wiki/Confusion_matrix) including TP, TN, FP, FN, <br>\n",
    "    2. Display the classification result using Precision, Recall and F1 score.\n",
    "</div>"
   ]
  },
  {
   "cell_type": "code",
   "execution_count": null,
   "metadata": {
    "id": "M_XZqsSAOr4a"
   },
   "outputs": [],
   "source": [
    "#Create the data sets for training and testing\n",
    "(trainingData, testData) = df_sl.randomSplit([0.7, 0.3])"
   ]
  },
  {
   "cell_type": "code",
   "execution_count": null,
   "metadata": {
    "id": "19Ri7rpuOxk6"
   },
   "outputs": [],
   "source": [
    "from pyspark.ml.classification import LogisticRegression\n",
    "from pyspark.ml.classification import DecisionTreeClassifier\n",
    "from pyspark.ml.evaluation import MulticlassClassificationEvaluator\n",
    "# Your code contains trainning from train data and predicting based on the test data"
   ]
  },
  {
   "cell_type": "markdown",
   "metadata": {
    "id": "C23p_c0L4S4b"
   },
   "source": [
    "### Decision Tree"
   ]
  },
  {
   "cell_type": "code",
   "execution_count": null,
   "metadata": {
    "id": "nTQD6h8MX8m7"
   },
   "outputs": [],
   "source": [
    "#Create categorical numeric attributes\n",
    "pd.options.mode.chained_assignment = None \n",
    "from sklearn import preprocessing\n",
    "le = preprocessing.LabelEncoder()\n",
    "le.fit(ml_df[\"sc_status\"])\n",
    "ml_df[\"sc_status\"] = list(le.transform(ml_df[\"sc_status\"]))\n",
    "\n",
    "\n",
    "le.fit(ml_df[\"c_ip\"])\n",
    "ml_df[\"c_ip\"] = list(le.transform(ml_df[\"c_ip\"]))\n",
    "\n",
    "\n",
    "le.fit(ml_df[\"cs_uri_stem\"])\n",
    "ml_df[\"cs_uri_stem\"] = le.transform(ml_df[\"cs_uri_stem\"])\n",
    "\n",
    "\n",
    "le.fit(ml_df[\"cs(User_Agent)\"])\n",
    "ml_df[\"cs(User_Agent)\"] = le.transform(ml_df[\"cs(User_Agent)\"])\n",
    "\n",
    "le.fit(ml_df[\"cs_method\"])\n",
    "ml_df[\"cs_method\"] = le.transform(ml_df[\"cs_method\"])\n",
    "\n",
    "#Create predictor and target features\n",
    "X = ml_df.drop('sc_status', axis = 1)\n",
    "y = ml_df['sc_status']\n"
   ]
  },
  {
   "cell_type": "code",
   "execution_count": null,
   "metadata": {
    "colab": {
     "base_uri": "https://localhost:8080/",
     "height": 478
    },
    "id": "uyoUScl0h-fp",
    "outputId": "ef332509-6eaa-4a62-bf40-f3f85b8f6475"
   },
   "outputs": [
    {
     "name": "stdout",
     "output_type": "stream",
     "text": [
      "\n",
      "\n",
      "Confusion Matrix:\n",
      "\n"
     ]
    },
    {
     "data": {
      "text/html": [
       "<div>\n",
       "<style scoped>\n",
       "    .dataframe tbody tr th:only-of-type {\n",
       "        vertical-align: middle;\n",
       "    }\n",
       "\n",
       "    .dataframe tbody tr th {\n",
       "        vertical-align: top;\n",
       "    }\n",
       "\n",
       "    .dataframe thead th {\n",
       "        text-align: right;\n",
       "    }\n",
       "</style>\n",
       "<table border=\"1\" class=\"dataframe\">\n",
       "  <thead>\n",
       "    <tr style=\"text-align: right;\">\n",
       "      <th></th>\n",
       "      <th>tn</th>\n",
       "      <th>tp</th>\n",
       "      <th>fn</th>\n",
       "      <th>fp</th>\n",
       "    </tr>\n",
       "    <tr>\n",
       "      <th>class</th>\n",
       "      <th></th>\n",
       "      <th></th>\n",
       "      <th></th>\n",
       "      <th></th>\n",
       "    </tr>\n",
       "  </thead>\n",
       "  <tbody>\n",
       "    <tr>\n",
       "      <th>0</th>\n",
       "      <td>98877</td>\n",
       "      <td>368374</td>\n",
       "      <td>75083</td>\n",
       "      <td>74482</td>\n",
       "    </tr>\n",
       "    <tr>\n",
       "      <th>4</th>\n",
       "      <td>387083</td>\n",
       "      <td>84237</td>\n",
       "      <td>72455</td>\n",
       "      <td>73041</td>\n",
       "    </tr>\n",
       "    <tr>\n",
       "      <th>7</th>\n",
       "      <td>606212</td>\n",
       "      <td>10499</td>\n",
       "      <td>71</td>\n",
       "      <td>34</td>\n",
       "    </tr>\n",
       "    <tr>\n",
       "      <th>1</th>\n",
       "      <td>609190</td>\n",
       "      <td>2999</td>\n",
       "      <td>2263</td>\n",
       "      <td>2364</td>\n",
       "    </tr>\n",
       "    <tr>\n",
       "      <th>3</th>\n",
       "      <td>616199</td>\n",
       "      <td>463</td>\n",
       "      <td>91</td>\n",
       "      <td>63</td>\n",
       "    </tr>\n",
       "    <tr>\n",
       "      <th>9</th>\n",
       "      <td>616627</td>\n",
       "      <td>117</td>\n",
       "      <td>43</td>\n",
       "      <td>29</td>\n",
       "    </tr>\n",
       "    <tr>\n",
       "      <th>2</th>\n",
       "      <td>616771</td>\n",
       "      <td>30</td>\n",
       "      <td>9</td>\n",
       "      <td>6</td>\n",
       "    </tr>\n",
       "    <tr>\n",
       "      <th>5</th>\n",
       "      <td>616789</td>\n",
       "      <td>6</td>\n",
       "      <td>10</td>\n",
       "      <td>11</td>\n",
       "    </tr>\n",
       "    <tr>\n",
       "      <th>6</th>\n",
       "      <td>616752</td>\n",
       "      <td>40</td>\n",
       "      <td>14</td>\n",
       "      <td>10</td>\n",
       "    </tr>\n",
       "    <tr>\n",
       "      <th>10</th>\n",
       "      <td>616806</td>\n",
       "      <td>9</td>\n",
       "      <td>1</td>\n",
       "      <td>0</td>\n",
       "    </tr>\n",
       "    <tr>\n",
       "      <th>8</th>\n",
       "      <td>616814</td>\n",
       "      <td>2</td>\n",
       "      <td>0</td>\n",
       "      <td>0</td>\n",
       "    </tr>\n",
       "  </tbody>\n",
       "</table>\n",
       "</div>"
      ],
      "text/plain": [
       "           tn      tp     fn     fp\n",
       "class                              \n",
       "0       98877  368374  75083  74482\n",
       "4      387083   84237  72455  73041\n",
       "7      606212   10499     71     34\n",
       "1      609190    2999   2263   2364\n",
       "3      616199     463     91     63\n",
       "9      616627     117     43     29\n",
       "2      616771      30      9      6\n",
       "5      616789       6     10     11\n",
       "6      616752      40     14     10\n",
       "10     616806       9      1      0\n",
       "8      616814       2      0      0"
      ]
     },
     "execution_count": 36,
     "metadata": {
      "tags": []
     },
     "output_type": "execute_result"
    }
   ],
   "source": [
    "#Train the model\n",
    "from sklearn.metrics import multilabel_confusion_matrix\n",
    "from sklearn.metrics import accuracy_score\n",
    "from sklearn.metrics import classification_report\n",
    "\n",
    "#Split data to train and test\n",
    "from sklearn.model_selection import train_test_split\n",
    "X_train,X_test,y_train,y_test = train_test_split(X,y,test_size=0.25, random_state=216)\n",
    "#Decision tree fitting\n",
    "from sklearn import tree\n",
    "clf = tree.DecisionTreeClassifier(random_state=216).fit(X_train, y_train)\n",
    "\n",
    "#Evaluate the model performance using the test data\n",
    "labels = y_test.unique()\n",
    "predicted = clf.predict(X_test)\n",
    "mcm = multilabel_confusion_matrix(y_test, predicted, labels=labels)\n",
    "cm_pd = pd.DataFrame({'tn': mcm[:,0,0],'tp': mcm[:, 1, 1], 'fn': mcm[:, 1, 0],'fp': mcm[:, 0, 1]},index=labels)\n",
    "print('\\n\\nConfusion Matrix:\\n')\n",
    "cm_pd.index.names = ['class']\n",
    "cm_pd"
   ]
  },
  {
   "cell_type": "code",
   "execution_count": 46,
   "metadata": {
    "colab": {
     "base_uri": "https://localhost:8080/"
    },
    "id": "1Io34Nc9kmmW",
    "outputId": "1acb822e-54cf-4446-bdfe-e11213d89b58"
   },
   "outputs": [
    {
     "name": "stdout",
     "output_type": "stream",
     "text": [
      "====================Classification report====================\n",
      "               precision    recall  f1-score   support\n",
      "\n",
      "           0       0.83      0.83      0.83    443457\n",
      "           1       0.56      0.57      0.56      5262\n",
      "           2       0.83      0.77      0.80        39\n",
      "           3       0.88      0.84      0.86       554\n",
      "           4       0.54      0.54      0.54    156692\n",
      "           5       0.35      0.38      0.36        16\n",
      "           6       0.80      0.74      0.77        54\n",
      "           7       1.00      0.99      1.00     10570\n",
      "           8       1.00      1.00      1.00         2\n",
      "           9       0.80      0.73      0.76       160\n",
      "          10       1.00      0.90      0.95        10\n",
      "\n",
      "    accuracy                           0.76    616816\n",
      "   macro avg       0.78      0.75      0.77    616816\n",
      "weighted avg       0.76      0.76      0.76    616816\n",
      "\n"
     ]
    }
   ],
   "source": [
    "print('====================Classification report====================\\n',classification_report(y_test, predicted, zero_division = 1))"
   ]
  },
  {
   "cell_type": "markdown",
   "metadata": {
    "id": "vt5iA23HO5uC"
   },
   "source": [
    "### 3.3 K-fold Cross-Validation\n",
    "You are required to use K-fold cross validation to find out the best hyper-parameter set, where K = 2.\n",
    "<div class=\"alert alert-block alert-info\">\n",
    "\n",
    "**Code**: \n",
    "Implement 2-fold cross validation for three (any three) classification models, where K = 2.\n",
    "    <br>\n",
    "    *Keep the outputs for code in your notebook.\n",
    "\n",
    "**Report**:\n",
    "    1.  Your code design and running results, <br>\n",
    "\t\t2.  Your findings on hyper-parameters based on this cross-validation  results (Best results).\n",
    "</div>"
   ]
  },
  {
   "cell_type": "code",
   "execution_count": 47,
   "metadata": {
    "id": "jgJtFjqKPEFD"
   },
   "outputs": [],
   "source": [
    "from pyspark.ml import Pipeline\n",
    "from pyspark.ml.classification import RandomForestClassifier\n",
    "from pyspark.ml.evaluation import MulticlassClassificationEvaluator\n",
    "from pyspark.ml.tuning import ParamGridBuilder, CrossValidator\n",
    "\n",
    "# K = 2\n",
    "# Your code for 2-fold cross validation\n",
    "#Create the data sets for training and testing\n",
    "(trainingData, testData) = df_sl.randomSplit([0.7, 0.3])\n",
    "#Rename the target attribute\n",
    "training =  trainingData.withColumnRenamed('sc_status', 'label')\n",
    "testing = testData.withColumnRenamed('sc_status', 'label')"
   ]
  },
  {
   "cell_type": "code",
   "execution_count": 48,
   "metadata": {
    "id": "9l38dOm5myQx"
   },
   "outputs": [],
   "source": [
    "from pyspark.ml.classification import DecisionTreeClassifier\n",
    "#Evaluation\n",
    "#Cross validation\n",
    "from pyspark.ml.tuning import ParamGridBuilder, CrossValidator\n",
    "from pyspark.mllib.evaluation import  MulticlassMetrics\n",
    "# Create initial Decision Tree Model\n",
    "dt = DecisionTreeClassifier(labelCol=\"label\", featuresCol=\"features\", maxDepth=3)\n",
    "\n",
    "#ParamGrid for Cross Validation\n",
    "from pyspark.ml.tuning import ParamGridBuilder, CrossValidator\n",
    "dtparamGrid = (ParamGridBuilder()\n",
    "             .addGrid(dt.maxDepth, [2, 5, 10, 20])\n",
    "             .addGrid(dt.maxBins, [10, 20, 30, 40, 50])\n",
    "             .build())\n",
    "\n",
    "#2-fold CrossValidator\n",
    "evaluator = MulticlassClassificationEvaluator()\n",
    "cv = CrossValidator(estimator=dt, estimatorParamMaps=dtparamGrid, evaluator=evaluator, numFolds=2)\n",
    "\n",
    "# Run on the trani data\n",
    "cvModel = cv.fit(training)"
   ]
  },
  {
   "cell_type": "code",
   "execution_count": 49,
   "metadata": {
    "colab": {
     "base_uri": "https://localhost:8080/"
    },
    "id": "HhY6yZnInTwH",
    "outputId": "cfdc2ffd-032b-49fe-d7fc-6e6870b9453d"
   },
   "outputs": [
    {
     "name": "stdout",
     "output_type": "stream",
     "text": [
      "Accuracy: 0.9989395354312777\n"
     ]
    }
   ],
   "source": [
    "# generate predictions on the test data\n",
    "dtpredictions = cvModel.transform(testing)\n",
    "#Best model performance\n",
    "print('Accuracy:', evaluator.evaluate(dtpredictions))"
   ]
  },
  {
   "cell_type": "code",
   "execution_count": 50,
   "metadata": {
    "id": "OxlrFBLuqKyi"
   },
   "outputs": [],
   "source": [
    "# Make predictions\n",
    "predictionAndTarget = cvModel.transform(testing).select(\"label\", \"prediction\")\n",
    "metrics_multi = MulticlassMetrics(predictionAndTarget.rdd.map(tuple))"
   ]
  },
  {
   "cell_type": "code",
   "execution_count": 51,
   "metadata": {
    "colab": {
     "base_uri": "https://localhost:8080/"
    },
    "id": "LEa8VV7QrJEs",
    "outputId": "0c11bd5e-8108-429e-d66d-bc6ab720b080"
   },
   "outputs": [
    {
     "name": "stdout",
     "output_type": "stream",
     "text": [
      "Optimal parameters DecisionTreeClassificationModel: uid=DecisionTreeClassifier_1dbfb66cc662, depth=10, numNodes=105, numClasses=5, numFeatures=4\n"
     ]
    }
   ],
   "source": [
    "#Output the parameters used for the best model\n",
    "print('Optimal parameters', cvModel.bestModel) "
   ]
  },
  {
   "cell_type": "code",
   "execution_count": 70,
   "metadata": {
    "colab": {
     "base_uri": "https://localhost:8080/",
     "height": 328
    },
    "id": "UmsXSm2np_uL",
    "outputId": "bd5ad0c9-7734-423d-98cc-5c21cf908120"
   },
   "outputs": [
    {
     "name": "stdout",
     "output_type": "stream",
     "text": [
      "\n",
      "\n",
      "Confusion Matrix:\n",
      "\n"
     ]
    },
    {
     "data": {
      "text/html": [
       "<div>\n",
       "<style scoped>\n",
       "    .dataframe tbody tr th:only-of-type {\n",
       "        vertical-align: middle;\n",
       "    }\n",
       "\n",
       "    .dataframe tbody tr th {\n",
       "        vertical-align: top;\n",
       "    }\n",
       "\n",
       "    .dataframe thead th {\n",
       "        text-align: right;\n",
       "    }\n",
       "</style>\n",
       "<table border=\"1\" class=\"dataframe\">\n",
       "  <thead>\n",
       "    <tr style=\"text-align: right;\">\n",
       "      <th></th>\n",
       "      <th>tn</th>\n",
       "      <th>tp</th>\n",
       "      <th>fn</th>\n",
       "      <th>fp</th>\n",
       "    </tr>\n",
       "    <tr>\n",
       "      <th>class</th>\n",
       "      <th></th>\n",
       "      <th></th>\n",
       "      <th></th>\n",
       "      <th></th>\n",
       "    </tr>\n",
       "  </thead>\n",
       "  <tbody>\n",
       "    <tr>\n",
       "      <th>0</th>\n",
       "      <td>51</td>\n",
       "      <td>73623</td>\n",
       "      <td>1</td>\n",
       "      <td>93</td>\n",
       "    </tr>\n",
       "    <tr>\n",
       "      <th>1</th>\n",
       "      <td>73704</td>\n",
       "      <td>0</td>\n",
       "      <td>64</td>\n",
       "      <td>0</td>\n",
       "    </tr>\n",
       "    <tr>\n",
       "      <th>2</th>\n",
       "      <td>73760</td>\n",
       "      <td>0</td>\n",
       "      <td>8</td>\n",
       "      <td>0</td>\n",
       "    </tr>\n",
       "    <tr>\n",
       "      <th>3</th>\n",
       "      <td>73697</td>\n",
       "      <td>50</td>\n",
       "      <td>20</td>\n",
       "      <td>1</td>\n",
       "    </tr>\n",
       "    <tr>\n",
       "      <th>5</th>\n",
       "      <td>73767</td>\n",
       "      <td>0</td>\n",
       "      <td>1</td>\n",
       "      <td>0</td>\n",
       "    </tr>\n",
       "    <tr>\n",
       "      <th>4</th>\n",
       "      <td>73767</td>\n",
       "      <td>1</td>\n",
       "      <td>0</td>\n",
       "      <td>0</td>\n",
       "    </tr>\n",
       "  </tbody>\n",
       "</table>\n",
       "</div>"
      ],
      "text/plain": [
       "          tn     tp  fn  fp\n",
       "class                      \n",
       "0         51  73623   1  93\n",
       "1      73704      0  64   0\n",
       "2      73760      0   8   0\n",
       "3      73697     50  20   1\n",
       "5      73767      0   1   0\n",
       "4      73767      1   0   0"
      ]
     },
     "execution_count": 70,
     "metadata": {
      "tags": []
     },
     "output_type": "execute_result"
    }
   ],
   "source": [
    "#Create pandas dataframe for evaluation since   \n",
    "predictions1 = predictionAndTarget.toPandas()\n",
    "from sklearn.metrics import classification_report\n",
    "#Test the model using the test data\n",
    "labels = predictions1.label.unique()\n",
    "mcm = multilabel_confusion_matrix(predictions1.label, predictions1.prediction, labels=labels)\n",
    "cm_pd = pd.DataFrame({'tn': mcm[:,0,0],'tp': mcm[:, 1, 1], 'fn': mcm[:, 1, 0],'fp': mcm[:, 0, 1]},index=labels)\n",
    "print('\\n\\nConfusion Matrix:\\n')\n",
    "cm_pd.index.names = ['class']\n",
    "cm_pd"
   ]
  },
  {
   "cell_type": "code",
   "execution_count": 73,
   "metadata": {
    "colab": {
     "base_uri": "https://localhost:8080/"
    },
    "id": "bDuwNxGIrl7U",
    "outputId": "b56d63b1-c4a4-484a-88ec-92c92c384366"
   },
   "outputs": [
    {
     "name": "stdout",
     "output_type": "stream",
     "text": [
      "====================Classification report====================\n",
      "               precision    recall  f1-score   support\n",
      "\n",
      "           0       1.00      1.00      1.00     73624\n",
      "           1       1.00      0.00      0.00        64\n",
      "           2       1.00      0.00      0.00         8\n",
      "           3       0.98      0.71      0.83        70\n",
      "           4       1.00      1.00      1.00         1\n",
      "           5       1.00      0.00      0.00         1\n",
      "\n",
      "    accuracy                           1.00     73768\n",
      "   macro avg       1.00      0.45      0.47     73768\n",
      "weighted avg       1.00      1.00      1.00     73768\n",
      "\n"
     ]
    }
   ],
   "source": [
    "#Output the Classification report\n",
    "print('====================Classification report====================\\n',classification_report(predictions1.label, predictions1.prediction, zero_division = 1))"
   ]
  },
  {
   "cell_type": "markdown",
   "metadata": {
    "id": "UxSpHE93sFT8"
   },
   "source": [
    "### Logistic Regression"
   ]
  },
  {
   "cell_type": "code",
   "execution_count": 54,
   "metadata": {
    "id": "l1Z1a2PgsEXA"
   },
   "outputs": [],
   "source": [
    "# init log regression object \n",
    "lr = LogisticRegression(featuresCol='features', labelCol='label', maxIter=100) "
   ]
  },
  {
   "cell_type": "code",
   "execution_count": 56,
   "metadata": {
    "id": "c8UZgwYAsab_"
   },
   "outputs": [],
   "source": [
    "##Logistic Regression\n",
    "paramGrid = (ParamGridBuilder()\n",
    ".addGrid(lr.regParam, [0.1, 0.3]) # regularization parameter\n",
    ".addGrid(lr.elasticNetParam, [0.0]) # Elastic Net Parameter (Ridge = 0)\n",
    ".build())\n",
    "from pyspark.ml.tuning import CrossValidator\n",
    "# create cross validation object\n",
    "crossval = CrossValidator(estimator=lr,\n",
    "estimatorParamMaps=paramGrid,\n",
    "evaluator=evaluator,\n",
    "numFolds=5)\n",
    "cvModel = crossval.fit(training)"
   ]
  },
  {
   "cell_type": "code",
   "execution_count": 57,
   "metadata": {
    "id": "Y2gkwrWNsamw"
   },
   "outputs": [],
   "source": [
    "# make predictions on test data\n",
    "prediction_mul_lr = cvModel.transform(testing)"
   ]
  },
  {
   "cell_type": "code",
   "execution_count": 58,
   "metadata": {
    "colab": {
     "base_uri": "https://localhost:8080/"
    },
    "id": "EDNZpXWutXDm",
    "outputId": "f83b1ab0-94e8-44bc-942b-6da164122efb"
   },
   "outputs": [
    {
     "name": "stdout",
     "output_type": "stream",
     "text": [
      "Best performing parameters LogisticRegressionModel: uid=LogisticRegression_71c8a55152d9, numClasses=5, numFeatures=4\n"
     ]
    }
   ],
   "source": [
    "# Make prediction\n",
    "predictionAndTarget = cvModel.transform(testing).select(\"label\", \"prediction\")\n",
    "print('Best performing parameters', cvModel.bestModel) "
   ]
  },
  {
   "cell_type": "code",
   "execution_count": 59,
   "metadata": {
    "colab": {
     "base_uri": "https://localhost:8080/",
     "height": 328
    },
    "id": "AEwSyIaUt8lF",
    "outputId": "bbe9d81e-ce24-49e9-df78-bb2da55d3889"
   },
   "outputs": [
    {
     "name": "stdout",
     "output_type": "stream",
     "text": [
      "\n",
      "\n",
      "Confusion Matrix:\n",
      "\n"
     ]
    },
    {
     "data": {
      "text/html": [
       "<div>\n",
       "<style scoped>\n",
       "    .dataframe tbody tr th:only-of-type {\n",
       "        vertical-align: middle;\n",
       "    }\n",
       "\n",
       "    .dataframe tbody tr th {\n",
       "        vertical-align: top;\n",
       "    }\n",
       "\n",
       "    .dataframe thead th {\n",
       "        text-align: right;\n",
       "    }\n",
       "</style>\n",
       "<table border=\"1\" class=\"dataframe\">\n",
       "  <thead>\n",
       "    <tr style=\"text-align: right;\">\n",
       "      <th></th>\n",
       "      <th>tn</th>\n",
       "      <th>tp</th>\n",
       "      <th>fn</th>\n",
       "      <th>fp</th>\n",
       "    </tr>\n",
       "    <tr>\n",
       "      <th>class</th>\n",
       "      <th></th>\n",
       "      <th></th>\n",
       "      <th></th>\n",
       "      <th></th>\n",
       "    </tr>\n",
       "  </thead>\n",
       "  <tbody>\n",
       "    <tr>\n",
       "      <th>0</th>\n",
       "      <td>0</td>\n",
       "      <td>73624</td>\n",
       "      <td>0</td>\n",
       "      <td>144</td>\n",
       "    </tr>\n",
       "    <tr>\n",
       "      <th>1</th>\n",
       "      <td>73704</td>\n",
       "      <td>0</td>\n",
       "      <td>64</td>\n",
       "      <td>0</td>\n",
       "    </tr>\n",
       "    <tr>\n",
       "      <th>2</th>\n",
       "      <td>73760</td>\n",
       "      <td>0</td>\n",
       "      <td>8</td>\n",
       "      <td>0</td>\n",
       "    </tr>\n",
       "    <tr>\n",
       "      <th>3</th>\n",
       "      <td>73698</td>\n",
       "      <td>0</td>\n",
       "      <td>70</td>\n",
       "      <td>0</td>\n",
       "    </tr>\n",
       "    <tr>\n",
       "      <th>5</th>\n",
       "      <td>73767</td>\n",
       "      <td>0</td>\n",
       "      <td>1</td>\n",
       "      <td>0</td>\n",
       "    </tr>\n",
       "    <tr>\n",
       "      <th>4</th>\n",
       "      <td>73767</td>\n",
       "      <td>0</td>\n",
       "      <td>1</td>\n",
       "      <td>0</td>\n",
       "    </tr>\n",
       "  </tbody>\n",
       "</table>\n",
       "</div>"
      ],
      "text/plain": [
       "          tn     tp  fn   fp\n",
       "class                       \n",
       "0          0  73624   0  144\n",
       "1      73704      0  64    0\n",
       "2      73760      0   8    0\n",
       "3      73698      0  70    0\n",
       "5      73767      0   1    0\n",
       "4      73767      0   1    0"
      ]
     },
     "execution_count": 59,
     "metadata": {
      "tags": []
     },
     "output_type": "execute_result"
    }
   ],
   "source": [
    "#Create pandas dataframe for evaluation since   \n",
    "predictions1 = predictionAndTarget.toPandas()\n",
    "from sklearn.metrics import classification_report\n",
    "#Test the model using the test data\n",
    "labels = predictions1.label.unique()\n",
    "mcm = multilabel_confusion_matrix(predictions1.label, predictions1.prediction, labels=labels)\n",
    "cm_pd = pd.DataFrame({'tn': mcm[:,0,0],'tp': mcm[:, 1, 1], 'fn': mcm[:, 1, 0],'fp': mcm[:, 0, 1]},index=labels)\n",
    "print('\\n\\nConfusion Matrix:\\n')\n",
    "cm_pd.index.names = ['class']\n",
    "cm_pd\n"
   ]
  },
  {
   "cell_type": "code",
   "execution_count": 60,
   "metadata": {
    "colab": {
     "base_uri": "https://localhost:8080/"
    },
    "id": "C13fikVIuBpR",
    "outputId": "f663eb2d-9b40-4a4a-8f91-8e501791bbd0"
   },
   "outputs": [
    {
     "name": "stdout",
     "output_type": "stream",
     "text": [
      "\n",
      "Classification report Logistic Regression:\n",
      "\n",
      "               precision    recall  f1-score   support\n",
      "\n",
      "           0       1.00      1.00      1.00     73624\n",
      "           1       1.00      0.00      0.00        64\n",
      "           2       1.00      0.00      0.00         8\n",
      "           3       1.00      0.00      0.00        70\n",
      "           4       1.00      0.00      0.00         1\n",
      "           5       1.00      0.00      0.00         1\n",
      "\n",
      "    accuracy                           1.00     73768\n",
      "   macro avg       1.00      0.17      0.17     73768\n",
      "weighted avg       1.00      1.00      1.00     73768\n",
      "\n"
     ]
    }
   ],
   "source": [
    "#Output the Classification report\n",
    "print('\\nClassification report Logistic Regression\\n\\n',classification_report(predictions1.label, predictions1.prediction, zero_division = 1))"
   ]
  },
  {
   "cell_type": "markdown",
   "metadata": {
    "id": "VE9pob18wCN1"
   },
   "source": [
    "### Random Forest Classifier"
   ]
  },
  {
   "cell_type": "code",
   "execution_count": 61,
   "metadata": {
    "id": "1J-cWZRNuzoz"
   },
   "outputs": [],
   "source": [
    "from pyspark.ml.classification import RandomForestClassifier\n",
    "#RF\n",
    "rf = RandomForestClassifier(labelCol=\"label\", featuresCol=\"features\")\n",
    "\n",
    "\n",
    "# no parameter search\n",
    "paramGrid = ParamGridBuilder().addGrid(rf.maxDepth, [2, 5, 10]).build()\n",
    "\n",
    "# 2-fold cross validation\n",
    "crossval = CrossValidator(\n",
    "    estimator=rf, estimatorParamMaps=paramGrid, evaluator=evaluator, numFolds=2)\n",
    "\n",
    "\n",
    "cvModel = crossval.fit(training)\n"
   ]
  },
  {
   "cell_type": "code",
   "execution_count": 62,
   "metadata": {
    "colab": {
     "base_uri": "https://localhost:8080/"
    },
    "id": "rSiC3ZOkzQ6H",
    "outputId": "8b444e7b-2d53-49ca-e614-1d0c4963669b"
   },
   "outputs": [
    {
     "name": "stdout",
     "output_type": "stream",
     "text": [
      "Best performing parameters RandomForestClassificationModel: uid=RandomForestClassifier_cdbe0dedd4a8, numTrees=20, numClasses=5, numFeatures=4\n"
     ]
    }
   ],
   "source": [
    "# Make prediction\n",
    "predictionAndTarget = cvModel.transform(testing).select(\"label\", \"prediction\")\n",
    "print('Best performing parameters', cvModel.bestModel) "
   ]
  },
  {
   "cell_type": "code",
   "execution_count": 63,
   "metadata": {
    "colab": {
     "base_uri": "https://localhost:8080/",
     "height": 328
    },
    "id": "P8df-6Uqxlbe",
    "outputId": "e500f719-97fa-47cb-8431-327f62769256"
   },
   "outputs": [
    {
     "name": "stdout",
     "output_type": "stream",
     "text": [
      "\n",
      "\n",
      "Confusion Matrix:\n",
      "\n"
     ]
    },
    {
     "data": {
      "text/html": [
       "<div>\n",
       "<style scoped>\n",
       "    .dataframe tbody tr th:only-of-type {\n",
       "        vertical-align: middle;\n",
       "    }\n",
       "\n",
       "    .dataframe tbody tr th {\n",
       "        vertical-align: top;\n",
       "    }\n",
       "\n",
       "    .dataframe thead th {\n",
       "        text-align: right;\n",
       "    }\n",
       "</style>\n",
       "<table border=\"1\" class=\"dataframe\">\n",
       "  <thead>\n",
       "    <tr style=\"text-align: right;\">\n",
       "      <th></th>\n",
       "      <th>tn</th>\n",
       "      <th>tp</th>\n",
       "      <th>fn</th>\n",
       "      <th>fp</th>\n",
       "    </tr>\n",
       "    <tr>\n",
       "      <th>class</th>\n",
       "      <th></th>\n",
       "      <th></th>\n",
       "      <th></th>\n",
       "      <th></th>\n",
       "    </tr>\n",
       "  </thead>\n",
       "  <tbody>\n",
       "    <tr>\n",
       "      <th>0</th>\n",
       "      <td>51</td>\n",
       "      <td>73623</td>\n",
       "      <td>1</td>\n",
       "      <td>93</td>\n",
       "    </tr>\n",
       "    <tr>\n",
       "      <th>1</th>\n",
       "      <td>73704</td>\n",
       "      <td>0</td>\n",
       "      <td>64</td>\n",
       "      <td>0</td>\n",
       "    </tr>\n",
       "    <tr>\n",
       "      <th>2</th>\n",
       "      <td>73760</td>\n",
       "      <td>0</td>\n",
       "      <td>8</td>\n",
       "      <td>0</td>\n",
       "    </tr>\n",
       "    <tr>\n",
       "      <th>3</th>\n",
       "      <td>73697</td>\n",
       "      <td>50</td>\n",
       "      <td>20</td>\n",
       "      <td>1</td>\n",
       "    </tr>\n",
       "    <tr>\n",
       "      <th>5</th>\n",
       "      <td>73767</td>\n",
       "      <td>0</td>\n",
       "      <td>1</td>\n",
       "      <td>0</td>\n",
       "    </tr>\n",
       "    <tr>\n",
       "      <th>4</th>\n",
       "      <td>73767</td>\n",
       "      <td>1</td>\n",
       "      <td>0</td>\n",
       "      <td>0</td>\n",
       "    </tr>\n",
       "  </tbody>\n",
       "</table>\n",
       "</div>"
      ],
      "text/plain": [
       "          tn     tp  fn  fp\n",
       "class                      \n",
       "0         51  73623   1  93\n",
       "1      73704      0  64   0\n",
       "2      73760      0   8   0\n",
       "3      73697     50  20   1\n",
       "5      73767      0   1   0\n",
       "4      73767      1   0   0"
      ]
     },
     "execution_count": 63,
     "metadata": {
      "tags": []
     },
     "output_type": "execute_result"
    }
   ],
   "source": [
    "#Create pandas dataframe for evaluation since   \n",
    "predictions1 = predictionAndTarget.toPandas()\n",
    "from sklearn.metrics import classification_report\n",
    "#Test the model using the test data\n",
    "labels = predictions1.label.unique()\n",
    "mcm = multilabel_confusion_matrix(predictions1.label, predictions1.prediction, labels=labels)\n",
    "cm_pd = pd.DataFrame({'tn': mcm[:,0,0],'tp': mcm[:, 1, 1], 'fn': mcm[:, 1, 0],'fp': mcm[:, 0, 1]},index=labels)\n",
    "print('\\n\\nConfusion Matrix:\\n')\n",
    "cm_pd.index.names = ['class']\n",
    "cm_pd\n"
   ]
  },
  {
   "cell_type": "code",
   "execution_count": 64,
   "metadata": {
    "colab": {
     "base_uri": "https://localhost:8080/"
    },
    "id": "k3APpKeAzV7q",
    "outputId": "e12fecbe-1623-41d5-9372-153029968107"
   },
   "outputs": [
    {
     "name": "stdout",
     "output_type": "stream",
     "text": [
      "\n",
      "Classification report Logistic Regression:\n",
      "\n",
      "               precision    recall  f1-score   support\n",
      "\n",
      "           0       1.00      1.00      1.00     73624\n",
      "           1       1.00      0.00      0.00        64\n",
      "           2       1.00      0.00      0.00         8\n",
      "           3       0.98      0.71      0.83        70\n",
      "           4       1.00      1.00      1.00         1\n",
      "           5       1.00      0.00      0.00         1\n",
      "\n",
      "    accuracy                           1.00     73768\n",
      "   macro avg       1.00      0.45      0.47     73768\n",
      "weighted avg       1.00      1.00      1.00     73768\n",
      "\n"
     ]
    }
   ],
   "source": [
    "#Output the Classification report\n",
    "print('\\nClassification report Logistic Regression:\\n\\n',classification_report(predictions1.label, predictions1.prediction, zero_division = 1))"
   ]
  },
  {
   "cell_type": "markdown",
   "metadata": {
    "id": "-ThOmZbnPyMa"
   },
   "source": [
    "## 4.Association Rule Mining\n",
    "<div class=\"alert alert-block alert-info\">\n",
    "\n",
    "**Code**: \n",
    "Implement association rule mining with a suitable threshold for support, and confidence \n",
    "    <br>\n",
    "    *Keep the outputs for code in your notebook.\n",
    "\n",
    "**Report**:\n",
    "    1.  Your code design and running results, <br>\n",
    "\t\t2.  Your findings on on ARMing results.\n",
    "</div>"
   ]
  },
  {
   "cell_type": "code",
   "execution_count": 65,
   "metadata": {
    "colab": {
     "base_uri": "https://localhost:8080/"
    },
    "id": "VtZ5-w3tQJDl",
    "outputId": "403869b2-3eb1-4142-949e-7f47115cef02"
   },
   "outputs": [
    {
     "name": "stdout",
     "output_type": "stream",
     "text": [
      "Collecting apyori\n",
      "  Downloading https://files.pythonhosted.org/packages/5e/62/5ffde5c473ea4b033490617ec5caa80d59804875ad3c3c57c0976533a21a/apyori-1.1.2.tar.gz\n",
      "Building wheels for collected packages: apyori\n",
      "  Building wheel for apyori (setup.py) ... \u001b[?25l\u001b[?25hdone\n",
      "  Created wheel for apyori: filename=apyori-1.1.2-cp37-none-any.whl size=5975 sha256=856242c3b039ab2f1a2582f1fd2faf0cb8dcb7b08d497137ca24541995d90f0c\n",
      "  Stored in directory: /root/.cache/pip/wheels/5d/92/bb/474bbadbc8c0062b9eb168f69982a0443263f8ab1711a8cad0\n",
      "Successfully built apyori\n",
      "Installing collected packages: apyori\n",
      "Successfully installed apyori-1.1.2\n"
     ]
    }
   ],
   "source": [
    "!pip install apyori"
   ]
  },
  {
   "cell_type": "code",
   "execution_count": 66,
   "metadata": {
    "id": "sLR-Vp-cQPki"
   },
   "outputs": [],
   "source": [
    "# you can also use PySpark package, if preferred\n",
    "from apyori import apriori\n",
    "dff = weblog_df[:100000]\n",
    "# Your code\n",
    "#Create transactions\n",
    "transactions = []\n",
    "#Create rules for the first 1000 transactions (creating transactions on the complete data takes >45 mins)\n",
    "for i in range(0, 20):\n",
    "    transactions.append([str(dff.values[i,j]) for j in range(0, len(dff.columns))])"
   ]
  },
  {
   "cell_type": "code",
   "execution_count": 74,
   "metadata": {
    "id": "pkOHW-jZ1TYG"
   },
   "outputs": [],
   "source": [
    "#define the Apriori model.\n",
    "#Define parameters\n",
    "maximum_length = 2 # number of items per rule\n",
    "support_minimum = 0.01\n",
    "confidence = 0.1\n",
    "rules = apriori(transactions, min_support = support_minimum, min_confidence = 0.1, min_lift = 10, max_length = maximum_length)\n",
    "#create associations\n",
    "associations = list(rules)\n"
   ]
  },
  {
   "cell_type": "code",
   "execution_count": 80,
   "metadata": {
    "colab": {
     "base_uri": "https://localhost:8080/",
     "height": 365
    },
    "id": "YL9POYZvL4Ab",
    "outputId": "9aa9f311-0de6-4d79-e7a2-9aed285601a7"
   },
   "outputs": [
    {
     "name": "stdout",
     "output_type": "stream",
     "text": [
      "Top 10 rules sorted by confidence\n"
     ]
    },
    {
     "data": {
      "text/html": [
       "<div>\n",
       "<style scoped>\n",
       "    .dataframe tbody tr th:only-of-type {\n",
       "        vertical-align: middle;\n",
       "    }\n",
       "\n",
       "    .dataframe tbody tr th {\n",
       "        vertical-align: top;\n",
       "    }\n",
       "\n",
       "    .dataframe thead th {\n",
       "        text-align: right;\n",
       "    }\n",
       "</style>\n",
       "<table border=\"1\" class=\"dataframe\">\n",
       "  <thead>\n",
       "    <tr style=\"text-align: right;\">\n",
       "      <th></th>\n",
       "      <th>lhs</th>\n",
       "      <th>rhs</th>\n",
       "      <th>support</th>\n",
       "      <th>Confidence</th>\n",
       "    </tr>\n",
       "  </thead>\n",
       "  <tbody>\n",
       "    <tr>\n",
       "      <th>0</th>\n",
       "      <td>/Tulip/aboutus/zh-hk/aboutus_location.aspx</td>\n",
       "      <td>05:58:11</td>\n",
       "      <td>0.05</td>\n",
       "      <td>1.0</td>\n",
       "    </tr>\n",
       "    <tr>\n",
       "      <th>149</th>\n",
       "      <td>2006-11-01</td>\n",
       "      <td>203.34.154.24</td>\n",
       "      <td>0.05</td>\n",
       "      <td>0.5</td>\n",
       "    </tr>\n",
       "    <tr>\n",
       "      <th>138</th>\n",
       "      <td>14:30:08</td>\n",
       "      <td>2006-12-26</td>\n",
       "      <td>0.05</td>\n",
       "      <td>1.0</td>\n",
       "    </tr>\n",
       "    <tr>\n",
       "      <th>139</th>\n",
       "      <td>14:30:08</td>\n",
       "      <td>203.223.228.159</td>\n",
       "      <td>0.05</td>\n",
       "      <td>1.0</td>\n",
       "    </tr>\n",
       "    <tr>\n",
       "      <th>140</th>\n",
       "      <td>14:30:08</td>\n",
       "      <td>http://www.hotelTulip.com.hk/Tulip/whatsnew/wh...</td>\n",
       "      <td>0.05</td>\n",
       "      <td>1.0</td>\n",
       "    </tr>\n",
       "    <tr>\n",
       "      <th>141</th>\n",
       "      <td>16:33:18</td>\n",
       "      <td>2006-11-12</td>\n",
       "      <td>0.05</td>\n",
       "      <td>1.0</td>\n",
       "    </tr>\n",
       "    <tr>\n",
       "      <th>142</th>\n",
       "      <td>17:13:48</td>\n",
       "      <td>2006-11-04</td>\n",
       "      <td>0.05</td>\n",
       "      <td>1.0</td>\n",
       "    </tr>\n",
       "    <tr>\n",
       "      <th>143</th>\n",
       "      <td>17:13:48</td>\n",
       "      <td>84.191.55.121</td>\n",
       "      <td>0.05</td>\n",
       "      <td>1.0</td>\n",
       "    </tr>\n",
       "    <tr>\n",
       "      <th>144</th>\n",
       "      <td>17:13:48</td>\n",
       "      <td>Mozilla/4.0+(compatible;+MSIE+6.0;+Windows+NT+...</td>\n",
       "      <td>0.05</td>\n",
       "      <td>1.0</td>\n",
       "    </tr>\n",
       "    <tr>\n",
       "      <th>145</th>\n",
       "      <td>17:13:48</td>\n",
       "      <td>http://www.hotelTulip.com.hk/Tulip/contactus/c...</td>\n",
       "      <td>0.05</td>\n",
       "      <td>1.0</td>\n",
       "    </tr>\n",
       "  </tbody>\n",
       "</table>\n",
       "</div>"
      ],
      "text/plain": [
       "                                            lhs  ... Confidence\n",
       "0    /Tulip/aboutus/zh-hk/aboutus_location.aspx  ...        1.0\n",
       "149                                  2006-11-01  ...        0.5\n",
       "138                                    14:30:08  ...        1.0\n",
       "139                                    14:30:08  ...        1.0\n",
       "140                                    14:30:08  ...        1.0\n",
       "141                                    16:33:18  ...        1.0\n",
       "142                                    17:13:48  ...        1.0\n",
       "143                                    17:13:48  ...        1.0\n",
       "144                                    17:13:48  ...        1.0\n",
       "145                                    17:13:48  ...        1.0\n",
       "\n",
       "[10 rows x 4 columns]"
      ]
     },
     "execution_count": 80,
     "metadata": {
      "tags": []
     },
     "output_type": "execute_result"
    }
   ],
   "source": [
    "rules_df = pd.DataFrame(associations)\n",
    "support = rules_df.support\n",
    "\n",
    "first_values = []\n",
    "second_values = []\n",
    "third_values = []\n",
    "\n",
    "\n",
    "# loop number of rows time and append 1 by 1 value in a separate list.. first and second element was frozenset which need to be converted in list..\n",
    "for i in range(rules_df.shape[0]):\n",
    "    single_list = rules_df['ordered_statistics'][i][0]\n",
    "    first_values.append(list(single_list[0]))\n",
    "    second_values.append(list(single_list[1]))\n",
    "    third_values.append(single_list[2])\n",
    "  \n",
    "#convert all four list into dataframe for further operation..\n",
    "lhs = pd.DataFrame(first_values)\n",
    "rhs= pd.DataFrame(second_values)\n",
    "lhs.columns = ['lhs']\n",
    "rhs.columns = ['rhs']\n",
    "confidance=pd.DataFrame(third_values,columns=['Confidence'])\n",
    "\n",
    "#concat all list together in a single dataframe\n",
    "df_final = pd.concat([lhs,rhs,support,confidance], axis=1)\n",
    "print('Top 10 rules sorted by support')\n",
    "df_final.sort_values('support', ascending = False).head(10)"
   ]
  },
  {
   "cell_type": "code",
   "execution_count": 77,
   "metadata": {
    "colab": {
     "base_uri": "https://localhost:8080/"
    },
    "id": "U4Eyfv5eK5OO",
    "outputId": "08d1912e-34c8-41cb-d492-edd1fbc7cc31"
   },
   "outputs": [
    {
     "name": "stdout",
     "output_type": "stream",
     "text": [
      "Number of rules generated =  218\n"
     ]
    }
   ],
   "source": [
    "print('Number of rules generated = ',len(associations))"
   ]
  },
  {
   "cell_type": "markdown",
   "metadata": {
    "id": "mX5Kb_DPQ3cE"
   },
   "source": [
    "# Part II - Web Crawling\n",
    "\n",
    "## Overview\n",
    "In 2021, \n",
    "to better introduce and understand the research works on the professors,\n",
    "Deakin university wants to perform the citation prediction on individual professor level.\n",
    "You are required to implement a web crawler to crawl the *citation* information \n",
    "for A/Professor Gang Li from 2003 to 2021 (start at 2003 and end at 2021),\n",
    "and also conduct several prediction coding tasks. \n",
    "You will need to make sure that \n",
    "the web crawling code and prediction code meets the requirements.\n",
    "You are free to use any **Python** package for Web crawling and prediction \n",
    "by finishing below tasks.  \n"
   ]
  },
  {
   "cell_type": "markdown",
   "metadata": {
    "id": "REp-ATy8gGyS"
   },
   "source": [
    "## 5.Crawl Gang Li citation information from 2003 to 2021"
   ]
  },
  {
   "cell_type": "markdown",
   "metadata": {
    "id": "99Y04DfvFMGO"
   },
   "source": [
    " <div class=\"alert alert-block alert-info\">\n",
    "\n",
    "**Code**: \n",
    "    You are required to write the code to generate the csv for Gang Li's citation from 2003 to 2021\n",
    "    <br>\n",
    "    *Keep the outputs for code in your notebook.\n",
    "</div>"
   ]
  },
  {
   "cell_type": "code",
   "execution_count": 81,
   "metadata": {
    "colab": {
     "base_uri": "https://localhost:8080/"
    },
    "id": "WpyNYt7B7_V8",
    "outputId": "106257f8-eac0-4441-c0f5-babde2a51ff2"
   },
   "outputs": [
    {
     "name": "stdout",
     "output_type": "stream",
     "text": [
      "Collecting selenium\n",
      "\u001b[?25l  Downloading https://files.pythonhosted.org/packages/80/d6/4294f0b4bce4de0abf13e17190289f9d0613b0a44e5dd6a7f5ca98459853/selenium-3.141.0-py2.py3-none-any.whl (904kB)\n",
      "\u001b[K     |████████████████████████████████| 911kB 6.9MB/s \n",
      "\u001b[?25hRequirement already satisfied: urllib3 in /usr/local/lib/python3.7/dist-packages (from selenium) (1.24.3)\n",
      "Installing collected packages: selenium\n",
      "Successfully installed selenium-3.141.0\n",
      "Hit:1 https://cloud.r-project.org/bin/linux/ubuntu bionic-cran40/ InRelease\n",
      "Ign:2 https://developer.download.nvidia.com/compute/cuda/repos/ubuntu1804/x86_64  InRelease\n",
      "Ign:3 https://developer.download.nvidia.com/compute/machine-learning/repos/ubuntu1804/x86_64  InRelease\n",
      "Hit:4 https://developer.download.nvidia.com/compute/cuda/repos/ubuntu1804/x86_64  Release\n",
      "Hit:5 https://developer.download.nvidia.com/compute/machine-learning/repos/ubuntu1804/x86_64  Release\n",
      "Get:6 http://security.ubuntu.com/ubuntu bionic-security InRelease [88.7 kB]\n",
      "Hit:7 http://ppa.launchpad.net/c2d4u.team/c2d4u4.0+/ubuntu bionic InRelease\n",
      "Hit:8 http://archive.ubuntu.com/ubuntu bionic InRelease\n",
      "Get:10 http://archive.ubuntu.com/ubuntu bionic-updates InRelease [88.7 kB]\n",
      "Hit:11 http://ppa.launchpad.net/cran/libgit2/ubuntu bionic InRelease\n",
      "Hit:13 http://ppa.launchpad.net/deadsnakes/ppa/ubuntu bionic InRelease\n",
      "Get:14 http://archive.ubuntu.com/ubuntu bionic-backports InRelease [74.6 kB]\n",
      "Hit:15 http://ppa.launchpad.net/graphics-drivers/ppa/ubuntu bionic InRelease\n",
      "Fetched 252 kB in 2s (115 kB/s)\n",
      "Reading package lists... Done\n",
      "Reading package lists... Done\n",
      "Building dependency tree       \n",
      "Reading state information... Done\n",
      "The following package was automatically installed and is no longer required:\n",
      "  libnvidia-common-460\n",
      "Use 'apt autoremove' to remove it.\n",
      "The following additional packages will be installed:\n",
      "  chromium-browser chromium-browser-l10n chromium-codecs-ffmpeg-extra\n",
      "Suggested packages:\n",
      "  webaccounts-chromium-extension unity-chromium-extension\n",
      "The following NEW packages will be installed:\n",
      "  chromium-browser chromium-browser-l10n chromium-chromedriver\n",
      "  chromium-codecs-ffmpeg-extra\n",
      "0 upgraded, 4 newly installed, 0 to remove and 97 not upgraded.\n",
      "Need to get 86.0 MB of archives.\n",
      "After this operation, 298 MB of additional disk space will be used.\n",
      "Get:1 http://archive.ubuntu.com/ubuntu bionic-updates/universe amd64 chromium-codecs-ffmpeg-extra amd64 91.0.4472.77-0ubuntu0.18.04.1 [1,124 kB]\n",
      "Get:2 http://archive.ubuntu.com/ubuntu bionic-updates/universe amd64 chromium-browser amd64 91.0.4472.77-0ubuntu0.18.04.1 [76.1 MB]\n",
      "Get:3 http://archive.ubuntu.com/ubuntu bionic-updates/universe amd64 chromium-browser-l10n all 91.0.4472.77-0ubuntu0.18.04.1 [3,948 kB]\n",
      "Get:4 http://archive.ubuntu.com/ubuntu bionic-updates/universe amd64 chromium-chromedriver amd64 91.0.4472.77-0ubuntu0.18.04.1 [4,838 kB]\n",
      "Fetched 86.0 MB in 5s (16.1 MB/s)\n",
      "Selecting previously unselected package chromium-codecs-ffmpeg-extra.\n",
      "(Reading database ... 161049 files and directories currently installed.)\n",
      "Preparing to unpack .../chromium-codecs-ffmpeg-extra_91.0.4472.77-0ubuntu0.18.04.1_amd64.deb ...\n",
      "Unpacking chromium-codecs-ffmpeg-extra (91.0.4472.77-0ubuntu0.18.04.1) ...\n",
      "Selecting previously unselected package chromium-browser.\n",
      "Preparing to unpack .../chromium-browser_91.0.4472.77-0ubuntu0.18.04.1_amd64.deb ...\n",
      "Unpacking chromium-browser (91.0.4472.77-0ubuntu0.18.04.1) ...\n",
      "Selecting previously unselected package chromium-browser-l10n.\n",
      "Preparing to unpack .../chromium-browser-l10n_91.0.4472.77-0ubuntu0.18.04.1_all.deb ...\n",
      "Unpacking chromium-browser-l10n (91.0.4472.77-0ubuntu0.18.04.1) ...\n",
      "Selecting previously unselected package chromium-chromedriver.\n",
      "Preparing to unpack .../chromium-chromedriver_91.0.4472.77-0ubuntu0.18.04.1_amd64.deb ...\n",
      "Unpacking chromium-chromedriver (91.0.4472.77-0ubuntu0.18.04.1) ...\n",
      "Setting up chromium-codecs-ffmpeg-extra (91.0.4472.77-0ubuntu0.18.04.1) ...\n",
      "Setting up chromium-browser (91.0.4472.77-0ubuntu0.18.04.1) ...\n",
      "update-alternatives: using /usr/bin/chromium-browser to provide /usr/bin/x-www-browser (x-www-browser) in auto mode\n",
      "update-alternatives: using /usr/bin/chromium-browser to provide /usr/bin/gnome-www-browser (gnome-www-browser) in auto mode\n",
      "Setting up chromium-chromedriver (91.0.4472.77-0ubuntu0.18.04.1) ...\n",
      "Setting up chromium-browser-l10n (91.0.4472.77-0ubuntu0.18.04.1) ...\n",
      "Processing triggers for man-db (2.8.3-2ubuntu0.1) ...\n",
      "Processing triggers for hicolor-icon-theme (0.17-2) ...\n",
      "Processing triggers for mime-support (3.60ubuntu1) ...\n",
      "Processing triggers for libc-bin (2.27-3ubuntu1.2) ...\n",
      "/sbin/ldconfig.real: /usr/local/lib/python3.7/dist-packages/ideep4py/lib/libmkldnn.so.0 is not a symbolic link\n",
      "\n",
      "cp: '/usr/lib/chromium-browser/chromedriver' and '/usr/bin/chromedriver' are the same file\n"
     ]
    }
   ],
   "source": [
    "# Your code to crawl and generate the csv, and save it to variable create_df\n",
    "#import pandas as pd\n",
    "#Install the packages that will be used for scraping\n",
    "!pip install selenium\n",
    "##Important to ensure chromium works in google colab\n",
    "!apt-get update \n",
    "!apt install chromium-chromedriver\n",
    "!cp /usr/lib/chromium-browser/chromedriver /usr/bin\n",
    "\n"
   ]
  },
  {
   "cell_type": "code",
   "execution_count": 82,
   "metadata": {
    "id": "VOPbRYeHZTpX"
   },
   "outputs": [],
   "source": [
    "#Import required packages\n",
    "import sys\n",
    "from selenium import webdriver\n",
    "from selenium.webdriver.chrome.options import Options\n",
    "from bs4 import BeautifulSoup"
   ]
  },
  {
   "cell_type": "code",
   "execution_count": 84,
   "metadata": {
    "colab": {
     "base_uri": "https://localhost:8080/"
    },
    "id": "w6jpdaYxZTyb",
    "outputId": "b69fbf23-dbf7-4fac-bb6b-a7ef9a2a2792"
   },
   "outputs": [
    {
     "name": "stderr",
     "output_type": "stream",
     "text": [
      "/usr/local/lib/python3.7/dist-packages/ipykernel_launcher.py:7: DeprecationWarning: use options instead of chrome_options\n",
      "  import sys\n"
     ]
    }
   ],
   "source": [
    "sys.path.insert(0,'/usr/lib/chromium-browser/chromedriver')\n",
    "\n",
    "chrome_options = webdriver.ChromeOptions()\n",
    "chrome_options.add_argument('--headless')\n",
    "chrome_options.add_argument('--no-sandbox')\n",
    "chrome_options.add_argument('--disable-dev-shm-usage')\n",
    "wd = webdriver.Chrome('chromedriver',chrome_options=chrome_options)\n",
    "wd.get(\"https://scholar.google.com/citations?user=dqwjm-0AAAAJ\")\n",
    "python_button = wd.find_element_by_xpath('//*[@id=\"gsc_bpf_more\"]')\n",
    "python_button.click()\n",
    "s = BeautifulSoup(wd.page_source, \"html.parser\")\n",
    "year = list(map(str, [i.text for i in s.find_all('span', {'class': 'gsc_a_h gsc_a_hc gs_ibl'})])) ##string not int because some are ''\n",
    "paper = list(map(str, [i.text for i in s.find_all('a', {'class': 'gsc_a_at'})]))\n",
    "citations = list(map(int, [i.text for i in s.find_all('span', {'class':'gsc_g_al'})]))\n",
    "years = list(map(int, [i.text for i in s.find_all('span', {'class':'gsc_g_t'})]))\n",
    "#create_df = pd.DataFrame()\n",
    "create_df = pd.DataFrame({'year': years, 'Citation': citations})\n",
    "create_df.to_csv('drive/MyDrive/Modern Data Science/Citation2003-2021.csv', index=False)"
   ]
  },
  {
   "cell_type": "code",
   "execution_count": null,
   "metadata": {
    "id": "HijFV7ddZT2I"
   },
   "outputs": [],
   "source": []
  },
  {
   "cell_type": "markdown",
   "metadata": {
    "id": "mDs8ETNWII8b"
   },
   "source": [
    "## 6.Train Arima to predict the 2018 to 2020 citation"
   ]
  },
  {
   "cell_type": "markdown",
   "metadata": {
    "id": "mtKVVs6wGXwc"
   },
   "source": [
    "### 6.1 Train Arima Model\n",
    " <div class=\"alert alert-block alert-info\">\n",
    "\n",
    "**Code**: \n",
    "    You will need to use the create_df and then perform the\n",
    "Arima training with parameter of $p=1$, $q=1$ and $d=1$ on data from 2003 to 2017 (15 years)\n",
    "    <br>\n",
    "    *Keep the outputs for code in your notebook.\n",
    "</div>"
   ]
  },
  {
   "cell_type": "code",
   "execution_count": 85,
   "metadata": {
    "colab": {
     "base_uri": "https://localhost:8080/",
     "height": 167
    },
    "id": "5azaduXOGd5_",
    "outputId": "9ed26ab3-d495-4227-e51c-fcbae1cf3b06"
   },
   "outputs": [
    {
     "data": {
      "text/html": [
       "<div>\n",
       "<style scoped>\n",
       "    .dataframe tbody tr th:only-of-type {\n",
       "        vertical-align: middle;\n",
       "    }\n",
       "\n",
       "    .dataframe tbody tr th {\n",
       "        vertical-align: top;\n",
       "    }\n",
       "\n",
       "    .dataframe thead th {\n",
       "        text-align: right;\n",
       "    }\n",
       "</style>\n",
       "<table border=\"1\" class=\"dataframe\">\n",
       "  <thead>\n",
       "    <tr style=\"text-align: right;\">\n",
       "      <th></th>\n",
       "      <th>Citation</th>\n",
       "    </tr>\n",
       "    <tr>\n",
       "      <th>year</th>\n",
       "      <th></th>\n",
       "    </tr>\n",
       "  </thead>\n",
       "  <tbody>\n",
       "    <tr>\n",
       "      <th>2018</th>\n",
       "      <td>454</td>\n",
       "    </tr>\n",
       "    <tr>\n",
       "      <th>2019</th>\n",
       "      <td>583</td>\n",
       "    </tr>\n",
       "    <tr>\n",
       "      <th>2020</th>\n",
       "      <td>846</td>\n",
       "    </tr>\n",
       "  </tbody>\n",
       "</table>\n",
       "</div>"
      ],
      "text/plain": [
       "      Citation\n",
       "year          \n",
       "2018       454\n",
       "2019       583\n",
       "2020       846"
      ]
     },
     "execution_count": 85,
     "metadata": {
      "tags": []
     },
     "output_type": "execute_result"
    }
   ],
   "source": [
    "# your code to use create_df to split the data into train (year 2003 to 2017) and test\n",
    "#Train\n",
    "train = create_df[create_df['year']>= 2003]\n",
    "train = create_df[(create_df['year']>= 2003) & (create_df['year'] <= 2017)]\n",
    "train = train.set_index('year')\n",
    "#Test\n",
    "test = create_df[(create_df['year']> 2017) & (create_df['year'] <= 2020)]\n",
    "test = test.set_index('year')\n",
    "test"
   ]
  },
  {
   "cell_type": "code",
   "execution_count": 86,
   "metadata": {
    "colab": {
     "base_uri": "https://localhost:8080/",
     "height": 527
    },
    "id": "vyBwGOcvbSLF",
    "outputId": "c4286b34-d1d3-4aee-d109-872ba7fc76c1"
   },
   "outputs": [
    {
     "data": {
      "text/html": [
       "<div>\n",
       "<style scoped>\n",
       "    .dataframe tbody tr th:only-of-type {\n",
       "        vertical-align: middle;\n",
       "    }\n",
       "\n",
       "    .dataframe tbody tr th {\n",
       "        vertical-align: top;\n",
       "    }\n",
       "\n",
       "    .dataframe thead th {\n",
       "        text-align: right;\n",
       "    }\n",
       "</style>\n",
       "<table border=\"1\" class=\"dataframe\">\n",
       "  <thead>\n",
       "    <tr style=\"text-align: right;\">\n",
       "      <th></th>\n",
       "      <th>Citation</th>\n",
       "    </tr>\n",
       "    <tr>\n",
       "      <th>year</th>\n",
       "      <th></th>\n",
       "    </tr>\n",
       "  </thead>\n",
       "  <tbody>\n",
       "    <tr>\n",
       "      <th>2003</th>\n",
       "      <td>15</td>\n",
       "    </tr>\n",
       "    <tr>\n",
       "      <th>2004</th>\n",
       "      <td>34</td>\n",
       "    </tr>\n",
       "    <tr>\n",
       "      <th>2005</th>\n",
       "      <td>17</td>\n",
       "    </tr>\n",
       "    <tr>\n",
       "      <th>2006</th>\n",
       "      <td>11</td>\n",
       "    </tr>\n",
       "    <tr>\n",
       "      <th>2007</th>\n",
       "      <td>33</td>\n",
       "    </tr>\n",
       "    <tr>\n",
       "      <th>2008</th>\n",
       "      <td>41</td>\n",
       "    </tr>\n",
       "    <tr>\n",
       "      <th>2009</th>\n",
       "      <td>57</td>\n",
       "    </tr>\n",
       "    <tr>\n",
       "      <th>2010</th>\n",
       "      <td>68</td>\n",
       "    </tr>\n",
       "    <tr>\n",
       "      <th>2011</th>\n",
       "      <td>106</td>\n",
       "    </tr>\n",
       "    <tr>\n",
       "      <th>2012</th>\n",
       "      <td>131</td>\n",
       "    </tr>\n",
       "    <tr>\n",
       "      <th>2013</th>\n",
       "      <td>170</td>\n",
       "    </tr>\n",
       "    <tr>\n",
       "      <th>2014</th>\n",
       "      <td>251</td>\n",
       "    </tr>\n",
       "    <tr>\n",
       "      <th>2015</th>\n",
       "      <td>290</td>\n",
       "    </tr>\n",
       "    <tr>\n",
       "      <th>2016</th>\n",
       "      <td>340</td>\n",
       "    </tr>\n",
       "    <tr>\n",
       "      <th>2017</th>\n",
       "      <td>383</td>\n",
       "    </tr>\n",
       "  </tbody>\n",
       "</table>\n",
       "</div>"
      ],
      "text/plain": [
       "      Citation\n",
       "year          \n",
       "2003        15\n",
       "2004        34\n",
       "2005        17\n",
       "2006        11\n",
       "2007        33\n",
       "2008        41\n",
       "2009        57\n",
       "2010        68\n",
       "2011       106\n",
       "2012       131\n",
       "2013       170\n",
       "2014       251\n",
       "2015       290\n",
       "2016       340\n",
       "2017       383"
      ]
     },
     "execution_count": 86,
     "metadata": {
      "tags": []
     },
     "output_type": "execute_result"
    }
   ],
   "source": [
    "train"
   ]
  },
  {
   "cell_type": "markdown",
   "metadata": {
    "id": "iomydVFJGdFQ"
   },
   "source": [
    "### 6.2 Predicting the citation and Calculate the RMSE\n",
    " <div class=\"alert alert-block alert-info\">\n",
    "\n",
    "**Code**: \n",
    "    you will need to use the trained Arime model to predict the citation on year 2018, 2019 and 2020.\n",
    "You will need to perform the evaluation by comparing the predicted citation from 2018 to 2020 with \n",
    "the true citation from 2018 to 2020 and calculate the RMSE (root mean square error).\n",
    "    <br>\n",
    "    *Keep the outputs for code in your notebook.\n",
    "</div>"
   ]
  },
  {
   "cell_type": "code",
   "execution_count": 88,
   "metadata": {
    "id": "HNj0LfptqWS-"
   },
   "outputs": [],
   "source": [
    "import warnings\n",
    "warnings.filterwarnings('ignore')\n",
    "# your code to predict the citation and save it to variable preds. You may need to output the confidence interval(95%) here as well\n",
    "from statsmodels.tsa.arima_model import ARIMA\n",
    "\n",
    "from statsmodels.tsa.statespace.sarimax import SARIMAX\n",
    "df_log = np.log(train)\n",
    "model= SARIMAX(train,order=(1,1,1))\n",
    "#Fit the model\n",
    "model=model.fit()"
   ]
  },
  {
   "cell_type": "code",
   "execution_count": 89,
   "metadata": {
    "colab": {
     "base_uri": "https://localhost:8080/"
    },
    "id": "DnghnfH7rJJT",
    "outputId": "bd0f2038-c984-4b72-fb6b-d0b88f1bcc2d"
   },
   "outputs": [
    {
     "name": "stdout",
     "output_type": "stream",
     "text": [
      "                           Statespace Model Results                           \n",
      "==============================================================================\n",
      "Dep. Variable:               Citation   No. Observations:                   15\n",
      "Model:               SARIMAX(1, 1, 1)   Log Likelihood                 -62.593\n",
      "Date:                Wed, 02 Jun 2021   AIC                            131.185\n",
      "Time:                        09:26:54   BIC                            133.102\n",
      "Sample:                             0   HQIC                           131.008\n",
      "                                 - 15                                         \n",
      "Covariance Type:                  opg                                         \n",
      "==============================================================================\n",
      "                 coef    std err          z      P>|z|      [0.025      0.975]\n",
      "------------------------------------------------------------------------------\n",
      "ar.L1          0.9464      0.269      3.521      0.000       0.420       1.473\n",
      "ma.L1         -0.4768      0.733     -0.651      0.515      -1.912       0.959\n",
      "sigma2       407.4338    162.538      2.507      0.012      88.866     726.002\n",
      "===================================================================================\n",
      "Ljung-Box (Q):                         nan   Jarque-Bera (JB):                 0.69\n",
      "Prob(Q):                               nan   Prob(JB):                         0.71\n",
      "Heteroskedasticity (H):               1.87   Skew:                             0.45\n",
      "Prob(H) (two-sided):                  0.51   Kurtosis:                         3.62\n",
      "===================================================================================\n",
      "\n",
      "Warnings:\n",
      "[1] Covariance matrix calculated using the outer product of gradients (complex-step).\n"
     ]
    }
   ],
   "source": [
    "#Model summary\n",
    "print(model.summary())"
   ]
  },
  {
   "cell_type": "code",
   "execution_count": 89,
   "metadata": {
    "id": "1jbCPisjo13_"
   },
   "outputs": [],
   "source": []
  },
  {
   "cell_type": "code",
   "execution_count": 99,
   "metadata": {
    "colab": {
     "base_uri": "https://localhost:8080/"
    },
    "id": "Mq1fAKXTIdU4",
    "outputId": "88acbd84-a7a7-42c8-f5b3-fd31a00335f0"
   },
   "outputs": [
    {
     "name": "stdout",
     "output_type": "stream",
     "text": [
      "RMSE of the resulting model: 1247.6879\n"
     ]
    }
   ],
   "source": [
    "# Print the error below by comparing the test and preds:\n",
    "from sklearn.metrics import mean_squared_error\n",
    "import matplotlib.pyplot as plt\n",
    "import numpy as np\n",
    "\n",
    "# Your code to show the performance RMSE\n",
    "import math\n",
    "from sklearn.metrics import mean_squared_error\n",
    "predictions = model.get_forecast(steps = 3).summary_frame()\n",
    "test['Predictions'] = list(predictions['mean'])\n",
    "print('RMSE of the resulting model:',round(math.sqrt(mean_squared_error(test.Citation, test.Predictions)),4))"
   ]
  },
  {
   "cell_type": "markdown",
   "metadata": {
    "id": "Q7k3Savqewxg"
   },
   "source": [
    "### 6.3 Draw the visualization to compare"
   ]
  },
  {
   "cell_type": "markdown",
   "metadata": {
    "id": "JC5xseYSH7ze"
   },
   "source": [
    " <div class=\"alert alert-block alert-info\">\n",
    "\n",
    "**Code**: \n",
    "   You will also need to use matplotlib to draw the line plot with training data from 2013 to 2017,\n",
    "the testing truth, the prediction and also the confidence interval (95%). \n",
    "    <br>\n",
    "    *Keep the outputs for code in your notebook.\n",
    "</div>"
   ]
  },
  {
   "cell_type": "code",
   "execution_count": 117,
   "metadata": {
    "colab": {
     "base_uri": "https://localhost:8080/",
     "height": 513
    },
    "id": "DcsJIrOXItA5",
    "outputId": "d79c1e9c-86ed-4e2a-a597-8daeaf707b42"
   },
   "outputs": [
    {
     "data": {
      "image/png": "[encoded data removed]",
      "text/plain": [
       "<Figure size 864x576 with 1 Axes>"
      ]
     },
     "metadata": {
      "needs_background": "light",
      "tags": []
     },
     "output_type": "display_data"
    }
   ],
   "source": [
    "# Plot the points and the prediction with its confidence interval\n",
    "fig, ax = plt.subplots(figsize=(15, 5))\n",
    "\n",
    "# Plot the data (here we are subsetting it to get a better look at the forecasts)\n",
    "\n",
    "from matplotlib.ticker import FormatStrFormatter\n",
    "\n",
    "# Generate the forecasts\n",
    "forecastss = model.get_forecast(steps = 3).summary_frame()\n",
    "pred = model.get_prediction( dynamic=False)\n",
    "pred_ci = pred.conf_int()\n",
    "\n",
    "ax = train.Citation.plot(label='Actual')\n",
    "pred.predicted_mean.plot(ax=ax, label='Forecasted', alpha=.7, figsize=(12, 8))\n",
    "\n",
    "ax.fill_between(pred_ci.index,\n",
    "                pred_ci.iloc[:, 0],\n",
    "                pred_ci.iloc[:, 1], color='skyblue', alpha=.2)\n",
    "\n",
    "plt.title('Predicted Number of citations between 2003 and 2020')\n",
    "plt.xlabel('Date')\n",
    "plt.ylabel('Citations')\n",
    "plt.grid()\n",
    "plt.legend()\n",
    "plt.show()"
   ]
  },
  {
   "cell_type": "markdown",
   "metadata": {
    "id": "4Qhi7QJhPenf"
   },
   "source": [
    "## 7.Conduct the Grid Search with paramter selection and then predict the 2021 and 2022"
   ]
  },
  {
   "cell_type": "markdown",
   "metadata": {
    "id": "ie6-3EY_IdT3"
   },
   "source": [
    "### 7.1 Grid Search\n",
    " <div class=\"alert alert-block alert-info\">\n",
    "\n",
    "**Code**: \n",
    "  You will need to run the grid search for parameter $p=[1,2]$, \n",
    "$q=[1,2]$,\n",
    "$d=[1,2]$\n",
    "with training data on year 2003 to 2017 and testing data on 2018 to 2020\n",
    "The result of the search on each paratemer combination (eg: p=1,q=1,d=1)\n",
    "will need to be stored in the \"search-results.csv\",\n",
    "The search-results.csv will have the column of \"RMSE\" and column \"PARAMETER\".\n",
    "    <br>\n",
    "    *Keep the outputs for code in your notebook.\n",
    "</div>"
   ]
  },
  {
   "cell_type": "code",
   "execution_count": 92,
   "metadata": {
    "id": "9l3SYph7Psk3"
   },
   "outputs": [],
   "source": [
    "# your code to run grid search\n",
    "#p = list(range(1,3))\n",
    "#q = list(range(1,3))\n",
    "#d = list(range(1,3))\n",
    "#RMSE = []\n",
    "#PARAMETER = []\n",
    "import itertools\n",
    "\n",
    "p = range(1, 3)\n",
    "d = range(1,  3)\n",
    "q = range(1, 3)\n",
    "pdq = list(itertools.product(p, d, q))\n",
    "parameters = []\n",
    "RMSE = []\n",
    "#For each parameter combination, fit the model\n",
    "for param in pdq:\n",
    "    mod = SARIMAX(train.Citation, order=param)\n",
    "    model = mod.fit()\n",
    "    predictions = model.get_forecast(steps = 3).summary_frame()\n",
    "    # Make predictions\n",
    "    test['Predictions'] = list(predictions['mean'])\n",
    "    test['Predictions'] = test['Predictions'].astype('int64')\n",
    "    test = round(test,0)\n",
    "    out_ = math.sqrt(mean_squared_error(test.Citation, test.Predictions))\n",
    "    parameters.append([param])\n",
    "    RMSE.append(out_)"
   ]
  },
  {
   "cell_type": "code",
   "execution_count": 93,
   "metadata": {
    "colab": {
     "base_uri": "https://localhost:8080/",
     "height": 227
    },
    "id": "gax9Nx6zQ7hH",
    "outputId": "5a102575-ffa8-49df-a1fb-edac966d52f4"
   },
   "outputs": [
    {
     "data": {
      "text/html": [
       "<div>\n",
       "<style scoped>\n",
       "    .dataframe tbody tr th:only-of-type {\n",
       "        vertical-align: middle;\n",
       "    }\n",
       "\n",
       "    .dataframe tbody tr th {\n",
       "        vertical-align: top;\n",
       "    }\n",
       "\n",
       "    .dataframe thead th {\n",
       "        text-align: right;\n",
       "    }\n",
       "</style>\n",
       "<table border=\"1\" class=\"dataframe\">\n",
       "  <thead>\n",
       "    <tr style=\"text-align: right;\">\n",
       "      <th></th>\n",
       "      <th>PARAMETER</th>\n",
       "      <th>RMSE</th>\n",
       "    </tr>\n",
       "  </thead>\n",
       "  <tbody>\n",
       "    <tr>\n",
       "      <th>3</th>\n",
       "      <td>(1, 2, 2)</td>\n",
       "      <td>186.150477</td>\n",
       "    </tr>\n",
       "    <tr>\n",
       "      <th>2</th>\n",
       "      <td>(1, 2, 1)</td>\n",
       "      <td>198.254046</td>\n",
       "    </tr>\n",
       "    <tr>\n",
       "      <th>5</th>\n",
       "      <td>(2, 1, 2)</td>\n",
       "      <td>206.496166</td>\n",
       "    </tr>\n",
       "    <tr>\n",
       "      <th>4</th>\n",
       "      <td>(2, 1, 1)</td>\n",
       "      <td>211.412709</td>\n",
       "    </tr>\n",
       "    <tr>\n",
       "      <th>0</th>\n",
       "      <td>(1, 1, 1)</td>\n",
       "      <td>212.144605</td>\n",
       "    </tr>\n",
       "    <tr>\n",
       "      <th>6</th>\n",
       "      <td>(2, 2, 1)</td>\n",
       "      <td>213.655486</td>\n",
       "    </tr>\n",
       "  </tbody>\n",
       "</table>\n",
       "</div>"
      ],
      "text/plain": [
       "   PARAMETER        RMSE\n",
       "3  (1, 2, 2)  186.150477\n",
       "2  (1, 2, 1)  198.254046\n",
       "5  (2, 1, 2)  206.496166\n",
       "4  (2, 1, 1)  211.412709\n",
       "0  (1, 1, 1)  212.144605\n",
       "6  (2, 2, 1)  213.655486"
      ]
     },
     "metadata": {
      "tags": []
     },
     "output_type": "display_data"
    }
   ],
   "source": [
    "# your code to generate the seach-results.csv and print the top 6 rows\n",
    "#Create results dataframe\n",
    "results = pd.DataFrame(parameters,RMSE, columns = ['PARAMETER'])\n",
    "results = results.reset_index()\n",
    "results.columns = ['RMSE', 'PARAMETER']\n",
    "results = results.sort_values('RMSE', ascending = True)\n",
    "column_s = list(results.columns)\n",
    "column_s = [column_s[-1]] + column_s[:-1]\n",
    "results = results[column_s]\n",
    "display(results.head(6))\n"
   ]
  },
  {
   "cell_type": "code",
   "execution_count": 94,
   "metadata": {
    "id": "k17IEV5BWMrP"
   },
   "outputs": [],
   "source": [
    "results.to_csv('drive/MyDrive/Modern Data Science/search-results.csv', index=False)"
   ]
  },
  {
   "cell_type": "markdown",
   "metadata": {
    "id": "CTey6Y9ER0rE"
   },
   "source": [
    "### 7.2 TRAIN With Best Parameter Set with data up to 2020 and Predict the 2021 and 2022"
   ]
  },
  {
   "cell_type": "markdown",
   "metadata": {
    "id": "skoPt98jJTro"
   },
   "source": [
    "<div class=\"alert alert-block alert-info\">\n",
    "\n",
    "**Code**: \n",
    "  You will need to perform the training with Arima on data from 2003 to 2020 with best parameter you have found in last task,\n",
    "and then conduct the prediction for year 2021 and 2022.\n",
    "    <br>\n",
    "    *Keep the outputs for code in your notebook.\n",
    "</div>"
   ]
  },
  {
   "cell_type": "code",
   "execution_count": 95,
   "metadata": {
    "colab": {
     "base_uri": "https://localhost:8080/",
     "height": 712
    },
    "id": "RKSwlnWRRzQ3",
    "outputId": "55dd1b98-1d62-495e-bc08-3dfec20dfab2"
   },
   "outputs": [
    {
     "name": "stdout",
     "output_type": "stream",
     "text": [
      "===================================Coefficient Summary===================================\n",
      "                                 Statespace Model Results                                \n",
      "=========================================================================================\n",
      "Dep. Variable:                          Citation   No. Observations:                   18\n",
      "Model:             SARIMAX(1, 2, 2)x(0, 0, 5, 1)   Log Likelihood                 -79.924\n",
      "Date:                           Wed, 02 Jun 2021   AIC                            177.848\n",
      "Time:                                   09:26:57   BIC                            184.801\n",
      "Sample:                                        0   HQIC                           178.204\n",
      "                                            - 18                                         \n",
      "Covariance Type:                             opg                                         \n",
      "==============================================================================\n",
      "                 coef    std err          z      P>|z|      [0.025      0.975]\n",
      "------------------------------------------------------------------------------\n",
      "ar.L1          0.9869    581.315      0.002      0.999   -1138.369    1140.343\n",
      "ma.L1         -0.1966      3.440     -0.057      0.954      -6.938       6.545\n",
      "ma.L2          0.9673     16.405      0.059      0.953     -31.185      33.120\n",
      "ma.S.L1       -0.4034    603.395     -0.001      0.999   -1183.035    1182.228\n",
      "ma.S.L2       -0.0834    293.959     -0.000      1.000    -576.233     576.066\n",
      "ma.S.L3        0.4950    253.312      0.002      0.998    -495.988     496.978\n",
      "ma.S.L4       -0.5407    614.025     -0.001      0.999   -1204.007    1202.926\n",
      "ma.S.L5       -0.4211    276.024     -0.002      0.999    -541.419     540.577\n",
      "sigma2       708.2606   5.75e+04      0.012      0.990   -1.12e+05    1.13e+05\n",
      "===================================================================================\n",
      "Ljung-Box (Q):                         nan   Jarque-Bera (JB):                 1.17\n",
      "Prob(Q):                               nan   Prob(JB):                         0.56\n",
      "Heteroskedasticity (H):               3.33   Skew:                             0.39\n",
      "Prob(H) (two-sided):                  0.21   Kurtosis:                         1.92\n",
      "===================================================================================\n",
      "\n",
      "Warnings:\n",
      "[1] Covariance matrix calculated using the outer product of gradients (complex-step).\n",
      "\n",
      "\n",
      "====Forecasted citations for 2021 and 2022====\n"
     ]
    },
    {
     "data": {
      "text/html": [
       "<div>\n",
       "<style scoped>\n",
       "    .dataframe tbody tr th:only-of-type {\n",
       "        vertical-align: middle;\n",
       "    }\n",
       "\n",
       "    .dataframe tbody tr th {\n",
       "        vertical-align: top;\n",
       "    }\n",
       "\n",
       "    .dataframe thead th {\n",
       "        text-align: right;\n",
       "    }\n",
       "</style>\n",
       "<table border=\"1\" class=\"dataframe\">\n",
       "  <thead>\n",
       "    <tr style=\"text-align: right;\">\n",
       "      <th></th>\n",
       "      <th>Year</th>\n",
       "      <th>Forecast Citation</th>\n",
       "    </tr>\n",
       "  </thead>\n",
       "  <tbody>\n",
       "    <tr>\n",
       "      <th>0</th>\n",
       "      <td>2021</td>\n",
       "      <td>1244</td>\n",
       "    </tr>\n",
       "    <tr>\n",
       "      <th>1</th>\n",
       "      <td>2022</td>\n",
       "      <td>1786</td>\n",
       "    </tr>\n",
       "  </tbody>\n",
       "</table>\n",
       "</div>"
      ],
      "text/plain": [
       "   Year  Forecast Citation\n",
       "0  2021               1244\n",
       "1  2022               1786"
      ]
     },
     "execution_count": 95,
     "metadata": {
      "tags": []
     },
     "output_type": "execute_result"
    }
   ],
   "source": [
    "# your code to perform the Arima train on data 2003 to 2020\n",
    "#train = create_df.citation_all.values[:-1]\n",
    "\n",
    "\n",
    "# your code to perform the Arima train on data 2003 to 2020\n",
    "#train = create_df.citation_all.values[:-1]\n",
    "#Fit the ARIMA model with SARIMAX i.e. Seasonal AutoRegressive Integrated Moving Average with eXogenous regressors model due to a stationarity error\n",
    "import statsmodels.api as sm\n",
    "#Train data\n",
    "train = create_df[create_df['year']>= 2003]\n",
    "train = train[train['year']<= 2020]\n",
    "train = train.set_index('year')\n",
    "\n",
    "\n",
    "arima_ = sm.tsa.SARIMAX(train.Citation, order = tuple(results.head(1).PARAMETER)[0], seasonal_order=(0,0,5,1)) #Use the best performing parameters\n",
    "model = arima_.fit()\n",
    "# summary of fit model\n",
    "print('Coefficient Summary\\n')\n",
    "print(model.summary())\n",
    "# Your code to predict for 2021 and 2022\n",
    "#  produce two-step-ahead forecasts i.e. 2021 and 2022\n",
    "forecastss = model.forecast(2)\n",
    "# Print out the results\n",
    "years = [2021, 2022]\n",
    "res = pd.DataFrame(years)\n",
    "res.columns = ['Year']\n",
    "res['Forecast Citation'] = list(forecastss)\n",
    "res['Forecast Citation'] = res['Forecast Citation'].astype('int')\n",
    "print('\\n\\nForecasted citations for 2021 and 2022')\n",
    "res\n"
   ]
  },
  {
   "cell_type": "markdown",
   "metadata": {
    "id": "F3TCMUg1JyNj"
   },
   "source": [
    "<div class=\"alert alert-block alert-info\">\n",
    "\n",
    "**Code**: \n",
    "  You will also need to use matplotlib to draw the line plot with training data from 2013 to 2020, the prediction and also the confidence interval (95%).\n",
    "    <br>\n",
    "    *Keep the outputs for code in your notebook.\n",
    "</div>"
   ]
  },
  {
   "cell_type": "code",
   "execution_count": 114,
   "metadata": {
    "colab": {
     "base_uri": "https://localhost:8080/",
     "height": 513
    },
    "id": "PMTaDurDSVjj",
    "outputId": "004afbeb-7504-4233-a46e-063ea5e4ba11"
   },
   "outputs": [
    {
     "data": {
      "image/png": "[encoded data removed]",
      "text/plain": [
       "<Figure size 864x576 with 1 Axes>"
      ]
     },
     "metadata": {
      "needs_background": "light",
      "tags": []
     },
     "output_type": "display_data"
    }
   ],
   "source": [
    "from matplotlib.ticker import FormatStrFormatter\n",
    "# Plot the points and the prediction with its confidence interval\n",
    "fig, ax = plt.subplots(figsize=(18, 10))\n",
    "\n",
    "# Plot the data (here we are subsetting it to get a better look at the forecasts)\n",
    "\n",
    "\n",
    "\n",
    "# Construct the forecasts\n",
    "forecastss = model.get_forecast(steps = 3).summary_frame()\n",
    "pred = model.get_prediction()\n",
    "pred_ci = pred.conf_int()\n",
    "\n",
    "ax = train.Citation.plot(label='Actual')\n",
    "pred.predicted_mean.plot(ax=ax, label='Forecasted', alpha=.7, figsize=(12, 8))\n",
    "\n",
    "ax.fill_between(pred_ci.index,\n",
    "                pred_ci.iloc[:, 0],\n",
    "                pred_ci.iloc[:, 1], color='skyblue', alpha=.2)\n",
    "\n",
    "plt.title('Predicted and actual Number of citations between 2003 and 2020')\n",
    "plt.xlabel('Year')\n",
    "plt.ylabel('Number of citations')\n",
    "ax.xaxis.set_major_formatter(FormatStrFormatter('%.0f'))\n",
    "plt.grid()\n",
    "plt.legend()\n",
    "plt.show()"
   ]
  },
  {
   "cell_type": "markdown",
   "metadata": {
    "id": "_Uq7LD3ZAlt1"
   },
   "source": [
    "# Part III - Self-Reflective Essay\n",
    "\n",
    "## Overview\n",
    "\n",
    "Please check the assessment task specification details.\n"
   ]
  }
 ],
 "metadata": {
  "colab": {
   "collapsed_sections": [],
   "name": "SIT742Task2_(1).ipynb",
   "provenance": []
  },
  "kernelspec": {
   "display_name": "Python 3",
   "language": "python",
   "name": "python3"
  },
  "language_info": {
   "codemirror_mode": {
    "name": "ipython",
    "version": 3
   },
   "file_extension": ".py",
   "mimetype": "text/x-python",
   "name": "python",
   "nbconvert_exporter": "python",
   "pygments_lexer": "ipython3",
   "version": "3.7.4"
  }
 },
 "nbformat": 4,
 "nbformat_minor": 1
}
