{
 "cells": [
  {
   "cell_type": "markdown",
   "metadata": {},
   "source": [
    "# Movie recommendation system\n",
    ">Often, the question of different aspects of business including the reduction of customer attrition, expansion of market share, increment of sales, etcetera, are based on various approaches as  adopted by the underlying business. Such approaches might include but not limited to, conducting marketing campaigns tailored for various market segments, adoption of current customer satisfaction practices, use of recommendation tools, etc.\n",
    "\n",
    "> Primarily, recommender systems as observed by Shetty [1], help users discover new movieIds as well as services. This implies that, a recommender system ought to be configured such that they recommend the best movieId (that is, most relevant movieId based on user interactions). To this end, recommender systems are essential especially in today’s world where most of the goods and services are digitalized which often leads to users being overwhelmed by choice and need help finding what they're looking for. The ease of recommendation will often lead to more satisfied users and hence more sales.\n",
    "Uses of Recommender systems\n",
    "Some of the applications of recommender systems include, recommending movies, music, television programs, books, documents, websites, conferences, tourism scenic spots and learning materials.\n",
    "\n",
    "- ***Examples of recommendation systems are:***\n",
    "    1. Offering news articles to on-line newspaper readers, based on a prediction\n",
    "of reader interests.\n",
    "    2. Offering customers of an on-line retailer suggestions about what they\n",
    "might like to buy, based on their past history of purchases and/or movieId\n",
    "searches.\n",
    "    3. Recommending movies to user based on there previous watch \n",
    "    \n",
    "    \n",
    "   #### Objective\n",
    "   >In practice, there are quite a number of recommender systems which are broadly categorized into traditional and modern recommender systems. \n",
    "In an article by Sciforce blog [2], it is noted that traditional recommender systems (RSs) include content-based and collaborative filtering (CF) systems grounding their recommendations on historical interactions and user/item attributes. Content-based recommendations are mainly drawn on the user’s item and profile features, and CF seeks a similar audience’s preferences. On the other hand, modern recommender systems are mainly based on deep learning techniques such as convolutional neural networks (CNNs) which [2] observes as being a good fit for  unstructured multimedia data processing given effective feature extraction.\n",
    "\n",
    "##### Research Objective\n",
    ">The current study proposes a deep learning based recommender systems for the recommendation of movies based on an individual’s previous movie ratings. Moreover, the proposed recommender system will be based on the web UI that is proposed to be developed using Django .\n",
    "\n"
   ]
  },
  {
   "cell_type": "markdown",
   "metadata": {},
   "source": [
    "![](https://md.ekstrandom.net/talks/2014/txstate-recsys-research/movielens.png)"
   ]
  },
  {
   "cell_type": "markdown",
   "metadata": {},
   "source": [
    "# Table Of Contents\n",
    "- Exploratory Data Analysis(EDA)\n",
    "- Content based filtering\n",
    "- Deep Learning Models"
   ]
  },
  {
   "cell_type": "markdown",
   "metadata": {},
   "source": [
    "## Load Libraries "
   ]
  },
  {
   "cell_type": "code",
   "execution_count": 1288,
   "metadata": {},
   "outputs": [],
   "source": [
    "from math import sqrt\n",
    "import pandas as pd\n",
    "import numpy as np\n",
    "import seaborn as sns\n",
    "from matplotlib import pyplot as plt\n",
    "from sklearn.feature_extraction.text import TfidfVectorizer\n",
    "from sklearn.metrics.pairwise import linear_kernel\n",
    "from sklearn.model_selection import train_test_split\n",
    "from pandas.api.types import CategoricalDtype\n",
    "from scipy.sparse import  csr_matrix\n",
    "import scipy.sparse as sparse\n",
    "#Deep learning\n",
    "import keras\n",
    "import tensorflow as tf\n",
    "import warnings\n",
    "warnings.filterwarnings('ignore')\n",
    "from keras.callbacks import EarlyStopping\n",
    "from keras import backend as K\n",
    "from keras.models import Sequential, Model\n",
    "from keras.layers.core import Dense, Lambda, Activation\n",
    "from keras.layers import Embedding, Input, Dense, Reshape, Flatten, merge\n",
    "from keras.optimizers import RMSprop\n",
    "from keras.regularizers import l2\n",
    "from numpy import count_nonzero\n",
    "from tableone import TableOne, load_dataset\n",
    "from scipy import stats"
   ]
  },
  {
   "cell_type": "markdown",
   "metadata": {},
   "source": [
    "# Dataset : Small Movielens\n",
    ">Source: https://files.grouplens.org/datasets/movielens/ml-100k.zip"
   ]
  },
  {
   "cell_type": "code",
   "execution_count": 1289,
   "metadata": {},
   "outputs": [],
   "source": [
    "# Reading ratings file\n",
    "ratings = pd.read_csv('ratings.csv', sep=',', encoding='latin-1', usecols=['userId','movieId','rating','timestamp'])\n",
    "\n",
    "# Reading movies file\n",
    "movies = pd.read_csv('movies.csv', sep=',', encoding='latin-1', usecols=['movieId','title','genres'])"
   ]
  },
  {
   "cell_type": "code",
   "execution_count": 1290,
   "metadata": {},
   "outputs": [],
   "source": [
    "df_movie = movies \n",
    "df_ratings = ratings "
   ]
  },
  {
   "cell_type": "code",
   "execution_count": 1291,
   "metadata": {},
   "outputs": [],
   "source": [
    "df_movies1 = df_movie.merge(df_ratings)[['genres', 'rating']]"
   ]
  },
  {
   "cell_type": "markdown",
   "metadata": {},
   "source": [
    "#### Examine data sparsity"
   ]
  },
  {
   "cell_type": "code",
   "execution_count": 1292,
   "metadata": {},
   "outputs": [],
   "source": [
    "users = list(np.sort(ratings.userId.unique())) # Get our unique customers\n",
    "movies = list(ratings.movieId.unique()) # Get our unique products that were purchased\n",
    "rating = list(ratings.rating) # All of our purchases\n",
    "rows = ratings.userId.astype('category', users).cat.codes\n",
    "# Get the associated row indices\n",
    "cols = ratings.movieId.astype('category', movies).cat.codes\n",
    "# Get the associated column indices\n",
    "user_item = sparse.csr_matrix((rating, (rows, cols)), shape=(len(users), len(movies)))\n",
    "matrix_size = user_item.shape[0]*user_item.shape[1] # Number of possible interactions in the matrix\n",
    "num_purchases = len(user_item.nonzero()[0]) # Number of items interacted with"
   ]
  },
  {
   "cell_type": "code",
   "execution_count": 1293,
   "metadata": {},
   "outputs": [
    {
     "name": "stdout",
     "output_type": "stream",
     "text": [
      "100836 interactions\n"
     ]
    }
   ],
   "source": [
    "print(num_purchases, 'interactions')"
   ]
  },
  {
   "cell_type": "code",
   "execution_count": 1294,
   "metadata": {},
   "outputs": [
    {
     "name": "stdout",
     "output_type": "stream",
     "text": [
      "9724 Items\n"
     ]
    }
   ],
   "source": [
    "print(len(movies), 'Items')"
   ]
  },
  {
   "cell_type": "code",
   "execution_count": 1295,
   "metadata": {},
   "outputs": [
    {
     "name": "stdout",
     "output_type": "stream",
     "text": [
      "610 Users\n"
     ]
    }
   ],
   "source": [
    "print(len(users), 'Users')"
   ]
  },
  {
   "cell_type": "markdown",
   "metadata": {},
   "source": [
    "## Exploratory Data Analysis(EDA)"
   ]
  },
  {
   "cell_type": "code",
   "execution_count": 1296,
   "metadata": {},
   "outputs": [
    {
     "data": {
      "text/html": [
       "<div>\n",
       "<style scoped>\n",
       "    .dataframe tbody tr th:only-of-type {\n",
       "        vertical-align: middle;\n",
       "    }\n",
       "\n",
       "    .dataframe tbody tr th {\n",
       "        vertical-align: top;\n",
       "    }\n",
       "\n",
       "    .dataframe thead th {\n",
       "        text-align: right;\n",
       "    }\n",
       "</style>\n",
       "<table border=\"1\" class=\"dataframe\">\n",
       "  <thead>\n",
       "    <tr style=\"text-align: right;\">\n",
       "      <th></th>\n",
       "      <th>movieId</th>\n",
       "      <th>title</th>\n",
       "      <th>genres</th>\n",
       "    </tr>\n",
       "  </thead>\n",
       "  <tbody>\n",
       "    <tr>\n",
       "      <th>0</th>\n",
       "      <td>1</td>\n",
       "      <td>Toy Story (1995)</td>\n",
       "      <td>Adventure|Animation|Children|Comedy|Fantasy</td>\n",
       "    </tr>\n",
       "    <tr>\n",
       "      <th>1</th>\n",
       "      <td>2</td>\n",
       "      <td>Jumanji (1995)</td>\n",
       "      <td>Adventure|Children|Fantasy</td>\n",
       "    </tr>\n",
       "    <tr>\n",
       "      <th>2</th>\n",
       "      <td>3</td>\n",
       "      <td>Grumpier Old Men (1995)</td>\n",
       "      <td>Comedy|Romance</td>\n",
       "    </tr>\n",
       "    <tr>\n",
       "      <th>3</th>\n",
       "      <td>4</td>\n",
       "      <td>Waiting to Exhale (1995)</td>\n",
       "      <td>Comedy|Drama|Romance</td>\n",
       "    </tr>\n",
       "    <tr>\n",
       "      <th>4</th>\n",
       "      <td>5</td>\n",
       "      <td>Father of the Bride Part II (1995)</td>\n",
       "      <td>Comedy</td>\n",
       "    </tr>\n",
       "  </tbody>\n",
       "</table>\n",
       "</div>"
      ],
      "text/plain": [
       "   movieId                               title  \\\n",
       "0        1                    Toy Story (1995)   \n",
       "1        2                      Jumanji (1995)   \n",
       "2        3             Grumpier Old Men (1995)   \n",
       "3        4            Waiting to Exhale (1995)   \n",
       "4        5  Father of the Bride Part II (1995)   \n",
       "\n",
       "                                        genres  \n",
       "0  Adventure|Animation|Children|Comedy|Fantasy  \n",
       "1                   Adventure|Children|Fantasy  \n",
       "2                               Comedy|Romance  \n",
       "3                         Comedy|Drama|Romance  \n",
       "4                                       Comedy  "
      ]
     },
     "execution_count": 1296,
     "metadata": {},
     "output_type": "execute_result"
    }
   ],
   "source": [
    "df_movie.head(5)"
   ]
  },
  {
   "cell_type": "markdown",
   "metadata": {},
   "source": [
    "### Most popular genres of movie released"
   ]
  },
  {
   "cell_type": "code",
   "execution_count": 1297,
   "metadata": {},
   "outputs": [
    {
     "data": {
      "image/png": "[encoded data removed]",
      "text/plain": [
       "<Figure size 1440x504 with 1 Axes>"
      ]
     },
     "metadata": {
      "needs_background": "light"
     },
     "output_type": "display_data"
    }
   ],
   "source": [
    "plt.figure(figsize=(20,7))\n",
    "genrelist = df_movies1['genres'].apply(lambda genrelist_movie : str(genrelist_movie).split(\"|\"))\n",
    "genres_count = {}\n",
    "\n",
    "for genrelist_movie in genrelist:\n",
    "    for genre in genrelist_movie:\n",
    "        if(genres_count.get(genre,False)):\n",
    "            genres_count[genre]=genres_count[genre]+1\n",
    "        else:\n",
    "            genres_count[genre] = 1\n",
    "            \n",
    "genres_count.pop('(no genres listed)')\n",
    "genres_count = {k: v for k, v in sorted(genres_count.items(), key=lambda item: item[1], reverse=True)}\n",
    "plt.bar(genres_count.keys(),genres_count.values(),color='m')\n",
    "plt.title('Distribution of number of movies by genre')\n",
    "plt.xlabel('Genre')\n",
    "plt.ylabel('Number of movies')\n",
    "plt.grid()\n",
    "plt.show()"
   ]
  },
  {
   "cell_type": "code",
   "execution_count": 1298,
   "metadata": {},
   "outputs": [
    {
     "data": {
      "text/html": [
       "<div>\n",
       "<style scoped>\n",
       "    .dataframe tbody tr th:only-of-type {\n",
       "        vertical-align: middle;\n",
       "    }\n",
       "\n",
       "    .dataframe tbody tr th {\n",
       "        vertical-align: top;\n",
       "    }\n",
       "\n",
       "    .dataframe thead th {\n",
       "        text-align: right;\n",
       "    }\n",
       "</style>\n",
       "<table border=\"1\" class=\"dataframe\">\n",
       "  <thead>\n",
       "    <tr style=\"text-align: right;\">\n",
       "      <th></th>\n",
       "      <th>userId</th>\n",
       "      <th>movieId</th>\n",
       "      <th>rating</th>\n",
       "      <th>timestamp</th>\n",
       "    </tr>\n",
       "  </thead>\n",
       "  <tbody>\n",
       "    <tr>\n",
       "      <th>0</th>\n",
       "      <td>1</td>\n",
       "      <td>1</td>\n",
       "      <td>4.0</td>\n",
       "      <td>964982703</td>\n",
       "    </tr>\n",
       "    <tr>\n",
       "      <th>1</th>\n",
       "      <td>1</td>\n",
       "      <td>3</td>\n",
       "      <td>4.0</td>\n",
       "      <td>964981247</td>\n",
       "    </tr>\n",
       "    <tr>\n",
       "      <th>2</th>\n",
       "      <td>1</td>\n",
       "      <td>6</td>\n",
       "      <td>4.0</td>\n",
       "      <td>964982224</td>\n",
       "    </tr>\n",
       "    <tr>\n",
       "      <th>3</th>\n",
       "      <td>1</td>\n",
       "      <td>47</td>\n",
       "      <td>5.0</td>\n",
       "      <td>964983815</td>\n",
       "    </tr>\n",
       "    <tr>\n",
       "      <th>4</th>\n",
       "      <td>1</td>\n",
       "      <td>50</td>\n",
       "      <td>5.0</td>\n",
       "      <td>964982931</td>\n",
       "    </tr>\n",
       "  </tbody>\n",
       "</table>\n",
       "</div>"
      ],
      "text/plain": [
       "   userId  movieId  rating  timestamp\n",
       "0       1        1     4.0  964982703\n",
       "1       1        3     4.0  964981247\n",
       "2       1        6     4.0  964982224\n",
       "3       1       47     5.0  964983815\n",
       "4       1       50     5.0  964982931"
      ]
     },
     "execution_count": 1298,
     "metadata": {},
     "output_type": "execute_result"
    }
   ],
   "source": [
    "df_ratings.head(5)"
   ]
  },
  {
   "cell_type": "markdown",
   "metadata": {},
   "source": [
    "### Distribution of users rating"
   ]
  },
  {
   "cell_type": "code",
   "execution_count": 1299,
   "metadata": {},
   "outputs": [
    {
     "data": {
      "image/png": "[encoded data removed]",
      "text/plain": [
       "<Figure size 864x504 with 1 Axes>"
      ]
     },
     "metadata": {
      "needs_background": "light"
     },
     "output_type": "display_data"
    }
   ],
   "source": [
    "plt.figure(figsize=(12,7))\n",
    "sns.kdeplot(df_ratings[\"rating\"], color = 'steelblue');\n",
    "plt.title('Distribution of movie ratings')\n",
    "plt.grid()\n",
    "plt.show()"
   ]
  },
  {
   "cell_type": "code",
   "execution_count": 1300,
   "metadata": {
    "scrolled": true
   },
   "outputs": [
    {
     "name": "stdout",
     "output_type": "stream",
     "text": [
      "Shape of the dataframes: \n",
      " Rating DataFrame: (100836, 4)\n",
      " Movies DataFrame(9742, 3)\n"
     ]
    }
   ],
   "source": [
    "print(\"Shape of the dataframes: \\n\"+ \" Rating DataFrame: \"+ str(df_ratings.shape)+\"\\n Movies DataFrame\"+ str(df_movie.shape))"
   ]
  },
  {
   "cell_type": "code",
   "execution_count": 1301,
   "metadata": {},
   "outputs": [],
   "source": [
    "merge_movie_ratings = pd.merge(df_movie, df_ratings, on='movieId', how='inner')"
   ]
  },
  {
   "cell_type": "code",
   "execution_count": 1302,
   "metadata": {},
   "outputs": [
    {
     "data": {
      "text/html": [
       "<div>\n",
       "<style scoped>\n",
       "    .dataframe tbody tr th:only-of-type {\n",
       "        vertical-align: middle;\n",
       "    }\n",
       "\n",
       "    .dataframe tbody tr th {\n",
       "        vertical-align: top;\n",
       "    }\n",
       "\n",
       "    .dataframe thead th {\n",
       "        text-align: right;\n",
       "    }\n",
       "</style>\n",
       "<table border=\"1\" class=\"dataframe\">\n",
       "  <thead>\n",
       "    <tr style=\"text-align: right;\">\n",
       "      <th></th>\n",
       "      <th>movieId</th>\n",
       "      <th>title</th>\n",
       "      <th>genres</th>\n",
       "      <th>userId</th>\n",
       "      <th>rating</th>\n",
       "      <th>timestamp</th>\n",
       "    </tr>\n",
       "  </thead>\n",
       "  <tbody>\n",
       "    <tr>\n",
       "      <th>0</th>\n",
       "      <td>1</td>\n",
       "      <td>Toy Story (1995)</td>\n",
       "      <td>Adventure|Animation|Children|Comedy|Fantasy</td>\n",
       "      <td>1</td>\n",
       "      <td>4.0</td>\n",
       "      <td>964982703</td>\n",
       "    </tr>\n",
       "    <tr>\n",
       "      <th>1</th>\n",
       "      <td>1</td>\n",
       "      <td>Toy Story (1995)</td>\n",
       "      <td>Adventure|Animation|Children|Comedy|Fantasy</td>\n",
       "      <td>5</td>\n",
       "      <td>4.0</td>\n",
       "      <td>847434962</td>\n",
       "    </tr>\n",
       "  </tbody>\n",
       "</table>\n",
       "</div>"
      ],
      "text/plain": [
       "   movieId             title                                       genres  \\\n",
       "0        1  Toy Story (1995)  Adventure|Animation|Children|Comedy|Fantasy   \n",
       "1        1  Toy Story (1995)  Adventure|Animation|Children|Comedy|Fantasy   \n",
       "\n",
       "   userId  rating  timestamp  \n",
       "0       1     4.0  964982703  \n",
       "1       5     4.0  847434962  "
      ]
     },
     "execution_count": 1302,
     "metadata": {},
     "output_type": "execute_result"
    }
   ],
   "source": [
    "merge_movie_ratings.head(2)"
   ]
  },
  {
   "cell_type": "code",
   "execution_count": 1303,
   "metadata": {},
   "outputs": [],
   "source": [
    "merge_movie_ratings = merge_movie_ratings.drop('timestamp', axis=1)"
   ]
  },
  {
   "cell_type": "code",
   "execution_count": 1304,
   "metadata": {},
   "outputs": [
    {
     "data": {
      "text/plain": [
       "(100836, 5)"
      ]
     },
     "execution_count": 1304,
     "metadata": {},
     "output_type": "execute_result"
    }
   ],
   "source": [
    "merge_movie_ratings.shape"
   ]
  },
  {
   "cell_type": "markdown",
   "metadata": {},
   "source": [
    "Grouping the rating based on user"
   ]
  },
  {
   "cell_type": "code",
   "execution_count": 1305,
   "metadata": {},
   "outputs": [],
   "source": [
    "ratings_grouped_by_users = merge_movie_ratings.groupby('userId').agg([np.size, np.mean])"
   ]
  },
  {
   "cell_type": "code",
   "execution_count": 1306,
   "metadata": {},
   "outputs": [
    {
     "data": {
      "text/html": [
       "<div>\n",
       "<style scoped>\n",
       "    .dataframe tbody tr th:only-of-type {\n",
       "        vertical-align: middle;\n",
       "    }\n",
       "\n",
       "    .dataframe tbody tr th {\n",
       "        vertical-align: top;\n",
       "    }\n",
       "\n",
       "    .dataframe thead tr th {\n",
       "        text-align: left;\n",
       "    }\n",
       "\n",
       "    .dataframe thead tr:last-of-type th {\n",
       "        text-align: right;\n",
       "    }\n",
       "</style>\n",
       "<table border=\"1\" class=\"dataframe\">\n",
       "  <thead>\n",
       "    <tr>\n",
       "      <th></th>\n",
       "      <th colspan=\"2\" halign=\"left\">movieId</th>\n",
       "      <th colspan=\"2\" halign=\"left\">rating</th>\n",
       "    </tr>\n",
       "    <tr>\n",
       "      <th></th>\n",
       "      <th>size</th>\n",
       "      <th>mean</th>\n",
       "      <th>size</th>\n",
       "      <th>mean</th>\n",
       "    </tr>\n",
       "    <tr>\n",
       "      <th>userId</th>\n",
       "      <th></th>\n",
       "      <th></th>\n",
       "      <th></th>\n",
       "      <th></th>\n",
       "    </tr>\n",
       "  </thead>\n",
       "  <tbody>\n",
       "    <tr>\n",
       "      <th>1</th>\n",
       "      <td>232</td>\n",
       "      <td>1854.603448</td>\n",
       "      <td>232.0</td>\n",
       "      <td>4.366379</td>\n",
       "    </tr>\n",
       "    <tr>\n",
       "      <th>2</th>\n",
       "      <td>29</td>\n",
       "      <td>70350.275862</td>\n",
       "      <td>29.0</td>\n",
       "      <td>3.948276</td>\n",
       "    </tr>\n",
       "  </tbody>\n",
       "</table>\n",
       "</div>"
      ],
      "text/plain": [
       "       movieId               rating          \n",
       "          size          mean   size      mean\n",
       "userId                                       \n",
       "1          232   1854.603448  232.0  4.366379\n",
       "2           29  70350.275862   29.0  3.948276"
      ]
     },
     "execution_count": 1306,
     "metadata": {},
     "output_type": "execute_result"
    }
   ],
   "source": [
    "ratings_grouped_by_users.head(2)"
   ]
  },
  {
   "cell_type": "code",
   "execution_count": 1307,
   "metadata": {},
   "outputs": [],
   "source": [
    "ratings_grouped_by_users = ratings_grouped_by_users.drop('movieId', axis = 1)"
   ]
  },
  {
   "cell_type": "markdown",
   "metadata": {},
   "source": [
    "### Top 10 users who have rated most of the movies"
   ]
  },
  {
   "cell_type": "code",
   "execution_count": 1308,
   "metadata": {},
   "outputs": [
    {
     "data": {
      "image/png": "[encoded data removed]",
      "text/plain": [
       "<Figure size 720x360 with 1 Axes>"
      ]
     },
     "metadata": {
      "needs_background": "light"
     },
     "output_type": "display_data"
    }
   ],
   "source": [
    "ratings_grouped_by_users['rating']['size'].sort_values(ascending=False).head(10).plot(kind = 'bar', figsize = (10,5))\n",
    "plt.title('Top 10 movie reviews (users with most ratings)')\n",
    "plt.grid()\n",
    "plt.show()"
   ]
  },
  {
   "cell_type": "code",
   "execution_count": 1309,
   "metadata": {},
   "outputs": [],
   "source": [
    "ratings_grouped_by_movies = merge_movie_ratings.groupby('movieId').agg([np.mean], np.size)"
   ]
  },
  {
   "cell_type": "code",
   "execution_count": 1310,
   "metadata": {},
   "outputs": [
    {
     "data": {
      "text/plain": [
       "(9724, 2)"
      ]
     },
     "execution_count": 1310,
     "metadata": {},
     "output_type": "execute_result"
    }
   ],
   "source": [
    "ratings_grouped_by_movies.shape"
   ]
  },
  {
   "cell_type": "code",
   "execution_count": 1311,
   "metadata": {
    "scrolled": true
   },
   "outputs": [
    {
     "data": {
      "text/html": [
       "<div>\n",
       "<style scoped>\n",
       "    .dataframe tbody tr th:only-of-type {\n",
       "        vertical-align: middle;\n",
       "    }\n",
       "\n",
       "    .dataframe tbody tr th {\n",
       "        vertical-align: top;\n",
       "    }\n",
       "\n",
       "    .dataframe thead tr th {\n",
       "        text-align: left;\n",
       "    }\n",
       "\n",
       "    .dataframe thead tr:last-of-type th {\n",
       "        text-align: right;\n",
       "    }\n",
       "</style>\n",
       "<table border=\"1\" class=\"dataframe\">\n",
       "  <thead>\n",
       "    <tr>\n",
       "      <th></th>\n",
       "      <th>userId</th>\n",
       "      <th>rating</th>\n",
       "    </tr>\n",
       "    <tr>\n",
       "      <th></th>\n",
       "      <th>mean</th>\n",
       "      <th>mean</th>\n",
       "    </tr>\n",
       "    <tr>\n",
       "      <th>movieId</th>\n",
       "      <th></th>\n",
       "      <th></th>\n",
       "    </tr>\n",
       "  </thead>\n",
       "  <tbody>\n",
       "    <tr>\n",
       "      <th>1</th>\n",
       "      <td>306.530233</td>\n",
       "      <td>3.920930</td>\n",
       "    </tr>\n",
       "    <tr>\n",
       "      <th>2</th>\n",
       "      <td>329.554545</td>\n",
       "      <td>3.431818</td>\n",
       "    </tr>\n",
       "    <tr>\n",
       "      <th>3</th>\n",
       "      <td>283.596154</td>\n",
       "      <td>3.259615</td>\n",
       "    </tr>\n",
       "  </tbody>\n",
       "</table>\n",
       "</div>"
      ],
      "text/plain": [
       "             userId    rating\n",
       "               mean      mean\n",
       "movieId                      \n",
       "1        306.530233  3.920930\n",
       "2        329.554545  3.431818\n",
       "3        283.596154  3.259615"
      ]
     },
     "execution_count": 1311,
     "metadata": {},
     "output_type": "execute_result"
    }
   ],
   "source": [
    "ratings_grouped_by_movies.head(3)"
   ]
  },
  {
   "cell_type": "code",
   "execution_count": 1312,
   "metadata": {},
   "outputs": [],
   "source": [
    "ratings_grouped_by_movies = ratings_grouped_by_movies.drop('userId', axis=1)"
   ]
  },
  {
   "cell_type": "markdown",
   "metadata": {},
   "source": [
    "### Movies with high average rating"
   ]
  },
  {
   "cell_type": "code",
   "execution_count": 1313,
   "metadata": {
    "scrolled": false
   },
   "outputs": [
    {
     "data": {
      "image/png": "[encoded data removed]",
      "text/plain": [
       "<Figure size 504x432 with 1 Axes>"
      ]
     },
     "metadata": {
      "needs_background": "light"
     },
     "output_type": "display_data"
    }
   ],
   "source": [
    "ratings_grouped_by_movies['rating']['mean'].sort_values(ascending=False).head(10).plot(kind='bar',\n",
    "                                                                                       figsize=(7,6), color = 'orange');\n",
    "plt.title('Movies with the highest ratings')\n",
    "plt.grid()\n",
    "plt.show()"
   ]
  },
  {
   "cell_type": "markdown",
   "metadata": {},
   "source": [
    "### Movies with low average rating"
   ]
  },
  {
   "cell_type": "code",
   "execution_count": 1314,
   "metadata": {},
   "outputs": [],
   "source": [
    "low_rated_movies_filter = ratings_grouped_by_movies['rating']['mean']< 1.5"
   ]
  },
  {
   "cell_type": "code",
   "execution_count": 1315,
   "metadata": {},
   "outputs": [],
   "source": [
    "low_rated_movies = ratings_grouped_by_movies[low_rated_movies_filter]"
   ]
  },
  {
   "cell_type": "code",
   "execution_count": 1316,
   "metadata": {
    "scrolled": true
   },
   "outputs": [
    {
     "data": {
      "image/png": "[encoded data removed]",
      "text/plain": [
       "<Figure size 504x360 with 1 Axes>"
      ]
     },
     "metadata": {
      "needs_background": "light"
     },
     "output_type": "display_data"
    }
   ],
   "source": [
    "low_rated_movies.head(20).plot(kind='bar', figsize=(7,5));\n",
    "plt.grid()"
   ]
  },
  {
   "cell_type": "code",
   "execution_count": 1317,
   "metadata": {},
   "outputs": [
    {
     "data": {
      "text/html": [
       "<div>\n",
       "<style scoped>\n",
       "    .dataframe tbody tr th:only-of-type {\n",
       "        vertical-align: middle;\n",
       "    }\n",
       "\n",
       "    .dataframe tbody tr th {\n",
       "        vertical-align: top;\n",
       "    }\n",
       "\n",
       "    .dataframe thead tr th {\n",
       "        text-align: left;\n",
       "    }\n",
       "\n",
       "    .dataframe thead tr:last-of-type th {\n",
       "        text-align: right;\n",
       "    }\n",
       "</style>\n",
       "<table border=\"1\" class=\"dataframe\">\n",
       "  <thead>\n",
       "    <tr>\n",
       "      <th></th>\n",
       "      <th>rating</th>\n",
       "    </tr>\n",
       "    <tr>\n",
       "      <th></th>\n",
       "      <th>mean</th>\n",
       "    </tr>\n",
       "    <tr>\n",
       "      <th>movieId</th>\n",
       "      <th></th>\n",
       "    </tr>\n",
       "  </thead>\n",
       "  <tbody>\n",
       "    <tr>\n",
       "      <th>178</th>\n",
       "      <td>1.000000</td>\n",
       "    </tr>\n",
       "    <tr>\n",
       "      <th>312</th>\n",
       "      <td>1.444444</td>\n",
       "    </tr>\n",
       "    <tr>\n",
       "      <th>449</th>\n",
       "      <td>1.000000</td>\n",
       "    </tr>\n",
       "    <tr>\n",
       "      <th>470</th>\n",
       "      <td>1.000000</td>\n",
       "    </tr>\n",
       "    <tr>\n",
       "      <th>476</th>\n",
       "      <td>1.000000</td>\n",
       "    </tr>\n",
       "    <tr>\n",
       "      <th>698</th>\n",
       "      <td>1.000000</td>\n",
       "    </tr>\n",
       "    <tr>\n",
       "      <th>870</th>\n",
       "      <td>1.000000</td>\n",
       "    </tr>\n",
       "    <tr>\n",
       "      <th>1163</th>\n",
       "      <td>1.000000</td>\n",
       "    </tr>\n",
       "    <tr>\n",
       "      <th>1324</th>\n",
       "      <td>1.166667</td>\n",
       "    </tr>\n",
       "    <tr>\n",
       "      <th>1325</th>\n",
       "      <td>1.250000</td>\n",
       "    </tr>\n",
       "  </tbody>\n",
       "</table>\n",
       "</div>"
      ],
      "text/plain": [
       "           rating\n",
       "             mean\n",
       "movieId          \n",
       "178      1.000000\n",
       "312      1.444444\n",
       "449      1.000000\n",
       "470      1.000000\n",
       "476      1.000000\n",
       "698      1.000000\n",
       "870      1.000000\n",
       "1163     1.000000\n",
       "1324     1.166667\n",
       "1325     1.250000"
      ]
     },
     "execution_count": 1317,
     "metadata": {},
     "output_type": "execute_result"
    }
   ],
   "source": [
    "low_rated_movies.head(10)"
   ]
  },
  {
   "cell_type": "code",
   "execution_count": 1318,
   "metadata": {},
   "outputs": [],
   "source": [
    "#Merge\n",
    "df_movies = df_movie.merge(df_ratings)\n",
    "\n",
    "groupby = ['genres']\n",
    "nonnormal = ['movieId']\n",
    "\n",
    "df_movies = df_movies[df_movies['genres'].isin(list(genres_count.keys())[0:5])]"
   ]
  },
  {
   "cell_type": "code",
   "execution_count": 1319,
   "metadata": {},
   "outputs": [],
   "source": [
    "mytable = TableOne(df_movies,columns = ['genres', 'rating'],\n",
    "                   groupby=groupby, pval=True)"
   ]
  },
  {
   "cell_type": "code",
   "execution_count": 1320,
   "metadata": {},
   "outputs": [
    {
     "data": {
      "text/html": [
       "<div>\n",
       "<style scoped>\n",
       "    .dataframe tbody tr th:only-of-type {\n",
       "        vertical-align: middle;\n",
       "    }\n",
       "\n",
       "    .dataframe tbody tr th {\n",
       "        vertical-align: top;\n",
       "    }\n",
       "\n",
       "    .dataframe thead tr th {\n",
       "        text-align: left;\n",
       "    }\n",
       "</style>\n",
       "<table border=\"1\" class=\"dataframe\">\n",
       "  <thead>\n",
       "    <tr>\n",
       "      <th></th>\n",
       "      <th></th>\n",
       "      <th colspan=\"8\" halign=\"left\">Grouped by genres</th>\n",
       "    </tr>\n",
       "    <tr>\n",
       "      <th></th>\n",
       "      <th></th>\n",
       "      <th>Missing</th>\n",
       "      <th>Overall</th>\n",
       "      <th>Action</th>\n",
       "      <th>Adventure</th>\n",
       "      <th>Comedy</th>\n",
       "      <th>Drama</th>\n",
       "      <th>Thriller</th>\n",
       "      <th>P-Value</th>\n",
       "    </tr>\n",
       "  </thead>\n",
       "  <tbody>\n",
       "    <tr>\n",
       "      <th>n</th>\n",
       "      <th></th>\n",
       "      <td></td>\n",
       "      <td>14320</td>\n",
       "      <td>186</td>\n",
       "      <td>19</td>\n",
       "      <td>7196</td>\n",
       "      <td>6291</td>\n",
       "      <td>628</td>\n",
       "      <td></td>\n",
       "    </tr>\n",
       "    <tr>\n",
       "      <th rowspan=\"10\" valign=\"top\">rating, n (%)</th>\n",
       "      <th>0.5</th>\n",
       "      <td>0</td>\n",
       "      <td>191 (1.3)</td>\n",
       "      <td>4 (2.2)</td>\n",
       "      <td></td>\n",
       "      <td>136 (1.9)</td>\n",
       "      <td>44 (0.7)</td>\n",
       "      <td>7 (1.1)</td>\n",
       "      <td>&lt;0.001</td>\n",
       "    </tr>\n",
       "    <tr>\n",
       "      <th>1.0</th>\n",
       "      <td></td>\n",
       "      <td>486 (3.4)</td>\n",
       "      <td>13 (7.0)</td>\n",
       "      <td>1 (5.3)</td>\n",
       "      <td>348 (4.8)</td>\n",
       "      <td>99 (1.6)</td>\n",
       "      <td>25 (4.0)</td>\n",
       "      <td></td>\n",
       "    </tr>\n",
       "    <tr>\n",
       "      <th>1.5</th>\n",
       "      <td></td>\n",
       "      <td>324 (2.3)</td>\n",
       "      <td>6 (3.2)</td>\n",
       "      <td>1 (5.3)</td>\n",
       "      <td>256 (3.6)</td>\n",
       "      <td>49 (0.8)</td>\n",
       "      <td>12 (1.9)</td>\n",
       "      <td></td>\n",
       "    </tr>\n",
       "    <tr>\n",
       "      <th>2.0</th>\n",
       "      <td></td>\n",
       "      <td>1198 (8.4)</td>\n",
       "      <td>31 (16.7)</td>\n",
       "      <td>7 (36.8)</td>\n",
       "      <td>828 (11.5)</td>\n",
       "      <td>287 (4.6)</td>\n",
       "      <td>45 (7.2)</td>\n",
       "      <td></td>\n",
       "    </tr>\n",
       "    <tr>\n",
       "      <th>2.5</th>\n",
       "      <td></td>\n",
       "      <td>849 (5.9)</td>\n",
       "      <td>13 (7.0)</td>\n",
       "      <td></td>\n",
       "      <td>515 (7.2)</td>\n",
       "      <td>295 (4.7)</td>\n",
       "      <td>26 (4.1)</td>\n",
       "      <td></td>\n",
       "    </tr>\n",
       "    <tr>\n",
       "      <th>3.0</th>\n",
       "      <td></td>\n",
       "      <td>2971 (20.7)</td>\n",
       "      <td>51 (27.4)</td>\n",
       "      <td>5 (26.3)</td>\n",
       "      <td>1614 (22.4)</td>\n",
       "      <td>1144 (18.2)</td>\n",
       "      <td>157 (25.0)</td>\n",
       "      <td></td>\n",
       "    </tr>\n",
       "    <tr>\n",
       "      <th>3.5</th>\n",
       "      <td></td>\n",
       "      <td>1778 (12.4)</td>\n",
       "      <td>22 (11.8)</td>\n",
       "      <td>2 (10.5)</td>\n",
       "      <td>854 (11.9)</td>\n",
       "      <td>830 (13.2)</td>\n",
       "      <td>70 (11.1)</td>\n",
       "      <td></td>\n",
       "    </tr>\n",
       "    <tr>\n",
       "      <th>4.0</th>\n",
       "      <td></td>\n",
       "      <td>3847 (26.9)</td>\n",
       "      <td>27 (14.5)</td>\n",
       "      <td>2 (10.5)</td>\n",
       "      <td>1586 (22.0)</td>\n",
       "      <td>2055 (32.7)</td>\n",
       "      <td>177 (28.2)</td>\n",
       "      <td></td>\n",
       "    </tr>\n",
       "    <tr>\n",
       "      <th>4.5</th>\n",
       "      <td></td>\n",
       "      <td>1044 (7.3)</td>\n",
       "      <td>11 (5.9)</td>\n",
       "      <td></td>\n",
       "      <td>403 (5.6)</td>\n",
       "      <td>593 (9.4)</td>\n",
       "      <td>37 (5.9)</td>\n",
       "      <td></td>\n",
       "    </tr>\n",
       "    <tr>\n",
       "      <th>5.0</th>\n",
       "      <td></td>\n",
       "      <td>1632 (11.4)</td>\n",
       "      <td>8 (4.3)</td>\n",
       "      <td>1 (5.3)</td>\n",
       "      <td>656 (9.1)</td>\n",
       "      <td>895 (14.2)</td>\n",
       "      <td>72 (11.5)</td>\n",
       "      <td></td>\n",
       "    </tr>\n",
       "  </tbody>\n",
       "</table>\n",
       "</div><br />[1] Chi-squared tests for the following variables may be invalid due to the low number of observations: rating.<br />"
      ],
      "text/plain": [
       "                  Grouped by genres                                                                                \n",
       "                            Missing      Overall     Action Adventure       Comedy        Drama    Thriller P-Value\n",
       "n                                          14320        186        19         7196         6291         628        \n",
       "rating, n (%) 0.5                 0    191 (1.3)    4 (2.2)              136 (1.9)     44 (0.7)     7 (1.1)  <0.001\n",
       "              1.0                      486 (3.4)   13 (7.0)   1 (5.3)    348 (4.8)     99 (1.6)    25 (4.0)        \n",
       "              1.5                      324 (2.3)    6 (3.2)   1 (5.3)    256 (3.6)     49 (0.8)    12 (1.9)        \n",
       "              2.0                     1198 (8.4)  31 (16.7)  7 (36.8)   828 (11.5)    287 (4.6)    45 (7.2)        \n",
       "              2.5                      849 (5.9)   13 (7.0)              515 (7.2)    295 (4.7)    26 (4.1)        \n",
       "              3.0                    2971 (20.7)  51 (27.4)  5 (26.3)  1614 (22.4)  1144 (18.2)  157 (25.0)        \n",
       "              3.5                    1778 (12.4)  22 (11.8)  2 (10.5)   854 (11.9)   830 (13.2)   70 (11.1)        \n",
       "              4.0                    3847 (26.9)  27 (14.5)  2 (10.5)  1586 (22.0)  2055 (32.7)  177 (28.2)        \n",
       "              4.5                     1044 (7.3)   11 (5.9)              403 (5.6)    593 (9.4)    37 (5.9)        \n",
       "              5.0                    1632 (11.4)    8 (4.3)   1 (5.3)    656 (9.1)   895 (14.2)   72 (11.5)        \n",
       "[1] Chi-squared tests for the following variables may be invalid due to the low number of observations: rating."
      ]
     },
     "execution_count": 1320,
     "metadata": {},
     "output_type": "execute_result"
    }
   ],
   "source": [
    "mytable"
   ]
  },
  {
   "cell_type": "code",
   "execution_count": 1321,
   "metadata": {},
   "outputs": [],
   "source": [
    "mytable.to_excel('summary_100K.xlsx')"
   ]
  },
  {
   "cell_type": "code",
   "execution_count": 1322,
   "metadata": {},
   "outputs": [
    {
     "data": {
      "text/html": [
       "<div>\n",
       "<style scoped>\n",
       "    .dataframe tbody tr th:only-of-type {\n",
       "        vertical-align: middle;\n",
       "    }\n",
       "\n",
       "    .dataframe tbody tr th {\n",
       "        vertical-align: top;\n",
       "    }\n",
       "\n",
       "    .dataframe thead tr th {\n",
       "        text-align: left;\n",
       "    }\n",
       "</style>\n",
       "<table border=\"1\" class=\"dataframe\">\n",
       "  <thead>\n",
       "    <tr>\n",
       "      <th></th>\n",
       "      <th></th>\n",
       "      <th colspan=\"8\" halign=\"left\">Grouped by genres</th>\n",
       "    </tr>\n",
       "    <tr>\n",
       "      <th></th>\n",
       "      <th></th>\n",
       "      <th>Missing</th>\n",
       "      <th>Overall</th>\n",
       "      <th>Action</th>\n",
       "      <th>Adventure</th>\n",
       "      <th>Comedy</th>\n",
       "      <th>Drama</th>\n",
       "      <th>Thriller</th>\n",
       "      <th>P-Value</th>\n",
       "    </tr>\n",
       "  </thead>\n",
       "  <tbody>\n",
       "    <tr>\n",
       "      <th>n</th>\n",
       "      <th></th>\n",
       "      <td></td>\n",
       "      <td>14320</td>\n",
       "      <td>186</td>\n",
       "      <td>19</td>\n",
       "      <td>7196</td>\n",
       "      <td>6291</td>\n",
       "      <td>628</td>\n",
       "      <td></td>\n",
       "    </tr>\n",
       "    <tr>\n",
       "      <th rowspan=\"5\" valign=\"top\">genres, n (%)</th>\n",
       "      <th>Action</th>\n",
       "      <td>0</td>\n",
       "      <td>186 (1.3)</td>\n",
       "      <td>186 (100.0)</td>\n",
       "      <td></td>\n",
       "      <td></td>\n",
       "      <td></td>\n",
       "      <td></td>\n",
       "      <td>&lt;0.001</td>\n",
       "    </tr>\n",
       "    <tr>\n",
       "      <th>Adventure</th>\n",
       "      <td></td>\n",
       "      <td>19 (0.1)</td>\n",
       "      <td></td>\n",
       "      <td>19 (100.0)</td>\n",
       "      <td></td>\n",
       "      <td></td>\n",
       "      <td></td>\n",
       "      <td></td>\n",
       "    </tr>\n",
       "    <tr>\n",
       "      <th>Comedy</th>\n",
       "      <td></td>\n",
       "      <td>7196 (50.3)</td>\n",
       "      <td></td>\n",
       "      <td></td>\n",
       "      <td>7196 (100.0)</td>\n",
       "      <td></td>\n",
       "      <td></td>\n",
       "      <td></td>\n",
       "    </tr>\n",
       "    <tr>\n",
       "      <th>Drama</th>\n",
       "      <td></td>\n",
       "      <td>6291 (43.9)</td>\n",
       "      <td></td>\n",
       "      <td></td>\n",
       "      <td></td>\n",
       "      <td>6291 (100.0)</td>\n",
       "      <td></td>\n",
       "      <td></td>\n",
       "    </tr>\n",
       "    <tr>\n",
       "      <th>Thriller</th>\n",
       "      <td></td>\n",
       "      <td>628 (4.4)</td>\n",
       "      <td></td>\n",
       "      <td></td>\n",
       "      <td></td>\n",
       "      <td></td>\n",
       "      <td>628 (100.0)</td>\n",
       "      <td></td>\n",
       "    </tr>\n",
       "    <tr>\n",
       "      <th>rating, mean (SD)</th>\n",
       "      <th></th>\n",
       "      <td>0</td>\n",
       "      <td>3.4 (1.1)</td>\n",
       "      <td>2.9 (1.1)</td>\n",
       "      <td>2.7 (1.0)</td>\n",
       "      <td>3.2 (1.1)</td>\n",
       "      <td>3.7 (0.9)</td>\n",
       "      <td>3.4 (1.0)</td>\n",
       "      <td>&lt;0.001</td>\n",
       "    </tr>\n",
       "  </tbody>\n",
       "</table>\n",
       "</div><br />[1] Chi-squared tests for the following variables may be invalid due to the low number of observations: genres.<br />"
      ],
      "text/plain": [
       "                            Grouped by genres                                                                                       \n",
       "                                      Missing      Overall       Action   Adventure        Comedy         Drama     Thriller P-Value\n",
       "n                                                    14320          186          19          7196          6291          628        \n",
       "genres, n (%)     Action                    0    186 (1.3)  186 (100.0)                                                       <0.001\n",
       "                  Adventure                       19 (0.1)               19 (100.0)                                                 \n",
       "                  Comedy                       7196 (50.3)                           7196 (100.0)                                   \n",
       "                  Drama                        6291 (43.9)                                         6291 (100.0)                     \n",
       "                  Thriller                       628 (4.4)                                                       628 (100.0)        \n",
       "rating, mean (SD)                           0    3.4 (1.1)    2.9 (1.1)   2.7 (1.0)     3.2 (1.1)     3.7 (0.9)    3.4 (1.0)  <0.001\n",
       "[1] Chi-squared tests for the following variables may be invalid due to the low number of observations: genres."
      ]
     },
     "metadata": {},
     "output_type": "display_data"
    }
   ],
   "source": [
    "mytable = TableOne(df_movies,columns = ['genres', 'rating'],\n",
    "                   groupby=groupby, categorical=['genres'], nonnormal=nonnormal, pval=True, tukey_test=True)\n",
    "\n",
    "display(mytable)\n",
    "\n",
    "mytable.to_excel('summary_100K_test.xlsx')"
   ]
  },
  {
   "attachments": {
    "image.png": {
     "image/png": "[encoded data removed]"
    }
   },
   "cell_type": "markdown",
   "metadata": {},
   "source": [
    "### Convolutional Neural Network\n",
    "\n",
    "At any given time, based on the user interaction which can be measured using various metrics depending on the type of interactions including:\n",
    "\n",
    "- Whether a user bough an item\n",
    "- Whether a user liked the item\n",
    "- Whether a user viewed\n",
    "\n",
    "\n",
    "![image.png](attachment:image.png)\n",
    "\n",
    ">The preceding plot provides an overview of a typical CNN.\n",
    "\n",
    ">As observed from the structure proposed above, the recommender system depends on input from users. Primarily, the recommender system is built on the idea of predicting the ratings of a given user by analyzing the temporal dynamic features and the item features under the user’s time context that is to say, similar users with the same time context will have common preferences. therefore, it is very important for the CNN-based recommendation performance to choose similar users with the same context for the target user accurately.\n",
    ">The recommender system based on the predicted ratings will then recommend the top 5 highly rated movies of the given user.\n"
   ]
  },
  {
   "cell_type": "markdown",
   "metadata": {},
   "source": [
    "#### Data Preparation\n",
    "\n",
    "> (1)- Merge the dataframes to obtain complete information regarding a user, a movie and the corresponding interaction.\n",
    "\n",
    "> (2)- Split the data into test and train."
   ]
  },
  {
   "cell_type": "markdown",
   "metadata": {},
   "source": [
    "##### Merge the dataframes"
   ]
  },
  {
   "cell_type": "code",
   "execution_count": 1323,
   "metadata": {},
   "outputs": [
    {
     "data": {
      "text/plain": [
       "Index(['userId', 'movieId', 'rating', 'timestamp'], dtype='object')"
      ]
     },
     "execution_count": 1323,
     "metadata": {},
     "output_type": "execute_result"
    }
   ],
   "source": [
    "df_ratings.columns"
   ]
  },
  {
   "cell_type": "code",
   "execution_count": 1324,
   "metadata": {},
   "outputs": [
    {
     "data": {
      "text/plain": [
       "Index(['movieId', 'title', 'genres', 'userId', 'rating', 'timestamp'], dtype='object')"
      ]
     },
     "execution_count": 1324,
     "metadata": {},
     "output_type": "execute_result"
    }
   ],
   "source": [
    "df_movies.columns"
   ]
  },
  {
   "cell_type": "code",
   "execution_count": 1325,
   "metadata": {},
   "outputs": [
    {
     "data": {
      "text/html": [
       "<div>\n",
       "<style scoped>\n",
       "    .dataframe tbody tr th:only-of-type {\n",
       "        vertical-align: middle;\n",
       "    }\n",
       "\n",
       "    .dataframe tbody tr th {\n",
       "        vertical-align: top;\n",
       "    }\n",
       "\n",
       "    .dataframe thead th {\n",
       "        text-align: right;\n",
       "    }\n",
       "</style>\n",
       "<table border=\"1\" class=\"dataframe\">\n",
       "  <thead>\n",
       "    <tr style=\"text-align: right;\">\n",
       "      <th></th>\n",
       "      <th>movieId</th>\n",
       "      <th>title</th>\n",
       "      <th>genres</th>\n",
       "      <th>userId</th>\n",
       "      <th>rating</th>\n",
       "      <th>timestamp</th>\n",
       "    </tr>\n",
       "  </thead>\n",
       "  <tbody>\n",
       "    <tr>\n",
       "      <th>0</th>\n",
       "      <td>5</td>\n",
       "      <td>Father of the Bride Part II (1995)</td>\n",
       "      <td>Comedy</td>\n",
       "      <td>6</td>\n",
       "      <td>5.0</td>\n",
       "      <td>845553938</td>\n",
       "    </tr>\n",
       "    <tr>\n",
       "      <th>1</th>\n",
       "      <td>5</td>\n",
       "      <td>Father of the Bride Part II (1995)</td>\n",
       "      <td>Comedy</td>\n",
       "      <td>31</td>\n",
       "      <td>3.0</td>\n",
       "      <td>850466642</td>\n",
       "    </tr>\n",
       "    <tr>\n",
       "      <th>2</th>\n",
       "      <td>5</td>\n",
       "      <td>Father of the Bride Part II (1995)</td>\n",
       "      <td>Comedy</td>\n",
       "      <td>43</td>\n",
       "      <td>5.0</td>\n",
       "      <td>848994281</td>\n",
       "    </tr>\n",
       "    <tr>\n",
       "      <th>3</th>\n",
       "      <td>5</td>\n",
       "      <td>Father of the Bride Part II (1995)</td>\n",
       "      <td>Comedy</td>\n",
       "      <td>45</td>\n",
       "      <td>3.0</td>\n",
       "      <td>959625102</td>\n",
       "    </tr>\n",
       "    <tr>\n",
       "      <th>4</th>\n",
       "      <td>5</td>\n",
       "      <td>Father of the Bride Part II (1995)</td>\n",
       "      <td>Comedy</td>\n",
       "      <td>58</td>\n",
       "      <td>4.0</td>\n",
       "      <td>847719151</td>\n",
       "    </tr>\n",
       "  </tbody>\n",
       "</table>\n",
       "</div>"
      ],
      "text/plain": [
       "   movieId                               title  genres  userId  rating  \\\n",
       "0        5  Father of the Bride Part II (1995)  Comedy       6     5.0   \n",
       "1        5  Father of the Bride Part II (1995)  Comedy      31     3.0   \n",
       "2        5  Father of the Bride Part II (1995)  Comedy      43     5.0   \n",
       "3        5  Father of the Bride Part II (1995)  Comedy      45     3.0   \n",
       "4        5  Father of the Bride Part II (1995)  Comedy      58     4.0   \n",
       "\n",
       "   timestamp  \n",
       "0  845553938  \n",
       "1  850466642  \n",
       "2  848994281  \n",
       "3  959625102  \n",
       "4  847719151  "
      ]
     },
     "execution_count": 1325,
     "metadata": {},
     "output_type": "execute_result"
    }
   ],
   "source": [
    "#Merge the dataframes\n",
    "movie_ratings = df_movies.merge(df_ratings)\n",
    "movie_ratings.head()"
   ]
  },
  {
   "cell_type": "markdown",
   "metadata": {},
   "source": [
    "##### Split the dataframes to test and train sets"
   ]
  },
  {
   "cell_type": "code",
   "execution_count": 1326,
   "metadata": {},
   "outputs": [
    {
     "data": {
      "text/plain": [
       "((10024, 2), (4296, 2), (10024,), (4296,))"
      ]
     },
     "execution_count": 1326,
     "metadata": {},
     "output_type": "execute_result"
    }
   ],
   "source": [
    "X = movie_ratings[['userId', 'movieId']].values\n",
    "y = movie_ratings['rating'].values\n",
    "X_train, X_test, y_train, y_test = train_test_split(X, y, test_size=0.3, random_state=42)\n",
    "X_train.shape, X_test.shape, y_train.shape, y_test.shape"
   ]
  },
  {
   "cell_type": "markdown",
   "metadata": {},
   "source": [
    "#### Modeling"
   ]
  },
  {
   "cell_type": "markdown",
   "metadata": {},
   "source": [
    "We propose a deep learning collaborative recommender systems\n",
    "\n",
    "**Analysis Steps:**  \n",
    "\n",
    "1. Generate a index vector for all unique users and items\n",
    "2. 70/30 Split the train data into test and train set\n",
    "3. Generate a big 1/0 binary sparse matrix of User x items for training set\n",
    "4. Run the model on the training set\n",
    "5. Compute Mean Percentile Score on the test set prediction\n",
    "\n",
    "**Why MPR**  \n",
    "The data is in form of implicit feedback from users, implying that if a user interacted with an item, then it is an explicit action which we can observe but the abscence of an interaction can imply they either were not aware of the item, they did not like the item or that they just have yet to buy that item. \n",
    "\n",
    "Therefore, the MPR score will be computed using the average recommendation score (measured by percentile ranking) from each model.  0% is the best, 100% is the worst, anything over 50% is worse than random guessing.\n",
    "\n",
    ">Select the item ids with the highest scores and pass them as recommendations for a user."
   ]
  },
  {
   "cell_type": "code",
   "execution_count": 1327,
   "metadata": {},
   "outputs": [],
   "source": [
    "X = movie_ratings[['userId', 'movieId']]\n",
    "y = movie_ratings['rating']\n",
    "X_train, X_test, y_train, y_test = train_test_split(X, y, test_size=0.3, random_state=42)"
   ]
  },
  {
   "cell_type": "markdown",
   "metadata": {
    "_uuid": "1305f395bb9ad21c67d5f095a55690d9ae8c9a1e"
   },
   "source": [
    "### Step 1. Create a index vector for all unique users and movies"
   ]
  },
  {
   "cell_type": "code",
   "execution_count": 1328,
   "metadata": {},
   "outputs": [],
   "source": [
    "#Order the items and users\n",
    "c_movie = CategoricalDtype(sorted(movie_ratings['movieId'].unique()), ordered=True)\n",
    "c_user = CategoricalDtype(sorted(movie_ratings['userId'].unique()), ordered=True)"
   ]
  },
  {
   "cell_type": "code",
   "execution_count": 1329,
   "metadata": {},
   "outputs": [
    {
     "name": "stdout",
     "output_type": "stream",
     "text": [
      "2150\n",
      "586\n"
     ]
    }
   ],
   "source": [
    "print(len(c_movie.categories))\n",
    "print(len(c_user.categories))"
   ]
  },
  {
   "cell_type": "code",
   "execution_count": 1330,
   "metadata": {},
   "outputs": [
    {
     "name": "stdout",
     "output_type": "stream",
     "text": [
      "(10024, 2)\n",
      "(4296, 2)\n"
     ]
    }
   ],
   "source": [
    "from sklearn.model_selection import train_test_split\n",
    "train, test = train_test_split(X, test_size=0.30, random_state=420)\n",
    "print(train.shape)\n",
    "print(test.shape)"
   ]
  },
  {
   "cell_type": "code",
   "execution_count": 1331,
   "metadata": {},
   "outputs": [],
   "source": [
    "test = X_test.copy()\n",
    "train = X_train.copy()\n",
    "\n",
    "testw = test.copy()\n",
    "\n",
    "testw['userId'] = test['userId'].astype(c_user)\n",
    "\n",
    "testw['movieId'] = test['movieId'].astype(c_movie)\n",
    "\n",
    "test_pred = testw.copy()"
   ]
  },
  {
   "cell_type": "code",
   "execution_count": 1332,
   "metadata": {},
   "outputs": [
    {
     "name": "stdout",
     "output_type": "stream",
     "text": [
      "<class 'pandas.core.frame.DataFrame'>\n",
      "Int64Index: 4296 entries, 533 to 2015\n",
      "Data columns (total 2 columns):\n",
      " #   Column   Non-Null Count  Dtype   \n",
      "---  ------   --------------  -----   \n",
      " 0   userId   4296 non-null   category\n",
      " 1   movieId  4296 non-null   category\n",
      "dtypes: category(2)\n",
      "memory usage: 152.4 KB\n"
     ]
    }
   ],
   "source": [
    "testw.info()"
   ]
  },
  {
   "cell_type": "markdown",
   "metadata": {
    "_uuid": "5c970f817423d1169c943568ed8e7db6444773f3"
   },
   "source": [
    "### Step 2: Create a big 1/0 binary sparse matrix of User x items for training set"
   ]
  },
  {
   "cell_type": "code",
   "execution_count": 1333,
   "metadata": {
    "_uuid": "271293ed40ba894cedaaa0751e395eb8674a40f6"
   },
   "outputs": [
    {
     "name": "stdout",
     "output_type": "stream",
     "text": [
      "0.7956186998968172% Sparsity\n"
     ]
    }
   ],
   "source": [
    "from scipy.sparse import  csr_matrix\n",
    "train_data = csr_matrix((np.ones(len(train)), (train['userId'].astype('category').cat.codes,\n",
    "                                               train['movieId'].astype('category').cat.codes)), \n",
    "                  shape=( len(c_user.categories), len(c_movie.categories)))\n",
    "print(f'{100*train_data.sum()/(train_data.shape[0]*train_data.shape[1])}% Sparsity')"
   ]
  },
  {
   "cell_type": "markdown",
   "metadata": {
    "_uuid": "c1e18db8cbdb958a1a83fea37d3d39e26fba14f1"
   },
   "source": [
    "### Step 3. Run the model on the training set\n",
    "\n",
    "Models were testing:\n",
    "\n",
    "1. Simple Cosine Similarity on items\n",
    "\n",
    "2. Non-negative matrix factorization\n",
    "\n",
    "3. Simple Neural Collaborative Filtering\n",
    "\n",
    "\n",
    "Evaluation:\n",
    "- Recall: % of 1s in the Test set\n",
    "- MPR: Mean Percentile Rank\n",
    "\n",
    "#### Simple Cosine Similarity\n",
    "Doing this in chunks for the test set so that we don't run into memory issues.   For the recall measure, if the track's relative percentile is < 0.5 then its a 1"
   ]
  },
  {
   "cell_type": "code",
   "execution_count": 1131,
   "metadata": {
    "_uuid": "33627fc9a962776746a9907208c1cc496c0da216",
    "scrolled": true
   },
   "outputs": [
    {
     "name": "stdout",
     "output_type": "stream",
     "text": [
      "Doing Chunk 1/30\n",
      "Doing Chunk 2/30\n",
      "Doing Chunk 3/30\n",
      "Doing Chunk 4/30\n",
      "Doing Chunk 5/30\n",
      "Doing Chunk 6/30\n",
      "Doing Chunk 7/30\n",
      "Doing Chunk 8/30\n",
      "Doing Chunk 9/30\n",
      "Doing Chunk 10/30\n",
      "Doing Chunk 11/30\n",
      "Doing Chunk 12/30\n",
      "Doing Chunk 13/30\n",
      "Doing Chunk 14/30\n",
      "Doing Chunk 15/30\n",
      "Doing Chunk 16/30\n",
      "Doing Chunk 17/30\n",
      "Doing Chunk 18/30\n",
      "Doing Chunk 19/30\n",
      "Doing Chunk 20/30\n",
      "Doing Chunk 21/30\n",
      "Doing Chunk 22/30\n",
      "Doing Chunk 23/30\n",
      "Doing Chunk 24/30\n",
      "Doing Chunk 25/30\n",
      "Doing Chunk 26/30\n",
      "Doing Chunk 27/30\n",
      "Doing Chunk 28/30\n",
      "Doing Chunk 29/30\n",
      "Doing Chunk 30/30\n",
      "MPR Score: 0.42323\n",
      "Recall Score: 0.59451\n"
     ]
    }
   ],
   "source": [
    "# Simple Cosine Similarity\n",
    "from scipy.stats import percentileofscore\n",
    "def model_simple(data, pred):\n",
    "    from sklearn.metrics.pairwise import cosine_similarity\n",
    "    # Model Simple: Cosine Similarity to obtain a matrix and then find closest based on the similarity matrix\n",
    "    \n",
    "    # normalize the matrix for each user (% importance to user)\n",
    "    norm_data = data.multiply(1/data.sum(axis=1)).tocsr()\n",
    "    # apply cosine similarity\n",
    "    sim = cosine_similarity(norm_data.transpose(), dense_output=False)\n",
    "    sim[np.diag_indices(sim.shape[0])] = 0\n",
    "    denom = np.asarray(sim.sum(axis=1)).reshape(-1)\n",
    "\n",
    "    # do it in chunks else we get memory error\n",
    "    u_idx = pred['userId'].cat.codes.values\n",
    "    i_idx = pred['movieId'].cat.codes.values\n",
    "\n",
    "    n_chunks = 30\n",
    "    chunks = np.array_split(np.arange(norm_data.shape[0]), n_chunks)\n",
    "    res = []\n",
    "    previous_max = 0\n",
    "    for i,idx in enumerate(chunks):\n",
    "        print(f'Doing Chunk {i+1}/{n_chunks}')\n",
    "        score = (norm_data[idx].dot(sim)) / denom\n",
    "        score = (-score).argsort() / denom.shape[0]\n",
    "        sel = (u_idx >= idx.min()) & (u_idx <= idx.max())\n",
    "        chunk_score = np.asarray(score[u_idx[sel] - previous_max, i_idx[sel]]).reshape(-1)\n",
    "        res.append(chunk_score)\n",
    "        previous_max = idx.max() + 1\n",
    "    return np.concatenate(res)\n",
    "\n",
    "\n",
    "# Evaluate model\n",
    "model_pred = model_simple(train_data, testw)\n",
    "mpr_cosine_sim = model_pred.sum()/len(testw)\n",
    "print(f'MPR Score: {mpr_cosine_sim:.5f}')\n",
    "rec_cosine_sim = (model_pred < 0.5).sum()/len(testw)\n",
    "print(f'Recall Score: {rec_cosine_sim:.5f}')"
   ]
  },
  {
   "cell_type": "markdown",
   "metadata": {},
   "source": [
    "#### Non-Negative Matrix Factorization"
   ]
  },
  {
   "cell_type": "code",
   "execution_count": 1132,
   "metadata": {},
   "outputs": [
    {
     "name": "stdout",
     "output_type": "stream",
     "text": [
      "Doing Chunk 1/30\n",
      "Doing Chunk 2/30\n",
      "Doing Chunk 3/30\n",
      "Doing Chunk 4/30\n",
      "Doing Chunk 5/30\n",
      "Doing Chunk 6/30\n",
      "Doing Chunk 7/30\n",
      "Doing Chunk 8/30\n",
      "Doing Chunk 9/30\n",
      "Doing Chunk 10/30\n",
      "Doing Chunk 11/30\n",
      "Doing Chunk 12/30\n",
      "Doing Chunk 13/30\n",
      "Doing Chunk 14/30\n",
      "Doing Chunk 15/30\n",
      "Doing Chunk 16/30\n",
      "Doing Chunk 17/30\n",
      "Doing Chunk 18/30\n",
      "Doing Chunk 19/30\n",
      "Doing Chunk 20/30\n",
      "Doing Chunk 21/30\n",
      "Doing Chunk 22/30\n",
      "Doing Chunk 23/30\n",
      "Doing Chunk 24/30\n",
      "Doing Chunk 25/30\n",
      "Doing Chunk 26/30\n",
      "Doing Chunk 27/30\n",
      "Doing Chunk 28/30\n",
      "Doing Chunk 29/30\n",
      "Doing Chunk 30/30\n",
      "NMF MPR Score: 0.40487\n",
      "Recall Score: 0.60521\n"
     ]
    }
   ],
   "source": [
    "from sklearn.decomposition import NMF, TruncatedSVD\n",
    "\n",
    "def model_mf(data, pred, model):\n",
    "    # normalize the matrix for each user (% importance to user)\n",
    "    norm_data = data.multiply(1/data.sum(axis=1)).tocsr()\n",
    "    W = model.fit_transform(norm_data)\n",
    "    H = model.components_\n",
    "\n",
    "    # do it in chunks else we get memory error\n",
    "    u_idx = pred['userId'].cat.codes.values\n",
    "    i_idx = pred['movieId'].cat.codes.values\n",
    "    n_chunks = 30\n",
    "    chunks = np.array_split(np.arange(W.shape[0]), n_chunks)\n",
    "    res = []\n",
    "    previous_max = 0\n",
    "    for i,idx in enumerate(chunks):\n",
    "        print(f'Doing Chunk {i+1}/{n_chunks}')\n",
    "        score = (W[idx].dot(H))\n",
    "        score = (-score).argsort() / score.shape[1]\n",
    "        sel = (u_idx >= idx.min()) & (u_idx <= idx.max())\n",
    "        chunk_score = np.asarray(score[u_idx[sel] - previous_max, i_idx[sel]]).reshape(-1)\n",
    "        res.append(chunk_score)\n",
    "        previous_max = idx.max() + 1\n",
    "    return np.concatenate(res)\n",
    "\n",
    "K = 2\n",
    "\n",
    "# NMF\n",
    "#NNDSVD with zeros filled with the average of X (better when sparsity is not desired)\n",
    "model = NMF(n_components = K, init = 'nndsvd', max_iter = 1000, tol = 0.1, random_state = 1)\n",
    "model_pred1 = model_mf(train_data, testw, model)\n",
    "mpr_Non_Negative_Matrix_Factorization = model_pred1.sum()/len(testw)\n",
    "print(f'NMF MPR Score: {mpr_Non_Negative_Matrix_Factorization:.5f}')\n",
    "rec_Non_Negative_Matrix_Factorization = (model_pred1 < 0.5).sum()/len(testw)\n",
    "print(f'Recall Score: {rec_Non_Negative_Matrix_Factorization:.5f}')"
   ]
  },
  {
   "cell_type": "markdown",
   "metadata": {},
   "source": [
    "#### Neural Collaborative Filtering"
   ]
  },
  {
   "cell_type": "code",
   "execution_count": 1133,
   "metadata": {},
   "outputs": [
    {
     "name": "stdout",
     "output_type": "stream",
     "text": [
      "((12009,), (12009,), (12009,))\n"
     ]
    }
   ],
   "source": [
    "# Create the Training Set\n",
    "APPROX_NEGATIVE_SAMPLE_SIZE = int(len(train)*0.2)\n",
    "n_users = c_user.categories.shape[0]\n",
    "n_items = c_movie.categories.shape[0]\n",
    "# Create Training Set\n",
    "train_users = train['userId'].astype('category').cat.codes.values\n",
    "train_items = train['movieId'].astype('category').cat.codes.values\n",
    "train_labels = np.ones(len(train_users))\n",
    "# insert negative samples\n",
    "u = np.random.randint(n_users, size=APPROX_NEGATIVE_SAMPLE_SIZE)\n",
    "i = np.random.randint(n_items, size=APPROX_NEGATIVE_SAMPLE_SIZE)\n",
    "non_neg_idx = np.where(train_data[u,i] == 0)\n",
    "train_users = np.concatenate([train_users, u[non_neg_idx[1]]])\n",
    "train_items = np.concatenate([train_items, i[non_neg_idx[1]]])\n",
    "train_labels = np.concatenate([train_labels, np.zeros(u[non_neg_idx[1]].shape[0])])\n",
    "print((train_users.shape, train_items.shape, train_labels.shape))\n",
    "\n",
    "# random shuffle the data (because Keras takes last 10% as validation split)\n",
    "X = np.stack([train_users, train_items, train_labels], axis=1)\n",
    "np.random.shuffle(X)"
   ]
  },
  {
   "cell_type": "code",
   "execution_count": 1439,
   "metadata": {},
   "outputs": [],
   "source": [
    "import keras\n",
    "import tensorflow as tf\n",
    "import warnings\n",
    "warnings.filterwarnings('ignore')\n",
    "from keras.callbacks import EarlyStopping\n",
    "from keras import backend as K\n",
    "from keras.models import Sequential, Model\n",
    "from keras.layers.core import Dense, Lambda, Activation\n",
    "from keras.layers import Embedding, Input, Dense, Reshape, Flatten, merge\n",
    "from keras.optimizers import RMSprop\n",
    "from keras.regularizers import l2\n",
    "\n",
    "def neural_network_model(num_users, num_items, latent_dim, regs=[0,0]):\n",
    "    # Input variables\n",
    "    user_input = Input(shape=(1,), dtype='int32', name = 'user_input')\n",
    "    item_input = Input(shape=(1,), dtype='int32', name = 'item_input')\n",
    "\n",
    "    MF_Embedding_User = Embedding(input_dim = num_users, output_dim = latent_dim, name = 'user_embedding', \n",
    "                                  embeddings_regularizer = l2(regs[0]), input_length=1)\n",
    "    MF_Embedding_Item = Embedding(input_dim = num_items, output_dim = latent_dim, name = 'item_embedding',\n",
    "                                  embeddings_regularizer = l2(regs[1]), input_length=1)   \n",
    "    \n",
    "    # Crucial to flatten an embedding vector!\n",
    "    user_latent = Flatten()\n",
    "    item_latent = Flatten()\n",
    "    user_latent = Flatten()(MF_Embedding_User(user_input))\n",
    "    item_latent = Flatten()(MF_Embedding_Item(item_input))\n",
    "    \n",
    "    # Element-wise product of user and item embeddings \n",
    "    predict_vector = merge.Multiply()([user_latent, item_latent])\n",
    "    \n",
    "    # Final prediction layer\n",
    "    prediction = Dense(1, activation='sigmoid', kernel_initializer='lecun_uniform', name = 'prediction')(predict_vector)\n",
    "    \n",
    "    model = Model(inputs=[user_input, item_input], outputs=prediction)\n",
    "\n",
    "    return model\n",
    "\n",
    "# create the model\n",
    "def recall(y_true, y_pred):\n",
    "    true_positives = K.sum(K.round(K.clip(y_true * y_pred, 0, 1)))\n",
    "    possible_positives = K.sum(K.round(K.clip(y_true, 0, 1)))\n",
    "    recall = true_positives / (possible_positives + K.epsilon())\n",
    "    return recall\n",
    "\n",
    "model = neural_network_model(n_users, n_items, 50, regs = [0,0])"
   ]
  },
  {
   "cell_type": "code",
   "execution_count": 1135,
   "metadata": {},
   "outputs": [
    {
     "name": "stdout",
     "output_type": "stream",
     "text": [
      "Model: \"functional_57\"\n",
      "__________________________________________________________________________________________________\n",
      "Layer (type)                    Output Shape         Param #     Connected to                     \n",
      "==================================================================================================\n",
      "user_input (InputLayer)         [(None, 1)]          0                                            \n",
      "__________________________________________________________________________________________________\n",
      "item_input (InputLayer)         [(None, 1)]          0                                            \n",
      "__________________________________________________________________________________________________\n",
      "user_embedding (Embedding)      (None, 1, 50)        29300       user_input[0][0]                 \n",
      "__________________________________________________________________________________________________\n",
      "item_embedding (Embedding)      (None, 1, 50)        107500      item_input[0][0]                 \n",
      "__________________________________________________________________________________________________\n",
      "flatten_56 (Flatten)            (None, 50)           0           user_embedding[0][0]             \n",
      "__________________________________________________________________________________________________\n",
      "flatten_57 (Flatten)            (None, 50)           0           item_embedding[0][0]             \n",
      "__________________________________________________________________________________________________\n",
      "multiply_28 (Multiply)          (None, 50)           0           flatten_56[0][0]                 \n",
      "                                                                 flatten_57[0][0]                 \n",
      "__________________________________________________________________________________________________\n",
      "prediction (Dense)              (None, 1)            51          multiply_28[0][0]                \n",
      "==================================================================================================\n",
      "Total params: 136,851\n",
      "Trainable params: 136,851\n",
      "Non-trainable params: 0\n",
      "__________________________________________________________________________________________________\n"
     ]
    }
   ],
   "source": [
    "model.summary()"
   ]
  },
  {
   "cell_type": "code",
   "execution_count": 1136,
   "metadata": {},
   "outputs": [
    {
     "data": {
      "image/png": "[encoded data removed]",
      "text/plain": [
       "<IPython.core.display.Image object>"
      ]
     },
     "execution_count": 1136,
     "metadata": {},
     "output_type": "execute_result"
    }
   ],
   "source": [
    "from keras.utils.vis_utils import plot_model\n",
    "plot_model(model, to_file='model_plot.png', show_shapes=True, show_layer_names=True)"
   ]
  },
  {
   "cell_type": "code",
   "execution_count": 1137,
   "metadata": {},
   "outputs": [
    {
     "name": "stdout",
     "output_type": "stream",
     "text": [
      "Epoch 1/20\n",
      "1/1 [==============================] - ETA: 0s - loss: 0.6931 - accuracy: 0.4952 - recall: 0.4955WARNING:tensorflow:6 out of the last 14 calls to <function Model.make_test_function.<locals>.test_function at 0x000001E79EDA5CA0> triggered tf.function retracing. Tracing is expensive and the excessive number of tracings could be due to (1) creating @tf.function repeatedly in a loop, (2) passing tensors with different shapes, (3) passing Python objects instead of tensors. For (1), please define your @tf.function outside of the loop. For (2), @tf.function has experimental_relax_shapes=True option that relaxes argument shapes that can avoid unnecessary retracing. For (3), please refer to https://www.tensorflow.org/tutorials/customization/performance#python_or_tensor_args and https://www.tensorflow.org/api_docs/python/tf/function for  more details.\n",
      "1/1 [==============================] - 0s 297ms/step - loss: 0.6931 - accuracy: 0.4952 - recall: 0.4955 - val_loss: 0.6921 - val_accuracy: 0.8401 - val_recall: 0.9990\n",
      "Epoch 2/20\n",
      "1/1 [==============================] - 0s 20ms/step - loss: 0.6920 - accuracy: 0.8342 - recall: 1.0000 - val_loss: 0.6913 - val_accuracy: 0.8410 - val_recall: 1.0000\n",
      "Epoch 3/20\n",
      "1/1 [==============================] - 0s 37ms/step - loss: 0.6912 - accuracy: 0.8340 - recall: 1.0000 - val_loss: 0.6906 - val_accuracy: 0.8410 - val_recall: 1.0000\n",
      "Epoch 4/20\n",
      "1/1 [==============================] - 0s 20ms/step - loss: 0.6904 - accuracy: 0.8340 - recall: 1.0000 - val_loss: 0.6900 - val_accuracy: 0.8410 - val_recall: 1.0000\n",
      "Epoch 00004: early stopping\n",
      "1/1 [==============================] - 0s 976us/step - loss: 0.6886 - accuracy: 1.0000 - recall: 1.0000\n",
      "Test Loss: 0.6886206865310669   |   Test Recall: 1.0\n"
     ]
    }
   ],
   "source": [
    "\n",
    "model.compile(optimizer=RMSprop(lr=0.001), metrics = ['accuracy', recall],  loss='binary_crossentropy')\n",
    "\n",
    "# Train Model\n",
    "ES = EarlyStopping(monitor='val_loss', min_delta=0.01, patience=3, verbose=1)\n",
    "hist = model.fit([X[:,0], X[:,1]], X[:,2], batch_size=150000, epochs=20, validation_split = 0.1, verbose=1, callbacks = [ES])\n",
    "score = model.evaluate([testw['userId'].cat.codes.values, testw['movieId'].cat.codes.values], np.ones(testw.shape[0]), verbose=1, batch_size=100000)\n",
    "print(f'Test Loss: {score[0]}   |   Test Recall: {score[1]}')"
   ]
  },
  {
   "cell_type": "code",
   "execution_count": null,
   "metadata": {},
   "outputs": [],
   "source": []
  },
  {
   "cell_type": "code",
   "execution_count": 1138,
   "metadata": {},
   "outputs": [
    {
     "data": {
      "image/png": "[encoded data removed]",
      "text/plain": [
       "<Figure size 1152x288 with 2 Axes>"
      ]
     },
     "metadata": {
      "needs_background": "light"
     },
     "output_type": "display_data"
    }
   ],
   "source": [
    "# Plot it\n",
    "import matplotlib.pyplot as plt\n",
    "fig, (ax1,ax2) = plt.subplots(1,2, figsize=(16,4))\n",
    "ax1.plot(hist.history['loss'])\n",
    "ax1.plot(hist.history['val_loss'])\n",
    "ax1.set_title('Loss')\n",
    "ax1.legend(['Train', 'Test'], loc='upper left')\n",
    "ax2.plot(hist.history['recall'])\n",
    "ax2.plot(hist.history['val_recall'])\n",
    "ax2.set_title('Recall')\n",
    "ax2.legend(['Train', 'Test'], loc='upper left')\n",
    "plt.show()"
   ]
  },
  {
   "cell_type": "code",
   "execution_count": 1139,
   "metadata": {},
   "outputs": [
    {
     "name": "stdout",
     "output_type": "stream",
     "text": [
      "Doing Chunk 1/10\n",
      "3/3 [==============================] - 0s 8ms/step\n",
      "Doing Chunk 2/10\n",
      "3/3 [==============================] - 0s 9ms/step\n",
      "Doing Chunk 3/10\n",
      "3/3 [==============================] - 0s 9ms/step\n",
      "Doing Chunk 4/10\n",
      "3/3 [==============================] - 0s 7ms/step\n",
      "Doing Chunk 5/10\n",
      "3/3 [==============================] - 0s 8ms/step\n",
      "Doing Chunk 6/10\n",
      "3/3 [==============================] - 0s 9ms/step\n",
      "Doing Chunk 7/10\n",
      "3/3 [==============================] - 0s 10ms/step\n",
      "Doing Chunk 8/10\n",
      "3/3 [==============================] - 0s 10ms/step\n",
      "Doing Chunk 9/10\n",
      "3/3 [==============================] - 0s 17ms/step\n",
      "Doing Chunk 10/10\n",
      "3/3 [==============================] - 0s 7ms/step\n",
      "NCF MPR Score: 0.49279\n",
      "NCF Recall Score: 0.50442\n"
     ]
    }
   ],
   "source": [
    "\n",
    "# Calculate MPR like before\n",
    "# we do it in chunks else we get memory error\n",
    "u_idx = testw['userId'].cat.codes.values\n",
    "i_idx = testw['movieId'].cat.codes.values\n",
    "n_chunks = 10\n",
    "chunks = np.array_split(np.arange(n_users), n_chunks)\n",
    "res = []\n",
    "previous_max = 0\n",
    "for i,idx in enumerate(chunks):\n",
    "    print(f'Doing Chunk {i+1}/{n_chunks}')\n",
    "    cross_movieId = np.transpose([np.tile(np.arange(n_items), len(idx)), np.repeat(idx, len(np.arange(n_items)))])\n",
    "    score = model.predict([cross_movieId[:,1], cross_movieId[:,0]], batch_size=50000, verbose=1).reshape(idx.shape[0], n_items)\n",
    "    score = (-score).argsort() / score.shape[1]\n",
    "    sel = (u_idx >= idx.min()) & (u_idx <= idx.max())\n",
    "    chunk_score = np.asarray(score[u_idx[sel] - previous_max, i_idx[sel]]).reshape(-1)\n",
    "    res.append(chunk_score)\n",
    "    previous_max = idx.max() + 1\n",
    "mpr_NCF = np.concatenate(res).sum()/len(testw)\n",
    "print(f'NCF MPR Score: {mpr_NCF:.5f}')\n",
    "rec_NCF = (np.concatenate(res) < 0.5).sum()/len(testw)\n",
    "print(f'NCF Recall Score: {rec_NCF:.5f}')"
   ]
  },
  {
   "cell_type": "code",
   "execution_count": 1140,
   "metadata": {},
   "outputs": [
    {
     "data": {
      "text/html": [
       "<div>\n",
       "<style scoped>\n",
       "    .dataframe tbody tr th:only-of-type {\n",
       "        vertical-align: middle;\n",
       "    }\n",
       "\n",
       "    .dataframe tbody tr th {\n",
       "        vertical-align: top;\n",
       "    }\n",
       "\n",
       "    .dataframe thead th {\n",
       "        text-align: right;\n",
       "    }\n",
       "</style>\n",
       "<table border=\"1\" class=\"dataframe\">\n",
       "  <thead>\n",
       "    <tr style=\"text-align: right;\">\n",
       "      <th></th>\n",
       "      <th>userId</th>\n",
       "      <th>Recommended movieId</th>\n",
       "    </tr>\n",
       "  </thead>\n",
       "  <tbody>\n",
       "    <tr>\n",
       "      <th>4983</th>\n",
       "      <td>1</td>\n",
       "      <td>1954</td>\n",
       "    </tr>\n",
       "    <tr>\n",
       "      <th>898</th>\n",
       "      <td>1</td>\n",
       "      <td>223</td>\n",
       "    </tr>\n",
       "    <tr>\n",
       "      <th>3006</th>\n",
       "      <td>1</td>\n",
       "      <td>954</td>\n",
       "    </tr>\n",
       "    <tr>\n",
       "      <th>7524</th>\n",
       "      <td>1</td>\n",
       "      <td>3253</td>\n",
       "    </tr>\n",
       "    <tr>\n",
       "      <th>1901</th>\n",
       "      <td>1</td>\n",
       "      <td>441</td>\n",
       "    </tr>\n",
       "    <tr>\n",
       "      <th>13251</th>\n",
       "      <td>2</td>\n",
       "      <td>89774</td>\n",
       "    </tr>\n",
       "    <tr>\n",
       "      <th>11245</th>\n",
       "      <td>3</td>\n",
       "      <td>7899</td>\n",
       "    </tr>\n",
       "    <tr>\n",
       "      <th>3366</th>\n",
       "      <td>3</td>\n",
       "      <td>1124</td>\n",
       "    </tr>\n",
       "    <tr>\n",
       "      <th>7076</th>\n",
       "      <td>4</td>\n",
       "      <td>3083</td>\n",
       "    </tr>\n",
       "    <tr>\n",
       "      <th>3325</th>\n",
       "      <td>4</td>\n",
       "      <td>1103</td>\n",
       "    </tr>\n",
       "  </tbody>\n",
       "</table>\n",
       "</div>"
      ],
      "text/plain": [
       "      userId Recommended movieId\n",
       "4983       1                1954\n",
       "898        1                 223\n",
       "3006       1                 954\n",
       "7524       1                3253\n",
       "1901       1                 441\n",
       "13251      2               89774\n",
       "11245      3                7899\n",
       "3366       3                1124\n",
       "7076       4                3083\n",
       "3325       4                1103"
      ]
     },
     "execution_count": 1140,
     "metadata": {},
     "output_type": "execute_result"
    }
   ],
   "source": [
    "#Make movie predictions using the deep learning model\n",
    "test_pred['score'] = list(np.concatenate(res))\n",
    "#Select the top 5 movieIds to recommend to a user\n",
    "testf = test_pred.sort_values(['score'],ascending=False).groupby('userId').head(5)\n",
    "testf1 = testf.sort_values('userId')\n",
    "testf1 = testf1[['userId', 'movieId']]\n",
    "testf1.columns = ['userId', 'Recommended movieId']\n",
    "testf1.head(10)"
   ]
  },
  {
   "cell_type": "markdown",
   "metadata": {},
   "source": [
    "# 10M MovieLens dataset\n",
    "\n",
    ">Source: https://files.grouplens.org/datasets/movielens/ml-10m.zip"
   ]
  },
  {
   "cell_type": "code",
   "execution_count": 1334,
   "metadata": {},
   "outputs": [],
   "source": [
    "# Reading ratings file\n",
    "ratings = pd.read_csv('ml-10m/ratings.dat', sep='::',\n",
    "                      names=['userId', 'movieId', 'rating', 'timestamp']\n",
    "                      ).sort_values(\"timestamp\")\n",
    "# Reading movies file\n",
    "movies = pd.read_csv('ml-10m/movies.dat', sep='::',\n",
    "                     header=None, names=['movieId', 'title', 'genres'])"
   ]
  },
  {
   "cell_type": "code",
   "execution_count": 1342,
   "metadata": {},
   "outputs": [],
   "source": [
    "df_movie = movies\n",
    "df_ratings = ratings"
   ]
  },
  {
   "cell_type": "code",
   "execution_count": 1343,
   "metadata": {},
   "outputs": [],
   "source": [
    "df_movies1 = df_movie.merge(df_ratings)[['genres', 'rating']]"
   ]
  },
  {
   "cell_type": "markdown",
   "metadata": {},
   "source": [
    "#### Examine data sparsity"
   ]
  },
  {
   "cell_type": "code",
   "execution_count": 1344,
   "metadata": {},
   "outputs": [
    {
     "name": "stdout",
     "output_type": "stream",
     "text": [
      "98.6597 % Sparsity\n"
     ]
    }
   ],
   "source": [
    "users = list(np.sort(ratings.userId.unique())) # Get our unique customers\n",
    "movies = list(ratings.movieId.unique()) # Get our unique products that were purchased\n",
    "rating = list(ratings.rating) # All of our purchases\n",
    "rows = ratings.userId.astype('category', users).cat.codes\n",
    "# Get the associated row indices\n",
    "cols = ratings.movieId.astype('category', movies).cat.codes\n",
    "# Get the associated column indices\n",
    "user_item = sparse.csr_matrix((rating, (rows, cols)), shape=(len(users), len(movies)))\n",
    "matrix_size = user_item.shape[0]*user_item.shape[1] # Number of possible interactions in the matrix\n",
    "num_purchases = len(user_item.nonzero()[0]) # Number of items interacted with\n",
    "sparsity = 100*(1 - (1.0*num_purchases/matrix_size))\n",
    "print(f'{round(sparsity,4)} % Sparsity')"
   ]
  },
  {
   "cell_type": "code",
   "execution_count": 1345,
   "metadata": {},
   "outputs": [
    {
     "name": "stdout",
     "output_type": "stream",
     "text": [
      "10000054 interactions\n"
     ]
    }
   ],
   "source": [
    "print(num_purchases, 'interactions')"
   ]
  },
  {
   "cell_type": "code",
   "execution_count": 1346,
   "metadata": {},
   "outputs": [
    {
     "name": "stdout",
     "output_type": "stream",
     "text": [
      "10677 Items\n"
     ]
    }
   ],
   "source": [
    "print(len(movies), 'Items')"
   ]
  },
  {
   "cell_type": "code",
   "execution_count": 1347,
   "metadata": {},
   "outputs": [
    {
     "name": "stdout",
     "output_type": "stream",
     "text": [
      "69878 Users\n"
     ]
    }
   ],
   "source": [
    "print(len(users), 'Users')"
   ]
  },
  {
   "cell_type": "markdown",
   "metadata": {},
   "source": [
    "### Exploratory Data Analysis(EDA)"
   ]
  },
  {
   "cell_type": "code",
   "execution_count": 1348,
   "metadata": {},
   "outputs": [
    {
     "data": {
      "text/html": [
       "<div>\n",
       "<style scoped>\n",
       "    .dataframe tbody tr th:only-of-type {\n",
       "        vertical-align: middle;\n",
       "    }\n",
       "\n",
       "    .dataframe tbody tr th {\n",
       "        vertical-align: top;\n",
       "    }\n",
       "\n",
       "    .dataframe thead th {\n",
       "        text-align: right;\n",
       "    }\n",
       "</style>\n",
       "<table border=\"1\" class=\"dataframe\">\n",
       "  <thead>\n",
       "    <tr style=\"text-align: right;\">\n",
       "      <th></th>\n",
       "      <th>movieId</th>\n",
       "      <th>title</th>\n",
       "      <th>genres</th>\n",
       "    </tr>\n",
       "  </thead>\n",
       "  <tbody>\n",
       "    <tr>\n",
       "      <th>0</th>\n",
       "      <td>1</td>\n",
       "      <td>Toy Story (1995)</td>\n",
       "      <td>Adventure|Animation|Children|Comedy|Fantasy</td>\n",
       "    </tr>\n",
       "    <tr>\n",
       "      <th>1</th>\n",
       "      <td>2</td>\n",
       "      <td>Jumanji (1995)</td>\n",
       "      <td>Adventure|Children|Fantasy</td>\n",
       "    </tr>\n",
       "    <tr>\n",
       "      <th>2</th>\n",
       "      <td>3</td>\n",
       "      <td>Grumpier Old Men (1995)</td>\n",
       "      <td>Comedy|Romance</td>\n",
       "    </tr>\n",
       "    <tr>\n",
       "      <th>3</th>\n",
       "      <td>4</td>\n",
       "      <td>Waiting to Exhale (1995)</td>\n",
       "      <td>Comedy|Drama|Romance</td>\n",
       "    </tr>\n",
       "    <tr>\n",
       "      <th>4</th>\n",
       "      <td>5</td>\n",
       "      <td>Father of the Bride Part II (1995)</td>\n",
       "      <td>Comedy</td>\n",
       "    </tr>\n",
       "  </tbody>\n",
       "</table>\n",
       "</div>"
      ],
      "text/plain": [
       "   movieId                               title  \\\n",
       "0        1                    Toy Story (1995)   \n",
       "1        2                      Jumanji (1995)   \n",
       "2        3             Grumpier Old Men (1995)   \n",
       "3        4            Waiting to Exhale (1995)   \n",
       "4        5  Father of the Bride Part II (1995)   \n",
       "\n",
       "                                        genres  \n",
       "0  Adventure|Animation|Children|Comedy|Fantasy  \n",
       "1                   Adventure|Children|Fantasy  \n",
       "2                               Comedy|Romance  \n",
       "3                         Comedy|Drama|Romance  \n",
       "4                                       Comedy  "
      ]
     },
     "execution_count": 1348,
     "metadata": {},
     "output_type": "execute_result"
    }
   ],
   "source": [
    "df_movie.head(5)"
   ]
  },
  {
   "cell_type": "markdown",
   "metadata": {},
   "source": [
    "### Most popular genres of movie released"
   ]
  },
  {
   "cell_type": "code",
   "execution_count": 1349,
   "metadata": {},
   "outputs": [
    {
     "data": {
      "image/png": "[encoded data removed]",
      "text/plain": [
       "<Figure size 1440x504 with 1 Axes>"
      ]
     },
     "metadata": {
      "needs_background": "light"
     },
     "output_type": "display_data"
    }
   ],
   "source": [
    "plt.figure(figsize=(20,7))\n",
    "genrelist = df_movies1['genres'].apply(lambda genrelist_movie : str(genrelist_movie).split(\"|\"))\n",
    "genres_count = {}\n",
    "\n",
    "for genrelist_movie in genrelist:\n",
    "    for genre in genrelist_movie:\n",
    "        if(genres_count.get(genre,False)):\n",
    "            genres_count[genre]=genres_count[genre]+1\n",
    "        else:\n",
    "            genres_count[genre] = 1\n",
    "            \n",
    "genres_count.pop('(no genres listed)')\n",
    "genres_count = {k: v for k, v in sorted(genres_count.items(), key=lambda item: item[1], reverse=True)}\n",
    "plt.bar(genres_count.keys(),genres_count.values(),color='steelblue')\n",
    "plt.title('Distribution of number of movies by genre')\n",
    "plt.xlabel('Genre')\n",
    "plt.ylabel('Number of movies')\n",
    "plt.grid()\n",
    "plt.show()"
   ]
  },
  {
   "cell_type": "code",
   "execution_count": 1350,
   "metadata": {},
   "outputs": [
    {
     "data": {
      "text/html": [
       "<div>\n",
       "<style scoped>\n",
       "    .dataframe tbody tr th:only-of-type {\n",
       "        vertical-align: middle;\n",
       "    }\n",
       "\n",
       "    .dataframe tbody tr th {\n",
       "        vertical-align: top;\n",
       "    }\n",
       "\n",
       "    .dataframe thead th {\n",
       "        text-align: right;\n",
       "    }\n",
       "</style>\n",
       "<table border=\"1\" class=\"dataframe\">\n",
       "  <thead>\n",
       "    <tr style=\"text-align: right;\">\n",
       "      <th></th>\n",
       "      <th>userId</th>\n",
       "      <th>movieId</th>\n",
       "      <th>rating</th>\n",
       "      <th>timestamp</th>\n",
       "    </tr>\n",
       "  </thead>\n",
       "  <tbody>\n",
       "    <tr>\n",
       "      <th>5167075</th>\n",
       "      <td>36955</td>\n",
       "      <td>21</td>\n",
       "      <td>3.0</td>\n",
       "      <td>789652009</td>\n",
       "    </tr>\n",
       "    <tr>\n",
       "      <th>5167081</th>\n",
       "      <td>36955</td>\n",
       "      <td>47</td>\n",
       "      <td>5.0</td>\n",
       "      <td>789652009</td>\n",
       "    </tr>\n",
       "    <tr>\n",
       "      <th>5167124</th>\n",
       "      <td>36955</td>\n",
       "      <td>1079</td>\n",
       "      <td>3.0</td>\n",
       "      <td>789652009</td>\n",
       "    </tr>\n",
       "    <tr>\n",
       "      <th>4961485</th>\n",
       "      <td>35435</td>\n",
       "      <td>45</td>\n",
       "      <td>5.0</td>\n",
       "      <td>822873600</td>\n",
       "    </tr>\n",
       "    <tr>\n",
       "      <th>4961483</th>\n",
       "      <td>35435</td>\n",
       "      <td>21</td>\n",
       "      <td>5.0</td>\n",
       "      <td>822873600</td>\n",
       "    </tr>\n",
       "  </tbody>\n",
       "</table>\n",
       "</div>"
      ],
      "text/plain": [
       "         userId  movieId  rating  timestamp\n",
       "5167075   36955       21     3.0  789652009\n",
       "5167081   36955       47     5.0  789652009\n",
       "5167124   36955     1079     3.0  789652009\n",
       "4961485   35435       45     5.0  822873600\n",
       "4961483   35435       21     5.0  822873600"
      ]
     },
     "execution_count": 1350,
     "metadata": {},
     "output_type": "execute_result"
    }
   ],
   "source": [
    "df_ratings.head(5)"
   ]
  },
  {
   "cell_type": "markdown",
   "metadata": {},
   "source": [
    "### Distribution of users rating"
   ]
  },
  {
   "cell_type": "code",
   "execution_count": 1351,
   "metadata": {},
   "outputs": [
    {
     "data": {
      "image/png": "[encoded data removed]",
      "text/plain": [
       "<Figure size 864x504 with 1 Axes>"
      ]
     },
     "metadata": {
      "needs_background": "light"
     },
     "output_type": "display_data"
    }
   ],
   "source": [
    "plt.figure(figsize=(12,7))\n",
    "sns.kdeplot(df_ratings[\"rating\"], color = 'steelblue');\n",
    "plt.title('Distribution of movie ratings')\n",
    "plt.grid()\n",
    "plt.show()"
   ]
  },
  {
   "cell_type": "code",
   "execution_count": 1352,
   "metadata": {
    "scrolled": true
   },
   "outputs": [
    {
     "name": "stdout",
     "output_type": "stream",
     "text": [
      "Shape of the dataframes: \n",
      " Rating DataFrame: (10000054, 4)\n",
      " Movies DataFrame(10681, 3)\n"
     ]
    }
   ],
   "source": [
    "print(\"Shape of the dataframes: \\n\"+ \" Rating DataFrame: \"+ str(df_ratings.shape)+\"\\n Movies DataFrame\"+ str(df_movie.shape))"
   ]
  },
  {
   "cell_type": "code",
   "execution_count": 1353,
   "metadata": {},
   "outputs": [],
   "source": [
    "merge_movie_ratings = pd.merge(df_movie, df_ratings, on='movieId', how='inner')"
   ]
  },
  {
   "cell_type": "code",
   "execution_count": 1354,
   "metadata": {},
   "outputs": [
    {
     "data": {
      "text/html": [
       "<div>\n",
       "<style scoped>\n",
       "    .dataframe tbody tr th:only-of-type {\n",
       "        vertical-align: middle;\n",
       "    }\n",
       "\n",
       "    .dataframe tbody tr th {\n",
       "        vertical-align: top;\n",
       "    }\n",
       "\n",
       "    .dataframe thead th {\n",
       "        text-align: right;\n",
       "    }\n",
       "</style>\n",
       "<table border=\"1\" class=\"dataframe\">\n",
       "  <thead>\n",
       "    <tr style=\"text-align: right;\">\n",
       "      <th></th>\n",
       "      <th>movieId</th>\n",
       "      <th>title</th>\n",
       "      <th>genres</th>\n",
       "      <th>userId</th>\n",
       "      <th>rating</th>\n",
       "      <th>timestamp</th>\n",
       "    </tr>\n",
       "  </thead>\n",
       "  <tbody>\n",
       "    <tr>\n",
       "      <th>0</th>\n",
       "      <td>1</td>\n",
       "      <td>Toy Story (1995)</td>\n",
       "      <td>Adventure|Animation|Children|Comedy|Fantasy</td>\n",
       "      <td>35139</td>\n",
       "      <td>4.0</td>\n",
       "      <td>822873600</td>\n",
       "    </tr>\n",
       "    <tr>\n",
       "      <th>1</th>\n",
       "      <td>1</td>\n",
       "      <td>Toy Story (1995)</td>\n",
       "      <td>Adventure|Animation|Children|Comedy|Fantasy</td>\n",
       "      <td>36008</td>\n",
       "      <td>5.0</td>\n",
       "      <td>823185203</td>\n",
       "    </tr>\n",
       "  </tbody>\n",
       "</table>\n",
       "</div>"
      ],
      "text/plain": [
       "   movieId             title                                       genres  \\\n",
       "0        1  Toy Story (1995)  Adventure|Animation|Children|Comedy|Fantasy   \n",
       "1        1  Toy Story (1995)  Adventure|Animation|Children|Comedy|Fantasy   \n",
       "\n",
       "   userId  rating  timestamp  \n",
       "0   35139     4.0  822873600  \n",
       "1   36008     5.0  823185203  "
      ]
     },
     "execution_count": 1354,
     "metadata": {},
     "output_type": "execute_result"
    }
   ],
   "source": [
    "merge_movie_ratings.head(2)"
   ]
  },
  {
   "cell_type": "code",
   "execution_count": 1355,
   "metadata": {},
   "outputs": [],
   "source": [
    "merge_movie_ratings = merge_movie_ratings.drop('timestamp', axis=1)"
   ]
  },
  {
   "cell_type": "code",
   "execution_count": 1356,
   "metadata": {},
   "outputs": [
    {
     "data": {
      "text/plain": [
       "(10000054, 5)"
      ]
     },
     "execution_count": 1356,
     "metadata": {},
     "output_type": "execute_result"
    }
   ],
   "source": [
    "merge_movie_ratings.shape"
   ]
  },
  {
   "cell_type": "markdown",
   "metadata": {},
   "source": [
    "Grouping the rating based on user"
   ]
  },
  {
   "cell_type": "code",
   "execution_count": 1357,
   "metadata": {},
   "outputs": [],
   "source": [
    "ratings_grouped_by_users = merge_movie_ratings.groupby('userId').agg([np.size, np.mean])"
   ]
  },
  {
   "cell_type": "code",
   "execution_count": 1358,
   "metadata": {},
   "outputs": [
    {
     "data": {
      "text/html": [
       "<div>\n",
       "<style scoped>\n",
       "    .dataframe tbody tr th:only-of-type {\n",
       "        vertical-align: middle;\n",
       "    }\n",
       "\n",
       "    .dataframe tbody tr th {\n",
       "        vertical-align: top;\n",
       "    }\n",
       "\n",
       "    .dataframe thead tr th {\n",
       "        text-align: left;\n",
       "    }\n",
       "\n",
       "    .dataframe thead tr:last-of-type th {\n",
       "        text-align: right;\n",
       "    }\n",
       "</style>\n",
       "<table border=\"1\" class=\"dataframe\">\n",
       "  <thead>\n",
       "    <tr>\n",
       "      <th></th>\n",
       "      <th colspan=\"2\" halign=\"left\">movieId</th>\n",
       "      <th colspan=\"2\" halign=\"left\">rating</th>\n",
       "    </tr>\n",
       "    <tr>\n",
       "      <th></th>\n",
       "      <th>size</th>\n",
       "      <th>mean</th>\n",
       "      <th>size</th>\n",
       "      <th>mean</th>\n",
       "    </tr>\n",
       "    <tr>\n",
       "      <th>userId</th>\n",
       "      <th></th>\n",
       "      <th></th>\n",
       "      <th></th>\n",
       "      <th></th>\n",
       "    </tr>\n",
       "  </thead>\n",
       "  <tbody>\n",
       "    <tr>\n",
       "      <th>1</th>\n",
       "      <td>22</td>\n",
       "      <td>411.681818</td>\n",
       "      <td>22.0</td>\n",
       "      <td>5.0</td>\n",
       "    </tr>\n",
       "    <tr>\n",
       "      <th>2</th>\n",
       "      <td>20</td>\n",
       "      <td>785.550000</td>\n",
       "      <td>20.0</td>\n",
       "      <td>3.2</td>\n",
       "    </tr>\n",
       "  </tbody>\n",
       "</table>\n",
       "</div>"
      ],
      "text/plain": [
       "       movieId             rating     \n",
       "          size        mean   size mean\n",
       "userId                                \n",
       "1           22  411.681818   22.0  5.0\n",
       "2           20  785.550000   20.0  3.2"
      ]
     },
     "execution_count": 1358,
     "metadata": {},
     "output_type": "execute_result"
    }
   ],
   "source": [
    "ratings_grouped_by_users.head(2)"
   ]
  },
  {
   "cell_type": "code",
   "execution_count": 1359,
   "metadata": {},
   "outputs": [],
   "source": [
    "ratings_grouped_by_users = ratings_grouped_by_users.drop('movieId', axis = 1)"
   ]
  },
  {
   "cell_type": "markdown",
   "metadata": {},
   "source": [
    "### Top 10 users who have rated most of the movies"
   ]
  },
  {
   "cell_type": "code",
   "execution_count": 1360,
   "metadata": {},
   "outputs": [
    {
     "data": {
      "image/png": "[encoded data removed]",
      "text/plain": [
       "<Figure size 720x360 with 1 Axes>"
      ]
     },
     "metadata": {
      "needs_background": "light"
     },
     "output_type": "display_data"
    }
   ],
   "source": [
    "ratings_grouped_by_users['rating']['size'].sort_values(ascending=False).head(10).plot(kind = 'bar', figsize = (10,5))\n",
    "plt.title('Top 10 movie reviews (users with most ratings)')\n",
    "plt.grid()\n",
    "plt.show()"
   ]
  },
  {
   "cell_type": "code",
   "execution_count": 1361,
   "metadata": {},
   "outputs": [],
   "source": [
    "ratings_grouped_by_movies = merge_movie_ratings.groupby('movieId').agg([np.mean], np.size)"
   ]
  },
  {
   "cell_type": "code",
   "execution_count": 1362,
   "metadata": {},
   "outputs": [
    {
     "data": {
      "text/plain": [
       "(10677, 2)"
      ]
     },
     "execution_count": 1362,
     "metadata": {},
     "output_type": "execute_result"
    }
   ],
   "source": [
    "ratings_grouped_by_movies.shape"
   ]
  },
  {
   "cell_type": "code",
   "execution_count": 1363,
   "metadata": {
    "scrolled": true
   },
   "outputs": [
    {
     "data": {
      "text/html": [
       "<div>\n",
       "<style scoped>\n",
       "    .dataframe tbody tr th:only-of-type {\n",
       "        vertical-align: middle;\n",
       "    }\n",
       "\n",
       "    .dataframe tbody tr th {\n",
       "        vertical-align: top;\n",
       "    }\n",
       "\n",
       "    .dataframe thead tr th {\n",
       "        text-align: left;\n",
       "    }\n",
       "\n",
       "    .dataframe thead tr:last-of-type th {\n",
       "        text-align: right;\n",
       "    }\n",
       "</style>\n",
       "<table border=\"1\" class=\"dataframe\">\n",
       "  <thead>\n",
       "    <tr>\n",
       "      <th></th>\n",
       "      <th>userId</th>\n",
       "      <th>rating</th>\n",
       "    </tr>\n",
       "    <tr>\n",
       "      <th></th>\n",
       "      <th>mean</th>\n",
       "      <th>mean</th>\n",
       "    </tr>\n",
       "    <tr>\n",
       "      <th>movieId</th>\n",
       "      <th></th>\n",
       "      <th></th>\n",
       "    </tr>\n",
       "  </thead>\n",
       "  <tbody>\n",
       "    <tr>\n",
       "      <th>1</th>\n",
       "      <td>35520.163787</td>\n",
       "      <td>3.928769</td>\n",
       "    </tr>\n",
       "    <tr>\n",
       "      <th>2</th>\n",
       "      <td>35868.424701</td>\n",
       "      <td>3.208070</td>\n",
       "    </tr>\n",
       "    <tr>\n",
       "      <th>3</th>\n",
       "      <td>35311.554685</td>\n",
       "      <td>3.150385</td>\n",
       "    </tr>\n",
       "  </tbody>\n",
       "</table>\n",
       "</div>"
      ],
      "text/plain": [
       "               userId    rating\n",
       "                 mean      mean\n",
       "movieId                        \n",
       "1        35520.163787  3.928769\n",
       "2        35868.424701  3.208070\n",
       "3        35311.554685  3.150385"
      ]
     },
     "execution_count": 1363,
     "metadata": {},
     "output_type": "execute_result"
    }
   ],
   "source": [
    "ratings_grouped_by_movies.head(3)"
   ]
  },
  {
   "cell_type": "code",
   "execution_count": 1364,
   "metadata": {},
   "outputs": [],
   "source": [
    "ratings_grouped_by_movies = ratings_grouped_by_movies.drop('userId', axis=1)"
   ]
  },
  {
   "cell_type": "markdown",
   "metadata": {},
   "source": [
    "### Movies with high average rating"
   ]
  },
  {
   "cell_type": "code",
   "execution_count": 1365,
   "metadata": {
    "scrolled": false
   },
   "outputs": [
    {
     "data": {
      "image/png": "[encoded data removed]",
      "text/plain": [
       "<Figure size 504x432 with 1 Axes>"
      ]
     },
     "metadata": {
      "needs_background": "light"
     },
     "output_type": "display_data"
    }
   ],
   "source": [
    "ratings_grouped_by_movies['rating']['mean'].sort_values(ascending=False).head(10).plot(kind='bar',\n",
    "                                                                                       figsize=(7,6), color = 'orange');\n",
    "plt.title('Movies with the highest ratings')\n",
    "plt.grid()\n",
    "plt.show()"
   ]
  },
  {
   "cell_type": "markdown",
   "metadata": {},
   "source": [
    "### Movies with low average rating"
   ]
  },
  {
   "cell_type": "code",
   "execution_count": 1366,
   "metadata": {},
   "outputs": [],
   "source": [
    "low_rated_movies_filter = ratings_grouped_by_movies['rating']['mean']< 1.5"
   ]
  },
  {
   "cell_type": "code",
   "execution_count": 1367,
   "metadata": {},
   "outputs": [],
   "source": [
    "low_rated_movies = ratings_grouped_by_movies[low_rated_movies_filter]"
   ]
  },
  {
   "cell_type": "code",
   "execution_count": 1368,
   "metadata": {
    "scrolled": true
   },
   "outputs": [
    {
     "data": {
      "image/png": "[encoded data removed]",
      "text/plain": [
       "<Figure size 504x360 with 1 Axes>"
      ]
     },
     "metadata": {
      "needs_background": "light"
     },
     "output_type": "display_data"
    }
   ],
   "source": [
    "low_rated_movies.head(20).plot(kind='bar', figsize=(7,5));\n",
    "plt.grid()"
   ]
  },
  {
   "cell_type": "code",
   "execution_count": 1369,
   "metadata": {},
   "outputs": [
    {
     "data": {
      "text/html": [
       "<div>\n",
       "<style scoped>\n",
       "    .dataframe tbody tr th:only-of-type {\n",
       "        vertical-align: middle;\n",
       "    }\n",
       "\n",
       "    .dataframe tbody tr th {\n",
       "        vertical-align: top;\n",
       "    }\n",
       "\n",
       "    .dataframe thead tr th {\n",
       "        text-align: left;\n",
       "    }\n",
       "\n",
       "    .dataframe thead tr:last-of-type th {\n",
       "        text-align: right;\n",
       "    }\n",
       "</style>\n",
       "<table border=\"1\" class=\"dataframe\">\n",
       "  <thead>\n",
       "    <tr>\n",
       "      <th></th>\n",
       "      <th>rating</th>\n",
       "    </tr>\n",
       "    <tr>\n",
       "      <th></th>\n",
       "      <th>mean</th>\n",
       "    </tr>\n",
       "    <tr>\n",
       "      <th>movieId</th>\n",
       "      <th></th>\n",
       "    </tr>\n",
       "  </thead>\n",
       "  <tbody>\n",
       "    <tr>\n",
       "      <th>1495</th>\n",
       "      <td>1.360227</td>\n",
       "    </tr>\n",
       "    <tr>\n",
       "      <th>1739</th>\n",
       "      <td>1.464286</td>\n",
       "    </tr>\n",
       "    <tr>\n",
       "      <th>1826</th>\n",
       "      <td>1.175214</td>\n",
       "    </tr>\n",
       "    <tr>\n",
       "      <th>1990</th>\n",
       "      <td>1.356436</td>\n",
       "    </tr>\n",
       "    <tr>\n",
       "      <th>3027</th>\n",
       "      <td>1.138889</td>\n",
       "    </tr>\n",
       "    <tr>\n",
       "      <th>3561</th>\n",
       "      <td>1.000000</td>\n",
       "    </tr>\n",
       "    <tr>\n",
       "      <th>3573</th>\n",
       "      <td>1.367647</td>\n",
       "    </tr>\n",
       "    <tr>\n",
       "      <th>3574</th>\n",
       "      <td>1.120253</td>\n",
       "    </tr>\n",
       "    <tr>\n",
       "      <th>3904</th>\n",
       "      <td>1.250000</td>\n",
       "    </tr>\n",
       "    <tr>\n",
       "      <th>3940</th>\n",
       "      <td>1.491667</td>\n",
       "    </tr>\n",
       "  </tbody>\n",
       "</table>\n",
       "</div>"
      ],
      "text/plain": [
       "           rating\n",
       "             mean\n",
       "movieId          \n",
       "1495     1.360227\n",
       "1739     1.464286\n",
       "1826     1.175214\n",
       "1990     1.356436\n",
       "3027     1.138889\n",
       "3561     1.000000\n",
       "3573     1.367647\n",
       "3574     1.120253\n",
       "3904     1.250000\n",
       "3940     1.491667"
      ]
     },
     "execution_count": 1369,
     "metadata": {},
     "output_type": "execute_result"
    }
   ],
   "source": [
    "low_rated_movies.head(10)"
   ]
  },
  {
   "cell_type": "code",
   "execution_count": 1370,
   "metadata": {},
   "outputs": [],
   "source": [
    "#Merge\n",
    "df_movies = df_movie.merge(df_ratings)\n",
    "\n",
    "groupby = ['genres']\n",
    "nonnormal = ['movieId']\n",
    "\n",
    "df_movies = df_movies[df_movies['genres'].isin(list(genres_count.keys())[0:5])]"
   ]
  },
  {
   "cell_type": "code",
   "execution_count": 1371,
   "metadata": {},
   "outputs": [],
   "source": [
    "mytable = TableOne(df_movies,columns = ['genres', 'rating'],\n",
    "                   groupby=groupby, pval=True)"
   ]
  },
  {
   "cell_type": "code",
   "execution_count": 1372,
   "metadata": {},
   "outputs": [
    {
     "data": {
      "text/html": [
       "<div>\n",
       "<style scoped>\n",
       "    .dataframe tbody tr th:only-of-type {\n",
       "        vertical-align: middle;\n",
       "    }\n",
       "\n",
       "    .dataframe tbody tr th {\n",
       "        vertical-align: top;\n",
       "    }\n",
       "\n",
       "    .dataframe thead tr th {\n",
       "        text-align: left;\n",
       "    }\n",
       "</style>\n",
       "<table border=\"1\" class=\"dataframe\">\n",
       "  <thead>\n",
       "    <tr>\n",
       "      <th></th>\n",
       "      <th></th>\n",
       "      <th colspan=\"8\" halign=\"left\">Grouped by genres</th>\n",
       "    </tr>\n",
       "    <tr>\n",
       "      <th></th>\n",
       "      <th></th>\n",
       "      <th>Missing</th>\n",
       "      <th>Overall</th>\n",
       "      <th>Action</th>\n",
       "      <th>Adventure</th>\n",
       "      <th>Comedy</th>\n",
       "      <th>Drama</th>\n",
       "      <th>Thriller</th>\n",
       "      <th>P-Value</th>\n",
       "    </tr>\n",
       "  </thead>\n",
       "  <tbody>\n",
       "    <tr>\n",
       "      <th>n</th>\n",
       "      <th></th>\n",
       "      <td></td>\n",
       "      <td>1728711</td>\n",
       "      <td>27208</td>\n",
       "      <td>2549</td>\n",
       "      <td>778596</td>\n",
       "      <td>815084</td>\n",
       "      <td>105274</td>\n",
       "      <td></td>\n",
       "    </tr>\n",
       "    <tr>\n",
       "      <th rowspan=\"10\" valign=\"top\">rating, n (%)</th>\n",
       "      <th>0.5</th>\n",
       "      <td>0</td>\n",
       "      <td>16147 (0.9)</td>\n",
       "      <td>428 (1.6)</td>\n",
       "      <td>53 (2.1)</td>\n",
       "      <td>11301 (1.5)</td>\n",
       "      <td>3895 (0.5)</td>\n",
       "      <td>470 (0.4)</td>\n",
       "      <td>&lt;0.001</td>\n",
       "    </tr>\n",
       "    <tr>\n",
       "      <th>1.0</th>\n",
       "      <td></td>\n",
       "      <td>76002 (4.4)</td>\n",
       "      <td>2666 (9.8)</td>\n",
       "      <td>245 (9.6)</td>\n",
       "      <td>50350 (6.5)</td>\n",
       "      <td>19796 (2.4)</td>\n",
       "      <td>2945 (2.8)</td>\n",
       "      <td></td>\n",
       "    </tr>\n",
       "    <tr>\n",
       "      <th>1.5</th>\n",
       "      <td></td>\n",
       "      <td>19674 (1.1)</td>\n",
       "      <td>614 (2.3)</td>\n",
       "      <td>62 (2.4)</td>\n",
       "      <td>13280 (1.7)</td>\n",
       "      <td>4938 (0.6)</td>\n",
       "      <td>780 (0.7)</td>\n",
       "      <td></td>\n",
       "    </tr>\n",
       "    <tr>\n",
       "      <th>2.0</th>\n",
       "      <td></td>\n",
       "      <td>145057 (8.4)</td>\n",
       "      <td>3750 (13.8)</td>\n",
       "      <td>365 (14.3)</td>\n",
       "      <td>86532 (11.1)</td>\n",
       "      <td>46460 (5.7)</td>\n",
       "      <td>7950 (7.6)</td>\n",
       "      <td></td>\n",
       "    </tr>\n",
       "    <tr>\n",
       "      <th>2.5</th>\n",
       "      <td></td>\n",
       "      <td>61721 (3.6)</td>\n",
       "      <td>1400 (5.1)</td>\n",
       "      <td>137 (5.4)</td>\n",
       "      <td>35875 (4.6)</td>\n",
       "      <td>20886 (2.6)</td>\n",
       "      <td>3423 (3.3)</td>\n",
       "      <td></td>\n",
       "    </tr>\n",
       "    <tr>\n",
       "      <th>3.0</th>\n",
       "      <td></td>\n",
       "      <td>422363 (24.4)</td>\n",
       "      <td>9217 (33.9)</td>\n",
       "      <td>698 (27.4)</td>\n",
       "      <td>209441 (26.9)</td>\n",
       "      <td>175215 (21.5)</td>\n",
       "      <td>27792 (26.4)</td>\n",
       "      <td></td>\n",
       "    </tr>\n",
       "    <tr>\n",
       "      <th>3.5</th>\n",
       "      <td></td>\n",
       "      <td>142369 (8.2)</td>\n",
       "      <td>1763 (6.5)</td>\n",
       "      <td>243 (9.5)</td>\n",
       "      <td>65123 (8.4)</td>\n",
       "      <td>66364 (8.1)</td>\n",
       "      <td>8876 (8.4)</td>\n",
       "      <td></td>\n",
       "    </tr>\n",
       "    <tr>\n",
       "      <th>4.0</th>\n",
       "      <td></td>\n",
       "      <td>500639 (29.0)</td>\n",
       "      <td>5344 (19.6)</td>\n",
       "      <td>524 (20.6)</td>\n",
       "      <td>192115 (24.7)</td>\n",
       "      <td>267806 (32.9)</td>\n",
       "      <td>34850 (33.1)</td>\n",
       "      <td></td>\n",
       "    </tr>\n",
       "    <tr>\n",
       "      <th>4.5</th>\n",
       "      <td></td>\n",
       "      <td>88418 (5.1)</td>\n",
       "      <td>434 (1.6)</td>\n",
       "      <td>69 (2.7)</td>\n",
       "      <td>31050 (4.0)</td>\n",
       "      <td>52679 (6.5)</td>\n",
       "      <td>4186 (4.0)</td>\n",
       "      <td></td>\n",
       "    </tr>\n",
       "    <tr>\n",
       "      <th>5.0</th>\n",
       "      <td></td>\n",
       "      <td>256321 (14.8)</td>\n",
       "      <td>1592 (5.9)</td>\n",
       "      <td>153 (6.0)</td>\n",
       "      <td>83529 (10.7)</td>\n",
       "      <td>157045 (19.3)</td>\n",
       "      <td>14002 (13.3)</td>\n",
       "      <td></td>\n",
       "    </tr>\n",
       "  </tbody>\n",
       "</table>\n",
       "</div><br />"
      ],
      "text/plain": [
       "                  Grouped by genres                                                                                            \n",
       "                            Missing        Overall       Action   Adventure         Comedy          Drama      Thriller P-Value\n",
       "n                                          1728711        27208        2549         778596         815084        105274        \n",
       "rating, n (%) 0.5                 0    16147 (0.9)    428 (1.6)    53 (2.1)    11301 (1.5)     3895 (0.5)     470 (0.4)  <0.001\n",
       "              1.0                      76002 (4.4)   2666 (9.8)   245 (9.6)    50350 (6.5)    19796 (2.4)    2945 (2.8)        \n",
       "              1.5                      19674 (1.1)    614 (2.3)    62 (2.4)    13280 (1.7)     4938 (0.6)     780 (0.7)        \n",
       "              2.0                     145057 (8.4)  3750 (13.8)  365 (14.3)   86532 (11.1)    46460 (5.7)    7950 (7.6)        \n",
       "              2.5                      61721 (3.6)   1400 (5.1)   137 (5.4)    35875 (4.6)    20886 (2.6)    3423 (3.3)        \n",
       "              3.0                    422363 (24.4)  9217 (33.9)  698 (27.4)  209441 (26.9)  175215 (21.5)  27792 (26.4)        \n",
       "              3.5                     142369 (8.2)   1763 (6.5)   243 (9.5)    65123 (8.4)    66364 (8.1)    8876 (8.4)        \n",
       "              4.0                    500639 (29.0)  5344 (19.6)  524 (20.6)  192115 (24.7)  267806 (32.9)  34850 (33.1)        \n",
       "              4.5                      88418 (5.1)    434 (1.6)    69 (2.7)    31050 (4.0)    52679 (6.5)    4186 (4.0)        \n",
       "              5.0                    256321 (14.8)   1592 (5.9)   153 (6.0)   83529 (10.7)  157045 (19.3)  14002 (13.3)        "
      ]
     },
     "execution_count": 1372,
     "metadata": {},
     "output_type": "execute_result"
    }
   ],
   "source": [
    "mytable"
   ]
  },
  {
   "cell_type": "code",
   "execution_count": 1373,
   "metadata": {},
   "outputs": [],
   "source": [
    "mytable.to_excel('summary_10M.xlsx')"
   ]
  },
  {
   "cell_type": "code",
   "execution_count": 1374,
   "metadata": {},
   "outputs": [
    {
     "data": {
      "text/html": [
       "<div>\n",
       "<style scoped>\n",
       "    .dataframe tbody tr th:only-of-type {\n",
       "        vertical-align: middle;\n",
       "    }\n",
       "\n",
       "    .dataframe tbody tr th {\n",
       "        vertical-align: top;\n",
       "    }\n",
       "\n",
       "    .dataframe thead tr th {\n",
       "        text-align: left;\n",
       "    }\n",
       "</style>\n",
       "<table border=\"1\" class=\"dataframe\">\n",
       "  <thead>\n",
       "    <tr>\n",
       "      <th></th>\n",
       "      <th></th>\n",
       "      <th colspan=\"8\" halign=\"left\">Grouped by genres</th>\n",
       "    </tr>\n",
       "    <tr>\n",
       "      <th></th>\n",
       "      <th></th>\n",
       "      <th>Missing</th>\n",
       "      <th>Overall</th>\n",
       "      <th>Action</th>\n",
       "      <th>Adventure</th>\n",
       "      <th>Comedy</th>\n",
       "      <th>Drama</th>\n",
       "      <th>Thriller</th>\n",
       "      <th>P-Value</th>\n",
       "    </tr>\n",
       "  </thead>\n",
       "  <tbody>\n",
       "    <tr>\n",
       "      <th>n</th>\n",
       "      <th></th>\n",
       "      <td></td>\n",
       "      <td>1728711</td>\n",
       "      <td>27208</td>\n",
       "      <td>2549</td>\n",
       "      <td>778596</td>\n",
       "      <td>815084</td>\n",
       "      <td>105274</td>\n",
       "      <td></td>\n",
       "    </tr>\n",
       "    <tr>\n",
       "      <th rowspan=\"5\" valign=\"top\">genres, n (%)</th>\n",
       "      <th>Action</th>\n",
       "      <td>0</td>\n",
       "      <td>27208 (1.6)</td>\n",
       "      <td>27208 (100.0)</td>\n",
       "      <td></td>\n",
       "      <td></td>\n",
       "      <td></td>\n",
       "      <td></td>\n",
       "      <td>&lt;0.001</td>\n",
       "    </tr>\n",
       "    <tr>\n",
       "      <th>Adventure</th>\n",
       "      <td></td>\n",
       "      <td>2549 (0.1)</td>\n",
       "      <td></td>\n",
       "      <td>2549 (100.0)</td>\n",
       "      <td></td>\n",
       "      <td></td>\n",
       "      <td></td>\n",
       "      <td></td>\n",
       "    </tr>\n",
       "    <tr>\n",
       "      <th>Comedy</th>\n",
       "      <td></td>\n",
       "      <td>778596 (45.0)</td>\n",
       "      <td></td>\n",
       "      <td></td>\n",
       "      <td>778596 (100.0)</td>\n",
       "      <td></td>\n",
       "      <td></td>\n",
       "      <td></td>\n",
       "    </tr>\n",
       "    <tr>\n",
       "      <th>Drama</th>\n",
       "      <td></td>\n",
       "      <td>815084 (47.1)</td>\n",
       "      <td></td>\n",
       "      <td></td>\n",
       "      <td></td>\n",
       "      <td>815084 (100.0)</td>\n",
       "      <td></td>\n",
       "      <td></td>\n",
       "    </tr>\n",
       "    <tr>\n",
       "      <th>Thriller</th>\n",
       "      <td></td>\n",
       "      <td>105274 (6.1)</td>\n",
       "      <td></td>\n",
       "      <td></td>\n",
       "      <td></td>\n",
       "      <td></td>\n",
       "      <td>105274 (100.0)</td>\n",
       "      <td></td>\n",
       "    </tr>\n",
       "    <tr>\n",
       "      <th>rating, mean (SD)</th>\n",
       "      <th></th>\n",
       "      <td>0</td>\n",
       "      <td>3.5 (1.1)</td>\n",
       "      <td>2.9 (1.1)</td>\n",
       "      <td>3.0 (1.1)</td>\n",
       "      <td>3.2 (1.1)</td>\n",
       "      <td>3.7 (1.0)</td>\n",
       "      <td>3.5 (1.0)</td>\n",
       "      <td>&lt;0.001</td>\n",
       "    </tr>\n",
       "  </tbody>\n",
       "</table>\n",
       "</div><br />[1] Chi-squared tests for the following variables may be invalid due to the low number of observations: genres.<br />"
      ],
      "text/plain": [
       "                            Grouped by genres                                                                                                    \n",
       "                                      Missing        Overall         Action     Adventure          Comedy           Drama        Thriller P-Value\n",
       "n                                                    1728711          27208          2549          778596          815084          105274        \n",
       "genres, n (%)     Action                    0    27208 (1.6)  27208 (100.0)                                                                <0.001\n",
       "                  Adventure                       2549 (0.1)                 2549 (100.0)                                                        \n",
       "                  Comedy                       778596 (45.0)                               778596 (100.0)                                        \n",
       "                  Drama                        815084 (47.1)                                               815084 (100.0)                        \n",
       "                  Thriller                      105274 (6.1)                                                               105274 (100.0)        \n",
       "rating, mean (SD)                           0      3.5 (1.1)      2.9 (1.1)     3.0 (1.1)       3.2 (1.1)       3.7 (1.0)       3.5 (1.0)  <0.001\n",
       "[1] Chi-squared tests for the following variables may be invalid due to the low number of observations: genres."
      ]
     },
     "metadata": {},
     "output_type": "display_data"
    }
   ],
   "source": [
    "mytable = TableOne(df_movies,columns = ['genres', 'rating'],\n",
    "                   groupby=groupby, categorical=['genres'], nonnormal=nonnormal, pval=True, tukey_test=True)\n",
    "\n",
    "display(mytable)\n",
    "\n",
    "mytable.to_excel('summary_10M_test.xlsx')"
   ]
  },
  {
   "cell_type": "markdown",
   "metadata": {},
   "source": [
    "#### Data Preparation\n",
    "\n",
    "> (1)- Merge the dataframes to obtain complete information regarding a user, a movie and the corresponding interaction.\n",
    "\n",
    "> (2)- Split the data into test and train."
   ]
  },
  {
   "cell_type": "markdown",
   "metadata": {},
   "source": [
    "##### Merge the dataframes"
   ]
  },
  {
   "cell_type": "code",
   "execution_count": 1375,
   "metadata": {},
   "outputs": [
    {
     "data": {
      "text/plain": [
       "Index(['userId', 'movieId', 'rating', 'timestamp'], dtype='object')"
      ]
     },
     "execution_count": 1375,
     "metadata": {},
     "output_type": "execute_result"
    }
   ],
   "source": [
    "df_ratings.columns"
   ]
  },
  {
   "cell_type": "code",
   "execution_count": 1376,
   "metadata": {},
   "outputs": [
    {
     "data": {
      "text/plain": [
       "Index(['movieId', 'title', 'genres', 'userId', 'rating', 'timestamp'], dtype='object')"
      ]
     },
     "execution_count": 1376,
     "metadata": {},
     "output_type": "execute_result"
    }
   ],
   "source": [
    "df_movies.columns"
   ]
  },
  {
   "cell_type": "code",
   "execution_count": 1377,
   "metadata": {},
   "outputs": [
    {
     "data": {
      "text/html": [
       "<div>\n",
       "<style scoped>\n",
       "    .dataframe tbody tr th:only-of-type {\n",
       "        vertical-align: middle;\n",
       "    }\n",
       "\n",
       "    .dataframe tbody tr th {\n",
       "        vertical-align: top;\n",
       "    }\n",
       "\n",
       "    .dataframe thead th {\n",
       "        text-align: right;\n",
       "    }\n",
       "</style>\n",
       "<table border=\"1\" class=\"dataframe\">\n",
       "  <thead>\n",
       "    <tr style=\"text-align: right;\">\n",
       "      <th></th>\n",
       "      <th>movieId</th>\n",
       "      <th>title</th>\n",
       "      <th>genres</th>\n",
       "      <th>userId</th>\n",
       "      <th>rating</th>\n",
       "      <th>timestamp</th>\n",
       "    </tr>\n",
       "  </thead>\n",
       "  <tbody>\n",
       "    <tr>\n",
       "      <th>0</th>\n",
       "      <td>5</td>\n",
       "      <td>Father of the Bride Part II (1995)</td>\n",
       "      <td>Comedy</td>\n",
       "      <td>36008</td>\n",
       "      <td>2.0</td>\n",
       "      <td>823185224</td>\n",
       "    </tr>\n",
       "    <tr>\n",
       "      <th>1</th>\n",
       "      <td>5</td>\n",
       "      <td>Father of the Bride Part II (1995)</td>\n",
       "      <td>Comedy</td>\n",
       "      <td>36304</td>\n",
       "      <td>4.0</td>\n",
       "      <td>823264601</td>\n",
       "    </tr>\n",
       "    <tr>\n",
       "      <th>2</th>\n",
       "      <td>5</td>\n",
       "      <td>Father of the Bride Part II (1995)</td>\n",
       "      <td>Comedy</td>\n",
       "      <td>38104</td>\n",
       "      <td>4.0</td>\n",
       "      <td>825006881</td>\n",
       "    </tr>\n",
       "    <tr>\n",
       "      <th>3</th>\n",
       "      <td>5</td>\n",
       "      <td>Father of the Bride Part II (1995)</td>\n",
       "      <td>Comedy</td>\n",
       "      <td>38206</td>\n",
       "      <td>2.0</td>\n",
       "      <td>825009968</td>\n",
       "    </tr>\n",
       "    <tr>\n",
       "      <th>4</th>\n",
       "      <td>5</td>\n",
       "      <td>Father of the Bride Part II (1995)</td>\n",
       "      <td>Comedy</td>\n",
       "      <td>38326</td>\n",
       "      <td>4.0</td>\n",
       "      <td>825080156</td>\n",
       "    </tr>\n",
       "  </tbody>\n",
       "</table>\n",
       "</div>"
      ],
      "text/plain": [
       "   movieId                               title  genres  userId  rating  \\\n",
       "0        5  Father of the Bride Part II (1995)  Comedy   36008     2.0   \n",
       "1        5  Father of the Bride Part II (1995)  Comedy   36304     4.0   \n",
       "2        5  Father of the Bride Part II (1995)  Comedy   38104     4.0   \n",
       "3        5  Father of the Bride Part II (1995)  Comedy   38206     2.0   \n",
       "4        5  Father of the Bride Part II (1995)  Comedy   38326     4.0   \n",
       "\n",
       "   timestamp  \n",
       "0  823185224  \n",
       "1  823264601  \n",
       "2  825006881  \n",
       "3  825009968  \n",
       "4  825080156  "
      ]
     },
     "execution_count": 1377,
     "metadata": {},
     "output_type": "execute_result"
    }
   ],
   "source": [
    "#Merge the dataframes\n",
    "movie_ratings = df_movies.merge(df_ratings)\n",
    "movie_ratings = movie_ratings\n",
    "movie_ratings.head()"
   ]
  },
  {
   "cell_type": "code",
   "execution_count": null,
   "metadata": {},
   "outputs": [],
   "source": []
  },
  {
   "cell_type": "markdown",
   "metadata": {},
   "source": [
    "##### Split the dataframes to test and train sets"
   ]
  },
  {
   "cell_type": "code",
   "execution_count": 1378,
   "metadata": {},
   "outputs": [
    {
     "data": {
      "text/plain": [
       "((1210097, 2), (518614, 2), (1210097,), (518614,))"
      ]
     },
     "execution_count": 1378,
     "metadata": {},
     "output_type": "execute_result"
    }
   ],
   "source": [
    "X = movie_ratings[['userId', 'movieId']].values\n",
    "y = movie_ratings['rating'].values\n",
    "X_train, X_test, y_train, y_test = train_test_split(X, y, test_size=0.3, random_state=42)\n",
    "X_train.shape, X_test.shape, y_train.shape, y_test.shape"
   ]
  },
  {
   "cell_type": "markdown",
   "metadata": {},
   "source": [
    "#### Modeling"
   ]
  },
  {
   "cell_type": "code",
   "execution_count": 1379,
   "metadata": {},
   "outputs": [],
   "source": [
    "X = movie_ratings[['userId', 'movieId']]\n",
    "y = movie_ratings['rating']\n",
    "X_train, X_test, y_train, y_test = train_test_split(X, y, test_size=0.3, random_state=42)"
   ]
  },
  {
   "cell_type": "markdown",
   "metadata": {
    "_uuid": "1305f395bb9ad21c67d5f095a55690d9ae8c9a1e"
   },
   "source": [
    "### Step 1. Create a index vector for all unique users and movies"
   ]
  },
  {
   "cell_type": "code",
   "execution_count": 1380,
   "metadata": {},
   "outputs": [],
   "source": [
    "#Order the items and users\n",
    "c_movie = CategoricalDtype(sorted(movie_ratings['movieId'].unique()), ordered=True)\n",
    "c_user = CategoricalDtype(sorted(movie_ratings['userId'].unique()), ordered=True)"
   ]
  },
  {
   "cell_type": "code",
   "execution_count": 1381,
   "metadata": {},
   "outputs": [
    {
     "name": "stdout",
     "output_type": "stream",
     "text": [
      "3103\n",
      "69076\n"
     ]
    }
   ],
   "source": [
    "print(len(c_movie.categories))\n",
    "print(len(c_user.categories))"
   ]
  },
  {
   "cell_type": "code",
   "execution_count": 1382,
   "metadata": {},
   "outputs": [
    {
     "name": "stdout",
     "output_type": "stream",
     "text": [
      "(1210097, 2)\n",
      "(518614, 2)\n"
     ]
    }
   ],
   "source": [
    "from sklearn.model_selection import train_test_split\n",
    "train, test = train_test_split(X, test_size=0.30, random_state=420)\n",
    "print(train.shape)\n",
    "print(test.shape)"
   ]
  },
  {
   "cell_type": "code",
   "execution_count": 1383,
   "metadata": {},
   "outputs": [],
   "source": [
    "test = X_test.copy()\n",
    "train = X_train.copy()\n",
    "\n",
    "testw = test.copy()\n",
    "\n",
    "testw['userId'] = test['userId'].astype(c_user)\n",
    "\n",
    "testw['movieId'] = test['movieId'].astype(c_movie)\n",
    "\n",
    "test_pred = testw.copy()"
   ]
  },
  {
   "cell_type": "code",
   "execution_count": 1384,
   "metadata": {},
   "outputs": [
    {
     "name": "stdout",
     "output_type": "stream",
     "text": [
      "<class 'pandas.core.frame.DataFrame'>\n",
      "Int64Index: 518614 entries, 1713321 to 710290\n",
      "Data columns (total 2 columns):\n",
      " #   Column   Non-Null Count   Dtype   \n",
      "---  ------   --------------   -----   \n",
      " 0   userId   518614 non-null  category\n",
      " 1   movieId  518614 non-null  category\n",
      "dtypes: category(2)\n",
      "memory usage: 9.6 MB\n"
     ]
    }
   ],
   "source": [
    "testw.info()"
   ]
  },
  {
   "cell_type": "markdown",
   "metadata": {
    "_uuid": "5c970f817423d1169c943568ed8e7db6444773f3"
   },
   "source": [
    "### Step 2: Create a big 1/0 binary sparse matrix of User x items for training set"
   ]
  },
  {
   "cell_type": "code",
   "execution_count": 1385,
   "metadata": {
    "_uuid": "271293ed40ba894cedaaa0751e395eb8674a40f6"
   },
   "outputs": [
    {
     "name": "stdout",
     "output_type": "stream",
     "text": [
      "0.564561460390921% Sparsity\n"
     ]
    }
   ],
   "source": [
    "from scipy.sparse import  csr_matrix\n",
    "train_data = csr_matrix((np.ones(len(train)), (train['userId'].astype('category').cat.codes,\n",
    "                                               train['movieId'].astype('category').cat.codes)), \n",
    "                  shape=( len(c_user.categories), len(c_movie.categories)))\n",
    "print(f'{100*train_data.sum()/(train_data.shape[0]*train_data.shape[1])}% Sparsity')"
   ]
  },
  {
   "cell_type": "markdown",
   "metadata": {
    "_uuid": "c1e18db8cbdb958a1a83fea37d3d39e26fba14f1"
   },
   "source": [
    "### Step 3. Run the model on the training set\n",
    "\n",
    "Models were testing:\n",
    "\n",
    "1. Simple Cosine Similarity on items\n",
    "\n",
    "2. Non-negative matrix factorization\n",
    "\n",
    "3. Simple Neural Collaborative Filtering\n",
    "\n",
    "\n",
    "Evaluation:\n",
    "- Recall: % of 1s in the Test set\n",
    "- MPR: Mean Percentile Rank\n",
    "\n",
    "#### Simple Cosine Similarity\n",
    "Doing this in chunks for the test set so that we don't run into memory issues.   For the recall measure, if the track's relative percentile is < 0.5 then its a 1"
   ]
  },
  {
   "cell_type": "code",
   "execution_count": 1386,
   "metadata": {
    "_uuid": "33627fc9a962776746a9907208c1cc496c0da216",
    "scrolled": true
   },
   "outputs": [
    {
     "name": "stdout",
     "output_type": "stream",
     "text": [
      "Doing Chunk 1/30\n",
      "Doing Chunk 2/30\n",
      "Doing Chunk 3/30\n",
      "Doing Chunk 4/30\n",
      "Doing Chunk 5/30\n",
      "Doing Chunk 6/30\n",
      "Doing Chunk 7/30\n",
      "Doing Chunk 8/30\n",
      "Doing Chunk 9/30\n",
      "Doing Chunk 10/30\n",
      "Doing Chunk 11/30\n",
      "Doing Chunk 12/30\n",
      "Doing Chunk 13/30\n",
      "Doing Chunk 14/30\n",
      "Doing Chunk 15/30\n",
      "Doing Chunk 16/30\n",
      "Doing Chunk 17/30\n",
      "Doing Chunk 18/30\n",
      "Doing Chunk 19/30\n",
      "Doing Chunk 20/30\n",
      "Doing Chunk 21/30\n",
      "Doing Chunk 22/30\n",
      "Doing Chunk 23/30\n",
      "Doing Chunk 24/30\n",
      "Doing Chunk 25/30\n",
      "Doing Chunk 26/30\n",
      "Doing Chunk 27/30\n",
      "Doing Chunk 28/30\n",
      "Doing Chunk 29/30\n",
      "Doing Chunk 30/30\n",
      "MPR Score: 0.40586\n",
      "Recall Score: 0.64690\n"
     ]
    }
   ],
   "source": [
    "# Simple Cosine Similarity\n",
    "from scipy.stats import percentileofscore\n",
    "def model_simple(data, pred):\n",
    "    from sklearn.metrics.pairwise import cosine_similarity\n",
    "    # Model Simple: Cosine Similarity to obtain a matrix and then find closest based on the similarity matrix\n",
    "    \n",
    "    # normalize the matrix for each user (% importance to user)\n",
    "    norm_data = data.multiply(1/data.sum(axis=1)).tocsr()\n",
    "    # apply cosine similarity\n",
    "    sim = cosine_similarity(norm_data.transpose(), dense_output=False)\n",
    "    sim[np.diag_indices(sim.shape[0])] = 0\n",
    "    denom = np.asarray(sim.sum(axis=1)).reshape(-1)\n",
    "\n",
    "    # do it in chunks else we get memory error\n",
    "    u_idx = pred['userId'].cat.codes.values\n",
    "    i_idx = pred['movieId'].cat.codes.values\n",
    "\n",
    "    n_chunks = 30\n",
    "    chunks = np.array_split(np.arange(norm_data.shape[0]), n_chunks)\n",
    "    res = []\n",
    "    previous_max = 0\n",
    "    for i,idx in enumerate(chunks):\n",
    "        print(f'Doing Chunk {i+1}/{n_chunks}')\n",
    "        score = (norm_data[idx].dot(sim)) / denom\n",
    "        score = (-score).argsort() / denom.shape[0]\n",
    "        sel = (u_idx >= idx.min()) & (u_idx <= idx.max())\n",
    "        chunk_score = np.asarray(score[u_idx[sel] - previous_max, i_idx[sel]]).reshape(-1)\n",
    "        res.append(chunk_score)\n",
    "        previous_max = idx.max() + 1\n",
    "    return np.concatenate(res)\n",
    "\n",
    "\n",
    "# Evaluate model\n",
    "model_pred = model_simple(train_data, testw)\n",
    "mpr_cosine_sim = model_pred.sum()/len(testw)\n",
    "print(f'MPR Score: {mpr_cosine_sim:.5f}')\n",
    "rec_cosine_sim = (model_pred < 0.5).sum()/len(testw)\n",
    "print(f'Recall Score: {rec_cosine_sim:.5f}')"
   ]
  },
  {
   "cell_type": "markdown",
   "metadata": {},
   "source": [
    "#### Non-Negative Matrix Factorization"
   ]
  },
  {
   "cell_type": "code",
   "execution_count": 1387,
   "metadata": {},
   "outputs": [
    {
     "name": "stdout",
     "output_type": "stream",
     "text": [
      "Doing Chunk 1/30\n",
      "Doing Chunk 2/30\n",
      "Doing Chunk 3/30\n",
      "Doing Chunk 4/30\n",
      "Doing Chunk 5/30\n",
      "Doing Chunk 6/30\n",
      "Doing Chunk 7/30\n",
      "Doing Chunk 8/30\n",
      "Doing Chunk 9/30\n",
      "Doing Chunk 10/30\n",
      "Doing Chunk 11/30\n",
      "Doing Chunk 12/30\n",
      "Doing Chunk 13/30\n",
      "Doing Chunk 14/30\n",
      "Doing Chunk 15/30\n",
      "Doing Chunk 16/30\n",
      "Doing Chunk 17/30\n",
      "Doing Chunk 18/30\n",
      "Doing Chunk 19/30\n",
      "Doing Chunk 20/30\n",
      "Doing Chunk 21/30\n",
      "Doing Chunk 22/30\n",
      "Doing Chunk 23/30\n",
      "Doing Chunk 24/30\n",
      "Doing Chunk 25/30\n",
      "Doing Chunk 26/30\n",
      "Doing Chunk 27/30\n",
      "Doing Chunk 28/30\n",
      "Doing Chunk 29/30\n",
      "Doing Chunk 30/30\n",
      "NMF MPR Score: 0.37234\n",
      "Recall Score: 0.69477\n"
     ]
    }
   ],
   "source": [
    "from sklearn.decomposition import NMF, TruncatedSVD\n",
    "\n",
    "def model_mf(data, pred, model):\n",
    "    # normalize the matrix for each user (% importance to user)\n",
    "    norm_data = data.multiply(1/data.sum(axis=1)).tocsr()\n",
    "    W = model.fit_transform(norm_data)\n",
    "    H = model.components_\n",
    "\n",
    "    # do it in chunks else we get memory error\n",
    "    u_idx = pred['userId'].cat.codes.values\n",
    "    i_idx = pred['movieId'].cat.codes.values\n",
    "    n_chunks = 30\n",
    "    chunks = np.array_split(np.arange(W.shape[0]), n_chunks)\n",
    "    res = []\n",
    "    previous_max = 0\n",
    "    for i,idx in enumerate(chunks):\n",
    "        print(f'Doing Chunk {i+1}/{n_chunks}')\n",
    "        score = (W[idx].dot(H))\n",
    "        score = (-score).argsort() / score.shape[1]\n",
    "        sel = (u_idx >= idx.min()) & (u_idx <= idx.max())\n",
    "        chunk_score = np.asarray(score[u_idx[sel] - previous_max, i_idx[sel]]).reshape(-1)\n",
    "        res.append(chunk_score)\n",
    "        previous_max = idx.max() + 1\n",
    "    return np.concatenate(res)\n",
    "\n",
    "K = 2\n",
    "\n",
    "# NMF\n",
    "#NNDSVD with zeros filled with the average of X (better when sparsity is not desired)\n",
    "model = NMF(n_components = K, init = 'nndsvd', max_iter = 1000, tol = 0.1, random_state = 1)\n",
    "model_pred1 = model_mf(train_data, testw, model)\n",
    "mpr_Non_Negative_Matrix_Factorization = model_pred1.sum()/len(testw)\n",
    "print(f'NMF MPR Score: {mpr_Non_Negative_Matrix_Factorization:.5f}')\n",
    "rec_Non_Negative_Matrix_Factorization = (model_pred1 < 0.5).sum()/len(testw)\n",
    "print(f'Recall Score: {rec_Non_Negative_Matrix_Factorization:.5f}')"
   ]
  },
  {
   "cell_type": "markdown",
   "metadata": {},
   "source": [
    "#### Neural Collaborative Filtering"
   ]
  },
  {
   "cell_type": "code",
   "execution_count": 1388,
   "metadata": {},
   "outputs": [
    {
     "name": "stdout",
     "output_type": "stream",
     "text": [
      "((1450762,), (1450762,), (1450762,))\n"
     ]
    }
   ],
   "source": [
    "# Create the Training Set\n",
    "APPROX_NEGATIVE_SAMPLE_SIZE = int(len(train)*0.2)\n",
    "n_users = c_user.categories.shape[0]\n",
    "n_items = c_movie.categories.shape[0]\n",
    "# Create Training Set\n",
    "train_users = train['userId'].astype('category').cat.codes.values\n",
    "train_items = train['movieId'].astype('category').cat.codes.values\n",
    "train_labels = np.ones(len(train_users))\n",
    "# insert negative samples\n",
    "u = np.random.randint(n_users, size=APPROX_NEGATIVE_SAMPLE_SIZE)\n",
    "i = np.random.randint(n_items, size=APPROX_NEGATIVE_SAMPLE_SIZE)\n",
    "non_neg_idx = np.where(train_data[u,i] == 0)\n",
    "train_users = np.concatenate([train_users, u[non_neg_idx[1]]])\n",
    "train_items = np.concatenate([train_items, i[non_neg_idx[1]]])\n",
    "train_labels = np.concatenate([train_labels, np.zeros(u[non_neg_idx[1]].shape[0])])\n",
    "print((train_users.shape, train_items.shape, train_labels.shape))\n",
    "\n",
    "# random shuffle the data (because Keras takes last 10% as validation split)\n",
    "X = np.stack([train_users, train_items, train_labels], axis=1)\n",
    "np.random.shuffle(X)"
   ]
  },
  {
   "cell_type": "code",
   "execution_count": 1389,
   "metadata": {},
   "outputs": [],
   "source": [
    "import keras\n",
    "import tensorflow as tf\n",
    "import warnings\n",
    "warnings.filterwarnings('ignore')\n",
    "from keras.callbacks import EarlyStopping\n",
    "from keras import backend as K\n",
    "from keras.models import Sequential, Model\n",
    "from keras.layers.core import Dense, Lambda, Activation\n",
    "from keras.layers import Embedding, Input, Dense, Reshape, Flatten, merge\n",
    "from keras.optimizers import RMSprop\n",
    "from keras.regularizers import l2\n",
    "\n",
    "def neural_network_model(num_users, num_items, latent_dim, regs=[0,0]):\n",
    "    # Input variables\n",
    "    user_input = Input(shape=(1,), dtype='int32', name = 'user_input')\n",
    "    item_input = Input(shape=(1,), dtype='int32', name = 'item_input')\n",
    "\n",
    "    MF_Embedding_User = Embedding(input_dim = num_users, output_dim = latent_dim, name = 'user_embedding', \n",
    "                                  embeddings_regularizer = l2(regs[0]), input_length=1)\n",
    "    MF_Embedding_Item = Embedding(input_dim = num_items, output_dim = latent_dim, name = 'item_embedding',\n",
    "                                  embeddings_regularizer = l2(regs[1]), input_length=1)   \n",
    "    \n",
    "    # Crucial to flatten an embedding vector!\n",
    "    user_latent = Flatten()(MF_Embedding_User(user_input))\n",
    "    item_latent = Flatten()(MF_Embedding_Item(item_input))\n",
    "    \n",
    "    # Element-wise product of user and item embeddings \n",
    "    predict_vector = merge.Multiply()([user_latent, item_latent])\n",
    "    \n",
    "    # Final prediction layer\n",
    "    prediction = Dense(1, activation='sigmoid', kernel_initializer='lecun_uniform', name = 'prediction')(predict_vector)\n",
    "    \n",
    "    model = Model(inputs=[user_input, item_input], outputs=prediction)\n",
    "\n",
    "    return model\n",
    "\n",
    "# create the model\n",
    "def recall(y_true, y_pred):\n",
    "    true_positives = K.sum(K.round(K.clip(y_true * y_pred, 0, 1)))\n",
    "    possible_positives = K.sum(K.round(K.clip(y_true, 0, 1)))\n",
    "    recall = true_positives / (possible_positives + K.epsilon())\n",
    "    return recall\n",
    "\n",
    "model = neural_network_model(n_users, n_items, 50, regs = [0,0])"
   ]
  },
  {
   "cell_type": "code",
   "execution_count": 1390,
   "metadata": {},
   "outputs": [
    {
     "name": "stdout",
     "output_type": "stream",
     "text": [
      "Model: \"functional_65\"\n",
      "__________________________________________________________________________________________________\n",
      "Layer (type)                    Output Shape         Param #     Connected to                     \n",
      "==================================================================================================\n",
      "user_input (InputLayer)         [(None, 1)]          0                                            \n",
      "__________________________________________________________________________________________________\n",
      "item_input (InputLayer)         [(None, 1)]          0                                            \n",
      "__________________________________________________________________________________________________\n",
      "user_embedding (Embedding)      (None, 1, 50)        3453800     user_input[0][0]                 \n",
      "__________________________________________________________________________________________________\n",
      "item_embedding (Embedding)      (None, 1, 50)        155150      item_input[0][0]                 \n",
      "__________________________________________________________________________________________________\n",
      "flatten_64 (Flatten)            (None, 50)           0           user_embedding[0][0]             \n",
      "__________________________________________________________________________________________________\n",
      "flatten_65 (Flatten)            (None, 50)           0           item_embedding[0][0]             \n",
      "__________________________________________________________________________________________________\n",
      "multiply_32 (Multiply)          (None, 50)           0           flatten_64[0][0]                 \n",
      "                                                                 flatten_65[0][0]                 \n",
      "__________________________________________________________________________________________________\n",
      "prediction (Dense)              (None, 1)            51          multiply_32[0][0]                \n",
      "==================================================================================================\n",
      "Total params: 3,609,001\n",
      "Trainable params: 3,609,001\n",
      "Non-trainable params: 0\n",
      "__________________________________________________________________________________________________\n"
     ]
    }
   ],
   "source": [
    "model.summary()"
   ]
  },
  {
   "cell_type": "code",
   "execution_count": 1391,
   "metadata": {},
   "outputs": [
    {
     "data": {
      "image/png": "[encoded data removed]",
      "text/plain": [
       "<IPython.core.display.Image object>"
      ]
     },
     "execution_count": 1391,
     "metadata": {},
     "output_type": "execute_result"
    }
   ],
   "source": [
    "from keras.utils.vis_utils import plot_model\n",
    "plot_model(model, to_file='model_plot.png', show_shapes=True, show_layer_names=True)"
   ]
  },
  {
   "cell_type": "code",
   "execution_count": 1392,
   "metadata": {},
   "outputs": [
    {
     "name": "stdout",
     "output_type": "stream",
     "text": [
      "Epoch 1/20\n",
      "9/9 [==============================] - ETA: 0s - loss: 0.6904 - accuracy: 0.7955 - recall: 0.9444WARNING:tensorflow:5 out of the last 11 calls to <function Model.make_test_function.<locals>.test_function at 0x000001E8167F1280> triggered tf.function retracing. Tracing is expensive and the excessive number of tracings could be due to (1) creating @tf.function repeatedly in a loop, (2) passing tensors with different shapes, (3) passing Python objects instead of tensors. For (1), please define your @tf.function outside of the loop. For (2), @tf.function has experimental_relax_shapes=True option that relaxes argument shapes that can avoid unnecessary retracing. For (3), please refer to https://www.tensorflow.org/tutorials/customization/performance#python_or_tensor_args and https://www.tensorflow.org/api_docs/python/tf/function for  more details.\n",
      "9/9 [==============================] - 2s 270ms/step - loss: 0.6904 - accuracy: 0.7955 - recall: 0.9444 - val_loss: 0.6878 - val_accuracy: 0.8351 - val_recall: 1.0000\n",
      "Epoch 2/20\n",
      "9/9 [==============================] - 2s 257ms/step - loss: 0.6863 - accuracy: 0.8340 - recall: 1.0000 - val_loss: 0.6844 - val_accuracy: 0.8351 - val_recall: 1.0000\n",
      "Epoch 3/20\n",
      "9/9 [==============================] - 2s 216ms/step - loss: 0.6831 - accuracy: 0.8340 - recall: 1.0000 - val_loss: 0.6813 - val_accuracy: 0.8351 - val_recall: 1.0000\n",
      "Epoch 4/20\n",
      "9/9 [==============================] - 2s 210ms/step - loss: 0.6800 - accuracy: 0.8340 - recall: 1.0000 - val_loss: 0.6783 - val_accuracy: 0.8351 - val_recall: 1.0000\n",
      "Epoch 00004: early stopping\n",
      "WARNING:tensorflow:5 out of the last 11 calls to <function Model.make_test_function.<locals>.test_function at 0x000001E8167F1280> triggered tf.function retracing. Tracing is expensive and the excessive number of tracings could be due to (1) creating @tf.function repeatedly in a loop, (2) passing tensors with different shapes, (3) passing Python objects instead of tensors. For (1), please define your @tf.function outside of the loop. For (2), @tf.function has experimental_relax_shapes=True option that relaxes argument shapes that can avoid unnecessary retracing. For (3), please refer to https://www.tensorflow.org/tutorials/customization/performance#python_or_tensor_args and https://www.tensorflow.org/api_docs/python/tf/function for  more details.\n",
      "6/6 [==============================] - 0s 35ms/step - loss: 0.6709 - accuracy: 1.0000 - recall: 1.0000\n",
      "Test Loss: 0.6709297299385071   |   Test Recall: 1.0\n"
     ]
    }
   ],
   "source": [
    "\n",
    "model.compile(optimizer=RMSprop(lr=0.001), metrics = ['accuracy', recall],  loss='binary_crossentropy')\n",
    "\n",
    "# Train Model\n",
    "ES = EarlyStopping(monitor='val_loss', min_delta=0.01, patience=3, verbose=1)\n",
    "hist = model.fit([X[:,0], X[:,1]], X[:,2], batch_size=150000, epochs=20, validation_split = 0.1, verbose=1, callbacks = [ES])\n",
    "score = model.evaluate([testw['userId'].cat.codes.values, testw['movieId'].cat.codes.values], np.ones(testw.shape[0]), verbose=1, batch_size=100000)\n",
    "print(f'Test Loss: {score[0]}   |   Test Recall: {score[1]}')"
   ]
  },
  {
   "cell_type": "code",
   "execution_count": null,
   "metadata": {},
   "outputs": [],
   "source": []
  },
  {
   "cell_type": "code",
   "execution_count": 1393,
   "metadata": {},
   "outputs": [
    {
     "data": {
      "image/png": "[encoded data removed]",
      "text/plain": [
       "<Figure size 1152x288 with 2 Axes>"
      ]
     },
     "metadata": {
      "needs_background": "light"
     },
     "output_type": "display_data"
    }
   ],
   "source": [
    "# Plot it\n",
    "import matplotlib.pyplot as plt\n",
    "fig, (ax1,ax2) = plt.subplots(1,2, figsize=(16,4))\n",
    "ax1.plot(hist.history['loss'])\n",
    "ax1.plot(hist.history['val_loss'])\n",
    "ax1.set_title('Loss')\n",
    "ax1.legend(['Train', 'Test'], loc='upper left')\n",
    "ax2.plot(hist.history['recall'])\n",
    "ax2.plot(hist.history['val_recall'])\n",
    "ax2.set_title('Recall')\n",
    "ax2.legend(['Train', 'Test'], loc='upper left')\n",
    "plt.show()"
   ]
  },
  {
   "cell_type": "code",
   "execution_count": 1394,
   "metadata": {},
   "outputs": [
    {
     "name": "stdout",
     "output_type": "stream",
     "text": [
      "Doing Chunk 1/10\n",
      "429/429 [==============================] - 9s 22ms/step\n",
      "Doing Chunk 2/10\n",
      "429/429 [==============================] - 10s 23ms/step\n",
      "Doing Chunk 3/10\n",
      "429/429 [==============================] - 8s 19ms/step\n",
      "Doing Chunk 4/10\n",
      "429/429 [==============================] - 8s 19ms/step\n",
      "Doing Chunk 5/10\n",
      "429/429 [==============================] - 9s 20ms/step\n",
      "Doing Chunk 6/10\n",
      "429/429 [==============================] - 7s 16ms/step\n",
      "Doing Chunk 7/10\n",
      "429/429 [==============================] - 8s 18ms/step\n",
      "Doing Chunk 8/10\n",
      "429/429 [==============================] - 8s 18ms/step\n",
      "Doing Chunk 9/10\n",
      "429/429 [==============================] - 7s 17ms/step\n",
      "Doing Chunk 10/10\n",
      "429/429 [==============================] - 8s 18ms/step\n",
      "NCF MPR Score: 0.49250\n",
      "NCF Recall Score: 0.51197\n"
     ]
    }
   ],
   "source": [
    "\n",
    "# Calculate MPR like before\n",
    "# we do it in chunks else we get memory error\n",
    "u_idx = testw['userId'].cat.codes.values\n",
    "i_idx = testw['movieId'].cat.codes.values\n",
    "n_chunks = 10\n",
    "chunks = np.array_split(np.arange(n_users), n_chunks)\n",
    "res = []\n",
    "previous_max = 0\n",
    "for i,idx in enumerate(chunks):\n",
    "    print(f'Doing Chunk {i+1}/{n_chunks}')\n",
    "    cross_movieId = np.transpose([np.tile(np.arange(n_items), len(idx)), np.repeat(idx, len(np.arange(n_items)))])\n",
    "    score = model.predict([cross_movieId[:,1], cross_movieId[:,0]], batch_size=50000, verbose=1).reshape(idx.shape[0], n_items)\n",
    "    score = (-score).argsort() / score.shape[1]\n",
    "    sel = (u_idx >= idx.min()) & (u_idx <= idx.max())\n",
    "    chunk_score = np.asarray(score[u_idx[sel] - previous_max, i_idx[sel]]).reshape(-1)\n",
    "    res.append(chunk_score)\n",
    "    previous_max = idx.max() + 1\n",
    "mpr_NCF = np.concatenate(res).sum()/len(testw)\n",
    "print(f'NCF MPR Score: {mpr_NCF:.5f}')\n",
    "rec_NCF = (np.concatenate(res) < 0.5).sum()/len(testw)\n",
    "print(f'NCF Recall Score: {rec_NCF:.5f}')"
   ]
  },
  {
   "cell_type": "code",
   "execution_count": 1395,
   "metadata": {},
   "outputs": [
    {
     "data": {
      "text/html": [
       "<div>\n",
       "<style scoped>\n",
       "    .dataframe tbody tr th:only-of-type {\n",
       "        vertical-align: middle;\n",
       "    }\n",
       "\n",
       "    .dataframe tbody tr th {\n",
       "        vertical-align: top;\n",
       "    }\n",
       "\n",
       "    .dataframe thead th {\n",
       "        text-align: right;\n",
       "    }\n",
       "</style>\n",
       "<table border=\"1\" class=\"dataframe\">\n",
       "  <thead>\n",
       "    <tr style=\"text-align: right;\">\n",
       "      <th></th>\n",
       "      <th>userId</th>\n",
       "      <th>Recommended movieId</th>\n",
       "    </tr>\n",
       "  </thead>\n",
       "  <tbody>\n",
       "    <tr>\n",
       "      <th>676471</th>\n",
       "      <td>3</td>\n",
       "      <td>1276</td>\n",
       "    </tr>\n",
       "    <tr>\n",
       "      <th>158401</th>\n",
       "      <td>4</td>\n",
       "      <td>231</td>\n",
       "    </tr>\n",
       "    <tr>\n",
       "      <th>330433</th>\n",
       "      <td>4</td>\n",
       "      <td>410</td>\n",
       "    </tr>\n",
       "    <tr>\n",
       "      <th>677414</th>\n",
       "      <td>5</td>\n",
       "      <td>1280</td>\n",
       "    </tr>\n",
       "    <tr>\n",
       "      <th>451962</th>\n",
       "      <td>5</td>\n",
       "      <td>538</td>\n",
       "    </tr>\n",
       "    <tr>\n",
       "      <th>221329</th>\n",
       "      <td>5</td>\n",
       "      <td>306</td>\n",
       "    </tr>\n",
       "    <tr>\n",
       "      <th>625960</th>\n",
       "      <td>5</td>\n",
       "      <td>1207</td>\n",
       "    </tr>\n",
       "    <tr>\n",
       "      <th>633980</th>\n",
       "      <td>5</td>\n",
       "      <td>1225</td>\n",
       "    </tr>\n",
       "    <tr>\n",
       "      <th>630097</th>\n",
       "      <td>7</td>\n",
       "      <td>1207</td>\n",
       "    </tr>\n",
       "    <tr>\n",
       "      <th>918395</th>\n",
       "      <td>7</td>\n",
       "      <td>2335</td>\n",
       "    </tr>\n",
       "  </tbody>\n",
       "</table>\n",
       "</div>"
      ],
      "text/plain": [
       "       userId Recommended movieId\n",
       "676471      3                1276\n",
       "158401      4                 231\n",
       "330433      4                 410\n",
       "677414      5                1280\n",
       "451962      5                 538\n",
       "221329      5                 306\n",
       "625960      5                1207\n",
       "633980      5                1225\n",
       "630097      7                1207\n",
       "918395      7                2335"
      ]
     },
     "execution_count": 1395,
     "metadata": {},
     "output_type": "execute_result"
    }
   ],
   "source": [
    "#Make movie predictions using the deep learning model\n",
    "test_pred['score'] = list(np.concatenate(res))\n",
    "#Select the top 5 movieIds to recommend to a user\n",
    "testf = test_pred.sort_values(['score'],ascending=False).groupby('userId').head(5)\n",
    "testf1 = testf.sort_values('userId')\n",
    "testf1 = testf1[['userId', 'movieId']]\n",
    "testf1.columns = ['userId', 'Recommended movieId']\n",
    "testf1.head(10)"
   ]
  },
  {
   "cell_type": "markdown",
   "metadata": {},
   "source": [
    "# \"Learning from sets data 2019\" DATA:\n",
    "\n",
    ">Source: https://grouplens.org/datasets/learning-from-sets-of-items-2019/"
   ]
  },
  {
   "cell_type": "code",
   "execution_count": 1396,
   "metadata": {},
   "outputs": [],
   "source": [
    "# Reading ratings file\n",
    "movie_ratings = pd.read_csv('learning-from-sets-2019/item_ratings.csv',\n",
    "                      names=['userId', 'movieId', 'rating', 'timestamp']\n",
    "                      ).sort_values(\"timestamp\")\n",
    "#Drop rows that have nonnumeric movie ID\n",
    "movie_ratings = movie_ratings[movie_ratings.movieId.str.isnumeric().isnull()]\n",
    "#Convert data types for movieId and rating\n",
    "movie_ratings['movieId'] = pd.to_numeric(movie_ratings.movieId)\n",
    "movie_ratings['rating'] = pd.to_numeric(movie_ratings.rating)\n",
    "\n",
    "# Reading movies file\n",
    "movie_1 = pd.read_csv('learning-from-sets-2019/set_ratings.csv')"
   ]
  },
  {
   "cell_type": "code",
   "execution_count": 1397,
   "metadata": {},
   "outputs": [
    {
     "name": "stdout",
     "output_type": "stream",
     "text": [
      "96.4581 % Sparsity\n"
     ]
    }
   ],
   "source": [
    "movies_1 = movie_ratings.copy()\n",
    "users = list(np.sort(movie_ratings.userId.unique())) # Get our unique customers\n",
    "movies_1 = list(movie_ratings.movieId.unique()) # Get our unique products that were purchased\n",
    "rating = list(movie_ratings.rating) # All of our purchases\n",
    "rows = movie_ratings.userId.astype('category', users).cat.codes\n",
    "# Get the associated row indices\n",
    "cols = movie_ratings.movieId.astype('category', movies_1).cat.codes\n",
    "# Get the associated column indices\n",
    "user_item = sparse.csr_matrix((rating, (rows, cols)), shape=(len(users), len(movies_1)))\n",
    "matrix_size = user_item.shape[0]*user_item.shape[1] # Number of possible interactions in the matrix\n",
    "num_purchases = len(user_item.nonzero()[0]) # Number of items interacted with\n",
    "sparsity = 100*(1 - (1.0*num_purchases/matrix_size))\n",
    "print(f'{round(sparsity,4)} % Sparsity')"
   ]
  },
  {
   "cell_type": "code",
   "execution_count": 1398,
   "metadata": {},
   "outputs": [
    {
     "data": {
      "text/html": [
       "<div>\n",
       "<style scoped>\n",
       "    .dataframe tbody tr th:only-of-type {\n",
       "        vertical-align: middle;\n",
       "    }\n",
       "\n",
       "    .dataframe tbody tr th {\n",
       "        vertical-align: top;\n",
       "    }\n",
       "\n",
       "    .dataframe thead th {\n",
       "        text-align: right;\n",
       "    }\n",
       "</style>\n",
       "<table border=\"1\" class=\"dataframe\">\n",
       "  <thead>\n",
       "    <tr style=\"text-align: right;\">\n",
       "      <th></th>\n",
       "      <th>userId</th>\n",
       "      <th>movieId</th>\n",
       "      <th>rating</th>\n",
       "      <th>timestamp</th>\n",
       "    </tr>\n",
       "  </thead>\n",
       "  <tbody>\n",
       "    <tr>\n",
       "      <th>131258</th>\n",
       "      <td>1861f05e46</td>\n",
       "      <td>2001</td>\n",
       "      <td>3.5</td>\n",
       "      <td>2005-03-29 16:19:32</td>\n",
       "    </tr>\n",
       "    <tr>\n",
       "      <th>131132</th>\n",
       "      <td>1861f05e46</td>\n",
       "      <td>1250</td>\n",
       "      <td>3.5</td>\n",
       "      <td>2005-03-29 16:20:20</td>\n",
       "    </tr>\n",
       "    <tr>\n",
       "      <th>131105</th>\n",
       "      <td>1861f05e46</td>\n",
       "      <td>1204</td>\n",
       "      <td>3.5</td>\n",
       "      <td>2005-03-29 16:20:33</td>\n",
       "    </tr>\n",
       "    <tr>\n",
       "      <th>131235</th>\n",
       "      <td>1861f05e46</td>\n",
       "      <td>1876</td>\n",
       "      <td>3.0</td>\n",
       "      <td>2005-03-29 16:21:37</td>\n",
       "    </tr>\n",
       "    <tr>\n",
       "      <th>131600</th>\n",
       "      <td>1861f05e46</td>\n",
       "      <td>4886</td>\n",
       "      <td>5.0</td>\n",
       "      <td>2005-03-29 16:21:41</td>\n",
       "    </tr>\n",
       "  </tbody>\n",
       "</table>\n",
       "</div>"
      ],
      "text/plain": [
       "            userId  movieId  rating            timestamp\n",
       "131258  1861f05e46     2001     3.5  2005-03-29 16:19:32\n",
       "131132  1861f05e46     1250     3.5  2005-03-29 16:20:20\n",
       "131105  1861f05e46     1204     3.5  2005-03-29 16:20:33\n",
       "131235  1861f05e46     1876     3.0  2005-03-29 16:21:37\n",
       "131600  1861f05e46     4886     5.0  2005-03-29 16:21:41"
      ]
     },
     "execution_count": 1398,
     "metadata": {},
     "output_type": "execute_result"
    }
   ],
   "source": [
    "movie_ratings.head()"
   ]
  },
  {
   "cell_type": "code",
   "execution_count": 1399,
   "metadata": {},
   "outputs": [
    {
     "name": "stdout",
     "output_type": "stream",
     "text": [
      "327899 interactions\n",
      "12443 Items\n",
      "744 Users\n"
     ]
    }
   ],
   "source": [
    "print(num_purchases, 'interactions')\n",
    "\n",
    "print(len(movies_1), 'Items')\n",
    "\n",
    "print(len(users), 'Users')"
   ]
  },
  {
   "cell_type": "code",
   "execution_count": 1400,
   "metadata": {},
   "outputs": [
    {
     "data": {
      "text/html": [
       "<div>\n",
       "<style scoped>\n",
       "    .dataframe tbody tr th:only-of-type {\n",
       "        vertical-align: middle;\n",
       "    }\n",
       "\n",
       "    .dataframe tbody tr th {\n",
       "        vertical-align: top;\n",
       "    }\n",
       "\n",
       "    .dataframe thead th {\n",
       "        text-align: right;\n",
       "    }\n",
       "</style>\n",
       "<table border=\"1\" class=\"dataframe\">\n",
       "  <thead>\n",
       "    <tr style=\"text-align: right;\">\n",
       "      <th></th>\n",
       "      <th>userId</th>\n",
       "      <th>movieId</th>\n",
       "      <th>rating</th>\n",
       "      <th>timestamp</th>\n",
       "    </tr>\n",
       "  </thead>\n",
       "  <tbody>\n",
       "    <tr>\n",
       "      <th>131258</th>\n",
       "      <td>1861f05e46</td>\n",
       "      <td>2001</td>\n",
       "      <td>3.5</td>\n",
       "      <td>2005-03-29 16:19:32</td>\n",
       "    </tr>\n",
       "    <tr>\n",
       "      <th>131132</th>\n",
       "      <td>1861f05e46</td>\n",
       "      <td>1250</td>\n",
       "      <td>3.5</td>\n",
       "      <td>2005-03-29 16:20:20</td>\n",
       "    </tr>\n",
       "    <tr>\n",
       "      <th>131105</th>\n",
       "      <td>1861f05e46</td>\n",
       "      <td>1204</td>\n",
       "      <td>3.5</td>\n",
       "      <td>2005-03-29 16:20:33</td>\n",
       "    </tr>\n",
       "    <tr>\n",
       "      <th>131235</th>\n",
       "      <td>1861f05e46</td>\n",
       "      <td>1876</td>\n",
       "      <td>3.0</td>\n",
       "      <td>2005-03-29 16:21:37</td>\n",
       "    </tr>\n",
       "    <tr>\n",
       "      <th>131600</th>\n",
       "      <td>1861f05e46</td>\n",
       "      <td>4886</td>\n",
       "      <td>5.0</td>\n",
       "      <td>2005-03-29 16:21:41</td>\n",
       "    </tr>\n",
       "  </tbody>\n",
       "</table>\n",
       "</div>"
      ],
      "text/plain": [
       "            userId  movieId  rating            timestamp\n",
       "131258  1861f05e46     2001     3.5  2005-03-29 16:19:32\n",
       "131132  1861f05e46     1250     3.5  2005-03-29 16:20:20\n",
       "131105  1861f05e46     1204     3.5  2005-03-29 16:20:33\n",
       "131235  1861f05e46     1876     3.0  2005-03-29 16:21:37\n",
       "131600  1861f05e46     4886     5.0  2005-03-29 16:21:41"
      ]
     },
     "execution_count": 1400,
     "metadata": {},
     "output_type": "execute_result"
    }
   ],
   "source": [
    "movie_ratings.head()"
   ]
  },
  {
   "cell_type": "markdown",
   "metadata": {},
   "source": [
    "## Exploratory Data Analysis(EDA)"
   ]
  },
  {
   "cell_type": "code",
   "execution_count": 1401,
   "metadata": {},
   "outputs": [],
   "source": [
    "X = movie_ratings[['userId', 'movieId',]]\n",
    "y = movie_ratings['rating']\n",
    "X_train, X_test, y_train, y_test = train_test_split(X, y, test_size=0.3, random_state=42)"
   ]
  },
  {
   "cell_type": "code",
   "execution_count": 1402,
   "metadata": {},
   "outputs": [
    {
     "data": {
      "text/html": [
       "<div>\n",
       "<style scoped>\n",
       "    .dataframe tbody tr th:only-of-type {\n",
       "        vertical-align: middle;\n",
       "    }\n",
       "\n",
       "    .dataframe tbody tr th {\n",
       "        vertical-align: top;\n",
       "    }\n",
       "\n",
       "    .dataframe thead th {\n",
       "        text-align: right;\n",
       "    }\n",
       "</style>\n",
       "<table border=\"1\" class=\"dataframe\">\n",
       "  <thead>\n",
       "    <tr style=\"text-align: right;\">\n",
       "      <th></th>\n",
       "      <th>movieId</th>\n",
       "      <th>title</th>\n",
       "      <th>genres</th>\n",
       "      <th>userId</th>\n",
       "      <th>rating</th>\n",
       "      <th>timestamp</th>\n",
       "    </tr>\n",
       "  </thead>\n",
       "  <tbody>\n",
       "    <tr>\n",
       "      <th>48035</th>\n",
       "      <td>5</td>\n",
       "      <td>Father of the Bride Part II (1995)</td>\n",
       "      <td>Comedy</td>\n",
       "      <td>36008</td>\n",
       "      <td>2.0</td>\n",
       "      <td>823185224</td>\n",
       "    </tr>\n",
       "    <tr>\n",
       "      <th>48036</th>\n",
       "      <td>5</td>\n",
       "      <td>Father of the Bride Part II (1995)</td>\n",
       "      <td>Comedy</td>\n",
       "      <td>36304</td>\n",
       "      <td>4.0</td>\n",
       "      <td>823264601</td>\n",
       "    </tr>\n",
       "    <tr>\n",
       "      <th>48037</th>\n",
       "      <td>5</td>\n",
       "      <td>Father of the Bride Part II (1995)</td>\n",
       "      <td>Comedy</td>\n",
       "      <td>38104</td>\n",
       "      <td>4.0</td>\n",
       "      <td>825006881</td>\n",
       "    </tr>\n",
       "    <tr>\n",
       "      <th>48038</th>\n",
       "      <td>5</td>\n",
       "      <td>Father of the Bride Part II (1995)</td>\n",
       "      <td>Comedy</td>\n",
       "      <td>38206</td>\n",
       "      <td>2.0</td>\n",
       "      <td>825009968</td>\n",
       "    </tr>\n",
       "    <tr>\n",
       "      <th>48039</th>\n",
       "      <td>5</td>\n",
       "      <td>Father of the Bride Part II (1995)</td>\n",
       "      <td>Comedy</td>\n",
       "      <td>38326</td>\n",
       "      <td>4.0</td>\n",
       "      <td>825080156</td>\n",
       "    </tr>\n",
       "  </tbody>\n",
       "</table>\n",
       "</div>"
      ],
      "text/plain": [
       "       movieId                               title  genres  userId  rating  \\\n",
       "48035        5  Father of the Bride Part II (1995)  Comedy   36008     2.0   \n",
       "48036        5  Father of the Bride Part II (1995)  Comedy   36304     4.0   \n",
       "48037        5  Father of the Bride Part II (1995)  Comedy   38104     4.0   \n",
       "48038        5  Father of the Bride Part II (1995)  Comedy   38206     2.0   \n",
       "48039        5  Father of the Bride Part II (1995)  Comedy   38326     4.0   \n",
       "\n",
       "       timestamp  \n",
       "48035  823185224  \n",
       "48036  823264601  \n",
       "48037  825006881  \n",
       "48038  825009968  \n",
       "48039  825080156  "
      ]
     },
     "execution_count": 1402,
     "metadata": {},
     "output_type": "execute_result"
    }
   ],
   "source": [
    "df_movies.head(5)"
   ]
  },
  {
   "cell_type": "markdown",
   "metadata": {},
   "source": [
    "### Distribution of users rating"
   ]
  },
  {
   "cell_type": "code",
   "execution_count": 1403,
   "metadata": {},
   "outputs": [
    {
     "data": {
      "image/png": "[encoded data removed]",
      "text/plain": [
       "<Figure size 864x504 with 1 Axes>"
      ]
     },
     "metadata": {
      "needs_background": "light"
     },
     "output_type": "display_data"
    }
   ],
   "source": [
    "plt.figure(figsize=(12,7))\n",
    "sns.kdeplot(movie_ratings[\"rating\"], color = 'steelblue');\n",
    "plt.title('Distribution of movie ratings')\n",
    "plt.grid()\n",
    "plt.show()"
   ]
  },
  {
   "cell_type": "code",
   "execution_count": null,
   "metadata": {},
   "outputs": [],
   "source": []
  },
  {
   "cell_type": "code",
   "execution_count": 1404,
   "metadata": {},
   "outputs": [
    {
     "data": {
      "text/html": [
       "<div>\n",
       "<style scoped>\n",
       "    .dataframe tbody tr th:only-of-type {\n",
       "        vertical-align: middle;\n",
       "    }\n",
       "\n",
       "    .dataframe tbody tr th {\n",
       "        vertical-align: top;\n",
       "    }\n",
       "\n",
       "    .dataframe thead th {\n",
       "        text-align: right;\n",
       "    }\n",
       "</style>\n",
       "<table border=\"1\" class=\"dataframe\">\n",
       "  <thead>\n",
       "    <tr style=\"text-align: right;\">\n",
       "      <th></th>\n",
       "      <th>userId</th>\n",
       "      <th>movieId</th>\n",
       "      <th>rating</th>\n",
       "      <th>timestamp</th>\n",
       "    </tr>\n",
       "  </thead>\n",
       "  <tbody>\n",
       "    <tr>\n",
       "      <th>131258</th>\n",
       "      <td>1861f05e46</td>\n",
       "      <td>2001</td>\n",
       "      <td>3.5</td>\n",
       "      <td>2005-03-29 16:19:32</td>\n",
       "    </tr>\n",
       "    <tr>\n",
       "      <th>131132</th>\n",
       "      <td>1861f05e46</td>\n",
       "      <td>1250</td>\n",
       "      <td>3.5</td>\n",
       "      <td>2005-03-29 16:20:20</td>\n",
       "    </tr>\n",
       "    <tr>\n",
       "      <th>131105</th>\n",
       "      <td>1861f05e46</td>\n",
       "      <td>1204</td>\n",
       "      <td>3.5</td>\n",
       "      <td>2005-03-29 16:20:33</td>\n",
       "    </tr>\n",
       "    <tr>\n",
       "      <th>131235</th>\n",
       "      <td>1861f05e46</td>\n",
       "      <td>1876</td>\n",
       "      <td>3.0</td>\n",
       "      <td>2005-03-29 16:21:37</td>\n",
       "    </tr>\n",
       "    <tr>\n",
       "      <th>131600</th>\n",
       "      <td>1861f05e46</td>\n",
       "      <td>4886</td>\n",
       "      <td>5.0</td>\n",
       "      <td>2005-03-29 16:21:41</td>\n",
       "    </tr>\n",
       "  </tbody>\n",
       "</table>\n",
       "</div>"
      ],
      "text/plain": [
       "            userId  movieId  rating            timestamp\n",
       "131258  1861f05e46     2001     3.5  2005-03-29 16:19:32\n",
       "131132  1861f05e46     1250     3.5  2005-03-29 16:20:20\n",
       "131105  1861f05e46     1204     3.5  2005-03-29 16:20:33\n",
       "131235  1861f05e46     1876     3.0  2005-03-29 16:21:37\n",
       "131600  1861f05e46     4886     5.0  2005-03-29 16:21:41"
      ]
     },
     "execution_count": 1404,
     "metadata": {},
     "output_type": "execute_result"
    }
   ],
   "source": [
    "df_ratings = df_movies = movie_ratings\n",
    "df_ratings.head(5)"
   ]
  },
  {
   "cell_type": "code",
   "execution_count": null,
   "metadata": {},
   "outputs": [],
   "source": []
  },
  {
   "cell_type": "code",
   "execution_count": 1405,
   "metadata": {
    "scrolled": true
   },
   "outputs": [
    {
     "name": "stdout",
     "output_type": "stream",
     "text": [
      "Shape of the dataframes: \n",
      " Rating DataFrame: (327899, 4)\n",
      " Movies DataFrame(327899, 4)\n"
     ]
    }
   ],
   "source": [
    "print(\"Shape of the dataframes: \\n\"+ \" Rating DataFrame: \"+ str(df_ratings.shape)+\"\\n Movies DataFrame\"+ str(df_movies.shape))"
   ]
  },
  {
   "cell_type": "code",
   "execution_count": 1406,
   "metadata": {},
   "outputs": [],
   "source": [
    "ratings_grouped_by_users = movie_ratings.groupby('userId').agg([np.size, np.mean])"
   ]
  },
  {
   "cell_type": "code",
   "execution_count": 1407,
   "metadata": {},
   "outputs": [
    {
     "data": {
      "text/html": [
       "<div>\n",
       "<style scoped>\n",
       "    .dataframe tbody tr th:only-of-type {\n",
       "        vertical-align: middle;\n",
       "    }\n",
       "\n",
       "    .dataframe tbody tr th {\n",
       "        vertical-align: top;\n",
       "    }\n",
       "\n",
       "    .dataframe thead tr th {\n",
       "        text-align: left;\n",
       "    }\n",
       "\n",
       "    .dataframe thead tr:last-of-type th {\n",
       "        text-align: right;\n",
       "    }\n",
       "</style>\n",
       "<table border=\"1\" class=\"dataframe\">\n",
       "  <thead>\n",
       "    <tr>\n",
       "      <th></th>\n",
       "      <th colspan=\"2\" halign=\"left\">movieId</th>\n",
       "      <th colspan=\"2\" halign=\"left\">rating</th>\n",
       "    </tr>\n",
       "    <tr>\n",
       "      <th></th>\n",
       "      <th>size</th>\n",
       "      <th>mean</th>\n",
       "      <th>size</th>\n",
       "      <th>mean</th>\n",
       "    </tr>\n",
       "    <tr>\n",
       "      <th>userId</th>\n",
       "      <th></th>\n",
       "      <th></th>\n",
       "      <th></th>\n",
       "      <th></th>\n",
       "    </tr>\n",
       "  </thead>\n",
       "  <tbody>\n",
       "    <tr>\n",
       "      <th>0011a9baea</th>\n",
       "      <td>172</td>\n",
       "      <td>53528.569767</td>\n",
       "      <td>172.0</td>\n",
       "      <td>4.151163</td>\n",
       "    </tr>\n",
       "    <tr>\n",
       "      <th>00be0326d6</th>\n",
       "      <td>277</td>\n",
       "      <td>34154.996390</td>\n",
       "      <td>277.0</td>\n",
       "      <td>2.444043</td>\n",
       "    </tr>\n",
       "  </tbody>\n",
       "</table>\n",
       "</div>"
      ],
      "text/plain": [
       "           movieId               rating          \n",
       "              size          mean   size      mean\n",
       "userId                                           \n",
       "0011a9baea     172  53528.569767  172.0  4.151163\n",
       "00be0326d6     277  34154.996390  277.0  2.444043"
      ]
     },
     "execution_count": 1407,
     "metadata": {},
     "output_type": "execute_result"
    }
   ],
   "source": [
    "ratings_grouped_by_users.head(2)"
   ]
  },
  {
   "cell_type": "code",
   "execution_count": 1408,
   "metadata": {},
   "outputs": [],
   "source": [
    "ratings_grouped_by_users = ratings_grouped_by_users.drop('movieId', axis = 1)"
   ]
  },
  {
   "cell_type": "markdown",
   "metadata": {},
   "source": [
    "### Top 10 users who have rated most of the movies"
   ]
  },
  {
   "cell_type": "code",
   "execution_count": 1409,
   "metadata": {},
   "outputs": [
    {
     "data": {
      "image/png": "[encoded data removed]",
      "text/plain": [
       "<Figure size 720x360 with 1 Axes>"
      ]
     },
     "metadata": {
      "needs_background": "light"
     },
     "output_type": "display_data"
    }
   ],
   "source": [
    "ratings_grouped_by_users['rating']['size'].sort_values(ascending=False).head(10).plot(kind = 'bar', figsize = (10,5))\n",
    "plt.title('Top 10 movie reviews (users with most ratings)')\n",
    "plt.grid()\n",
    "plt.show()"
   ]
  },
  {
   "cell_type": "code",
   "execution_count": 1410,
   "metadata": {},
   "outputs": [],
   "source": [
    "ratings_grouped_by_movies = movie_ratings.groupby('movieId').agg([np.mean], np.size)"
   ]
  },
  {
   "cell_type": "code",
   "execution_count": 1411,
   "metadata": {},
   "outputs": [
    {
     "data": {
      "text/plain": [
       "(12443, 1)"
      ]
     },
     "execution_count": 1411,
     "metadata": {},
     "output_type": "execute_result"
    }
   ],
   "source": [
    "ratings_grouped_by_movies.shape"
   ]
  },
  {
   "cell_type": "code",
   "execution_count": 1412,
   "metadata": {
    "scrolled": true
   },
   "outputs": [
    {
     "data": {
      "text/html": [
       "<div>\n",
       "<style scoped>\n",
       "    .dataframe tbody tr th:only-of-type {\n",
       "        vertical-align: middle;\n",
       "    }\n",
       "\n",
       "    .dataframe tbody tr th {\n",
       "        vertical-align: top;\n",
       "    }\n",
       "\n",
       "    .dataframe thead tr th {\n",
       "        text-align: left;\n",
       "    }\n",
       "\n",
       "    .dataframe thead tr:last-of-type th {\n",
       "        text-align: right;\n",
       "    }\n",
       "</style>\n",
       "<table border=\"1\" class=\"dataframe\">\n",
       "  <thead>\n",
       "    <tr>\n",
       "      <th></th>\n",
       "      <th>rating</th>\n",
       "    </tr>\n",
       "    <tr>\n",
       "      <th></th>\n",
       "      <th>mean</th>\n",
       "    </tr>\n",
       "    <tr>\n",
       "      <th>movieId</th>\n",
       "      <th></th>\n",
       "    </tr>\n",
       "  </thead>\n",
       "  <tbody>\n",
       "    <tr>\n",
       "      <th>1</th>\n",
       "      <td>3.727064</td>\n",
       "    </tr>\n",
       "    <tr>\n",
       "      <th>2</th>\n",
       "      <td>3.172340</td>\n",
       "    </tr>\n",
       "    <tr>\n",
       "      <th>3</th>\n",
       "      <td>3.068966</td>\n",
       "    </tr>\n",
       "  </tbody>\n",
       "</table>\n",
       "</div>"
      ],
      "text/plain": [
       "           rating\n",
       "             mean\n",
       "movieId          \n",
       "1        3.727064\n",
       "2        3.172340\n",
       "3        3.068966"
      ]
     },
     "execution_count": 1412,
     "metadata": {},
     "output_type": "execute_result"
    }
   ],
   "source": [
    "ratings_grouped_by_movies.head(3)"
   ]
  },
  {
   "cell_type": "markdown",
   "metadata": {},
   "source": [
    "### Movies with high average rating"
   ]
  },
  {
   "cell_type": "code",
   "execution_count": 1413,
   "metadata": {
    "scrolled": false
   },
   "outputs": [
    {
     "data": {
      "image/png": "[encoded data removed]",
      "text/plain": [
       "<Figure size 504x432 with 1 Axes>"
      ]
     },
     "metadata": {
      "needs_background": "light"
     },
     "output_type": "display_data"
    }
   ],
   "source": [
    "ratings_grouped_by_movies['rating']['mean'].sort_values(ascending=False).head(10).plot(kind='bar', figsize=(7,6), color = 'orange');\n",
    "plt.title('Movies with the highest ratings')\n",
    "plt.grid()\n",
    "plt.show()"
   ]
  },
  {
   "cell_type": "markdown",
   "metadata": {},
   "source": [
    "### Movies with low average rating"
   ]
  },
  {
   "cell_type": "code",
   "execution_count": 1414,
   "metadata": {},
   "outputs": [],
   "source": [
    "low_rated_movies_filter = ratings_grouped_by_movies['rating']['mean']< 1.5"
   ]
  },
  {
   "cell_type": "code",
   "execution_count": 1415,
   "metadata": {},
   "outputs": [],
   "source": [
    "low_rated_movies = ratings_grouped_by_movies[low_rated_movies_filter]"
   ]
  },
  {
   "cell_type": "code",
   "execution_count": 1416,
   "metadata": {
    "scrolled": true
   },
   "outputs": [
    {
     "data": {
      "image/png": "[encoded data removed]",
      "text/plain": [
       "<Figure size 504x360 with 1 Axes>"
      ]
     },
     "metadata": {
      "needs_background": "light"
     },
     "output_type": "display_data"
    }
   ],
   "source": [
    "low_rated_movies.head(20).plot(kind='bar', figsize=(7,5));\n",
    "plt.grid()"
   ]
  },
  {
   "cell_type": "code",
   "execution_count": 1417,
   "metadata": {},
   "outputs": [
    {
     "data": {
      "text/html": [
       "<div>\n",
       "<style scoped>\n",
       "    .dataframe tbody tr th:only-of-type {\n",
       "        vertical-align: middle;\n",
       "    }\n",
       "\n",
       "    .dataframe tbody tr th {\n",
       "        vertical-align: top;\n",
       "    }\n",
       "\n",
       "    .dataframe thead tr th {\n",
       "        text-align: left;\n",
       "    }\n",
       "\n",
       "    .dataframe thead tr:last-of-type th {\n",
       "        text-align: right;\n",
       "    }\n",
       "</style>\n",
       "<table border=\"1\" class=\"dataframe\">\n",
       "  <thead>\n",
       "    <tr>\n",
       "      <th></th>\n",
       "      <th>rating</th>\n",
       "    </tr>\n",
       "    <tr>\n",
       "      <th></th>\n",
       "      <th>mean</th>\n",
       "    </tr>\n",
       "    <tr>\n",
       "      <th>movieId</th>\n",
       "      <th></th>\n",
       "    </tr>\n",
       "  </thead>\n",
       "  <tbody>\n",
       "    <tr>\n",
       "      <th>248</th>\n",
       "      <td>1.250000</td>\n",
       "    </tr>\n",
       "    <tr>\n",
       "      <th>325</th>\n",
       "      <td>1.000000</td>\n",
       "    </tr>\n",
       "    <tr>\n",
       "      <th>462</th>\n",
       "      <td>1.000000</td>\n",
       "    </tr>\n",
       "    <tr>\n",
       "      <th>470</th>\n",
       "      <td>1.250000</td>\n",
       "    </tr>\n",
       "    <tr>\n",
       "      <th>656</th>\n",
       "      <td>1.000000</td>\n",
       "    </tr>\n",
       "    <tr>\n",
       "      <th>753</th>\n",
       "      <td>0.500000</td>\n",
       "    </tr>\n",
       "    <tr>\n",
       "      <th>755</th>\n",
       "      <td>1.000000</td>\n",
       "    </tr>\n",
       "    <tr>\n",
       "      <th>870</th>\n",
       "      <td>0.500000</td>\n",
       "    </tr>\n",
       "    <tr>\n",
       "      <th>1162</th>\n",
       "      <td>1.166667</td>\n",
       "    </tr>\n",
       "    <tr>\n",
       "      <th>1440</th>\n",
       "      <td>1.250000</td>\n",
       "    </tr>\n",
       "  </tbody>\n",
       "</table>\n",
       "</div>"
      ],
      "text/plain": [
       "           rating\n",
       "             mean\n",
       "movieId          \n",
       "248      1.250000\n",
       "325      1.000000\n",
       "462      1.000000\n",
       "470      1.250000\n",
       "656      1.000000\n",
       "753      0.500000\n",
       "755      1.000000\n",
       "870      0.500000\n",
       "1162     1.166667\n",
       "1440     1.250000"
      ]
     },
     "execution_count": 1417,
     "metadata": {},
     "output_type": "execute_result"
    }
   ],
   "source": [
    "low_rated_movies.head(10)"
   ]
  },
  {
   "cell_type": "markdown",
   "metadata": {},
   "source": [
    "##### Merge the dataframes"
   ]
  },
  {
   "cell_type": "code",
   "execution_count": 1418,
   "metadata": {},
   "outputs": [
    {
     "data": {
      "text/plain": [
       "Index(['userId', 'movieId', 'rating', 'timestamp'], dtype='object')"
      ]
     },
     "execution_count": 1418,
     "metadata": {},
     "output_type": "execute_result"
    }
   ],
   "source": [
    "df_ratings.columns"
   ]
  },
  {
   "cell_type": "code",
   "execution_count": 1419,
   "metadata": {},
   "outputs": [
    {
     "data": {
      "text/plain": [
       "Index(['userId', 'movieId', 'rating', 'timestamp'], dtype='object')"
      ]
     },
     "execution_count": 1419,
     "metadata": {},
     "output_type": "execute_result"
    }
   ],
   "source": [
    "df_movies.columns"
   ]
  },
  {
   "cell_type": "code",
   "execution_count": 1420,
   "metadata": {},
   "outputs": [
    {
     "data": {
      "text/html": [
       "<div>\n",
       "<style scoped>\n",
       "    .dataframe tbody tr th:only-of-type {\n",
       "        vertical-align: middle;\n",
       "    }\n",
       "\n",
       "    .dataframe tbody tr th {\n",
       "        vertical-align: top;\n",
       "    }\n",
       "\n",
       "    .dataframe thead th {\n",
       "        text-align: right;\n",
       "    }\n",
       "</style>\n",
       "<table border=\"1\" class=\"dataframe\">\n",
       "  <thead>\n",
       "    <tr style=\"text-align: right;\">\n",
       "      <th></th>\n",
       "      <th>userId</th>\n",
       "      <th>movieId</th>\n",
       "      <th>rating</th>\n",
       "      <th>timestamp</th>\n",
       "    </tr>\n",
       "  </thead>\n",
       "  <tbody>\n",
       "    <tr>\n",
       "      <th>131258</th>\n",
       "      <td>1861f05e46</td>\n",
       "      <td>2001</td>\n",
       "      <td>3.5</td>\n",
       "      <td>2005-03-29 16:19:32</td>\n",
       "    </tr>\n",
       "    <tr>\n",
       "      <th>131132</th>\n",
       "      <td>1861f05e46</td>\n",
       "      <td>1250</td>\n",
       "      <td>3.5</td>\n",
       "      <td>2005-03-29 16:20:20</td>\n",
       "    </tr>\n",
       "    <tr>\n",
       "      <th>131105</th>\n",
       "      <td>1861f05e46</td>\n",
       "      <td>1204</td>\n",
       "      <td>3.5</td>\n",
       "      <td>2005-03-29 16:20:33</td>\n",
       "    </tr>\n",
       "    <tr>\n",
       "      <th>131235</th>\n",
       "      <td>1861f05e46</td>\n",
       "      <td>1876</td>\n",
       "      <td>3.0</td>\n",
       "      <td>2005-03-29 16:21:37</td>\n",
       "    </tr>\n",
       "    <tr>\n",
       "      <th>131600</th>\n",
       "      <td>1861f05e46</td>\n",
       "      <td>4886</td>\n",
       "      <td>5.0</td>\n",
       "      <td>2005-03-29 16:21:41</td>\n",
       "    </tr>\n",
       "  </tbody>\n",
       "</table>\n",
       "</div>"
      ],
      "text/plain": [
       "            userId  movieId  rating            timestamp\n",
       "131258  1861f05e46     2001     3.5  2005-03-29 16:19:32\n",
       "131132  1861f05e46     1250     3.5  2005-03-29 16:20:20\n",
       "131105  1861f05e46     1204     3.5  2005-03-29 16:20:33\n",
       "131235  1861f05e46     1876     3.0  2005-03-29 16:21:37\n",
       "131600  1861f05e46     4886     5.0  2005-03-29 16:21:41"
      ]
     },
     "execution_count": 1420,
     "metadata": {},
     "output_type": "execute_result"
    }
   ],
   "source": [
    "#Merge the dataframes\n",
    "movie_ratings = df_movies\n",
    "movie_ratings.head()"
   ]
  },
  {
   "cell_type": "markdown",
   "metadata": {},
   "source": [
    "##### Split the dataframes to test and train sets"
   ]
  },
  {
   "cell_type": "code",
   "execution_count": 1421,
   "metadata": {},
   "outputs": [
    {
     "data": {
      "text/plain": [
       "((229529, 2), (98370, 2), (229529,), (98370,))"
      ]
     },
     "execution_count": 1421,
     "metadata": {},
     "output_type": "execute_result"
    }
   ],
   "source": [
    "X = movie_ratings[['userId', 'movieId']].values\n",
    "y = movie_ratings['rating'].values\n",
    "X_train, X_test, y_train, y_test = train_test_split(X, y, test_size=0.3, random_state=42)\n",
    "X_train.shape, X_test.shape, y_train.shape, y_test.shape"
   ]
  },
  {
   "cell_type": "code",
   "execution_count": null,
   "metadata": {},
   "outputs": [],
   "source": []
  },
  {
   "cell_type": "code",
   "execution_count": 1422,
   "metadata": {},
   "outputs": [],
   "source": [
    "X = movie_ratings[['userId', 'movieId']]\n",
    "y = movie_ratings['rating']\n",
    "X_train, X_test, y_train, y_test = train_test_split(X, y, test_size=0.3, random_state=42)"
   ]
  },
  {
   "cell_type": "markdown",
   "metadata": {
    "_uuid": "1305f395bb9ad21c67d5f095a55690d9ae8c9a1e"
   },
   "source": [
    "### Step 1. Create a index vector for all unique users and movies"
   ]
  },
  {
   "cell_type": "code",
   "execution_count": 1423,
   "metadata": {},
   "outputs": [],
   "source": [
    "#Order the items and users\n",
    "c_movie = CategoricalDtype(sorted(movie_ratings['movieId'].unique()), ordered=True)\n",
    "c_user = CategoricalDtype(sorted(movie_ratings['userId'].unique()), ordered=True)"
   ]
  },
  {
   "cell_type": "code",
   "execution_count": 1424,
   "metadata": {},
   "outputs": [
    {
     "name": "stdout",
     "output_type": "stream",
     "text": [
      "12443\n",
      "744\n"
     ]
    }
   ],
   "source": [
    "print(len(c_movie.categories))\n",
    "print(len(c_user.categories))"
   ]
  },
  {
   "cell_type": "code",
   "execution_count": 1425,
   "metadata": {},
   "outputs": [
    {
     "name": "stdout",
     "output_type": "stream",
     "text": [
      "(229529, 2)\n",
      "(98370, 2)\n"
     ]
    }
   ],
   "source": [
    "from sklearn.model_selection import train_test_split\n",
    "train, test = train_test_split(X, test_size=0.30, random_state=420)\n",
    "print(train.shape)\n",
    "print(test.shape)"
   ]
  },
  {
   "cell_type": "code",
   "execution_count": 1426,
   "metadata": {},
   "outputs": [],
   "source": [
    "test = X_test.copy()\n",
    "train = X_train.copy()\n",
    "\n",
    "testw = test.copy()\n",
    "\n",
    "testw['userId'] = test['userId'].astype(c_user)\n",
    "\n",
    "testw['movieId'] = test['movieId'].astype(c_movie)\n",
    "\n",
    "test_pred = testw.copy()"
   ]
  },
  {
   "cell_type": "code",
   "execution_count": 1427,
   "metadata": {},
   "outputs": [
    {
     "name": "stdout",
     "output_type": "stream",
     "text": [
      "<class 'pandas.core.frame.DataFrame'>\n",
      "Int64Index: 98370 entries, 447372 to 304033\n",
      "Data columns (total 2 columns):\n",
      " #   Column   Non-Null Count  Dtype   \n",
      "---  ------   --------------  -----   \n",
      " 0   userId   98370 non-null  category\n",
      " 1   movieId  98370 non-null  category\n",
      "dtypes: category(2)\n",
      "memory usage: 1.5 MB\n"
     ]
    }
   ],
   "source": [
    "testw.info()"
   ]
  },
  {
   "cell_type": "markdown",
   "metadata": {
    "_uuid": "5c970f817423d1169c943568ed8e7db6444773f3"
   },
   "source": [
    "### Step 2: Create a big 1/0 binary sparse matrix of User x items for training set"
   ]
  },
  {
   "cell_type": "code",
   "execution_count": 1428,
   "metadata": {
    "_uuid": "271293ed40ba894cedaaa0751e395eb8674a40f6"
   },
   "outputs": [
    {
     "name": "stdout",
     "output_type": "stream",
     "text": [
      "2.4793596434148317% Sparsity\n"
     ]
    }
   ],
   "source": [
    "\n",
    "train_data = csr_matrix((np.ones(len(train)), (train['userId'].astype('category').cat.codes, train['movieId'].astype('category').cat.codes)), \n",
    "                  shape=( len(c_user.categories), len(c_movie.categories)))\n",
    "print(f'{100*train_data.sum()/(train_data.shape[0]*train_data.shape[1])}% Sparsity')"
   ]
  },
  {
   "cell_type": "markdown",
   "metadata": {
    "_uuid": "c1e18db8cbdb958a1a83fea37d3d39e26fba14f1"
   },
   "source": [
    "### Step 3. Run the model on the training set\n",
    "\n",
    "Models were testing:\n",
    "\n",
    "1. Simple Cosine Similarity on items\n",
    "\n",
    "2. Non-negative matrix factorization\n",
    "\n",
    "3. Simple Neural Collaborative Filtering\n",
    "\n",
    "\n",
    "Evaluation:\n",
    "- Recall: % of 1s in the Test set\n",
    "- MPR: Mean Percentile Rank\n",
    "\n",
    "#### Simple Cosine Similarity\n",
    "Doing this in chunks for the test set so that we don't run into memory issues.   For the recall measure, if the track's relative percentile is < 0.5 then its a 1"
   ]
  },
  {
   "cell_type": "code",
   "execution_count": 1429,
   "metadata": {
    "_uuid": "33627fc9a962776746a9907208c1cc496c0da216",
    "scrolled": true
   },
   "outputs": [
    {
     "name": "stdout",
     "output_type": "stream",
     "text": [
      "Doing Chunk 1/30\n",
      "Doing Chunk 2/30\n",
      "Doing Chunk 3/30\n",
      "Doing Chunk 4/30\n",
      "Doing Chunk 5/30\n",
      "Doing Chunk 6/30\n",
      "Doing Chunk 7/30\n",
      "Doing Chunk 8/30\n",
      "Doing Chunk 9/30\n",
      "Doing Chunk 10/30\n",
      "Doing Chunk 11/30\n",
      "Doing Chunk 12/30\n",
      "Doing Chunk 13/30\n",
      "Doing Chunk 14/30\n",
      "Doing Chunk 15/30\n",
      "Doing Chunk 16/30\n",
      "Doing Chunk 17/30\n",
      "Doing Chunk 18/30\n",
      "Doing Chunk 19/30\n",
      "Doing Chunk 20/30\n",
      "Doing Chunk 21/30\n",
      "Doing Chunk 22/30\n",
      "Doing Chunk 23/30\n",
      "Doing Chunk 24/30\n",
      "Doing Chunk 25/30\n",
      "Doing Chunk 26/30\n",
      "Doing Chunk 27/30\n",
      "Doing Chunk 28/30\n",
      "Doing Chunk 29/30\n",
      "Doing Chunk 30/30\n",
      "MPR Score: 0.47469\n",
      "Recall Score: 0.52412\n"
     ]
    }
   ],
   "source": [
    "# Simple Cosine Similarity\n",
    "\n",
    "def model_simple(data, pred):\n",
    "    from sklearn.metrics.pairwise import cosine_similarity\n",
    "    # Model Simple: Cosine Similarity to obtain a matrix and then find closest based on the similarity matrix\n",
    "    \n",
    "    # normalize the matrix for each user (% importance to user)\n",
    "    norm_data = data.multiply(1/data.sum(axis=1)).tocsr()\n",
    "    # apply cosine similarity\n",
    "    sim = cosine_similarity(norm_data.transpose(), dense_output=False)\n",
    "    sim[np.diag_indices(sim.shape[0])] = 0\n",
    "    denom = np.asarray(sim.sum(axis=1)).reshape(-1)\n",
    "\n",
    "    # do it in chunks else we get memory error\n",
    "    u_idx = pred['userId'].cat.codes.values\n",
    "    i_idx = pred['movieId'].cat.codes.values\n",
    "\n",
    "    n_chunks = 30\n",
    "    chunks = np.array_split(np.arange(norm_data.shape[0]), n_chunks)\n",
    "    res = []\n",
    "    previous_max = 0\n",
    "    for i,idx in enumerate(chunks):\n",
    "        print(f'Doing Chunk {i+1}/{n_chunks}')\n",
    "        score = (norm_data[idx].dot(sim)) / denom\n",
    "        score = (-score).argsort() / denom.shape[0]\n",
    "        sel = (u_idx >= idx.min()) & (u_idx <= idx.max())\n",
    "        chunk_score = np.asarray(score[u_idx[sel] - previous_max, i_idx[sel]]).reshape(-1)\n",
    "        res.append(chunk_score)\n",
    "        previous_max = idx.max() + 1\n",
    "    return np.concatenate(res)\n",
    "\n",
    "\n",
    "# Evaluate model\n",
    "model_pred = model_simple(train_data, testw)\n",
    "mpr_cosine_sim = model_pred.sum()/len(testw)\n",
    "print(f'MPR Score: {mpr_cosine_sim:.5f}')\n",
    "rec_cosine_sim = (model_pred < 0.5).sum()/len(testw)\n",
    "print(f'Recall Score: {rec_cosine_sim:.5f}')"
   ]
  },
  {
   "cell_type": "markdown",
   "metadata": {},
   "source": [
    "#### Non-Negative Matrix Factorization"
   ]
  },
  {
   "cell_type": "code",
   "execution_count": 1430,
   "metadata": {},
   "outputs": [
    {
     "name": "stdout",
     "output_type": "stream",
     "text": [
      "Doing Chunk 1/30\n",
      "Doing Chunk 2/30\n",
      "Doing Chunk 3/30\n",
      "Doing Chunk 4/30\n",
      "Doing Chunk 5/30\n",
      "Doing Chunk 6/30\n",
      "Doing Chunk 7/30\n",
      "Doing Chunk 8/30\n",
      "Doing Chunk 9/30\n",
      "Doing Chunk 10/30\n",
      "Doing Chunk 11/30\n",
      "Doing Chunk 12/30\n",
      "Doing Chunk 13/30\n",
      "Doing Chunk 14/30\n",
      "Doing Chunk 15/30\n",
      "Doing Chunk 16/30\n",
      "Doing Chunk 17/30\n",
      "Doing Chunk 18/30\n",
      "Doing Chunk 19/30\n",
      "Doing Chunk 20/30\n",
      "Doing Chunk 21/30\n",
      "Doing Chunk 22/30\n",
      "Doing Chunk 23/30\n",
      "Doing Chunk 24/30\n",
      "Doing Chunk 25/30\n",
      "Doing Chunk 26/30\n",
      "Doing Chunk 27/30\n",
      "Doing Chunk 28/30\n",
      "Doing Chunk 29/30\n",
      "Doing Chunk 30/30\n",
      "NMF MPR Score: 0.46404\n",
      "Recall Score: 0.53403\n"
     ]
    }
   ],
   "source": [
    "\n",
    "\n",
    "def model_mf(data, pred, model):\n",
    "    # normalize the matrix for each user (% importance to user)\n",
    "    norm_data = data.multiply(1/data.sum(axis=1)).tocsr()\n",
    "    W = model.fit_transform(norm_data)\n",
    "    H = model.components_\n",
    "\n",
    "    # do it in chunks else we get memory error\n",
    "    u_idx = pred['userId'].cat.codes.values\n",
    "    i_idx = pred['movieId'].cat.codes.values\n",
    "    n_chunks = 30\n",
    "    chunks = np.array_split(np.arange(W.shape[0]), n_chunks)\n",
    "    res = []\n",
    "    previous_max = 0\n",
    "    for i,idx in enumerate(chunks):\n",
    "        print(f'Doing Chunk {i+1}/{n_chunks}')\n",
    "        score = (W[idx].dot(H))\n",
    "        score = (-score).argsort() / score.shape[1]\n",
    "        sel = (u_idx >= idx.min()) & (u_idx <= idx.max())\n",
    "        chunk_score = np.asarray(score[u_idx[sel] - previous_max, i_idx[sel]]).reshape(-1)\n",
    "        res.append(chunk_score)\n",
    "        previous_max = idx.max() + 1\n",
    "    return np.concatenate(res)\n",
    "\n",
    "K = 2\n",
    "\n",
    "# NMF\n",
    "model = NMF(n_components = K, init = 'nndsvd', max_iter = 1000, tol = 0.1)\n",
    "model_pred1 = model_mf(train_data, testw, model)\n",
    "mpr_Non_Negative_Matrix_Factorization = model_pred1.sum()/len(testw)\n",
    "print(f'NMF MPR Score: {mpr_Non_Negative_Matrix_Factorization:.5f}')\n",
    "rec_Non_Negative_Matrix_Factorization = (model_pred1 < 0.5).sum()/len(testw)\n",
    "print(f'Recall Score: {rec_Non_Negative_Matrix_Factorization:.5f}')"
   ]
  },
  {
   "cell_type": "markdown",
   "metadata": {},
   "source": [
    "#### Neural Collaborative Filtering"
   ]
  },
  {
   "cell_type": "code",
   "execution_count": 1431,
   "metadata": {},
   "outputs": [
    {
     "name": "stdout",
     "output_type": "stream",
     "text": [
      "((274298,), (274298,), (274298,))\n"
     ]
    }
   ],
   "source": [
    "# Create the Training Set\n",
    "APPROX_NEGATIVE_SAMPLE_SIZE = int(len(train)*0.2)\n",
    "n_users = c_user.categories.shape[0]\n",
    "n_items = c_movie.categories.shape[0]\n",
    "# Create Training Set\n",
    "train_users = train['userId'].astype('category').cat.codes.values\n",
    "train_items = train['movieId'].astype('category').cat.codes.values\n",
    "train_labels = np.ones(len(train_users))\n",
    "# insert negative samples\n",
    "u = np.random.randint(n_users, size=APPROX_NEGATIVE_SAMPLE_SIZE)\n",
    "i = np.random.randint(n_items, size=APPROX_NEGATIVE_SAMPLE_SIZE)\n",
    "non_neg_idx = np.where(train_data[u,i] == 0)\n",
    "train_users = np.concatenate([train_users, u[non_neg_idx[1]]])\n",
    "train_items = np.concatenate([train_items, i[non_neg_idx[1]]])\n",
    "train_labels = np.concatenate([train_labels, np.zeros(u[non_neg_idx[1]].shape[0])])\n",
    "print((train_users.shape, train_items.shape, train_labels.shape))\n",
    "\n",
    "# random shuffle the data (because Keras takes last 10% as validation split)\n",
    "X = np.stack([train_users, train_items, train_labels], axis=1)\n",
    "np.random.shuffle(X)"
   ]
  },
  {
   "cell_type": "code",
   "execution_count": 1441,
   "metadata": {},
   "outputs": [],
   "source": [
    "import keras\n",
    "import tensorflow as tf\n",
    "import warnings\n",
    "warnings.filterwarnings('ignore')\n",
    "from keras.callbacks import EarlyStopping\n",
    "from keras import backend as K\n",
    "from keras.models import Sequential, Model\n",
    "from keras.layers.core import Dense, Lambda, Activation\n",
    "from keras.layers import Embedding, Input, Dense, Reshape, Flatten, merge\n",
    "from keras.optimizers import RMSprop\n",
    "from keras.regularizers import l2\n",
    "\n",
    "def neural_network_model(num_users, num_items, latent_dim, regs=[0,0]):\n",
    "    # Input variables\n",
    "    user_input = Input(shape=(1,), dtype='int32', name = 'user_input')\n",
    "    item_input = Input(shape=(1,), dtype='int32', name = 'item_input')\n",
    "\n",
    "    MF_Embedding_User = Embedding(input_dim = num_users, output_dim = latent_dim, name = 'user_embedding', embeddings_regularizer = l2(regs[0]), input_length=1)\n",
    "    MF_Embedding_Item = Embedding(input_dim = num_items, output_dim = latent_dim, name = 'item_embedding', embeddings_regularizer = l2(regs[1]), input_length=1)   \n",
    "    \n",
    "    # Crucial to flatten an embedding vector!\n",
    "    user_latent = Flatten()(MF_Embedding_User(user_input))\n",
    "    item_latent = Flatten()(MF_Embedding_Item(item_input))\n",
    "    \n",
    "    # Element-wise product of user and item embeddings \n",
    "    predict_vector = merge.Multiply()([user_latent, item_latent])\n",
    "    \n",
    "    # Final prediction layer\n",
    "    prediction = Dense(1, activation='sigmoid', kernel_initializer='lecun_uniform', name = 'prediction')(predict_vector)\n",
    "    \n",
    "    model = Model(inputs=[user_input, item_input], outputs=prediction)\n",
    "\n",
    "    return model\n",
    "\n",
    "# create the model\n",
    "def recall(y_true, y_pred):\n",
    "    true_positives = K.sum(K.round(K.clip(y_true * y_pred, 0, 1)))\n",
    "    possible_positives = K.sum(K.round(K.clip(y_true, 0, 1)))\n",
    "    recall = true_positives / (possible_positives + K.epsilon())\n",
    "    return recall\n",
    "\n",
    "model = neural_network_model(n_users, n_items, 50, regs = [0,0])"
   ]
  },
  {
   "cell_type": "code",
   "execution_count": 1442,
   "metadata": {},
   "outputs": [
    {
     "name": "stdout",
     "output_type": "stream",
     "text": [
      "Model: \"functional_71\"\n",
      "__________________________________________________________________________________________________\n",
      "Layer (type)                    Output Shape         Param #     Connected to                     \n",
      "==================================================================================================\n",
      "user_input (InputLayer)         [(None, 10)]         0                                            \n",
      "__________________________________________________________________________________________________\n",
      "item_input (InputLayer)         [(None, 10)]         0                                            \n",
      "__________________________________________________________________________________________________\n",
      "user_embedding (Embedding)      (None, 10, 50)       37200       user_input[0][0]                 \n",
      "__________________________________________________________________________________________________\n",
      "item_embedding (Embedding)      (None, 10, 50)       622150      item_input[0][0]                 \n",
      "__________________________________________________________________________________________________\n",
      "flatten_72 (Flatten)            (None, 500)          0           user_embedding[0][0]             \n",
      "__________________________________________________________________________________________________\n",
      "flatten_73 (Flatten)            (None, 500)          0           item_embedding[0][0]             \n",
      "__________________________________________________________________________________________________\n",
      "multiply_35 (Multiply)          (None, 500)          0           flatten_72[0][0]                 \n",
      "                                                                 flatten_73[0][0]                 \n",
      "__________________________________________________________________________________________________\n",
      "prediction (Dense)              (None, 1)            501         multiply_35[0][0]                \n",
      "==================================================================================================\n",
      "Total params: 659,851\n",
      "Trainable params: 659,851\n",
      "Non-trainable params: 0\n",
      "__________________________________________________________________________________________________\n"
     ]
    }
   ],
   "source": [
    "model.summary()"
   ]
  },
  {
   "cell_type": "code",
   "execution_count": 1443,
   "metadata": {},
   "outputs": [
    {
     "data": {
      "image/png": "[encoded data removed]",
      "text/plain": [
       "<IPython.core.display.Image object>"
      ]
     },
     "execution_count": 1443,
     "metadata": {},
     "output_type": "execute_result"
    }
   ],
   "source": [
    "from keras.utils.vis_utils import plot_model\n",
    "plot_model(model, to_file='model_plot.png', show_shapes=True, show_layer_names=True)"
   ]
  },
  {
   "cell_type": "code",
   "execution_count": 1435,
   "metadata": {},
   "outputs": [
    {
     "name": "stdout",
     "output_type": "stream",
     "text": [
      "Epoch 1/20\n",
      "2/2 [==============================] - 0s 184ms/step - loss: 0.6927 - accuracy: 0.6330 - recall: 0.7502 - val_loss: 0.6913 - val_accuracy: 0.8347 - val_recall: 1.0000\n",
      "Epoch 2/20\n",
      "2/2 [==============================] - 0s 66ms/step - loss: 0.6910 - accuracy: 0.8370 - recall: 1.0000 - val_loss: 0.6901 - val_accuracy: 0.8347 - val_recall: 1.0000\n",
      "Epoch 3/20\n",
      "2/2 [==============================] - 0s 77ms/step - loss: 0.6899 - accuracy: 0.8370 - recall: 1.0000 - val_loss: 0.6891 - val_accuracy: 0.8347 - val_recall: 1.0000\n",
      "Epoch 4/20\n",
      "2/2 [==============================] - 0s 59ms/step - loss: 0.6889 - accuracy: 0.8370 - recall: 1.0000 - val_loss: 0.6882 - val_accuracy: 0.8347 - val_recall: 1.0000\n",
      "Epoch 00004: early stopping\n",
      "1/1 [==============================] - 0s 2ms/step - loss: 0.6858 - accuracy: 1.0000 - recall: 1.0000\n",
      "Test Loss: 0.6857763528823853   |   Test Recall: 1.0\n"
     ]
    }
   ],
   "source": [
    "\n",
    "model.compile(optimizer=RMSprop(lr=0.001), metrics = ['accuracy', recall],  loss='binary_crossentropy')\n",
    "\n",
    "# Train Model\n",
    "ES = EarlyStopping(monitor='val_loss', min_delta=0.01, patience=3, verbose=1)\n",
    "hist = model.fit([X[:,0], X[:,1]], X[:,2], batch_size=150000, epochs=20, validation_split = 0.1, verbose=1, callbacks = [ES])\n",
    "score = model.evaluate([testw['userId'].cat.codes.values, testw['movieId'].cat.codes.values], np.ones(testw.shape[0]), verbose=1, batch_size=100000)\n",
    "print(f'Test Loss: {score[0]}   |   Test Recall: {score[1]}')"
   ]
  },
  {
   "cell_type": "code",
   "execution_count": null,
   "metadata": {},
   "outputs": [],
   "source": []
  },
  {
   "cell_type": "code",
   "execution_count": 1436,
   "metadata": {},
   "outputs": [
    {
     "data": {
      "image/png": "[encoded data removed]",
      "text/plain": [
       "<Figure size 1152x288 with 2 Axes>"
      ]
     },
     "metadata": {
      "needs_background": "light"
     },
     "output_type": "display_data"
    }
   ],
   "source": [
    "# Plot it\n",
    "import matplotlib.pyplot as plt\n",
    "fig, (ax1,ax2) = plt.subplots(1,2, figsize=(16,4))\n",
    "ax1.plot(hist.history['loss'])\n",
    "ax1.plot(hist.history['val_loss'])\n",
    "ax1.set_title('Loss')\n",
    "ax1.legend(['Train', 'Test'], loc='upper left')\n",
    "ax2.plot(hist.history['recall'])\n",
    "ax2.plot(hist.history['val_recall'])\n",
    "ax2.set_title('Recall')\n",
    "ax2.legend(['Train', 'Test'], loc='upper left')\n",
    "plt.show()"
   ]
  },
  {
   "cell_type": "code",
   "execution_count": 1437,
   "metadata": {},
   "outputs": [
    {
     "name": "stdout",
     "output_type": "stream",
     "text": [
      "Doing Chunk 1/10\n",
      "19/19 [==============================] - 0s 16ms/step\n",
      "Doing Chunk 2/10\n",
      "19/19 [==============================] - 0s 14ms/step\n",
      "Doing Chunk 3/10\n",
      "19/19 [==============================] - 0s 16ms/step\n",
      "Doing Chunk 4/10\n",
      "19/19 [==============================] - 1s 28ms/step\n",
      "Doing Chunk 5/10\n",
      "19/19 [==============================] - 0s 14ms/step\n",
      "Doing Chunk 6/10\n",
      "19/19 [==============================] - 0s 26ms/step\n",
      "Doing Chunk 7/10\n",
      "19/19 [==============================] - 0s 19ms/step\n",
      "Doing Chunk 8/10\n",
      "19/19 [==============================] - 1s 29ms/step\n",
      "Doing Chunk 9/10\n",
      "19/19 [==============================] - 1s 32ms/step\n",
      "Doing Chunk 10/10\n",
      "19/19 [==============================] - 0s 15ms/step\n",
      "NCF MPR Score: 0.49794\n",
      "NCF Recall Score: 0.50034\n"
     ]
    }
   ],
   "source": [
    "\n",
    "# Calculate MPR like before\n",
    "# we do it in chunks else we get memory error\n",
    "u_idx = testw['userId'].cat.codes.values\n",
    "i_idx = testw['movieId'].cat.codes.values\n",
    "n_chunks = 10\n",
    "chunks = np.array_split(np.arange(n_users), n_chunks)\n",
    "res = []\n",
    "previous_max = 0\n",
    "for i,idx in enumerate(chunks):\n",
    "    print(f'Doing Chunk {i+1}/{n_chunks}')\n",
    "    cross_movieId = np.transpose([np.tile(np.arange(n_items), len(idx)), np.repeat(idx, len(np.arange(n_items)))])\n",
    "    score = model.predict([cross_movieId[:,1], cross_movieId[:,0]], batch_size=50000, verbose=1).reshape(idx.shape[0], n_items)\n",
    "    score = (-score).argsort() / score.shape[1]\n",
    "    sel = (u_idx >= idx.min()) & (u_idx <= idx.max())\n",
    "    chunk_score = np.asarray(score[u_idx[sel] - previous_max, i_idx[sel]]).reshape(-1)\n",
    "    res.append(chunk_score)\n",
    "    previous_max = idx.max() + 1\n",
    "mpr_NCF = np.concatenate(res).sum()/len(testw)\n",
    "print(f'NCF MPR Score: {mpr_NCF:.5f}')\n",
    "rec_NCF = (np.concatenate(res) < 0.5).sum()/len(testw)\n",
    "print(f'NCF Recall Score: {rec_NCF:.5f}')"
   ]
  },
  {
   "cell_type": "code",
   "execution_count": 1438,
   "metadata": {},
   "outputs": [
    {
     "data": {
      "text/html": [
       "<div>\n",
       "<style scoped>\n",
       "    .dataframe tbody tr th:only-of-type {\n",
       "        vertical-align: middle;\n",
       "    }\n",
       "\n",
       "    .dataframe tbody tr th {\n",
       "        vertical-align: top;\n",
       "    }\n",
       "\n",
       "    .dataframe thead th {\n",
       "        text-align: right;\n",
       "    }\n",
       "</style>\n",
       "<table border=\"1\" class=\"dataframe\">\n",
       "  <thead>\n",
       "    <tr style=\"text-align: right;\">\n",
       "      <th></th>\n",
       "      <th>userId</th>\n",
       "      <th>Recommended movieId</th>\n",
       "    </tr>\n",
       "  </thead>\n",
       "  <tbody>\n",
       "    <tr>\n",
       "      <th>376832</th>\n",
       "      <td>0011a9baea</td>\n",
       "      <td>113345</td>\n",
       "    </tr>\n",
       "    <tr>\n",
       "      <th>376753</th>\n",
       "      <td>0011a9baea</td>\n",
       "      <td>8970</td>\n",
       "    </tr>\n",
       "    <tr>\n",
       "      <th>376825</th>\n",
       "      <td>0011a9baea</td>\n",
       "      <td>111375</td>\n",
       "    </tr>\n",
       "    <tr>\n",
       "      <th>376706</th>\n",
       "      <td>0011a9baea</td>\n",
       "      <td>2409</td>\n",
       "    </tr>\n",
       "    <tr>\n",
       "      <th>376744</th>\n",
       "      <td>0011a9baea</td>\n",
       "      <td>7254</td>\n",
       "    </tr>\n",
       "    <tr>\n",
       "      <th>452642</th>\n",
       "      <td>00be0326d6</td>\n",
       "      <td>126919</td>\n",
       "    </tr>\n",
       "    <tr>\n",
       "      <th>452639</th>\n",
       "      <td>00be0326d6</td>\n",
       "      <td>117517</td>\n",
       "    </tr>\n",
       "    <tr>\n",
       "      <th>452458</th>\n",
       "      <td>00be0326d6</td>\n",
       "      <td>2396</td>\n",
       "    </tr>\n",
       "    <tr>\n",
       "      <th>452496</th>\n",
       "      <td>00be0326d6</td>\n",
       "      <td>4979</td>\n",
       "    </tr>\n",
       "    <tr>\n",
       "      <th>452530</th>\n",
       "      <td>00be0326d6</td>\n",
       "      <td>8368</td>\n",
       "    </tr>\n",
       "  </tbody>\n",
       "</table>\n",
       "</div>"
      ],
      "text/plain": [
       "            userId Recommended movieId\n",
       "376832  0011a9baea              113345\n",
       "376753  0011a9baea                8970\n",
       "376825  0011a9baea              111375\n",
       "376706  0011a9baea                2409\n",
       "376744  0011a9baea                7254\n",
       "452642  00be0326d6              126919\n",
       "452639  00be0326d6              117517\n",
       "452458  00be0326d6                2396\n",
       "452496  00be0326d6                4979\n",
       "452530  00be0326d6                8368"
      ]
     },
     "execution_count": 1438,
     "metadata": {},
     "output_type": "execute_result"
    }
   ],
   "source": [
    "#Make movie predictions using the deep learning model\n",
    "test_pred['score'] = list(np.concatenate(res))\n",
    "#Select the top 5 movieIds to recommend to a user\n",
    "testf = test_pred.sort_values(['score'],ascending=False).groupby('userId').head(5)\n",
    "testf1 = testf.sort_values('userId')\n",
    "testf1 = testf1[['userId', 'movieId']]\n",
    "testf1.columns = ['userId', 'Recommended movieId']\n",
    "testf1.head(10)"
   ]
  }
 ],
 "metadata": {
  "kernelspec": {
   "display_name": "Python 3",
   "language": "python",
   "name": "python3"
  },
  "language_info": {
   "codemirror_mode": {
    "name": "ipython",
    "version": 3
   },
   "file_extension": ".py",
   "mimetype": "text/x-python",
   "name": "python",
   "nbconvert_exporter": "python",
   "pygments_lexer": "ipython3",
   "version": "3.8.8"
  }
 },
 "nbformat": 4,
 "nbformat_minor": 2
}
