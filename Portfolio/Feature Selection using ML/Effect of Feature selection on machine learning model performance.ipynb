{
 "cells": [
  {
   "cell_type": "markdown",
   "id": "f8dcd00e",
   "metadata": {},
   "source": [
    "### Import Packages"
   ]
  },
  {
   "cell_type": "code",
   "execution_count": 161,
   "id": "fc06cf61",
   "metadata": {},
   "outputs": [],
   "source": [
    "\n",
    "# stochastic optimization for feature selection\n",
    "from numpy import mean\n",
    "from numpy.random import rand\n",
    "from numpy.random import choice\n",
    "from sklearn.datasets import make_classification\n",
    "from sklearn.model_selection import cross_val_score\n",
    "from sklearn.tree import DecisionTreeClassifier\n",
    "from sklearn.ensemble import RandomForestClassifier\n",
    "from sklearn.linear_model import SGDClassifier\n",
    "from sklearn.model_selection import train_test_split\n",
    "from sklearn.model_selection import cross_val_predict\n",
    "from sklearn.metrics import classification_report\n",
    "import time\n",
    "from sklearn.metrics import accuracy_score\n",
    "import numpy as np\n",
    "import matplotlib.pyplot as plt\n",
    "from sklearn.datasets import load_breast_cancer\n",
    "import pandas as pd\n",
    "from sklearn.datasets import fetch_openml\n",
    "from sklearn.datasets import load_digits\n",
    "from sklearn.naive_bayes import GaussianNB\n",
    "import matplotlib\n",
    "%matplotlib inline"
   ]
  },
  {
   "cell_type": "markdown",
   "id": "15635a9d",
   "metadata": {},
   "source": [
    "### Define Stochastic Gradient Function for determining the optimal number of features"
   ]
  },
  {
   "cell_type": "code",
   "execution_count": 2,
   "id": "405698eb",
   "metadata": {},
   "outputs": [],
   "source": [
    "# objective function\n",
    "def objective(X, y, subset):\n",
    "    # get the column indexes\n",
    "    ix = [i for i, x in enumerate(subset) if x]\n",
    "    # check for the current column (all False)\n",
    "    if len(ix) == 0:\n",
    "        return 0.0\n",
    "    # subset the columns\n",
    "    X_new = X[:, ix]\n",
    "    # define the prediction model\n",
    "    model = RandomForestClassifier()\n",
    "    # evaluate model\n",
    "    scores = cross_val_score(model, X_new, y, scoring='accuracy', cv=3, n_jobs=-1)\n",
    "    # summarize the model performance scores\n",
    "    result = mean(scores)\n",
    "    return result, ix\n",
    " \n",
    "# define the mutation operator\n",
    "def mutate(solution, p_mutate):\n",
    "    # make a copy of the solution\n",
    "    child = solution.copy()\n",
    "    for i in range(len(child)):\n",
    "        # check for any mutation\n",
    "        if rand() < p_mutate:\n",
    "            # flip the inclusion cond\n",
    "            child[i] = not child[i]\n",
    "    return child\n",
    " \n",
    "# Define a hill climbing local search algorithm\n",
    "def hillclimbing(X, y, objective, n_iter, p_mutate, verbose = None):\n",
    "    # generate the initial point\n",
    "    solution = choice([True, False], size=X.shape[1])\n",
    "    # evaluate the score of the initial point\n",
    "    solution_eval, ix = objective(X, y, solution)\n",
    "    # iteratively run the hill climb\n",
    "    for i in range(n_iter):\n",
    "        # take a step\n",
    "        candidate = mutate(solution, p_mutate)\n",
    "        # evaluate candidate point\n",
    "        candidate_eval, ix = objective(X, y, candidate)\n",
    "        # check if we should keep the new point\n",
    "        if candidate_eval >= solution_eval:\n",
    "            # store the new point\n",
    "            solution, solution_eval = candidate, candidate_eval\n",
    "        # report progress\n",
    "        if verbose == True:\n",
    "            print('>%d f(%s) = %f' % (i+1, len(ix), solution_eval))\n",
    "        else:\n",
    "            pass\n",
    "    return solution, solution_eval\n",
    " "
   ]
  },
  {
   "cell_type": "markdown",
   "id": "92fa5ce9",
   "metadata": {},
   "source": [
    "### Brief Data Exploration"
   ]
  },
  {
   "cell_type": "code",
   "execution_count": 3,
   "id": "8fa7921f",
   "metadata": {},
   "outputs": [],
   "source": [
    "#Medium sized data\n",
    "digits = load_digits()"
   ]
  },
  {
   "cell_type": "code",
   "execution_count": 4,
   "id": "714ba5c5",
   "metadata": {},
   "outputs": [],
   "source": [
    "#Large data\n",
    "X_df, y_df = fetch_openml('mnist_784', version=1, return_X_y=True)\n",
    "\n",
    "#Sample\n",
    "X_df, y_df = X_df[0:10000], y_df[0:10000]"
   ]
  },
  {
   "cell_type": "markdown",
   "id": "f4f1ad2d",
   "metadata": {},
   "source": [
    "### Display of a sample of the data"
   ]
  },
  {
   "cell_type": "markdown",
   "id": "85d2eda1",
   "metadata": {},
   "source": [
    "#### Large data"
   ]
  },
  {
   "cell_type": "code",
   "execution_count": 5,
   "id": "92520466",
   "metadata": {},
   "outputs": [
    {
     "data": {
      "image/png": "[encoded data removed]",
      "text/plain": [
       "<Figure size 432x288 with 1 Axes>"
      ]
     },
     "metadata": {
      "needs_background": "light"
     },
     "output_type": "display_data"
    },
    {
     "data": {
      "image/png": "[encoded data removed]",
      "text/plain": [
       "<Figure size 432x288 with 1 Axes>"
      ]
     },
     "metadata": {
      "needs_background": "light"
     },
     "output_type": "display_data"
    },
    {
     "data": {
      "image/png": "[encoded data removed]",
      "text/plain": [
       "<Figure size 432x288 with 1 Axes>"
      ]
     },
     "metadata": {
      "needs_background": "light"
     },
     "output_type": "display_data"
    },
    {
     "data": {
      "image/png": "[encoded data removed]",
      "text/plain": [
       "<Figure size 432x288 with 1 Axes>"
      ]
     },
     "metadata": {
      "needs_background": "light"
     },
     "output_type": "display_data"
    }
   ],
   "source": [
    "for i in range(4):\n",
    "    some_digit = X_df.values[i]\n",
    "    some_digit_image = some_digit.reshape(28, 28)\n",
    "    plt.subplot(1, 5, i + 1)\n",
    "    plt.imshow(some_digit_image, cmap=matplotlib.cm.binary, interpolation=\"nearest\")\n",
    "    plt.axis('off')\n",
    "    plt.show()"
   ]
  },
  {
   "cell_type": "markdown",
   "id": "38e1e96f",
   "metadata": {},
   "source": [
    "#### Medium dataset"
   ]
  },
  {
   "cell_type": "code",
   "execution_count": 6,
   "id": "eff9e828",
   "metadata": {},
   "outputs": [
    {
     "data": {
      "image/png": "[encoded data removed]",
      "text/plain": [
       "<Figure size 1440x288 with 5 Axes>"
      ]
     },
     "metadata": {
      "needs_background": "light"
     },
     "output_type": "display_data"
    }
   ],
   "source": [
    "plt.figure(figsize=(20,4))\n",
    "for index, (image, label) in enumerate(zip(digits.data[0:5], \n",
    "                                           digits.target[0:5])):\n",
    "    plt.subplot(1, 5, index + 1)\n",
    "    plt.imshow(np.reshape(image, (8,8)), cmap=plt.cm.gray)\n",
    "    plt.title('Training: %i\\n' % label, fontsize = 20);"
   ]
  },
  {
   "cell_type": "markdown",
   "id": "b5a7a7fa",
   "metadata": {},
   "source": [
    "#### Split data to train and test"
   ]
  },
  {
   "cell_type": "code",
   "execution_count": 172,
   "id": "4e823277",
   "metadata": {},
   "outputs": [
    {
     "name": "stdout",
     "output_type": "stream",
     "text": [
      ">1 f(372) = 0.935900\n",
      ">2 f(390) = 0.935900\n",
      ">3 f(371) = 0.935900\n",
      ">4 f(384) = 0.935900\n",
      ">5 f(380) = 0.935900\n",
      ">6 f(372) = 0.935900\n",
      ">7 f(385) = 0.935900\n",
      ">8 f(366) = 0.935900\n",
      ">9 f(352) = 0.935900\n",
      ">10 f(376) = 0.935900\n",
      "Done!\n",
      "Optimal number of features is 372 with a score of 0.935900\n"
     ]
    }
   ],
   "source": [
    "# define dataset\n",
    "X, y = X_df.values, y_df\n",
    "#digits.data, digits.target\n",
    "# define the total iterations\n",
    "n_iter = 10\n",
    "# probability of including/excluding a column\n",
    "p_mut = 0.1\n",
    "# perform the hill climbing search\n",
    "subset, score = hillclimbing(X, y, objective, n_iter, p_mut, True)\n",
    "# convert into column indexes\n",
    "ix = [i for i, x in enumerate(subset) if x]\n",
    "ix_lar = ix\n",
    "ix_lar_act = X.shape[1]\n",
    "print('Done!')\n",
    "print('Optimal number of features is %d with a score of %f' % (len(ix), score))"
   ]
  },
  {
   "cell_type": "code",
   "execution_count": 173,
   "id": "496278a1",
   "metadata": {},
   "outputs": [],
   "source": [
    "#Select the optimal number of features\n",
    "X_sel = X[:,ix]"
   ]
  },
  {
   "cell_type": "code",
   "execution_count": 174,
   "id": "0299d6e4",
   "metadata": {},
   "outputs": [
    {
     "name": "stdout",
     "output_type": "stream",
     "text": [
      "The original dataset has 784 columns and 10000 Observations\n"
     ]
    }
   ],
   "source": [
    "print('The original dataset has',X.shape[1], 'columns and',X.shape[0], 'Observations')"
   ]
  },
  {
   "cell_type": "code",
   "execution_count": 175,
   "id": "4db9bc3e",
   "metadata": {},
   "outputs": [
    {
     "name": "stdout",
     "output_type": "stream",
     "text": [
      "The new dataset has 372 columns and 10000 Observations\n"
     ]
    }
   ],
   "source": [
    "print('The new dataset has',X_sel.shape[1], 'columns and',X_sel.shape[0], 'Observations')"
   ]
  },
  {
   "cell_type": "code",
   "execution_count": 176,
   "id": "163a46fb",
   "metadata": {},
   "outputs": [],
   "source": [
    "X_train, X_test, y_train, y_test = train_test_split(X, \n",
    "                                                    y_df,\n",
    "                                                   test_size=0.25,\n",
    "                                                   random_state=0)\n",
    "\n",
    "X_train = (X_train).astype('float32') # all pixel values\n",
    "X_test = X_test.astype('float32')"
   ]
  },
  {
   "cell_type": "code",
   "execution_count": 177,
   "id": "753a3142",
   "metadata": {},
   "outputs": [],
   "source": [
    "\n",
    "X_train_sel, X_test_sel, y_train_sel, y_test_sel = train_test_split(X_sel, \n",
    "                                                    y_df,\n",
    "                                                   test_size=0.25,\n",
    "                                                   random_state=0)"
   ]
  },
  {
   "cell_type": "code",
   "execution_count": 178,
   "id": "0693d5c4",
   "metadata": {},
   "outputs": [],
   "source": [
    "X_train_sel = (X_train_sel).astype('float32') # all pixel values\n",
    "X_test_sel = X_test_sel.astype('float32')"
   ]
  },
  {
   "cell_type": "markdown",
   "id": "a7e04b3d",
   "metadata": {},
   "source": [
    "#### Performance of classification models using the original and feature selected data"
   ]
  },
  {
   "cell_type": "code",
   "execution_count": 179,
   "id": "9a18ab95",
   "metadata": {},
   "outputs": [],
   "source": [
    "start = time.process_time()\n",
    "# Stochastic Gradient Descent (it can handle big datasets every efficiently)\n",
    "sgd_clf = SGDClassifier( random_state=42)\n",
    "sgd_clf.fit(X_train,y_train)\n",
    "\n",
    "# Performance Measure with k fold cross validation with three folds\n",
    "\n",
    "cross_val_score(sgd_clf, X_test, y_test, cv=3, scoring=\"accuracy\")\n",
    "\n",
    "\n",
    "y_test_pred_mnist = cross_val_predict(sgd_clf, X_test, y_test, cv =3)\n",
    "mnist_x_perf = accuracy_score(y_test_pred_mnist, y_test)\n",
    "\n",
    "lar_time_x= time.process_time() - start"
   ]
  },
  {
   "cell_type": "code",
   "execution_count": null,
   "id": "fa68e071",
   "metadata": {},
   "outputs": [],
   "source": []
  },
  {
   "cell_type": "code",
   "execution_count": null,
   "id": "39f59fb0",
   "metadata": {},
   "outputs": [],
   "source": []
  },
  {
   "cell_type": "code",
   "execution_count": 180,
   "id": "51b3be36",
   "metadata": {},
   "outputs": [
    {
     "name": "stdout",
     "output_type": "stream",
     "text": [
      "              precision    recall  f1-score   support\n",
      "\n",
      "           0       0.94      0.94      0.94       253\n",
      "           1       0.93      0.94      0.93       269\n",
      "           2       0.88      0.80      0.84       248\n",
      "           3       0.84      0.79      0.82       278\n",
      "           4       0.90      0.84      0.87       238\n",
      "           5       0.71      0.78      0.74       228\n",
      "           6       0.90      0.92      0.91       257\n",
      "           7       0.85      0.87      0.86       249\n",
      "           8       0.75      0.72      0.73       249\n",
      "           9       0.72      0.80      0.76       231\n",
      "\n",
      "    accuracy                           0.84      2500\n",
      "   macro avg       0.84      0.84      0.84      2500\n",
      "weighted avg       0.84      0.84      0.84      2500\n",
      "\n"
     ]
    }
   ],
   "source": [
    "print(classification_report(y_test, y_test_pred_mnist))"
   ]
  },
  {
   "cell_type": "markdown",
   "id": "bdeb7ef6",
   "metadata": {},
   "source": [
    "#### Feature selection performance"
   ]
  },
  {
   "cell_type": "code",
   "execution_count": 181,
   "id": "2dfa5c4f",
   "metadata": {},
   "outputs": [],
   "source": [
    "start = time.process_time()\n",
    "sgd_clf = SGDClassifier( random_state=42)\n",
    "sgd_clf.fit(X_train,y_train)\n",
    "\n",
    "cross_val_score(sgd_clf, X_test_sel, y_test_sel, cv=3, scoring=\"accuracy\")\n",
    "\n",
    "\n",
    "y_test_pred_sel_mnist = cross_val_predict(sgd_clf, X_test_sel, y_test_sel, cv =3)\n",
    "mnist_x_sel_perf = accuracy_score(y_test_pred_sel_mnist, y_test)\n",
    "lar_time_sel = time.process_time() - start"
   ]
  },
  {
   "cell_type": "code",
   "execution_count": 182,
   "id": "8a06a0d1",
   "metadata": {},
   "outputs": [
    {
     "name": "stdout",
     "output_type": "stream",
     "text": [
      "              precision    recall  f1-score   support\n",
      "\n",
      "           0       0.93      0.93      0.93       253\n",
      "           1       0.88      0.90      0.89       269\n",
      "           2       0.80      0.79      0.79       248\n",
      "           3       0.81      0.76      0.78       278\n",
      "           4       0.86      0.82      0.84       238\n",
      "           5       0.78      0.70      0.74       228\n",
      "           6       0.90      0.88      0.89       257\n",
      "           7       0.87      0.83      0.85       249\n",
      "           8       0.64      0.76      0.69       249\n",
      "           9       0.73      0.78      0.75       231\n",
      "\n",
      "    accuracy                           0.82      2500\n",
      "   macro avg       0.82      0.82      0.82      2500\n",
      "weighted avg       0.82      0.82      0.82      2500\n",
      "\n"
     ]
    }
   ],
   "source": [
    "print(classification_report(y_test_sel, y_test_pred_sel_mnist))"
   ]
  },
  {
   "cell_type": "markdown",
   "id": "c957adcb",
   "metadata": {},
   "source": [
    "### Naive Bayes"
   ]
  },
  {
   "cell_type": "code",
   "execution_count": 183,
   "id": "9b6b8df3",
   "metadata": {},
   "outputs": [],
   "source": [
    "start = time.process_time()\n",
    "# Stochastic Gradient Descent (it can handle big datasets every efficiently)\n",
    "nb_clf = GaussianNB()\n",
    "nb_clf.fit(X_train,y_train)\n",
    "\n",
    "# Performance Measure with k fold cross validation with three folds\n",
    "cross_val_score(nb_clf, X_test, y_test, cv=3, scoring=\"accuracy\")\n",
    "\n",
    "#make predictions\n",
    "y_test_pred_mnist_nb = cross_val_predict(nb_clf, X_test, y_test, cv =3)\n",
    "\n",
    "mnist_nb_x_perf = accuracy_score(y_test_pred_mnist_nb, y_test)\n",
    "\n",
    "\n",
    "lar_nb_time_x = time.process_time() - start"
   ]
  },
  {
   "cell_type": "code",
   "execution_count": 184,
   "id": "101d54b0",
   "metadata": {},
   "outputs": [
    {
     "name": "stdout",
     "output_type": "stream",
     "text": [
      "              precision    recall  f1-score   support\n",
      "\n",
      "           0       0.73      0.85      0.79       253\n",
      "           1       0.67      0.90      0.77       269\n",
      "           2       0.70      0.42      0.52       248\n",
      "           3       0.81      0.38      0.52       278\n",
      "           4       0.78      0.54      0.64       238\n",
      "           5       0.62      0.24      0.34       228\n",
      "           6       0.64      0.88      0.74       257\n",
      "           7       0.87      0.43      0.58       249\n",
      "           8       0.33      0.45      0.38       249\n",
      "           9       0.42      0.89      0.57       231\n",
      "\n",
      "    accuracy                           0.60      2500\n",
      "   macro avg       0.66      0.60      0.58      2500\n",
      "weighted avg       0.66      0.60      0.59      2500\n",
      "\n"
     ]
    }
   ],
   "source": [
    "print(classification_report(y_test, y_test_pred_mnist_nb))"
   ]
  },
  {
   "cell_type": "code",
   "execution_count": 185,
   "id": "5550ac22",
   "metadata": {},
   "outputs": [],
   "source": [
    "start = time.process_time()\n",
    "nb_clf = GaussianNB()\n",
    "nb_clf.fit(X_train_sel,y_train)\n",
    "\n",
    "cross_val_score(nb_clf, X_test_sel, y_test_sel, cv=3, scoring=\"accuracy\")\n",
    "\n",
    "\n",
    "y_test_pred_sel_mnist_nb = cross_val_predict(nb_clf, X_test_sel, y_test_sel, cv =3)\n",
    "\n",
    "mnist_nb_x_perf_sel = accuracy_score(y_test_pred_sel_mnist_nb, y_test)\n",
    "\n",
    "lar_nb_time_sel = time.process_time() - start"
   ]
  },
  {
   "cell_type": "code",
   "execution_count": 186,
   "id": "6056bf99",
   "metadata": {},
   "outputs": [
    {
     "name": "stdout",
     "output_type": "stream",
     "text": [
      "              precision    recall  f1-score   support\n",
      "\n",
      "           0       0.79      0.85      0.82       253\n",
      "           1       0.59      0.92      0.72       269\n",
      "           2       0.76      0.44      0.55       248\n",
      "           3       0.75      0.47      0.58       278\n",
      "           4       0.72      0.51      0.60       238\n",
      "           5       0.69      0.48      0.56       228\n",
      "           6       0.69      0.84      0.76       257\n",
      "           7       0.78      0.41      0.53       249\n",
      "           8       0.45      0.43      0.44       249\n",
      "           9       0.39      0.82      0.53       231\n",
      "\n",
      "    accuracy                           0.62      2500\n",
      "   macro avg       0.66      0.62      0.61      2500\n",
      "weighted avg       0.66      0.62      0.61      2500\n",
      "\n"
     ]
    }
   ],
   "source": [
    "print(classification_report(y_test_sel, y_test_pred_sel_mnist_nb))"
   ]
  },
  {
   "cell_type": "markdown",
   "id": "3f7c7bdd",
   "metadata": {},
   "source": [
    "## Medium sized dataset"
   ]
  },
  {
   "cell_type": "code",
   "execution_count": 188,
   "id": "57a5bded",
   "metadata": {},
   "outputs": [
    {
     "name": "stdout",
     "output_type": "stream",
     "text": [
      "Done!\n",
      "Optimal number of features is 38 with a score of 0.939343\n"
     ]
    }
   ],
   "source": [
    "# define dataset\n",
    "X, y = digits.data, digits.target\n",
    "# define the total iterations\n",
    "n_iter = 100\n",
    "# probability of including/excluding a column\n",
    "p_mut = 0.1\n",
    "# perform the hill climbing search\n",
    "subset, score = hillclimbing(X, y, objective, n_iter, p_mut, False)\n",
    "# convert into column indexes\n",
    "ix = [i for i, x in enumerate(subset) if x]\n",
    "ix_med = ix\n",
    "ix_med_act = X.shape[1]\n",
    "print('Done!')\n",
    "print('Optimal number of features is %d with a score of %f' % (len(ix), score))"
   ]
  },
  {
   "cell_type": "code",
   "execution_count": 189,
   "id": "3ca5096b",
   "metadata": {},
   "outputs": [],
   "source": [
    "#Select the optimal number of features\n",
    "X_sel = X[:,ix]"
   ]
  },
  {
   "cell_type": "code",
   "execution_count": 190,
   "id": "0cadc8bf",
   "metadata": {},
   "outputs": [
    {
     "name": "stdout",
     "output_type": "stream",
     "text": [
      "The original dataset has 64 columns and 1797 Observations\n"
     ]
    }
   ],
   "source": [
    "print('The original dataset has',X.shape[1], 'columns and',X.shape[0], 'Observations')"
   ]
  },
  {
   "cell_type": "code",
   "execution_count": 191,
   "id": "7b7b283e",
   "metadata": {},
   "outputs": [
    {
     "name": "stdout",
     "output_type": "stream",
     "text": [
      "The new dataset has 38 columns and 1797 Observations\n"
     ]
    }
   ],
   "source": [
    "print('The new dataset has',X_sel.shape[1], 'columns and',X_sel.shape[0], 'Observations')"
   ]
  },
  {
   "cell_type": "code",
   "execution_count": 192,
   "id": "3065ceff",
   "metadata": {},
   "outputs": [],
   "source": [
    "X_train, X_test, y_train, y_test = train_test_split(X, \n",
    "                                                    y,\n",
    "                                                   test_size=0.25,\n",
    "                                                   random_state=0)\n",
    "\n",
    "X_train = (X_train).astype('float32') # all pixel values\n",
    "X_test = X_test.astype('float32')"
   ]
  },
  {
   "cell_type": "code",
   "execution_count": 193,
   "id": "37f7d010",
   "metadata": {},
   "outputs": [],
   "source": [
    "\n",
    "X_train_sel, X_test_sel, y_train_sel, y_test_sel = train_test_split(X_sel, \n",
    "                                                    y,\n",
    "                                                   test_size=0.25,\n",
    "                                                   random_state=0)"
   ]
  },
  {
   "cell_type": "code",
   "execution_count": 194,
   "id": "7b4021e4",
   "metadata": {},
   "outputs": [],
   "source": [
    "X_train_sel = (X_train_sel).astype('float32') # all pixel values\n",
    "X_test_sel = X_test_sel.astype('float32')"
   ]
  },
  {
   "cell_type": "markdown",
   "id": "acf0878c",
   "metadata": {},
   "source": [
    "#### Performance of classification models using the original and feature selected data"
   ]
  },
  {
   "cell_type": "code",
   "execution_count": 195,
   "id": "9bebce1c",
   "metadata": {},
   "outputs": [],
   "source": [
    "start = time.process_time()\n",
    "# Stochastic Gradient Descent (it can handle big datasets every efficiently)\n",
    "sgd_clf = SGDClassifier( random_state=42)\n",
    "sgd_clf.fit(X_train,y_train)\n",
    "\n",
    "# Performance Measure with k fold cross validation with three folds\n",
    "cross_val_score(sgd_clf, X_test, y_test, cv=3, scoring=\"accuracy\")\n",
    "\n",
    "\n",
    "y_test_pred_digits = cross_val_predict(sgd_clf, X_test, y_test, cv =3)\n",
    "\n",
    "digits_x_perf = accuracy_score(y_test_pred_digits, y_test)\n",
    "med_time_x = time.process_time() - start"
   ]
  },
  {
   "cell_type": "code",
   "execution_count": 196,
   "id": "00afde5d",
   "metadata": {},
   "outputs": [
    {
     "name": "stdout",
     "output_type": "stream",
     "text": [
      "              precision    recall  f1-score   support\n",
      "\n",
      "           0       1.00      1.00      1.00        37\n",
      "           1       0.90      0.84      0.87        43\n",
      "           2       0.97      0.84      0.90        44\n",
      "           3       0.87      0.87      0.87        45\n",
      "           4       0.90      0.92      0.91        38\n",
      "           5       0.92      0.96      0.94        48\n",
      "           6       0.98      1.00      0.99        52\n",
      "           7       0.94      0.92      0.93        48\n",
      "           8       0.77      0.83      0.80        48\n",
      "           9       0.82      0.85      0.83        47\n",
      "\n",
      "    accuracy                           0.90       450\n",
      "   macro avg       0.91      0.90      0.90       450\n",
      "weighted avg       0.90      0.90      0.90       450\n",
      "\n"
     ]
    }
   ],
   "source": [
    "print(classification_report(y_test, y_test_pred_digits))"
   ]
  },
  {
   "cell_type": "markdown",
   "id": "ca325ef0",
   "metadata": {},
   "source": [
    "#### Feature selection performance"
   ]
  },
  {
   "cell_type": "code",
   "execution_count": 197,
   "id": "96d7fee9",
   "metadata": {},
   "outputs": [],
   "source": [
    "start = time.process_time()\n",
    "sgd_clf = SGDClassifier( random_state=42)\n",
    "sgd_clf.fit(X_train,y_train)\n",
    "\n",
    "cross_val_score(sgd_clf, X_test_sel, y_test_sel, cv=3, scoring=\"accuracy\")\n",
    "\n",
    "\n",
    "y_test_pred_sel_digits = cross_val_predict(sgd_clf, X_test_sel, y_test_sel, cv =3)\n",
    "\n",
    "digits_x_perf_sel = accuracy_score(y_test_pred_sel_digits, y_test)\n",
    "\n",
    "med_time_sel = time.process_time() - start"
   ]
  },
  {
   "cell_type": "code",
   "execution_count": 198,
   "id": "d5809ce4",
   "metadata": {},
   "outputs": [
    {
     "name": "stdout",
     "output_type": "stream",
     "text": [
      "              precision    recall  f1-score   support\n",
      "\n",
      "           0       1.00      1.00      1.00        37\n",
      "           1       0.84      0.86      0.85        43\n",
      "           2       0.95      0.89      0.92        44\n",
      "           3       0.86      0.93      0.89        45\n",
      "           4       0.94      0.89      0.92        38\n",
      "           5       0.87      0.98      0.92        48\n",
      "           6       0.98      0.98      0.98        52\n",
      "           7       0.93      0.88      0.90        48\n",
      "           8       0.80      0.92      0.85        48\n",
      "           9       0.95      0.74      0.83        47\n",
      "\n",
      "    accuracy                           0.91       450\n",
      "   macro avg       0.91      0.91      0.91       450\n",
      "weighted avg       0.91      0.91      0.91       450\n",
      "\n"
     ]
    }
   ],
   "source": [
    "print(classification_report(y_test_sel, y_test_pred_sel_digits))"
   ]
  },
  {
   "cell_type": "markdown",
   "id": "f0274f18",
   "metadata": {},
   "source": [
    "### Naive Bayes"
   ]
  },
  {
   "cell_type": "code",
   "execution_count": 199,
   "id": "d5366406",
   "metadata": {},
   "outputs": [],
   "source": [
    "start = time.process_time()\n",
    "# Stochastic Gradient Descent (it can handle big datasets every efficiently)\n",
    "nb_clf = GaussianNB()\n",
    "nb_clf.fit(X_train,y_train)\n",
    "\n",
    "# Performance Measure with k fold cross validation with three folds\n",
    "cross_val_score(nb_clf, X_test, y_test, cv=3, scoring=\"accuracy\")\n",
    "\n",
    "#make predictions\n",
    "y_test_pred_digits = cross_val_predict(nb_clf, X_test, y_test, cv =3)\n",
    "\n",
    "digits_x_perf_nb = accuracy_score(y_test_pred_digits, y_test)\n",
    "med_nb_time_x = time.process_time() - start"
   ]
  },
  {
   "cell_type": "code",
   "execution_count": 200,
   "id": "ca756ce1",
   "metadata": {},
   "outputs": [
    {
     "name": "stdout",
     "output_type": "stream",
     "text": [
      "              precision    recall  f1-score   support\n",
      "\n",
      "           0       1.00      0.95      0.97        37\n",
      "           1       0.82      0.77      0.80        43\n",
      "           2       0.89      0.73      0.80        44\n",
      "           3       0.90      0.82      0.86        45\n",
      "           4       0.89      0.82      0.85        38\n",
      "           5       0.90      0.90      0.90        48\n",
      "           6       0.91      0.96      0.93        52\n",
      "           7       0.80      0.92      0.85        48\n",
      "           8       0.61      0.90      0.72        48\n",
      "           9       0.88      0.64      0.74        47\n",
      "\n",
      "    accuracy                           0.84       450\n",
      "   macro avg       0.86      0.84      0.84       450\n",
      "weighted avg       0.86      0.84      0.84       450\n",
      "\n"
     ]
    }
   ],
   "source": [
    "print(classification_report(y_test, y_test_pred_digits))"
   ]
  },
  {
   "cell_type": "code",
   "execution_count": 201,
   "id": "37e691b6",
   "metadata": {},
   "outputs": [],
   "source": [
    "start = time.process_time()\n",
    "nb_clf = GaussianNB()\n",
    "nb_clf.fit(X_train_sel,y_train)\n",
    "\n",
    "cross_val_score(nb_clf, X_test_sel, y_test_sel, cv=3, scoring=\"accuracy\")\n",
    "\n",
    "y_test_pred_sel_digits_nb = cross_val_predict(nb_clf, X_test_sel, y_test_sel, cv =3)\n",
    "\n",
    "digits_nb_x_perf_sel = accuracy_score(y_test_pred_sel_digits_nb, y_test)\n",
    "\n",
    "med_nb_time_sel = time.process_time() - start"
   ]
  },
  {
   "cell_type": "code",
   "execution_count": null,
   "id": "b660cbf0",
   "metadata": {},
   "outputs": [],
   "source": []
  },
  {
   "cell_type": "code",
   "execution_count": 202,
   "id": "09dfac31",
   "metadata": {},
   "outputs": [
    {
     "name": "stdout",
     "output_type": "stream",
     "text": [
      "              precision    recall  f1-score   support\n",
      "\n",
      "           0       1.00      0.95      0.97        37\n",
      "           1       0.78      0.72      0.75        43\n",
      "           2       0.76      0.93      0.84        44\n",
      "           3       0.87      0.76      0.81        45\n",
      "           4       0.88      0.79      0.83        38\n",
      "           5       0.91      0.88      0.89        48\n",
      "           6       0.88      0.96      0.92        52\n",
      "           7       0.82      0.94      0.87        48\n",
      "           8       0.84      0.85      0.85        48\n",
      "           9       0.83      0.72      0.77        47\n",
      "\n",
      "    accuracy                           0.85       450\n",
      "   macro avg       0.86      0.85      0.85       450\n",
      "weighted avg       0.85      0.85      0.85       450\n",
      "\n"
     ]
    }
   ],
   "source": [
    "print(classification_report(y_test_sel, y_test_pred_sel_digits_nb))"
   ]
  },
  {
   "cell_type": "markdown",
   "id": "26e474b1",
   "metadata": {},
   "source": [
    "## Small dataset\n",
    "\n",
    "> Wincosin Breast Cancer Dataset"
   ]
  },
  {
   "cell_type": "code",
   "execution_count": 203,
   "id": "82f00e52",
   "metadata": {},
   "outputs": [],
   "source": [
    "\n",
    "\n",
    "cancer = load_breast_cancer()\n",
    "\n",
    "X, y = cancer.data, cancer.target"
   ]
  },
  {
   "cell_type": "code",
   "execution_count": 204,
   "id": "97a1cf8c",
   "metadata": {},
   "outputs": [
    {
     "name": "stdout",
     "output_type": "stream",
     "text": [
      "Done!\n",
      "Optimal number of features is 16 with a score of 0.968375\n"
     ]
    }
   ],
   "source": [
    "# define the total iterations\n",
    "n_iter = 100\n",
    "# probability of including/excluding a column\n",
    "p_mut = 0.1\n",
    "# perform the hill climbing search\n",
    "\n",
    "# perform the hill climbing search\n",
    "subset, score = hillclimbing(X, y, objective, n_iter, p_mut, False)\n",
    "# convert into column indexes\n",
    "ix = [i for i, x in enumerate(subset) if x]\n",
    "ix_sma = ix\n",
    "ix_sma_act = X.shape[1]\n",
    "print('Done!')\n",
    "print('Optimal number of features is %d with a score of %f' % (len(ix), score))"
   ]
  },
  {
   "cell_type": "code",
   "execution_count": 205,
   "id": "bb30e5ce",
   "metadata": {},
   "outputs": [],
   "source": [
    "#Select the optimal number of features\n",
    "X_sel = X[:,ix]"
   ]
  },
  {
   "cell_type": "code",
   "execution_count": 206,
   "id": "8751566e",
   "metadata": {},
   "outputs": [
    {
     "name": "stdout",
     "output_type": "stream",
     "text": [
      "The original dataset has 30 columns and 569 Observations\n"
     ]
    }
   ],
   "source": [
    "print('The original dataset has',X.shape[1], 'columns and',X.shape[0], 'Observations')"
   ]
  },
  {
   "cell_type": "code",
   "execution_count": 207,
   "id": "929a9f14",
   "metadata": {},
   "outputs": [
    {
     "name": "stdout",
     "output_type": "stream",
     "text": [
      "The new dataset has 16 columns and 569 Observations\n"
     ]
    }
   ],
   "source": [
    "print('The new dataset has',X_sel.shape[1], 'columns and',X_sel.shape[0], 'Observations')"
   ]
  },
  {
   "cell_type": "code",
   "execution_count": 208,
   "id": "1f91a2a5",
   "metadata": {},
   "outputs": [],
   "source": [
    "X_train, X_test, y_train, y_test = train_test_split(X, \n",
    "                                                    y,\n",
    "                                                   test_size=0.25,\n",
    "                                                   random_state=0)"
   ]
  },
  {
   "cell_type": "code",
   "execution_count": 209,
   "id": "8c38ac6a",
   "metadata": {},
   "outputs": [],
   "source": [
    "\n",
    "X_train_sel, X_test_sel, y_train_sel, y_test_sel = train_test_split(X_sel, \n",
    "                                                    y,\n",
    "                                                   test_size=0.25,\n",
    "                                                   random_state=0)"
   ]
  },
  {
   "cell_type": "code",
   "execution_count": 210,
   "id": "b4543f17",
   "metadata": {},
   "outputs": [],
   "source": [
    "X_train_sel = (X_train_sel).astype('float32') # all pixel values\n",
    "X_test_sel = X_test_sel.astype('float32')"
   ]
  },
  {
   "cell_type": "markdown",
   "id": "c3ad4c65",
   "metadata": {},
   "source": [
    "### Stochastic Gradient Descent"
   ]
  },
  {
   "cell_type": "code",
   "execution_count": 211,
   "id": "8702a906",
   "metadata": {},
   "outputs": [],
   "source": [
    "start = time.process_time()\n",
    "# Stochastic Gradient Descent (it can handle big datasets every efficiently)\n",
    "sgd_clf = SGDClassifier( random_state=42)\n",
    "sgd_clf.fit(X_train,y_train)\n",
    "\n",
    "# Performance Measure with k fold cross validation with three folds\n",
    "cross_val_score(sgd_clf, X_test, y_test, cv=3, scoring=\"accuracy\")\n",
    "y_test_pred_cancer = cross_val_predict(sgd_clf, X_test, y_test, cv =3)\n",
    "cancer_x_perf = accuracy_score(y_test_pred_cancer, y_test)\n",
    "sma_time_x = time.process_time() - start"
   ]
  },
  {
   "cell_type": "code",
   "execution_count": 212,
   "id": "04576f85",
   "metadata": {},
   "outputs": [
    {
     "name": "stdout",
     "output_type": "stream",
     "text": [
      "              precision    recall  f1-score   support\n",
      "\n",
      "           0       0.52      0.83      0.64        53\n",
      "           1       0.85      0.56      0.67        90\n",
      "\n",
      "    accuracy                           0.66       143\n",
      "   macro avg       0.69      0.69      0.66       143\n",
      "weighted avg       0.73      0.66      0.66       143\n",
      "\n"
     ]
    }
   ],
   "source": [
    "print(classification_report(y_test_sel, y_test_pred_cancer))"
   ]
  },
  {
   "cell_type": "code",
   "execution_count": 213,
   "id": "37ef2a80",
   "metadata": {},
   "outputs": [],
   "source": [
    "start = time.process_time()\n",
    "sgd_clf = SGDClassifier( random_state=42)\n",
    "sgd_clf.fit(X_train_sel,y_train)\n",
    "\n",
    "cross_val_score(sgd_clf, X_test_sel, y_test_sel, cv=3, scoring=\"accuracy\")\n",
    "\n",
    "\n",
    "y_test_pred_sel_cancer = cross_val_predict(sgd_clf, X_test_sel, y_test_sel, cv =3)\n",
    "\n",
    "cancer_x_perf_sel = accuracy_score(y_test_pred_sel_cancer, y_test)\n",
    "\n",
    "sma_time_sel = time.process_time() - start"
   ]
  },
  {
   "cell_type": "code",
   "execution_count": 214,
   "id": "04996a8b",
   "metadata": {},
   "outputs": [
    {
     "name": "stdout",
     "output_type": "stream",
     "text": [
      "              precision    recall  f1-score   support\n",
      "\n",
      "           0       0.67      0.53      0.59        53\n",
      "           1       0.75      0.84      0.80        90\n",
      "\n",
      "    accuracy                           0.73       143\n",
      "   macro avg       0.71      0.69      0.69       143\n",
      "weighted avg       0.72      0.73      0.72       143\n",
      "\n"
     ]
    }
   ],
   "source": [
    "print(classification_report(y_test_sel, y_test_pred_sel_cancer))"
   ]
  },
  {
   "cell_type": "markdown",
   "id": "e0bfb1f4",
   "metadata": {},
   "source": [
    "### Naive Bayes"
   ]
  },
  {
   "cell_type": "code",
   "execution_count": 215,
   "id": "90371a2f",
   "metadata": {},
   "outputs": [],
   "source": [
    "start = time.process_time()\n",
    "# Stochastic Gradient Descent (it can handle big datasets every efficiently)\n",
    "nb_clf = GaussianNB()\n",
    "nb_clf.fit(X_train,y_train)\n",
    "\n",
    "# Performance Measure with k fold cross validation with three folds\n",
    "cross_val_score(nb_clf, X_test, y_test, cv=3, scoring=\"accuracy\")\n",
    "\n",
    "#make predictions\n",
    "y_test_pred_cancer_nb = cross_val_predict(nb_clf, X_test, y_test, cv =3)\n",
    "\n",
    "cancer_nb_x_perf_nb = accuracy_score(y_test_pred_cancer_nb, y_test)\n",
    "\n",
    "sma_nb_time_x = time.process_time() - start"
   ]
  },
  {
   "cell_type": "code",
   "execution_count": 216,
   "id": "067b022b",
   "metadata": {},
   "outputs": [
    {
     "name": "stdout",
     "output_type": "stream",
     "text": [
      "              precision    recall  f1-score   support\n",
      "\n",
      "           0       0.94      0.91      0.92        53\n",
      "           1       0.95      0.97      0.96        90\n",
      "\n",
      "    accuracy                           0.94       143\n",
      "   macro avg       0.94      0.94      0.94       143\n",
      "weighted avg       0.94      0.94      0.94       143\n",
      "\n"
     ]
    }
   ],
   "source": [
    "print(classification_report(y_test, y_test_pred_cancer_nb))"
   ]
  },
  {
   "cell_type": "code",
   "execution_count": 217,
   "id": "3cd83473",
   "metadata": {},
   "outputs": [],
   "source": [
    "start = time.process_time()\n",
    "nb_clf = GaussianNB()\n",
    "nb_clf.fit(X_train_sel,y_train)\n",
    "\n",
    "cross_val_score(nb_clf, X_test_sel, y_test_sel, cv=3, scoring=\"accuracy\")\n",
    "\n",
    "y_test_pred_sel_cancer_nb = cross_val_predict(nb_clf, X_test_sel, y_test_sel, cv =3)\n",
    "cancer_nb_x_perf_nb_sel = accuracy_score(y_test_pred_sel_cancer_nb, y_test)\n",
    "\n",
    "sma_nb_time_sel = time.process_time() - start"
   ]
  },
  {
   "cell_type": "code",
   "execution_count": 218,
   "id": "3a9d7102",
   "metadata": {},
   "outputs": [
    {
     "name": "stdout",
     "output_type": "stream",
     "text": [
      "              precision    recall  f1-score   support\n",
      "\n",
      "           0       0.98      0.91      0.94        53\n",
      "           1       0.95      0.99      0.97        90\n",
      "\n",
      "    accuracy                           0.96       143\n",
      "   macro avg       0.96      0.95      0.95       143\n",
      "weighted avg       0.96      0.96      0.96       143\n",
      "\n"
     ]
    }
   ],
   "source": [
    "print(classification_report(y_test_sel, y_test_pred_sel_cancer_nb))"
   ]
  },
  {
   "cell_type": "markdown",
   "id": "87c85e70",
   "metadata": {},
   "source": [
    "##### Mnist Performance"
   ]
  },
  {
   "cell_type": "code",
   "execution_count": 219,
   "id": "63ac0197",
   "metadata": {},
   "outputs": [
    {
     "data": {
      "text/html": [
       "<div>\n",
       "<style scoped>\n",
       "    .dataframe tbody tr th:only-of-type {\n",
       "        vertical-align: middle;\n",
       "    }\n",
       "\n",
       "    .dataframe tbody tr th {\n",
       "        vertical-align: top;\n",
       "    }\n",
       "\n",
       "    .dataframe thead th {\n",
       "        text-align: right;\n",
       "    }\n",
       "</style>\n",
       "<table border=\"1\" class=\"dataframe\">\n",
       "  <thead>\n",
       "    <tr style=\"text-align: right;\">\n",
       "      <th></th>\n",
       "      <th>Model</th>\n",
       "      <th>Number of features</th>\n",
       "      <th>Classification Accuracy (%)</th>\n",
       "      <th>Time taken</th>\n",
       "    </tr>\n",
       "  </thead>\n",
       "  <tbody>\n",
       "    <tr>\n",
       "      <th>0</th>\n",
       "      <td>SGD</td>\n",
       "      <td>784</td>\n",
       "      <td>84.20</td>\n",
       "      <td>13.1719</td>\n",
       "    </tr>\n",
       "    <tr>\n",
       "      <th>1</th>\n",
       "      <td>SGD</td>\n",
       "      <td>372</td>\n",
       "      <td>81.72</td>\n",
       "      <td>11.2812</td>\n",
       "    </tr>\n",
       "    <tr>\n",
       "      <th>2</th>\n",
       "      <td>Naive Bayes</td>\n",
       "      <td>784</td>\n",
       "      <td>60.08</td>\n",
       "      <td>1.0625</td>\n",
       "    </tr>\n",
       "    <tr>\n",
       "      <th>3</th>\n",
       "      <td>Naive Bayes</td>\n",
       "      <td>372</td>\n",
       "      <td>61.80</td>\n",
       "      <td>0.4688</td>\n",
       "    </tr>\n",
       "  </tbody>\n",
       "</table>\n",
       "</div>"
      ],
      "text/plain": [
       "         Model  Number of features  Classification Accuracy (%)  Time taken\n",
       "0          SGD                 784                        84.20     13.1719\n",
       "1          SGD                 372                        81.72     11.2812\n",
       "2  Naive Bayes                 784                        60.08      1.0625\n",
       "3  Naive Bayes                 372                        61.80      0.4688"
      ]
     },
     "execution_count": 219,
     "metadata": {},
     "output_type": "execute_result"
    }
   ],
   "source": [
    "perf_mnist = pd.DataFrame()\n",
    "\n",
    "perf_mnist['Model'] = ['SGD', 'SGD', 'Naive Bayes', 'Naive Bayes']\n",
    "\n",
    "perf_mnist['Number of features'] = [ix_lar_act, len(ix_lar), ix_lar_act, len(ix_lar)]\n",
    "\n",
    "\n",
    "perf_mnist['Classification Accuracy (%)'] = [mnist_x_perf, mnist_x_sel_perf, mnist_nb_x_perf, mnist_nb_x_perf_sel]\n",
    "perf_mnist['Classification Accuracy (%)'] = perf_mnist['Classification Accuracy (%)']*100\n",
    "\n",
    "perf_mnist['Time taken'] = [lar_time_x, lar_time_sel, lar_nb_time_x, lar_nb_time_sel]\n",
    "round(perf_mnist, 4)"
   ]
  },
  {
   "cell_type": "markdown",
   "id": "0a4215b3",
   "metadata": {},
   "source": [
    "##### Digits Performance"
   ]
  },
  {
   "cell_type": "code",
   "execution_count": 220,
   "id": "ead3f030",
   "metadata": {},
   "outputs": [
    {
     "data": {
      "text/html": [
       "<div>\n",
       "<style scoped>\n",
       "    .dataframe tbody tr th:only-of-type {\n",
       "        vertical-align: middle;\n",
       "    }\n",
       "\n",
       "    .dataframe tbody tr th {\n",
       "        vertical-align: top;\n",
       "    }\n",
       "\n",
       "    .dataframe thead th {\n",
       "        text-align: right;\n",
       "    }\n",
       "</style>\n",
       "<table border=\"1\" class=\"dataframe\">\n",
       "  <thead>\n",
       "    <tr style=\"text-align: right;\">\n",
       "      <th></th>\n",
       "      <th>Model</th>\n",
       "      <th>Number of features</th>\n",
       "      <th>Classification Accuracy (%)</th>\n",
       "      <th>Time taken</th>\n",
       "    </tr>\n",
       "  </thead>\n",
       "  <tbody>\n",
       "    <tr>\n",
       "      <th>0</th>\n",
       "      <td>SGD</td>\n",
       "      <td>64</td>\n",
       "      <td>90.2222</td>\n",
       "      <td>0.2344</td>\n",
       "    </tr>\n",
       "    <tr>\n",
       "      <th>1</th>\n",
       "      <td>SGD</td>\n",
       "      <td>38</td>\n",
       "      <td>90.6667</td>\n",
       "      <td>0.3438</td>\n",
       "    </tr>\n",
       "    <tr>\n",
       "      <th>2</th>\n",
       "      <td>Naive Bayes</td>\n",
       "      <td>64</td>\n",
       "      <td>84.0000</td>\n",
       "      <td>0.0938</td>\n",
       "    </tr>\n",
       "    <tr>\n",
       "      <th>3</th>\n",
       "      <td>Naive Bayes</td>\n",
       "      <td>38</td>\n",
       "      <td>85.1111</td>\n",
       "      <td>0.0625</td>\n",
       "    </tr>\n",
       "  </tbody>\n",
       "</table>\n",
       "</div>"
      ],
      "text/plain": [
       "         Model  Number of features  Classification Accuracy (%)  Time taken\n",
       "0          SGD                  64                      90.2222      0.2344\n",
       "1          SGD                  38                      90.6667      0.3438\n",
       "2  Naive Bayes                  64                      84.0000      0.0938\n",
       "3  Naive Bayes                  38                      85.1111      0.0625"
      ]
     },
     "execution_count": 220,
     "metadata": {},
     "output_type": "execute_result"
    }
   ],
   "source": [
    "perf_digits = pd.DataFrame()\n",
    "\n",
    "perf_digits['Model'] = ['SGD', 'SGD', 'Naive Bayes', 'Naive Bayes']\n",
    "\n",
    "perf_digits['Number of features'] = [ix_med_act, len(ix_med), ix_med_act, len(ix_med)]\n",
    "\n",
    "perf_digits['Classification Accuracy (%)'] = [digits_x_perf, digits_x_perf_sel, digits_x_perf_nb, digits_nb_x_perf_sel]\n",
    "\n",
    "perf_digits['Classification Accuracy (%)'] = perf_digits['Classification Accuracy (%)']*100\n",
    "perf_digits['Time taken'] = [med_time_x, med_time_sel, med_nb_time_x, med_nb_time_sel]\n",
    "round(perf_digits, 4)"
   ]
  },
  {
   "cell_type": "markdown",
   "id": "7f79c153",
   "metadata": {},
   "source": [
    "##### Cancer Performance"
   ]
  },
  {
   "cell_type": "code",
   "execution_count": 222,
   "id": "80a7b09f",
   "metadata": {},
   "outputs": [
    {
     "data": {
      "text/html": [
       "<div>\n",
       "<style scoped>\n",
       "    .dataframe tbody tr th:only-of-type {\n",
       "        vertical-align: middle;\n",
       "    }\n",
       "\n",
       "    .dataframe tbody tr th {\n",
       "        vertical-align: top;\n",
       "    }\n",
       "\n",
       "    .dataframe thead th {\n",
       "        text-align: right;\n",
       "    }\n",
       "</style>\n",
       "<table border=\"1\" class=\"dataframe\">\n",
       "  <thead>\n",
       "    <tr style=\"text-align: right;\">\n",
       "      <th></th>\n",
       "      <th>Model</th>\n",
       "      <th>Number of features</th>\n",
       "      <th>Classification Accuracy (%)</th>\n",
       "      <th>Time taken</th>\n",
       "    </tr>\n",
       "  </thead>\n",
       "  <tbody>\n",
       "    <tr>\n",
       "      <th>0</th>\n",
       "      <td>SGD</td>\n",
       "      <td>30</td>\n",
       "      <td>65.7343</td>\n",
       "      <td>0.0156</td>\n",
       "    </tr>\n",
       "    <tr>\n",
       "      <th>1</th>\n",
       "      <td>SGD</td>\n",
       "      <td>16</td>\n",
       "      <td>72.7273</td>\n",
       "      <td>0.0156</td>\n",
       "    </tr>\n",
       "    <tr>\n",
       "      <th>2</th>\n",
       "      <td>Naive Bayes</td>\n",
       "      <td>30</td>\n",
       "      <td>94.4056</td>\n",
       "      <td>0.0156</td>\n",
       "    </tr>\n",
       "    <tr>\n",
       "      <th>3</th>\n",
       "      <td>Naive Bayes</td>\n",
       "      <td>16</td>\n",
       "      <td>95.8042</td>\n",
       "      <td>0.0469</td>\n",
       "    </tr>\n",
       "  </tbody>\n",
       "</table>\n",
       "</div>"
      ],
      "text/plain": [
       "         Model  Number of features  Classification Accuracy (%)  Time taken\n",
       "0          SGD                  30                      65.7343      0.0156\n",
       "1          SGD                  16                      72.7273      0.0156\n",
       "2  Naive Bayes                  30                      94.4056      0.0156\n",
       "3  Naive Bayes                  16                      95.8042      0.0469"
      ]
     },
     "execution_count": 222,
     "metadata": {},
     "output_type": "execute_result"
    }
   ],
   "source": [
    "perf_cancer = pd.DataFrame()\n",
    "\n",
    "perf_cancer['Model'] = ['SGD', 'SGD', 'Naive Bayes', 'Naive Bayes']\n",
    "\n",
    "\n",
    "perf_cancer['Number of features'] = [ix_sma_act, len(ix_sma), ix_sma_act, len(ix_sma)]\n",
    "\n",
    "perf_cancer['Classification Accuracy (%)'] = [cancer_x_perf, cancer_x_perf_sel,cancer_nb_x_perf_nb, cancer_nb_x_perf_nb_sel ]\n",
    "\n",
    "perf_cancer['Classification Accuracy (%)'] = perf_cancer['Classification Accuracy (%)']*100\n",
    "\n",
    "perf_cancer['Time taken'] = sma_time_x, sma_time_sel, sma_nb_time_x, sma_nb_time_sel\n",
    "round(perf_cancer, 4)"
   ]
  },
  {
   "cell_type": "code",
   "execution_count": null,
   "id": "5ccd451c",
   "metadata": {},
   "outputs": [],
   "source": []
  },
  {
   "cell_type": "code",
   "execution_count": null,
   "id": "f52d9762",
   "metadata": {},
   "outputs": [],
   "source": []
  },
  {
   "cell_type": "code",
   "execution_count": null,
   "id": "8d7fd00b",
   "metadata": {},
   "outputs": [],
   "source": []
  }
 ],
 "metadata": {
  "kernelspec": {
   "display_name": "Python 3 (ipykernel)",
   "language": "python",
   "name": "python3"
  },
  "language_info": {
   "codemirror_mode": {
    "name": "ipython",
    "version": 3
   },
   "file_extension": ".py",
   "mimetype": "text/x-python",
   "name": "python",
   "nbconvert_exporter": "python",
   "pygments_lexer": "ipython3",
   "version": "3.8.8"
  }
 },
 "nbformat": 4,
 "nbformat_minor": 5
}
