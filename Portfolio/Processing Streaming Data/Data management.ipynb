{
 "cells": [
  {
   "cell_type": "markdown",
   "id": "8fb4318d",
   "metadata": {},
   "source": [
    "### Introduction\n",
    "\n",
    "The objective of the current study is to:\n",
    "\n",
    "1. Conduct data wrangling\n",
    "To this end, we will transform the data and obtain additional fields including\n",
    "* utm_source\n",
    "* utm_medium\n",
    "* path.\n",
    "\n",
    "2. Conduct data streaming\n",
    "\n",
    "We will aggregate the data and for every 1000 records, obtain:\n",
    "\n",
    "* min date - the smallest date in the batch\n",
    "* max date - the largest date in the batch\n",
    "* unique users - the number of unique users in the batch\n"
   ]
  },
  {
   "cell_type": "markdown",
   "id": "2bd8a8ab",
   "metadata": {},
   "source": [
    "#### Import data"
   ]
  },
  {
   "cell_type": "code",
   "execution_count": 21,
   "id": "cc245f0e",
   "metadata": {},
   "outputs": [
    {
     "data": {
      "text/plain": [
       "['Data Streaming.csv', 'data.csv', 'path_medium_source.csv']"
      ]
     },
     "execution_count": 21,
     "metadata": {},
     "output_type": "execute_result"
    }
   ],
   "source": [
    "import os\n",
    "os.listdir(\"data/\")"
   ]
  },
  {
   "cell_type": "code",
   "execution_count": 22,
   "id": "e5ad2714",
   "metadata": {},
   "outputs": [],
   "source": [
    "import pandas as pd\n",
    "df = pd.read_csv(\"data/data.csv\")"
   ]
  },
  {
   "cell_type": "code",
   "execution_count": 23,
   "id": "86ef084e",
   "metadata": {},
   "outputs": [
    {
     "data": {
      "text/html": [
       "<div>\n",
       "<style scoped>\n",
       "    .dataframe tbody tr th:only-of-type {\n",
       "        vertical-align: middle;\n",
       "    }\n",
       "\n",
       "    .dataframe tbody tr th {\n",
       "        vertical-align: top;\n",
       "    }\n",
       "\n",
       "    .dataframe thead th {\n",
       "        text-align: right;\n",
       "    }\n",
       "</style>\n",
       "<table border=\"1\" class=\"dataframe\">\n",
       "  <thead>\n",
       "    <tr style=\"text-align: right;\">\n",
       "      <th></th>\n",
       "      <th>anonymous_user_id</th>\n",
       "      <th>url</th>\n",
       "      <th>time</th>\n",
       "      <th>browser</th>\n",
       "      <th>os</th>\n",
       "      <th>screen_resolution</th>\n",
       "    </tr>\n",
       "  </thead>\n",
       "  <tbody>\n",
       "    <tr>\n",
       "      <th>0</th>\n",
       "      <td>b527ad6c-1e79-4ae7-8206-2bf4d127ec25</td>\n",
       "      <td>https://preview.hs-sites.com/_hcms/preview/tem...</td>\n",
       "      <td>1523551855</td>\n",
       "      <td>Chrome</td>\n",
       "      <td>Linux</td>\n",
       "      <td>800x600</td>\n",
       "    </tr>\n",
       "    <tr>\n",
       "      <th>1</th>\n",
       "      <td>2847753f-df48-4367-98dc-9028f6330532</td>\n",
       "      <td>https://www.cultureamp.com/employee-feedback/?...</td>\n",
       "      <td>1523549796</td>\n",
       "      <td>Chrome</td>\n",
       "      <td>Chrome OS</td>\n",
       "      <td>1366x768</td>\n",
       "    </tr>\n",
       "    <tr>\n",
       "      <th>2</th>\n",
       "      <td>7540e6a6-bd75-4f2b-b774-6309bda47c4f</td>\n",
       "      <td>https://www.cultureamp.com/</td>\n",
       "      <td>1523549868</td>\n",
       "      <td>Chrome</td>\n",
       "      <td>Mac OS X</td>\n",
       "      <td>2560x1440</td>\n",
       "    </tr>\n",
       "    <tr>\n",
       "      <th>3</th>\n",
       "      <td>db016ab6-daa3-45fb-84e6-7e6e4e1541ac</td>\n",
       "      <td>https://www.cultureamp.com/products/employee-e...</td>\n",
       "      <td>1523549913</td>\n",
       "      <td>Chrome</td>\n",
       "      <td>Mac OS X</td>\n",
       "      <td>1440x900</td>\n",
       "    </tr>\n",
       "    <tr>\n",
       "      <th>4</th>\n",
       "      <td>864557aa-10c5-4efa-a53e-33f7b8f1bd3c</td>\n",
       "      <td>https://www.cultureamp.com/employee-feedback/</td>\n",
       "      <td>1523548907</td>\n",
       "      <td>Chrome</td>\n",
       "      <td>Windows 8.1</td>\n",
       "      <td>1366x768</td>\n",
       "    </tr>\n",
       "  </tbody>\n",
       "</table>\n",
       "</div>"
      ],
      "text/plain": [
       "                      anonymous_user_id  \\\n",
       "0  b527ad6c-1e79-4ae7-8206-2bf4d127ec25   \n",
       "1  2847753f-df48-4367-98dc-9028f6330532   \n",
       "2  7540e6a6-bd75-4f2b-b774-6309bda47c4f   \n",
       "3  db016ab6-daa3-45fb-84e6-7e6e4e1541ac   \n",
       "4  864557aa-10c5-4efa-a53e-33f7b8f1bd3c   \n",
       "\n",
       "                                                 url        time browser  \\\n",
       "0  https://preview.hs-sites.com/_hcms/preview/tem...  1523551855  Chrome   \n",
       "1  https://www.cultureamp.com/employee-feedback/?...  1523549796  Chrome   \n",
       "2                        https://www.cultureamp.com/  1523549868  Chrome   \n",
       "3  https://www.cultureamp.com/products/employee-e...  1523549913  Chrome   \n",
       "4      https://www.cultureamp.com/employee-feedback/  1523548907  Chrome   \n",
       "\n",
       "            os screen_resolution  \n",
       "0        Linux           800x600  \n",
       "1    Chrome OS          1366x768  \n",
       "2     Mac OS X         2560x1440  \n",
       "3     Mac OS X          1440x900  \n",
       "4  Windows 8.1          1366x768  "
      ]
     },
     "execution_count": 23,
     "metadata": {},
     "output_type": "execute_result"
    }
   ],
   "source": [
    "#data overview\n",
    "df.head()"
   ]
  },
  {
   "cell_type": "code",
   "execution_count": 24,
   "id": "cfb90990",
   "metadata": {},
   "outputs": [],
   "source": [
    "'''Extract path from the url'''\n",
    "from urllib.parse import urlparse as up \n",
    "\n",
    "a = up(\"http://127.0.0.1:8000/Users/YodhResearch/Desktop/LongCtrl10min.tiff#anyfragment\") \n",
    "paths = [up(item).path for item in df.url]"
   ]
  },
  {
   "cell_type": "code",
   "execution_count": 25,
   "id": "3dad71f8",
   "metadata": {},
   "outputs": [],
   "source": [
    "#add the new path variable\n",
    "df['Path'] = paths"
   ]
  },
  {
   "cell_type": "markdown",
   "id": "1082cbcc",
   "metadata": {},
   "source": [
    "##### Examine the number of urls with utm"
   ]
  },
  {
   "cell_type": "code",
   "execution_count": 26,
   "id": "53a95540",
   "metadata": {},
   "outputs": [
    {
     "name": "stdout",
     "output_type": "stream",
     "text": [
      "Number of urls with utm source: 57857\n"
     ]
    }
   ],
   "source": [
    "print(\"Number of urls with utm source:\",df.url.str.contains(\"utm_source\").sum())"
   ]
  },
  {
   "cell_type": "code",
   "execution_count": 27,
   "id": "3961016b",
   "metadata": {},
   "outputs": [
    {
     "name": "stdout",
     "output_type": "stream",
     "text": [
      "Number of urls with utm medium: 54120\n"
     ]
    }
   ],
   "source": [
    "print(\"Number of urls with utm medium:\",df.url.str.contains(\"utm_medium\").sum())"
   ]
  },
  {
   "cell_type": "code",
   "execution_count": 28,
   "id": "774da715",
   "metadata": {},
   "outputs": [
    {
     "name": "stdout",
     "output_type": "stream",
     "text": [
      "Number of urls with utm campaign: 53947\n"
     ]
    }
   ],
   "source": [
    "print(\"Number of urls with utm campaign:\",df.url.str.contains(\"utm_campaign\").sum())"
   ]
  },
  {
   "cell_type": "markdown",
   "id": "ff728bbd",
   "metadata": {},
   "source": [
    "#### Extract Medium\n",
    "\n",
    "For every url with a medum, there is pattern i.e., \"(?P<utm_medium>(?<=utm_medium=).*?(?=&|\\\\s|$))\" which points to the mdium. Therefore, we use re.findall to get the contents that match the specified pattern."
   ]
  },
  {
   "cell_type": "code",
   "execution_count": 29,
   "id": "ea8e5691",
   "metadata": {},
   "outputs": [],
   "source": [
    "import re"
   ]
  },
  {
   "cell_type": "code",
   "execution_count": 30,
   "id": "44d895c9",
   "metadata": {},
   "outputs": [],
   "source": [
    "'''Utility function to get medium'''\n",
    "regex = r\"(?P<utm_medium>(?<=utm_medium=).*?(?=&|\\\\s|$))\"\n",
    "\n",
    "def get_medium(url):\n",
    "    medium = re.findall(regex, url)\n",
    "    if len(medium) > 0:\n",
    "        medium = medium[0]\n",
    "    else:\n",
    "        medium = \"No Medium\"\n",
    "    return medium\n",
    "\n",
    "#Get source using the get_source function\n",
    "df['Medium'] = [get_medium(item) for item in df.url]"
   ]
  },
  {
   "cell_type": "markdown",
   "id": "acef004b",
   "metadata": {},
   "source": [
    "#### Extract Source\n",
    "\n",
    "For every url with a medum, there is pattern i.e., \"(?P<utm_source>(?<=utm_source=).*?(?=&|\\\\s|$))\" which points to the source. Similalr to obtaining the medium, we will use re.findall to get the contents that match the specified pattern. If thr length of the source is greater than 0, then return the source, otherwise, no source was found and hence return \"No source\"."
   ]
  },
  {
   "cell_type": "code",
   "execution_count": 31,
   "id": "c8310f2f",
   "metadata": {},
   "outputs": [],
   "source": [
    "'''Utility function to get source'''\n",
    "regex = r\"(?P<utm_source>(?<=utm_source=).*?(?=&|\\\\s|$))\"\n",
    "\n",
    "def get_source(url):\n",
    "    source = re.findall(regex, url)\n",
    "    if len(source) > 0:\n",
    "        source = source[0]\n",
    "    else:\n",
    "        source = \"No source\"\n",
    "    return source\n",
    "\n",
    "#Get source using the get_source function\n",
    "df['Source'] = [get_source(item) for item in df.url]"
   ]
  },
  {
   "cell_type": "code",
   "execution_count": 32,
   "id": "4bea67d6",
   "metadata": {},
   "outputs": [
    {
     "data": {
      "text/html": [
       "<div>\n",
       "<style scoped>\n",
       "    .dataframe tbody tr th:only-of-type {\n",
       "        vertical-align: middle;\n",
       "    }\n",
       "\n",
       "    .dataframe tbody tr th {\n",
       "        vertical-align: top;\n",
       "    }\n",
       "\n",
       "    .dataframe thead th {\n",
       "        text-align: right;\n",
       "    }\n",
       "</style>\n",
       "<table border=\"1\" class=\"dataframe\">\n",
       "  <thead>\n",
       "    <tr style=\"text-align: right;\">\n",
       "      <th></th>\n",
       "      <th>anonymous_user_id</th>\n",
       "      <th>url</th>\n",
       "      <th>time</th>\n",
       "      <th>browser</th>\n",
       "      <th>os</th>\n",
       "      <th>screen_resolution</th>\n",
       "      <th>Path</th>\n",
       "      <th>Medium</th>\n",
       "      <th>Source</th>\n",
       "    </tr>\n",
       "  </thead>\n",
       "  <tbody>\n",
       "    <tr>\n",
       "      <th>0</th>\n",
       "      <td>b527ad6c-1e79-4ae7-8206-2bf4d127ec25</td>\n",
       "      <td>https://preview.hs-sites.com/_hcms/preview/tem...</td>\n",
       "      <td>1523551855</td>\n",
       "      <td>Chrome</td>\n",
       "      <td>Linux</td>\n",
       "      <td>800x600</td>\n",
       "      <td>/_hcms/preview/template/multi</td>\n",
       "      <td>No Medium</td>\n",
       "      <td>No source</td>\n",
       "    </tr>\n",
       "    <tr>\n",
       "      <th>1</th>\n",
       "      <td>2847753f-df48-4367-98dc-9028f6330532</td>\n",
       "      <td>https://www.cultureamp.com/employee-feedback/?...</td>\n",
       "      <td>1523549796</td>\n",
       "      <td>Chrome</td>\n",
       "      <td>Chrome OS</td>\n",
       "      <td>1366x768</td>\n",
       "      <td>/employee-feedback/</td>\n",
       "      <td>cpc</td>\n",
       "      <td>google</td>\n",
       "    </tr>\n",
       "    <tr>\n",
       "      <th>2</th>\n",
       "      <td>7540e6a6-bd75-4f2b-b774-6309bda47c4f</td>\n",
       "      <td>https://www.cultureamp.com/</td>\n",
       "      <td>1523549868</td>\n",
       "      <td>Chrome</td>\n",
       "      <td>Mac OS X</td>\n",
       "      <td>2560x1440</td>\n",
       "      <td>/</td>\n",
       "      <td>No Medium</td>\n",
       "      <td>No source</td>\n",
       "    </tr>\n",
       "    <tr>\n",
       "      <th>3</th>\n",
       "      <td>db016ab6-daa3-45fb-84e6-7e6e4e1541ac</td>\n",
       "      <td>https://www.cultureamp.com/products/employee-e...</td>\n",
       "      <td>1523549913</td>\n",
       "      <td>Chrome</td>\n",
       "      <td>Mac OS X</td>\n",
       "      <td>1440x900</td>\n",
       "      <td>/products/employee-engagement/</td>\n",
       "      <td>No Medium</td>\n",
       "      <td>No source</td>\n",
       "    </tr>\n",
       "    <tr>\n",
       "      <th>4</th>\n",
       "      <td>864557aa-10c5-4efa-a53e-33f7b8f1bd3c</td>\n",
       "      <td>https://www.cultureamp.com/employee-feedback/</td>\n",
       "      <td>1523548907</td>\n",
       "      <td>Chrome</td>\n",
       "      <td>Windows 8.1</td>\n",
       "      <td>1366x768</td>\n",
       "      <td>/employee-feedback/</td>\n",
       "      <td>No Medium</td>\n",
       "      <td>No source</td>\n",
       "    </tr>\n",
       "  </tbody>\n",
       "</table>\n",
       "</div>"
      ],
      "text/plain": [
       "                      anonymous_user_id  \\\n",
       "0  b527ad6c-1e79-4ae7-8206-2bf4d127ec25   \n",
       "1  2847753f-df48-4367-98dc-9028f6330532   \n",
       "2  7540e6a6-bd75-4f2b-b774-6309bda47c4f   \n",
       "3  db016ab6-daa3-45fb-84e6-7e6e4e1541ac   \n",
       "4  864557aa-10c5-4efa-a53e-33f7b8f1bd3c   \n",
       "\n",
       "                                                 url        time browser  \\\n",
       "0  https://preview.hs-sites.com/_hcms/preview/tem...  1523551855  Chrome   \n",
       "1  https://www.cultureamp.com/employee-feedback/?...  1523549796  Chrome   \n",
       "2                        https://www.cultureamp.com/  1523549868  Chrome   \n",
       "3  https://www.cultureamp.com/products/employee-e...  1523549913  Chrome   \n",
       "4      https://www.cultureamp.com/employee-feedback/  1523548907  Chrome   \n",
       "\n",
       "            os screen_resolution                            Path     Medium  \\\n",
       "0        Linux           800x600   /_hcms/preview/template/multi  No Medium   \n",
       "1    Chrome OS          1366x768             /employee-feedback/        cpc   \n",
       "2     Mac OS X         2560x1440                               /  No Medium   \n",
       "3     Mac OS X          1440x900  /products/employee-engagement/  No Medium   \n",
       "4  Windows 8.1          1366x768             /employee-feedback/  No Medium   \n",
       "\n",
       "      Source  \n",
       "0  No source  \n",
       "1     google  \n",
       "2  No source  \n",
       "3  No source  \n",
       "4  No source  "
      ]
     },
     "execution_count": 32,
     "metadata": {},
     "output_type": "execute_result"
    }
   ],
   "source": [
    "df.head()"
   ]
  },
  {
   "cell_type": "markdown",
   "id": "ef6d9794",
   "metadata": {},
   "source": [
    "Lastly, we can save the new data with both source, medium, and path to a dataframe."
   ]
  },
  {
   "cell_type": "code",
   "execution_count": 33,
   "id": "f7e50cbd",
   "metadata": {},
   "outputs": [],
   "source": [
    "df.to_csv(\"data/path_medium_source.csv\")"
   ]
  },
  {
   "cell_type": "markdown",
   "id": "07d5121f",
   "metadata": {},
   "source": [
    "### Data Streaming\n",
    "\n",
    "During data streaming we:\n",
    "\n",
    "1. Obtain the date from the provded timie stamp using datetime\n",
    "\n",
    "2. Aggregate the data using a step size of 1000 and get the maximum and minimum dates\n",
    "\n",
    "3. Aggregate the data and obtain the number of unique users using the anonymous users id (ymous_user_id)"
   ]
  },
  {
   "cell_type": "markdown",
   "id": "bb7a07cb",
   "metadata": {},
   "source": [
    "#### Obtain date"
   ]
  },
  {
   "cell_type": "code",
   "execution_count": 34,
   "id": "8572b828",
   "metadata": {},
   "outputs": [
    {
     "name": "stdout",
     "output_type": "stream",
     "text": [
      "Smallest Date: 2018-04-01 03:03:09\n",
      "Largest Date: 2018-04-15 02:59:49\n"
     ]
    }
   ],
   "source": [
    "from datetime import datetime\n",
    "#save to list\n",
    "dates = []\n",
    "for item in df.time:\n",
    "    #get date\n",
    "    date = datetime.fromtimestamp(item)\n",
    "    dates.append(date)\n",
    "    \n",
    "df['Date'] = dates\n",
    "#Minimum date\n",
    "\n",
    "print(\"Smallest Date:\" ,df.Date.min())\n",
    "#largest date\n",
    "print(\"Largest Date:\" ,df.Date.max())"
   ]
  },
  {
   "cell_type": "markdown",
   "id": "98754840",
   "metadata": {},
   "source": [
    "##### Summary for every 1000 records"
   ]
  },
  {
   "cell_type": "markdown",
   "id": "2115e564",
   "metadata": {},
   "source": [
    "##### Maximum date"
   ]
  },
  {
   "cell_type": "code",
   "execution_count": 35,
   "id": "b1fff81a",
   "metadata": {},
   "outputs": [],
   "source": [
    "import numpy as np\n",
    "x = df.Date\n",
    "steps = 1000\n",
    "#store position\n",
    "pos = []\n",
    "#store maximum date\n",
    "max_dates = []\n",
    "for i in range(0, len(x), steps):\n",
    "    maximum = np.max(x[i:i+steps])\n",
    "    position = i\n",
    "    maxx = maximum\n",
    "    #append\n",
    "    max_dates.append(maxx)\n",
    "    pos.append(position)\n",
    "    \n",
    "#add to dataframe\n",
    "\n",
    "dfx = pd.DataFrame()\n",
    "#Position\n",
    "dfx['Position'] = pos\n",
    "dfx['Maximum Date'] = max_dates\n"
   ]
  },
  {
   "cell_type": "markdown",
   "id": "65007efd",
   "metadata": {},
   "source": [
    "##### Minimum date"
   ]
  },
  {
   "cell_type": "code",
   "execution_count": 36,
   "id": "6325ca4a",
   "metadata": {},
   "outputs": [],
   "source": [
    "import numpy as np\n",
    "x = df.Date\n",
    "steps = 1000\n",
    "#store position\n",
    "pos = []\n",
    "#store minimum date\n",
    "min_dates = []\n",
    "for i in range(0, len(x), steps):\n",
    "    minimum = np.min(x[i:i+steps])\n",
    "    position = i\n",
    "    minx = minimum\n",
    "    #append\n",
    "    min_dates.append(minx)\n",
    "    pos.append(position)\n",
    "    \n",
    "#add to dataframe\n",
    "\n",
    "#Position\n",
    "dfx['Position'] = pos\n",
    "dfx['Minimum Date'] = min_dates\n"
   ]
  },
  {
   "cell_type": "markdown",
   "id": "ad2cd01c",
   "metadata": {},
   "source": [
    "##### Number of unique users"
   ]
  },
  {
   "cell_type": "code",
   "execution_count": 37,
   "id": "a0664053",
   "metadata": {},
   "outputs": [
    {
     "data": {
      "text/html": [
       "<div>\n",
       "<style scoped>\n",
       "    .dataframe tbody tr th:only-of-type {\n",
       "        vertical-align: middle;\n",
       "    }\n",
       "\n",
       "    .dataframe tbody tr th {\n",
       "        vertical-align: top;\n",
       "    }\n",
       "\n",
       "    .dataframe thead th {\n",
       "        text-align: right;\n",
       "    }\n",
       "</style>\n",
       "<table border=\"1\" class=\"dataframe\">\n",
       "  <thead>\n",
       "    <tr style=\"text-align: right;\">\n",
       "      <th></th>\n",
       "      <th>Position</th>\n",
       "      <th>Maximum Date</th>\n",
       "      <th>Minimum Date</th>\n",
       "      <th>Number of unique Users</th>\n",
       "    </tr>\n",
       "  </thead>\n",
       "  <tbody>\n",
       "    <tr>\n",
       "      <th>0</th>\n",
       "      <td>0</td>\n",
       "      <td>2018-04-12 19:57:12</td>\n",
       "      <td>2018-04-05 00:00:45</td>\n",
       "      <td>773</td>\n",
       "    </tr>\n",
       "    <tr>\n",
       "      <th>1</th>\n",
       "      <td>1000</td>\n",
       "      <td>2018-04-13 04:58:12</td>\n",
       "      <td>2018-04-05 00:00:08</td>\n",
       "      <td>788</td>\n",
       "    </tr>\n",
       "    <tr>\n",
       "      <th>2</th>\n",
       "      <td>2000</td>\n",
       "      <td>2018-04-09 19:57:11</td>\n",
       "      <td>2018-04-03 07:00:05</td>\n",
       "      <td>648</td>\n",
       "    </tr>\n",
       "    <tr>\n",
       "      <th>3</th>\n",
       "      <td>3000</td>\n",
       "      <td>2018-04-12 00:57:09</td>\n",
       "      <td>2018-04-09 04:01:41</td>\n",
       "      <td>766</td>\n",
       "    </tr>\n",
       "    <tr>\n",
       "      <th>4</th>\n",
       "      <td>4000</td>\n",
       "      <td>2018-04-11 22:58:06</td>\n",
       "      <td>2018-04-09 03:00:18</td>\n",
       "      <td>760</td>\n",
       "    </tr>\n",
       "    <tr>\n",
       "      <th>...</th>\n",
       "      <td>...</td>\n",
       "      <td>...</td>\n",
       "      <td>...</td>\n",
       "      <td>...</td>\n",
       "    </tr>\n",
       "    <tr>\n",
       "      <th>85</th>\n",
       "      <td>85000</td>\n",
       "      <td>2018-04-13 23:59:54</td>\n",
       "      <td>2018-04-01 06:00:36</td>\n",
       "      <td>808</td>\n",
       "    </tr>\n",
       "    <tr>\n",
       "      <th>86</th>\n",
       "      <td>86000</td>\n",
       "      <td>2018-04-14 01:59:48</td>\n",
       "      <td>2018-04-01 15:00:58</td>\n",
       "      <td>833</td>\n",
       "    </tr>\n",
       "    <tr>\n",
       "      <th>87</th>\n",
       "      <td>87000</td>\n",
       "      <td>2018-04-14 03:59:49</td>\n",
       "      <td>2018-04-01 17:00:48</td>\n",
       "      <td>790</td>\n",
       "    </tr>\n",
       "    <tr>\n",
       "      <th>88</th>\n",
       "      <td>88000</td>\n",
       "      <td>2018-04-15 02:59:49</td>\n",
       "      <td>2018-04-01 04:57:20</td>\n",
       "      <td>846</td>\n",
       "    </tr>\n",
       "    <tr>\n",
       "      <th>89</th>\n",
       "      <td>89000</td>\n",
       "      <td>2018-04-15 01:59:07</td>\n",
       "      <td>2018-04-01 03:57:31</td>\n",
       "      <td>779</td>\n",
       "    </tr>\n",
       "  </tbody>\n",
       "</table>\n",
       "<p>90 rows × 4 columns</p>\n",
       "</div>"
      ],
      "text/plain": [
       "    Position        Maximum Date        Minimum Date  Number of unique Users\n",
       "0          0 2018-04-12 19:57:12 2018-04-05 00:00:45                     773\n",
       "1       1000 2018-04-13 04:58:12 2018-04-05 00:00:08                     788\n",
       "2       2000 2018-04-09 19:57:11 2018-04-03 07:00:05                     648\n",
       "3       3000 2018-04-12 00:57:09 2018-04-09 04:01:41                     766\n",
       "4       4000 2018-04-11 22:58:06 2018-04-09 03:00:18                     760\n",
       "..       ...                 ...                 ...                     ...\n",
       "85     85000 2018-04-13 23:59:54 2018-04-01 06:00:36                     808\n",
       "86     86000 2018-04-14 01:59:48 2018-04-01 15:00:58                     833\n",
       "87     87000 2018-04-14 03:59:49 2018-04-01 17:00:48                     790\n",
       "88     88000 2018-04-15 02:59:49 2018-04-01 04:57:20                     846\n",
       "89     89000 2018-04-15 01:59:07 2018-04-01 03:57:31                     779\n",
       "\n",
       "[90 rows x 4 columns]"
      ]
     },
     "execution_count": 37,
     "metadata": {},
     "output_type": "execute_result"
    }
   ],
   "source": [
    "import numpy as np\n",
    "x = df.anonymous_user_id\n",
    "steps = 1000\n",
    "#store position\n",
    "pos = []\n",
    "#store minimum date\n",
    "num_users = []\n",
    "for i in range(0, len(x), steps):\n",
    "    minimum = len(np.unique(x[i:i+steps]))\n",
    "    position = i\n",
    "    minx = minimum\n",
    "    #append\n",
    "    num_users.append(minx)\n",
    "    pos.append(position)\n",
    "    \n",
    "#add to dataframe\n",
    "\n",
    "#Position\n",
    "dfx['Position'] = pos\n",
    "dfx['Number of unique Users'] = num_users\n",
    "#save the data to a dataframe\n",
    "dfx.to_csv(\"data/Data Streaming.csv\")\n",
    "dfx"
   ]
  }
 ],
 "metadata": {
  "kernelspec": {
   "display_name": "Python 3",
   "language": "python",
   "name": "python3"
  },
  "language_info": {
   "codemirror_mode": {
    "name": "ipython",
    "version": 3
   },
   "file_extension": ".py",
   "mimetype": "text/x-python",
   "name": "python",
   "nbconvert_exporter": "python",
   "pygments_lexer": "ipython3",
   "version": "3.8.8"
  }
 },
 "nbformat": 4,
 "nbformat_minor": 5
}
