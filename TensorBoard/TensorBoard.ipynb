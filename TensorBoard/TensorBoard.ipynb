{
 "cells": [
  {
   "cell_type": "markdown",
   "id": "182ede3f",
   "metadata": {},
   "source": [
    "#### Installing Tensorboard"
   ]
  },
  {
   "cell_type": "code",
   "execution_count": 1,
   "id": "536470dc",
   "metadata": {},
   "outputs": [],
   "source": [
    "#for kali\n",
    "#rm -rf ./logs/\n",
    "\n",
    "#for windows\n",
    "import shutil\n",
    "try:\n",
    "    shutil.rmtree('logs')\n",
    "except:\n",
    "    pass\n",
    "\n",
    "#for windows\n",
    "import shutil\n",
    "try:\n",
    "    shutil.rmtree('logsx')\n",
    "except:\n",
    "    pass"
   ]
  },
  {
   "cell_type": "code",
   "execution_count": 2,
   "id": "b49a0fee",
   "metadata": {},
   "outputs": [],
   "source": [
    "import datetime\n",
    "from sklearn.preprocessing import normalize\n",
    "import numpy as np"
   ]
  },
  {
   "cell_type": "code",
   "execution_count": 3,
   "id": "26f4d1d2",
   "metadata": {},
   "outputs": [],
   "source": [
    "log_dir = \"logs/\" + datetime.datetime.now().strftime(\"%Y%m%d-%H%M%S\")"
   ]
  },
  {
   "cell_type": "markdown",
   "id": "f04b70b9",
   "metadata": {},
   "source": [
    "#### Iris Classification Model"
   ]
  },
  {
   "cell_type": "code",
   "execution_count": null,
   "id": "9d26f721",
   "metadata": {},
   "outputs": [],
   "source": []
  },
  {
   "cell_type": "code",
   "execution_count": 4,
   "id": "2e81a57e",
   "metadata": {},
   "outputs": [],
   "source": [
    "from sklearn import datasets\n",
    "import tensorboard"
   ]
  },
  {
   "cell_type": "code",
   "execution_count": 5,
   "id": "1afd2a30",
   "metadata": {},
   "outputs": [],
   "source": [
    "%load_ext tensorboard"
   ]
  },
  {
   "cell_type": "code",
   "execution_count": 6,
   "id": "af5ec6cc",
   "metadata": {},
   "outputs": [
    {
     "name": "stdout",
     "output_type": "stream",
     "text": [
      "Model: \"sequential\"\n",
      "_________________________________________________________________\n",
      " Layer (type)                Output Shape              Param #   \n",
      "=================================================================\n",
      " dense (Dense)               (None, 1000)              5000      \n",
      "                                                                 \n",
      " dense_1 (Dense)             (None, 500)               500500    \n",
      "                                                                 \n",
      " dense_2 (Dense)             (None, 300)               150300    \n",
      "                                                                 \n",
      " dropout (Dropout)           (None, 300)               0         \n",
      "                                                                 \n",
      " dense_3 (Dense)             (None, 3)                 903       \n",
      "                                                                 \n",
      "=================================================================\n",
      "Total params: 656,703\n",
      "Trainable params: 656,703\n",
      "Non-trainable params: 0\n",
      "_________________________________________________________________\n"
     ]
    }
   ],
   "source": [
    "import datetime\n",
    "from sklearn.preprocessing import normalize\n",
    "import numpy as np\n",
    "from sklearn import datasets\n",
    "#LOaD DATA\n",
    "iris = datasets.load_iris()\n",
    "X = iris.data\n",
    "y = iris.target\n",
    "#normalize\n",
    "X_normalized  =  normalize(X,axis = 0)\n",
    "\n",
    "'''\n",
    "70% -- train y\n",
    "30% -- test y\n",
    "'''\n",
    "total_length = len(y)\n",
    "train_length = int(0.8*total_length)\n",
    "test_length = int(0.2*total_length)\n",
    "\n",
    "X_train = X_normalized[:train_length]\n",
    "X_test = X_normalized[train_length:]\n",
    "y_train = y[:train_length]\n",
    "y_test = y[train_length:]\n",
    "\n",
    "#Neural network module\n",
    "from keras.models import Sequential \n",
    "from keras.layers import Dense,Activation,Dropout\n",
    "import tensorflow\n",
    "from tensorflow.keras.layers import BatchNormalization \n",
    "from keras.utils import np_utils\n",
    "\n",
    "\n",
    "y_train = np_utils.to_categorical(y_train,num_classes=3)\n",
    "\n",
    "y_test = np_utils.to_categorical(y_test,num_classes=3)\n",
    "\n",
    "#Define the model\n",
    "model = Sequential()\n",
    "model.add(Dense(1000,input_dim = 4,activation = 'relu'))\n",
    "model.add(Dense(500,activation = 'relu'))\n",
    "model.add(Dense(300,activation = 'relu'))\n",
    "model.add(Dropout(0.2))\n",
    "model.add(Dense(3,activation = 'sigmoid'))\n",
    "model.compile(loss = 'categorical_crossentropy',optimizer = 'adam',metrics = ['accuracy'])\n",
    "model.summary()"
   ]
  },
  {
   "cell_type": "code",
   "execution_count": 7,
   "id": "cb6fc738",
   "metadata": {},
   "outputs": [],
   "source": [
    "#normalize\n",
    "X_normalized  =  normalize(X,axis = 0)\n",
    "\n",
    "'''\n",
    "70% -- train y\n",
    "30% -- test y\n",
    "'''\n",
    "total_length = len(y)\n",
    "train_length = int(0.8*total_length)\n",
    "test_length = int(0.2*total_length)\n",
    "\n",
    "X_train = X_normalized[:train_length]\n",
    "X_test = X_normalized[train_length:]\n",
    "y_train = y[:train_length]\n",
    "y_test = y[train_length:]\n",
    "\n",
    "#Neural network module\n",
    "from keras.models import Sequential \n",
    "from keras.layers import Dense,Activation,Dropout\n",
    "import tensorflow\n",
    "from tensorflow.keras.layers import BatchNormalization \n",
    "from keras.utils import np_utils"
   ]
  },
  {
   "cell_type": "code",
   "execution_count": 8,
   "id": "156d9d20",
   "metadata": {},
   "outputs": [],
   "source": [
    "y_train = np_utils.to_categorical(y_train,num_classes=3)\n",
    "\n",
    "y_test = np_utils.to_categorical(y_test,num_classes=3)"
   ]
  },
  {
   "cell_type": "code",
   "execution_count": null,
   "id": "656188c1",
   "metadata": {},
   "outputs": [],
   "source": []
  },
  {
   "cell_type": "code",
   "execution_count": 9,
   "id": "acc06756",
   "metadata": {},
   "outputs": [
    {
     "data": {
      "text/plain": [
       "<keras.engine.sequential.Sequential at 0x212d7f56f40>"
      ]
     },
     "execution_count": 9,
     "metadata": {},
     "output_type": "execute_result"
    }
   ],
   "source": [
    "import datetime\n",
    "from sklearn.preprocessing import normalize\n",
    "import numpy as np\n",
    "from sklearn import datasets\n",
    "import tensorflow as tf\n",
    "#LOaD DATA\n",
    "iris = datasets.load_iris()\n",
    "X = iris.data\n",
    "y = iris.target\n",
    "#normalize\n",
    "X  =  normalize(X,axis = 0)\n",
    "\n",
    "\n",
    "#Neural network module\n",
    "from keras.models import Sequential \n",
    "import keras\n",
    "from keras.layers import Dense,Activation,Dropout\n",
    "import tensorflow\n",
    "from tensorflow.keras.layers import BatchNormalization \n",
    "from keras.utils import np_utils\n",
    "import os\n",
    "\n",
    "\n",
    "from sklearn.model_selection import train_test_split\n",
    "# Load the iris dataset\n",
    "iris = datasets.load_iris()\n",
    "X = iris.data\n",
    "y = iris.target\n",
    "# Create training and test split\n",
    "\n",
    "'''\n",
    "70% -- train y\n",
    "30% -- test y\n",
    "'''\n",
    "\n",
    "X_train, X_test, y_train, y_test = train_test_split(X, y, test_size=0.3, stratify=y, random_state=42)\n",
    "# Create categorical labels\n",
    "y_train = np_utils.to_categorical(y_train)\n",
    "y_test = np_utils.to_categorical(y_test)\n",
    "\n",
    "\n",
    "def create_model():\n",
    "    # Create the model\n",
    "    model = keras.models.Sequential()\n",
    "    model.add(Dense(512, activation='relu', input_shape=(4,)))\n",
    "    model.add(Dense(3, activation='softmax'))\n",
    "    # Compile the model\n",
    "    model.compile(optimizer='rmsprop',\n",
    "                    loss='categorical_crossentropy',\n",
    "                    metrics=['accuracy'])\n",
    "    return model\n",
    "create_model()"
   ]
  },
  {
   "cell_type": "code",
   "execution_count": 10,
   "id": "a026dcb8",
   "metadata": {},
   "outputs": [],
   "source": [
    "logdir = os.path.join(\"logs\", datetime.datetime.now().strftime(\"%Y%m%d-%H%M%S\"))\n",
    "tensorboard_callback = tf.keras.callbacks.TensorBoard(logdir, histogram_freq=1)\n",
    "\n",
    "def train_model():\n",
    "    '''\n",
    "    utility function for training the model\n",
    "    '''\n",
    "    \n",
    "    model = create_model()\n",
    "    \n",
    "    tensorboard_callback = tf.keras.callbacks.TensorBoard(logdir, histogram_freq=1)\n",
    "    model.fit(x=X_train, \n",
    "            y=y_train, \n",
    "            epochs=20, \n",
    "            validation_data=(X_test, y_test), callbacks = tensorboard_callback)\n",
    "    #\n",
    "    # Get the accuracy of test data set\n",
    "    #\n",
    "    test_loss, test_acc = model.evaluate(X_test, y_test)\n",
    "    #\n",
    "    # Print the test accuracy\n",
    "    #\n",
    "    print('Test Accuracy: ', test_acc, '\\nTest Loss: ', test_loss)"
   ]
  },
  {
   "cell_type": "code",
   "execution_count": 11,
   "id": "9fbd9d79",
   "metadata": {},
   "outputs": [
    {
     "name": "stdout",
     "output_type": "stream",
     "text": [
      "Epoch 1/20\n",
      "4/4 [==============================] - 2s 239ms/step - loss: 1.0873 - accuracy: 0.4571 - val_loss: 0.9519 - val_accuracy: 0.3333\n",
      "Epoch 2/20\n",
      "4/4 [==============================] - 0s 86ms/step - loss: 0.8632 - accuracy: 0.5429 - val_loss: 0.7714 - val_accuracy: 0.6667\n",
      "Epoch 3/20\n",
      "4/4 [==============================] - 0s 53ms/step - loss: 0.7582 - accuracy: 0.6095 - val_loss: 0.6868 - val_accuracy: 0.8000\n",
      "Epoch 4/20\n",
      "4/4 [==============================] - 0s 54ms/step - loss: 0.6856 - accuracy: 0.7333 - val_loss: 0.7434 - val_accuracy: 0.6667\n",
      "Epoch 5/20\n",
      "4/4 [==============================] - 0s 88ms/step - loss: 0.6773 - accuracy: 0.7048 - val_loss: 0.6289 - val_accuracy: 0.6667\n",
      "Epoch 6/20\n",
      "4/4 [==============================] - 0s 67ms/step - loss: 0.6073 - accuracy: 0.8571 - val_loss: 0.5747 - val_accuracy: 0.7111\n",
      "Epoch 7/20\n",
      "4/4 [==============================] - 0s 91ms/step - loss: 0.5642 - accuracy: 0.8000 - val_loss: 0.5863 - val_accuracy: 0.6667\n",
      "Epoch 8/20\n",
      "4/4 [==============================] - 0s 44ms/step - loss: 0.5401 - accuracy: 0.6857 - val_loss: 0.6121 - val_accuracy: 0.6667\n",
      "Epoch 9/20\n",
      "4/4 [==============================] - 0s 49ms/step - loss: 0.5458 - accuracy: 0.7810 - val_loss: 0.5164 - val_accuracy: 0.6667\n",
      "Epoch 10/20\n",
      "4/4 [==============================] - 0s 53ms/step - loss: 0.4946 - accuracy: 0.7810 - val_loss: 0.5233 - val_accuracy: 0.6667\n",
      "Epoch 11/20\n",
      "4/4 [==============================] - 0s 55ms/step - loss: 0.4776 - accuracy: 0.8000 - val_loss: 0.4701 - val_accuracy: 0.8444\n",
      "Epoch 12/20\n",
      "4/4 [==============================] - 0s 82ms/step - loss: 0.4537 - accuracy: 0.9333 - val_loss: 0.4745 - val_accuracy: 0.6667\n",
      "Epoch 13/20\n",
      "4/4 [==============================] - 0s 74ms/step - loss: 0.4416 - accuracy: 0.8095 - val_loss: 0.5059 - val_accuracy: 0.6667\n",
      "Epoch 14/20\n",
      "4/4 [==============================] - 0s 44ms/step - loss: 0.4427 - accuracy: 0.7810 - val_loss: 0.4459 - val_accuracy: 0.7333\n",
      "Epoch 15/20\n",
      "4/4 [==============================] - 0s 119ms/step - loss: 0.4126 - accuracy: 0.8952 - val_loss: 0.4451 - val_accuracy: 0.7111\n",
      "Epoch 16/20\n",
      "4/4 [==============================] - 0s 162ms/step - loss: 0.4106 - accuracy: 0.8857 - val_loss: 0.4426 - val_accuracy: 0.6667\n",
      "Epoch 17/20\n",
      "4/4 [==============================] - 0s 75ms/step - loss: 0.4019 - accuracy: 0.8476 - val_loss: 0.3981 - val_accuracy: 0.8000\n",
      "Epoch 18/20\n",
      "4/4 [==============================] - 0s 63ms/step - loss: 0.3694 - accuracy: 0.9333 - val_loss: 0.3835 - val_accuracy: 0.8222\n",
      "Epoch 19/20\n",
      "4/4 [==============================] - 0s 61ms/step - loss: 0.3641 - accuracy: 0.8476 - val_loss: 0.3638 - val_accuracy: 0.8667\n",
      "Epoch 20/20\n",
      "4/4 [==============================] - 0s 66ms/step - loss: 0.3718 - accuracy: 0.8952 - val_loss: 0.3487 - val_accuracy: 1.0000\n",
      "2/2 [==============================] - 0s 4ms/step - loss: 0.3487 - accuracy: 1.0000\n",
      "Test Accuracy:  1.0 \n",
      "Test Loss:  0.34870922565460205\n"
     ]
    }
   ],
   "source": [
    "#train the model\n",
    "train_model()"
   ]
  },
  {
   "cell_type": "code",
   "execution_count": 12,
   "id": "08231a24",
   "metadata": {},
   "outputs": [],
   "source": [
    "from tensorflow.keras.callbacks import TensorBoard"
   ]
  },
  {
   "cell_type": "code",
   "execution_count": 21,
   "id": "26538d09",
   "metadata": {},
   "outputs": [],
   "source": [
    "%reload_ext tensorboard"
   ]
  },
  {
   "cell_type": "code",
   "execution_count": 23,
   "id": "eb9eb444",
   "metadata": {
    "scrolled": false
   },
   "outputs": [
    {
     "data": {
      "text/plain": [
       "Reusing TensorBoard on port 6006 (pid 3120), started 14:01:14 ago. (Use '!kill 3120' to kill it.)"
      ]
     },
     "metadata": {},
     "output_type": "display_data"
    },
    {
     "data": {
      "text/html": [
       "\n",
       "      <iframe id=\"tensorboard-frame-488e490910ec334a\" width=\"100%\" height=\"800\" frameborder=\"0\">\n",
       "      </iframe>\n",
       "      <script>\n",
       "        (function() {\n",
       "          const frame = document.getElementById(\"tensorboard-frame-488e490910ec334a\");\n",
       "          const url = new URL(\"/\", window.location);\n",
       "          const port = 6006;\n",
       "          if (port) {\n",
       "            url.port = port;\n",
       "          }\n",
       "          frame.src = url;\n",
       "        })();\n",
       "      </script>\n",
       "    "
      ],
      "text/plain": [
       "<IPython.core.display.HTML object>"
      ]
     },
     "metadata": {},
     "output_type": "display_data"
    }
   ],
   "source": [
    "%tensorboard --logdir logs/scalars"
   ]
  },
  {
   "cell_type": "markdown",
   "id": "65ea96bf",
   "metadata": {},
   "source": [
    "##### Scalars"
   ]
  },
  {
   "cell_type": "code",
   "execution_count": 14,
   "id": "1e0780d3",
   "metadata": {},
   "outputs": [
    {
     "name": "stdout",
     "output_type": "stream",
     "text": [
      "Epoch 1/20\n",
      "4/4 [==============================] - 2s 148ms/step - loss: 1.0124 - accuracy: 0.4857 - val_loss: 0.8546 - val_accuracy: 0.6667\n",
      "Epoch 2/20\n",
      "4/4 [==============================] - 0s 40ms/step - loss: 0.8333 - accuracy: 0.6286 - val_loss: 0.7658 - val_accuracy: 0.6667\n",
      "Epoch 3/20\n",
      "4/4 [==============================] - 0s 41ms/step - loss: 0.7296 - accuracy: 0.7429 - val_loss: 0.7118 - val_accuracy: 0.6667\n",
      "Epoch 4/20\n",
      "4/4 [==============================] - 0s 34ms/step - loss: 0.6794 - accuracy: 0.7524 - val_loss: 0.6588 - val_accuracy: 0.6667\n",
      "Epoch 5/20\n",
      "4/4 [==============================] - 0s 35ms/step - loss: 0.6630 - accuracy: 0.6095 - val_loss: 0.6364 - val_accuracy: 0.6667\n",
      "Epoch 6/20\n",
      "4/4 [==============================] - 0s 35ms/step - loss: 0.6034 - accuracy: 0.7810 - val_loss: 0.5988 - val_accuracy: 0.6667\n",
      "Epoch 7/20\n",
      "4/4 [==============================] - 0s 54ms/step - loss: 0.5834 - accuracy: 0.7524 - val_loss: 0.5444 - val_accuracy: 0.7556\n",
      "Epoch 8/20\n",
      "4/4 [==============================] - 0s 65ms/step - loss: 0.5389 - accuracy: 0.8190 - val_loss: 0.5646 - val_accuracy: 0.6667\n",
      "Epoch 9/20\n",
      "4/4 [==============================] - 0s 31ms/step - loss: 0.5429 - accuracy: 0.7524 - val_loss: 0.5335 - val_accuracy: 0.6667\n",
      "Epoch 10/20\n",
      "4/4 [==============================] - 0s 31ms/step - loss: 0.4898 - accuracy: 0.7619 - val_loss: 0.4980 - val_accuracy: 0.7778\n",
      "Epoch 11/20\n",
      "4/4 [==============================] - 0s 42ms/step - loss: 0.4744 - accuracy: 0.9143 - val_loss: 0.4644 - val_accuracy: 0.9333\n",
      "Epoch 12/20\n",
      "4/4 [==============================] - 0s 59ms/step - loss: 0.4647 - accuracy: 0.8286 - val_loss: 0.4693 - val_accuracy: 0.7778\n",
      "Epoch 13/20\n",
      "4/4 [==============================] - 0s 51ms/step - loss: 0.4397 - accuracy: 0.9143 - val_loss: 0.4325 - val_accuracy: 0.9778\n",
      "Epoch 14/20\n",
      "4/4 [==============================] - 0s 51ms/step - loss: 0.4185 - accuracy: 0.9048 - val_loss: 0.4150 - val_accuracy: 0.9556\n",
      "Epoch 15/20\n",
      "4/4 [==============================] - 0s 65ms/step - loss: 0.4545 - accuracy: 0.7429 - val_loss: 0.4234 - val_accuracy: 0.7111\n",
      "Epoch 16/20\n",
      "4/4 [==============================] - 1s 269ms/step - loss: 0.3966 - accuracy: 0.8762 - val_loss: 0.4536 - val_accuracy: 0.6667\n",
      "Epoch 17/20\n",
      "4/4 [==============================] - 1s 227ms/step - loss: 0.3955 - accuracy: 0.8667 - val_loss: 0.3950 - val_accuracy: 0.8889\n",
      "Epoch 18/20\n",
      "4/4 [==============================] - 0s 83ms/step - loss: 0.3663 - accuracy: 0.9619 - val_loss: 0.4405 - val_accuracy: 0.6667\n",
      "Epoch 19/20\n",
      "4/4 [==============================] - 0s 59ms/step - loss: 0.3780 - accuracy: 0.8286 - val_loss: 0.4303 - val_accuracy: 0.6667\n",
      "Epoch 20/20\n",
      "4/4 [==============================] - 0s 65ms/step - loss: 0.3700 - accuracy: 0.8667 - val_loss: 0.3563 - val_accuracy: 0.9778\n",
      "2/2 [==============================] - 0s 3ms/step - loss: 0.3563 - accuracy: 0.9778\n",
      "Test Accuracy:  0.9777777791023254 \n",
      "Test Loss:  0.3563348650932312\n"
     ]
    }
   ],
   "source": [
    "import keras\n",
    "logdir = \"logs/scalars/\" + datetime.datetime.now().strftime(\"%Y%m%d-%H%M%S\")\n",
    "file_writer = tf.summary.create_file_writer(logdir + \"/metrics\")\n",
    "file_writer.set_as_default()\n",
    "\n",
    "tensorboard_callback = keras.callbacks.TensorBoard(log_dir=logdir, histogram_freq=1)\n",
    "\n",
    "def train_model():\n",
    "    '''\n",
    "    utility function for training the model\n",
    "    '''\n",
    "    \n",
    "    model = create_model()\n",
    "\n",
    "    tensorboard_callback = tf.keras.callbacks.TensorBoard(logdir, histogram_freq=1)\n",
    "    model.fit(x=X_train, \n",
    "            y=y_train, \n",
    "            epochs=20, \n",
    "            validation_data=(X_test, y_test), callbacks = [tensorboard_callback])\n",
    "    #\n",
    "    # Get the accuracy of test data set\n",
    "    #\n",
    "    test_loss, test_acc = model.evaluate(X_test, y_test)\n",
    "    #\n",
    "    # Print the test accuracy\n",
    "    #\n",
    "    print('Test Accuracy: ', test_acc, '\\nTest Loss: ', test_loss)\n",
    "train_model()"
   ]
  },
  {
   "cell_type": "code",
   "execution_count": 20,
   "id": "a2c5eac4",
   "metadata": {},
   "outputs": [
    {
     "data": {
      "text/html": [
       "\n",
       "      <iframe id=\"tensorboard-frame-2c73672511c2ee6a\" width=\"100%\" height=\"800\" frameborder=\"0\">\n",
       "      </iframe>\n",
       "      <script>\n",
       "        (function() {\n",
       "          const frame = document.getElementById(\"tensorboard-frame-2c73672511c2ee6a\");\n",
       "          const url = new URL(\"/\", window.location);\n",
       "          const port = 6006;\n",
       "          if (port) {\n",
       "            url.port = port;\n",
       "          }\n",
       "          frame.src = url;\n",
       "        })();\n",
       "      </script>\n",
       "    "
      ],
      "text/plain": [
       "<IPython.core.display.HTML object>"
      ]
     },
     "metadata": {},
     "output_type": "display_data"
    }
   ],
   "source": [
    "%tensorboard --logdir logs/scalars/metrics"
   ]
  },
  {
   "cell_type": "markdown",
   "id": "604788c7",
   "metadata": {},
   "source": [
    "##### Custom scalars"
   ]
  },
  {
   "cell_type": "code",
   "execution_count": 16,
   "id": "f37b5852",
   "metadata": {},
   "outputs": [],
   "source": [
    "\n",
    "\n",
    "def lr_schedule(epoch):\n",
    "    \"\"\"\n",
    "    Returns a custom learning rate that decreases as epochs progress.\n",
    "    \"\"\"\n",
    "    learning_rate = 0.2\n",
    "    if epoch > 10:\n",
    "        learning_rate = 0.02\n",
    "    if epoch > 20:\n",
    "        learning_rate = 0.01\n",
    "    if epoch > 50:\n",
    "        learning_rate = 0.005\n",
    "\n",
    "    tf.summary.scalar('learning rate', data=learning_rate, step=epoch)\n",
    "    return learning_rate\n",
    "\n",
    "lr_callback = keras.callbacks.LearningRateScheduler(lr_schedule)\n",
    "\n",
    "tensorboard_callback = keras.callbacks.TensorBoard(log_dir=logdir)\n",
    "\n",
    "def train_model():\n",
    "    '''\n",
    "    utility function for training the model\n",
    "    '''\n",
    "    \n",
    "    model = create_model()\n",
    "\n",
    "    tensorboard_callback = tf.keras.callbacks.TensorBoard(logdir, histogram_freq=1)\n",
    "    model.fit(x=X_train, \n",
    "            y=y_train, \n",
    "            epochs=20, \n",
    "            validation_data=(X_test, y_test), callbacks = [tensorboard_callback, lr_callback])\n",
    "    #\n",
    "    # Get the accuracy of test data set\n",
    "    #\n",
    "    test_loss, test_acc = model.evaluate(X_test, y_test)\n",
    "    #\n",
    "    # Print the test accuracy\n",
    "    #\n",
    "    print('Test Accuracy: ', test_acc, '\\nTest Loss: ', test_loss)"
   ]
  },
  {
   "cell_type": "code",
   "execution_count": 17,
   "id": "2c02ea4b",
   "metadata": {},
   "outputs": [
    {
     "name": "stdout",
     "output_type": "stream",
     "text": [
      "Epoch 1/20\n",
      "1/4 [======>.......................] - ETA: 3s - loss: 1.1492 - accuracy: 0.3750"
     ]
    },
    {
     "ename": "KeyboardInterrupt",
     "evalue": "",
     "output_type": "error",
     "traceback": [
      "\u001b[1;31m---------------------------------------------------------------------------\u001b[0m",
      "\u001b[1;31mKeyboardInterrupt\u001b[0m                         Traceback (most recent call last)",
      "\u001b[1;32m~\\AppData\\Local\\Temp/ipykernel_13912/988705202.py\u001b[0m in \u001b[0;36m<module>\u001b[1;34m\u001b[0m\n\u001b[1;32m----> 1\u001b[1;33m \u001b[0mtrain_model\u001b[0m\u001b[1;33m(\u001b[0m\u001b[1;33m)\u001b[0m\u001b[1;33m\u001b[0m\u001b[1;33m\u001b[0m\u001b[0m\n\u001b[0m",
      "\u001b[1;32m~\\AppData\\Local\\Temp/ipykernel_13912/3151545595.py\u001b[0m in \u001b[0;36mtrain_model\u001b[1;34m()\u001b[0m\n\u001b[0;32m     26\u001b[0m \u001b[1;33m\u001b[0m\u001b[0m\n\u001b[0;32m     27\u001b[0m     \u001b[0mtensorboard_callback\u001b[0m \u001b[1;33m=\u001b[0m \u001b[0mtf\u001b[0m\u001b[1;33m.\u001b[0m\u001b[0mkeras\u001b[0m\u001b[1;33m.\u001b[0m\u001b[0mcallbacks\u001b[0m\u001b[1;33m.\u001b[0m\u001b[0mTensorBoard\u001b[0m\u001b[1;33m(\u001b[0m\u001b[0mlogdir\u001b[0m\u001b[1;33m,\u001b[0m \u001b[0mhistogram_freq\u001b[0m\u001b[1;33m=\u001b[0m\u001b[1;36m1\u001b[0m\u001b[1;33m)\u001b[0m\u001b[1;33m\u001b[0m\u001b[1;33m\u001b[0m\u001b[0m\n\u001b[1;32m---> 28\u001b[1;33m     model.fit(x=X_train, \n\u001b[0m\u001b[0;32m     29\u001b[0m             \u001b[0my\u001b[0m\u001b[1;33m=\u001b[0m\u001b[0my_train\u001b[0m\u001b[1;33m,\u001b[0m\u001b[1;33m\u001b[0m\u001b[1;33m\u001b[0m\u001b[0m\n\u001b[0;32m     30\u001b[0m             \u001b[0mepochs\u001b[0m\u001b[1;33m=\u001b[0m\u001b[1;36m20\u001b[0m\u001b[1;33m,\u001b[0m\u001b[1;33m\u001b[0m\u001b[1;33m\u001b[0m\u001b[0m\n",
      "\u001b[1;32mc:\\users\\monga\\appdata\\local\\programs\\python\\python38\\lib\\site-packages\\keras\\utils\\traceback_utils.py\u001b[0m in \u001b[0;36merror_handler\u001b[1;34m(*args, **kwargs)\u001b[0m\n\u001b[0;32m     62\u001b[0m     \u001b[0mfiltered_tb\u001b[0m \u001b[1;33m=\u001b[0m \u001b[1;32mNone\u001b[0m\u001b[1;33m\u001b[0m\u001b[1;33m\u001b[0m\u001b[0m\n\u001b[0;32m     63\u001b[0m     \u001b[1;32mtry\u001b[0m\u001b[1;33m:\u001b[0m\u001b[1;33m\u001b[0m\u001b[1;33m\u001b[0m\u001b[0m\n\u001b[1;32m---> 64\u001b[1;33m       \u001b[1;32mreturn\u001b[0m \u001b[0mfn\u001b[0m\u001b[1;33m(\u001b[0m\u001b[1;33m*\u001b[0m\u001b[0margs\u001b[0m\u001b[1;33m,\u001b[0m \u001b[1;33m**\u001b[0m\u001b[0mkwargs\u001b[0m\u001b[1;33m)\u001b[0m\u001b[1;33m\u001b[0m\u001b[1;33m\u001b[0m\u001b[0m\n\u001b[0m\u001b[0;32m     65\u001b[0m     \u001b[1;32mexcept\u001b[0m \u001b[0mException\u001b[0m \u001b[1;32mas\u001b[0m \u001b[0me\u001b[0m\u001b[1;33m:\u001b[0m  \u001b[1;31m# pylint: disable=broad-except\u001b[0m\u001b[1;33m\u001b[0m\u001b[1;33m\u001b[0m\u001b[0m\n\u001b[0;32m     66\u001b[0m       \u001b[0mfiltered_tb\u001b[0m \u001b[1;33m=\u001b[0m \u001b[0m_process_traceback_frames\u001b[0m\u001b[1;33m(\u001b[0m\u001b[0me\u001b[0m\u001b[1;33m.\u001b[0m\u001b[0m__traceback__\u001b[0m\u001b[1;33m)\u001b[0m\u001b[1;33m\u001b[0m\u001b[1;33m\u001b[0m\u001b[0m\n",
      "\u001b[1;32mc:\\users\\monga\\appdata\\local\\programs\\python\\python38\\lib\\site-packages\\keras\\engine\\training.py\u001b[0m in \u001b[0;36mfit\u001b[1;34m(self, x, y, batch_size, epochs, verbose, callbacks, validation_split, validation_data, shuffle, class_weight, sample_weight, initial_epoch, steps_per_epoch, validation_steps, validation_batch_size, validation_freq, max_queue_size, workers, use_multiprocessing)\u001b[0m\n\u001b[0;32m   1443\u001b[0m                 \u001b[0mmodel\u001b[0m\u001b[1;33m=\u001b[0m\u001b[0mself\u001b[0m\u001b[1;33m,\u001b[0m\u001b[1;33m\u001b[0m\u001b[1;33m\u001b[0m\u001b[0m\n\u001b[0;32m   1444\u001b[0m                 steps_per_execution=self._steps_per_execution)\n\u001b[1;32m-> 1445\u001b[1;33m           val_logs = self.evaluate(\n\u001b[0m\u001b[0;32m   1446\u001b[0m               \u001b[0mx\u001b[0m\u001b[1;33m=\u001b[0m\u001b[0mval_x\u001b[0m\u001b[1;33m,\u001b[0m\u001b[1;33m\u001b[0m\u001b[1;33m\u001b[0m\u001b[0m\n\u001b[0;32m   1447\u001b[0m               \u001b[0my\u001b[0m\u001b[1;33m=\u001b[0m\u001b[0mval_y\u001b[0m\u001b[1;33m,\u001b[0m\u001b[1;33m\u001b[0m\u001b[1;33m\u001b[0m\u001b[0m\n",
      "\u001b[1;32mc:\\users\\monga\\appdata\\local\\programs\\python\\python38\\lib\\site-packages\\keras\\utils\\traceback_utils.py\u001b[0m in \u001b[0;36merror_handler\u001b[1;34m(*args, **kwargs)\u001b[0m\n\u001b[0;32m     62\u001b[0m     \u001b[0mfiltered_tb\u001b[0m \u001b[1;33m=\u001b[0m \u001b[1;32mNone\u001b[0m\u001b[1;33m\u001b[0m\u001b[1;33m\u001b[0m\u001b[0m\n\u001b[0;32m     63\u001b[0m     \u001b[1;32mtry\u001b[0m\u001b[1;33m:\u001b[0m\u001b[1;33m\u001b[0m\u001b[1;33m\u001b[0m\u001b[0m\n\u001b[1;32m---> 64\u001b[1;33m       \u001b[1;32mreturn\u001b[0m \u001b[0mfn\u001b[0m\u001b[1;33m(\u001b[0m\u001b[1;33m*\u001b[0m\u001b[0margs\u001b[0m\u001b[1;33m,\u001b[0m \u001b[1;33m**\u001b[0m\u001b[0mkwargs\u001b[0m\u001b[1;33m)\u001b[0m\u001b[1;33m\u001b[0m\u001b[1;33m\u001b[0m\u001b[0m\n\u001b[0m\u001b[0;32m     65\u001b[0m     \u001b[1;32mexcept\u001b[0m \u001b[0mException\u001b[0m \u001b[1;32mas\u001b[0m \u001b[0me\u001b[0m\u001b[1;33m:\u001b[0m  \u001b[1;31m# pylint: disable=broad-except\u001b[0m\u001b[1;33m\u001b[0m\u001b[1;33m\u001b[0m\u001b[0m\n\u001b[0;32m     66\u001b[0m       \u001b[0mfiltered_tb\u001b[0m \u001b[1;33m=\u001b[0m \u001b[0m_process_traceback_frames\u001b[0m\u001b[1;33m(\u001b[0m\u001b[0me\u001b[0m\u001b[1;33m.\u001b[0m\u001b[0m__traceback__\u001b[0m\u001b[1;33m)\u001b[0m\u001b[1;33m\u001b[0m\u001b[1;33m\u001b[0m\u001b[0m\n",
      "\u001b[1;32mc:\\users\\monga\\appdata\\local\\programs\\python\\python38\\lib\\site-packages\\keras\\engine\\training.py\u001b[0m in \u001b[0;36mevaluate\u001b[1;34m(self, x, y, batch_size, verbose, sample_weight, steps, callbacks, max_queue_size, workers, use_multiprocessing, return_dict, **kwargs)\u001b[0m\n\u001b[0;32m   1748\u001b[0m       \u001b[0mself\u001b[0m\u001b[1;33m.\u001b[0m\u001b[0m_test_counter\u001b[0m\u001b[1;33m.\u001b[0m\u001b[0massign\u001b[0m\u001b[1;33m(\u001b[0m\u001b[1;36m0\u001b[0m\u001b[1;33m)\u001b[0m\u001b[1;33m\u001b[0m\u001b[1;33m\u001b[0m\u001b[0m\n\u001b[0;32m   1749\u001b[0m       \u001b[0mcallbacks\u001b[0m\u001b[1;33m.\u001b[0m\u001b[0mon_test_begin\u001b[0m\u001b[1;33m(\u001b[0m\u001b[1;33m)\u001b[0m\u001b[1;33m\u001b[0m\u001b[1;33m\u001b[0m\u001b[0m\n\u001b[1;32m-> 1750\u001b[1;33m       \u001b[1;32mfor\u001b[0m \u001b[0m_\u001b[0m\u001b[1;33m,\u001b[0m \u001b[0miterator\u001b[0m \u001b[1;32min\u001b[0m \u001b[0mdata_handler\u001b[0m\u001b[1;33m.\u001b[0m\u001b[0menumerate_epochs\u001b[0m\u001b[1;33m(\u001b[0m\u001b[1;33m)\u001b[0m\u001b[1;33m:\u001b[0m  \u001b[1;31m# Single epoch.\u001b[0m\u001b[1;33m\u001b[0m\u001b[1;33m\u001b[0m\u001b[0m\n\u001b[0m\u001b[0;32m   1751\u001b[0m         \u001b[0mself\u001b[0m\u001b[1;33m.\u001b[0m\u001b[0mreset_metrics\u001b[0m\u001b[1;33m(\u001b[0m\u001b[1;33m)\u001b[0m\u001b[1;33m\u001b[0m\u001b[1;33m\u001b[0m\u001b[0m\n\u001b[0;32m   1752\u001b[0m         \u001b[1;32mwith\u001b[0m \u001b[0mdata_handler\u001b[0m\u001b[1;33m.\u001b[0m\u001b[0mcatch_stop_iteration\u001b[0m\u001b[1;33m(\u001b[0m\u001b[1;33m)\u001b[0m\u001b[1;33m:\u001b[0m\u001b[1;33m\u001b[0m\u001b[1;33m\u001b[0m\u001b[0m\n",
      "\u001b[1;32mc:\\users\\monga\\appdata\\local\\programs\\python\\python38\\lib\\site-packages\\keras\\engine\\data_adapter.py\u001b[0m in \u001b[0;36menumerate_epochs\u001b[1;34m(self)\u001b[0m\n\u001b[0;32m   1191\u001b[0m     \u001b[1;34m\"\"\"Yields `(epoch, tf.data.Iterator)`.\"\"\"\u001b[0m\u001b[1;33m\u001b[0m\u001b[1;33m\u001b[0m\u001b[0m\n\u001b[0;32m   1192\u001b[0m     \u001b[1;32mwith\u001b[0m \u001b[0mself\u001b[0m\u001b[1;33m.\u001b[0m\u001b[0m_truncate_execution_to_epoch\u001b[0m\u001b[1;33m(\u001b[0m\u001b[1;33m)\u001b[0m\u001b[1;33m:\u001b[0m\u001b[1;33m\u001b[0m\u001b[1;33m\u001b[0m\u001b[0m\n\u001b[1;32m-> 1193\u001b[1;33m       \u001b[0mdata_iterator\u001b[0m \u001b[1;33m=\u001b[0m \u001b[0miter\u001b[0m\u001b[1;33m(\u001b[0m\u001b[0mself\u001b[0m\u001b[1;33m.\u001b[0m\u001b[0m_dataset\u001b[0m\u001b[1;33m)\u001b[0m\u001b[1;33m\u001b[0m\u001b[1;33m\u001b[0m\u001b[0m\n\u001b[0m\u001b[0;32m   1194\u001b[0m       \u001b[1;32mfor\u001b[0m \u001b[0mepoch\u001b[0m \u001b[1;32min\u001b[0m \u001b[0mrange\u001b[0m\u001b[1;33m(\u001b[0m\u001b[0mself\u001b[0m\u001b[1;33m.\u001b[0m\u001b[0m_initial_epoch\u001b[0m\u001b[1;33m,\u001b[0m \u001b[0mself\u001b[0m\u001b[1;33m.\u001b[0m\u001b[0m_epochs\u001b[0m\u001b[1;33m)\u001b[0m\u001b[1;33m:\u001b[0m\u001b[1;33m\u001b[0m\u001b[1;33m\u001b[0m\u001b[0m\n\u001b[0;32m   1195\u001b[0m         \u001b[1;32mif\u001b[0m \u001b[0mself\u001b[0m\u001b[1;33m.\u001b[0m\u001b[0m_insufficient_data\u001b[0m\u001b[1;33m:\u001b[0m  \u001b[1;31m# Set by `catch_stop_iteration`.\u001b[0m\u001b[1;33m\u001b[0m\u001b[1;33m\u001b[0m\u001b[0m\n",
      "\u001b[1;32mc:\\users\\monga\\appdata\\local\\programs\\python\\python38\\lib\\site-packages\\tensorflow\\python\\data\\ops\\dataset_ops.py\u001b[0m in \u001b[0;36m__iter__\u001b[1;34m(self)\u001b[0m\n\u001b[0;32m    492\u001b[0m     \u001b[1;32mif\u001b[0m \u001b[0mcontext\u001b[0m\u001b[1;33m.\u001b[0m\u001b[0mexecuting_eagerly\u001b[0m\u001b[1;33m(\u001b[0m\u001b[1;33m)\u001b[0m \u001b[1;32mor\u001b[0m \u001b[0mops\u001b[0m\u001b[1;33m.\u001b[0m\u001b[0minside_function\u001b[0m\u001b[1;33m(\u001b[0m\u001b[1;33m)\u001b[0m\u001b[1;33m:\u001b[0m\u001b[1;33m\u001b[0m\u001b[1;33m\u001b[0m\u001b[0m\n\u001b[0;32m    493\u001b[0m       \u001b[1;32mwith\u001b[0m \u001b[0mops\u001b[0m\u001b[1;33m.\u001b[0m\u001b[0mcolocate_with\u001b[0m\u001b[1;33m(\u001b[0m\u001b[0mself\u001b[0m\u001b[1;33m.\u001b[0m\u001b[0m_variant_tensor\u001b[0m\u001b[1;33m)\u001b[0m\u001b[1;33m:\u001b[0m\u001b[1;33m\u001b[0m\u001b[1;33m\u001b[0m\u001b[0m\n\u001b[1;32m--> 494\u001b[1;33m         \u001b[1;32mreturn\u001b[0m \u001b[0miterator_ops\u001b[0m\u001b[1;33m.\u001b[0m\u001b[0mOwnedIterator\u001b[0m\u001b[1;33m(\u001b[0m\u001b[0mself\u001b[0m\u001b[1;33m)\u001b[0m\u001b[1;33m\u001b[0m\u001b[1;33m\u001b[0m\u001b[0m\n\u001b[0m\u001b[0;32m    495\u001b[0m     \u001b[1;32melse\u001b[0m\u001b[1;33m:\u001b[0m\u001b[1;33m\u001b[0m\u001b[1;33m\u001b[0m\u001b[0m\n\u001b[0;32m    496\u001b[0m       raise RuntimeError(\"`tf.data.Dataset` only supports Python-style \"\n",
      "\u001b[1;32mc:\\users\\monga\\appdata\\local\\programs\\python\\python38\\lib\\site-packages\\tensorflow\\python\\data\\ops\\iterator_ops.py\u001b[0m in \u001b[0;36m__init__\u001b[1;34m(self, dataset, components, element_spec)\u001b[0m\n\u001b[0;32m    694\u001b[0m             \u001b[1;34m\"When `dataset` is provided, `element_spec` and `components` must \"\u001b[0m\u001b[1;33m\u001b[0m\u001b[1;33m\u001b[0m\u001b[0m\n\u001b[0;32m    695\u001b[0m             \"not be specified.\")\n\u001b[1;32m--> 696\u001b[1;33m       \u001b[0mself\u001b[0m\u001b[1;33m.\u001b[0m\u001b[0m_create_iterator\u001b[0m\u001b[1;33m(\u001b[0m\u001b[0mdataset\u001b[0m\u001b[1;33m)\u001b[0m\u001b[1;33m\u001b[0m\u001b[1;33m\u001b[0m\u001b[0m\n\u001b[0m\u001b[0;32m    697\u001b[0m \u001b[1;33m\u001b[0m\u001b[0m\n\u001b[0;32m    698\u001b[0m     \u001b[0mself\u001b[0m\u001b[1;33m.\u001b[0m\u001b[0m_get_next_call_count\u001b[0m \u001b[1;33m=\u001b[0m \u001b[1;36m0\u001b[0m\u001b[1;33m\u001b[0m\u001b[1;33m\u001b[0m\u001b[0m\n",
      "\u001b[1;32mc:\\users\\monga\\appdata\\local\\programs\\python\\python38\\lib\\site-packages\\tensorflow\\python\\data\\ops\\iterator_ops.py\u001b[0m in \u001b[0;36m_create_iterator\u001b[1;34m(self, dataset)\u001b[0m\n\u001b[0;32m    719\u001b[0m               \u001b[0moutput_types\u001b[0m\u001b[1;33m=\u001b[0m\u001b[0mself\u001b[0m\u001b[1;33m.\u001b[0m\u001b[0m_flat_output_types\u001b[0m\u001b[1;33m,\u001b[0m\u001b[1;33m\u001b[0m\u001b[1;33m\u001b[0m\u001b[0m\n\u001b[0;32m    720\u001b[0m               output_shapes=self._flat_output_shapes))\n\u001b[1;32m--> 721\u001b[1;33m       \u001b[0mgen_dataset_ops\u001b[0m\u001b[1;33m.\u001b[0m\u001b[0mmake_iterator\u001b[0m\u001b[1;33m(\u001b[0m\u001b[0mds_variant\u001b[0m\u001b[1;33m,\u001b[0m \u001b[0mself\u001b[0m\u001b[1;33m.\u001b[0m\u001b[0m_iterator_resource\u001b[0m\u001b[1;33m)\u001b[0m\u001b[1;33m\u001b[0m\u001b[1;33m\u001b[0m\u001b[0m\n\u001b[0m\u001b[0;32m    722\u001b[0m \u001b[1;33m\u001b[0m\u001b[0m\n\u001b[0;32m    723\u001b[0m   \u001b[1;32mdef\u001b[0m \u001b[0m__iter__\u001b[0m\u001b[1;33m(\u001b[0m\u001b[0mself\u001b[0m\u001b[1;33m)\u001b[0m\u001b[1;33m:\u001b[0m\u001b[1;33m\u001b[0m\u001b[1;33m\u001b[0m\u001b[0m\n",
      "\u001b[1;32mc:\\users\\monga\\appdata\\local\\programs\\python\\python38\\lib\\site-packages\\tensorflow\\python\\ops\\gen_dataset_ops.py\u001b[0m in \u001b[0;36mmake_iterator\u001b[1;34m(dataset, iterator, name)\u001b[0m\n\u001b[0;32m   3406\u001b[0m   \u001b[1;32mif\u001b[0m \u001b[0mtld\u001b[0m\u001b[1;33m.\u001b[0m\u001b[0mis_eager\u001b[0m\u001b[1;33m:\u001b[0m\u001b[1;33m\u001b[0m\u001b[1;33m\u001b[0m\u001b[0m\n\u001b[0;32m   3407\u001b[0m     \u001b[1;32mtry\u001b[0m\u001b[1;33m:\u001b[0m\u001b[1;33m\u001b[0m\u001b[1;33m\u001b[0m\u001b[0m\n\u001b[1;32m-> 3408\u001b[1;33m       _result = pywrap_tfe.TFE_Py_FastPathExecute(\n\u001b[0m\u001b[0;32m   3409\u001b[0m         _ctx, \"MakeIterator\", name, dataset, iterator)\n\u001b[0;32m   3410\u001b[0m       \u001b[1;32mreturn\u001b[0m \u001b[0m_result\u001b[0m\u001b[1;33m\u001b[0m\u001b[1;33m\u001b[0m\u001b[0m\n",
      "\u001b[1;31mKeyboardInterrupt\u001b[0m: "
     ]
    }
   ],
   "source": [
    " train_model()"
   ]
  },
  {
   "cell_type": "code",
   "execution_count": null,
   "id": "8ab05885",
   "metadata": {
    "scrolled": false
   },
   "outputs": [],
   "source": [
    "%tensorboard --logdir logs/scalars"
   ]
  },
  {
   "cell_type": "markdown",
   "id": "d6eccc90",
   "metadata": {},
   "source": [
    "##### Images"
   ]
  },
  {
   "cell_type": "code",
   "execution_count": null,
   "id": "d48c34c1",
   "metadata": {},
   "outputs": [],
   "source": [
    "#import libraries\n",
    "import itertools\n",
    "import datetime\n",
    "import io\n",
    "import tensorflow as tf\n",
    "from tensorflow import keras\n",
    "import matplotlib.pyplot as plt\n",
    "import numpy as np\n",
    "import sklearn.metrics\n",
    "import shutil\n",
    "\n",
    "try:\n",
    "    shutil.rmtree('logsx')\n",
    "except:\n",
    "    pass\n",
    "\n",
    "fashion_mnist = keras.datasets.fashion_mnist\n",
    "(train_images, train_labels), (test_images, test_labels) = fashion_mnist.load_data()\n",
    "\n",
    "# Names of the integer classes\n",
    "class_names = ['T-shirt/top', 'Trouser', 'Pullover', 'Dress', 'Coat', \n",
    "    'Sandal', 'Shirt', 'Sneaker', 'Bag', 'Ankle boot']\n",
    "\n",
    "# Reshape the image for the Summary API.\n",
    "img = np.reshape(train_images[100], (-1, 28, 28, 1))\n",
    "\n",
    "# Sets up a timestamped log/images directory.\n",
    "logdir = \"logsx/images/\" + datetime.datetime.now().strftime(\"%Y%m%d-%H%M%S\")\n",
    "# Creates a file writer for the log directory.\n",
    "file_writer = tf.summary.create_file_writer(logdir)\n",
    "\n",
    "# Using the file writer, log the reshaped image\n",
    "with file_writer.as_default():\n",
    "    tf.summary.image(\"Image data\", img, step=0)"
   ]
  },
  {
   "cell_type": "code",
   "execution_count": null,
   "id": "2c156ba7",
   "metadata": {},
   "outputs": [],
   "source": [
    "%reload_ext tensorboard\n",
    "\n",
    "%tensorboard --logdir logsx/images/"
   ]
  },
  {
   "cell_type": "markdown",
   "id": "61c5dd00",
   "metadata": {},
   "source": [
    "##### Plot multiple images"
   ]
  },
  {
   "cell_type": "code",
   "execution_count": null,
   "id": "aa84d789",
   "metadata": {},
   "outputs": [],
   "source": [
    "with file_writer.as_default():\n",
    "    # Don't forget to reshape.\n",
    "    images = np.reshape(train_images[50:53], (-1, 28, 28, 1))\n",
    "    tf.summary.image(\"Plotting multiple images\", images, max_outputs=3, step=0)\n",
    "\n",
    "%tensorboard --logdir logsx/images"
   ]
  },
  {
   "cell_type": "code",
   "execution_count": null,
   "id": "8467e6d6",
   "metadata": {},
   "outputs": [],
   "source": []
  },
  {
   "cell_type": "code",
   "execution_count": null,
   "id": "a7f2ddd6",
   "metadata": {},
   "outputs": [],
   "source": []
  },
  {
   "cell_type": "code",
   "execution_count": null,
   "id": "4672074a",
   "metadata": {},
   "outputs": [],
   "source": []
  },
  {
   "cell_type": "code",
   "execution_count": null,
   "id": "8ec07b5d",
   "metadata": {},
   "outputs": [],
   "source": []
  },
  {
   "cell_type": "code",
   "execution_count": null,
   "id": "67d66fc5",
   "metadata": {},
   "outputs": [],
   "source": []
  },
  {
   "cell_type": "code",
   "execution_count": null,
   "id": "1aed3792",
   "metadata": {},
   "outputs": [],
   "source": []
  }
 ],
 "metadata": {
  "kernelspec": {
   "display_name": "Python 3 (ipykernel)",
   "language": "python",
   "name": "python3"
  },
  "language_info": {
   "codemirror_mode": {
    "name": "ipython",
    "version": 3
   },
   "file_extension": ".py",
   "mimetype": "text/x-python",
   "name": "python",
   "nbconvert_exporter": "python",
   "pygments_lexer": "ipython3",
   "version": "3.8.10"
  }
 },
 "nbformat": 4,
 "nbformat_minor": 5
}
