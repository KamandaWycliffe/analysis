{
 "cells": [
  {
   "cell_type": "markdown",
   "metadata": {},
   "source": [
    "# Movie recommendation system\n",
    ">Often, the question of different aspects of business including the reduction of customer attrition, expansion of market share, increment of sales, etcetera, are based on various approaches as  adopted by the underlying business. Such approaches might include but not limited to, conducting marketing campaigns tailored for various market segments, adoption of current customer satisfaction practices, use of recommendation tools, etc.\n",
    "\n",
    "> Primarily, recommender systems as observed by Shetty [1], help users discover new movieIds as well as services. This implies that, a recommender system ought to be configured such that they recommend the best movieId (that is, most relevant movieId based on user links). To this end, recommender systems are essential especially in today’s world where most of the goods and services are digitalized which often leads to users being overwhelmed by choice and need help finding what they're looking for. The ease of recommendation will often lead to more satisfied users and hence more sales.\n",
    "Uses of Recommender systems\n",
    "Some of the applications of recommender systems include, recommending movies, music, television programs, books, documents, websites, conferences, tourism scenic spots and learning materials.\n",
    "\n",
    "    \n",
    "   #### Objective\n",
    "   >In practice, there are quite a number of recommender systems which are broadly categorized into traditional and modern recommender systems. \n",
    "In an article by Sciforce blog [2], it is noted that traditional recommender systems (RSs) include content-based and collaborative filtering (CF) systems grounding their recommendations on historical links and user/item attributes. Content-based recommendations are mainly drawn on the user’s item and profile features, and CF seeks a similar audience’s preferences. On the other hand, modern recommender systems are mainly based on deep learning techniques such as convolutional neural networks (CNNs) which [2] observes as being a good fit for  unstructured multimedia data processing given effective feature extraction.\n",
    "\n",
    "##### Research Objective\n",
    ">The current study proposes a deep learning based recommender systems for the recommendation of movies based on an individual’s previous movie scores. Moreover, the proposed recommender system will be based on the web UI that is proposed to be developed using Django .\n",
    "\n"
   ]
  },
  {
   "cell_type": "markdown",
   "metadata": {},
   "source": [
    "![](https://md.ekstrandom.net/talks/2014/txstate-recsys-research/movielens.png)"
   ]
  },
  {
   "cell_type": "markdown",
   "metadata": {},
   "source": [
    "# Table Of Contents\n",
    "- Exploratory Data Analysis(EDA)\n",
    "- Content based filtering\n",
    "- Deep Learning Models"
   ]
  },
  {
   "cell_type": "markdown",
   "metadata": {},
   "source": [
    "## Load Libraries "
   ]
  },
  {
   "cell_type": "code",
   "execution_count": 894,
   "metadata": {},
   "outputs": [],
   "source": [
    "from math import sqrt\n",
    "import pandas as pd\n",
    "import numpy as np\n",
    "import seaborn as sns\n",
    "from matplotlib import pyplot as p\n",
    "from sklearn.feature_extraction.text import TfidfVectorizer\n",
    "from sklearn.metrics.pairwise import linear_kernel\n",
    "from sklearn.model_selection import train_test_split\n",
    "from pandas.api.types import CategoricalDtype\n",
    "\n",
    "import scipy.sparse as sps\n",
    "#Deep learning\n",
    "import keras\n",
    "import tensorflow as tf\n",
    "import warnings\n",
    "from scipy.stats import percentileofscore\n",
    "warnings.filterwarnings('ignore')\n",
    "from keras.callbacks import EarlyStopping\n",
    "from keras import backend as K\n",
    "from keras.models import Sequential, Model\n",
    "from keras.layers.core import Dense, Lambda, Activation\n",
    "from sklearn.metrics.pairwise import cosine_similarity\n",
    "from keras.layers import Embedding, Input, Dense, Reshape, Flatten, merge\n",
    "from tensorflow.keras.optimizers import RMSprop\n",
    "\n",
    "from keras.regularizers import l2\n",
    "from numpy import count_nonzero\n",
    "from tableone import TableOne, load_dataset\n",
    "from scipy import stats\n",
    "from keras.utils.vis_utils import plot_model\n",
    "from scipy.sparse import  csr_matrix\n",
    "from keras.utils.vis_utils import plot_model\n",
    "from tensorflow.keras.optimizers import RMSprop\n",
    "from sklearn.decomposition import NMF"
   ]
  },
  {
   "cell_type": "markdown",
   "metadata": {},
   "source": [
    "# Dataset : Small Movielens\n",
    ">Source: https://files.grouplens.org/datasets/movielens/ml-100k.zip"
   ]
  },
  {
   "cell_type": "code",
   "execution_count": 895,
   "metadata": {},
   "outputs": [],
   "source": [
    "# Reading scores file\n",
    "scores = pd.read_csv('ratings.csv', sep=',', encoding='latin-1', usecols=['userId','movieId','rating','timestamp'])\n",
    "\n",
    "# Reading movies file\n",
    "movies = pd.read_csv('movies.csv', sep=',', encoding='latin-1', usecols=['movieId','title','genres'])"
   ]
  },
  {
   "cell_type": "code",
   "execution_count": 896,
   "metadata": {},
   "outputs": [],
   "source": [
    "dfmv = movies\n",
    "df_rtngs = scores"
   ]
  },
  {
   "cell_type": "code",
   "execution_count": 897,
   "metadata": {},
   "outputs": [],
   "source": [
    "dfmvs1 = dfmv.merge(df_rtngs)[['genres', 'rating']]"
   ]
  },
  {
   "cell_type": "markdown",
   "metadata": {},
   "source": [
    "#### Examine data sparsity"
   ]
  },
  {
   "cell_type": "code",
   "execution_count": 898,
   "metadata": {},
   "outputs": [],
   "source": [
    "ct = 'category' #Define global category descriptor\n",
    "usrs = np.sort(scores.userId.unique()).tolist() # Get the unique customers\n",
    "mvs = list(scores.movieId.unique()) # Get the unique products that were watched\n",
    "rtng = list(scores.rating) # All of the watch history\n",
    "r = scores.userId.astype(ct, usrs).cat.codes\n",
    "# pull row indices\n",
    "cols = scores.movieId.astype(ct, mvs).cat.codes\n",
    "# pull column indices\n",
    "usr_itm = sps.csr_matrix((rtng, (r, cols)), shape=(len(usrs), len(mvs)))\n",
    "mtrx_sz = usr_itm.shape[0]*usr_itm.shape[1] # Total possible links\n",
    "times_watched = len(usr_itm.nonzero()[0]) # Number of mvs interacted with\n",
    "#sparsity\n",
    "sprs = 100*(1 - (1.0*times_watched/mtrx_sz))"
   ]
  },
  {
   "cell_type": "code",
   "execution_count": 899,
   "metadata": {},
   "outputs": [
    {
     "name": "stdout",
     "output_type": "stream",
     "text": [
      "100836 links\n"
     ]
    }
   ],
   "source": [
    "print(times_watched, 'links')"
   ]
  },
  {
   "cell_type": "code",
   "execution_count": 900,
   "metadata": {},
   "outputs": [
    {
     "name": "stdout",
     "output_type": "stream",
     "text": [
      "9742 movies\n"
     ]
    }
   ],
   "source": [
    "print(len(movies), 'movies')"
   ]
  },
  {
   "cell_type": "code",
   "execution_count": 901,
   "metadata": {},
   "outputs": [
    {
     "name": "stdout",
     "output_type": "stream",
     "text": [
      "610 Users\n"
     ]
    }
   ],
   "source": [
    "print(len(usrs), 'Users')"
   ]
  },
  {
   "cell_type": "markdown",
   "metadata": {},
   "source": [
    "### Exploratory Data Analysis(EDA)"
   ]
  },
  {
   "cell_type": "code",
   "execution_count": 902,
   "metadata": {},
   "outputs": [
    {
     "data": {
      "text/html": [
       "<div>\n",
       "<style scoped>\n",
       "    .dataframe tbody tr th:only-of-type {\n",
       "        vertical-align: middle;\n",
       "    }\n",
       "\n",
       "    .dataframe tbody tr th {\n",
       "        vertical-align: top;\n",
       "    }\n",
       "\n",
       "    .dataframe thead th {\n",
       "        text-align: right;\n",
       "    }\n",
       "</style>\n",
       "<table border=\"1\" class=\"dataframe\">\n",
       "  <thead>\n",
       "    <tr style=\"text-align: right;\">\n",
       "      <th></th>\n",
       "      <th>movieId</th>\n",
       "      <th>title</th>\n",
       "      <th>genres</th>\n",
       "    </tr>\n",
       "  </thead>\n",
       "  <tbody>\n",
       "    <tr>\n",
       "      <th>0</th>\n",
       "      <td>1</td>\n",
       "      <td>Toy Story (1995)</td>\n",
       "      <td>Adventure|Animation|Children|Comedy|Fantasy</td>\n",
       "    </tr>\n",
       "    <tr>\n",
       "      <th>1</th>\n",
       "      <td>2</td>\n",
       "      <td>Jumanji (1995)</td>\n",
       "      <td>Adventure|Children|Fantasy</td>\n",
       "    </tr>\n",
       "    <tr>\n",
       "      <th>2</th>\n",
       "      <td>3</td>\n",
       "      <td>Grumpier Old Men (1995)</td>\n",
       "      <td>Comedy|Romance</td>\n",
       "    </tr>\n",
       "    <tr>\n",
       "      <th>3</th>\n",
       "      <td>4</td>\n",
       "      <td>Waiting to Exhale (1995)</td>\n",
       "      <td>Comedy|Drama|Romance</td>\n",
       "    </tr>\n",
       "    <tr>\n",
       "      <th>4</th>\n",
       "      <td>5</td>\n",
       "      <td>Father of the Bride Part II (1995)</td>\n",
       "      <td>Comedy</td>\n",
       "    </tr>\n",
       "  </tbody>\n",
       "</table>\n",
       "</div>"
      ],
      "text/plain": [
       "   movieId                               title  \\\n",
       "0        1                    Toy Story (1995)   \n",
       "1        2                      Jumanji (1995)   \n",
       "2        3             Grumpier Old Men (1995)   \n",
       "3        4            Waiting to Exhale (1995)   \n",
       "4        5  Father of the Bride Part II (1995)   \n",
       "\n",
       "                                        genres  \n",
       "0  Adventure|Animation|Children|Comedy|Fantasy  \n",
       "1                   Adventure|Children|Fantasy  \n",
       "2                               Comedy|Romance  \n",
       "3                         Comedy|Drama|Romance  \n",
       "4                                       Comedy  "
      ]
     },
     "execution_count": 902,
     "metadata": {},
     "output_type": "execute_result"
    }
   ],
   "source": [
    "dfmv.head(5)"
   ]
  },
  {
   "cell_type": "markdown",
   "metadata": {},
   "source": [
    "### Most popular genres of movie released"
   ]
  },
  {
   "cell_type": "code",
   "execution_count": 903,
   "metadata": {},
   "outputs": [
    {
     "data": {
      "image/png": "[encoded data removed]",
      "text/plain": [
       "<Figure size 1440x504 with 1 Axes>"
      ]
     },
     "metadata": {
      "needs_background": "light"
     },
     "output_type": "display_data"
    }
   ],
   "source": [
    "p.figure(figsize=(20,7))\n",
    "gnr_lst = dfmvs1['genres'].apply(lambda mv_lst : str(mv_lst).split(\"|\"))\n",
    "gnr_cnt = {}\n",
    "\n",
    "for mv_lst in gnr_lst:\n",
    "    for genre in mv_lst:\n",
    "        if(gnr_cnt.get(genre,False)):\n",
    "            gnr_cnt[genre]=gnr_cnt[genre]+1\n",
    "        else:\n",
    "            gnr_cnt[genre] = 1\n",
    "            \n",
    "gnr_cnt.pop('(no genres listed)')\n",
    "gnr_cnt = {k: v for k, v in sorted(gnr_cnt.items(), key=lambda item: item[1], reverse=True)}\n",
    "p.bar(gnr_cnt.keys(),gnr_cnt.values(),color='steelblue')\n",
    "p.title('Movie by genre')\n",
    "p.xticks(rotation = 45)\n",
    "p.xlabel('Genre')\n",
    "p.ylabel('Number of movies')\n",
    "p.grid()\n",
    "p.show()"
   ]
  },
  {
   "cell_type": "code",
   "execution_count": 904,
   "metadata": {},
   "outputs": [
    {
     "data": {
      "text/html": [
       "<div>\n",
       "<style scoped>\n",
       "    .dataframe tbody tr th:only-of-type {\n",
       "        vertical-align: middle;\n",
       "    }\n",
       "\n",
       "    .dataframe tbody tr th {\n",
       "        vertical-align: top;\n",
       "    }\n",
       "\n",
       "    .dataframe thead th {\n",
       "        text-align: right;\n",
       "    }\n",
       "</style>\n",
       "<table border=\"1\" class=\"dataframe\">\n",
       "  <thead>\n",
       "    <tr style=\"text-align: right;\">\n",
       "      <th></th>\n",
       "      <th>userId</th>\n",
       "      <th>movieId</th>\n",
       "      <th>rating</th>\n",
       "      <th>timestamp</th>\n",
       "    </tr>\n",
       "  </thead>\n",
       "  <tbody>\n",
       "    <tr>\n",
       "      <th>0</th>\n",
       "      <td>1</td>\n",
       "      <td>1</td>\n",
       "      <td>4.0</td>\n",
       "      <td>964982703</td>\n",
       "    </tr>\n",
       "    <tr>\n",
       "      <th>1</th>\n",
       "      <td>1</td>\n",
       "      <td>3</td>\n",
       "      <td>4.0</td>\n",
       "      <td>964981247</td>\n",
       "    </tr>\n",
       "    <tr>\n",
       "      <th>2</th>\n",
       "      <td>1</td>\n",
       "      <td>6</td>\n",
       "      <td>4.0</td>\n",
       "      <td>964982224</td>\n",
       "    </tr>\n",
       "    <tr>\n",
       "      <th>3</th>\n",
       "      <td>1</td>\n",
       "      <td>47</td>\n",
       "      <td>5.0</td>\n",
       "      <td>964983815</td>\n",
       "    </tr>\n",
       "    <tr>\n",
       "      <th>4</th>\n",
       "      <td>1</td>\n",
       "      <td>50</td>\n",
       "      <td>5.0</td>\n",
       "      <td>964982931</td>\n",
       "    </tr>\n",
       "  </tbody>\n",
       "</table>\n",
       "</div>"
      ],
      "text/plain": [
       "   userId  movieId  rating  timestamp\n",
       "0       1        1     4.0  964982703\n",
       "1       1        3     4.0  964981247\n",
       "2       1        6     4.0  964982224\n",
       "3       1       47     5.0  964983815\n",
       "4       1       50     5.0  964982931"
      ]
     },
     "execution_count": 904,
     "metadata": {},
     "output_type": "execute_result"
    }
   ],
   "source": [
    "df_rtngs.head(5)"
   ]
  },
  {
   "cell_type": "markdown",
   "metadata": {},
   "source": [
    "### Distribution of users rating"
   ]
  },
  {
   "cell_type": "code",
   "execution_count": 905,
   "metadata": {},
   "outputs": [
    {
     "data": {
      "image/png": "[encoded data removed]",
      "text/plain": [
       "<Figure size 864x504 with 1 Axes>"
      ]
     },
     "metadata": {
      "needs_background": "light"
     },
     "output_type": "display_data"
    }
   ],
   "source": [
    "p.figure(figsize=(12,7))\n",
    "#plot distribution of rating with the kde chart\n",
    "sns.kdeplot(df_rtngs[\"rating\"], color = 'steelblue');\n",
    "p.title('Distribution of movie scores')\n",
    "p.grid()\n",
    "p.show()"
   ]
  },
  {
   "cell_type": "code",
   "execution_count": 906,
   "metadata": {
    "scrolled": true
   },
   "outputs": [
    {
     "name": "stdout",
     "output_type": "stream",
     "text": [
      "Shape of the dataframes: \n",
      " Rating DataFrame: (100836, 4)\n",
      " Movies DataFrame(9742, 3)\n"
     ]
    }
   ],
   "source": [
    "print(\"Shape of the dataframes: \\n\"+ \" Rating DataFrame: \"+ str(df_rtngs.shape)+\"\\n Movies DataFrame\"+ str(dfmv.shape))"
   ]
  },
  {
   "cell_type": "code",
   "execution_count": 907,
   "metadata": {},
   "outputs": [],
   "source": [
    "#merge the movie and ratings dataset to get ratings of the respective movies\n",
    "combine_mv_scs = pd.merge(dfmv, df_rtngs, on='movieId', how='inner')"
   ]
  },
  {
   "cell_type": "code",
   "execution_count": 908,
   "metadata": {},
   "outputs": [
    {
     "data": {
      "text/html": [
       "<div>\n",
       "<style scoped>\n",
       "    .dataframe tbody tr th:only-of-type {\n",
       "        vertical-align: middle;\n",
       "    }\n",
       "\n",
       "    .dataframe tbody tr th {\n",
       "        vertical-align: top;\n",
       "    }\n",
       "\n",
       "    .dataframe thead th {\n",
       "        text-align: right;\n",
       "    }\n",
       "</style>\n",
       "<table border=\"1\" class=\"dataframe\">\n",
       "  <thead>\n",
       "    <tr style=\"text-align: right;\">\n",
       "      <th></th>\n",
       "      <th>movieId</th>\n",
       "      <th>title</th>\n",
       "      <th>genres</th>\n",
       "      <th>userId</th>\n",
       "      <th>rating</th>\n",
       "      <th>timestamp</th>\n",
       "    </tr>\n",
       "  </thead>\n",
       "  <tbody>\n",
       "    <tr>\n",
       "      <th>0</th>\n",
       "      <td>1</td>\n",
       "      <td>Toy Story (1995)</td>\n",
       "      <td>Adventure|Animation|Children|Comedy|Fantasy</td>\n",
       "      <td>1</td>\n",
       "      <td>4.0</td>\n",
       "      <td>964982703</td>\n",
       "    </tr>\n",
       "    <tr>\n",
       "      <th>1</th>\n",
       "      <td>1</td>\n",
       "      <td>Toy Story (1995)</td>\n",
       "      <td>Adventure|Animation|Children|Comedy|Fantasy</td>\n",
       "      <td>5</td>\n",
       "      <td>4.0</td>\n",
       "      <td>847434962</td>\n",
       "    </tr>\n",
       "  </tbody>\n",
       "</table>\n",
       "</div>"
      ],
      "text/plain": [
       "   movieId             title                                       genres  \\\n",
       "0        1  Toy Story (1995)  Adventure|Animation|Children|Comedy|Fantasy   \n",
       "1        1  Toy Story (1995)  Adventure|Animation|Children|Comedy|Fantasy   \n",
       "\n",
       "   userId  rating  timestamp  \n",
       "0       1     4.0  964982703  \n",
       "1       5     4.0  847434962  "
      ]
     },
     "execution_count": 908,
     "metadata": {},
     "output_type": "execute_result"
    }
   ],
   "source": [
    "combine_mv_scs.head(2)"
   ]
  },
  {
   "cell_type": "code",
   "execution_count": 909,
   "metadata": {},
   "outputs": [],
   "source": [
    "#drop the timestamp column to remain with relevant attrs\n",
    "combine_mv_scs = combine_mv_scs.drop('timestamp', axis=1)"
   ]
  },
  {
   "cell_type": "code",
   "execution_count": 910,
   "metadata": {},
   "outputs": [
    {
     "data": {
      "text/plain": [
       "(100836, 5)"
      ]
     },
     "execution_count": 910,
     "metadata": {},
     "output_type": "execute_result"
    }
   ],
   "source": [
    "#get shape of the resulting data\n",
    "combine_mv_scs.shape"
   ]
  },
  {
   "cell_type": "markdown",
   "metadata": {},
   "source": [
    "Grouping the rating based on user"
   ]
  },
  {
   "cell_type": "code",
   "execution_count": 911,
   "metadata": {},
   "outputs": [],
   "source": [
    "#Group by the userid\n",
    "scores_grouped_by_usrs = combine_mv_scs.groupby('userId').agg([np.size, np.mean])"
   ]
  },
  {
   "cell_type": "code",
   "execution_count": 912,
   "metadata": {},
   "outputs": [
    {
     "data": {
      "text/html": [
       "<div>\n",
       "<style scoped>\n",
       "    .dataframe tbody tr th:only-of-type {\n",
       "        vertical-align: middle;\n",
       "    }\n",
       "\n",
       "    .dataframe tbody tr th {\n",
       "        vertical-align: top;\n",
       "    }\n",
       "\n",
       "    .dataframe thead tr th {\n",
       "        text-align: left;\n",
       "    }\n",
       "\n",
       "    .dataframe thead tr:last-of-type th {\n",
       "        text-align: right;\n",
       "    }\n",
       "</style>\n",
       "<table border=\"1\" class=\"dataframe\">\n",
       "  <thead>\n",
       "    <tr>\n",
       "      <th></th>\n",
       "      <th colspan=\"2\" halign=\"left\">movieId</th>\n",
       "      <th colspan=\"2\" halign=\"left\">rating</th>\n",
       "    </tr>\n",
       "    <tr>\n",
       "      <th></th>\n",
       "      <th>size</th>\n",
       "      <th>mean</th>\n",
       "      <th>size</th>\n",
       "      <th>mean</th>\n",
       "    </tr>\n",
       "    <tr>\n",
       "      <th>userId</th>\n",
       "      <th></th>\n",
       "      <th></th>\n",
       "      <th></th>\n",
       "      <th></th>\n",
       "    </tr>\n",
       "  </thead>\n",
       "  <tbody>\n",
       "    <tr>\n",
       "      <th>1</th>\n",
       "      <td>232</td>\n",
       "      <td>1854.603448</td>\n",
       "      <td>232.0</td>\n",
       "      <td>4.366379</td>\n",
       "    </tr>\n",
       "    <tr>\n",
       "      <th>2</th>\n",
       "      <td>29</td>\n",
       "      <td>70350.275862</td>\n",
       "      <td>29.0</td>\n",
       "      <td>3.948276</td>\n",
       "    </tr>\n",
       "  </tbody>\n",
       "</table>\n",
       "</div>"
      ],
      "text/plain": [
       "       movieId               rating          \n",
       "          size          mean   size      mean\n",
       "userId                                       \n",
       "1          232   1854.603448  232.0  4.366379\n",
       "2           29  70350.275862   29.0  3.948276"
      ]
     },
     "execution_count": 912,
     "metadata": {},
     "output_type": "execute_result"
    }
   ],
   "source": [
    "scores_grouped_by_usrs.head(2)"
   ]
  },
  {
   "cell_type": "code",
   "execution_count": 913,
   "metadata": {},
   "outputs": [],
   "source": [
    "#Remove movieid\n",
    "scores_grouped_by_usrs = scores_grouped_by_usrs.drop('movieId', axis = 1)"
   ]
  },
  {
   "cell_type": "markdown",
   "metadata": {},
   "source": [
    "### Top 10 users who have rated most of the movies"
   ]
  },
  {
   "cell_type": "code",
   "execution_count": 914,
   "metadata": {},
   "outputs": [
    {
     "data": {
      "image/png": "[encoded data removed]",
      "text/plain": [
       "<Figure size 792x432 with 1 Axes>"
      ]
     },
     "metadata": {
      "needs_background": "light"
     },
     "output_type": "display_data"
    }
   ],
   "source": [
    "#plot the top 10 movies\n",
    "scores_grouped_by_usrs['rating']['size'].sort_values(ascending=False).head(10).plot(kind = 'bar', figsize = (11,6))\n",
    "p.title('Top 10 movie reviews (users with most scores)')\n",
    "p.grid()\n",
    "p.show()"
   ]
  },
  {
   "cell_type": "code",
   "execution_count": 915,
   "metadata": {},
   "outputs": [],
   "source": [
    "#Group by movie id to get the mean rating of each movie\n",
    "scores_mvs = combine_mv_scs.groupby('movieId').agg([np.mean], np.size)"
   ]
  },
  {
   "cell_type": "code",
   "execution_count": 916,
   "metadata": {},
   "outputs": [
    {
     "data": {
      "text/plain": [
       "(9724, 2)"
      ]
     },
     "execution_count": 916,
     "metadata": {},
     "output_type": "execute_result"
    }
   ],
   "source": [
    "scores_mvs.shape"
   ]
  },
  {
   "cell_type": "code",
   "execution_count": 917,
   "metadata": {
    "scrolled": true
   },
   "outputs": [
    {
     "data": {
      "text/html": [
       "<div>\n",
       "<style scoped>\n",
       "    .dataframe tbody tr th:only-of-type {\n",
       "        vertical-align: middle;\n",
       "    }\n",
       "\n",
       "    .dataframe tbody tr th {\n",
       "        vertical-align: top;\n",
       "    }\n",
       "\n",
       "    .dataframe thead tr th {\n",
       "        text-align: left;\n",
       "    }\n",
       "\n",
       "    .dataframe thead tr:last-of-type th {\n",
       "        text-align: right;\n",
       "    }\n",
       "</style>\n",
       "<table border=\"1\" class=\"dataframe\">\n",
       "  <thead>\n",
       "    <tr>\n",
       "      <th></th>\n",
       "      <th>userId</th>\n",
       "      <th>rating</th>\n",
       "    </tr>\n",
       "    <tr>\n",
       "      <th></th>\n",
       "      <th>mean</th>\n",
       "      <th>mean</th>\n",
       "    </tr>\n",
       "    <tr>\n",
       "      <th>movieId</th>\n",
       "      <th></th>\n",
       "      <th></th>\n",
       "    </tr>\n",
       "  </thead>\n",
       "  <tbody>\n",
       "    <tr>\n",
       "      <th>1</th>\n",
       "      <td>306.530233</td>\n",
       "      <td>3.920930</td>\n",
       "    </tr>\n",
       "    <tr>\n",
       "      <th>2</th>\n",
       "      <td>329.554545</td>\n",
       "      <td>3.431818</td>\n",
       "    </tr>\n",
       "    <tr>\n",
       "      <th>3</th>\n",
       "      <td>283.596154</td>\n",
       "      <td>3.259615</td>\n",
       "    </tr>\n",
       "  </tbody>\n",
       "</table>\n",
       "</div>"
      ],
      "text/plain": [
       "             userId    rating\n",
       "               mean      mean\n",
       "movieId                      \n",
       "1        306.530233  3.920930\n",
       "2        329.554545  3.431818\n",
       "3        283.596154  3.259615"
      ]
     },
     "execution_count": 917,
     "metadata": {},
     "output_type": "execute_result"
    }
   ],
   "source": [
    "scores_mvs.head(3)"
   ]
  },
  {
   "cell_type": "code",
   "execution_count": 918,
   "metadata": {},
   "outputs": [],
   "source": [
    "#Remove movieid\n",
    "scores_mvs = scores_mvs.drop('userId', axis=1)"
   ]
  },
  {
   "cell_type": "markdown",
   "metadata": {},
   "source": [
    "### Movies with high average rating"
   ]
  },
  {
   "cell_type": "code",
   "execution_count": 919,
   "metadata": {
    "scrolled": false
   },
   "outputs": [
    {
     "data": {
      "image/png": "[encoded data removed]",
      "text/plain": [
       "<Figure size 504x432 with 1 Axes>"
      ]
     },
     "metadata": {
      "needs_background": "light"
     },
     "output_type": "display_data"
    }
   ],
   "source": [
    "#Plot movies with the highest average rating\n",
    "scores_mvs['rating']['mean'].sort_values(ascending=False).head(10).plot(kind='bar',\n",
    "                                                                                       figsize=(7,6), color = 'orange');\n",
    "p.title('Movies with the highest scores')\n",
    "p.grid()\n",
    "p.show()"
   ]
  },
  {
   "cell_type": "markdown",
   "metadata": {},
   "source": [
    "### Movies with low average rating"
   ]
  },
  {
   "cell_type": "code",
   "execution_count": 920,
   "metadata": {},
   "outputs": [],
   "source": [
    "#Get movies that are rated less than 1.5\n",
    "least_rated_mvs = scores_mvs['rating']['mean']< 1.5"
   ]
  },
  {
   "cell_type": "code",
   "execution_count": 921,
   "metadata": {},
   "outputs": [],
   "source": [
    "#Subset the movies using the mentioned criterion\n",
    "rated_low = scores_mvs[least_rated_mvs]"
   ]
  },
  {
   "cell_type": "code",
   "execution_count": 922,
   "metadata": {
    "scrolled": false
   },
   "outputs": [
    {
     "data": {
      "image/png": "[encoded data removed]",
      "text/plain": [
       "<Figure size 576x432 with 1 Axes>"
      ]
     },
     "metadata": {
      "needs_background": "light"
     },
     "output_type": "display_data"
    }
   ],
   "source": [
    "#Plot the movies\n",
    "rated_low.head(20).plot(kind='bar', figsize=(8,6));\n",
    "p.grid()"
   ]
  },
  {
   "cell_type": "code",
   "execution_count": 923,
   "metadata": {},
   "outputs": [
    {
     "data": {
      "text/html": [
       "<div>\n",
       "<style scoped>\n",
       "    .dataframe tbody tr th:only-of-type {\n",
       "        vertical-align: middle;\n",
       "    }\n",
       "\n",
       "    .dataframe tbody tr th {\n",
       "        vertical-align: top;\n",
       "    }\n",
       "\n",
       "    .dataframe thead tr th {\n",
       "        text-align: left;\n",
       "    }\n",
       "\n",
       "    .dataframe thead tr:last-of-type th {\n",
       "        text-align: right;\n",
       "    }\n",
       "</style>\n",
       "<table border=\"1\" class=\"dataframe\">\n",
       "  <thead>\n",
       "    <tr>\n",
       "      <th></th>\n",
       "      <th>rating</th>\n",
       "    </tr>\n",
       "    <tr>\n",
       "      <th></th>\n",
       "      <th>mean</th>\n",
       "    </tr>\n",
       "    <tr>\n",
       "      <th>movieId</th>\n",
       "      <th></th>\n",
       "    </tr>\n",
       "  </thead>\n",
       "  <tbody>\n",
       "    <tr>\n",
       "      <th>178</th>\n",
       "      <td>1.000000</td>\n",
       "    </tr>\n",
       "    <tr>\n",
       "      <th>312</th>\n",
       "      <td>1.444444</td>\n",
       "    </tr>\n",
       "    <tr>\n",
       "      <th>449</th>\n",
       "      <td>1.000000</td>\n",
       "    </tr>\n",
       "    <tr>\n",
       "      <th>470</th>\n",
       "      <td>1.000000</td>\n",
       "    </tr>\n",
       "    <tr>\n",
       "      <th>476</th>\n",
       "      <td>1.000000</td>\n",
       "    </tr>\n",
       "    <tr>\n",
       "      <th>698</th>\n",
       "      <td>1.000000</td>\n",
       "    </tr>\n",
       "    <tr>\n",
       "      <th>870</th>\n",
       "      <td>1.000000</td>\n",
       "    </tr>\n",
       "    <tr>\n",
       "      <th>1163</th>\n",
       "      <td>1.000000</td>\n",
       "    </tr>\n",
       "    <tr>\n",
       "      <th>1324</th>\n",
       "      <td>1.166667</td>\n",
       "    </tr>\n",
       "    <tr>\n",
       "      <th>1325</th>\n",
       "      <td>1.250000</td>\n",
       "    </tr>\n",
       "  </tbody>\n",
       "</table>\n",
       "</div>"
      ],
      "text/plain": [
       "           rating\n",
       "             mean\n",
       "movieId          \n",
       "178      1.000000\n",
       "312      1.444444\n",
       "449      1.000000\n",
       "470      1.000000\n",
       "476      1.000000\n",
       "698      1.000000\n",
       "870      1.000000\n",
       "1163     1.000000\n",
       "1324     1.166667\n",
       "1325     1.250000"
      ]
     },
     "execution_count": 923,
     "metadata": {},
     "output_type": "execute_result"
    }
   ],
   "source": [
    "#Overview of 10 movies with the lowest rating\n",
    "rated_low.head(10)"
   ]
  },
  {
   "cell_type": "code",
   "execution_count": null,
   "metadata": {},
   "outputs": [],
   "source": []
  },
  {
   "cell_type": "code",
   "execution_count": 924,
   "metadata": {},
   "outputs": [],
   "source": [
    "#Merge the ratings and movies dt\n",
    "dfmvs = dfmv.merge(df_rtngs)\n",
    "groupby = ['genres']\n",
    "nonnormal = ['movieId']\n",
    "dfmvs = dfmvs[dfmvs['genres'].isin(list(gnr_cnt.keys())[0:5])]"
   ]
  },
  {
   "cell_type": "code",
   "execution_count": 925,
   "metadata": {},
   "outputs": [],
   "source": [
    "tstTable = TableOne(dfmvs,columns = ['genres', 'rating'],\n",
    "                   groupby=groupby, pval=True)"
   ]
  },
  {
   "cell_type": "code",
   "execution_count": 926,
   "metadata": {},
   "outputs": [
    {
     "data": {
      "text/html": [
       "<div>\n",
       "<style scoped>\n",
       "    .dataframe tbody tr th:only-of-type {\n",
       "        vertical-align: middle;\n",
       "    }\n",
       "\n",
       "    .dataframe tbody tr th {\n",
       "        vertical-align: top;\n",
       "    }\n",
       "\n",
       "    .dataframe thead tr th {\n",
       "        text-align: left;\n",
       "    }\n",
       "</style>\n",
       "<table border=\"1\" class=\"dataframe\">\n",
       "  <thead>\n",
       "    <tr>\n",
       "      <th></th>\n",
       "      <th></th>\n",
       "      <th colspan=\"8\" halign=\"left\">Grouped by genres</th>\n",
       "    </tr>\n",
       "    <tr>\n",
       "      <th></th>\n",
       "      <th></th>\n",
       "      <th>Missing</th>\n",
       "      <th>Overall</th>\n",
       "      <th>Action</th>\n",
       "      <th>Adventure</th>\n",
       "      <th>Comedy</th>\n",
       "      <th>Drama</th>\n",
       "      <th>Thriller</th>\n",
       "      <th>P-Value</th>\n",
       "    </tr>\n",
       "  </thead>\n",
       "  <tbody>\n",
       "    <tr>\n",
       "      <th>n</th>\n",
       "      <th></th>\n",
       "      <td></td>\n",
       "      <td>14320</td>\n",
       "      <td>186</td>\n",
       "      <td>19</td>\n",
       "      <td>7196</td>\n",
       "      <td>6291</td>\n",
       "      <td>628</td>\n",
       "      <td></td>\n",
       "    </tr>\n",
       "    <tr>\n",
       "      <th rowspan=\"10\" valign=\"top\">rating, n (%)</th>\n",
       "      <th>0.5</th>\n",
       "      <td>0</td>\n",
       "      <td>191 (1.3)</td>\n",
       "      <td>4 (2.2)</td>\n",
       "      <td></td>\n",
       "      <td>136 (1.9)</td>\n",
       "      <td>44 (0.7)</td>\n",
       "      <td>7 (1.1)</td>\n",
       "      <td>&lt;0.001</td>\n",
       "    </tr>\n",
       "    <tr>\n",
       "      <th>1.0</th>\n",
       "      <td></td>\n",
       "      <td>486 (3.4)</td>\n",
       "      <td>13 (7.0)</td>\n",
       "      <td>1 (5.3)</td>\n",
       "      <td>348 (4.8)</td>\n",
       "      <td>99 (1.6)</td>\n",
       "      <td>25 (4.0)</td>\n",
       "      <td></td>\n",
       "    </tr>\n",
       "    <tr>\n",
       "      <th>1.5</th>\n",
       "      <td></td>\n",
       "      <td>324 (2.3)</td>\n",
       "      <td>6 (3.2)</td>\n",
       "      <td>1 (5.3)</td>\n",
       "      <td>256 (3.6)</td>\n",
       "      <td>49 (0.8)</td>\n",
       "      <td>12 (1.9)</td>\n",
       "      <td></td>\n",
       "    </tr>\n",
       "    <tr>\n",
       "      <th>2.0</th>\n",
       "      <td></td>\n",
       "      <td>1198 (8.4)</td>\n",
       "      <td>31 (16.7)</td>\n",
       "      <td>7 (36.8)</td>\n",
       "      <td>828 (11.5)</td>\n",
       "      <td>287 (4.6)</td>\n",
       "      <td>45 (7.2)</td>\n",
       "      <td></td>\n",
       "    </tr>\n",
       "    <tr>\n",
       "      <th>2.5</th>\n",
       "      <td></td>\n",
       "      <td>849 (5.9)</td>\n",
       "      <td>13 (7.0)</td>\n",
       "      <td></td>\n",
       "      <td>515 (7.2)</td>\n",
       "      <td>295 (4.7)</td>\n",
       "      <td>26 (4.1)</td>\n",
       "      <td></td>\n",
       "    </tr>\n",
       "    <tr>\n",
       "      <th>3.0</th>\n",
       "      <td></td>\n",
       "      <td>2971 (20.7)</td>\n",
       "      <td>51 (27.4)</td>\n",
       "      <td>5 (26.3)</td>\n",
       "      <td>1614 (22.4)</td>\n",
       "      <td>1144 (18.2)</td>\n",
       "      <td>157 (25.0)</td>\n",
       "      <td></td>\n",
       "    </tr>\n",
       "    <tr>\n",
       "      <th>3.5</th>\n",
       "      <td></td>\n",
       "      <td>1778 (12.4)</td>\n",
       "      <td>22 (11.8)</td>\n",
       "      <td>2 (10.5)</td>\n",
       "      <td>854 (11.9)</td>\n",
       "      <td>830 (13.2)</td>\n",
       "      <td>70 (11.1)</td>\n",
       "      <td></td>\n",
       "    </tr>\n",
       "    <tr>\n",
       "      <th>4.0</th>\n",
       "      <td></td>\n",
       "      <td>3847 (26.9)</td>\n",
       "      <td>27 (14.5)</td>\n",
       "      <td>2 (10.5)</td>\n",
       "      <td>1586 (22.0)</td>\n",
       "      <td>2055 (32.7)</td>\n",
       "      <td>177 (28.2)</td>\n",
       "      <td></td>\n",
       "    </tr>\n",
       "    <tr>\n",
       "      <th>4.5</th>\n",
       "      <td></td>\n",
       "      <td>1044 (7.3)</td>\n",
       "      <td>11 (5.9)</td>\n",
       "      <td></td>\n",
       "      <td>403 (5.6)</td>\n",
       "      <td>593 (9.4)</td>\n",
       "      <td>37 (5.9)</td>\n",
       "      <td></td>\n",
       "    </tr>\n",
       "    <tr>\n",
       "      <th>5.0</th>\n",
       "      <td></td>\n",
       "      <td>1632 (11.4)</td>\n",
       "      <td>8 (4.3)</td>\n",
       "      <td>1 (5.3)</td>\n",
       "      <td>656 (9.1)</td>\n",
       "      <td>895 (14.2)</td>\n",
       "      <td>72 (11.5)</td>\n",
       "      <td></td>\n",
       "    </tr>\n",
       "  </tbody>\n",
       "</table>\n",
       "</div><br />[1] Chi-squared tests for the following variables may be invalid due to the low number of observations: rating.<br />"
      ],
      "text/plain": [
       "                  Grouped by genres                                                                                \n",
       "                            Missing      Overall     Action Adventure       Comedy        Drama    Thriller P-Value\n",
       "n                                          14320        186        19         7196         6291         628        \n",
       "rating, n (%) 0.5                 0    191 (1.3)    4 (2.2)              136 (1.9)     44 (0.7)     7 (1.1)  <0.001\n",
       "              1.0                      486 (3.4)   13 (7.0)   1 (5.3)    348 (4.8)     99 (1.6)    25 (4.0)        \n",
       "              1.5                      324 (2.3)    6 (3.2)   1 (5.3)    256 (3.6)     49 (0.8)    12 (1.9)        \n",
       "              2.0                     1198 (8.4)  31 (16.7)  7 (36.8)   828 (11.5)    287 (4.6)    45 (7.2)        \n",
       "              2.5                      849 (5.9)   13 (7.0)              515 (7.2)    295 (4.7)    26 (4.1)        \n",
       "              3.0                    2971 (20.7)  51 (27.4)  5 (26.3)  1614 (22.4)  1144 (18.2)  157 (25.0)        \n",
       "              3.5                    1778 (12.4)  22 (11.8)  2 (10.5)   854 (11.9)   830 (13.2)   70 (11.1)        \n",
       "              4.0                    3847 (26.9)  27 (14.5)  2 (10.5)  1586 (22.0)  2055 (32.7)  177 (28.2)        \n",
       "              4.5                     1044 (7.3)   11 (5.9)              403 (5.6)    593 (9.4)    37 (5.9)        \n",
       "              5.0                    1632 (11.4)    8 (4.3)   1 (5.3)    656 (9.1)   895 (14.2)   72 (11.5)        \n",
       "[1] Chi-squared tests for the following variables may be invalid due to the low number of observations: rating."
      ]
     },
     "execution_count": 926,
     "metadata": {},
     "output_type": "execute_result"
    }
   ],
   "source": [
    "tstTable"
   ]
  },
  {
   "cell_type": "code",
   "execution_count": 927,
   "metadata": {},
   "outputs": [],
   "source": [
    "tstTable.to_excel('summary_100k.xlsx')"
   ]
  },
  {
   "cell_type": "code",
   "execution_count": 928,
   "metadata": {},
   "outputs": [
    {
     "data": {
      "text/html": [
       "<div>\n",
       "<style scoped>\n",
       "    .dataframe tbody tr th:only-of-type {\n",
       "        vertical-align: middle;\n",
       "    }\n",
       "\n",
       "    .dataframe tbody tr th {\n",
       "        vertical-align: top;\n",
       "    }\n",
       "\n",
       "    .dataframe thead tr th {\n",
       "        text-align: left;\n",
       "    }\n",
       "</style>\n",
       "<table border=\"1\" class=\"dataframe\">\n",
       "  <thead>\n",
       "    <tr>\n",
       "      <th></th>\n",
       "      <th></th>\n",
       "      <th colspan=\"8\" halign=\"left\">Grouped by genres</th>\n",
       "    </tr>\n",
       "    <tr>\n",
       "      <th></th>\n",
       "      <th></th>\n",
       "      <th>Missing</th>\n",
       "      <th>Overall</th>\n",
       "      <th>Action</th>\n",
       "      <th>Adventure</th>\n",
       "      <th>Comedy</th>\n",
       "      <th>Drama</th>\n",
       "      <th>Thriller</th>\n",
       "      <th>P-Value</th>\n",
       "    </tr>\n",
       "  </thead>\n",
       "  <tbody>\n",
       "    <tr>\n",
       "      <th>n</th>\n",
       "      <th></th>\n",
       "      <td></td>\n",
       "      <td>14320</td>\n",
       "      <td>186</td>\n",
       "      <td>19</td>\n",
       "      <td>7196</td>\n",
       "      <td>6291</td>\n",
       "      <td>628</td>\n",
       "      <td></td>\n",
       "    </tr>\n",
       "    <tr>\n",
       "      <th rowspan=\"5\" valign=\"top\">genres, n (%)</th>\n",
       "      <th>Action</th>\n",
       "      <td>0</td>\n",
       "      <td>186 (1.3)</td>\n",
       "      <td>186 (100.0)</td>\n",
       "      <td></td>\n",
       "      <td></td>\n",
       "      <td></td>\n",
       "      <td></td>\n",
       "      <td>&lt;0.001</td>\n",
       "    </tr>\n",
       "    <tr>\n",
       "      <th>Adventure</th>\n",
       "      <td></td>\n",
       "      <td>19 (0.1)</td>\n",
       "      <td></td>\n",
       "      <td>19 (100.0)</td>\n",
       "      <td></td>\n",
       "      <td></td>\n",
       "      <td></td>\n",
       "      <td></td>\n",
       "    </tr>\n",
       "    <tr>\n",
       "      <th>Comedy</th>\n",
       "      <td></td>\n",
       "      <td>7196 (50.3)</td>\n",
       "      <td></td>\n",
       "      <td></td>\n",
       "      <td>7196 (100.0)</td>\n",
       "      <td></td>\n",
       "      <td></td>\n",
       "      <td></td>\n",
       "    </tr>\n",
       "    <tr>\n",
       "      <th>Drama</th>\n",
       "      <td></td>\n",
       "      <td>6291 (43.9)</td>\n",
       "      <td></td>\n",
       "      <td></td>\n",
       "      <td></td>\n",
       "      <td>6291 (100.0)</td>\n",
       "      <td></td>\n",
       "      <td></td>\n",
       "    </tr>\n",
       "    <tr>\n",
       "      <th>Thriller</th>\n",
       "      <td></td>\n",
       "      <td>628 (4.4)</td>\n",
       "      <td></td>\n",
       "      <td></td>\n",
       "      <td></td>\n",
       "      <td></td>\n",
       "      <td>628 (100.0)</td>\n",
       "      <td></td>\n",
       "    </tr>\n",
       "    <tr>\n",
       "      <th>rating, mean (SD)</th>\n",
       "      <th></th>\n",
       "      <td>0</td>\n",
       "      <td>3.4 (1.1)</td>\n",
       "      <td>2.9 (1.1)</td>\n",
       "      <td>2.7 (1.0)</td>\n",
       "      <td>3.2 (1.1)</td>\n",
       "      <td>3.7 (0.9)</td>\n",
       "      <td>3.4 (1.0)</td>\n",
       "      <td>&lt;0.001</td>\n",
       "    </tr>\n",
       "  </tbody>\n",
       "</table>\n",
       "</div><br />[1] Chi-squared tests for the following variables may be invalid due to the low number of observations: genres.<br />"
      ],
      "text/plain": [
       "                            Grouped by genres                                                                                       \n",
       "                                      Missing      Overall       Action   Adventure        Comedy         Drama     Thriller P-Value\n",
       "n                                                    14320          186          19          7196          6291          628        \n",
       "genres, n (%)     Action                    0    186 (1.3)  186 (100.0)                                                       <0.001\n",
       "                  Adventure                       19 (0.1)               19 (100.0)                                                 \n",
       "                  Comedy                       7196 (50.3)                           7196 (100.0)                                   \n",
       "                  Drama                        6291 (43.9)                                         6291 (100.0)                     \n",
       "                  Thriller                       628 (4.4)                                                       628 (100.0)        \n",
       "rating, mean (SD)                           0    3.4 (1.1)    2.9 (1.1)   2.7 (1.0)     3.2 (1.1)     3.7 (0.9)    3.4 (1.0)  <0.001\n",
       "[1] Chi-squared tests for the following variables may be invalid due to the low number of observations: genres."
      ]
     },
     "metadata": {},
     "output_type": "display_data"
    }
   ],
   "source": [
    "#Geenrate statistics related to genres and ratings\n",
    "tstTable = TableOne(dfmvs,columns = ['genres', 'rating'],\n",
    "                   groupby=groupby, categorical=['genres'], nonnormal=nonnormal, pval=True, tukey_test=True)\n",
    "\n",
    "display(tstTable)\n",
    "#Save to excel for use in the report\n",
    "tstTable.to_excel('summary_100k_tst.xlsx')"
   ]
  },
  {
   "cell_type": "markdown",
   "metadata": {},
   "source": [
    "#### Data Preparation\n",
    "\n",
    "> (1)- Merge the dataframes to obtain complete information regarding a user, a movie and the corresponding interaction.\n",
    "\n",
    "> (2)- Split the data into test and train."
   ]
  },
  {
   "cell_type": "markdown",
   "metadata": {},
   "source": [
    "##### Merge the dataframes"
   ]
  },
  {
   "cell_type": "code",
   "execution_count": 929,
   "metadata": {},
   "outputs": [
    {
     "data": {
      "text/plain": [
       "Index(['userId', 'movieId', 'rating', 'timestamp'], dtype='object')"
      ]
     },
     "execution_count": 929,
     "metadata": {},
     "output_type": "execute_result"
    }
   ],
   "source": [
    "#get distribution of the ratings data\n",
    "df_rtngs.columns"
   ]
  },
  {
   "cell_type": "code",
   "execution_count": 930,
   "metadata": {},
   "outputs": [
    {
     "data": {
      "text/plain": [
       "Index(['movieId', 'title', 'genres', 'userId', 'rating', 'timestamp'], dtype='object')"
      ]
     },
     "execution_count": 930,
     "metadata": {},
     "output_type": "execute_result"
    }
   ],
   "source": [
    "dfmvs.columns"
   ]
  },
  {
   "cell_type": "code",
   "execution_count": 931,
   "metadata": {},
   "outputs": [
    {
     "data": {
      "text/html": [
       "<div>\n",
       "<style scoped>\n",
       "    .dataframe tbody tr th:only-of-type {\n",
       "        vertical-align: middle;\n",
       "    }\n",
       "\n",
       "    .dataframe tbody tr th {\n",
       "        vertical-align: top;\n",
       "    }\n",
       "\n",
       "    .dataframe thead th {\n",
       "        text-align: right;\n",
       "    }\n",
       "</style>\n",
       "<table border=\"1\" class=\"dataframe\">\n",
       "  <thead>\n",
       "    <tr style=\"text-align: right;\">\n",
       "      <th></th>\n",
       "      <th>movieId</th>\n",
       "      <th>title</th>\n",
       "      <th>genres</th>\n",
       "      <th>userId</th>\n",
       "      <th>rating</th>\n",
       "      <th>timestamp</th>\n",
       "    </tr>\n",
       "  </thead>\n",
       "  <tbody>\n",
       "    <tr>\n",
       "      <th>0</th>\n",
       "      <td>5</td>\n",
       "      <td>Father of the Bride Part II (1995)</td>\n",
       "      <td>Comedy</td>\n",
       "      <td>6</td>\n",
       "      <td>5.0</td>\n",
       "      <td>845553938</td>\n",
       "    </tr>\n",
       "    <tr>\n",
       "      <th>1</th>\n",
       "      <td>5</td>\n",
       "      <td>Father of the Bride Part II (1995)</td>\n",
       "      <td>Comedy</td>\n",
       "      <td>31</td>\n",
       "      <td>3.0</td>\n",
       "      <td>850466642</td>\n",
       "    </tr>\n",
       "    <tr>\n",
       "      <th>2</th>\n",
       "      <td>5</td>\n",
       "      <td>Father of the Bride Part II (1995)</td>\n",
       "      <td>Comedy</td>\n",
       "      <td>43</td>\n",
       "      <td>5.0</td>\n",
       "      <td>848994281</td>\n",
       "    </tr>\n",
       "    <tr>\n",
       "      <th>3</th>\n",
       "      <td>5</td>\n",
       "      <td>Father of the Bride Part II (1995)</td>\n",
       "      <td>Comedy</td>\n",
       "      <td>45</td>\n",
       "      <td>3.0</td>\n",
       "      <td>959625102</td>\n",
       "    </tr>\n",
       "    <tr>\n",
       "      <th>4</th>\n",
       "      <td>5</td>\n",
       "      <td>Father of the Bride Part II (1995)</td>\n",
       "      <td>Comedy</td>\n",
       "      <td>58</td>\n",
       "      <td>4.0</td>\n",
       "      <td>847719151</td>\n",
       "    </tr>\n",
       "  </tbody>\n",
       "</table>\n",
       "</div>"
      ],
      "text/plain": [
       "   movieId                               title  genres  userId  rating  \\\n",
       "0        5  Father of the Bride Part II (1995)  Comedy       6     5.0   \n",
       "1        5  Father of the Bride Part II (1995)  Comedy      31     3.0   \n",
       "2        5  Father of the Bride Part II (1995)  Comedy      43     5.0   \n",
       "3        5  Father of the Bride Part II (1995)  Comedy      45     3.0   \n",
       "4        5  Father of the Bride Part II (1995)  Comedy      58     4.0   \n",
       "\n",
       "   timestamp  \n",
       "0  845553938  \n",
       "1  850466642  \n",
       "2  848994281  \n",
       "3  959625102  \n",
       "4  847719151  "
      ]
     },
     "execution_count": 931,
     "metadata": {},
     "output_type": "execute_result"
    }
   ],
   "source": [
    "#Merge the dataframes\n",
    "movie_scs = dfmvs.merge(df_rtngs)\n",
    "movie_scs = movie_scs\n",
    "movie_scs.head()"
   ]
  },
  {
   "cell_type": "markdown",
   "metadata": {},
   "source": [
    "##### Split the dataframes to test and train sets"
   ]
  },
  {
   "cell_type": "code",
   "execution_count": 932,
   "metadata": {},
   "outputs": [],
   "source": [
    "X = movie_scs[['userId', 'movieId']].values\n",
    "y = movie_scs['rating'].values\n",
    "#Split\n",
    "X_trn, X_tst, y_trn, y_tst = train_test_split(X, y, test_size=0.3, random_state=42)\n"
   ]
  },
  {
   "cell_type": "code",
   "execution_count": 933,
   "metadata": {},
   "outputs": [
    {
     "data": {
      "text/plain": [
       "((10024, 2), (4296, 2), (10024,), (4296,))"
      ]
     },
     "execution_count": 933,
     "metadata": {},
     "output_type": "execute_result"
    }
   ],
   "source": [
    "X = movie_scs[['userId', 'movieId']]\n",
    "y = movie_scs['rating']\n",
    "#Split\n",
    "X_trn, X_tst, y_trn, y_tst = train_test_split(X, y, test_size=0.3, random_state=42)\n",
    "X_trn.shape, X_tst.shape, y_trn.shape, y_tst.shape"
   ]
  },
  {
   "cell_type": "markdown",
   "metadata": {},
   "source": [
    "#### Modeling"
   ]
  },
  {
   "cell_type": "markdown",
   "metadata": {
    "_uuid": "1305f395bb9ad21c67d5f095a55690d9ae8c9a1e"
   },
   "source": [
    "### Step 1. Define an index vector of all unique users and movies"
   ]
  },
  {
   "cell_type": "code",
   "execution_count": 934,
   "metadata": {},
   "outputs": [],
   "source": [
    "#Order the movies and users\n",
    "c_mv = CategoricalDtype(sorted(movie_scs['movieId'].unique()), ordered=True)\n",
    "c_usrr = CategoricalDtype(sorted(movie_scs['userId'].unique()), ordered=True)"
   ]
  },
  {
   "cell_type": "code",
   "execution_count": 935,
   "metadata": {},
   "outputs": [
    {
     "name": "stdout",
     "output_type": "stream",
     "text": [
      "2150\n",
      "586\n"
     ]
    }
   ],
   "source": [
    "print(len(c_mv.categories))\n",
    "print(len(c_usrr.categories))"
   ]
  },
  {
   "cell_type": "code",
   "execution_count": 936,
   "metadata": {},
   "outputs": [
    {
     "name": "stdout",
     "output_type": "stream",
     "text": [
      "(10024, 2)\n",
      "(4296, 2)\n"
     ]
    }
   ],
   "source": [
    "\n",
    "trn, tst = train_test_split(X, test_size=0.30, random_state=420)\n",
    "print(trn.shape)\n",
    "print(tst.shape)"
   ]
  },
  {
   "cell_type": "code",
   "execution_count": 937,
   "metadata": {},
   "outputs": [],
   "source": [
    "tst = X_tst.copy()\n",
    "trn = X_trn.copy()\n",
    "\n",
    "tstx = tst.copy()\n",
    "\n",
    "tstx['userId'] = tstx['userId'].astype(c_usrr)\n",
    "\n",
    "tstx['movieId'] = tstx['movieId'].astype(c_mv)\n",
    "\n",
    "tst_pred = tstx.copy()"
   ]
  },
  {
   "cell_type": "code",
   "execution_count": 938,
   "metadata": {},
   "outputs": [
    {
     "name": "stdout",
     "output_type": "stream",
     "text": [
      "<class 'pandas.core.frame.DataFrame'>\n",
      "Int64Index: 4296 entries, 533 to 2015\n",
      "Data columns (total 2 columns):\n",
      " #   Column   Non-Null Count  Dtype   \n",
      "---  ------   --------------  -----   \n",
      " 0   userId   4296 non-null   category\n",
      " 1   movieId  4296 non-null   category\n",
      "dtypes: category(2)\n",
      "memory usage: 152.4 KB\n"
     ]
    }
   ],
   "source": [
    "tstx.info()"
   ]
  },
  {
   "cell_type": "markdown",
   "metadata": {
    "_uuid": "5c970f817423d1169c943568ed8e7db6444773f3"
   },
   "source": [
    "### Step 2: Define a 1's and 0's binary sparse matrix of User-movies for trning set"
   ]
  },
  {
   "cell_type": "code",
   "execution_count": 939,
   "metadata": {
    "_uuid": "271293ed40ba894cedaaa0751e395eb8674a40f6"
   },
   "outputs": [
    {
     "name": "stdout",
     "output_type": "stream",
     "text": [
      "0.7956186998968172% Sparsity\n"
     ]
    }
   ],
   "source": [
    "trn_dt = csr_matrix((np.ones(len(trn)), (trn['userId'].astype(ct).cat.codes,\n",
    "                                               trn['movieId'].astype(ct).cat.codes)), \n",
    "                  shape=( len(c_usrr.categories), len(c_mv.categories)))\n",
    "print(f'{100*trn_dt.sum()/(trn_dt.shape[0]*trn_dt.shape[1])}% Sparsity')"
   ]
  },
  {
   "cell_type": "markdown",
   "metadata": {
    "_uuid": "c1e18db8cbdb958a1a83fea37d3d39e26fba14f1"
   },
   "source": [
    "### Step 3. Run the model on the trning set\n",
    "\n",
    "Models were tsting:\n",
    "\n",
    "1. Cosine Similarity on movies\n",
    "\n",
    "2. Non-negative matrix factorization\n",
    "\n",
    "3. Neural Collaborative Filtering\n",
    "\n",
    "\n",
    "Evaluation:\n",
    "- Recall- percentage of 1s that are found in the Test set\n",
    "- MPR- Mean Percentile Rank score\n",
    "\n",
    "\n",
    "#### Cosine Similarity\n",
    "Doing this in bits for the tst set so that we don't run into memory issues.   For the recall measure, if the track's relative percentile is < 0.5 then we can consider it as a 1"
   ]
  },
  {
   "cell_type": "code",
   "execution_count": 940,
   "metadata": {
    "_uuid": "33627fc9a962776746a9907208c1cc496c0da216",
    "scrolled": true
   },
   "outputs": [
    {
     "name": "stdout",
     "output_type": "stream",
     "text": [
      "Implementing bit : 1/30\n",
      "Implementing bit : 2/30\n",
      "Implementing bit : 3/30\n",
      "Implementing bit : 4/30\n",
      "Implementing bit : 5/30\n",
      "Implementing bit : 6/30\n",
      "Implementing bit : 7/30\n",
      "Implementing bit : 8/30\n",
      "Implementing bit : 9/30\n",
      "Implementing bit : 10/30\n",
      "Implementing bit : 11/30\n",
      "Implementing bit : 12/30\n",
      "Implementing bit : 13/30\n",
      "Implementing bit : 14/30\n",
      "Implementing bit : 15/30\n",
      "Implementing bit : 16/30\n",
      "Implementing bit : 17/30\n",
      "Implementing bit : 18/30\n",
      "Implementing bit : 19/30\n",
      "Implementing bit : 20/30\n",
      "Implementing bit : 21/30\n",
      "Implementing bit : 22/30\n",
      "Implementing bit : 23/30\n",
      "Implementing bit : 24/30\n",
      "Implementing bit : 25/30\n",
      "Implementing bit : 26/30\n",
      "Implementing bit : 27/30\n",
      "Implementing bit : 28/30\n",
      "Implementing bit : 29/30\n",
      "Implementing bit : 30/30\n",
      "MPR: 0.4244\n",
      "Model Recall rate: 0.58822\n"
     ]
    }
   ],
   "source": [
    "def cos(dt, pred):\n",
    "    \n",
    "    #Cosine similarity model to generate a matrix and determine the closest recommendation depending on the similarity matrix\n",
    "    # normalize to obtain % importance to user\n",
    "    scaled_df = dt.multiply(1/dt.sum(axis=1)).tocsr()\n",
    "    # implement model\n",
    "    #s = similarity\n",
    "    s = cosine_similarity(scaled_df.transpose())\n",
    "    s[np.diag_indices(s.shape[0])] = 0\n",
    "    denom = np.asarray(s.sum(axis=1)).reshape(-1)\n",
    "\n",
    "    # implement per bit to handle memory issues\n",
    "    user_index = pred['userId'].cat.codes.values\n",
    "    movie_index = pred['movieId'].cat.codes.values\n",
    "\n",
    "    number_of_bits = 30\n",
    "    bits = np.array_split(np.arange(scaled_df.shape[0]), number_of_bits)\n",
    "    #R = result\n",
    "    r = []\n",
    "    prev_mx = 0\n",
    "    for i,indexx in enumerate(bits):\n",
    "        print(f'Implementing bit : {i+1}/{number_of_bits}')\n",
    "        scr = (scaled_df[indexx].dot(s)) / denom\n",
    "        scr = (-scr).argsort() / denom.shape[0]\n",
    "        sl = (user_index >= indexx.min()) & (user_index <= indexx.max())\n",
    "        bit_scr = np.asarray(scr[user_index[sl] - prev_mx, movie_index[sl]]).reshape(-1)\n",
    "        r.append(bit_scr)\n",
    "        prev_mx = indexx.max() + 1\n",
    "    return np.concatenate(r)\n",
    "\n",
    "\n",
    "# Evaluate performance of the model\n",
    "Recommendations = cos(trn_dt, tstx)\n",
    "mpr_cosine_sim = Recommendations.sum()/len(tstx)\n",
    "print('MPR:', round(mpr_cosine_sim,5))\n",
    "r_cosine_sim = (Recommendations < 0.5).sum()/len(tstx)\n",
    "print('Model Recall rate:',round(r_cosine_sim, 5))"
   ]
  },
  {
   "cell_type": "markdown",
   "metadata": {},
   "source": [
    "#### Neural Collaborative Filtering"
   ]
  },
  {
   "cell_type": "code",
   "execution_count": 941,
   "metadata": {},
   "outputs": [
    {
     "name": "stdout",
     "output_type": "stream",
     "text": [
      "((12010,), (12010,), (12010,))\n"
     ]
    }
   ],
   "source": [
    "# Create the trning Set\n",
    "sample_size_with_no_links = int(len(trn)*0.2)\n",
    "n_usrs = c_usrr.categories.shape[0]\n",
    "num_of_movies = c_mv.categories.shape[0]\n",
    "# get trning set\n",
    "trnx_usrs = trn['userId'].astype(ct).cat.codes.values\n",
    "trnx_movies = trn['movieId'].astype(ct).cat.codes.values\n",
    "trn_t = np.ones(len(trnx_usrs))\n",
    "# add some negative samples\n",
    "u = np.random.randint(n_usrs, size=sample_size_with_no_links)\n",
    "i = np.random.randint(num_of_movies, size=sample_size_with_no_links)\n",
    "non_neg_indexx = np.where(trn_dt[u,i] == 0)\n",
    "trnx_usrs = np.concatenate([trnx_usrs, u[non_neg_indexx[1]]])\n",
    "trnx_movies = np.concatenate([trnx_movies, i[non_neg_indexx[1]]])\n",
    "trn_t = np.concatenate([trn_t, np.zeros(u[non_neg_indexx[1]].shape[0])])\n",
    "print((trnx_usrs.shape, trnx_movies.shape, trn_t.shape))\n",
    "\n",
    "# shuffle the data\n",
    "X = np.stack([trnx_usrs, trnx_movies, trn_t], axis=1)\n",
    "np.random.shuffle(X)"
   ]
  },
  {
   "cell_type": "markdown",
   "metadata": {},
   "source": [
    "##### Model parameters"
   ]
  },
  {
   "cell_type": "code",
   "execution_count": 942,
   "metadata": {},
   "outputs": [],
   "source": [
    "#Output activation\n",
    "actv = 'sigmoid'\n",
    "#Intializer\n",
    "intt = 'lecun_uniform'\n",
    "#Layer name\n",
    "nem = 'prediction'\n",
    "#user input\n",
    "u_t = 'user_input'\n",
    "#item input\n",
    "i_p = 'item_input'"
   ]
  },
  {
   "cell_type": "code",
   "execution_count": 943,
   "metadata": {},
   "outputs": [],
   "source": [
    "\n",
    "#usr_lt = user lt\n",
    "def neural_network(number_of_usrs, num_movies, ld, regs=[0,0]):\n",
    "    # model vars\n",
    "    #user_p = user input\n",
    "    usr_p = Input(shape=(1,), dtype='int64', name = u_t)\n",
    "    itm_input = Input(shape=(1,), dtype='int64', name = i_p)\n",
    "    #ld = lt dimension\n",
    "    #mbds = embeddings\n",
    "    #mbds_usrr = user embedding\n",
    "    mbds_usrr = Embedding(input_dim = number_of_usrs, output_dim = ld, name = 'user_mbds', \n",
    "                                  embeddings_regularizer = l2(regs[0]), input_length=1)\n",
    "    #mbds_itm = item emdeddings \n",
    "    mbds_itm = Embedding(input_dim = num_movies, output_dim = ld, name = 'itm_mbds',\n",
    "                                  embeddings_regularizer = l2(regs[1]), input_length=1)   \n",
    "    \n",
    "    # essential to define an embedding vector!\n",
    "    usr_lt = Flatten()(mbds_usrr(usr_p))\n",
    "    itm_lt = Flatten()(mbds_itm(itm_input))\n",
    "    \n",
    "    # user-itm embedding productper element\n",
    "    prdvec = merge.Multiply()([usr_lt, itm_lt])\n",
    "    \n",
    "    # Final prd layer\n",
    "    prd = Dense(1, activation=actv, kernel_initializer=intt, name = nem)(prdvec)\n",
    "    #retutn md = model\n",
    "    md = Model(inputs=[usr_p, itm_input], outputs=prd)\n",
    "    \n",
    "    return md\n",
    "\n",
    "# create the recall function\n",
    "def rc(y_rl, y_p):\n",
    "    tp = Q.sum(Q.round(Q.clip(y_rl * y_p, 0, 1)))\n",
    "    pos_pt = Q.sum(Q.round(Q.clip(y_rl, 0, 1)))\n",
    "    rc = tp / (pos_pt + Q.epsilon())\n",
    "    return rc\n",
    "\n",
    "mdl = neural_network(n_usrs, num_of_movies, 50, regs = [0,0])"
   ]
  },
  {
   "cell_type": "code",
   "execution_count": 944,
   "metadata": {},
   "outputs": [
    {
     "name": "stdout",
     "output_type": "stream",
     "text": [
      "Model: \"model_34\"\n",
      "__________________________________________________________________________________________________\n",
      "Layer (type)                    Output Shape         Param #     Connected to                     \n",
      "==================================================================================================\n",
      "user_input (InputLayer)         [(None, 1)]          0                                            \n",
      "__________________________________________________________________________________________________\n",
      "item_input (InputLayer)         [(None, 1)]          0                                            \n",
      "__________________________________________________________________________________________________\n",
      "user_mbds (Embedding)           (None, 1, 50)        29300       user_input[0][0]                 \n",
      "__________________________________________________________________________________________________\n",
      "itm_mbds (Embedding)            (None, 1, 50)        107500      item_input[0][0]                 \n",
      "__________________________________________________________________________________________________\n",
      "flatten_68 (Flatten)            (None, 50)           0           user_mbds[0][0]                  \n",
      "__________________________________________________________________________________________________\n",
      "flatten_69 (Flatten)            (None, 50)           0           itm_mbds[0][0]                   \n",
      "__________________________________________________________________________________________________\n",
      "multiply_34 (Multiply)          (None, 50)           0           flatten_68[0][0]                 \n",
      "                                                                 flatten_69[0][0]                 \n",
      "__________________________________________________________________________________________________\n",
      "prediction (Dense)              (None, 1)            51          multiply_34[0][0]                \n",
      "==================================================================================================\n",
      "Total params: 136,851\n",
      "Trainable params: 136,851\n",
      "Non-trainable params: 0\n",
      "__________________________________________________________________________________________________\n"
     ]
    }
   ],
   "source": [
    "mdl.summary()"
   ]
  },
  {
   "cell_type": "code",
   "execution_count": 945,
   "metadata": {},
   "outputs": [
    {
     "data": {
      "image/png": "[encoded data removed]",
      "text/plain": [
       "<IPython.core.display.Image object>"
      ]
     },
     "execution_count": 945,
     "metadata": {},
     "output_type": "execute_result"
    }
   ],
   "source": [
    "from keras.utils.vis_utils import plot_model\n",
    "plot_model(mdl, to_file='model_plot.png', show_shapes=True, show_layer_names=True)"
   ]
  },
  {
   "cell_type": "code",
   "execution_count": 946,
   "metadata": {},
   "outputs": [],
   "source": [
    "#Output activation\n",
    "actv = 'sigmoid'\n",
    "#Intializer\n",
    "intt = 'lecun_uniform'\n",
    "#Layer name\n",
    "nem = 'prediction'\n",
    "#user input\n",
    "u_t = 'user_input'\n",
    "#item input\n",
    "i_p = 'item_input'"
   ]
  },
  {
   "cell_type": "code",
   "execution_count": 947,
   "metadata": {},
   "outputs": [],
   "source": [
    "\n",
    "\n",
    "#usr_lt = user lt\n",
    "def neural_network(number_of_usrs, num_movies, ld, regs=[0,0]):\n",
    "    # model vars\n",
    "    #user_p = user input\n",
    "    usr_p = Input(shape=(1,), dtype='int64', name = u_t)\n",
    "    itm_input = Input(shape=(1,), dtype='int64', name = i_p)\n",
    "    #ld = lt dimension\n",
    "    #mbds = embeddings\n",
    "    #mbds_usrr = user embedding\n",
    "    mbds_usrr = Embedding(input_dim = number_of_usrs, output_dim = ld, name = 'user_mbds', \n",
    "                                  embeddings_regularizer = l2(regs[0]), input_length=1)\n",
    "    #mbds_itm = item emdeddings \n",
    "    mbds_itm = Embedding(input_dim = num_movies, output_dim = ld, name = 'itm_mbds',\n",
    "                                  embeddings_regularizer = l2(regs[1]), input_length=1)   \n",
    "    \n",
    "    # essential to define an embedding vector!\n",
    "    usr_lt = Flatten()(mbds_usrr(usr_p))\n",
    "    itm_lt = Flatten()(mbds_itm(itm_input))\n",
    "    \n",
    "    # user-itm embedding productper element\n",
    "    prdvec = merge.Multiply()([usr_lt, itm_lt])\n",
    "    \n",
    "    # Final prd layer\n",
    "    prd = Dense(1, activation=actv, kernel_initializer=intt, name = nem)(prdvec)\n",
    "    #retutn md = model\n",
    "    md = Model(inputs=[usr_p, itm_input], outputs=prd)\n",
    "    \n",
    "    return md\n",
    "\n",
    "\n",
    "# create the model\n",
    "def rc(yt, yp):\n",
    "    tp = K.sum(K.round(K.clip(yt * yp, 0, 1)))\n",
    "    pos_pt = K.sum(K.round(K.clip(yt, 0, 1)))\n",
    "    recall = tp / (pos_pt + K.epsilon())\n",
    "    return recall\n",
    "\n",
    "mdl = neural_network(n_usrs, num_of_movies, 50, regs = [0,0])\n",
    "\n",
    "mdl.compile(optimizer=RMSprop(lr=0.001), metrics = ['accuracy', rc],  loss='binary_crossentropy')"
   ]
  },
  {
   "cell_type": "code",
   "execution_count": 948,
   "metadata": {},
   "outputs": [
    {
     "name": "stdout",
     "output_type": "stream",
     "text": [
      "Epoch 1/20\n",
      "1/1 [==============================] - 2s 2s/step - loss: 0.6932 - accuracy: 0.4986 - rc: 0.4985 - val_loss: 0.6920 - val_accuracy: 0.8451 - val_rc: 1.0000\n",
      "Epoch 2/20\n",
      "1/1 [==============================] - 0s 67ms/step - loss: 0.6920 - accuracy: 0.8335 - rc: 1.0000 - val_loss: 0.6913 - val_accuracy: 0.8451 - val_rc: 1.0000\n",
      "Epoch 3/20\n",
      "1/1 [==============================] - 0s 62ms/step - loss: 0.6912 - accuracy: 0.8335 - rc: 1.0000 - val_loss: 0.6906 - val_accuracy: 0.8451 - val_rc: 1.0000\n",
      "Epoch 4/20\n",
      "1/1 [==============================] - 0s 44ms/step - loss: 0.6905 - accuracy: 0.8335 - rc: 1.0000 - val_loss: 0.6900 - val_accuracy: 0.8451 - val_rc: 1.0000\n",
      "Epoch 00004: early stopping\n",
      "1/1 [==============================] - 0s 225ms/step - loss: 0.6886 - accuracy: 1.0000 - rc: 1.0000\n",
      "tst Loss: 0.6886122226715088   |   tst Recall: 1.0\n"
     ]
    }
   ],
   "source": [
    "# trn the Model\n",
    "early_stop = EarlyStopping(monitor='val_loss', min_delta=0.01, patience=3, verbose=1)\n",
    "h =  mdl.fit([X[:,0], X[:,1]], X[:,2], batch_size=150000, epochs=20, validation_split = 0.1, verbose=1, callbacks = [early_stop])\n",
    "score = mdl.evaluate([tstx['userId'].cat.codes.values, tstx['movieId'].cat.codes.values], np.ones(tstx.shape[0]), verbose=1, batch_size=100000)\n",
    "print(f'tst Loss: {score[0]}   |   tst Recall: {score[1]}')"
   ]
  },
  {
   "cell_type": "code",
   "execution_count": null,
   "metadata": {},
   "outputs": [],
   "source": []
  },
  {
   "cell_type": "code",
   "execution_count": 949,
   "metadata": {},
   "outputs": [
    {
     "data": {
      "image/png": "[encoded data removed]",
      "text/plain": [
       "<Figure size 1152x288 with 2 Axes>"
      ]
     },
     "metadata": {
      "needs_background": "light"
     },
     "output_type": "display_data"
    }
   ],
   "source": [
    "# Plot it\n",
    "import matplotlib.pyplot as p\n",
    "fig, (axis1,axis2) = p.subplots(1,2, figsize=(16,4))\n",
    "axis1.plot(h.history['loss'])\n",
    "axis1.plot(h.history['val_loss'])\n",
    "axis1.set_title('Loss')\n",
    "axis1.legend(['trn', 'tst'], loc='upper left')\n",
    "axis2.plot(h.history['rc'])\n",
    "axis2.plot(h.history['val_rc'])\n",
    "axis2.set_title('Model Recall Per Epoch')\n",
    "axis2.legend(['trn', 'tst'], loc='upper left')\n",
    "p.show()"
   ]
  },
  {
   "cell_type": "code",
   "execution_count": 951,
   "metadata": {},
   "outputs": [
    {
     "name": "stdout",
     "output_type": "stream",
     "text": [
      "Implementing bit : 1/10\n",
      "3/3 [==============================] - 0s 11ms/step\n",
      "Implementing bit : 2/10\n",
      "3/3 [==============================] - 0s 14ms/step\n",
      "Implementing bit : 3/10\n",
      "3/3 [==============================] - 0s 19ms/step\n",
      "Implementing bit : 4/10\n",
      "3/3 [==============================] - 0s 18ms/step\n",
      "Implementing bit : 5/10\n",
      "3/3 [==============================] - 0s 16ms/step\n",
      "Implementing bit : 6/10\n",
      "3/3 [==============================] - ETA:  - 0s 16ms/step\n",
      "Implementing bit : 7/10\n",
      "3/3 [==============================] - 0s 22ms/step\n",
      "Implementing bit : 8/10\n",
      "3/3 [==============================] - 0s 16ms/step\n",
      "Implementing bit : 9/10\n",
      "3/3 [==============================] - 0s 13ms/step\n",
      "Implementing bit : 10/10\n",
      "3/3 [==============================] - 0s 13ms/step\n",
      "N_C_F MPR: 0.49553\n",
      "N_C_F Model Recall rate: 0.50675\n"
     ]
    }
   ],
   "source": [
    "\n",
    "# compute MPR\n",
    "# we implement per bit to handle memory issues\n",
    "user_index = tstx['userId'].cat.codes.values\n",
    "movie_index = tstx['movieId'].cat.codes.values\n",
    "number_of_bits = 10\n",
    "bits = np.array_split(np.arange(n_usrs), number_of_bits)\n",
    "rs = []\n",
    "prev_mx = 0\n",
    "for i,indexx in enumerate(bits):\n",
    "    print(f'Implementing bit : {i+1}/{number_of_bits}')\n",
    "    cross_mvId = np.transpose([np.tile(np.arange(num_of_movies), len(indexx)), np.repeat(indexx, len(np.arange(num_of_movies)))])\n",
    "    score = mdl.predict([cross_mvId[:,1], cross_mvId[:,0]], batch_size=50000, verbose=1).reshape(indexx.shape[0], num_of_movies)\n",
    "    score = (-score).argsort() / score.shape[1]\n",
    "    sel = (user_index >= indexx.min()) & (user_index <= indexx.max())\n",
    "    bit_score = np.asarray(score[user_index[sel] - prev_mx, movie_index[sel]]).reshape(-1)\n",
    "    rs.append(bit_score)\n",
    "    prev_mx = indexx.max() + 1\n",
    "mpr_N_C_F = np.concatenate(rs).sum()/len(tstx)\n",
    "print(f'N_C_F MPR: {mpr_N_C_F:.5f}')\n",
    "rc_deep_reac = (np.concatenate(rs) < 0.5).sum()/len(tstx)\n",
    "print(f'N_C_F Model Recall rate: {rc_deep_reac:.5f}')"
   ]
  },
  {
   "cell_type": "code",
   "execution_count": 952,
   "metadata": {},
   "outputs": [
    {
     "data": {
      "text/html": [
       "<div>\n",
       "<style scoped>\n",
       "    .dataframe tbody tr th:only-of-type {\n",
       "        vertical-align: middle;\n",
       "    }\n",
       "\n",
       "    .dataframe tbody tr th {\n",
       "        vertical-align: top;\n",
       "    }\n",
       "\n",
       "    .dataframe thead th {\n",
       "        text-align: right;\n",
       "    }\n",
       "</style>\n",
       "<table border=\"1\" class=\"dataframe\">\n",
       "  <thead>\n",
       "    <tr style=\"text-align: right;\">\n",
       "      <th></th>\n",
       "      <th>userId</th>\n",
       "      <th>Recommended movieId</th>\n",
       "    </tr>\n",
       "  </thead>\n",
       "  <tbody>\n",
       "    <tr>\n",
       "      <th>7524</th>\n",
       "      <td>1</td>\n",
       "      <td>3253</td>\n",
       "    </tr>\n",
       "    <tr>\n",
       "      <th>4983</th>\n",
       "      <td>1</td>\n",
       "      <td>1954</td>\n",
       "    </tr>\n",
       "    <tr>\n",
       "      <th>3006</th>\n",
       "      <td>1</td>\n",
       "      <td>954</td>\n",
       "    </tr>\n",
       "    <tr>\n",
       "      <th>898</th>\n",
       "      <td>1</td>\n",
       "      <td>223</td>\n",
       "    </tr>\n",
       "    <tr>\n",
       "      <th>1901</th>\n",
       "      <td>1</td>\n",
       "      <td>441</td>\n",
       "    </tr>\n",
       "    <tr>\n",
       "      <th>13251</th>\n",
       "      <td>2</td>\n",
       "      <td>89774</td>\n",
       "    </tr>\n",
       "    <tr>\n",
       "      <th>3366</th>\n",
       "      <td>3</td>\n",
       "      <td>1124</td>\n",
       "    </tr>\n",
       "    <tr>\n",
       "      <th>11245</th>\n",
       "      <td>3</td>\n",
       "      <td>7899</td>\n",
       "    </tr>\n",
       "    <tr>\n",
       "      <th>6220</th>\n",
       "      <td>4</td>\n",
       "      <td>2599</td>\n",
       "    </tr>\n",
       "    <tr>\n",
       "      <th>9117</th>\n",
       "      <td>4</td>\n",
       "      <td>4020</td>\n",
       "    </tr>\n",
       "  </tbody>\n",
       "</table>\n",
       "</div>"
      ],
      "text/plain": [
       "      userId Recommended movieId\n",
       "7524       1                3253\n",
       "4983       1                1954\n",
       "3006       1                 954\n",
       "898        1                 223\n",
       "1901       1                 441\n",
       "13251      2               89774\n",
       "3366       3                1124\n",
       "11245      3                7899\n",
       "6220       4                2599\n",
       "9117       4                4020"
      ]
     },
     "execution_count": 952,
     "metadata": {},
     "output_type": "execute_result"
    }
   ],
   "source": [
    "#Make movie predictions using the deep learning model\n",
    "tst_pred['score'] = list(np.concatenate(rs))\n",
    "#Select the top 5 movieIds to recommend to a user\n",
    "tsf = tst_pred.sort_values(['score'],ascending=False).groupby('userId').head(5)\n",
    "tsf1 = tsf.sort_values('userId')\n",
    "tsf1 = tsf1[['userId', 'movieId']]\n",
    "tsf1.columns = ['userId', 'Recommended movieId']\n",
    "tsf1.head(10)"
   ]
  },
  {
   "cell_type": "markdown",
   "metadata": {},
   "source": [
    "#### Non-Negative Matrix Factorization"
   ]
  },
  {
   "cell_type": "code",
   "execution_count": 953,
   "metadata": {},
   "outputs": [
    {
     "name": "stdout",
     "output_type": "stream",
     "text": [
      "Implementing bit : 1/30\n",
      "Implementing bit : 2/30\n",
      "Implementing bit : 3/30\n",
      "Implementing bit : 4/30\n",
      "Implementing bit : 5/30\n",
      "Implementing bit : 6/30\n",
      "Implementing bit : 7/30\n",
      "Implementing bit : 8/30\n",
      "Implementing bit : 9/30\n",
      "Implementing bit : 10/30\n",
      "Implementing bit : 11/30\n",
      "Implementing bit : 12/30\n",
      "Implementing bit : 13/30\n",
      "Implementing bit : 14/30\n",
      "Implementing bit : 15/30\n",
      "Implementing bit : 16/30\n",
      "Implementing bit : 17/30\n",
      "Implementing bit : 18/30\n",
      "Implementing bit : 19/30\n",
      "Implementing bit : 20/30\n",
      "Implementing bit : 21/30\n",
      "Implementing bit : 22/30\n",
      "Implementing bit : 23/30\n",
      "Implementing bit : 24/30\n",
      "Implementing bit : 25/30\n",
      "Implementing bit : 26/30\n",
      "Implementing bit : 27/30\n",
      "Implementing bit : 28/30\n",
      "Implementing bit : 29/30\n",
      "Implementing bit : 30/30\n",
      "NMF MPR 0.40487\n",
      "mdl Recall rate 0.60521\n"
     ]
    }
   ],
   "source": [
    "def nmf(dt, prd,mdl):\n",
    "    # normalize to obtain % significance to user\n",
    "    scaled_df = dt.multiply(1/dt.sum(axis=1)).tocsr()\n",
    "    S = mdl.fit_transform(scaled_df)\n",
    "    K = mdl.components_\n",
    "\n",
    "    # implement per bit to handle memory issues\n",
    "    user_index = prd['userId'].cat.codes.values\n",
    "    movie_index = prd['movieId'].cat.codes.values\n",
    "    number_of_bits = 30\n",
    "    bits = np.array_split(np.arange(S.shape[0]), number_of_bits)\n",
    "    #r = Results\n",
    "    r = []\n",
    "    prev_mx = 0\n",
    "    for i,indexx in enumerate(bits):\n",
    "        print(f'Implementing bit : {i+1}/{number_of_bits}')\n",
    "        scr = (S[indexx].dot(K))\n",
    "        scr = (-scr).argsort() / scr.shape[1]\n",
    "        sel = (user_index >= indexx.min()) & (user_index <= indexx.max())\n",
    "        bit_scr = np.asarray(scr[user_index[sel] - prev_mx, movie_index[sel]]).reshape(-1)\n",
    "        r.append(bit_scr)\n",
    "        prev_mx = indexx.max() + 1\n",
    "    return np.concatenate(r)\n",
    "\n",
    "Kk = 2\n",
    "\n",
    "# NMF\n",
    "#NNDSVD to handle sparsity\n",
    "mdl_nmf = NMF(n_components = Kk, init = 'nndsvd', max_iter = 1000, tol = 0.1, random_state = 1)\n",
    "Recommendations1 = nmf(trn_dt, tstx, mdl_nmf)\n",
    "mpr_Non_Negative_Matrix_Factorization = Recommendations1.sum()/len(tstx)\n",
    "print(f'NMF MPR', round(mpr_Non_Negative_Matrix_Factorization,5))\n",
    "rec_Non_Negative_Matrix_Factorization = (Recommendations1 < 0.5).sum()/len(tstx)\n",
    "print('mdl Recall rate', round(rec_Non_Negative_Matrix_Factorization,5))"
   ]
  },
  {
   "cell_type": "markdown",
   "metadata": {},
   "source": [
    "# 10M MovieLens dataset\n",
    "\n",
    ">Source: https://files.grouplens.org/datasets/movielens/ml-10m.zip"
   ]
  },
  {
   "cell_type": "code",
   "execution_count": 954,
   "metadata": {},
   "outputs": [],
   "source": [
    "# Reading scores file\n",
    "scores = pd.read_csv('ml-10m/ratings.dat', sep='::',\n",
    "                      names=['userId', 'movieId', 'rating', 'timestamp']\n",
    "                      ).sort_values(\"timestamp\")\n",
    "# Reading movies file\n",
    "movies = pd.read_csv('ml-10m/movies.dat', sep='::',\n",
    "                     header=None, names=['movieId', 'title', 'genres'])"
   ]
  },
  {
   "cell_type": "code",
   "execution_count": 955,
   "metadata": {},
   "outputs": [],
   "source": [
    "dfmv = movies\n",
    "df_rtngs = scores"
   ]
  },
  {
   "cell_type": "code",
   "execution_count": 956,
   "metadata": {},
   "outputs": [],
   "source": [
    "dfmvs1 = dfmv.merge(df_rtngs)[['genres', 'rating']]"
   ]
  },
  {
   "cell_type": "code",
   "execution_count": null,
   "metadata": {},
   "outputs": [],
   "source": []
  },
  {
   "cell_type": "markdown",
   "metadata": {},
   "source": [
    "#### Examine data sparsity"
   ]
  },
  {
   "cell_type": "code",
   "execution_count": 957,
   "metadata": {},
   "outputs": [],
   "source": [
    "ct = 'category' #Define global category descriptor\n",
    "usrs = np.sort(scores.userId.unique()).tolist() # Get the unique customers\n",
    "mvs = list(scores.movieId.unique()) # Get the unique products that were watched\n",
    "rtng = list(scores.rating) # All of the watch history\n",
    "r = scores.userId.astype(ct, usrs).cat.codes\n",
    "# pull row indices\n",
    "cols = scores.movieId.astype(ct, mvs).cat.codes\n",
    "# pull column indices\n",
    "usr_itm = sps.csr_matrix((rtng, (r, cols)), shape=(len(usrs), len(mvs)))\n",
    "mtrx_sz = usr_itm.shape[0]*usr_itm.shape[1] # Total possible links\n",
    "times_watched = len(usr_itm.nonzero()[0]) # Number of mvs interacted with\n",
    "#sparsity\n",
    "sprs = 100*(1 - (1.0*times_watched/mtrx_sz))"
   ]
  },
  {
   "cell_type": "code",
   "execution_count": 958,
   "metadata": {},
   "outputs": [
    {
     "name": "stdout",
     "output_type": "stream",
     "text": [
      "10000054 links\n"
     ]
    }
   ],
   "source": [
    "print(times_watched, 'links')"
   ]
  },
  {
   "cell_type": "code",
   "execution_count": 959,
   "metadata": {},
   "outputs": [
    {
     "name": "stdout",
     "output_type": "stream",
     "text": [
      "10681 movies\n"
     ]
    }
   ],
   "source": [
    "print(len(movies), 'movies')"
   ]
  },
  {
   "cell_type": "code",
   "execution_count": 960,
   "metadata": {},
   "outputs": [
    {
     "name": "stdout",
     "output_type": "stream",
     "text": [
      "69878 Users\n"
     ]
    }
   ],
   "source": [
    "print(len(usrs), 'Users')"
   ]
  },
  {
   "cell_type": "markdown",
   "metadata": {},
   "source": [
    "### Exploratory Data Analysis(EDA)"
   ]
  },
  {
   "cell_type": "code",
   "execution_count": 961,
   "metadata": {},
   "outputs": [
    {
     "data": {
      "text/html": [
       "<div>\n",
       "<style scoped>\n",
       "    .dataframe tbody tr th:only-of-type {\n",
       "        vertical-align: middle;\n",
       "    }\n",
       "\n",
       "    .dataframe tbody tr th {\n",
       "        vertical-align: top;\n",
       "    }\n",
       "\n",
       "    .dataframe thead th {\n",
       "        text-align: right;\n",
       "    }\n",
       "</style>\n",
       "<table border=\"1\" class=\"dataframe\">\n",
       "  <thead>\n",
       "    <tr style=\"text-align: right;\">\n",
       "      <th></th>\n",
       "      <th>movieId</th>\n",
       "      <th>title</th>\n",
       "      <th>genres</th>\n",
       "    </tr>\n",
       "  </thead>\n",
       "  <tbody>\n",
       "    <tr>\n",
       "      <th>0</th>\n",
       "      <td>1</td>\n",
       "      <td>Toy Story (1995)</td>\n",
       "      <td>Adventure|Animation|Children|Comedy|Fantasy</td>\n",
       "    </tr>\n",
       "    <tr>\n",
       "      <th>1</th>\n",
       "      <td>2</td>\n",
       "      <td>Jumanji (1995)</td>\n",
       "      <td>Adventure|Children|Fantasy</td>\n",
       "    </tr>\n",
       "    <tr>\n",
       "      <th>2</th>\n",
       "      <td>3</td>\n",
       "      <td>Grumpier Old Men (1995)</td>\n",
       "      <td>Comedy|Romance</td>\n",
       "    </tr>\n",
       "    <tr>\n",
       "      <th>3</th>\n",
       "      <td>4</td>\n",
       "      <td>Waiting to Exhale (1995)</td>\n",
       "      <td>Comedy|Drama|Romance</td>\n",
       "    </tr>\n",
       "    <tr>\n",
       "      <th>4</th>\n",
       "      <td>5</td>\n",
       "      <td>Father of the Bride Part II (1995)</td>\n",
       "      <td>Comedy</td>\n",
       "    </tr>\n",
       "  </tbody>\n",
       "</table>\n",
       "</div>"
      ],
      "text/plain": [
       "   movieId                               title  \\\n",
       "0        1                    Toy Story (1995)   \n",
       "1        2                      Jumanji (1995)   \n",
       "2        3             Grumpier Old Men (1995)   \n",
       "3        4            Waiting to Exhale (1995)   \n",
       "4        5  Father of the Bride Part II (1995)   \n",
       "\n",
       "                                        genres  \n",
       "0  Adventure|Animation|Children|Comedy|Fantasy  \n",
       "1                   Adventure|Children|Fantasy  \n",
       "2                               Comedy|Romance  \n",
       "3                         Comedy|Drama|Romance  \n",
       "4                                       Comedy  "
      ]
     },
     "execution_count": 961,
     "metadata": {},
     "output_type": "execute_result"
    }
   ],
   "source": [
    "dfmv.head(5)"
   ]
  },
  {
   "cell_type": "markdown",
   "metadata": {},
   "source": [
    "### Most popular genres of movie released"
   ]
  },
  {
   "cell_type": "code",
   "execution_count": 962,
   "metadata": {},
   "outputs": [
    {
     "data": {
      "image/png": "[encoded data removed]",
      "text/plain": [
       "<Figure size 1440x504 with 1 Axes>"
      ]
     },
     "metadata": {
      "needs_background": "light"
     },
     "output_type": "display_data"
    }
   ],
   "source": [
    "p.figure(figsize=(20,7))\n",
    "gnr_lst = dfmvs1['genres'].apply(lambda mv_lst : str(mv_lst).split(\"|\"))\n",
    "gnr_cnt = {}\n",
    "\n",
    "for mv_lst in gnr_lst:\n",
    "    for genre in mv_lst:\n",
    "        if(gnr_cnt.get(genre,False)):\n",
    "            gnr_cnt[genre]=gnr_cnt[genre]+1\n",
    "        else:\n",
    "            gnr_cnt[genre] = 1\n",
    "            \n",
    "gnr_cnt.pop('(no genres listed)')\n",
    "gnr_cnt = {k: v for k, v in sorted(gnr_cnt.items(), key=lambda item: item[1], reverse=True)}\n",
    "p.bar(gnr_cnt.keys(),gnr_cnt.values(),color='steelblue')\n",
    "p.title('Movie by genre')\n",
    "p.xticks(rotation = 45)\n",
    "p.xlabel('Genre')\n",
    "p.ylabel('Number of movies')\n",
    "p.grid()\n",
    "p.show()"
   ]
  },
  {
   "cell_type": "code",
   "execution_count": 963,
   "metadata": {},
   "outputs": [
    {
     "data": {
      "text/html": [
       "<div>\n",
       "<style scoped>\n",
       "    .dataframe tbody tr th:only-of-type {\n",
       "        vertical-align: middle;\n",
       "    }\n",
       "\n",
       "    .dataframe tbody tr th {\n",
       "        vertical-align: top;\n",
       "    }\n",
       "\n",
       "    .dataframe thead th {\n",
       "        text-align: right;\n",
       "    }\n",
       "</style>\n",
       "<table border=\"1\" class=\"dataframe\">\n",
       "  <thead>\n",
       "    <tr style=\"text-align: right;\">\n",
       "      <th></th>\n",
       "      <th>userId</th>\n",
       "      <th>movieId</th>\n",
       "      <th>rating</th>\n",
       "      <th>timestamp</th>\n",
       "    </tr>\n",
       "  </thead>\n",
       "  <tbody>\n",
       "    <tr>\n",
       "      <th>5167075</th>\n",
       "      <td>36955</td>\n",
       "      <td>21</td>\n",
       "      <td>3.0</td>\n",
       "      <td>789652009</td>\n",
       "    </tr>\n",
       "    <tr>\n",
       "      <th>5167081</th>\n",
       "      <td>36955</td>\n",
       "      <td>47</td>\n",
       "      <td>5.0</td>\n",
       "      <td>789652009</td>\n",
       "    </tr>\n",
       "    <tr>\n",
       "      <th>5167124</th>\n",
       "      <td>36955</td>\n",
       "      <td>1079</td>\n",
       "      <td>3.0</td>\n",
       "      <td>789652009</td>\n",
       "    </tr>\n",
       "    <tr>\n",
       "      <th>4961485</th>\n",
       "      <td>35435</td>\n",
       "      <td>45</td>\n",
       "      <td>5.0</td>\n",
       "      <td>822873600</td>\n",
       "    </tr>\n",
       "    <tr>\n",
       "      <th>4961483</th>\n",
       "      <td>35435</td>\n",
       "      <td>21</td>\n",
       "      <td>5.0</td>\n",
       "      <td>822873600</td>\n",
       "    </tr>\n",
       "  </tbody>\n",
       "</table>\n",
       "</div>"
      ],
      "text/plain": [
       "         userId  movieId  rating  timestamp\n",
       "5167075   36955       21     3.0  789652009\n",
       "5167081   36955       47     5.0  789652009\n",
       "5167124   36955     1079     3.0  789652009\n",
       "4961485   35435       45     5.0  822873600\n",
       "4961483   35435       21     5.0  822873600"
      ]
     },
     "execution_count": 963,
     "metadata": {},
     "output_type": "execute_result"
    }
   ],
   "source": [
    "df_rtngs.head(5)"
   ]
  },
  {
   "cell_type": "markdown",
   "metadata": {},
   "source": [
    "### Distribution of users rating"
   ]
  },
  {
   "cell_type": "code",
   "execution_count": 964,
   "metadata": {},
   "outputs": [
    {
     "data": {
      "image/png": "[encoded data removed]",
      "text/plain": [
       "<Figure size 864x504 with 1 Axes>"
      ]
     },
     "metadata": {
      "needs_background": "light"
     },
     "output_type": "display_data"
    }
   ],
   "source": [
    "p.figure(figsize=(12,7))\n",
    "#plot distribution of rating with the kde chart\n",
    "sns.kdeplot(df_rtngs[\"rating\"], color = 'steelblue');\n",
    "p.title('Distribution of movie scores')\n",
    "p.grid()\n",
    "p.show()"
   ]
  },
  {
   "cell_type": "code",
   "execution_count": 965,
   "metadata": {
    "scrolled": true
   },
   "outputs": [
    {
     "name": "stdout",
     "output_type": "stream",
     "text": [
      "Shape of the dataframes: \n",
      " Rating DataFrame: (10000054, 4)\n",
      " Movies DataFrame(10681, 3)\n"
     ]
    }
   ],
   "source": [
    "print(\"Shape of the dataframes: \\n\"+ \" Rating DataFrame: \"+ str(df_rtngs.shape)+\"\\n Movies DataFrame\"+ str(dfmv.shape))"
   ]
  },
  {
   "cell_type": "code",
   "execution_count": 966,
   "metadata": {},
   "outputs": [],
   "source": [
    "#merge the movie and ratings dataset to get ratings of the respective movies\n",
    "combine_mv_scs = pd.merge(dfmv, df_rtngs, on='movieId', how='inner')"
   ]
  },
  {
   "cell_type": "code",
   "execution_count": 967,
   "metadata": {},
   "outputs": [
    {
     "data": {
      "text/html": [
       "<div>\n",
       "<style scoped>\n",
       "    .dataframe tbody tr th:only-of-type {\n",
       "        vertical-align: middle;\n",
       "    }\n",
       "\n",
       "    .dataframe tbody tr th {\n",
       "        vertical-align: top;\n",
       "    }\n",
       "\n",
       "    .dataframe thead th {\n",
       "        text-align: right;\n",
       "    }\n",
       "</style>\n",
       "<table border=\"1\" class=\"dataframe\">\n",
       "  <thead>\n",
       "    <tr style=\"text-align: right;\">\n",
       "      <th></th>\n",
       "      <th>movieId</th>\n",
       "      <th>title</th>\n",
       "      <th>genres</th>\n",
       "      <th>userId</th>\n",
       "      <th>rating</th>\n",
       "      <th>timestamp</th>\n",
       "    </tr>\n",
       "  </thead>\n",
       "  <tbody>\n",
       "    <tr>\n",
       "      <th>0</th>\n",
       "      <td>1</td>\n",
       "      <td>Toy Story (1995)</td>\n",
       "      <td>Adventure|Animation|Children|Comedy|Fantasy</td>\n",
       "      <td>35139</td>\n",
       "      <td>4.0</td>\n",
       "      <td>822873600</td>\n",
       "    </tr>\n",
       "    <tr>\n",
       "      <th>1</th>\n",
       "      <td>1</td>\n",
       "      <td>Toy Story (1995)</td>\n",
       "      <td>Adventure|Animation|Children|Comedy|Fantasy</td>\n",
       "      <td>36008</td>\n",
       "      <td>5.0</td>\n",
       "      <td>823185203</td>\n",
       "    </tr>\n",
       "  </tbody>\n",
       "</table>\n",
       "</div>"
      ],
      "text/plain": [
       "   movieId             title                                       genres  \\\n",
       "0        1  Toy Story (1995)  Adventure|Animation|Children|Comedy|Fantasy   \n",
       "1        1  Toy Story (1995)  Adventure|Animation|Children|Comedy|Fantasy   \n",
       "\n",
       "   userId  rating  timestamp  \n",
       "0   35139     4.0  822873600  \n",
       "1   36008     5.0  823185203  "
      ]
     },
     "execution_count": 967,
     "metadata": {},
     "output_type": "execute_result"
    }
   ],
   "source": [
    "combine_mv_scs.head(2)"
   ]
  },
  {
   "cell_type": "code",
   "execution_count": 968,
   "metadata": {},
   "outputs": [],
   "source": [
    "#drop the timestamp column to remain with relevant attrs\n",
    "combine_mv_scs = combine_mv_scs.drop('timestamp', axis=1)"
   ]
  },
  {
   "cell_type": "code",
   "execution_count": 969,
   "metadata": {},
   "outputs": [
    {
     "data": {
      "text/plain": [
       "(10000054, 5)"
      ]
     },
     "execution_count": 969,
     "metadata": {},
     "output_type": "execute_result"
    }
   ],
   "source": [
    "#get shape of the resulting data\n",
    "combine_mv_scs.shape"
   ]
  },
  {
   "cell_type": "markdown",
   "metadata": {},
   "source": [
    "Grouping the rating based on user"
   ]
  },
  {
   "cell_type": "code",
   "execution_count": 970,
   "metadata": {},
   "outputs": [],
   "source": [
    "#Group by the userid\n",
    "scores_grouped_by_usrs = combine_mv_scs.groupby('userId').agg([np.size, np.mean])"
   ]
  },
  {
   "cell_type": "code",
   "execution_count": 971,
   "metadata": {},
   "outputs": [
    {
     "data": {
      "text/html": [
       "<div>\n",
       "<style scoped>\n",
       "    .dataframe tbody tr th:only-of-type {\n",
       "        vertical-align: middle;\n",
       "    }\n",
       "\n",
       "    .dataframe tbody tr th {\n",
       "        vertical-align: top;\n",
       "    }\n",
       "\n",
       "    .dataframe thead tr th {\n",
       "        text-align: left;\n",
       "    }\n",
       "\n",
       "    .dataframe thead tr:last-of-type th {\n",
       "        text-align: right;\n",
       "    }\n",
       "</style>\n",
       "<table border=\"1\" class=\"dataframe\">\n",
       "  <thead>\n",
       "    <tr>\n",
       "      <th></th>\n",
       "      <th colspan=\"2\" halign=\"left\">movieId</th>\n",
       "      <th colspan=\"2\" halign=\"left\">rating</th>\n",
       "    </tr>\n",
       "    <tr>\n",
       "      <th></th>\n",
       "      <th>size</th>\n",
       "      <th>mean</th>\n",
       "      <th>size</th>\n",
       "      <th>mean</th>\n",
       "    </tr>\n",
       "    <tr>\n",
       "      <th>userId</th>\n",
       "      <th></th>\n",
       "      <th></th>\n",
       "      <th></th>\n",
       "      <th></th>\n",
       "    </tr>\n",
       "  </thead>\n",
       "  <tbody>\n",
       "    <tr>\n",
       "      <th>1</th>\n",
       "      <td>22</td>\n",
       "      <td>411.681818</td>\n",
       "      <td>22.0</td>\n",
       "      <td>5.0</td>\n",
       "    </tr>\n",
       "    <tr>\n",
       "      <th>2</th>\n",
       "      <td>20</td>\n",
       "      <td>785.550000</td>\n",
       "      <td>20.0</td>\n",
       "      <td>3.2</td>\n",
       "    </tr>\n",
       "  </tbody>\n",
       "</table>\n",
       "</div>"
      ],
      "text/plain": [
       "       movieId             rating     \n",
       "          size        mean   size mean\n",
       "userId                                \n",
       "1           22  411.681818   22.0  5.0\n",
       "2           20  785.550000   20.0  3.2"
      ]
     },
     "execution_count": 971,
     "metadata": {},
     "output_type": "execute_result"
    }
   ],
   "source": [
    "scores_grouped_by_usrs.head(2)"
   ]
  },
  {
   "cell_type": "code",
   "execution_count": 972,
   "metadata": {},
   "outputs": [],
   "source": [
    "#Remove movieid\n",
    "scores_grouped_by_usrs = scores_grouped_by_usrs.drop('movieId', axis = 1)"
   ]
  },
  {
   "cell_type": "markdown",
   "metadata": {},
   "source": [
    "### Top 10 users who have rated most of the movies"
   ]
  },
  {
   "cell_type": "code",
   "execution_count": 973,
   "metadata": {},
   "outputs": [
    {
     "data": {
      "image/png": "[encoded data removed]",
      "text/plain": [
       "<Figure size 792x432 with 1 Axes>"
      ]
     },
     "metadata": {
      "needs_background": "light"
     },
     "output_type": "display_data"
    }
   ],
   "source": [
    "#plot the top 10 movies\n",
    "scores_grouped_by_usrs['rating']['size'].sort_values(ascending=False).head(10).plot(kind = 'bar', figsize = (11,6))\n",
    "p.title('Top 10 movie reviews (users with most scores)')\n",
    "p.grid()\n",
    "p.show()"
   ]
  },
  {
   "cell_type": "code",
   "execution_count": 974,
   "metadata": {},
   "outputs": [],
   "source": [
    "#Group by movie id to get the mean rating of each movie\n",
    "scores_mvs = combine_mv_scs.groupby('movieId').agg([np.mean], np.size)"
   ]
  },
  {
   "cell_type": "code",
   "execution_count": 975,
   "metadata": {},
   "outputs": [
    {
     "data": {
      "text/plain": [
       "(10677, 2)"
      ]
     },
     "execution_count": 975,
     "metadata": {},
     "output_type": "execute_result"
    }
   ],
   "source": [
    "scores_mvs.shape"
   ]
  },
  {
   "cell_type": "code",
   "execution_count": 976,
   "metadata": {
    "scrolled": true
   },
   "outputs": [
    {
     "data": {
      "text/html": [
       "<div>\n",
       "<style scoped>\n",
       "    .dataframe tbody tr th:only-of-type {\n",
       "        vertical-align: middle;\n",
       "    }\n",
       "\n",
       "    .dataframe tbody tr th {\n",
       "        vertical-align: top;\n",
       "    }\n",
       "\n",
       "    .dataframe thead tr th {\n",
       "        text-align: left;\n",
       "    }\n",
       "\n",
       "    .dataframe thead tr:last-of-type th {\n",
       "        text-align: right;\n",
       "    }\n",
       "</style>\n",
       "<table border=\"1\" class=\"dataframe\">\n",
       "  <thead>\n",
       "    <tr>\n",
       "      <th></th>\n",
       "      <th>userId</th>\n",
       "      <th>rating</th>\n",
       "    </tr>\n",
       "    <tr>\n",
       "      <th></th>\n",
       "      <th>mean</th>\n",
       "      <th>mean</th>\n",
       "    </tr>\n",
       "    <tr>\n",
       "      <th>movieId</th>\n",
       "      <th></th>\n",
       "      <th></th>\n",
       "    </tr>\n",
       "  </thead>\n",
       "  <tbody>\n",
       "    <tr>\n",
       "      <th>1</th>\n",
       "      <td>35520.163787</td>\n",
       "      <td>3.928769</td>\n",
       "    </tr>\n",
       "    <tr>\n",
       "      <th>2</th>\n",
       "      <td>35868.424701</td>\n",
       "      <td>3.208070</td>\n",
       "    </tr>\n",
       "    <tr>\n",
       "      <th>3</th>\n",
       "      <td>35311.554685</td>\n",
       "      <td>3.150385</td>\n",
       "    </tr>\n",
       "  </tbody>\n",
       "</table>\n",
       "</div>"
      ],
      "text/plain": [
       "               userId    rating\n",
       "                 mean      mean\n",
       "movieId                        \n",
       "1        35520.163787  3.928769\n",
       "2        35868.424701  3.208070\n",
       "3        35311.554685  3.150385"
      ]
     },
     "execution_count": 976,
     "metadata": {},
     "output_type": "execute_result"
    }
   ],
   "source": [
    "scores_mvs.head(3)"
   ]
  },
  {
   "cell_type": "code",
   "execution_count": 977,
   "metadata": {},
   "outputs": [],
   "source": [
    "#Remove movieid\n",
    "scores_mvs = scores_mvs.drop('userId', axis=1)"
   ]
  },
  {
   "cell_type": "markdown",
   "metadata": {},
   "source": [
    "### Movies with high average rating"
   ]
  },
  {
   "cell_type": "code",
   "execution_count": 978,
   "metadata": {
    "scrolled": false
   },
   "outputs": [
    {
     "data": {
      "image/png": "[encoded data removed]",
      "text/plain": [
       "<Figure size 504x432 with 1 Axes>"
      ]
     },
     "metadata": {
      "needs_background": "light"
     },
     "output_type": "display_data"
    }
   ],
   "source": [
    "#Plot movies with the highest average rating\n",
    "scores_mvs['rating']['mean'].sort_values(ascending=False).head(10).plot(kind='bar',\n",
    "                                                                                       figsize=(7,6), color = 'orange');\n",
    "p.title('Movies with the highest scores')\n",
    "p.grid()\n",
    "p.show()"
   ]
  },
  {
   "cell_type": "markdown",
   "metadata": {},
   "source": [
    "### Movies with low average rating"
   ]
  },
  {
   "cell_type": "code",
   "execution_count": 979,
   "metadata": {},
   "outputs": [],
   "source": [
    "#Get movies that are rated less than 1.5\n",
    "least_rated_mvs = scores_mvs['rating']['mean']< 1.5"
   ]
  },
  {
   "cell_type": "code",
   "execution_count": 980,
   "metadata": {},
   "outputs": [],
   "source": [
    "#Subset the movies using the mentioned criterion\n",
    "rated_low = scores_mvs[least_rated_mvs]"
   ]
  },
  {
   "cell_type": "code",
   "execution_count": 981,
   "metadata": {
    "scrolled": false
   },
   "outputs": [
    {
     "data": {
      "image/png": "[encoded data removed]",
      "text/plain": [
       "<Figure size 576x432 with 1 Axes>"
      ]
     },
     "metadata": {
      "needs_background": "light"
     },
     "output_type": "display_data"
    }
   ],
   "source": [
    "#Plot the movies\n",
    "rated_low.head(20).plot(kind='bar', figsize=(8,6));\n",
    "p.grid()"
   ]
  },
  {
   "cell_type": "code",
   "execution_count": 982,
   "metadata": {},
   "outputs": [
    {
     "data": {
      "text/html": [
       "<div>\n",
       "<style scoped>\n",
       "    .dataframe tbody tr th:only-of-type {\n",
       "        vertical-align: middle;\n",
       "    }\n",
       "\n",
       "    .dataframe tbody tr th {\n",
       "        vertical-align: top;\n",
       "    }\n",
       "\n",
       "    .dataframe thead tr th {\n",
       "        text-align: left;\n",
       "    }\n",
       "\n",
       "    .dataframe thead tr:last-of-type th {\n",
       "        text-align: right;\n",
       "    }\n",
       "</style>\n",
       "<table border=\"1\" class=\"dataframe\">\n",
       "  <thead>\n",
       "    <tr>\n",
       "      <th></th>\n",
       "      <th>rating</th>\n",
       "    </tr>\n",
       "    <tr>\n",
       "      <th></th>\n",
       "      <th>mean</th>\n",
       "    </tr>\n",
       "    <tr>\n",
       "      <th>movieId</th>\n",
       "      <th></th>\n",
       "    </tr>\n",
       "  </thead>\n",
       "  <tbody>\n",
       "    <tr>\n",
       "      <th>1495</th>\n",
       "      <td>1.360227</td>\n",
       "    </tr>\n",
       "    <tr>\n",
       "      <th>1739</th>\n",
       "      <td>1.464286</td>\n",
       "    </tr>\n",
       "    <tr>\n",
       "      <th>1826</th>\n",
       "      <td>1.175214</td>\n",
       "    </tr>\n",
       "    <tr>\n",
       "      <th>1990</th>\n",
       "      <td>1.356436</td>\n",
       "    </tr>\n",
       "    <tr>\n",
       "      <th>3027</th>\n",
       "      <td>1.138889</td>\n",
       "    </tr>\n",
       "    <tr>\n",
       "      <th>3561</th>\n",
       "      <td>1.000000</td>\n",
       "    </tr>\n",
       "    <tr>\n",
       "      <th>3573</th>\n",
       "      <td>1.367647</td>\n",
       "    </tr>\n",
       "    <tr>\n",
       "      <th>3574</th>\n",
       "      <td>1.120253</td>\n",
       "    </tr>\n",
       "    <tr>\n",
       "      <th>3904</th>\n",
       "      <td>1.250000</td>\n",
       "    </tr>\n",
       "    <tr>\n",
       "      <th>3940</th>\n",
       "      <td>1.491667</td>\n",
       "    </tr>\n",
       "  </tbody>\n",
       "</table>\n",
       "</div>"
      ],
      "text/plain": [
       "           rating\n",
       "             mean\n",
       "movieId          \n",
       "1495     1.360227\n",
       "1739     1.464286\n",
       "1826     1.175214\n",
       "1990     1.356436\n",
       "3027     1.138889\n",
       "3561     1.000000\n",
       "3573     1.367647\n",
       "3574     1.120253\n",
       "3904     1.250000\n",
       "3940     1.491667"
      ]
     },
     "execution_count": 982,
     "metadata": {},
     "output_type": "execute_result"
    }
   ],
   "source": [
    "#Overview of 10 movies with the lowest rating\n",
    "rated_low.head(10)"
   ]
  },
  {
   "cell_type": "code",
   "execution_count": null,
   "metadata": {},
   "outputs": [],
   "source": []
  },
  {
   "cell_type": "code",
   "execution_count": 983,
   "metadata": {},
   "outputs": [],
   "source": [
    "#Merge the ratings and movies dt\n",
    "dfmvs = dfmv.merge(df_rtngs)\n",
    "groupby = ['genres']\n",
    "nonnormal = ['movieId']\n",
    "dfmvs = dfmvs[dfmvs['genres'].isin(list(gnr_cnt.keys())[0:5])]"
   ]
  },
  {
   "cell_type": "code",
   "execution_count": 984,
   "metadata": {},
   "outputs": [],
   "source": [
    "tstTable = TableOne(dfmvs,columns = ['genres', 'rating'],\n",
    "                   groupby=groupby, pval=True)"
   ]
  },
  {
   "cell_type": "code",
   "execution_count": 985,
   "metadata": {},
   "outputs": [
    {
     "data": {
      "text/html": [
       "<div>\n",
       "<style scoped>\n",
       "    .dataframe tbody tr th:only-of-type {\n",
       "        vertical-align: middle;\n",
       "    }\n",
       "\n",
       "    .dataframe tbody tr th {\n",
       "        vertical-align: top;\n",
       "    }\n",
       "\n",
       "    .dataframe thead tr th {\n",
       "        text-align: left;\n",
       "    }\n",
       "</style>\n",
       "<table border=\"1\" class=\"dataframe\">\n",
       "  <thead>\n",
       "    <tr>\n",
       "      <th></th>\n",
       "      <th></th>\n",
       "      <th colspan=\"8\" halign=\"left\">Grouped by genres</th>\n",
       "    </tr>\n",
       "    <tr>\n",
       "      <th></th>\n",
       "      <th></th>\n",
       "      <th>Missing</th>\n",
       "      <th>Overall</th>\n",
       "      <th>Action</th>\n",
       "      <th>Adventure</th>\n",
       "      <th>Comedy</th>\n",
       "      <th>Drama</th>\n",
       "      <th>Thriller</th>\n",
       "      <th>P-Value</th>\n",
       "    </tr>\n",
       "  </thead>\n",
       "  <tbody>\n",
       "    <tr>\n",
       "      <th>n</th>\n",
       "      <th></th>\n",
       "      <td></td>\n",
       "      <td>1728711</td>\n",
       "      <td>27208</td>\n",
       "      <td>2549</td>\n",
       "      <td>778596</td>\n",
       "      <td>815084</td>\n",
       "      <td>105274</td>\n",
       "      <td></td>\n",
       "    </tr>\n",
       "    <tr>\n",
       "      <th rowspan=\"10\" valign=\"top\">rating, n (%)</th>\n",
       "      <th>0.5</th>\n",
       "      <td>0</td>\n",
       "      <td>16147 (0.9)</td>\n",
       "      <td>428 (1.6)</td>\n",
       "      <td>53 (2.1)</td>\n",
       "      <td>11301 (1.5)</td>\n",
       "      <td>3895 (0.5)</td>\n",
       "      <td>470 (0.4)</td>\n",
       "      <td>&lt;0.001</td>\n",
       "    </tr>\n",
       "    <tr>\n",
       "      <th>1.0</th>\n",
       "      <td></td>\n",
       "      <td>76002 (4.4)</td>\n",
       "      <td>2666 (9.8)</td>\n",
       "      <td>245 (9.6)</td>\n",
       "      <td>50350 (6.5)</td>\n",
       "      <td>19796 (2.4)</td>\n",
       "      <td>2945 (2.8)</td>\n",
       "      <td></td>\n",
       "    </tr>\n",
       "    <tr>\n",
       "      <th>1.5</th>\n",
       "      <td></td>\n",
       "      <td>19674 (1.1)</td>\n",
       "      <td>614 (2.3)</td>\n",
       "      <td>62 (2.4)</td>\n",
       "      <td>13280 (1.7)</td>\n",
       "      <td>4938 (0.6)</td>\n",
       "      <td>780 (0.7)</td>\n",
       "      <td></td>\n",
       "    </tr>\n",
       "    <tr>\n",
       "      <th>2.0</th>\n",
       "      <td></td>\n",
       "      <td>145057 (8.4)</td>\n",
       "      <td>3750 (13.8)</td>\n",
       "      <td>365 (14.3)</td>\n",
       "      <td>86532 (11.1)</td>\n",
       "      <td>46460 (5.7)</td>\n",
       "      <td>7950 (7.6)</td>\n",
       "      <td></td>\n",
       "    </tr>\n",
       "    <tr>\n",
       "      <th>2.5</th>\n",
       "      <td></td>\n",
       "      <td>61721 (3.6)</td>\n",
       "      <td>1400 (5.1)</td>\n",
       "      <td>137 (5.4)</td>\n",
       "      <td>35875 (4.6)</td>\n",
       "      <td>20886 (2.6)</td>\n",
       "      <td>3423 (3.3)</td>\n",
       "      <td></td>\n",
       "    </tr>\n",
       "    <tr>\n",
       "      <th>3.0</th>\n",
       "      <td></td>\n",
       "      <td>422363 (24.4)</td>\n",
       "      <td>9217 (33.9)</td>\n",
       "      <td>698 (27.4)</td>\n",
       "      <td>209441 (26.9)</td>\n",
       "      <td>175215 (21.5)</td>\n",
       "      <td>27792 (26.4)</td>\n",
       "      <td></td>\n",
       "    </tr>\n",
       "    <tr>\n",
       "      <th>3.5</th>\n",
       "      <td></td>\n",
       "      <td>142369 (8.2)</td>\n",
       "      <td>1763 (6.5)</td>\n",
       "      <td>243 (9.5)</td>\n",
       "      <td>65123 (8.4)</td>\n",
       "      <td>66364 (8.1)</td>\n",
       "      <td>8876 (8.4)</td>\n",
       "      <td></td>\n",
       "    </tr>\n",
       "    <tr>\n",
       "      <th>4.0</th>\n",
       "      <td></td>\n",
       "      <td>500639 (29.0)</td>\n",
       "      <td>5344 (19.6)</td>\n",
       "      <td>524 (20.6)</td>\n",
       "      <td>192115 (24.7)</td>\n",
       "      <td>267806 (32.9)</td>\n",
       "      <td>34850 (33.1)</td>\n",
       "      <td></td>\n",
       "    </tr>\n",
       "    <tr>\n",
       "      <th>4.5</th>\n",
       "      <td></td>\n",
       "      <td>88418 (5.1)</td>\n",
       "      <td>434 (1.6)</td>\n",
       "      <td>69 (2.7)</td>\n",
       "      <td>31050 (4.0)</td>\n",
       "      <td>52679 (6.5)</td>\n",
       "      <td>4186 (4.0)</td>\n",
       "      <td></td>\n",
       "    </tr>\n",
       "    <tr>\n",
       "      <th>5.0</th>\n",
       "      <td></td>\n",
       "      <td>256321 (14.8)</td>\n",
       "      <td>1592 (5.9)</td>\n",
       "      <td>153 (6.0)</td>\n",
       "      <td>83529 (10.7)</td>\n",
       "      <td>157045 (19.3)</td>\n",
       "      <td>14002 (13.3)</td>\n",
       "      <td></td>\n",
       "    </tr>\n",
       "  </tbody>\n",
       "</table>\n",
       "</div><br />"
      ],
      "text/plain": [
       "                  Grouped by genres                                                                                            \n",
       "                            Missing        Overall       Action   Adventure         Comedy          Drama      Thriller P-Value\n",
       "n                                          1728711        27208        2549         778596         815084        105274        \n",
       "rating, n (%) 0.5                 0    16147 (0.9)    428 (1.6)    53 (2.1)    11301 (1.5)     3895 (0.5)     470 (0.4)  <0.001\n",
       "              1.0                      76002 (4.4)   2666 (9.8)   245 (9.6)    50350 (6.5)    19796 (2.4)    2945 (2.8)        \n",
       "              1.5                      19674 (1.1)    614 (2.3)    62 (2.4)    13280 (1.7)     4938 (0.6)     780 (0.7)        \n",
       "              2.0                     145057 (8.4)  3750 (13.8)  365 (14.3)   86532 (11.1)    46460 (5.7)    7950 (7.6)        \n",
       "              2.5                      61721 (3.6)   1400 (5.1)   137 (5.4)    35875 (4.6)    20886 (2.6)    3423 (3.3)        \n",
       "              3.0                    422363 (24.4)  9217 (33.9)  698 (27.4)  209441 (26.9)  175215 (21.5)  27792 (26.4)        \n",
       "              3.5                     142369 (8.2)   1763 (6.5)   243 (9.5)    65123 (8.4)    66364 (8.1)    8876 (8.4)        \n",
       "              4.0                    500639 (29.0)  5344 (19.6)  524 (20.6)  192115 (24.7)  267806 (32.9)  34850 (33.1)        \n",
       "              4.5                      88418 (5.1)    434 (1.6)    69 (2.7)    31050 (4.0)    52679 (6.5)    4186 (4.0)        \n",
       "              5.0                    256321 (14.8)   1592 (5.9)   153 (6.0)   83529 (10.7)  157045 (19.3)  14002 (13.3)        "
      ]
     },
     "execution_count": 985,
     "metadata": {},
     "output_type": "execute_result"
    }
   ],
   "source": [
    "tstTable"
   ]
  },
  {
   "cell_type": "code",
   "execution_count": 986,
   "metadata": {},
   "outputs": [],
   "source": [
    "tstTable.to_excel('summary_10M.xlsx')"
   ]
  },
  {
   "cell_type": "code",
   "execution_count": 987,
   "metadata": {},
   "outputs": [
    {
     "data": {
      "text/html": [
       "<div>\n",
       "<style scoped>\n",
       "    .dataframe tbody tr th:only-of-type {\n",
       "        vertical-align: middle;\n",
       "    }\n",
       "\n",
       "    .dataframe tbody tr th {\n",
       "        vertical-align: top;\n",
       "    }\n",
       "\n",
       "    .dataframe thead tr th {\n",
       "        text-align: left;\n",
       "    }\n",
       "</style>\n",
       "<table border=\"1\" class=\"dataframe\">\n",
       "  <thead>\n",
       "    <tr>\n",
       "      <th></th>\n",
       "      <th></th>\n",
       "      <th colspan=\"8\" halign=\"left\">Grouped by genres</th>\n",
       "    </tr>\n",
       "    <tr>\n",
       "      <th></th>\n",
       "      <th></th>\n",
       "      <th>Missing</th>\n",
       "      <th>Overall</th>\n",
       "      <th>Action</th>\n",
       "      <th>Adventure</th>\n",
       "      <th>Comedy</th>\n",
       "      <th>Drama</th>\n",
       "      <th>Thriller</th>\n",
       "      <th>P-Value</th>\n",
       "    </tr>\n",
       "  </thead>\n",
       "  <tbody>\n",
       "    <tr>\n",
       "      <th>n</th>\n",
       "      <th></th>\n",
       "      <td></td>\n",
       "      <td>1728711</td>\n",
       "      <td>27208</td>\n",
       "      <td>2549</td>\n",
       "      <td>778596</td>\n",
       "      <td>815084</td>\n",
       "      <td>105274</td>\n",
       "      <td></td>\n",
       "    </tr>\n",
       "    <tr>\n",
       "      <th rowspan=\"5\" valign=\"top\">genres, n (%)</th>\n",
       "      <th>Action</th>\n",
       "      <td>0</td>\n",
       "      <td>27208 (1.6)</td>\n",
       "      <td>27208 (100.0)</td>\n",
       "      <td></td>\n",
       "      <td></td>\n",
       "      <td></td>\n",
       "      <td></td>\n",
       "      <td>&lt;0.001</td>\n",
       "    </tr>\n",
       "    <tr>\n",
       "      <th>Adventure</th>\n",
       "      <td></td>\n",
       "      <td>2549 (0.1)</td>\n",
       "      <td></td>\n",
       "      <td>2549 (100.0)</td>\n",
       "      <td></td>\n",
       "      <td></td>\n",
       "      <td></td>\n",
       "      <td></td>\n",
       "    </tr>\n",
       "    <tr>\n",
       "      <th>Comedy</th>\n",
       "      <td></td>\n",
       "      <td>778596 (45.0)</td>\n",
       "      <td></td>\n",
       "      <td></td>\n",
       "      <td>778596 (100.0)</td>\n",
       "      <td></td>\n",
       "      <td></td>\n",
       "      <td></td>\n",
       "    </tr>\n",
       "    <tr>\n",
       "      <th>Drama</th>\n",
       "      <td></td>\n",
       "      <td>815084 (47.1)</td>\n",
       "      <td></td>\n",
       "      <td></td>\n",
       "      <td></td>\n",
       "      <td>815084 (100.0)</td>\n",
       "      <td></td>\n",
       "      <td></td>\n",
       "    </tr>\n",
       "    <tr>\n",
       "      <th>Thriller</th>\n",
       "      <td></td>\n",
       "      <td>105274 (6.1)</td>\n",
       "      <td></td>\n",
       "      <td></td>\n",
       "      <td></td>\n",
       "      <td></td>\n",
       "      <td>105274 (100.0)</td>\n",
       "      <td></td>\n",
       "    </tr>\n",
       "    <tr>\n",
       "      <th>rating, mean (SD)</th>\n",
       "      <th></th>\n",
       "      <td>0</td>\n",
       "      <td>3.5 (1.1)</td>\n",
       "      <td>2.9 (1.1)</td>\n",
       "      <td>3.0 (1.1)</td>\n",
       "      <td>3.2 (1.1)</td>\n",
       "      <td>3.7 (1.0)</td>\n",
       "      <td>3.5 (1.0)</td>\n",
       "      <td>&lt;0.001</td>\n",
       "    </tr>\n",
       "  </tbody>\n",
       "</table>\n",
       "</div><br />[1] Chi-squared tests for the following variables may be invalid due to the low number of observations: genres.<br />"
      ],
      "text/plain": [
       "                            Grouped by genres                                                                                                    \n",
       "                                      Missing        Overall         Action     Adventure          Comedy           Drama        Thriller P-Value\n",
       "n                                                    1728711          27208          2549          778596          815084          105274        \n",
       "genres, n (%)     Action                    0    27208 (1.6)  27208 (100.0)                                                                <0.001\n",
       "                  Adventure                       2549 (0.1)                 2549 (100.0)                                                        \n",
       "                  Comedy                       778596 (45.0)                               778596 (100.0)                                        \n",
       "                  Drama                        815084 (47.1)                                               815084 (100.0)                        \n",
       "                  Thriller                      105274 (6.1)                                                               105274 (100.0)        \n",
       "rating, mean (SD)                           0      3.5 (1.1)      2.9 (1.1)     3.0 (1.1)       3.2 (1.1)       3.7 (1.0)       3.5 (1.0)  <0.001\n",
       "[1] Chi-squared tests for the following variables may be invalid due to the low number of observations: genres."
      ]
     },
     "metadata": {},
     "output_type": "display_data"
    }
   ],
   "source": [
    "#Geenrate statistics related to genres and ratings\n",
    "tstTable = TableOne(dfmvs,columns = ['genres', 'rating'],\n",
    "                   groupby=groupby, categorical=['genres'], nonnormal=nonnormal, pval=True, tukey_test=True)\n",
    "\n",
    "display(tstTable)\n",
    "#Save to excel for use in the report\n",
    "tstTable.to_excel('summary_10M_tst.xlsx')"
   ]
  },
  {
   "cell_type": "markdown",
   "metadata": {},
   "source": [
    "#### Data Preparation\n",
    "\n",
    "> (1)- Merge the dataframes to obtain complete information regarding a user, a movie and the corresponding interaction.\n",
    "\n",
    "> (2)- Split the data into test and train."
   ]
  },
  {
   "cell_type": "markdown",
   "metadata": {},
   "source": [
    "##### Merge the dataframes"
   ]
  },
  {
   "cell_type": "code",
   "execution_count": 988,
   "metadata": {},
   "outputs": [
    {
     "data": {
      "text/plain": [
       "Index(['userId', 'movieId', 'rating', 'timestamp'], dtype='object')"
      ]
     },
     "execution_count": 988,
     "metadata": {},
     "output_type": "execute_result"
    }
   ],
   "source": [
    "#get distribution of the ratings data\n",
    "df_rtngs.columns"
   ]
  },
  {
   "cell_type": "code",
   "execution_count": 989,
   "metadata": {},
   "outputs": [
    {
     "data": {
      "text/plain": [
       "Index(['movieId', 'title', 'genres', 'userId', 'rating', 'timestamp'], dtype='object')"
      ]
     },
     "execution_count": 989,
     "metadata": {},
     "output_type": "execute_result"
    }
   ],
   "source": [
    "dfmvs.columns"
   ]
  },
  {
   "cell_type": "code",
   "execution_count": 990,
   "metadata": {},
   "outputs": [
    {
     "data": {
      "text/html": [
       "<div>\n",
       "<style scoped>\n",
       "    .dataframe tbody tr th:only-of-type {\n",
       "        vertical-align: middle;\n",
       "    }\n",
       "\n",
       "    .dataframe tbody tr th {\n",
       "        vertical-align: top;\n",
       "    }\n",
       "\n",
       "    .dataframe thead th {\n",
       "        text-align: right;\n",
       "    }\n",
       "</style>\n",
       "<table border=\"1\" class=\"dataframe\">\n",
       "  <thead>\n",
       "    <tr style=\"text-align: right;\">\n",
       "      <th></th>\n",
       "      <th>movieId</th>\n",
       "      <th>title</th>\n",
       "      <th>genres</th>\n",
       "      <th>userId</th>\n",
       "      <th>rating</th>\n",
       "      <th>timestamp</th>\n",
       "    </tr>\n",
       "  </thead>\n",
       "  <tbody>\n",
       "    <tr>\n",
       "      <th>0</th>\n",
       "      <td>5</td>\n",
       "      <td>Father of the Bride Part II (1995)</td>\n",
       "      <td>Comedy</td>\n",
       "      <td>36008</td>\n",
       "      <td>2.0</td>\n",
       "      <td>823185224</td>\n",
       "    </tr>\n",
       "    <tr>\n",
       "      <th>1</th>\n",
       "      <td>5</td>\n",
       "      <td>Father of the Bride Part II (1995)</td>\n",
       "      <td>Comedy</td>\n",
       "      <td>36304</td>\n",
       "      <td>4.0</td>\n",
       "      <td>823264601</td>\n",
       "    </tr>\n",
       "    <tr>\n",
       "      <th>2</th>\n",
       "      <td>5</td>\n",
       "      <td>Father of the Bride Part II (1995)</td>\n",
       "      <td>Comedy</td>\n",
       "      <td>38104</td>\n",
       "      <td>4.0</td>\n",
       "      <td>825006881</td>\n",
       "    </tr>\n",
       "    <tr>\n",
       "      <th>3</th>\n",
       "      <td>5</td>\n",
       "      <td>Father of the Bride Part II (1995)</td>\n",
       "      <td>Comedy</td>\n",
       "      <td>38206</td>\n",
       "      <td>2.0</td>\n",
       "      <td>825009968</td>\n",
       "    </tr>\n",
       "    <tr>\n",
       "      <th>4</th>\n",
       "      <td>5</td>\n",
       "      <td>Father of the Bride Part II (1995)</td>\n",
       "      <td>Comedy</td>\n",
       "      <td>38326</td>\n",
       "      <td>4.0</td>\n",
       "      <td>825080156</td>\n",
       "    </tr>\n",
       "  </tbody>\n",
       "</table>\n",
       "</div>"
      ],
      "text/plain": [
       "   movieId                               title  genres  userId  rating  \\\n",
       "0        5  Father of the Bride Part II (1995)  Comedy   36008     2.0   \n",
       "1        5  Father of the Bride Part II (1995)  Comedy   36304     4.0   \n",
       "2        5  Father of the Bride Part II (1995)  Comedy   38104     4.0   \n",
       "3        5  Father of the Bride Part II (1995)  Comedy   38206     2.0   \n",
       "4        5  Father of the Bride Part II (1995)  Comedy   38326     4.0   \n",
       "\n",
       "   timestamp  \n",
       "0  823185224  \n",
       "1  823264601  \n",
       "2  825006881  \n",
       "3  825009968  \n",
       "4  825080156  "
      ]
     },
     "execution_count": 990,
     "metadata": {},
     "output_type": "execute_result"
    }
   ],
   "source": [
    "#Merge the dataframes\n",
    "movie_scs = dfmvs.merge(df_rtngs)\n",
    "movie_scs = movie_scs\n",
    "movie_scs.head()"
   ]
  },
  {
   "cell_type": "markdown",
   "metadata": {},
   "source": [
    "##### Split the dataframes to test and train sets"
   ]
  },
  {
   "cell_type": "code",
   "execution_count": 991,
   "metadata": {},
   "outputs": [],
   "source": [
    "X = movie_scs[['userId', 'movieId']].values\n",
    "y = movie_scs['rating'].values\n",
    "#Split\n",
    "X_trn, X_tst, y_trn, y_tst = train_test_split(X, y, test_size=0.3, random_state=42)\n"
   ]
  },
  {
   "cell_type": "code",
   "execution_count": 992,
   "metadata": {},
   "outputs": [
    {
     "data": {
      "text/plain": [
       "((1210097, 2), (518614, 2), (1210097,), (518614,))"
      ]
     },
     "execution_count": 992,
     "metadata": {},
     "output_type": "execute_result"
    }
   ],
   "source": [
    "X = movie_scs[['userId', 'movieId']]\n",
    "y = movie_scs['rating']\n",
    "#Split\n",
    "X_trn, X_tst, y_trn, y_tst = train_test_split(X, y, test_size=0.3, random_state=42)\n",
    "X_trn.shape, X_tst.shape, y_trn.shape, y_tst.shape"
   ]
  },
  {
   "cell_type": "markdown",
   "metadata": {},
   "source": [
    "#### Modeling"
   ]
  },
  {
   "cell_type": "markdown",
   "metadata": {
    "_uuid": "1305f395bb9ad21c67d5f095a55690d9ae8c9a1e"
   },
   "source": [
    "### Step 1. Define an index vector of all unique users and movies"
   ]
  },
  {
   "cell_type": "code",
   "execution_count": 993,
   "metadata": {},
   "outputs": [],
   "source": [
    "#Order the movies and users\n",
    "c_mv = CategoricalDtype(sorted(movie_scs['movieId'].unique()), ordered=True)\n",
    "c_usrr = CategoricalDtype(sorted(movie_scs['userId'].unique()), ordered=True)"
   ]
  },
  {
   "cell_type": "code",
   "execution_count": 994,
   "metadata": {},
   "outputs": [
    {
     "name": "stdout",
     "output_type": "stream",
     "text": [
      "3103\n",
      "69076\n"
     ]
    }
   ],
   "source": [
    "print(len(c_mv.categories))\n",
    "print(len(c_usrr.categories))"
   ]
  },
  {
   "cell_type": "code",
   "execution_count": 995,
   "metadata": {},
   "outputs": [
    {
     "name": "stdout",
     "output_type": "stream",
     "text": [
      "(1210097, 2)\n",
      "(518614, 2)\n"
     ]
    }
   ],
   "source": [
    "\n",
    "trn, tst = train_test_split(X, test_size=0.30, random_state=420)\n",
    "print(trn.shape)\n",
    "print(tst.shape)"
   ]
  },
  {
   "cell_type": "code",
   "execution_count": 996,
   "metadata": {},
   "outputs": [],
   "source": [
    "tst = X_tst.copy()\n",
    "trn = X_trn.copy()\n",
    "\n",
    "tstx = tst.copy()\n",
    "\n",
    "tstx['userId'] = tstx['userId'].astype(c_usrr)\n",
    "\n",
    "tstx['movieId'] = tstx['movieId'].astype(c_mv)\n",
    "\n",
    "tst_pred = tstx.copy()"
   ]
  },
  {
   "cell_type": "code",
   "execution_count": 997,
   "metadata": {},
   "outputs": [
    {
     "name": "stdout",
     "output_type": "stream",
     "text": [
      "<class 'pandas.core.frame.DataFrame'>\n",
      "Int64Index: 518614 entries, 1713321 to 710290\n",
      "Data columns (total 2 columns):\n",
      " #   Column   Non-Null Count   Dtype   \n",
      "---  ------   --------------   -----   \n",
      " 0   userId   518614 non-null  category\n",
      " 1   movieId  518614 non-null  category\n",
      "dtypes: category(2)\n",
      "memory usage: 9.6 MB\n"
     ]
    }
   ],
   "source": [
    "tstx.info()"
   ]
  },
  {
   "cell_type": "markdown",
   "metadata": {
    "_uuid": "5c970f817423d1169c943568ed8e7db6444773f3"
   },
   "source": [
    "### Step 2: Define a 1's and 0's binary sparse matrix of User-movies for trning set"
   ]
  },
  {
   "cell_type": "code",
   "execution_count": 998,
   "metadata": {
    "_uuid": "271293ed40ba894cedaaa0751e395eb8674a40f6"
   },
   "outputs": [
    {
     "name": "stdout",
     "output_type": "stream",
     "text": [
      "0.564561460390921% Sparsity\n"
     ]
    }
   ],
   "source": [
    "trn_dt = csr_matrix((np.ones(len(trn)), (trn['userId'].astype(ct).cat.codes,\n",
    "                                               trn['movieId'].astype(ct).cat.codes)), \n",
    "                  shape=( len(c_usrr.categories), len(c_mv.categories)))\n",
    "print(f'{100*trn_dt.sum()/(trn_dt.shape[0]*trn_dt.shape[1])}% Sparsity')"
   ]
  },
  {
   "cell_type": "markdown",
   "metadata": {
    "_uuid": "c1e18db8cbdb958a1a83fea37d3d39e26fba14f1"
   },
   "source": [
    "### Step 3. Run the model on the training set\n",
    "\n",
    "Models were tsting:\n",
    "\n",
    "1. Cosine Similarity on movies\n",
    "\n",
    "2. Non-negative matrix factorization\n",
    "\n",
    "3. Neural Collaborative Filtering\n",
    "\n",
    "\n",
    "Evaluation:\n",
    "- Recall: % of 1s in the tst set\n",
    "- MPR: Mean Percentile Rank\n",
    "\n",
    "#### Cosine Similarity\n",
    "Doing this in bits for the tst set so that we don't run into memory issues.   For the recall measure, if the track's relative percentile is < 0.5 then its a 1"
   ]
  },
  {
   "cell_type": "code",
   "execution_count": 999,
   "metadata": {
    "_uuid": "33627fc9a962776746a9907208c1cc496c0da216",
    "scrolled": true
   },
   "outputs": [
    {
     "name": "stdout",
     "output_type": "stream",
     "text": [
      "Implementing bit : 1/30\n",
      "Implementing bit : 2/30\n",
      "Implementing bit : 3/30\n",
      "Implementing bit : 4/30\n",
      "Implementing bit : 5/30\n",
      "Implementing bit : 6/30\n",
      "Implementing bit : 7/30\n",
      "Implementing bit : 8/30\n",
      "Implementing bit : 9/30\n",
      "Implementing bit : 10/30\n",
      "Implementing bit : 11/30\n",
      "Implementing bit : 12/30\n",
      "Implementing bit : 13/30\n",
      "Implementing bit : 14/30\n",
      "Implementing bit : 15/30\n",
      "Implementing bit : 16/30\n",
      "Implementing bit : 17/30\n",
      "Implementing bit : 18/30\n",
      "Implementing bit : 19/30\n",
      "Implementing bit : 20/30\n",
      "Implementing bit : 21/30\n",
      "Implementing bit : 22/30\n",
      "Implementing bit : 23/30\n",
      "Implementing bit : 24/30\n",
      "Implementing bit : 25/30\n",
      "Implementing bit : 26/30\n",
      "Implementing bit : 27/30\n",
      "Implementing bit : 28/30\n",
      "Implementing bit : 29/30\n",
      "Implementing bit : 30/30\n",
      "MPR: 0.40586\n",
      "Model Recall rate: 0.64692\n"
     ]
    }
   ],
   "source": [
    "def cos(dt, pred):\n",
    "    \n",
    "    #Cosine similarity model to generate a matrix and determine the closest recommendation depending on the similarity matrix\n",
    "    # normalize to obtain % importance to user\n",
    "    scaled_df = dt.multiply(1/dt.sum(axis=1)).tocsr()\n",
    "    # implement model\n",
    "    #s = similarity\n",
    "    s = cosine_similarity(scaled_df.transpose())\n",
    "    s[np.diag_indices(s.shape[0])] = 0\n",
    "    denom = np.asarray(s.sum(axis=1)).reshape(-1)\n",
    "\n",
    "    # implement per bit to handle memory issues\n",
    "    user_index = pred['userId'].cat.codes.values\n",
    "    movie_index = pred['movieId'].cat.codes.values\n",
    "\n",
    "    number_of_bits = 30\n",
    "    bits = np.array_split(np.arange(scaled_df.shape[0]), number_of_bits)\n",
    "    #R = result\n",
    "    r = []\n",
    "    prev_mx = 0\n",
    "    for i,indexx in enumerate(bits):\n",
    "        print(f'Implementing bit : {i+1}/{number_of_bits}')\n",
    "        scr = (scaled_df[indexx].dot(s)) / denom\n",
    "        scr = (-scr).argsort() / denom.shape[0]\n",
    "        sl = (user_index >= indexx.min()) & (user_index <= indexx.max())\n",
    "        bit_scr = np.asarray(scr[user_index[sl] - prev_mx, movie_index[sl]]).reshape(-1)\n",
    "        r.append(bit_scr)\n",
    "        prev_mx = indexx.max() + 1\n",
    "    return np.concatenate(r)\n",
    "\n",
    "\n",
    "# Evaluate performance of the model\n",
    "Recommendations = cos(trn_dt, tstx)\n",
    "mpr_cosine_sim = Recommendations.sum()/len(tstx)\n",
    "print('MPR:', round(mpr_cosine_sim,5))\n",
    "r_cosine_sim = (Recommendations < 0.5).sum()/len(tstx)\n",
    "print('Model Recall rate:',round(r_cosine_sim, 5))"
   ]
  },
  {
   "cell_type": "markdown",
   "metadata": {},
   "source": [
    "#### Neural Collaborative Filtering"
   ]
  },
  {
   "cell_type": "code",
   "execution_count": 1000,
   "metadata": {},
   "outputs": [
    {
     "name": "stdout",
     "output_type": "stream",
     "text": [
      "((1450766,), (1450766,), (1450766,))\n"
     ]
    }
   ],
   "source": [
    "# Create the trning Set\n",
    "sample_size_with_no_links = int(len(trn)*0.2)\n",
    "n_usrs = c_usrr.categories.shape[0]\n",
    "num_of_movies = c_mv.categories.shape[0]\n",
    "# get trning set\n",
    "trnx_usrs = trn['userId'].astype(ct).cat.codes.values\n",
    "trnx_movies = trn['movieId'].astype(ct).cat.codes.values\n",
    "trn_t = np.ones(len(trnx_usrs))\n",
    "# add some negative samples\n",
    "u = np.random.randint(n_usrs, size=sample_size_with_no_links)\n",
    "i = np.random.randint(num_of_movies, size=sample_size_with_no_links)\n",
    "non_neg_indexx = np.where(trn_dt[u,i] == 0)\n",
    "trnx_usrs = np.concatenate([trnx_usrs, u[non_neg_indexx[1]]])\n",
    "trnx_movies = np.concatenate([trnx_movies, i[non_neg_indexx[1]]])\n",
    "trn_t = np.concatenate([trn_t, np.zeros(u[non_neg_indexx[1]].shape[0])])\n",
    "print((trnx_usrs.shape, trnx_movies.shape, trn_t.shape))\n",
    "\n",
    "# shuffle the data\n",
    "X = np.stack([trnx_usrs, trnx_movies, trn_t], axis=1)\n",
    "np.random.shuffle(X)"
   ]
  },
  {
   "cell_type": "markdown",
   "metadata": {},
   "source": [
    "##### Model parameters"
   ]
  },
  {
   "cell_type": "code",
   "execution_count": 1001,
   "metadata": {},
   "outputs": [],
   "source": [
    "#Output activation\n",
    "actv = 'sigmoid'\n",
    "#Intializer\n",
    "intt = 'lecun_uniform'\n",
    "#Layer name\n",
    "nem = 'prediction'\n",
    "#user input\n",
    "u_t = 'user_input'\n",
    "#item input\n",
    "i_p = 'item_input'"
   ]
  },
  {
   "cell_type": "code",
   "execution_count": 1002,
   "metadata": {},
   "outputs": [],
   "source": [
    "\n",
    "#usr_lt = user lt\n",
    "def neural_network(number_of_usrs, num_movies, ld, regs=[0,0]):\n",
    "    # model vars\n",
    "    #user_p = user input\n",
    "    usr_p = Input(shape=(1,), dtype='int64', name = u_t)\n",
    "    itm_input = Input(shape=(1,), dtype='int64', name = i_p)\n",
    "    #ld = lt dimension\n",
    "    #mbds = embeddings\n",
    "    #mbds_usrr = user embedding\n",
    "    mbds_usrr = Embedding(input_dim = number_of_usrs, output_dim = ld, name = 'user_mbds', \n",
    "                                  embeddings_regularizer = l2(regs[0]), input_length=1)\n",
    "    #mbds_itm = item emdeddings \n",
    "    mbds_itm = Embedding(input_dim = num_movies, output_dim = ld, name = 'itm_mbds',\n",
    "                                  embeddings_regularizer = l2(regs[1]), input_length=1)   \n",
    "    \n",
    "    # essential to define an embedding vector!\n",
    "    usr_lt = Flatten()(mbds_usrr(usr_p))\n",
    "    itm_lt = Flatten()(mbds_itm(itm_input))\n",
    "    \n",
    "    # user-itm embedding productper element\n",
    "    prdvec = merge.Multiply()([usr_lt, itm_lt])\n",
    "    \n",
    "    # Final prd layer\n",
    "    prd = Dense(1, activation=actv, kernel_initializer=intt, name = nem)(prdvec)\n",
    "    #retutn md = model\n",
    "    md = Model(inputs=[usr_p, itm_input], outputs=prd)\n",
    "    \n",
    "    return md\n",
    "\n",
    "# create the recall function\n",
    "def rc(y_rl, y_p):\n",
    "    tp = Q.sum(Q.round(Q.clip(y_rl * y_p, 0, 1)))\n",
    "    pos_pt = Q.sum(Q.round(Q.clip(y_rl, 0, 1)))\n",
    "    rc = tp / (pos_pt + Q.epsilon())\n",
    "    return rc\n",
    "\n",
    "mdl = neural_network(n_usrs, num_of_movies, 50, regs = [0,0])"
   ]
  },
  {
   "cell_type": "code",
   "execution_count": 1003,
   "metadata": {},
   "outputs": [
    {
     "name": "stdout",
     "output_type": "stream",
     "text": [
      "Model: \"model_22\"\n",
      "__________________________________________________________________________________________________\n",
      "Layer (type)                    Output Shape         Param #     Connected to                     \n",
      "==================================================================================================\n",
      "user_input (InputLayer)         [(None, 1)]          0                                            \n",
      "__________________________________________________________________________________________________\n",
      "item_input (InputLayer)         [(None, 1)]          0                                            \n",
      "__________________________________________________________________________________________________\n",
      "user_mbds (Embedding)           (None, 1, 50)        36800       user_input[0][0]                 \n",
      "__________________________________________________________________________________________________\n",
      "itm_mbds (Embedding)            (None, 1, 50)        78050       item_input[0][0]                 \n",
      "__________________________________________________________________________________________________\n",
      "flatten_44 (Flatten)            (None, 50)           0           user_mbds[0][0]                  \n",
      "__________________________________________________________________________________________________\n",
      "flatten_45 (Flatten)            (None, 50)           0           itm_mbds[0][0]                   \n",
      "__________________________________________________________________________________________________\n",
      "multiply_22 (Multiply)          (None, 50)           0           flatten_44[0][0]                 \n",
      "                                                                 flatten_45[0][0]                 \n",
      "__________________________________________________________________________________________________\n",
      "prediction (Dense)              (None, 1)            51          multiply_22[0][0]                \n",
      "==================================================================================================\n",
      "Total params: 114,901\n",
      "Trainable params: 114,901\n",
      "Non-trainable params: 0\n",
      "__________________________________________________________________________________________________\n"
     ]
    }
   ],
   "source": [
    "model.summary()"
   ]
  },
  {
   "cell_type": "code",
   "execution_count": 1004,
   "metadata": {},
   "outputs": [
    {
     "data": {
      "image/png": "[encoded data removed]",
      "text/plain": [
       "<IPython.core.display.Image object>"
      ]
     },
     "execution_count": 1004,
     "metadata": {},
     "output_type": "execute_result"
    }
   ],
   "source": [
    "from keras.utils.vis_utils import plot_model\n",
    "plot_model(model, to_file='model_plot.png', show_shapes=True, show_layer_names=True)"
   ]
  },
  {
   "cell_type": "code",
   "execution_count": 1005,
   "metadata": {},
   "outputs": [],
   "source": [
    "#Output activation\n",
    "actv = 'sigmoid'\n",
    "#Intializer\n",
    "intt = 'lecun_uniform'\n",
    "#Layer name\n",
    "nem = 'prediction'\n",
    "#user input\n",
    "u_t = 'user_input'\n",
    "#item input\n",
    "i_p = 'item_input'"
   ]
  },
  {
   "cell_type": "code",
   "execution_count": 1006,
   "metadata": {},
   "outputs": [],
   "source": [
    "\n",
    "\n",
    "#usr_lt = user lt\n",
    "def neural_network(number_of_usrs, num_movies, ld, regs=[0,0]):\n",
    "    # model vars\n",
    "    #user_p = user input\n",
    "    usr_p = Input(shape=(1,), dtype='int64', name = u_t)\n",
    "    itm_input = Input(shape=(1,), dtype='int64', name = i_p)\n",
    "    #ld = lt dimension\n",
    "    #mbds = embeddings\n",
    "    #mbds_usrr = user embedding\n",
    "    mbds_usrr = Embedding(input_dim = number_of_usrs, output_dim = ld, name = 'user_mbds', \n",
    "                                  embeddings_regularizer = l2(regs[0]), input_length=1)\n",
    "    #mbds_itm = item emdeddings \n",
    "    mbds_itm = Embedding(input_dim = num_movies, output_dim = ld, name = 'itm_mbds',\n",
    "                                  embeddings_regularizer = l2(regs[1]), input_length=1)   \n",
    "    \n",
    "    # essential to define an embedding vector!\n",
    "    usr_lt = Flatten()(mbds_usrr(usr_p))\n",
    "    itm_lt = Flatten()(mbds_itm(itm_input))\n",
    "    \n",
    "    # user-itm embedding productper element\n",
    "    prdvec = merge.Multiply()([usr_lt, itm_lt])\n",
    "    \n",
    "    # Final prd layer\n",
    "    prd = Dense(1, activation=actv, kernel_initializer=intt, name = nem)(prdvec)\n",
    "    #retutn md = model\n",
    "    md = Model(inputs=[usr_p, itm_input], outputs=prd)\n",
    "    \n",
    "    return md\n",
    "\n",
    "\n",
    "# create the model\n",
    "def rc(yt, yp):\n",
    "    tp = K.sum(K.round(K.clip(yt * yp, 0, 1)))\n",
    "    pos_pt = K.sum(K.round(K.clip(yt, 0, 1)))\n",
    "    recall = tp / (pos_pt + K.epsilon())\n",
    "    return recall\n",
    "\n",
    "mdl = neural_network(n_usrs, num_of_movies, 50, regs = [0,0])\n",
    "\n",
    "mdl.compile(optimizer=RMSprop(lr=0.001), metrics = ['accuracy', rc],  loss='binary_crossentropy')"
   ]
  },
  {
   "cell_type": "code",
   "execution_count": 1007,
   "metadata": {},
   "outputs": [
    {
     "name": "stdout",
     "output_type": "stream",
     "text": [
      "Epoch 1/20\n",
      "9/9 [==============================] - 4s 295ms/step - loss: 0.6904 - accuracy: 0.7961 - rc: 0.9446 - val_loss: 0.6878 - val_accuracy: 0.8329 - val_rc: 1.0000\n",
      "Epoch 2/20\n",
      "9/9 [==============================] - 2s 274ms/step - loss: 0.6863 - accuracy: 0.8342 - rc: 1.0000 - val_loss: 0.6845 - val_accuracy: 0.8329 - val_rc: 1.0000\n",
      "Epoch 3/20\n",
      "9/9 [==============================] - 3s 281ms/step - loss: 0.6830 - accuracy: 0.8342 - rc: 1.0000 - val_loss: 0.6814 - val_accuracy: 0.8329 - val_rc: 1.0000\n",
      "Epoch 4/20\n",
      "9/9 [==============================] - 3s 285ms/step - loss: 0.6800 - accuracy: 0.8342 - rc: 1.0000 - val_loss: 0.6783 - val_accuracy: 0.8329 - val_rc: 1.0000\n",
      "Epoch 00004: early stopping\n",
      "6/6 [==============================] - 0s 33ms/step - loss: 0.6709 - accuracy: 1.0000 - rc: 1.0000\n",
      "tst Loss: 0.6709162592887878   |   tst Recall: 1.0\n"
     ]
    }
   ],
   "source": [
    "# trn the Model\n",
    "early_stop = EarlyStopping(monitor='val_loss', min_delta=0.01, patience=3, verbose=1)\n",
    "h =  mdl.fit([X[:,0], X[:,1]], X[:,2], batch_size=150000, epochs=20, validation_split = 0.1, verbose=1, callbacks = [early_stop])\n",
    "score = mdl.evaluate([tstx['userId'].cat.codes.values, tstx['movieId'].cat.codes.values], np.ones(tstx.shape[0]), verbose=1, batch_size=100000)\n",
    "print(f'tst Loss: {score[0]}   |   tst Recall: {score[1]}')"
   ]
  },
  {
   "cell_type": "code",
   "execution_count": null,
   "metadata": {},
   "outputs": [],
   "source": []
  },
  {
   "cell_type": "code",
   "execution_count": 1008,
   "metadata": {},
   "outputs": [
    {
     "data": {
      "image/png": "[encoded data removed]",
      "text/plain": [
       "<Figure size 1152x288 with 2 Axes>"
      ]
     },
     "metadata": {
      "needs_background": "light"
     },
     "output_type": "display_data"
    }
   ],
   "source": [
    "# Plot it\n",
    "import matplotlib.pyplot as p\n",
    "fig, (axis1,axis2) = p.subplots(1,2, figsize=(16,4))\n",
    "axis1.plot(h.history['loss'])\n",
    "axis1.plot(h.history['val_loss'])\n",
    "axis1.set_title('Loss')\n",
    "axis1.legend(['trn', 'tst'], loc='upper left')\n",
    "axis2.plot(h.history['rc'])\n",
    "axis2.plot(h.history['val_rc'])\n",
    "axis2.set_title('Model Recall Per Epoch')\n",
    "axis2.legend(['trn', 'tst'], loc='upper left')\n",
    "p.show()"
   ]
  },
  {
   "cell_type": "code",
   "execution_count": 1010,
   "metadata": {},
   "outputs": [
    {
     "name": "stdout",
     "output_type": "stream",
     "text": [
      "Implementing bit : 1/10\n",
      "429/429 [==============================] - 11s 22ms/step\n",
      "Implementing bit : 2/10\n",
      "429/429 [==============================] - 9s 21ms/step\n",
      "Implementing bit : 3/10\n",
      "429/429 [==============================] - 11s 24ms/step\n",
      "Implementing bit : 4/10\n",
      "429/429 [==============================] - 12s 27ms/step\n",
      "Implementing bit : 5/10\n",
      "429/429 [==============================] - 9s 21ms/step\n",
      "Implementing bit : 6/10\n",
      "429/429 [==============================] - 9s 20ms/step\n",
      "Implementing bit : 7/10\n",
      "429/429 [==============================] - 9s 18ms/step\n",
      "Implementing bit : 8/10\n",
      "429/429 [==============================] - 9s 21ms/step\n",
      "Implementing bit : 9/10\n",
      "429/429 [==============================] - 9s 20ms/step\n",
      "Implementing bit : 10/10\n",
      "429/429 [==============================] - 9s 20ms/step\n",
      "N_C_F MPR: 0.49186\n",
      "N_C_F Model Recall rate: 0.51326\n"
     ]
    }
   ],
   "source": [
    "\n",
    "# compute MPR\n",
    "# we implement per bit to handle memory issues\n",
    "user_index = tstx['userId'].cat.codes.values\n",
    "movie_index = tstx['movieId'].cat.codes.values\n",
    "number_of_bits = 10\n",
    "bits = np.array_split(np.arange(n_usrs), number_of_bits)\n",
    "rs = []\n",
    "prev_mx = 0\n",
    "for i,indexx in enumerate(bits):\n",
    "    print(f'Implementing bit : {i+1}/{number_of_bits}')\n",
    "    cross_mvId = np.transpose([np.tile(np.arange(num_of_movies), len(indexx)), np.repeat(indexx, len(np.arange(num_of_movies)))])\n",
    "    score = mdl.predict([cross_mvId[:,1], cross_mvId[:,0]], batch_size=50000, verbose=1).reshape(indexx.shape[0], num_of_movies)\n",
    "    score = (-score).argsort() / score.shape[1]\n",
    "    sl = (user_index >= indexx.min()) & (user_index <= indexx.max())\n",
    "    bit_score = np.asarray(score[user_index[sl] - prev_mx, movie_index[sl]]).reshape(-1)\n",
    "    rs.append(bit_score)\n",
    "    prev_mx = indexx.max() + 1\n",
    "mpr_N_C_F = np.concatenate(rs).sum()/len(tstx)\n",
    "print(f'N_C_F MPR: {mpr_N_C_F:.5f}')\n",
    "rc_deep_reac = (np.concatenate(rs) < 0.5).sum()/len(tstx)\n",
    "print(f'N_C_F Model Recall rate: {rc_deep_reac:.5f}')"
   ]
  },
  {
   "cell_type": "code",
   "execution_count": 1011,
   "metadata": {},
   "outputs": [
    {
     "data": {
      "text/html": [
       "<div>\n",
       "<style scoped>\n",
       "    .dataframe tbody tr th:only-of-type {\n",
       "        vertical-align: middle;\n",
       "    }\n",
       "\n",
       "    .dataframe tbody tr th {\n",
       "        vertical-align: top;\n",
       "    }\n",
       "\n",
       "    .dataframe thead th {\n",
       "        text-align: right;\n",
       "    }\n",
       "</style>\n",
       "<table border=\"1\" class=\"dataframe\">\n",
       "  <thead>\n",
       "    <tr style=\"text-align: right;\">\n",
       "      <th></th>\n",
       "      <th>userId</th>\n",
       "      <th>Recommended movieId</th>\n",
       "    </tr>\n",
       "  </thead>\n",
       "  <tbody>\n",
       "    <tr>\n",
       "      <th>676471</th>\n",
       "      <td>3</td>\n",
       "      <td>1276</td>\n",
       "    </tr>\n",
       "    <tr>\n",
       "      <th>158401</th>\n",
       "      <td>4</td>\n",
       "      <td>231</td>\n",
       "    </tr>\n",
       "    <tr>\n",
       "      <th>330433</th>\n",
       "      <td>4</td>\n",
       "      <td>410</td>\n",
       "    </tr>\n",
       "    <tr>\n",
       "      <th>633980</th>\n",
       "      <td>5</td>\n",
       "      <td>1225</td>\n",
       "    </tr>\n",
       "    <tr>\n",
       "      <th>260428</th>\n",
       "      <td>5</td>\n",
       "      <td>321</td>\n",
       "    </tr>\n",
       "    <tr>\n",
       "      <th>268965</th>\n",
       "      <td>5</td>\n",
       "      <td>334</td>\n",
       "    </tr>\n",
       "    <tr>\n",
       "      <th>85523</th>\n",
       "      <td>5</td>\n",
       "      <td>141</td>\n",
       "    </tr>\n",
       "    <tr>\n",
       "      <th>625960</th>\n",
       "      <td>5</td>\n",
       "      <td>1207</td>\n",
       "    </tr>\n",
       "    <tr>\n",
       "      <th>1540100</th>\n",
       "      <td>7</td>\n",
       "      <td>5292</td>\n",
       "    </tr>\n",
       "    <tr>\n",
       "      <th>630097</th>\n",
       "      <td>7</td>\n",
       "      <td>1207</td>\n",
       "    </tr>\n",
       "  </tbody>\n",
       "</table>\n",
       "</div>"
      ],
      "text/plain": [
       "        userId Recommended movieId\n",
       "676471       3                1276\n",
       "158401       4                 231\n",
       "330433       4                 410\n",
       "633980       5                1225\n",
       "260428       5                 321\n",
       "268965       5                 334\n",
       "85523        5                 141\n",
       "625960       5                1207\n",
       "1540100      7                5292\n",
       "630097       7                1207"
      ]
     },
     "execution_count": 1011,
     "metadata": {},
     "output_type": "execute_result"
    }
   ],
   "source": [
    "#Make movie predictions using the deep learning model\n",
    "tst_pred['score'] = list(np.concatenate(rs))\n",
    "#Select the top 5 movieIds to recommend to a user\n",
    "tsf = tst_pred.sort_values(['score'],ascending=False).groupby('userId').head(5)\n",
    "tsf1 = tsf.sort_values('userId')\n",
    "tsf1 = tsf1[['userId', 'movieId']]\n",
    "tsf1.columns = ['userId', 'Recommended movieId']\n",
    "tsf1.head(10)"
   ]
  },
  {
   "cell_type": "markdown",
   "metadata": {},
   "source": [
    "#### Non-Negative Matrix Factorization"
   ]
  },
  {
   "cell_type": "code",
   "execution_count": 1012,
   "metadata": {},
   "outputs": [
    {
     "name": "stdout",
     "output_type": "stream",
     "text": [
      "Implementing bit : 1/30\n",
      "Implementing bit : 2/30\n",
      "Implementing bit : 3/30\n",
      "Implementing bit : 4/30\n",
      "Implementing bit : 5/30\n",
      "Implementing bit : 6/30\n",
      "Implementing bit : 7/30\n",
      "Implementing bit : 8/30\n",
      "Implementing bit : 9/30\n",
      "Implementing bit : 10/30\n",
      "Implementing bit : 11/30\n",
      "Implementing bit : 12/30\n",
      "Implementing bit : 13/30\n",
      "Implementing bit : 14/30\n",
      "Implementing bit : 15/30\n",
      "Implementing bit : 16/30\n",
      "Implementing bit : 17/30\n",
      "Implementing bit : 18/30\n",
      "Implementing bit : 19/30\n",
      "Implementing bit : 20/30\n",
      "Implementing bit : 21/30\n",
      "Implementing bit : 22/30\n",
      "Implementing bit : 23/30\n",
      "Implementing bit : 24/30\n",
      "Implementing bit : 25/30\n",
      "Implementing bit : 26/30\n",
      "Implementing bit : 27/30\n",
      "Implementing bit : 28/30\n",
      "Implementing bit : 29/30\n",
      "Implementing bit : 30/30\n",
      "NMF MPR 0.37234\n",
      "mdl Recall rate 0.69477\n"
     ]
    }
   ],
   "source": [
    "def nmf(dt, prd,mdl):\n",
    "    # normalize to obtain % significance to user\n",
    "    scaled_df = dt.multiply(1/dt.sum(axis=1)).tocsr()\n",
    "    S = mdl.fit_transform(scaled_df)\n",
    "    K = mdl.components_\n",
    "\n",
    "    # implement per bit to handle memory issues\n",
    "    user_index = prd['userId'].cat.codes.values\n",
    "    movie_index = prd['movieId'].cat.codes.values\n",
    "    number_of_bits = 30\n",
    "    bits = np.array_split(np.arange(S.shape[0]), number_of_bits)\n",
    "    #r = Results\n",
    "    r = []\n",
    "    prev_mx = 0\n",
    "    for i,indexx in enumerate(bits):\n",
    "        print(f'Implementing bit : {i+1}/{number_of_bits}')\n",
    "        scr = (S[indexx].dot(K))\n",
    "        scr = (-scr).argsort() / scr.shape[1]\n",
    "        sel = (user_index >= indexx.min()) & (user_index <= indexx.max())\n",
    "        bit_scr = np.asarray(scr[user_index[sel] - prev_mx, movie_index[sel]]).reshape(-1)\n",
    "        r.append(bit_scr)\n",
    "        prev_mx = indexx.max() + 1\n",
    "    return np.concatenate(r)\n",
    "\n",
    "Kk = 2\n",
    "\n",
    "# NMF\n",
    "#NNDSVD to handle sparsity\n",
    "mdl_nmf = NMF(n_components = Kk, init = 'nndsvd', max_iter = 1000, tol = 0.1, random_state = 1)\n",
    "Recommendations1 = nmf(trn_dt, tstx, mdl_nmf)\n",
    "mpr_Non_Negative_Matrix_Factorization = Recommendations1.sum()/len(tstx)\n",
    "print(f'NMF MPR', round(mpr_Non_Negative_Matrix_Factorization,5))\n",
    "rec_Non_Negative_Matrix_Factorization = (Recommendations1 < 0.5).sum()/len(tstx)\n",
    "print('mdl Recall rate', round(rec_Non_Negative_Matrix_Factorization,5))"
   ]
  },
  {
   "cell_type": "markdown",
   "metadata": {},
   "source": [
    "# \"Learning from sets data 2019\" DATA:\n",
    "\n",
    ">Source: https://grouplens.org/datasets/learning-from-sets-of-movies-2019/"
   ]
  },
  {
   "cell_type": "code",
   "execution_count": 1013,
   "metadata": {},
   "outputs": [],
   "source": [
    "# Reading scores file\n",
    "movie_scs = pd.read_csv('learning-from-sets-2019/item_ratings.csv',\n",
    "                      names=['userId', 'movieId', 'rating', 'timestamp']\n",
    "                      ).sort_values(\"timestamp\")\n",
    "#Drop r that have nonnumeric movie ID\n",
    "movie_scs = movie_scs[movie_scs.movieId.str.isnumeric().isnull()]\n",
    "#Convert data types for movieId and rating\n",
    "movie_scs['movieId'] = pd.to_numeric(movie_scs.movieId)\n",
    "movie_scs['rating'] = pd.to_numeric(movie_scs.rating)\n",
    "\n",
    "# Reading movies file\n",
    "movie_1 = pd.read_csv('learning-from-sets-2019/set_ratings.csv')"
   ]
  },
  {
   "cell_type": "code",
   "execution_count": 1014,
   "metadata": {},
   "outputs": [],
   "source": [
    "ct = 'category' #Define global category descriptor\n",
    "usrs = np.sort(scores.userId.unique()).tolist() # Get the unique customers\n",
    "mvs = list(scores.movieId.unique()) # Get the unique products that were watched\n",
    "rtng = list(scores.rating) # All of the watch history\n",
    "r = scores.userId.astype(ct, usrs).cat.codes\n",
    "# pull row indices\n",
    "cols = scores.movieId.astype(ct, mvs).cat.codes\n",
    "# pull column indices\n",
    "usr_itm = sps.csr_matrix((rtng, (r, cols)), shape=(len(usrs), len(mvs)))\n",
    "mtrx_sz = usr_itm.shape[0]*usr_itm.shape[1] # Total possible links\n",
    "times_watched = len(usr_itm.nonzero()[0]) # Number of mvs interacted with\n",
    "#sparsity\n",
    "sprs = 100*(1 - (1.0*times_watched/mtrx_sz))"
   ]
  },
  {
   "cell_type": "code",
   "execution_count": 1015,
   "metadata": {},
   "outputs": [
    {
     "data": {
      "text/html": [
       "<div>\n",
       "<style scoped>\n",
       "    .dataframe tbody tr th:only-of-type {\n",
       "        vertical-align: middle;\n",
       "    }\n",
       "\n",
       "    .dataframe tbody tr th {\n",
       "        vertical-align: top;\n",
       "    }\n",
       "\n",
       "    .dataframe thead th {\n",
       "        text-align: right;\n",
       "    }\n",
       "</style>\n",
       "<table border=\"1\" class=\"dataframe\">\n",
       "  <thead>\n",
       "    <tr style=\"text-align: right;\">\n",
       "      <th></th>\n",
       "      <th>userId</th>\n",
       "      <th>movieId</th>\n",
       "      <th>rating</th>\n",
       "      <th>timestamp</th>\n",
       "    </tr>\n",
       "  </thead>\n",
       "  <tbody>\n",
       "    <tr>\n",
       "      <th>131258</th>\n",
       "      <td>1861f05e46</td>\n",
       "      <td>2001</td>\n",
       "      <td>3.5</td>\n",
       "      <td>2005-03-29 16:19:32</td>\n",
       "    </tr>\n",
       "    <tr>\n",
       "      <th>131132</th>\n",
       "      <td>1861f05e46</td>\n",
       "      <td>1250</td>\n",
       "      <td>3.5</td>\n",
       "      <td>2005-03-29 16:20:20</td>\n",
       "    </tr>\n",
       "    <tr>\n",
       "      <th>131105</th>\n",
       "      <td>1861f05e46</td>\n",
       "      <td>1204</td>\n",
       "      <td>3.5</td>\n",
       "      <td>2005-03-29 16:20:33</td>\n",
       "    </tr>\n",
       "    <tr>\n",
       "      <th>131235</th>\n",
       "      <td>1861f05e46</td>\n",
       "      <td>1876</td>\n",
       "      <td>3.0</td>\n",
       "      <td>2005-03-29 16:21:37</td>\n",
       "    </tr>\n",
       "    <tr>\n",
       "      <th>131600</th>\n",
       "      <td>1861f05e46</td>\n",
       "      <td>4886</td>\n",
       "      <td>5.0</td>\n",
       "      <td>2005-03-29 16:21:41</td>\n",
       "    </tr>\n",
       "  </tbody>\n",
       "</table>\n",
       "</div>"
      ],
      "text/plain": [
       "            userId  movieId  rating            timestamp\n",
       "131258  1861f05e46     2001     3.5  2005-03-29 16:19:32\n",
       "131132  1861f05e46     1250     3.5  2005-03-29 16:20:20\n",
       "131105  1861f05e46     1204     3.5  2005-03-29 16:20:33\n",
       "131235  1861f05e46     1876     3.0  2005-03-29 16:21:37\n",
       "131600  1861f05e46     4886     5.0  2005-03-29 16:21:41"
      ]
     },
     "execution_count": 1015,
     "metadata": {},
     "output_type": "execute_result"
    }
   ],
   "source": [
    "movie_scs.head()"
   ]
  },
  {
   "cell_type": "code",
   "execution_count": 1016,
   "metadata": {},
   "outputs": [
    {
     "name": "stdout",
     "output_type": "stream",
     "text": [
      "10000054 links\n",
      "10677 movies\n",
      "69878 Users\n"
     ]
    }
   ],
   "source": [
    "print(times_watched, 'links')\n",
    "\n",
    "print(len(mvs), 'movies')\n",
    "\n",
    "print(len(usrs), 'Users')"
   ]
  },
  {
   "cell_type": "markdown",
   "metadata": {},
   "source": [
    "## Exploratory Data Analysis(EDA)"
   ]
  },
  {
   "cell_type": "code",
   "execution_count": 1017,
   "metadata": {},
   "outputs": [],
   "source": [
    "X = movie_scs[['userId', 'movieId',]]\n",
    "y = movie_scs['rating']\n",
    "X_trn, X_tst, y_trn, y_tst = train_test_split(X, y, test_size=0.3, random_state=42)"
   ]
  },
  {
   "cell_type": "code",
   "execution_count": 1018,
   "metadata": {},
   "outputs": [
    {
     "data": {
      "text/html": [
       "<div>\n",
       "<style scoped>\n",
       "    .dataframe tbody tr th:only-of-type {\n",
       "        vertical-align: middle;\n",
       "    }\n",
       "\n",
       "    .dataframe tbody tr th {\n",
       "        vertical-align: top;\n",
       "    }\n",
       "\n",
       "    .dataframe thead th {\n",
       "        text-align: right;\n",
       "    }\n",
       "</style>\n",
       "<table border=\"1\" class=\"dataframe\">\n",
       "  <thead>\n",
       "    <tr style=\"text-align: right;\">\n",
       "      <th></th>\n",
       "      <th>movieId</th>\n",
       "      <th>title</th>\n",
       "      <th>genres</th>\n",
       "      <th>userId</th>\n",
       "      <th>rating</th>\n",
       "      <th>timestamp</th>\n",
       "    </tr>\n",
       "  </thead>\n",
       "  <tbody>\n",
       "    <tr>\n",
       "      <th>48035</th>\n",
       "      <td>5</td>\n",
       "      <td>Father of the Bride Part II (1995)</td>\n",
       "      <td>Comedy</td>\n",
       "      <td>36008</td>\n",
       "      <td>2.0</td>\n",
       "      <td>823185224</td>\n",
       "    </tr>\n",
       "    <tr>\n",
       "      <th>48036</th>\n",
       "      <td>5</td>\n",
       "      <td>Father of the Bride Part II (1995)</td>\n",
       "      <td>Comedy</td>\n",
       "      <td>36304</td>\n",
       "      <td>4.0</td>\n",
       "      <td>823264601</td>\n",
       "    </tr>\n",
       "    <tr>\n",
       "      <th>48037</th>\n",
       "      <td>5</td>\n",
       "      <td>Father of the Bride Part II (1995)</td>\n",
       "      <td>Comedy</td>\n",
       "      <td>38104</td>\n",
       "      <td>4.0</td>\n",
       "      <td>825006881</td>\n",
       "    </tr>\n",
       "    <tr>\n",
       "      <th>48038</th>\n",
       "      <td>5</td>\n",
       "      <td>Father of the Bride Part II (1995)</td>\n",
       "      <td>Comedy</td>\n",
       "      <td>38206</td>\n",
       "      <td>2.0</td>\n",
       "      <td>825009968</td>\n",
       "    </tr>\n",
       "    <tr>\n",
       "      <th>48039</th>\n",
       "      <td>5</td>\n",
       "      <td>Father of the Bride Part II (1995)</td>\n",
       "      <td>Comedy</td>\n",
       "      <td>38326</td>\n",
       "      <td>4.0</td>\n",
       "      <td>825080156</td>\n",
       "    </tr>\n",
       "  </tbody>\n",
       "</table>\n",
       "</div>"
      ],
      "text/plain": [
       "       movieId                               title  genres  userId  rating  \\\n",
       "48035        5  Father of the Bride Part II (1995)  Comedy   36008     2.0   \n",
       "48036        5  Father of the Bride Part II (1995)  Comedy   36304     4.0   \n",
       "48037        5  Father of the Bride Part II (1995)  Comedy   38104     4.0   \n",
       "48038        5  Father of the Bride Part II (1995)  Comedy   38206     2.0   \n",
       "48039        5  Father of the Bride Part II (1995)  Comedy   38326     4.0   \n",
       "\n",
       "       timestamp  \n",
       "48035  823185224  \n",
       "48036  823264601  \n",
       "48037  825006881  \n",
       "48038  825009968  \n",
       "48039  825080156  "
      ]
     },
     "execution_count": 1018,
     "metadata": {},
     "output_type": "execute_result"
    }
   ],
   "source": [
    "dfmvs.head(5)"
   ]
  },
  {
   "cell_type": "markdown",
   "metadata": {},
   "source": [
    "### Distribution of users rating"
   ]
  },
  {
   "cell_type": "code",
   "execution_count": 1019,
   "metadata": {},
   "outputs": [
    {
     "data": {
      "image/png": "[encoded data removed]",
      "text/plain": [
       "<Figure size 864x504 with 1 Axes>"
      ]
     },
     "metadata": {
      "needs_background": "light"
     },
     "output_type": "display_data"
    }
   ],
   "source": [
    "p.figure(figsize=(12,7))\n",
    "sns.kdeplot(movie_scs[\"rating\"], color = 'steelblue');\n",
    "p.title('Distribution of movie scores')\n",
    "p.grid()\n",
    "p.show()"
   ]
  },
  {
   "cell_type": "code",
   "execution_count": 1020,
   "metadata": {},
   "outputs": [
    {
     "data": {
      "text/html": [
       "<div>\n",
       "<style scoped>\n",
       "    .dataframe tbody tr th:only-of-type {\n",
       "        vertical-align: middle;\n",
       "    }\n",
       "\n",
       "    .dataframe tbody tr th {\n",
       "        vertical-align: top;\n",
       "    }\n",
       "\n",
       "    .dataframe thead th {\n",
       "        text-align: right;\n",
       "    }\n",
       "</style>\n",
       "<table border=\"1\" class=\"dataframe\">\n",
       "  <thead>\n",
       "    <tr style=\"text-align: right;\">\n",
       "      <th></th>\n",
       "      <th>userId</th>\n",
       "      <th>movieId</th>\n",
       "      <th>rating</th>\n",
       "      <th>timestamp</th>\n",
       "    </tr>\n",
       "  </thead>\n",
       "  <tbody>\n",
       "    <tr>\n",
       "      <th>131258</th>\n",
       "      <td>1861f05e46</td>\n",
       "      <td>2001</td>\n",
       "      <td>3.5</td>\n",
       "      <td>2005-03-29 16:19:32</td>\n",
       "    </tr>\n",
       "    <tr>\n",
       "      <th>131132</th>\n",
       "      <td>1861f05e46</td>\n",
       "      <td>1250</td>\n",
       "      <td>3.5</td>\n",
       "      <td>2005-03-29 16:20:20</td>\n",
       "    </tr>\n",
       "    <tr>\n",
       "      <th>131105</th>\n",
       "      <td>1861f05e46</td>\n",
       "      <td>1204</td>\n",
       "      <td>3.5</td>\n",
       "      <td>2005-03-29 16:20:33</td>\n",
       "    </tr>\n",
       "    <tr>\n",
       "      <th>131235</th>\n",
       "      <td>1861f05e46</td>\n",
       "      <td>1876</td>\n",
       "      <td>3.0</td>\n",
       "      <td>2005-03-29 16:21:37</td>\n",
       "    </tr>\n",
       "    <tr>\n",
       "      <th>131600</th>\n",
       "      <td>1861f05e46</td>\n",
       "      <td>4886</td>\n",
       "      <td>5.0</td>\n",
       "      <td>2005-03-29 16:21:41</td>\n",
       "    </tr>\n",
       "  </tbody>\n",
       "</table>\n",
       "</div>"
      ],
      "text/plain": [
       "            userId  movieId  rating            timestamp\n",
       "131258  1861f05e46     2001     3.5  2005-03-29 16:19:32\n",
       "131132  1861f05e46     1250     3.5  2005-03-29 16:20:20\n",
       "131105  1861f05e46     1204     3.5  2005-03-29 16:20:33\n",
       "131235  1861f05e46     1876     3.0  2005-03-29 16:21:37\n",
       "131600  1861f05e46     4886     5.0  2005-03-29 16:21:41"
      ]
     },
     "execution_count": 1020,
     "metadata": {},
     "output_type": "execute_result"
    }
   ],
   "source": [
    "df_rtngs = dfmvs = movie_scs\n",
    "df_rtngs.head(5)"
   ]
  },
  {
   "cell_type": "code",
   "execution_count": 1021,
   "metadata": {},
   "outputs": [
    {
     "name": "stdout",
     "output_type": "stream",
     "text": [
      "Shape of the dataframes: \n",
      " Rating DataFrame: (327899, 4)\n",
      " Movies DataFrame(327899, 4)\n"
     ]
    }
   ],
   "source": [
    "print(\"Shape of the dataframes: \\n\"+ \" Rating DataFrame: \"+ str(df_rtngs.shape)+\"\\n Movies DataFrame\"+ str(dfmvs.shape))"
   ]
  },
  {
   "cell_type": "code",
   "execution_count": 1022,
   "metadata": {},
   "outputs": [],
   "source": [
    "scores_grouped_by_usrs = movie_scs.groupby('userId').agg([np.size, np.mean])"
   ]
  },
  {
   "cell_type": "code",
   "execution_count": 1023,
   "metadata": {},
   "outputs": [
    {
     "data": {
      "text/html": [
       "<div>\n",
       "<style scoped>\n",
       "    .dataframe tbody tr th:only-of-type {\n",
       "        vertical-align: middle;\n",
       "    }\n",
       "\n",
       "    .dataframe tbody tr th {\n",
       "        vertical-align: top;\n",
       "    }\n",
       "\n",
       "    .dataframe thead tr th {\n",
       "        text-align: left;\n",
       "    }\n",
       "\n",
       "    .dataframe thead tr:last-of-type th {\n",
       "        text-align: right;\n",
       "    }\n",
       "</style>\n",
       "<table border=\"1\" class=\"dataframe\">\n",
       "  <thead>\n",
       "    <tr>\n",
       "      <th></th>\n",
       "      <th colspan=\"2\" halign=\"left\">movieId</th>\n",
       "      <th colspan=\"2\" halign=\"left\">rating</th>\n",
       "    </tr>\n",
       "    <tr>\n",
       "      <th></th>\n",
       "      <th>size</th>\n",
       "      <th>mean</th>\n",
       "      <th>size</th>\n",
       "      <th>mean</th>\n",
       "    </tr>\n",
       "    <tr>\n",
       "      <th>userId</th>\n",
       "      <th></th>\n",
       "      <th></th>\n",
       "      <th></th>\n",
       "      <th></th>\n",
       "    </tr>\n",
       "  </thead>\n",
       "  <tbody>\n",
       "    <tr>\n",
       "      <th>0011a9baea</th>\n",
       "      <td>172</td>\n",
       "      <td>53528.569767</td>\n",
       "      <td>172.0</td>\n",
       "      <td>4.151163</td>\n",
       "    </tr>\n",
       "    <tr>\n",
       "      <th>00be0326d6</th>\n",
       "      <td>277</td>\n",
       "      <td>34154.996390</td>\n",
       "      <td>277.0</td>\n",
       "      <td>2.444043</td>\n",
       "    </tr>\n",
       "  </tbody>\n",
       "</table>\n",
       "</div>"
      ],
      "text/plain": [
       "           movieId               rating          \n",
       "              size          mean   size      mean\n",
       "userId                                           \n",
       "0011a9baea     172  53528.569767  172.0  4.151163\n",
       "00be0326d6     277  34154.996390  277.0  2.444043"
      ]
     },
     "execution_count": 1023,
     "metadata": {},
     "output_type": "execute_result"
    }
   ],
   "source": [
    "scores_grouped_by_usrs.head(2)"
   ]
  },
  {
   "cell_type": "code",
   "execution_count": 1024,
   "metadata": {},
   "outputs": [
    {
     "data": {
      "text/plain": [
       "(10000054, 5)"
      ]
     },
     "execution_count": 1024,
     "metadata": {},
     "output_type": "execute_result"
    }
   ],
   "source": [
    "#get shape of the resulting data\n",
    "combine_mv_scs.shape"
   ]
  },
  {
   "cell_type": "markdown",
   "metadata": {},
   "source": [
    "Grouping the rating based on user"
   ]
  },
  {
   "cell_type": "code",
   "execution_count": null,
   "metadata": {},
   "outputs": [],
   "source": []
  },
  {
   "cell_type": "markdown",
   "metadata": {},
   "source": [
    "### Top 10 users who have rated most of the movies"
   ]
  },
  {
   "cell_type": "code",
   "execution_count": 1025,
   "metadata": {},
   "outputs": [
    {
     "data": {
      "image/png": "[encoded data removed]",
      "text/plain": [
       "<Figure size 792x432 with 1 Axes>"
      ]
     },
     "metadata": {
      "needs_background": "light"
     },
     "output_type": "display_data"
    }
   ],
   "source": [
    "#plot the top 10 movies\n",
    "scores_grouped_by_usrs['rating']['size'].sort_values(ascending=False).head(10).plot(kind = 'bar', figsize = (11,6))\n",
    "p.title('Top 10 movie reviews (users with most scores)')\n",
    "p.grid()\n",
    "p.show()"
   ]
  },
  {
   "cell_type": "code",
   "execution_count": 1026,
   "metadata": {},
   "outputs": [],
   "source": [
    "#Group by movie id to get the mean rating of each movie\n",
    "scores_mvs = combine_mv_scs.groupby('movieId').agg([np.mean], np.size)"
   ]
  },
  {
   "cell_type": "code",
   "execution_count": 1027,
   "metadata": {},
   "outputs": [
    {
     "data": {
      "text/plain": [
       "(10677, 2)"
      ]
     },
     "execution_count": 1027,
     "metadata": {},
     "output_type": "execute_result"
    }
   ],
   "source": [
    "scores_mvs.shape"
   ]
  },
  {
   "cell_type": "code",
   "execution_count": 1028,
   "metadata": {
    "scrolled": true
   },
   "outputs": [
    {
     "data": {
      "text/html": [
       "<div>\n",
       "<style scoped>\n",
       "    .dataframe tbody tr th:only-of-type {\n",
       "        vertical-align: middle;\n",
       "    }\n",
       "\n",
       "    .dataframe tbody tr th {\n",
       "        vertical-align: top;\n",
       "    }\n",
       "\n",
       "    .dataframe thead tr th {\n",
       "        text-align: left;\n",
       "    }\n",
       "\n",
       "    .dataframe thead tr:last-of-type th {\n",
       "        text-align: right;\n",
       "    }\n",
       "</style>\n",
       "<table border=\"1\" class=\"dataframe\">\n",
       "  <thead>\n",
       "    <tr>\n",
       "      <th></th>\n",
       "      <th>userId</th>\n",
       "      <th>rating</th>\n",
       "    </tr>\n",
       "    <tr>\n",
       "      <th></th>\n",
       "      <th>mean</th>\n",
       "      <th>mean</th>\n",
       "    </tr>\n",
       "    <tr>\n",
       "      <th>movieId</th>\n",
       "      <th></th>\n",
       "      <th></th>\n",
       "    </tr>\n",
       "  </thead>\n",
       "  <tbody>\n",
       "    <tr>\n",
       "      <th>1</th>\n",
       "      <td>35520.163787</td>\n",
       "      <td>3.928769</td>\n",
       "    </tr>\n",
       "    <tr>\n",
       "      <th>2</th>\n",
       "      <td>35868.424701</td>\n",
       "      <td>3.208070</td>\n",
       "    </tr>\n",
       "    <tr>\n",
       "      <th>3</th>\n",
       "      <td>35311.554685</td>\n",
       "      <td>3.150385</td>\n",
       "    </tr>\n",
       "  </tbody>\n",
       "</table>\n",
       "</div>"
      ],
      "text/plain": [
       "               userId    rating\n",
       "                 mean      mean\n",
       "movieId                        \n",
       "1        35520.163787  3.928769\n",
       "2        35868.424701  3.208070\n",
       "3        35311.554685  3.150385"
      ]
     },
     "execution_count": 1028,
     "metadata": {},
     "output_type": "execute_result"
    }
   ],
   "source": [
    "scores_mvs.head(3)"
   ]
  },
  {
   "cell_type": "code",
   "execution_count": 1029,
   "metadata": {},
   "outputs": [],
   "source": [
    "#Remove movieid\n",
    "scores_mvs = scores_mvs.drop('userId', axis=1)"
   ]
  },
  {
   "cell_type": "markdown",
   "metadata": {},
   "source": [
    "### Movies with high average rating"
   ]
  },
  {
   "cell_type": "code",
   "execution_count": 1030,
   "metadata": {
    "scrolled": false
   },
   "outputs": [
    {
     "data": {
      "image/png": "[encoded data removed]",
      "text/plain": [
       "<Figure size 504x432 with 1 Axes>"
      ]
     },
     "metadata": {
      "needs_background": "light"
     },
     "output_type": "display_data"
    }
   ],
   "source": [
    "#Plot movies with the highest average rating\n",
    "scores_mvs['rating']['mean'].sort_values(ascending=False).head(10).plot(kind='bar',\n",
    "                                                                                       figsize=(7,6), color = 'orange');\n",
    "p.title('Movies with the highest scores')\n",
    "p.grid()\n",
    "p.show()"
   ]
  },
  {
   "cell_type": "markdown",
   "metadata": {},
   "source": [
    "### Movies with low average rating"
   ]
  },
  {
   "cell_type": "code",
   "execution_count": 1031,
   "metadata": {},
   "outputs": [],
   "source": [
    "#Get movies that are rated less than 1.5\n",
    "least_rated_mvs = scores_mvs['rating']['mean']< 1.5"
   ]
  },
  {
   "cell_type": "code",
   "execution_count": 1032,
   "metadata": {},
   "outputs": [],
   "source": [
    "#Subset the movies using the mentioned criterion\n",
    "rated_low = scores_mvs[least_rated_mvs]"
   ]
  },
  {
   "cell_type": "code",
   "execution_count": 1033,
   "metadata": {
    "scrolled": false
   },
   "outputs": [
    {
     "data": {
      "image/png": "[encoded data removed]",
      "text/plain": [
       "<Figure size 576x432 with 1 Axes>"
      ]
     },
     "metadata": {
      "needs_background": "light"
     },
     "output_type": "display_data"
    }
   ],
   "source": [
    "#Plot the movies\n",
    "rated_low.head(20).plot(kind='bar', figsize=(8,6));\n",
    "p.grid()"
   ]
  },
  {
   "cell_type": "code",
   "execution_count": 1034,
   "metadata": {},
   "outputs": [
    {
     "data": {
      "text/html": [
       "<div>\n",
       "<style scoped>\n",
       "    .dataframe tbody tr th:only-of-type {\n",
       "        vertical-align: middle;\n",
       "    }\n",
       "\n",
       "    .dataframe tbody tr th {\n",
       "        vertical-align: top;\n",
       "    }\n",
       "\n",
       "    .dataframe thead tr th {\n",
       "        text-align: left;\n",
       "    }\n",
       "\n",
       "    .dataframe thead tr:last-of-type th {\n",
       "        text-align: right;\n",
       "    }\n",
       "</style>\n",
       "<table border=\"1\" class=\"dataframe\">\n",
       "  <thead>\n",
       "    <tr>\n",
       "      <th></th>\n",
       "      <th>rating</th>\n",
       "    </tr>\n",
       "    <tr>\n",
       "      <th></th>\n",
       "      <th>mean</th>\n",
       "    </tr>\n",
       "    <tr>\n",
       "      <th>movieId</th>\n",
       "      <th></th>\n",
       "    </tr>\n",
       "  </thead>\n",
       "  <tbody>\n",
       "    <tr>\n",
       "      <th>1495</th>\n",
       "      <td>1.360227</td>\n",
       "    </tr>\n",
       "    <tr>\n",
       "      <th>1739</th>\n",
       "      <td>1.464286</td>\n",
       "    </tr>\n",
       "    <tr>\n",
       "      <th>1826</th>\n",
       "      <td>1.175214</td>\n",
       "    </tr>\n",
       "    <tr>\n",
       "      <th>1990</th>\n",
       "      <td>1.356436</td>\n",
       "    </tr>\n",
       "    <tr>\n",
       "      <th>3027</th>\n",
       "      <td>1.138889</td>\n",
       "    </tr>\n",
       "    <tr>\n",
       "      <th>3561</th>\n",
       "      <td>1.000000</td>\n",
       "    </tr>\n",
       "    <tr>\n",
       "      <th>3573</th>\n",
       "      <td>1.367647</td>\n",
       "    </tr>\n",
       "    <tr>\n",
       "      <th>3574</th>\n",
       "      <td>1.120253</td>\n",
       "    </tr>\n",
       "    <tr>\n",
       "      <th>3904</th>\n",
       "      <td>1.250000</td>\n",
       "    </tr>\n",
       "    <tr>\n",
       "      <th>3940</th>\n",
       "      <td>1.491667</td>\n",
       "    </tr>\n",
       "  </tbody>\n",
       "</table>\n",
       "</div>"
      ],
      "text/plain": [
       "           rating\n",
       "             mean\n",
       "movieId          \n",
       "1495     1.360227\n",
       "1739     1.464286\n",
       "1826     1.175214\n",
       "1990     1.356436\n",
       "3027     1.138889\n",
       "3561     1.000000\n",
       "3573     1.367647\n",
       "3574     1.120253\n",
       "3904     1.250000\n",
       "3940     1.491667"
      ]
     },
     "execution_count": 1034,
     "metadata": {},
     "output_type": "execute_result"
    }
   ],
   "source": [
    "#Overview of 10 movies with the lowest rating\n",
    "rated_low.head(10)"
   ]
  },
  {
   "cell_type": "code",
   "execution_count": null,
   "metadata": {},
   "outputs": [],
   "source": []
  },
  {
   "cell_type": "code",
   "execution_count": 1035,
   "metadata": {},
   "outputs": [],
   "source": [
    "#Merge the ratings and movies dt\n",
    "dfmvs = dfmv.merge(df_rtngs)\n",
    "groupby = ['genres']\n",
    "nonnormal = ['movieId']\n",
    "dfmvs = dfmvs[dfmvs['genres'].isin(list(gnr_cnt.keys())[0:5])]"
   ]
  },
  {
   "cell_type": "code",
   "execution_count": 1036,
   "metadata": {},
   "outputs": [],
   "source": [
    "tstTable = TableOne(dfmvs,columns = ['genres', 'rating'],\n",
    "                   groupby=groupby, pval=True)"
   ]
  },
  {
   "cell_type": "code",
   "execution_count": 1037,
   "metadata": {},
   "outputs": [
    {
     "data": {
      "text/html": [
       "<div>\n",
       "<style scoped>\n",
       "    .dataframe tbody tr th:only-of-type {\n",
       "        vertical-align: middle;\n",
       "    }\n",
       "\n",
       "    .dataframe tbody tr th {\n",
       "        vertical-align: top;\n",
       "    }\n",
       "\n",
       "    .dataframe thead tr th {\n",
       "        text-align: left;\n",
       "    }\n",
       "</style>\n",
       "<table border=\"1\" class=\"dataframe\">\n",
       "  <thead>\n",
       "    <tr>\n",
       "      <th></th>\n",
       "      <th></th>\n",
       "      <th colspan=\"8\" halign=\"left\">Grouped by genres</th>\n",
       "    </tr>\n",
       "    <tr>\n",
       "      <th></th>\n",
       "      <th></th>\n",
       "      <th>Missing</th>\n",
       "      <th>Overall</th>\n",
       "      <th>Action</th>\n",
       "      <th>Adventure</th>\n",
       "      <th>Comedy</th>\n",
       "      <th>Drama</th>\n",
       "      <th>Thriller</th>\n",
       "      <th>P-Value</th>\n",
       "    </tr>\n",
       "  </thead>\n",
       "  <tbody>\n",
       "    <tr>\n",
       "      <th>n</th>\n",
       "      <th></th>\n",
       "      <td></td>\n",
       "      <td>34480</td>\n",
       "      <td>472</td>\n",
       "      <td>17</td>\n",
       "      <td>15967</td>\n",
       "      <td>16131</td>\n",
       "      <td>1893</td>\n",
       "      <td></td>\n",
       "    </tr>\n",
       "    <tr>\n",
       "      <th rowspan=\"10\" valign=\"top\">rating, n (%)</th>\n",
       "      <th>0.5</th>\n",
       "      <td>0</td>\n",
       "      <td>705 (2.0)</td>\n",
       "      <td>8 (1.7)</td>\n",
       "      <td></td>\n",
       "      <td>541 (3.4)</td>\n",
       "      <td>141 (0.9)</td>\n",
       "      <td>15 (0.8)</td>\n",
       "      <td>&lt;0.001</td>\n",
       "    </tr>\n",
       "    <tr>\n",
       "      <th>1.0</th>\n",
       "      <td></td>\n",
       "      <td>774 (2.2)</td>\n",
       "      <td>15 (3.2)</td>\n",
       "      <td></td>\n",
       "      <td>537 (3.4)</td>\n",
       "      <td>187 (1.2)</td>\n",
       "      <td>35 (1.8)</td>\n",
       "      <td></td>\n",
       "    </tr>\n",
       "    <tr>\n",
       "      <th>1.5</th>\n",
       "      <td></td>\n",
       "      <td>974 (2.8)</td>\n",
       "      <td>33 (7.0)</td>\n",
       "      <td></td>\n",
       "      <td>648 (4.1)</td>\n",
       "      <td>255 (1.6)</td>\n",
       "      <td>38 (2.0)</td>\n",
       "      <td></td>\n",
       "    </tr>\n",
       "    <tr>\n",
       "      <th>2.0</th>\n",
       "      <td></td>\n",
       "      <td>2322 (6.7)</td>\n",
       "      <td>71 (15.0)</td>\n",
       "      <td>2 (11.8)</td>\n",
       "      <td>1462 (9.2)</td>\n",
       "      <td>682 (4.2)</td>\n",
       "      <td>105 (5.5)</td>\n",
       "      <td></td>\n",
       "    </tr>\n",
       "    <tr>\n",
       "      <th>2.5</th>\n",
       "      <td></td>\n",
       "      <td>3134 (9.1)</td>\n",
       "      <td>69 (14.6)</td>\n",
       "      <td>5 (29.4)</td>\n",
       "      <td>1771 (11.1)</td>\n",
       "      <td>1100 (6.8)</td>\n",
       "      <td>189 (10.0)</td>\n",
       "      <td></td>\n",
       "    </tr>\n",
       "    <tr>\n",
       "      <th>3.0</th>\n",
       "      <td></td>\n",
       "      <td>6453 (18.7)</td>\n",
       "      <td>107 (22.7)</td>\n",
       "      <td>3 (17.6)</td>\n",
       "      <td>3288 (20.6)</td>\n",
       "      <td>2667 (16.5)</td>\n",
       "      <td>388 (20.5)</td>\n",
       "      <td></td>\n",
       "    </tr>\n",
       "    <tr>\n",
       "      <th>3.5</th>\n",
       "      <td></td>\n",
       "      <td>6811 (19.8)</td>\n",
       "      <td>74 (15.7)</td>\n",
       "      <td>5 (29.4)</td>\n",
       "      <td>3095 (19.4)</td>\n",
       "      <td>3249 (20.1)</td>\n",
       "      <td>388 (20.5)</td>\n",
       "      <td></td>\n",
       "    </tr>\n",
       "    <tr>\n",
       "      <th>4.0</th>\n",
       "      <td></td>\n",
       "      <td>7633 (22.1)</td>\n",
       "      <td>61 (12.9)</td>\n",
       "      <td>1 (5.9)</td>\n",
       "      <td>2835 (17.8)</td>\n",
       "      <td>4285 (26.6)</td>\n",
       "      <td>451 (23.8)</td>\n",
       "      <td></td>\n",
       "    </tr>\n",
       "    <tr>\n",
       "      <th>4.5</th>\n",
       "      <td></td>\n",
       "      <td>3214 (9.3)</td>\n",
       "      <td>20 (4.2)</td>\n",
       "      <td>1 (5.9)</td>\n",
       "      <td>1030 (6.5)</td>\n",
       "      <td>1985 (12.3)</td>\n",
       "      <td>178 (9.4)</td>\n",
       "      <td></td>\n",
       "    </tr>\n",
       "    <tr>\n",
       "      <th>5.0</th>\n",
       "      <td></td>\n",
       "      <td>2460 (7.1)</td>\n",
       "      <td>14 (3.0)</td>\n",
       "      <td></td>\n",
       "      <td>760 (4.8)</td>\n",
       "      <td>1580 (9.8)</td>\n",
       "      <td>106 (5.6)</td>\n",
       "      <td></td>\n",
       "    </tr>\n",
       "  </tbody>\n",
       "</table>\n",
       "</div><br />[1] Chi-squared tests for the following variables may be invalid due to the low number of observations: rating.<br />"
      ],
      "text/plain": [
       "                  Grouped by genres                                                                                 \n",
       "                            Missing      Overall      Action Adventure       Comedy        Drama    Thriller P-Value\n",
       "n                                          34480         472        17        15967        16131        1893        \n",
       "rating, n (%) 0.5                 0    705 (2.0)     8 (1.7)              541 (3.4)    141 (0.9)    15 (0.8)  <0.001\n",
       "              1.0                      774 (2.2)    15 (3.2)              537 (3.4)    187 (1.2)    35 (1.8)        \n",
       "              1.5                      974 (2.8)    33 (7.0)              648 (4.1)    255 (1.6)    38 (2.0)        \n",
       "              2.0                     2322 (6.7)   71 (15.0)  2 (11.8)   1462 (9.2)    682 (4.2)   105 (5.5)        \n",
       "              2.5                     3134 (9.1)   69 (14.6)  5 (29.4)  1771 (11.1)   1100 (6.8)  189 (10.0)        \n",
       "              3.0                    6453 (18.7)  107 (22.7)  3 (17.6)  3288 (20.6)  2667 (16.5)  388 (20.5)        \n",
       "              3.5                    6811 (19.8)   74 (15.7)  5 (29.4)  3095 (19.4)  3249 (20.1)  388 (20.5)        \n",
       "              4.0                    7633 (22.1)   61 (12.9)   1 (5.9)  2835 (17.8)  4285 (26.6)  451 (23.8)        \n",
       "              4.5                     3214 (9.3)    20 (4.2)   1 (5.9)   1030 (6.5)  1985 (12.3)   178 (9.4)        \n",
       "              5.0                     2460 (7.1)    14 (3.0)              760 (4.8)   1580 (9.8)   106 (5.6)        \n",
       "[1] Chi-squared tests for the following variables may be invalid due to the low number of observations: rating."
      ]
     },
     "execution_count": 1037,
     "metadata": {},
     "output_type": "execute_result"
    }
   ],
   "source": [
    "tstTable"
   ]
  },
  {
   "cell_type": "code",
   "execution_count": 1038,
   "metadata": {},
   "outputs": [],
   "source": [
    "tstTable.to_excel('summary_10M.xlsx')"
   ]
  },
  {
   "cell_type": "code",
   "execution_count": 1039,
   "metadata": {},
   "outputs": [
    {
     "data": {
      "text/html": [
       "<div>\n",
       "<style scoped>\n",
       "    .dataframe tbody tr th:only-of-type {\n",
       "        vertical-align: middle;\n",
       "    }\n",
       "\n",
       "    .dataframe tbody tr th {\n",
       "        vertical-align: top;\n",
       "    }\n",
       "\n",
       "    .dataframe thead tr th {\n",
       "        text-align: left;\n",
       "    }\n",
       "</style>\n",
       "<table border=\"1\" class=\"dataframe\">\n",
       "  <thead>\n",
       "    <tr>\n",
       "      <th></th>\n",
       "      <th></th>\n",
       "      <th colspan=\"8\" halign=\"left\">Grouped by genres</th>\n",
       "    </tr>\n",
       "    <tr>\n",
       "      <th></th>\n",
       "      <th></th>\n",
       "      <th>Missing</th>\n",
       "      <th>Overall</th>\n",
       "      <th>Action</th>\n",
       "      <th>Adventure</th>\n",
       "      <th>Comedy</th>\n",
       "      <th>Drama</th>\n",
       "      <th>Thriller</th>\n",
       "      <th>P-Value</th>\n",
       "    </tr>\n",
       "  </thead>\n",
       "  <tbody>\n",
       "    <tr>\n",
       "      <th>n</th>\n",
       "      <th></th>\n",
       "      <td></td>\n",
       "      <td>34480</td>\n",
       "      <td>472</td>\n",
       "      <td>17</td>\n",
       "      <td>15967</td>\n",
       "      <td>16131</td>\n",
       "      <td>1893</td>\n",
       "      <td></td>\n",
       "    </tr>\n",
       "    <tr>\n",
       "      <th rowspan=\"5\" valign=\"top\">genres, n (%)</th>\n",
       "      <th>Action</th>\n",
       "      <td>0</td>\n",
       "      <td>472 (1.4)</td>\n",
       "      <td>472 (100.0)</td>\n",
       "      <td></td>\n",
       "      <td></td>\n",
       "      <td></td>\n",
       "      <td></td>\n",
       "      <td>&lt;0.001</td>\n",
       "    </tr>\n",
       "    <tr>\n",
       "      <th>Adventure</th>\n",
       "      <td></td>\n",
       "      <td>17 (0.0)</td>\n",
       "      <td></td>\n",
       "      <td>17 (100.0)</td>\n",
       "      <td></td>\n",
       "      <td></td>\n",
       "      <td></td>\n",
       "      <td></td>\n",
       "    </tr>\n",
       "    <tr>\n",
       "      <th>Comedy</th>\n",
       "      <td></td>\n",
       "      <td>15967 (46.3)</td>\n",
       "      <td></td>\n",
       "      <td></td>\n",
       "      <td>15967 (100.0)</td>\n",
       "      <td></td>\n",
       "      <td></td>\n",
       "      <td></td>\n",
       "    </tr>\n",
       "    <tr>\n",
       "      <th>Drama</th>\n",
       "      <td></td>\n",
       "      <td>16131 (46.8)</td>\n",
       "      <td></td>\n",
       "      <td></td>\n",
       "      <td></td>\n",
       "      <td>16131 (100.0)</td>\n",
       "      <td></td>\n",
       "      <td></td>\n",
       "    </tr>\n",
       "    <tr>\n",
       "      <th>Thriller</th>\n",
       "      <td></td>\n",
       "      <td>1893 (5.5)</td>\n",
       "      <td></td>\n",
       "      <td></td>\n",
       "      <td></td>\n",
       "      <td></td>\n",
       "      <td>1893 (100.0)</td>\n",
       "      <td></td>\n",
       "    </tr>\n",
       "    <tr>\n",
       "      <th>rating, mean (SD)</th>\n",
       "      <th></th>\n",
       "      <td>0</td>\n",
       "      <td>3.4 (1.0)</td>\n",
       "      <td>2.9 (1.0)</td>\n",
       "      <td>3.0 (0.7)</td>\n",
       "      <td>3.1 (1.1)</td>\n",
       "      <td>3.6 (0.9)</td>\n",
       "      <td>3.4 (0.9)</td>\n",
       "      <td>&lt;0.001</td>\n",
       "    </tr>\n",
       "  </tbody>\n",
       "</table>\n",
       "</div><br />[1] Chi-squared tests for the following variables may be invalid due to the low number of observations: genres.<br />"
      ],
      "text/plain": [
       "                            Grouped by genres                                                                                           \n",
       "                                      Missing       Overall       Action   Adventure         Comedy          Drama      Thriller P-Value\n",
       "n                                                     34480          472          17          15967          16131          1893        \n",
       "genres, n (%)     Action                    0     472 (1.4)  472 (100.0)                                                          <0.001\n",
       "                  Adventure                        17 (0.0)               17 (100.0)                                                    \n",
       "                  Comedy                       15967 (46.3)                           15967 (100.0)                                     \n",
       "                  Drama                        16131 (46.8)                                          16131 (100.0)                      \n",
       "                  Thriller                       1893 (5.5)                                                         1893 (100.0)        \n",
       "rating, mean (SD)                           0     3.4 (1.0)    2.9 (1.0)   3.0 (0.7)      3.1 (1.1)      3.6 (0.9)     3.4 (0.9)  <0.001\n",
       "[1] Chi-squared tests for the following variables may be invalid due to the low number of observations: genres."
      ]
     },
     "metadata": {},
     "output_type": "display_data"
    }
   ],
   "source": [
    "#Geenrate statistics related to genres and ratings\n",
    "tstTable = TableOne(dfmvs,columns = ['genres', 'rating'],\n",
    "                   groupby=groupby, categorical=['genres'], nonnormal=nonnormal, pval=True, tukey_test=True)\n",
    "\n",
    "display(tstTable)\n",
    "#Save to excel for use in the report\n",
    "tstTable.to_excel('summary_10M_tst.xlsx')"
   ]
  },
  {
   "cell_type": "markdown",
   "metadata": {},
   "source": [
    "#### Data Preparation\n",
    "\n",
    "> (1)- Merge the dataframes to obtain complete information regarding a user, a movie and the corresponding interaction.\n",
    "\n",
    "> (2)- Split the data into test and train."
   ]
  },
  {
   "cell_type": "markdown",
   "metadata": {},
   "source": [
    "##### Merge the dataframes"
   ]
  },
  {
   "cell_type": "code",
   "execution_count": 1040,
   "metadata": {},
   "outputs": [
    {
     "data": {
      "text/plain": [
       "Index(['userId', 'movieId', 'rating', 'timestamp'], dtype='object')"
      ]
     },
     "execution_count": 1040,
     "metadata": {},
     "output_type": "execute_result"
    }
   ],
   "source": [
    "#get distribution of the ratings data\n",
    "df_rtngs.columns"
   ]
  },
  {
   "cell_type": "code",
   "execution_count": 1041,
   "metadata": {},
   "outputs": [
    {
     "data": {
      "text/plain": [
       "Index(['movieId', 'title', 'genres', 'userId', 'rating', 'timestamp'], dtype='object')"
      ]
     },
     "execution_count": 1041,
     "metadata": {},
     "output_type": "execute_result"
    }
   ],
   "source": [
    "dfmvs.columns"
   ]
  },
  {
   "cell_type": "code",
   "execution_count": 1042,
   "metadata": {},
   "outputs": [
    {
     "data": {
      "text/html": [
       "<div>\n",
       "<style scoped>\n",
       "    .dataframe tbody tr th:only-of-type {\n",
       "        vertical-align: middle;\n",
       "    }\n",
       "\n",
       "    .dataframe tbody tr th {\n",
       "        vertical-align: top;\n",
       "    }\n",
       "\n",
       "    .dataframe thead th {\n",
       "        text-align: right;\n",
       "    }\n",
       "</style>\n",
       "<table border=\"1\" class=\"dataframe\">\n",
       "  <thead>\n",
       "    <tr style=\"text-align: right;\">\n",
       "      <th></th>\n",
       "      <th>movieId</th>\n",
       "      <th>title</th>\n",
       "      <th>genres</th>\n",
       "      <th>userId</th>\n",
       "      <th>rating</th>\n",
       "      <th>timestamp</th>\n",
       "    </tr>\n",
       "  </thead>\n",
       "  <tbody>\n",
       "    <tr>\n",
       "      <th>0</th>\n",
       "      <td>5</td>\n",
       "      <td>Father of the Bride Part II (1995)</td>\n",
       "      <td>Comedy</td>\n",
       "      <td>32fa802a3f</td>\n",
       "      <td>3.0</td>\n",
       "      <td>2005-10-29 11:28:32</td>\n",
       "    </tr>\n",
       "    <tr>\n",
       "      <th>1</th>\n",
       "      <td>5</td>\n",
       "      <td>Father of the Bride Part II (1995)</td>\n",
       "      <td>Comedy</td>\n",
       "      <td>b986438d3c</td>\n",
       "      <td>2.5</td>\n",
       "      <td>2006-01-09 04:25:22</td>\n",
       "    </tr>\n",
       "    <tr>\n",
       "      <th>2</th>\n",
       "      <td>5</td>\n",
       "      <td>Father of the Bride Part II (1995)</td>\n",
       "      <td>Comedy</td>\n",
       "      <td>211fea164a</td>\n",
       "      <td>3.5</td>\n",
       "      <td>2006-02-21 13:45:56</td>\n",
       "    </tr>\n",
       "    <tr>\n",
       "      <th>3</th>\n",
       "      <td>5</td>\n",
       "      <td>Father of the Bride Part II (1995)</td>\n",
       "      <td>Comedy</td>\n",
       "      <td>1ded6fa4fe</td>\n",
       "      <td>2.0</td>\n",
       "      <td>2006-07-27 05:08:25</td>\n",
       "    </tr>\n",
       "    <tr>\n",
       "      <th>4</th>\n",
       "      <td>5</td>\n",
       "      <td>Father of the Bride Part II (1995)</td>\n",
       "      <td>Comedy</td>\n",
       "      <td>d2243dbf2a</td>\n",
       "      <td>1.5</td>\n",
       "      <td>2006-12-11 15:42:37</td>\n",
       "    </tr>\n",
       "  </tbody>\n",
       "</table>\n",
       "</div>"
      ],
      "text/plain": [
       "   movieId                               title  genres      userId  rating  \\\n",
       "0        5  Father of the Bride Part II (1995)  Comedy  32fa802a3f     3.0   \n",
       "1        5  Father of the Bride Part II (1995)  Comedy  b986438d3c     2.5   \n",
       "2        5  Father of the Bride Part II (1995)  Comedy  211fea164a     3.5   \n",
       "3        5  Father of the Bride Part II (1995)  Comedy  1ded6fa4fe     2.0   \n",
       "4        5  Father of the Bride Part II (1995)  Comedy  d2243dbf2a     1.5   \n",
       "\n",
       "             timestamp  \n",
       "0  2005-10-29 11:28:32  \n",
       "1  2006-01-09 04:25:22  \n",
       "2  2006-02-21 13:45:56  \n",
       "3  2006-07-27 05:08:25  \n",
       "4  2006-12-11 15:42:37  "
      ]
     },
     "execution_count": 1042,
     "metadata": {},
     "output_type": "execute_result"
    }
   ],
   "source": [
    "#Merge the dataframes\n",
    "movie_scs = dfmvs.merge(df_rtngs)\n",
    "movie_scs = movie_scs\n",
    "movie_scs.head()"
   ]
  },
  {
   "cell_type": "markdown",
   "metadata": {},
   "source": [
    "##### Split the dataframes to test and train sets"
   ]
  },
  {
   "cell_type": "code",
   "execution_count": 1043,
   "metadata": {},
   "outputs": [],
   "source": [
    "X = movie_scs[['userId', 'movieId']].values\n",
    "y = movie_scs['rating'].values\n",
    "#Split\n",
    "X_trn, X_tst, y_trn, y_tst = train_test_split(X, y, test_size=0.3, random_state=42)\n"
   ]
  },
  {
   "cell_type": "code",
   "execution_count": 1044,
   "metadata": {},
   "outputs": [
    {
     "data": {
      "text/plain": [
       "((24136, 2), (10344, 2), (24136,), (10344,))"
      ]
     },
     "execution_count": 1044,
     "metadata": {},
     "output_type": "execute_result"
    }
   ],
   "source": [
    "X = movie_scs[['userId', 'movieId']]\n",
    "y = movie_scs['rating']\n",
    "#Split\n",
    "X_trn, X_tst, y_trn, y_tst = train_test_split(X, y, test_size=0.3, random_state=42)\n",
    "X_trn.shape, X_tst.shape, y_trn.shape, y_tst.shape"
   ]
  },
  {
   "cell_type": "markdown",
   "metadata": {},
   "source": [
    "#### Modeling"
   ]
  },
  {
   "cell_type": "markdown",
   "metadata": {
    "_uuid": "1305f395bb9ad21c67d5f095a55690d9ae8c9a1e"
   },
   "source": [
    "### Step 1. Define an index vector of all unique users and movies"
   ]
  },
  {
   "cell_type": "code",
   "execution_count": 1045,
   "metadata": {},
   "outputs": [],
   "source": [
    "#Order the movies and users\n",
    "c_mv = CategoricalDtype(sorted(movie_scs['movieId'].unique()), ordered=True)\n",
    "c_usrr = CategoricalDtype(sorted(movie_scs['userId'].unique()), ordered=True)"
   ]
  },
  {
   "cell_type": "code",
   "execution_count": 1046,
   "metadata": {},
   "outputs": [
    {
     "name": "stdout",
     "output_type": "stream",
     "text": [
      "1677\n",
      "738\n"
     ]
    }
   ],
   "source": [
    "print(len(c_mv.categories))\n",
    "print(len(c_usrr.categories))"
   ]
  },
  {
   "cell_type": "code",
   "execution_count": 1047,
   "metadata": {},
   "outputs": [
    {
     "name": "stdout",
     "output_type": "stream",
     "text": [
      "(24136, 2)\n",
      "(10344, 2)\n"
     ]
    }
   ],
   "source": [
    "\n",
    "trn, tst = train_test_split(X, test_size=0.30, random_state=420)\n",
    "print(trn.shape)\n",
    "print(tst.shape)"
   ]
  },
  {
   "cell_type": "code",
   "execution_count": 1048,
   "metadata": {},
   "outputs": [],
   "source": [
    "tst = X_tst.copy()\n",
    "trn = X_trn.copy()\n",
    "\n",
    "tstx = tst.copy()\n",
    "\n",
    "tstx['userId'] = tstx['userId'].astype(c_usrr)\n",
    "\n",
    "tstx['movieId'] = tstx['movieId'].astype(c_mv)\n",
    "\n",
    "tst_pred = tstx.copy()"
   ]
  },
  {
   "cell_type": "code",
   "execution_count": 1049,
   "metadata": {},
   "outputs": [
    {
     "name": "stdout",
     "output_type": "stream",
     "text": [
      "<class 'pandas.core.frame.DataFrame'>\n",
      "Int64Index: 10344 entries, 31706 to 14000\n",
      "Data columns (total 2 columns):\n",
      " #   Column   Non-Null Count  Dtype   \n",
      "---  ------   --------------  -----   \n",
      " 0   userId   10344 non-null  category\n",
      " 1   movieId  10344 non-null  category\n",
      "dtypes: category(2)\n",
      "memory usage: 220.8 KB\n"
     ]
    }
   ],
   "source": [
    "tstx.info()"
   ]
  },
  {
   "cell_type": "markdown",
   "metadata": {
    "_uuid": "1305f395bb9ad21c67d5f095a55690d9ae8c9a1e"
   },
   "source": [
    "### Step 1. Define an index vector of all unique users and movies"
   ]
  },
  {
   "cell_type": "code",
   "execution_count": 1050,
   "metadata": {},
   "outputs": [],
   "source": [
    "#Order the movies and users\n",
    "c_mv = CategoricalDtype(sorted(movie_scs['movieId'].unique()), ordered=True)\n",
    "c_usrr = CategoricalDtype(sorted(movie_scs['userId'].unique()), ordered=True)"
   ]
  },
  {
   "cell_type": "code",
   "execution_count": 1051,
   "metadata": {},
   "outputs": [
    {
     "name": "stdout",
     "output_type": "stream",
     "text": [
      "1677\n",
      "738\n"
     ]
    }
   ],
   "source": [
    "print(len(c_mv.categories))\n",
    "print(len(c_usrr.categories))"
   ]
  },
  {
   "cell_type": "code",
   "execution_count": 1052,
   "metadata": {},
   "outputs": [
    {
     "name": "stdout",
     "output_type": "stream",
     "text": [
      "(24136, 2)\n",
      "(10344, 2)\n"
     ]
    }
   ],
   "source": [
    "\n",
    "trn, tst = train_test_split(X, test_size=0.30, random_state=420)\n",
    "print(trn.shape)\n",
    "print(tst.shape)"
   ]
  },
  {
   "cell_type": "code",
   "execution_count": 1053,
   "metadata": {},
   "outputs": [],
   "source": [
    "tst = X_tst.copy()\n",
    "trn = X_trn.copy()\n",
    "\n",
    "tstx = tst.copy()\n",
    "\n",
    "tstx['userId'] = tstx['userId'].astype(c_usrr)\n",
    "\n",
    "tstx['movieId'] = tstx['movieId'].astype(c_mv)\n",
    "\n",
    "tst_pred = tstx.copy()"
   ]
  },
  {
   "cell_type": "code",
   "execution_count": 1054,
   "metadata": {},
   "outputs": [
    {
     "name": "stdout",
     "output_type": "stream",
     "text": [
      "<class 'pandas.core.frame.DataFrame'>\n",
      "Int64Index: 10344 entries, 31706 to 14000\n",
      "Data columns (total 2 columns):\n",
      " #   Column   Non-Null Count  Dtype   \n",
      "---  ------   --------------  -----   \n",
      " 0   userId   10344 non-null  category\n",
      " 1   movieId  10344 non-null  category\n",
      "dtypes: category(2)\n",
      "memory usage: 220.8 KB\n"
     ]
    }
   ],
   "source": [
    "tstx.info()"
   ]
  },
  {
   "cell_type": "markdown",
   "metadata": {
    "_uuid": "5c970f817423d1169c943568ed8e7db6444773f3"
   },
   "source": [
    "### Step 2: Define a 1's and 0's binary sparse matrix of User-movies for trning set"
   ]
  },
  {
   "cell_type": "code",
   "execution_count": 1055,
   "metadata": {
    "_uuid": "271293ed40ba894cedaaa0751e395eb8674a40f6"
   },
   "outputs": [
    {
     "name": "stdout",
     "output_type": "stream",
     "text": [
      "1.9501852740650245% Sparsity\n"
     ]
    }
   ],
   "source": [
    "trn_dt = csr_matrix((np.ones(len(trn)), (trn['userId'].astype(ct).cat.codes,\n",
    "                                               trn['movieId'].astype(ct).cat.codes)), \n",
    "                  shape=( len(c_usrr.categories), len(c_mv.categories)))\n",
    "print(f'{100*trn_dt.sum()/(trn_dt.shape[0]*trn_dt.shape[1])}% Sparsity')"
   ]
  },
  {
   "cell_type": "markdown",
   "metadata": {
    "_uuid": "c1e18db8cbdb958a1a83fea37d3d39e26fba14f1"
   },
   "source": [
    "### Step 3. Run the model on the trning set\n",
    "\n",
    "Models were tsting:\n",
    "\n",
    "1. Cosine Similarity on movies\n",
    "\n",
    "2. Non-negative matrix factorization\n",
    "\n",
    "3. Neural Collaborative Filtering\n",
    "\n",
    "\n",
    "Evaluation:\n",
    "- Recall: % of 1s in the tst set\n",
    "- MPR: Mean Percentile Rank\n",
    "\n",
    "#### Cosine Similarity\n",
    "Doing this in bits for the tst set so that we don't run into memory issues.   For the recall measure, if the track's relative percentile is < 0.5 then its a 1"
   ]
  },
  {
   "cell_type": "code",
   "execution_count": 1056,
   "metadata": {},
   "outputs": [
    {
     "name": "stdout",
     "output_type": "stream",
     "text": [
      "Implementing bit : 1/30\n",
      "Implementing bit : 2/30\n",
      "Implementing bit : 3/30\n",
      "Implementing bit : 4/30\n",
      "Implementing bit : 5/30\n",
      "Implementing bit : 6/30\n",
      "Implementing bit : 7/30\n",
      "Implementing bit : 8/30\n",
      "Implementing bit : 9/30\n",
      "Implementing bit : 10/30\n",
      "Implementing bit : 11/30\n",
      "Implementing bit : 12/30\n",
      "Implementing bit : 13/30\n",
      "Implementing bit : 14/30\n",
      "Implementing bit : 15/30\n",
      "Implementing bit : 16/30\n",
      "Implementing bit : 17/30\n",
      "Implementing bit : 18/30\n",
      "Implementing bit : 19/30\n",
      "Implementing bit : 20/30\n",
      "Implementing bit : 21/30\n",
      "Implementing bit : 22/30\n",
      "Implementing bit : 23/30\n",
      "Implementing bit : 24/30\n",
      "Implementing bit : 25/30\n",
      "Implementing bit : 26/30\n",
      "Implementing bit : 27/30\n",
      "Implementing bit : 28/30\n",
      "Implementing bit : 29/30\n",
      "Implementing bit : 30/30\n",
      "NMF MPR 0.49897\n",
      "mdl Recall rate 0.51083\n"
     ]
    }
   ],
   "source": [
    "def nmf(dt, prd,mdl):\n",
    "    # normalize to obtain % significance to user\n",
    "    scaled_df = dt.multiply(1/dt.sum(axis=1)).tocsr()\n",
    "    S = mdl.fit_transform(scaled_df)\n",
    "    K = mdl.components_\n",
    "\n",
    "    # implement per bit to handle memory issues\n",
    "    user_index = prd['userId'].cat.codes.values\n",
    "    movie_index = prd['movieId'].cat.codes.values\n",
    "    number_of_bits = 30\n",
    "    bits = np.array_split(np.arange(S.shape[0]), number_of_bits)\n",
    "    #r = Results\n",
    "    r = []\n",
    "    prev_mx = 0\n",
    "    for i,indexx in enumerate(bits):\n",
    "        print(f'Implementing bit : {i+1}/{number_of_bits}')\n",
    "        scr = (S[indexx].dot(K))\n",
    "        scr = (-scr).argsort() / scr.shape[1]\n",
    "        sel = (user_index >= indexx.min()) & (user_index <= indexx.max())\n",
    "        bit_scr = np.asarray(scr[user_index[sel] - prev_mx, movie_index[sel]]).reshape(-1)\n",
    "        r.append(bit_scr)\n",
    "        prev_mx = indexx.max() + 1\n",
    "    return np.concatenate(r)\n",
    "\n",
    "Kk = 2\n",
    "\n",
    "# NMF\n",
    "#NNDSVD to handle sparsity\n",
    "mdl_nmf = NMF(n_components = Kk, init = 'nndsvd', max_iter = 1000, tol = 0.1, random_state = 1)\n",
    "Recommendations1 = nmf(trn_dt, tstx, mdl_nmf)\n",
    "mpr_Non_Negative_Matrix_Factorization = Recommendations1.sum()/len(tstx)\n",
    "print(f'NMF MPR', round(mpr_Non_Negative_Matrix_Factorization,5))\n",
    "rec_Non_Negative_Matrix_Factorization = (Recommendations1 < 0.5).sum()/len(tstx)\n",
    "print('mdl Recall rate', round(rec_Non_Negative_Matrix_Factorization,5))"
   ]
  },
  {
   "cell_type": "code",
   "execution_count": 1057,
   "metadata": {
    "_uuid": "33627fc9a962776746a9907208c1cc496c0da216",
    "scrolled": true
   },
   "outputs": [
    {
     "name": "stdout",
     "output_type": "stream",
     "text": [
      "Implementing bit : 1/30\n",
      "Implementing bit : 2/30\n",
      "Implementing bit : 3/30\n",
      "Implementing bit : 4/30\n",
      "Implementing bit : 5/30\n",
      "Implementing bit : 6/30\n",
      "Implementing bit : 7/30\n",
      "Implementing bit : 8/30\n",
      "Implementing bit : 9/30\n",
      "Implementing bit : 10/30\n",
      "Implementing bit : 11/30\n",
      "Implementing bit : 12/30\n",
      "Implementing bit : 13/30\n",
      "Implementing bit : 14/30\n",
      "Implementing bit : 15/30\n",
      "Implementing bit : 16/30\n",
      "Implementing bit : 17/30\n",
      "Implementing bit : 18/30\n",
      "Implementing bit : 19/30\n",
      "Implementing bit : 20/30\n",
      "Implementing bit : 21/30\n",
      "Implementing bit : 22/30\n",
      "Implementing bit : 23/30\n",
      "Implementing bit : 24/30\n",
      "Implementing bit : 25/30\n",
      "Implementing bit : 26/30\n",
      "Implementing bit : 27/30\n",
      "Implementing bit : 28/30\n",
      "Implementing bit : 29/30\n",
      "Implementing bit : 30/30\n",
      "MPR: 0.51094\n",
      "Model Recall rate: 0.48395\n"
     ]
    }
   ],
   "source": [
    "def cos(dt, pred):\n",
    "    \n",
    "    #Cosine similarity model to generate a matrix and determine the closest recommendation depending on the similarity matrix\n",
    "    # normalize to obtain % importance to user\n",
    "    scaled_df = dt.multiply(1/dt.sum(axis=1)).tocsr()\n",
    "    # implement model\n",
    "    #s = similarity\n",
    "    s = cosine_similarity(scaled_df.transpose())\n",
    "    s[np.diag_indices(s.shape[0])] = 0\n",
    "    denom = np.asarray(s.sum(axis=1)).reshape(-1)\n",
    "\n",
    "    # implement per bit to handle memory issues\n",
    "    user_index = pred['userId'].cat.codes.values\n",
    "    movie_index = pred['movieId'].cat.codes.values\n",
    "\n",
    "    number_of_bits = 30\n",
    "    bits = np.array_split(np.arange(scaled_df.shape[0]), number_of_bits)\n",
    "    #R = result\n",
    "    r = []\n",
    "    prev_mx = 0\n",
    "    for i,indexx in enumerate(bits):\n",
    "        print(f'Implementing bit : {i+1}/{number_of_bits}')\n",
    "        scr = (scaled_df[indexx].dot(s)) / denom\n",
    "        scr = (-scr).argsort() / denom.shape[0]\n",
    "        sl = (user_index >= indexx.min()) & (user_index <= indexx.max())\n",
    "        bit_scr = np.asarray(scr[user_index[sl] - prev_mx, movie_index[sl]]).reshape(-1)\n",
    "        r.append(bit_scr)\n",
    "        prev_mx = indexx.max() + 1\n",
    "    return np.concatenate(r)\n",
    "\n",
    "\n",
    "# Evaluate performance of the model\n",
    "Recommendations = cos(trn_dt, tstx)\n",
    "mpr_cosine_sim = Recommendations.sum()/len(tstx)\n",
    "print('MPR:', round(mpr_cosine_sim,5))\n",
    "r_cosine_sim = (Recommendations < 0.5).sum()/len(tstx)\n",
    "print('Model Recall rate:',round(r_cosine_sim, 5))"
   ]
  },
  {
   "cell_type": "markdown",
   "metadata": {},
   "source": [
    "#### Neural Collaborative Filtering"
   ]
  },
  {
   "cell_type": "code",
   "execution_count": 1058,
   "metadata": {},
   "outputs": [
    {
     "name": "stdout",
     "output_type": "stream",
     "text": [
      "((28872,), (28872,), (28872,))\n"
     ]
    }
   ],
   "source": [
    "# Create the trning Set\n",
    "sample_size_with_no_links = int(len(trn)*0.2)\n",
    "n_usrs = c_usrr.categories.shape[0]\n",
    "num_of_movies = c_mv.categories.shape[0]\n",
    "# get trning set\n",
    "trnx_usrs = trn['userId'].astype(ct).cat.codes.values\n",
    "trnx_movies = trn['movieId'].astype(ct).cat.codes.values\n",
    "trn_t = np.ones(len(trnx_usrs))\n",
    "# add some negative samples\n",
    "u = np.random.randint(n_usrs, size=sample_size_with_no_links)\n",
    "i = np.random.randint(num_of_movies, size=sample_size_with_no_links)\n",
    "non_neg_indexx = np.where(trn_dt[u,i] == 0)\n",
    "trnx_usrs = np.concatenate([trnx_usrs, u[non_neg_indexx[1]]])\n",
    "trnx_movies = np.concatenate([trnx_movies, i[non_neg_indexx[1]]])\n",
    "trn_t = np.concatenate([trn_t, np.zeros(u[non_neg_indexx[1]].shape[0])])\n",
    "print((trnx_usrs.shape, trnx_movies.shape, trn_t.shape))\n",
    "\n",
    "# shuffle the data\n",
    "X = np.stack([trnx_usrs, trnx_movies, trn_t], axis=1)\n",
    "np.random.shuffle(X)"
   ]
  },
  {
   "cell_type": "markdown",
   "metadata": {},
   "source": [
    "##### Model parameters"
   ]
  },
  {
   "cell_type": "code",
   "execution_count": 1059,
   "metadata": {},
   "outputs": [],
   "source": [
    "#Output activation\n",
    "actv = 'sigmoid'\n",
    "#Intializer\n",
    "intt = 'lecun_uniform'\n",
    "#Layer name\n",
    "nem = 'prediction'\n",
    "#user input\n",
    "u_t = 'user_input'\n",
    "#item input\n",
    "i_p = 'item_input'"
   ]
  },
  {
   "cell_type": "code",
   "execution_count": 1060,
   "metadata": {},
   "outputs": [],
   "source": [
    "\n",
    "#usr_lt = user lt\n",
    "def neural_network(number_of_usrs, num_movies, ld, regs=[0,0]):\n",
    "    # model vars\n",
    "    #user_p = user input\n",
    "    usr_p = Input(shape=(1,), dtype='int64', name = u_t)\n",
    "    itm_input = Input(shape=(1,), dtype='int64', name = i_p)\n",
    "    #ld = lt dimension\n",
    "    #mbds = embeddings\n",
    "    #mbds_usrr = user embedding\n",
    "    mbds_usrr = Embedding(input_dim = number_of_usrs, output_dim = ld, name = 'user_mbds', \n",
    "                                  embeddings_regularizer = l2(regs[0]), input_length=1)\n",
    "    #mbds_itm = item emdeddings \n",
    "    mbds_itm = Embedding(input_dim = num_movies, output_dim = ld, name = 'itm_mbds',\n",
    "                                  embeddings_regularizer = l2(regs[1]), input_length=1)   \n",
    "    \n",
    "    # essential to define an embedding vector!\n",
    "    usr_lt = Flatten()(mbds_usrr(usr_p))\n",
    "    itm_lt = Flatten()(mbds_itm(itm_input))\n",
    "    \n",
    "    # user-itm embedding productper element\n",
    "    prdvec = merge.Multiply()([usr_lt, itm_lt])\n",
    "    \n",
    "    # Final prd layer\n",
    "    prd = Dense(1, activation=actv, kernel_initializer=intt, name = nem)(prdvec)\n",
    "    #retutn md = model\n",
    "    md = Model(inputs=[usr_p, itm_input], outputs=prd)\n",
    "    \n",
    "    return md\n",
    "\n",
    "# create the recall function\n",
    "def rc(y_rl, y_p):\n",
    "    tp = Q.sum(Q.round(Q.clip(y_rl * y_p, 0, 1)))\n",
    "    pos_pt = Q.sum(Q.round(Q.clip(y_rl, 0, 1)))\n",
    "    rc = tp / (pos_pt + Q.epsilon())\n",
    "    return rc\n",
    "\n",
    "mdl = neural_network(n_usrs, num_of_movies, 50, regs = [0,0])"
   ]
  },
  {
   "cell_type": "code",
   "execution_count": 1061,
   "metadata": {},
   "outputs": [
    {
     "name": "stdout",
     "output_type": "stream",
     "text": [
      "Model: \"model_22\"\n",
      "__________________________________________________________________________________________________\n",
      "Layer (type)                    Output Shape         Param #     Connected to                     \n",
      "==================================================================================================\n",
      "user_input (InputLayer)         [(None, 1)]          0                                            \n",
      "__________________________________________________________________________________________________\n",
      "item_input (InputLayer)         [(None, 1)]          0                                            \n",
      "__________________________________________________________________________________________________\n",
      "user_mbds (Embedding)           (None, 1, 50)        36800       user_input[0][0]                 \n",
      "__________________________________________________________________________________________________\n",
      "itm_mbds (Embedding)            (None, 1, 50)        78050       item_input[0][0]                 \n",
      "__________________________________________________________________________________________________\n",
      "flatten_44 (Flatten)            (None, 50)           0           user_mbds[0][0]                  \n",
      "__________________________________________________________________________________________________\n",
      "flatten_45 (Flatten)            (None, 50)           0           itm_mbds[0][0]                   \n",
      "__________________________________________________________________________________________________\n",
      "multiply_22 (Multiply)          (None, 50)           0           flatten_44[0][0]                 \n",
      "                                                                 flatten_45[0][0]                 \n",
      "__________________________________________________________________________________________________\n",
      "prediction (Dense)              (None, 1)            51          multiply_22[0][0]                \n",
      "==================================================================================================\n",
      "Total params: 114,901\n",
      "Trainable params: 114,901\n",
      "Non-trainable params: 0\n",
      "__________________________________________________________________________________________________\n"
     ]
    }
   ],
   "source": [
    "model.summary()"
   ]
  },
  {
   "cell_type": "code",
   "execution_count": 1062,
   "metadata": {},
   "outputs": [
    {
     "data": {
      "image/png": "[encoded data removed]",
      "text/plain": [
       "<IPython.core.display.Image object>"
      ]
     },
     "execution_count": 1062,
     "metadata": {},
     "output_type": "execute_result"
    }
   ],
   "source": [
    "from keras.utils.vis_utils import plot_model\n",
    "plot_model(model, to_file='model_plot.png', show_shapes=True, show_layer_names=True)"
   ]
  },
  {
   "cell_type": "code",
   "execution_count": 1063,
   "metadata": {},
   "outputs": [],
   "source": [
    "#Output activation\n",
    "actv = 'sigmoid'\n",
    "#Intializer\n",
    "intt = 'lecun_uniform'\n",
    "#Layer name\n",
    "nem = 'prediction'\n",
    "#user input\n",
    "u_t = 'user_input'\n",
    "#item input\n",
    "i_p = 'item_input'"
   ]
  },
  {
   "cell_type": "code",
   "execution_count": 1064,
   "metadata": {},
   "outputs": [],
   "source": [
    "\n",
    "\n",
    "#usr_lt = user lt\n",
    "def neural_network(number_of_usrs, num_movies, ld, regs=[0,0]):\n",
    "    # model vars\n",
    "    #user_p = user input\n",
    "    usr_p = Input(shape=(1,), dtype='int64', name = u_t)\n",
    "    itm_input = Input(shape=(1,), dtype='int64', name = i_p)\n",
    "    #ld = lt dimension\n",
    "    #mbds = embeddings\n",
    "    #mbds_usrr = user embedding\n",
    "    mbds_usrr = Embedding(input_dim = number_of_usrs, output_dim = ld, name = 'user_mbds', \n",
    "                                  embeddings_regularizer = l2(regs[0]), input_length=1)\n",
    "    #mbds_itm = item emdeddings \n",
    "    mbds_itm = Embedding(input_dim = num_movies, output_dim = ld, name = 'itm_mbds',\n",
    "                                  embeddings_regularizer = l2(regs[1]), input_length=1)   \n",
    "    \n",
    "    # essential to define an embedding vector!\n",
    "    usr_lt = Flatten()(mbds_usrr(usr_p))\n",
    "    itm_lt = Flatten()(mbds_itm(itm_input))\n",
    "    \n",
    "    # user-itm embedding productper element\n",
    "    prdvec = merge.Multiply()([usr_lt, itm_lt])\n",
    "    \n",
    "    # Final prd layer\n",
    "    prd = Dense(1, activation=actv, kernel_initializer=intt, name = nem)(prdvec)\n",
    "    #retutn md = model\n",
    "    md = Model(inputs=[usr_p, itm_input], outputs=prd)\n",
    "    \n",
    "    return md\n",
    "\n",
    "\n",
    "# create the model\n",
    "def rc(yt, yp):\n",
    "    tp = K.sum(K.round(K.clip(yt * yp, 0, 1)))\n",
    "    pos_pt = K.sum(K.round(K.clip(yt, 0, 1)))\n",
    "    recall = tp / (pos_pt + K.epsilon())\n",
    "    return recall\n",
    "\n",
    "mdl = neural_network(n_usrs, num_of_movies, 50, regs = [0,0])\n",
    "\n",
    "mdl.compile(optimizer=RMSprop(lr=0.001), metrics = ['accuracy', rc],  loss='binary_crossentropy')"
   ]
  },
  {
   "cell_type": "code",
   "execution_count": 1065,
   "metadata": {},
   "outputs": [
    {
     "name": "stdout",
     "output_type": "stream",
     "text": [
      "Epoch 1/20\n",
      "1/1 [==============================] - 1s 1s/step - loss: 0.6931 - accuracy: 0.5013 - rc: 0.5007 - val_loss: 0.6921 - val_accuracy: 0.8328 - val_rc: 1.0000\n",
      "Epoch 2/20\n",
      "1/1 [==============================] - 0s 47ms/step - loss: 0.6920 - accuracy: 0.8363 - rc: 1.0000 - val_loss: 0.6913 - val_accuracy: 0.8328 - val_rc: 1.0000\n",
      "Epoch 3/20\n",
      "1/1 [==============================] - 0s 60ms/step - loss: 0.6912 - accuracy: 0.8363 - rc: 1.0000 - val_loss: 0.6907 - val_accuracy: 0.8328 - val_rc: 1.0000\n",
      "Epoch 4/20\n",
      "1/1 [==============================] - 0s 72ms/step - loss: 0.6906 - accuracy: 0.8363 - rc: 1.0000 - val_loss: 0.6901 - val_accuracy: 0.8328 - val_rc: 1.0000\n",
      "Epoch 00004: early stopping\n",
      "1/1 [==============================] - 0s 285ms/step - loss: 0.6886 - accuracy: 1.0000 - rc: 1.0000\n",
      "tst Loss: 0.6886173486709595   |   tst Recall: 1.0\n"
     ]
    }
   ],
   "source": [
    "# trn the Model\n",
    "early_stop = EarlyStopping(monitor='val_loss', min_delta=0.01, patience=3, verbose=1)\n",
    "h =  mdl.fit([X[:,0], X[:,1]], X[:,2], batch_size=150000, epochs=20, validation_split = 0.1, verbose=1, callbacks = [early_stop])\n",
    "score = mdl.evaluate([tstx['userId'].cat.codes.values, tstx['movieId'].cat.codes.values], np.ones(tstx.shape[0]), verbose=1, batch_size=100000)\n",
    "print(f'tst Loss: {score[0]}   |   tst Recall: {score[1]}')"
   ]
  },
  {
   "cell_type": "code",
   "execution_count": null,
   "metadata": {},
   "outputs": [],
   "source": []
  },
  {
   "cell_type": "code",
   "execution_count": 1066,
   "metadata": {},
   "outputs": [
    {
     "data": {
      "image/png": "[encoded data removed]",
      "text/plain": [
       "<Figure size 1152x288 with 2 Axes>"
      ]
     },
     "metadata": {
      "needs_background": "light"
     },
     "output_type": "display_data"
    }
   ],
   "source": [
    "# Plot it\n",
    "import matplotlib.pyplot as p\n",
    "fig, (axis1,axis2) = p.subplots(1,2, figsize=(16,4))\n",
    "axis1.plot(h.history['loss'])\n",
    "axis1.plot(h.history['val_loss'])\n",
    "axis1.set_title('Loss')\n",
    "axis1.legend(['trn', 'tst'], loc='upper left')\n",
    "axis2.plot(h.history['rc'])\n",
    "axis2.plot(h.history['val_rc'])\n",
    "axis2.set_title('Model Recall Per Epoch')\n",
    "axis2.legend(['trn', 'tst'], loc='upper left')\n",
    "p.show()"
   ]
  },
  {
   "cell_type": "code",
   "execution_count": 1068,
   "metadata": {},
   "outputs": [
    {
     "name": "stdout",
     "output_type": "stream",
     "text": [
      "Implementing bit : 1/10\n",
      "3/3 [==============================] - 0s 17ms/step\n",
      "Implementing bit : 2/10\n",
      "3/3 [==============================] - 0s 17ms/step\n",
      "Implementing bit : 3/10\n",
      "3/3 [==============================] - 0s 13ms/step\n",
      "Implementing bit : 4/10\n",
      "3/3 [==============================] - 0s 24ms/step\n",
      "Implementing bit : 5/10\n",
      "3/3 [==============================] - 0s 12ms/step\n",
      "Implementing bit : 6/10\n",
      "3/3 [==============================] - 0s 22ms/step\n",
      "Implementing bit : 7/10\n",
      "3/3 [==============================] - 0s 20ms/step\n",
      "Implementing bit : 8/10\n",
      "3/3 [==============================] - 0s 19ms/step\n",
      "Implementing bit : 9/10\n",
      "3/3 [==============================] - 0s 21ms/step\n",
      "Implementing bit : 10/10\n",
      "3/3 [==============================] - 0s 13ms/step\n",
      "N_C_F MPR: 0.49824\n",
      "N_C_F Model Recall rate: 0.50725\n"
     ]
    }
   ],
   "source": [
    "\n",
    "# compute MPR\n",
    "# we implement per bit to handle memory issues\n",
    "user_index = tstx['userId'].cat.codes.values\n",
    "movie_index = tstx['movieId'].cat.codes.values\n",
    "number_of_bits = 10\n",
    "bits = np.array_split(np.arange(n_usrs), number_of_bits)\n",
    "rs = []\n",
    "prev_mx = 0\n",
    "for i,indexx in enumerate(bits):\n",
    "    print(f'Implementing bit : {i+1}/{number_of_bits}')\n",
    "    cross_mvId = np.transpose([np.tile(np.arange(num_of_movies), len(indexx)), np.repeat(indexx, len(np.arange(num_of_movies)))])\n",
    "    score = mdl.predict([cross_mvId[:,1], cross_mvId[:,0]], batch_size=50000, verbose=1).reshape(indexx.shape[0], num_of_movies)\n",
    "    score = (-score).argsort() / score.shape[1]\n",
    "    sel = (user_index >= indexx.min()) & (user_index <= indexx.max())\n",
    "    bit_score = np.asarray(score[user_index[sel] - prev_mx, movie_index[sel]]).reshape(-1)\n",
    "    rs.append(bit_score)\n",
    "    prev_mx = indexx.max() + 1\n",
    "mpr_N_C_F = np.concatenate(rs).sum()/len(tstx)\n",
    "print(f'N_C_F MPR: {mpr_N_C_F:.5f}')\n",
    "rc_deep_reac = (np.concatenate(rs) < 0.5).sum()/len(tstx)\n",
    "print(f'N_C_F Model Recall rate: {rc_deep_reac:.5f}')"
   ]
  },
  {
   "cell_type": "code",
   "execution_count": 1069,
   "metadata": {},
   "outputs": [
    {
     "data": {
      "text/html": [
       "<div>\n",
       "<style scoped>\n",
       "    .dataframe tbody tr th:only-of-type {\n",
       "        vertical-align: middle;\n",
       "    }\n",
       "\n",
       "    .dataframe tbody tr th {\n",
       "        vertical-align: top;\n",
       "    }\n",
       "\n",
       "    .dataframe thead th {\n",
       "        text-align: right;\n",
       "    }\n",
       "</style>\n",
       "<table border=\"1\" class=\"dataframe\">\n",
       "  <thead>\n",
       "    <tr style=\"text-align: right;\">\n",
       "      <th></th>\n",
       "      <th>userId</th>\n",
       "      <th>Recommended movieId</th>\n",
       "    </tr>\n",
       "  </thead>\n",
       "  <tbody>\n",
       "    <tr>\n",
       "      <th>4160</th>\n",
       "      <td>00be0326d6</td>\n",
       "      <td>520</td>\n",
       "    </tr>\n",
       "    <tr>\n",
       "      <th>5894</th>\n",
       "      <td>00be0326d6</td>\n",
       "      <td>1173</td>\n",
       "    </tr>\n",
       "    <tr>\n",
       "      <th>12344</th>\n",
       "      <td>00d8a48617</td>\n",
       "      <td>2788</td>\n",
       "    </tr>\n",
       "    <tr>\n",
       "      <th>7149</th>\n",
       "      <td>00d8a48617</td>\n",
       "      <td>1285</td>\n",
       "    </tr>\n",
       "    <tr>\n",
       "      <th>8742</th>\n",
       "      <td>00d8a48617</td>\n",
       "      <td>1938</td>\n",
       "    </tr>\n",
       "    <tr>\n",
       "      <th>21077</th>\n",
       "      <td>00d8a48617</td>\n",
       "      <td>4771</td>\n",
       "    </tr>\n",
       "    <tr>\n",
       "      <th>11524</th>\n",
       "      <td>00d8a48617</td>\n",
       "      <td>2694</td>\n",
       "    </tr>\n",
       "    <tr>\n",
       "      <th>10369</th>\n",
       "      <td>01da6d8da5</td>\n",
       "      <td>2357</td>\n",
       "    </tr>\n",
       "    <tr>\n",
       "      <th>2055</th>\n",
       "      <td>01da6d8da5</td>\n",
       "      <td>307</td>\n",
       "    </tr>\n",
       "    <tr>\n",
       "      <th>6726</th>\n",
       "      <td>01da6d8da5</td>\n",
       "      <td>1246</td>\n",
       "    </tr>\n",
       "  </tbody>\n",
       "</table>\n",
       "</div>"
      ],
      "text/plain": [
       "           userId Recommended movieId\n",
       "4160   00be0326d6                 520\n",
       "5894   00be0326d6                1173\n",
       "12344  00d8a48617                2788\n",
       "7149   00d8a48617                1285\n",
       "8742   00d8a48617                1938\n",
       "21077  00d8a48617                4771\n",
       "11524  00d8a48617                2694\n",
       "10369  01da6d8da5                2357\n",
       "2055   01da6d8da5                 307\n",
       "6726   01da6d8da5                1246"
      ]
     },
     "execution_count": 1069,
     "metadata": {},
     "output_type": "execute_result"
    }
   ],
   "source": [
    "#Make movie predictions using the deep learning model\n",
    "tst_pred['score'] = list(np.concatenate(rs))\n",
    "#Select the top 5 movieIds to recommend to a user\n",
    "tsf = tst_pred.sort_values(['score'],ascending=False).groupby('userId').head(5)\n",
    "tsf1 = tsf.sort_values('userId')\n",
    "tsf1 = tsf1[['userId', 'movieId']]\n",
    "tsf1.columns = ['userId', 'Recommended movieId']\n",
    "tsf1.head(10)"
   ]
  },
  {
   "cell_type": "markdown",
   "metadata": {},
   "source": [
    "#### Non-Negative Matrix Factorization"
   ]
  },
  {
   "cell_type": "code",
   "execution_count": 1070,
   "metadata": {},
   "outputs": [
    {
     "name": "stdout",
     "output_type": "stream",
     "text": [
      "Implementing bit : 1/30\n",
      "Implementing bit : 2/30\n",
      "Implementing bit : 3/30\n",
      "Implementing bit : 4/30\n",
      "Implementing bit : 5/30\n",
      "Implementing bit : 6/30\n",
      "Implementing bit : 7/30\n",
      "Implementing bit : 8/30\n",
      "Implementing bit : 9/30\n",
      "Implementing bit : 10/30\n",
      "Implementing bit : 11/30\n",
      "Implementing bit : 12/30\n",
      "Implementing bit : 13/30\n",
      "Implementing bit : 14/30\n",
      "Implementing bit : 15/30\n",
      "Implementing bit : 16/30\n",
      "Implementing bit : 17/30\n",
      "Implementing bit : 18/30\n",
      "Implementing bit : 19/30\n",
      "Implementing bit : 20/30\n",
      "Implementing bit : 21/30\n",
      "Implementing bit : 22/30\n",
      "Implementing bit : 23/30\n",
      "Implementing bit : 24/30\n",
      "Implementing bit : 25/30\n",
      "Implementing bit : 26/30\n",
      "Implementing bit : 27/30\n",
      "Implementing bit : 28/30\n",
      "Implementing bit : 29/30\n",
      "Implementing bit : 30/30\n",
      "NMF MPR 0.49897\n",
      "mdl Recall rate 0.51083\n"
     ]
    }
   ],
   "source": [
    "def nmf(dt, prd,mdl):\n",
    "    # normalize to obtain % significance to user\n",
    "    scaled_df = dt.multiply(1/dt.sum(axis=1)).tocsr()\n",
    "    S = mdl.fit_transform(scaled_df)\n",
    "    K = mdl.components_\n",
    "\n",
    "    # implement per bit to handle memory issues\n",
    "    user_index = prd['userId'].cat.codes.values\n",
    "    movie_index = prd['movieId'].cat.codes.values\n",
    "    number_of_bits = 30\n",
    "    bits = np.array_split(np.arange(S.shape[0]), number_of_bits)\n",
    "    #r = Results\n",
    "    r = []\n",
    "    prev_mx = 0\n",
    "    for i,indexx in enumerate(bits):\n",
    "        print(f'Implementing bit : {i+1}/{number_of_bits}')\n",
    "        scr = (S[indexx].dot(K))\n",
    "        scr = (-scr).argsort() / scr.shape[1]\n",
    "        sl = (user_index >= indexx.min()) & (user_index <= indexx.max())\n",
    "        bit_scr = np.asarray(scr[user_index[sl] - prev_mx, movie_index[sl]]).reshape(-1)\n",
    "        r.append(bit_scr)\n",
    "        prev_mx = indexx.max() + 1\n",
    "    return np.concatenate(r)\n",
    "\n",
    "Kk = 2\n",
    "\n",
    "# NMF\n",
    "#NNDSVD to handle sparsity\n",
    "mdl_nmf = NMF(n_components = Kk, init = 'nndsvd', max_iter = 1000, tol = 0.1, random_state = 1)\n",
    "Recommendations1 = nmf(trn_dt, tstx, mdl_nmf)\n",
    "mpr_Non_Negative_Matrix_Factorization = Recommendations1.sum()/len(tstx)\n",
    "print(f'NMF MPR', round(mpr_Non_Negative_Matrix_Factorization,5))\n",
    "rec_Non_Negative_Matrix_Factorization = (Recommendations1 < 0.5).sum()/len(tstx)\n",
    "print('mdl Recall rate', round(rec_Non_Negative_Matrix_Factorization,5))"
   ]
  }
 ],
 "metadata": {
  "kernelspec": {
   "display_name": "Python 3 (ipykernel)",
   "language": "python",
   "name": "python3"
  },
  "language_info": {
   "codemirror_mode": {
    "name": "ipython",
    "version": 3
   },
   "file_extension": ".py",
   "mimetype": "text/x-python",
   "name": "python",
   "nbconvert_exporter": "python",
   "pygments_lexer": "ipython3",
   "version": "3.8.10"
  }
 },
 "nbformat": 4,
 "nbformat_minor": 2
}
